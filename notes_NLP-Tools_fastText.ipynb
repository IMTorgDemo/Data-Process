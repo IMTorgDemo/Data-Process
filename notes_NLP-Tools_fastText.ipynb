{
 "cells": [
  {
   "cell_type": "markdown",
   "metadata": {},
   "source": [
    "Installation\n",
    "```\n",
    "$ git clone https://github.com/facebookresearch/fastText.git\n",
    "$ cd fastText\n",
    "$ pip install .\n",
    "```"
   ]
  },
  {
   "cell_type": "markdown",
   "metadata": {},
   "source": [
    "__References__\n",
    "\n",
    "* [RaRe tutorial notebook used here](https://github.com/RaRe-Technologies/gensim/blob/develop/docs/notebooks/FastText_Tutorial.ipynb)\n",
    "* [RaRe technologies - makers of gensim](https://github.com/RaRe-Technologies/gensim/tree/develop/docs/notebooks)\n",
    "* [Intro to gensim](https://radimrehurek.com/gensim/intro.html)\n",
    "* [Quora succinct explanation](https://www.quora.com/What-is-the-main-difference-between-word2vec-and-fastText)\n",
    "* [Facebook fastText repo](https://github.com/facebookresearch/fastText/#requirements)"
   ]
  },
  {
   "cell_type": "code",
   "execution_count": 1,
   "metadata": {},
   "outputs": [],
   "source": [
    "import pandas as pd\n",
    "pd.set_option('display.max_rows', 5)"
   ]
  },
  {
   "cell_type": "code",
   "execution_count": 2,
   "metadata": {},
   "outputs": [
    {
     "data": {
      "text/plain": [
       "5"
      ]
     },
     "execution_count": 2,
     "metadata": {},
     "output_type": "execute_result"
    }
   ],
   "source": [
    "pd.options.display.max_rows"
   ]
  },
  {
   "cell_type": "code",
   "execution_count": 4,
   "metadata": {},
   "outputs": [
    {
     "name": "stdout",
     "output_type": "stream",
     "text": [
      "Hundreds of people have been forced to vacate their homes in the Southern Highlands of New South Wales as strong winds today pushed a huge bushfire towards the town of Hill Top. A new blaze near Goulburn, south-west of Sydney, has forced the closure of the Hume Highway. At about 4:00pm AEDT, a marked deterioration in the weather as a storm cell moved east across the Blue Mountains forced authorities to make a decision to evacuate people from homes in outlying streets at Hill Top in the New South"
     ]
    }
   ],
   "source": [
    "! FILE='/opt/conda/lib/python3.7/site-packages/gensim/test/test_data/lee_background.cor'; \\\n",
    "sed -n 1p ${FILE} | head -c 500"
   ]
  },
  {
   "cell_type": "code",
   "execution_count": 5,
   "metadata": {},
   "outputs": [
    {
     "name": "stdout",
     "output_type": "stream",
     "text": [
      "FastText(vocab=1762, size=100, alpha=0.025)\n"
     ]
    }
   ],
   "source": [
    "from gensim.models.fasttext import FastText as FT_gensim\n",
    "from gensim.test.utils import datapath\n",
    "\n",
    "# Set file names for train and test data\n",
    "corpus_file = datapath('lee_background.cor')\n",
    "\n",
    "model_gensim = FT_gensim(size=100)\n",
    "\n",
    "# build the vocabulary\n",
    "model_gensim.build_vocab(corpus_file=corpus_file)\n",
    "\n",
    "# train the model\n",
    "model_gensim.train(\n",
    "    corpus_file=corpus_file, epochs=model_gensim.epochs,\n",
    "    total_examples=model_gensim.corpus_count, total_words=model_gensim.corpus_total_words\n",
    ")\n",
    "\n",
    "print(model_gensim)"
   ]
  },
  {
   "cell_type": "code",
   "execution_count": null,
   "metadata": {},
   "outputs": [],
   "source": [
    "# saving a model trained via Gensim's fastText implementation\n",
    "model_gensim.save('saved_model_gensim')\n",
    "loaded_model = FT_gensim.load('saved_model_gensim')\n",
    "print(loaded_model)"
   ]
  },
  {
   "cell_type": "code",
   "execution_count": 6,
   "metadata": {},
   "outputs": [
    {
     "name": "stdout",
     "output_type": "stream",
     "text": [
      "True\n",
      "False\n"
     ]
    }
   ],
   "source": [
    "print('night' in model_gensim.wv.vocab)\n",
    "print('nights' in model_gensim.wv.vocab)"
   ]
  },
  {
   "cell_type": "code",
   "execution_count": 7,
   "metadata": {},
   "outputs": [
    {
     "name": "stdout",
     "output_type": "stream",
     "text": [
      "[ 3.02392226e-02 -6.21297956e-01  5.88215828e-01 -2.50432882e-02\n",
      " -9.53542069e-02  3.79108250e-01  4.72763889e-02  2.19921142e-01\n",
      " -2.07267731e-01  3.76425415e-01 -3.64657551e-01  3.64133894e-01\n",
      " -2.80809999e-01 -2.39424944e-01 -3.28515828e-01 -1.12393454e-01\n",
      " -1.60692468e-01 -6.61114812e-01  4.17221010e-01  1.87709436e-01\n",
      " -4.95419390e-02 -2.66229749e-01  1.06365077e-01 -6.04175746e-01\n",
      " -2.38002241e-01 -6.59016669e-02 -4.53367025e-01  1.94207594e-01\n",
      "  1.27956688e-01 -1.76235005e-01 -2.91133523e-02 -5.58853030e-01\n",
      " -2.86314636e-01  4.03854728e-01  1.01799774e+00 -7.43042454e-02\n",
      " -4.69729155e-01 -3.42207521e-01 -3.85300934e-01  8.14097747e-02\n",
      " -7.37527788e-01 -6.83626980e-02 -4.45275664e-01  2.06199825e-01\n",
      "  2.04998702e-01 -1.00169554e-01  3.41434509e-01 -1.94936663e-01\n",
      " -5.22109449e-01  5.25017083e-01 -2.29641050e-01  7.12306947e-02\n",
      " -3.45147341e-01 -3.47071946e-01 -2.47467477e-02  6.84074461e-02\n",
      " -4.51964110e-01 -1.42093543e-02  2.82373708e-02 -1.47072628e-01\n",
      "  1.96731046e-01 -5.05950630e-01  1.68052331e-01 -1.67158812e-01\n",
      "  6.95751905e-02 -1.81711525e-01 -4.05653477e-01 -3.50604236e-01\n",
      " -4.30254757e-01 -1.57281667e-01 -1.45132169e-01 -2.21600786e-01\n",
      " -2.30746761e-01  5.39506555e-01  3.26673151e-03 -3.18269767e-02\n",
      " -6.45298138e-02  1.47185072e-01  4.53240603e-01  4.04203713e-01\n",
      "  5.32425416e-04  6.76480234e-01 -2.89169192e-01  6.46096841e-02\n",
      " -3.08628917e-01  3.64554018e-01  4.51273844e-02 -3.83716553e-01\n",
      "  5.08694053e-01 -1.37761403e-02  4.37939137e-01 -2.26906553e-01\n",
      "  2.09994957e-01 -7.96701312e-01 -6.40455365e-01 -2.47330323e-01\n",
      " -2.04697266e-01 -2.88991332e-01 -3.92875336e-02 -1.75982013e-01]\n"
     ]
    },
    {
     "name": "stderr",
     "output_type": "stream",
     "text": [
      "/opt/conda/lib/python3.7/site-packages/ipykernel_launcher.py:1: DeprecationWarning: Call to deprecated `__getitem__` (Method will be removed in 4.0.0, use self.wv.__getitem__() instead).\n",
      "  \"\"\"Entry point for launching an IPython kernel.\n"
     ]
    }
   ],
   "source": [
    "print(model_gensim['night'])"
   ]
  },
  {
   "cell_type": "code",
   "execution_count": 8,
   "metadata": {},
   "outputs": [
    {
     "name": "stdout",
     "output_type": "stream",
     "text": [
      "[ 2.73815766e-02 -5.76783538e-01  5.47451675e-01 -2.03676801e-02\n",
      " -8.96775723e-02  3.50036055e-01  4.45766784e-02  2.04973102e-01\n",
      " -1.93165079e-01  3.52447063e-01 -3.36603612e-01  3.35392237e-01\n",
      " -2.61315823e-01 -2.22529158e-01 -3.05473834e-01 -1.03741474e-01\n",
      " -1.50353074e-01 -6.15058064e-01  3.88727307e-01  1.75114125e-01\n",
      " -4.63238880e-02 -2.46018752e-01  9.82075706e-02 -5.60712218e-01\n",
      " -2.20386311e-01 -6.00378811e-02 -4.22511190e-01  1.81272671e-01\n",
      "  1.18900359e-01 -1.61747918e-01 -2.87383758e-02 -5.18806577e-01\n",
      " -2.67347306e-01  3.76360059e-01  9.45483804e-01 -6.91659898e-02\n",
      " -4.37582463e-01 -3.17368418e-01 -3.56905162e-01  7.71079808e-02\n",
      " -6.83531284e-01 -6.28698766e-02 -4.13264990e-01  1.91327035e-01\n",
      "  1.90386489e-01 -9.24587920e-02  3.16662818e-01 -1.78655520e-01\n",
      " -4.86538321e-01  4.86373633e-01 -2.12037891e-01  6.56346604e-02\n",
      " -3.20957690e-01 -3.19698840e-01 -2.36785486e-02  6.35699928e-02\n",
      " -4.19455618e-01 -1.29103912e-02  2.45727468e-02 -1.35962263e-01\n",
      "  1.83441773e-01 -4.69187915e-01  1.57539248e-01 -1.53265804e-01\n",
      "  6.44951984e-02 -1.68558240e-01 -3.77713472e-01 -3.24512124e-01\n",
      " -3.97248805e-01 -1.47127271e-01 -1.33905560e-01 -2.07329661e-01\n",
      " -2.16386437e-01  5.01795352e-01  1.40094059e-03 -2.87657622e-02\n",
      " -6.08798601e-02  1.36805639e-01  4.24125135e-01  3.75795603e-01\n",
      "  7.64108845e-04  6.28025413e-01 -2.72296220e-01  5.66911511e-02\n",
      " -2.87647039e-01  3.38835627e-01  4.06438299e-02 -3.55965108e-01\n",
      "  4.72533852e-01 -1.26929441e-02  4.06597614e-01 -2.11256996e-01\n",
      "  1.94448248e-01 -7.39384592e-01 -5.97254276e-01 -2.30595738e-01\n",
      " -1.90700531e-01 -2.67825097e-01 -3.63373943e-02 -1.63771629e-01]\n"
     ]
    },
    {
     "name": "stderr",
     "output_type": "stream",
     "text": [
      "/opt/conda/lib/python3.7/site-packages/ipykernel_launcher.py:1: DeprecationWarning: Call to deprecated `__getitem__` (Method will be removed in 4.0.0, use self.wv.__getitem__() instead).\n",
      "  \"\"\"Entry point for launching an IPython kernel.\n"
     ]
    }
   ],
   "source": [
    "print(model_gensim['nights'])"
   ]
  },
  {
   "cell_type": "code",
   "execution_count": 10,
   "metadata": {},
   "outputs": [
    {
     "data": {
      "text/plain": [
       "59890"
      ]
     },
     "execution_count": 10,
     "metadata": {},
     "output_type": "execute_result"
    }
   ],
   "source": [
    "print( model_gensim.corpus_total_words )\n",
    "model_gensim.cum_table"
   ]
  },
  {
   "cell_type": "code",
   "execution_count": 14,
   "metadata": {},
   "outputs": [
    {
     "data": {
      "text/plain": [
       "{'vocab': 881000,\n",
       " 'syn0_vocab': 704800,\n",
       " 'syn1neg': 704800,\n",
       " 'syn0_ngrams': 6774400,\n",
       " 'buckets_word': 346496,\n",
       " 'total': 9411496}"
      ]
     },
     "execution_count": 14,
     "metadata": {},
     "output_type": "execute_result"
    }
   ],
   "source": [
    "model_gensim.estimate_memory()"
   ]
  },
  {
   "cell_type": "code",
   "execution_count": null,
   "metadata": {},
   "outputs": [],
   "source": [
    "# Tests if word present in vocab\n",
    "print(\"word\" in model_wrapper.wv.vocab)\n",
    "# Tests if vector present for word\n",
    "print(\"word\" in model_wrapper)"
   ]
  },
  {
   "cell_type": "code",
   "execution_count": 17,
   "metadata": {},
   "outputs": [
    {
     "name": "stderr",
     "output_type": "stream",
     "text": [
      "/opt/conda/lib/python3.7/site-packages/ipykernel_launcher.py:1: DeprecationWarning: Call to deprecated `most_similar` (Method will be removed in 4.0.0, use self.wv.most_similar() instead).\n",
      "  \"\"\"Entry point for launching an IPython kernel.\n"
     ]
    },
    {
     "data": {
      "text/plain": [
       "[('fight', 0.9999890923500061),\n",
       " ('night.', 0.9999887347221375),\n",
       " ('light', 0.9999877214431763),\n",
       " ('fighter', 0.9999872446060181),\n",
       " ('might', 0.9999871850013733),\n",
       " ('overnight', 0.9999868869781494),\n",
       " ('fighters', 0.9999866485595703),\n",
       " ('fighting', 0.9999857544898987),\n",
       " ('eight', 0.9999848008155823),\n",
       " ('night,', 0.999984622001648)]"
      ]
     },
     "execution_count": 17,
     "metadata": {},
     "output_type": "execute_result"
    }
   ],
   "source": [
    "model_gensim.most_similar(['night'])"
   ]
  },
  {
   "cell_type": "code",
   "execution_count": 22,
   "metadata": {},
   "outputs": [
    {
     "name": "stderr",
     "output_type": "stream",
     "text": [
      "/opt/conda/lib/python3.7/site-packages/ipykernel_launcher.py:1: DeprecationWarning: Call to deprecated `similar_by_word` (Method will be removed in 4.0.0, use self.wv.similar_by_word() instead).\n",
      "  \"\"\"Entry point for launching an IPython kernel.\n"
     ]
    },
    {
     "data": {
      "text/plain": [
       "[('night,', 0.9991105198860168),\n",
       " ('firm', 0.9990448355674744),\n",
       " ('built', 0.9990408420562744),\n",
       " ('summit', 0.9990309476852417),\n",
       " ('bomb', 0.9990290403366089),\n",
       " ('guilty', 0.9990273118019104),\n",
       " ('against', 0.9990243911743164),\n",
       " ('Gillespie', 0.9990242719650269),\n",
       " ('hours,', 0.9990205764770508),\n",
       " ('scored', 0.9990161657333374)]"
      ]
     },
     "execution_count": 22,
     "metadata": {},
     "output_type": "execute_result"
    }
   ],
   "source": [
    "model_gensim.similar_by_word('night, owl')"
   ]
  },
  {
   "cell_type": "code",
   "execution_count": 27,
   "metadata": {},
   "outputs": [
    {
     "name": "stderr",
     "output_type": "stream",
     "text": [
      "/opt/conda/lib/python3.7/site-packages/ipykernel_launcher.py:1: DeprecationWarning: Call to deprecated `similar_by_vector` (Method will be removed in 4.0.0, use self.wv.similar_by_vector() instead).\n",
      "  \"\"\"Entry point for launching an IPython kernel.\n"
     ]
    },
    {
     "data": {
      "text/plain": [
       "[('1999', 0.9979867935180664),\n",
       " ('area,', 0.9978424906730652),\n",
       " ('walk', 0.9978353977203369),\n",
       " (\"he's\", 0.9978049397468567),\n",
       " ('create', 0.9978022575378418),\n",
       " ('Hobart', 0.9977971315383911),\n",
       " ('Home', 0.9977955222129822),\n",
       " ('growth', 0.9977902173995972),\n",
       " ('Emergency', 0.9977893829345703),\n",
       " ('Musharraf', 0.9977880120277405)]"
      ]
     },
     "execution_count": 27,
     "metadata": {},
     "output_type": "execute_result"
    }
   ],
   "source": [
    "model_gensim.similar_by_vector([0.9991105198860168,0.9990448355674744])"
   ]
  },
  {
   "cell_type": "code",
   "execution_count": null,
   "metadata": {},
   "outputs": [],
   "source": [
    "model_gensim.similarity(\"night\", \"nights\")"
   ]
  },
  {
   "cell_type": "code",
   "execution_count": null,
   "metadata": {},
   "outputs": [],
   "source": [
    "model_gensim.n_similarity(['sushi', 'shop'], ['japanese', 'restaurant'])"
   ]
  },
  {
   "cell_type": "code",
   "execution_count": null,
   "metadata": {},
   "outputs": [],
   "source": [
    "model_gensim.doesnt_match(\"breakfast cereal dinner lunch\".split())"
   ]
  },
  {
   "cell_type": "code",
   "execution_count": null,
   "metadata": {},
   "outputs": [],
   "source": [
    "model_gensim.most_similar(positive=['baghdad', 'england'], negative=['london'])"
   ]
  },
  {
   "cell_type": "code",
   "execution_count": 28,
   "metadata": {},
   "outputs": [
    {
     "ename": "ModuleNotFoundError",
     "evalue": "No module named 'nltk'",
     "output_type": "error",
     "traceback": [
      "\u001b[0;31m---------------------------------------------------------------------------\u001b[0m",
      "\u001b[0;31mModuleNotFoundError\u001b[0m                       Traceback (most recent call last)",
      "\u001b[0;32m<ipython-input-28-dae138701b8a>\u001b[0m in \u001b[0;36m<module>\u001b[0;34m\u001b[0m\n\u001b[0;32m----> 1\u001b[0;31m \u001b[0;32mfrom\u001b[0m \u001b[0mnltk\u001b[0m\u001b[0;34m.\u001b[0m\u001b[0mcorpus\u001b[0m \u001b[0;32mimport\u001b[0m \u001b[0mstopwords\u001b[0m\u001b[0;34m\u001b[0m\u001b[0;34m\u001b[0m\u001b[0m\n\u001b[0m",
      "\u001b[0;31mModuleNotFoundError\u001b[0m: No module named 'nltk'"
     ]
    }
   ],
   "source": [
    "from nltk.corpus import stopwords"
   ]
  },
  {
   "cell_type": "code",
   "execution_count": null,
   "metadata": {},
   "outputs": [],
   "source": [
    "# Word Movers distance\n",
    "sentence_obama = 'Obama speaks to the media in Illinois'.lower().split()\n",
    "sentence_president = 'The president greets the press in Chicago'.lower().split()\n",
    "\n",
    "# Remove their stopwords.\n",
    "from nltk.corpus import stopwords\n",
    "stopwords = stopwords.words('english')\n",
    "sentence_obama = [w for w in sentence_obama if w not in stopwords]\n",
    "sentence_president = [w for w in sentence_president if w not in stopwords]\n",
    "\n",
    "# Compute WMD.\n",
    "distance = model_gensim.wmdistance(sentence_obama, sentence_president)\n",
    "distance"
   ]
  }
 ],
 "metadata": {
  "kernelspec": {
   "display_name": "Python 3",
   "language": "python",
   "name": "python3"
  },
  "language_info": {
   "codemirror_mode": {
    "name": "ipython",
    "version": 3
   },
   "file_extension": ".py",
   "mimetype": "text/x-python",
   "name": "python",
   "nbconvert_exporter": "python",
   "pygments_lexer": "ipython3",
   "version": "3.7.3"
  }
 },
 "nbformat": 4,
 "nbformat_minor": 2
}
