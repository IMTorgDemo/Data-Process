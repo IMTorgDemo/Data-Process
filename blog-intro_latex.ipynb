{
 "cells": [
  {
   "cell_type": "markdown",
   "metadata": {},
   "source": [
    "# Introduction to LaTeX\n",
    "Date: 2019-07-05  \n",
    "Author: Jason Beach\n",
    "Categories: Mathematics, Logic  \n",
    "Tags: visualization, tag2, tag3  \n",
    "<!--eofm-->"
   ]
  },
  {
   "cell_type": "markdown",
   "metadata": {},
   "source": [
    "LaTeX is the document preparation and typesetting system used for scientific publications.  LaTeX is based on the idea that 'it is better to leave document design to document designers', so the user can focus on the content. It requires a greater technical understanding than typical simple note-taking systems; however, because it is incredibly descriptive and produces aesthetically-appealing output, it is becoming more popular.  This post provides a reference to configuration and syntax."
   ]
  },
  {
   "cell_type": "markdown",
   "metadata": {},
   "source": [
    "## LaTeX Beginnings\n",
    "\n",
    "Tex is the actual low-level language created by Donald Knuth in 1978.  Leslie Lamport created an alternative, high-level, macro file called lplain (“l” for Lamport), with a set of much-easier-to-use commands.  The latex script ran the macros, first, then compiled the Tex language and outputs to a PostScript file that another program converts to a document.  This evolved into the LaTeX program.   \n",
    "\n",
    "The [LaTeX site](https://www.latex-project.org/) provides the open source software distribution that compiles your LaTeX markup.  Getting this set-up and using it can be quite involved and most workflows don't allow for such complexities.\n",
    "\n",
    "Also, most users don't have to worry about becoming comfortable with the LaTeX markup.  There are many templates available, including:\n",
    "* [free boilerplates](http://mrzool.cc/tex-boilerplates/)\n",
    "* [free templates](http://www.latextemplates.com/)\n",
    "* [some commercial](https://www.overleaf.com/gallery/tagged/book).  \n",
    "\n",
    "Large journal publications provide their own templates for document preparation, such as [IEEE](http://www.latextemplates.com/template/ieee).  However, some users may want to customize their own output.  An example document could include the following.\n",
    "\n",
    "```\n",
    "\\begin{document}\n",
    "  \\begin{environment1}\n",
    "    \\begin{environment2}\n",
    "    \\end{environment2}\n",
    "  \\end{environment1}\n",
    "\\end{document}\n",
    "```\n",
    "\n",
    "There is an interesting [post](https://olivierpieters.be/blog/2017/02/11/designing-a-business-card-in-latex) describing how to create a business card in LaTeX.  This is ridiculous!  For more graphic-intensive work there are much better options, such Photoshop or even PowerPoint.  For more information, look into [latex tutorial](https://www.latex-tutorial.com/)."
   ]
  },
  {
   "cell_type": "markdown",
   "metadata": {},
   "source": [
    "## Typical Usage\n",
    "\n",
    "### Jupyter\n",
    "\n",
    "More commonly, simple snippets or blocks of LaTeX are used within common markdown or HTML to display mathematical text or special symbols.  [Pandoc](https://pandoc.org/) can be used to convert simple markdown into other formats, including a PDF file with LaTeX.  \n",
    "\n",
    "Jupyter notebook uses [MathJax](https://www.mathjax.org/) to render LaTeX inside html/markdown. Just put your LaTeX math inside `$`.\n",
    "\n",
    "The inline notation `$c = \\sqrt{a^2 + b^2}$` becomes: $c = \\sqrt{a^2 + b^2}$\n",
    "\n",
    "The display mode notation `$$c = \\sqrt{a^2 + b^2}$$` becomes:\n",
    "\n",
    "$$c = \\sqrt{a^2 + b^2}$$\n",
    "\n",
    "Or place it in an individual cell."
   ]
  },
  {
   "cell_type": "code",
   "execution_count": 2,
   "metadata": {},
   "outputs": [
    {
     "data": {
      "text/latex": [
       "$\\displaystyle F(k) = \\int_{-\\infty}^{\\infty} f(x) e^{2\\pi i k} dx$"
      ],
      "text/plain": [
       "<IPython.core.display.Math object>"
      ]
     },
     "execution_count": 2,
     "metadata": {},
     "output_type": "execute_result"
    }
   ],
   "source": [
    "from IPython.display import Math\n",
    "Math(r'F(k) = \\int_{-\\infty}^{\\infty} f(x) e^{2\\pi i k} dx')"
   ]
  },
  {
   "cell_type": "markdown",
   "metadata": {},
   "source": [
    "You can enter latex directly with the %%latex cell magic, within a Markdown cell:\n",
    "```\n",
    "%%latex\n",
    "\\begin{aligned}\n",
    "\\nabla \\times \\vec{\\mathbf{B}} -\\, \\frac1c\\, \\frac{\\partial\\vec{\\mathbf{E}}}{\\partial t} & = \\frac{4\\pi}{c}\\vec{\\mathbf{j}} \\\\\n",
    "\\nabla \\cdot \\vec{\\mathbf{E}} & = 4 \\pi \\rho \\\\\n",
    "\\nabla \\times \\vec{\\mathbf{E}}\\, +\\, \\frac1c\\, \\frac{\\partial\\vec{\\mathbf{B}}}{\\partial t} & = \\vec{\\mathbf{0}} \\\\\n",
    "\\nabla \\cdot \\vec{\\mathbf{B}} & = 0\n",
    "\\end{aligned}\n",
    "```"
   ]
  },
  {
   "cell_type": "markdown",
   "metadata": {},
   "source": [
    "%%latex\n",
    "\\begin{aligned}\n",
    "\\nabla \\times \\vec{\\mathbf{B}} -\\, \\frac1c\\, \\frac{\\partial\\vec{\\mathbf{E}}}{\\partial t} & = \\frac{4\\pi}{c}\\vec{\\mathbf{j}} \\\\\n",
    "\\nabla \\cdot \\vec{\\mathbf{E}} & = 4 \\pi \\rho \\\\\n",
    "\\nabla \\times \\vec{\\mathbf{E}}\\, +\\, \\frac1c\\, \\frac{\\partial\\vec{\\mathbf{B}}}{\\partial t} & = \\vec{\\mathbf{0}} \\\\\n",
    "\\nabla \\cdot \\vec{\\mathbf{B}} & = 0\n",
    "\\end{aligned}"
   ]
  },
  {
   "cell_type": "markdown",
   "metadata": {},
   "source": [
    "### MathJax\n",
    "\n",
    "__Superscripts and Subscripts__, use ^ and _. For example\n",
    "\n",
    "* `x_i^2`: $x_i^2$\n",
    "* `\\log_2 x`: $\\log_2 x$"
   ]
  },
  {
   "cell_type": "markdown",
   "metadata": {},
   "source": [
    "__Groups, Superscripts, Subscripts, and other operations__ apply only to the next “group”. A “group” is either a single symbol, or any formula surrounded by curly braces {…}. If you do `10^10`, you will get a surprise: 1010\n",
    "\n",
    "But `10^{10}` gives what you probably wanted: $10^{10}$. Use curly braces to delimit a formula to which a superscript or subscript applies: \n",
    "* `x^5^6` is an error\n",
    "* `{x^y}^z` is ${x^y}^z$\n",
    "* `x^{y^z}` is $x^{y^z}$ \n",
    "\n",
    "Observe the difference between `x_i^2` $x_i^2$ and `x_{i^2}` $x_{i^2}$"
   ]
  },
  {
   "cell_type": "markdown",
   "metadata": {},
   "source": [
    "__Parentheses and Ordinary symbols__ ()[] make parentheses and brackets $(2+3)[4+4]$ Use `\\{` and `\\}` for curly braces $\\{\\}$\n",
    "\n",
    "These do not scale with the formula in between, so if you write `(\\frac{\\sqrt x}{y^3})` the parentheses will be too small: $(\\frac{\\sqrt x}{y^3})$\n",
    "\n",
    "Using `\\left`(…\\right) will make the sizes adjust automatically to the formula they enclose: `\\left(\\frac{\\sqrt x}{y^3}\\right)` is $\\left(\\frac{\\sqrt x}{y^3}\\right)$\n",
    "\n",
    "`\\left` and `\\right` apply to all the following sorts of parentheses: \n",
    "* `( )` $(𝑥)$\n",
    "* `[ ]` $[𝑥]$\n",
    "* `\\{  \\}` $\\{𝑥\\}$\n",
    "* `|` $|𝑥|$\n",
    "* `\\vert` $\\vert x\\vert$\n",
    "* `\\Vert` $\\Vert x\\Vert$\n",
    "* `\\langle` and `\\rangle` $\\langle x \\rangle$\n",
    "* `\\lceil` and `\\rceil` $\\lceil x \\rceil$\n",
    "* `\\lfloor` and `\\rfloor` $\\lfloor x \\rfloor$\n",
    "* `\\middle` can be used to add additional dividers\n",
    "\n",
    "There are also invisible parentheses, denoted by `.`: `\\left.\\frac12\\right\\rbrace` is $\\left.\\frac12\\right\\rbrace$\n",
    "\n",
    "If manual size adjustments are required: `\\Biggl(\\biggl(\\Bigl(\\bigl((x)\\bigr)\\Bigr)\\biggr)\\Biggr)` gives $\\Biggl(\\biggl(\\Bigl(\\bigl((x)\\bigr)\\Bigr)\\biggr)\\Biggr)$"
   ]
  },
  {
   "cell_type": "markdown",
   "metadata": {},
   "source": [
    "__Sums and integrals__ `\\sum` and `\\int`; the subscript is the lower limit and the superscript is the upper limit, so for example `\\sum_1^n`  $\\sum_1^n$. Don't forget `{…}` if the limits are more than a single symbol. For example, `\\sum_{i=0}^\\infty i^2` is $\\sum_{i=0}^\\infty i^2$. Similarly, `\\prod` $\\prod$, `\\int` $\\int$, `\\bigcup` $\\bigcup$, `\\bigcap` $\\bigcap$, `\\iint` $\\iint$, `\\iiint` $\\iiint$, `\\idotsint` $\\idotsint$"
   ]
  },
  {
   "cell_type": "markdown",
   "metadata": {},
   "source": [
    "__Fractions__ There are three ways to make these. `\\frac ab` applies to the next two groups, and produces $\\frac ab$; for more complicated numerators and denominators use `{…}`: `\\frac{a+1}{b+1}` is $\\frac{a+1}{b+1}$. If the numerator and denominator are complicated, you may prefer `\\over`, which splits up the group that it is in: `{a+1\\over b+1}` is ${a+1\\over b+1}$. Using `\\cfrac{a}{b}` command is useful for continued fractions $\\cfrac{a}{b}$, more details for which are given in this sub-article."
   ]
  },
  {
   "cell_type": "markdown",
   "metadata": {},
   "source": [
    "__Radical signs__ use `sqrt`, which adjusts to the size of its argument: `\\sqrt{x^3}` $\\sqrt{x^3}$; `\\sqrt[3]{\\frac xy}` $\\sqrt[3]{\\frac xy}$. For complicated expressions, consider using `{...}^{1/2}` ${...}^{1/2}$ instead."
   ]
  },
  {
   "cell_type": "markdown",
   "metadata": {},
   "source": [
    "__Special functions__, such as \"lim\", \"sin\", \"max\", \"ln\", and so on are normally set in roman font instead of italic font. Use `\\lim` $\\lim$, `\\sin` $\\sin$, etc. to make these: `\\sin x` $\\sin x$, not `sin x` $sin x$. Use subscripts to attach a notation to `\\lim`: `\\lim_{x\\to 0}` $\\lim_{x\\to 0}$."
   ]
  },
  {
   "cell_type": "markdown",
   "metadata": {},
   "source": [
    "There are a very large number of special symbols and notations, too many to list here; see this [shorter listing](https://pic.plover.com/MISC/symbols.pdf), or this [exhaustive listing](http://mirrors.ibiblio.org/CTAN/info/symbols/comprehensive/symbols-a4.pdf). Some of the most common include: \n",
    "\n",
    "`\\lt \\gt \\le \\leq \\leqq \\leqslant` $\\lt \\gt \\le \\leq \\leqq \\leqslant$ \n",
    "\n",
    "`\\ge \\geq \\geqq \\geqslant \\neq` $\\ge \\geq \\geqq \\geqslant \\neq$\n",
    "    \n",
    "You can use `\\not` to put a slash through almost anything: `\\not\\lt` $\\not\\lt$, but it often looks bad.\n",
    "\n",
    "`\\times \\div \\pm \\mp` $\\times \\div \\pm \\mp$\n",
    "\n",
    "`\\cup \\cap \\setminus \\subset \\subseteq \\subsetneq \\supset` $\\cup \\cap \\setminus \\subset \\subseteq \\subsetneq \\supset$ \n",
    "\n",
    "`\\in \\notin \\emptyset \\varnothing` $\\in \\notin \\emptyset \\varnothing$\n",
    "\n",
    "`\\cdot` is a centered dot: $x \\cdot y$"
   ]
  },
  {
   "cell_type": "markdown",
   "metadata": {},
   "source": [
    "`{n+1 \\choose 2k}` ${n+1 \\choose 2k}$ or `\\binom{n+1}{2k}` $\\binom{n+1}{2k}$\n",
    "\n",
    "`\\to \\rightarrow \\leftarrow \\Rightarrow \\Leftarrow \\mapsto` $\\to \\rightarrow \\leftarrow \\Rightarrow \\Leftarrow \\mapsto$\n",
    "\n",
    "\n",
    "`\\land \\lor \\lnot \\forall \\exists \\top \\bot \\vdash \\vDash` $\\land \\lor \\lnot \\forall \\exists \\top \\bot \\vdash \\vDash$\n",
    "\n",
    "`\\star \\ast \\oplus \\circ \\bullet` $\\star \\ast \\oplus \\circ \\bullet$\n",
    "\n",
    "`\\approx \\sim \\simeq \\cong \\equiv \\prec \\lhd \\therefore` $\\approx \\sim \\simeq \\cong \\equiv \\prec \\lhd \\therefore$\n",
    "\n",
    "`\\infty \\aleph_0` $\\infty \\aleph_0$\n",
    "\n",
    "`\\nabla \\partial` $\\nabla \\partial$ `\\Im \\Re` $\\Im \\Re$"
   ]
  },
  {
   "cell_type": "markdown",
   "metadata": {},
   "source": [
    "For modular equivalence, use `\\pmod` like this: `a\\equiv b\\pmod n` $a\\equiv b\\pmod n$\n",
    "\n",
    "`\\ldots` is the dots in $a1,a2,\\ldots,an$\n",
    "\n",
    "`\\cdots` is the dots in $a1+a2+\\cdots+an$\n",
    "\n",
    "Some Greek letters have variant forms: `\\epsilon \\varepsilon` $\\epsilon$ $\\varepsilon$ and `\\phi` `\\varphi` $\\phi \\varphi$ and others\n",
    "\n",
    "Script lowercase `l` is $\\ell$"
   ]
  },
  {
   "cell_type": "markdown",
   "metadata": {},
   "source": [
    "__Formula to code__ can be done with [Detexify](http://detexify.kirelabs.org/classify.html) which lets you draw a symbol on a web page and then lists the 𝑇𝐸𝑋 symbols that seem to resemble it. These are not guaranteed to work in MathJax but are a good place to start. To check that a command is supported, note that MathJax.org maintains a list of currently supported 𝐿𝐴𝑇𝐸𝑋 commands, and one can also check Dr. Carol JVF Burns's page of 𝑇𝐸𝑋\n",
    "\n",
    "__Spaces__ MathJax usually decides for itself how to space formulas, using a complex set of rules. Putting extra literal spaces into formulas will not change the amount of space MathJax puts in: `a b` and `a    b` are both `ab`\n",
    "\n",
    "* To add more space: use `\\,` for a thin space $a\\,b$; and use`\\;` for a wider space $a\\;b$. `\\quad` and `\\qquad` are large spaces: $a \\quad b$ adn $a \\qquad b$\n",
    "* To set plain text, use `\\text{…}`: $\\{x\\in s\\mid x\\text{ is extra large}\\}$.  You can nest `$…$` inside of `\\text{…}`.\n",
    "* Accents and diacritical marks use `\\hat` for a single symbol $\\hat{x}$, `\\widehat` for a larger formula $\\hat{xy}$.  If you make it too wide, it will look silly.  Similarly, there are `\\bar` $\\bar{x}$ and `\\overline` $\\overline{xyz}$, and `\\vec` $\\vec{x}$  and `\\overrightarrow` $\\overrightarrow{xy}$ and `\\overleftrightarrow` $\\overleftrightarrow{xy}$. For dots, as in $\\frac d{dx}x\\dot x =  \\dot x^2 +  x\\ddot x$, use `\\dot` $\\dot$ and `\\ddot` $\\ddot$.\n",
    "* Special characters used for MathJax interpreting can be escaped using the `\\` character: `\\$` $\n",
    ", `\\{` {, `\\_` _, etc. If you want `\\` itself, you should use `\\backslash` $∖$, because `\\\\` is for a new line. "
   ]
  },
  {
   "cell_type": "markdown",
   "metadata": {},
   "source": [
    "## References\n",
    "\n",
    "To see how any formula was written in any question or answer, including this one, right-click on the expression it and choose \"Show Math As > TeX Commands\".\n",
    "\n",
    "This [small mathjax post](https://math.meta.stackexchange.com/questions/5020/mathjax-basic-tutorial-and-quick-reference) on stackexchange provided the best mathjax examples I've seen.  The [docs](https://docs.mathjax.org/en/latest/mathjax.html) are useful, but a bit wordy. \n",
    "\n",
    "The [wikipedia page](https://oeis.org/wiki/List_of_LaTeX_mathematical_symbols) provides some nice LaTeX references."
   ]
  },
  {
   "cell_type": "markdown",
   "metadata": {},
   "source": [
    "### Tables\n",
    "\n",
    "MathJax does not implement LaTeX tables."
   ]
  },
  {
   "cell_type": "markdown",
   "metadata": {},
   "source": [
    "%%latex\n",
    "\\begin{array}{|c|c|}\n",
    "\\hline X & P(X = i) \\\\\\hline\n",
    "  1 & 1/6 \\\\\\hline\n",
    "  2 & 1/6 \\\\\\hline\n",
    "  3 & 1/6 \\\\\\hline\n",
    "  4 & 1/6 \\\\\\hline\n",
    "  5 & 1/6 \\\\\\hline\n",
    "  6 & 1/6 \\\\\\hline\n",
    "\\end{array}"
   ]
  },
  {
   "cell_type": "markdown",
   "metadata": {},
   "source": [
    "### Greek letters"
   ]
  },
  {
   "cell_type": "markdown",
   "metadata": {},
   "source": [
    "%%latex\n",
    "\\begin{array}{|c|c|c|c|}\n",
    "\\hline\n",
    "\\alpha  &  \\theta  &  o  & \\tau          \\\\\\hline\n",
    "\\beta  &  \\vartheta &  \\pi  &  \\upsilon  \\\\\\hline\n",
    "\\gamma  &  \\gamma  &  \\varpi  & \\phi     \\\\\\hline\n",
    "\\delta  &  \\kappa  &  \\rho  &  \\varphi    \\\\\\hline\n",
    "\\epsilon  &  \\lambda  &   \\varrho  &   \\chi    \\\\\\hline\n",
    "\\varepsilon  &  \\mu  &  \\sigma   &   \\psi      \\\\\\hline\n",
    "\\zeta  &  \\nu  &  \\varsigma  &  \\omega      \\\\\\hline\n",
    "\\eta   &   \\xi  &  &   \\\\\\hline                                     \n",
    "\\end{array}                                                                  "
   ]
  },
  {
   "cell_type": "markdown",
   "metadata": {},
   "source": [
    "%%latex\n",
    "\\begin{array}{|c|c|c|c|}\n",
    "\\hline \n",
    "\\Gamma        &         \\Lambda       &        \\Sigma       &        \\Psi          \\\\\\hline\n",
    " \\Delta        &         \\Xi           &        \\Upsilon      &        \\Omega        \\\\\\hline\n",
    " \\Theta        &         \\Pi           &        \\Phi    & - \\\\\\hline\n",
    "\\end{array}"
   ]
  },
  {
   "cell_type": "markdown",
   "metadata": {},
   "source": [
    "### Notation"
   ]
  },
  {
   "cell_type": "markdown",
   "metadata": {},
   "source": [
    "%%latex\n",
    "\\begin{array}{|c|c|c|c|c|}\n",
    "\\hline \n",
    " \\hat{a}    &        \\acute{a}     &     \\bar{a}     &       \\dot{a}     &       \\breve{a}    \\\\\\hline\n",
    " \\check{a}   &        \\grave{a}     &     \\vec{a}     &       \\ddot{a}    &       \\tilde{a}    \\\\\\hline\n",
    "\\end{array}"
   ]
  },
  {
   "cell_type": "markdown",
   "metadata": {},
   "source": [
    "%%latex\n",
    "\\begin{array}{|c|c|}\n",
    "\\hline\n",
    "\\widetilde{abc}    &                 \\widehat{abc}    \\\\\\hline\n",
    " \\overleftarrow{abc}   &              \\overrightarrow{abc}    \\\\\\hline\n",
    " \\overline{abc}    &                  \\underline{abc}    \\\\\\hline\n",
    " \\overbrace{abc}   &                  \\underbrace{abc}    \\\\\\hline\n",
    " \\sqrt{abc}      &                    \\sqrt[n]{abc}    \\\\\\hline\n",
    " f'      &                          \\frac{abc}{xyz}    \\\\\\hline\n",
    " \\end{array}"
   ]
  },
  {
   "cell_type": "markdown",
   "metadata": {},
   "source": [
    "### Basic arrows and symbols "
   ]
  },
  {
   "cell_type": "markdown",
   "metadata": {},
   "source": [
    "%%latex\n",
    "\\begin{array}{|c|c|c|}\n",
    "\\hline\n",
    " \\leftarrow    &               \\longleftarrow       &        \\uparrow      \\\\\\hline\n",
    " \\Leftarrow    &                \\Longleftarrow      &         \\Uparrow      \\\\\\hline      \n",
    " \\rightarrow   &                \\longrightarrow     &         \\downarrow      \\\\\\hline    \n",
    " \\Rightarrow   &                \\Longrightarrow     &         \\Downarrow      \\\\\\hline    \n",
    " \\leftrightarrow  &             \\longleftrightarrow   &       \\updownarrow      \\\\\\hline  \n",
    " \\Leftrightarrow   &            \\Longleftrightarrow   &       \\Updownarrow      \\\\\\hline  \n",
    " \\mapsto         &              \\longmapsto         &         \\nearrow       \\\\\\hline     \n",
    " \\hookleftarrow   &             \\hookrightarrow      &        \\searrow       \\\\\\hline     \n",
    " \\leftharpoonup    &            \\rightharpoonup      &        \\swarrow       \\\\\\hline     \n",
    " \\leftharpoondown    &          \\rightharpoondown    &        \\nwarrow       \\\\\\hline     \n",
    " \\rightleftharpoons  &          \\leadsto    &                           \\\\\\hline\n",
    "\\end{array}"
   ]
  },
  {
   "cell_type": "markdown",
   "metadata": {},
   "source": [
    "### Logic, set, and operator symbols"
   ]
  },
  {
   "cell_type": "markdown",
   "metadata": {},
   "source": [
    "%%latex\n",
    "\\begin{array}{|c|c|c|c|}\n",
    "\\hline\n",
    "\\forall  &  \\complement  &  \\therefore  &  \\emptyset    \\\\\\hline\n",
    "\\exists  &  \\subset  &  \\because  &  \\empty    \\\\\\hline\n",
    "\\exist  &  \\supset  &  \\mapsto  &  \\varnothing    \\\\\\hline\n",
    "\\nexists  &  \\mid  &  \\to  &  \\implies    \\\\\\hline\n",
    "\\in  &  \\land  &  \\gets  &  \\impliedby    \\\\\\hline\n",
    "\\isin  &  \\lor  &  \\leftrightarrow  &  \\iff    \\\\\\hline\n",
    "\\notin  &  \\ni  &  \\notni  &  \\neg or \\lnot    \\\\\\hline\n",
    "\\end{array}"
   ]
  },
  {
   "cell_type": "markdown",
   "metadata": {},
   "source": [
    "%%latex\n",
    "\\begin{array}{|c|c|c|c|}\n",
    "\\hline\n",
    "\\pm         &         \\cap       &         \\diamond           &         \\oplus    \\\\\\hline      \n",
    "\\mp         &        \\cup        &        \\bigtriangleup      &        \\ominus    \\\\\\hline     \n",
    "\\times      &         \\uplus     &         \\bigtriangledown   &         \\otimes    \\\\\\hline     \n",
    "\\div        &          \\sqcap    &          \\triangleleft     &          \\oslash    \\\\\\hline     \n",
    "\\ast        &         \\sqcup     &         \\triangleright     &         \\odot       \\\\\\hline       \n",
    "\\star       &         \\vee       &         \\lhd$^b$           &         \\bigcirc    \\\\\\hline    \n",
    "\\circ       &         \\wedge     &         \\rhd$^b$           &         \\dagger    \\\\\\hline     \n",
    "\\bullet     &         \\setminus  &         \\unlhd$^b$         &         \\ddagger    \\\\\\hline    \n",
    "\\cdot       &         \\wr        &         \\unrhd$^b$         &         \\amalg     \\\\\\hline      \n",
    "+           &         -          &                              &                \\\\\\hline\n",
    "\\end{array}"
   ]
  },
  {
   "cell_type": "markdown",
   "metadata": {},
   "source": [
    "### Relation symbols"
   ]
  },
  {
   "cell_type": "markdown",
   "metadata": {},
   "source": [
    "%%latex\n",
    "\\begin{array}{|c|c|c|c|}\n",
    "\\hline\n",
    " \\leq         &        \\geq         &       \\equiv      &        \\models    \\\\\\hline       \n",
    " \\prec        &        \\succ        &       \\sim        &        \\perp    \\\\\\hline         \n",
    " \\preceq      &        \\succeq      &       \\simeq      &        \\mid    \\\\\\hline          \n",
    " \\ll          &        \\gg          &       \\asymp      &        \\parallel    \\\\\\hline     \n",
    " \\subset      &        \\supset      &       \\approx     &        \\bowtie    \\\\\\hline       \n",
    " \\subseteq    &        \\supseteq      &     \\cong       &        \\Join$^b$    \\\\\\hline     \n",
    " \\sqsubset$^b$    &    \\sqsupset$^b$  &     \\neq        &        \\smile    \\\\\\hline        \n",
    " \\sqsubseteq      &    \\sqsupseteq    &     \\doteq      &        \\frown    \\\\\\hline        \n",
    " \\in              &    \\ni           &      \\propto     &        =         \\\\\\hline        \n",
    " \\vdash           &    \\dashv        &      <           &        >         \\\\\\hline        \n",
    " :       &            &                &               \\\\\\hline \n",
    "\\end{array}"
   ]
  },
  {
   "cell_type": "markdown",
   "metadata": {},
   "source": [
    "### Miscellaneous symbols"
   ]
  },
  {
   "cell_type": "markdown",
   "metadata": {},
   "source": [
    "%%latex\n",
    "\\begin{array}{|c|c|c|c|}\n",
    "\\hline\n",
    "\\ldots       &         \\cdots       &       \\vdots       &       \\ddots         \\\\\\hline        \n",
    "\\ldots       &         \\cdots       &       \\vdots       &       \\ddots         \\\\\\hline        \n",
    " \\aleph      &          \\prime      &        \\forall     &        \\infty         \\\\\\hline        \n",
    " \\hbar       &          \\emptyset   &        \\exists     &        \\Box$^b$         \\\\\\hline      \n",
    " \\imath      &          \\nabla      &        \\neg        &        \\Diamond$^b$         \\\\\\hline  \n",
    " \\jmath      &          \\surd       &        \\flat       &        \\triangle         \\\\\\hline     \n",
    " \\ell        &          \\top        &        \\natural    &        \\clubsuit         \\\\\\hline     \n",
    " \\wp         &         \\bot         &       \\sharp       &       \\diamondsuit         \\\\\\hline  \n",
    " \\Re         &         \\|           &       \\backslash   &       \\heartsuit          \\\\\\hline   \n",
    " \\Im         &         \\angle       &       \\partial     &       \\spadesuit         \\\\\\hline    \n",
    " \\mho$^b$    &         .            &       |      &                  \\\\\\hline\n",
    " \\end{array}"
   ]
  },
  {
   "cell_type": "markdown",
   "metadata": {},
   "source": [
    "%%latex\n",
    "\\begin{array}{|c|c|c|c|c|c|c|}\n",
    "\\hline\n",
    "\\arccos   &  \\cos    &   \\csc   &   \\exp   &   \\ker    &     \\limsup   &   \\min   &   \\sinh    \\\\\\hline  \n",
    " \\arcsin  &   \\cosh   &   \\deg  &    \\gcd  &    \\lg     &     \\ln\t   &   \\Pr    &   \\sup    \\\\\\hline   \n",
    " \\arctan  &   \\cot    &   \\det  &    \\hom  &    \\lim     &    \\log\t   &   \\sec   &   \\tan    \\\\\\hline   \n",
    " \\arg     &   \\coth   &   \\dim  &    \\inf  &    \\liminf  &    \\max\t   &   \\sin   &   \\tanh    \\\\\\hline\n",
    "  \\end{array}"
   ]
  },
  {
   "cell_type": "markdown",
   "metadata": {},
   "source": [
    "### Variable-sized symbols"
   ]
  },
  {
   "cell_type": "markdown",
   "metadata": {},
   "source": [
    "%%latex\n",
    "\\begin{array}{|c|c|c|}\n",
    "\\hline\n",
    "\\sum         &        \\bigcap       &      \\bigodot    \\\\\\hline       \n",
    " \\prod       &         \\bigcup      &       \\bigotimes    \\\\\\hline     \n",
    " \\coprod     &         \\bigsqcup    &       \\bigoplus    \\\\\\hline      \n",
    " \\int        &         \\bigvee      &       \\biguplus    \\\\\\hline      \n",
    " \\oint       &         \\bigwedge &   \\\\\\hline\n",
    " \\end{array}"
   ]
  },
  {
   "cell_type": "markdown",
   "metadata": {},
   "source": [
    "### Delimiters"
   ]
  },
  {
   "cell_type": "markdown",
   "metadata": {},
   "source": [
    "%%latex\n",
    "\\begin{array}{|c|c|c|c|}\n",
    "\\hline\n",
    "(         &           )         &          \\uparrow      &      \\Uparrow    \\\\\\hline       \n",
    " [        &            ]        &           \\downarrow    &      \\Downarrow    \\\\\\hline     \n",
    " \\{       &            \\}       &           \\updownarrow  &      \\Updownarrow     \\\\\\hline  \n",
    " \\lfloor    &          \\rfloor    &         \\lceil       &       \\rceil    \\\\\\hline         \n",
    " \\langle    &          \\rangle    &         /            &       \\backslash    \\\\\\hline     \n",
    " |          &          \\|    &           &    \\\\\\hline \n",
    " \\end{array}"
   ]
  },
  {
   "cell_type": "markdown",
   "metadata": {},
   "source": [
    "%%latex\n",
    "\\begin{array}{|c|c|c|c|}\n",
    "\\hline\n",
    "\\rmoustache    &    \\lmoustache     &    \\rgroup         &   \\lgroup     \\\\\\hline\n",
    "  \\arrowvert   &      \\Arrowvert     &     \\bracevert    &       \\\\\\hline\n",
    "\\end{array}"
   ]
  },
  {
   "cell_type": "markdown",
   "metadata": {},
   "source": [
    "### Matrix symbols"
   ]
  },
  {
   "cell_type": "markdown",
   "metadata": {},
   "source": [
    "$$\\begin{matrix} a & b \\\\ c & d \\end{matrix}$$"
   ]
  },
  {
   "cell_type": "markdown",
   "metadata": {},
   "source": [
    "\\begin{pmatrix}\n",
    "   a & b \\\\\n",
    "   c & d\n",
    "\\end{pmatrix}"
   ]
  },
  {
   "cell_type": "markdown",
   "metadata": {},
   "source": [
    "$$\\begin{bmatrix} 1 & 2 & -1 \\\\ 3 & 0 & 1 \\\\ 0 & 2 & 4 \\end{bmatrix}$$"
   ]
  },
  {
   "cell_type": "markdown",
   "metadata": {},
   "source": [
    "$$\\left( \\frac{p}{q} \\right)$$"
   ]
  },
  {
   "cell_type": "markdown",
   "metadata": {},
   "source": [
    "### Geometry symbols"
   ]
  },
  {
   "cell_type": "markdown",
   "metadata": {},
   "source": [
    "%%latex\n",
    "\\begin{array}{|c|c|}\n",
    "\\hline\n",
    "\\angle  & \\measuredangle        \\\\\\hline\n",
    "\\triangle & \\square         \\\\\\hline\n",
    "\\cong  &  \\ncong        \\\\\\hline\n",
    "\\sim   &   \\nsim        \\\\\\hline\n",
    "\\| & \\nparallel        \\\\\\hline\n",
    "\\perp  &  \\not \\perp       \\\\\\hline\n",
    "\\end{array}"
   ]
  },
  {
   "cell_type": "markdown",
   "metadata": {},
   "source": [
    "### Algebraic symbols"
   ]
  },
  {
   "cell_type": "markdown",
   "metadata": {},
   "source": [
    "$$\\sum_{n=0}^{\\infty}$$"
   ]
  },
  {
   "cell_type": "markdown",
   "metadata": {},
   "source": [
    "$$\\prod_{n=0}^{\\infty}$$"
   ]
  },
  {
   "cell_type": "markdown",
   "metadata": {},
   "source": [
    "### Calculus symbols"
   ]
  },
  {
   "cell_type": "markdown",
   "metadata": {},
   "source": [
    "$$\\int_a^b$$"
   ]
  },
  {
   "cell_type": "markdown",
   "metadata": {},
   "source": [
    "$$\\lim_{x \\to a}$$"
   ]
  },
  {
   "cell_type": "markdown",
   "metadata": {},
   "source": [
    "$$f'(a) = \\lim_{x \\to a} \\frac{f(x) - f(a)}{x - a}$$"
   ]
  },
  {
   "cell_type": "markdown",
   "metadata": {},
   "source": [
    "$$\\lim_{x \\to a^-} f(x) = f(a) = \\lim_{x \\to a^+} f(x)$$"
   ]
  },
  {
   "cell_type": "markdown",
   "metadata": {},
   "source": [
    "## Conclusion\n",
    "\n",
    "Remembering these symbols' code may be difficult when only writing intermitently; however, this reference should provide any required information, quickly.\n",
    "\n",
    "### References\n",
    "\n",
    "* [wikipedia page of latex references](https://oeis.org/wiki/List_of_LaTeX_mathematical_symbols)\n",
    "* [mathjax tutorial](https://math.meta.stackexchange.com/questions/5020/mathjax-basic-tutorial-and-quick-reference)\n",
    "* [tex symbols](http://web.ift.uib.no/Teori/KURS/WRK/TeX/symALL.html)\n",
    "* [latex wiki symbols](https://oeis.org/wiki/List_of_LaTeX_mathematical_symbols)\n",
    "* [katex page](https://katex.org/docs/supported.html#html)\n",
    "* [katex supported](https://github.com/KaTeX/KaTeX/blob/master/docs/supported.md)"
   ]
  }
 ],
 "metadata": {
  "kernelspec": {
   "display_name": "Python 3",
   "language": "python",
   "name": "python3"
  },
  "language_info": {
   "codemirror_mode": {
    "name": "ipython",
    "version": 3
   },
   "file_extension": ".py",
   "mimetype": "text/x-python",
   "name": "python",
   "nbconvert_exporter": "python",
   "pygments_lexer": "ipython3",
   "version": "3.7.3"
  }
 },
 "nbformat": 4,
 "nbformat_minor": 2
}
