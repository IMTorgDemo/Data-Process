{
 "cells": [
  {
   "cell_type": "markdown",
   "metadata": {},
   "source": [
    "# Backend Questions: Task-1\n",
    "\n",
    "The purpose of this report is to answer questions in Task-1 of the 'Backend Test'.  Each of the questions will be addressed, individually.  The report is maintained as a jupyter notebook (.ipynb), created from a jupyterlab running in a docker container.  The Dockerfile image reference can be found, [here](https://github.com/jupyter/docker-stacks/tree/master/all-spark-notebook).  The report is exported to .pdf format, for quick viewing. \n",
    "\n",
    "The questions are:\n",
    "\n",
    "1. Provide some high level statistics on the data set such as number of observations, and minimum and maximum values. Provide overall values (across the entire data set), values for each item, and values for each item and system combination.\n",
    "2. Calculate the mean repair time for each item.\n",
    "3. Calculate the failure rate (failures per hour) for each item and system combination.\n",
    "4. Generate failure interarrival times (time between failures) for each item and system. What’s the expected value of the interarrival times? Does it correspond to the failure rate?\n",
    "5. Create a histogram of the interarrival times for a single item. Can you draw any conclusion on the underlying distribution?"
   ]
  },
  {
   "cell_type": "markdown",
   "metadata": {},
   "source": [
    "## Configuration\n",
    "\n",
    "Read-in the file and perform cursory check for errors and missingness.  Try to maintain data immutability."
   ]
  },
  {
   "cell_type": "code",
   "execution_count": 107,
   "metadata": {},
   "outputs": [],
   "source": [
    "file <- '../Systecon_Practial_test_-_Back-end/Back-End_Task_Data/MaintenanceData/maintenance_data.csv'\n",
    "df_raw <- read.csv(file, colClasses=c(\n",
    "                                \"character\",\n",
    "                                \"character\",\n",
    "                                \"character\",\n",
    "                                \"numeric\")\n",
    "                  )\n",
    "df_raw$Failure.Date <- as.Date(df_raw$Failure.observation, format=\"%m/%d/%Y\")"
   ]
  },
  {
   "cell_type": "code",
   "execution_count": 108,
   "metadata": {},
   "outputs": [
    {
     "name": "stdout",
     "output_type": "stream",
     "text": [
      "[1] 6253    5\n"
     ]
    },
    {
     "data": {
      "text/html": [
       "<table>\n",
       "<caption>A data.frame: 3 × 5</caption>\n",
       "<thead>\n",
       "\t<tr><th scope=col>Item</th><th scope=col>System</th><th scope=col>Failure.observation</th><th scope=col>Repair.time</th><th scope=col>Failure.Date</th></tr>\n",
       "\t<tr><th scope=col>&lt;chr&gt;</th><th scope=col>&lt;chr&gt;</th><th scope=col>&lt;chr&gt;</th><th scope=col>&lt;dbl&gt;</th><th scope=col>&lt;date&gt;</th></tr>\n",
       "</thead>\n",
       "<tbody>\n",
       "\t<tr><td>Component 1</td><td>System 01</td><td>3/19/1990</td><td>23.44</td><td>1990-03-19</td></tr>\n",
       "\t<tr><td>Component 1</td><td>System 01</td><td>8/16/1990</td><td>23.29</td><td>1990-08-16</td></tr>\n",
       "\t<tr><td>Component 1</td><td>System 01</td><td>9/24/1990</td><td>20.98</td><td>1990-09-24</td></tr>\n",
       "</tbody>\n",
       "</table>\n"
      ],
      "text/latex": [
       "A data.frame: 3 × 5\n",
       "\\begin{tabular}{r|lllll}\n",
       " Item & System & Failure.observation & Repair.time & Failure.Date\\\\\n",
       " <chr> & <chr> & <chr> & <dbl> & <date>\\\\\n",
       "\\hline\n",
       "\t Component 1 & System 01 & 3/19/1990 & 23.44 & 1990-03-19\\\\\n",
       "\t Component 1 & System 01 & 8/16/1990 & 23.29 & 1990-08-16\\\\\n",
       "\t Component 1 & System 01 & 9/24/1990 & 20.98 & 1990-09-24\\\\\n",
       "\\end{tabular}\n"
      ],
      "text/markdown": [
       "\n",
       "A data.frame: 3 × 5\n",
       "\n",
       "| Item &lt;chr&gt; | System &lt;chr&gt; | Failure.observation &lt;chr&gt; | Repair.time &lt;dbl&gt; | Failure.Date &lt;date&gt; |\n",
       "|---|---|---|---|---|\n",
       "| Component 1 | System 01 | 3/19/1990 | 23.44 | 1990-03-19 |\n",
       "| Component 1 | System 01 | 8/16/1990 | 23.29 | 1990-08-16 |\n",
       "| Component 1 | System 01 | 9/24/1990 | 20.98 | 1990-09-24 |\n",
       "\n"
      ],
      "text/plain": [
       "  Item        System    Failure.observation Repair.time Failure.Date\n",
       "1 Component 1 System 01 3/19/1990           23.44       1990-03-19  \n",
       "2 Component 1 System 01 8/16/1990           23.29       1990-08-16  \n",
       "3 Component 1 System 01 9/24/1990           20.98       1990-09-24  "
      ]
     },
     "metadata": {},
     "output_type": "display_data"
    }
   ],
   "source": [
    "print( dim(df_raw) )\n",
    "head(df_raw, 3)"
   ]
  },
  {
   "cell_type": "code",
   "execution_count": 109,
   "metadata": {},
   "outputs": [
    {
     "data": {
      "text/html": [
       "<table>\n",
       "<caption>A data.frame: 3 × 5</caption>\n",
       "<thead>\n",
       "\t<tr><th></th><th scope=col>Item</th><th scope=col>System</th><th scope=col>Failure.observation</th><th scope=col>Repair.time</th><th scope=col>Failure.Date</th></tr>\n",
       "\t<tr><th></th><th scope=col>&lt;chr&gt;</th><th scope=col>&lt;chr&gt;</th><th scope=col>&lt;chr&gt;</th><th scope=col>&lt;dbl&gt;</th><th scope=col>&lt;date&gt;</th></tr>\n",
       "</thead>\n",
       "<tbody>\n",
       "\t<tr><th scope=row>6251</th><td>Component 10</td><td>System 08</td><td>3/2/2015</td><td> 6.63</td><td>2015-03-02</td></tr>\n",
       "\t<tr><th scope=row>6252</th><td>Component 10</td><td>System 08</td><td>6/9/2015</td><td>11.14</td><td>2015-06-09</td></tr>\n",
       "\t<tr><th scope=row>6253</th><td>Component 10</td><td>System 08</td><td>7/1/2015</td><td> 9.63</td><td>2015-07-01</td></tr>\n",
       "</tbody>\n",
       "</table>\n"
      ],
      "text/latex": [
       "A data.frame: 3 × 5\n",
       "\\begin{tabular}{r|lllll}\n",
       "  & Item & System & Failure.observation & Repair.time & Failure.Date\\\\\n",
       "  & <chr> & <chr> & <chr> & <dbl> & <date>\\\\\n",
       "\\hline\n",
       "\t6251 & Component 10 & System 08 & 3/2/2015 &  6.63 & 2015-03-02\\\\\n",
       "\t6252 & Component 10 & System 08 & 6/9/2015 & 11.14 & 2015-06-09\\\\\n",
       "\t6253 & Component 10 & System 08 & 7/1/2015 &  9.63 & 2015-07-01\\\\\n",
       "\\end{tabular}\n"
      ],
      "text/markdown": [
       "\n",
       "A data.frame: 3 × 5\n",
       "\n",
       "| <!--/--> | Item &lt;chr&gt; | System &lt;chr&gt; | Failure.observation &lt;chr&gt; | Repair.time &lt;dbl&gt; | Failure.Date &lt;date&gt; |\n",
       "|---|---|---|---|---|---|\n",
       "| 6251 | Component 10 | System 08 | 3/2/2015 |  6.63 | 2015-03-02 |\n",
       "| 6252 | Component 10 | System 08 | 6/9/2015 | 11.14 | 2015-06-09 |\n",
       "| 6253 | Component 10 | System 08 | 7/1/2015 |  9.63 | 2015-07-01 |\n",
       "\n"
      ],
      "text/plain": [
       "     Item         System    Failure.observation Repair.time Failure.Date\n",
       "6251 Component 10 System 08 3/2/2015             6.63       2015-03-02  \n",
       "6252 Component 10 System 08 6/9/2015            11.14       2015-06-09  \n",
       "6253 Component 10 System 08 7/1/2015             9.63       2015-07-01  "
      ]
     },
     "metadata": {},
     "output_type": "display_data"
    }
   ],
   "source": [
    "tail(df_raw, 3)"
   ]
  },
  {
   "cell_type": "code",
   "execution_count": 110,
   "metadata": {},
   "outputs": [
    {
     "name": "stdout",
     "output_type": "stream",
     "text": [
      "[1] 0 5\n",
      "[1] 0 5\n"
     ]
    }
   ],
   "source": [
    "#check for missing values\n",
    "print( dim(df_raw[df_raw$Item == \"\",]) )\n",
    "print( dim(df_raw[df_raw$System== \"\",]) )"
   ]
  },
  {
   "cell_type": "code",
   "execution_count": 111,
   "metadata": {},
   "outputs": [],
   "source": [
    "df_raw$ItemEd <- factor(df_raw$Item)\n",
    "df_raw$SystemEd <- factor(df_raw$System)"
   ]
  },
  {
   "cell_type": "code",
   "execution_count": 112,
   "metadata": {},
   "outputs": [
    {
     "data": {
      "text/plain": [
       "     Item              System          Failure.observation  Repair.time    \n",
       " Length:6253        Length:6253        Length:6253         Min.   :  5.01  \n",
       " Class :character   Class :character   Class :character    1st Qu.: 23.48  \n",
       " Mode  :character   Mode  :character   Mode  :character    Median : 53.87  \n",
       "                                                           Mean   : 75.39  \n",
       "                                                           3rd Qu.: 95.70  \n",
       "                                                           Max.   :230.00  \n",
       "                                                                           \n",
       "  Failure.Date                 ItemEd          SystemEd   \n",
       " Min.   :1990-01-01   Component 6 :1888   System 05: 844  \n",
       " 1st Qu.:1996-05-05   Component 9 :1316   System 03: 824  \n",
       " Median :2002-08-08   Component 1 :1052   System 02: 787  \n",
       " Mean   :2002-10-26   Component 2 : 845   System 06: 777  \n",
       " 3rd Qu.:2009-06-04   Component 3 : 423   System 04: 766  \n",
       " Max.   :2015-12-29   Component 10: 344   System 01: 757  \n",
       "                      (Other)     : 385   (Other)  :1498  "
      ]
     },
     "metadata": {},
     "output_type": "display_data"
    }
   ],
   "source": [
    "summary(df_raw)"
   ]
  },
  {
   "cell_type": "code",
   "execution_count": 113,
   "metadata": {},
   "outputs": [],
   "source": [
    "#df_raw$SysItem <- paste(df_raw$System,'-', df_raw$Item,'')"
   ]
  },
  {
   "cell_type": "code",
   "execution_count": 114,
   "metadata": {},
   "outputs": [],
   "source": [
    "df_raw <- df_raw[order(df_raw$Failure.Date),]"
   ]
  },
  {
   "cell_type": "code",
   "execution_count": 115,
   "metadata": {},
   "outputs": [
    {
     "data": {
      "text/html": [
       "<table>\n",
       "<caption>A data.frame: 6 × 7</caption>\n",
       "<thead>\n",
       "\t<tr><th></th><th scope=col>Item</th><th scope=col>System</th><th scope=col>Failure.observation</th><th scope=col>Repair.time</th><th scope=col>Failure.Date</th><th scope=col>ItemEd</th><th scope=col>SystemEd</th></tr>\n",
       "\t<tr><th></th><th scope=col>&lt;chr&gt;</th><th scope=col>&lt;chr&gt;</th><th scope=col>&lt;chr&gt;</th><th scope=col>&lt;dbl&gt;</th><th scope=col>&lt;date&gt;</th><th scope=col>&lt;fct&gt;</th><th scope=col>&lt;fct&gt;</th></tr>\n",
       "</thead>\n",
       "<tbody>\n",
       "\t<tr><th scope=row>4496</th><td>Component 8</td><td>System 01</td><td>1/1/1990</td><td> 93.77</td><td>1990-01-01</td><td>Component 8</td><td>System 01</td></tr>\n",
       "\t<tr><th scope=row>3460</th><td>Component 6</td><td>System 05</td><td>1/2/1990</td><td> 52.06</td><td>1990-01-02</td><td>Component 6</td><td>System 05</td></tr>\n",
       "\t<tr><th scope=row>3966</th><td>Component 6</td><td>System 07</td><td>1/3/1990</td><td> 50.24</td><td>1990-01-03</td><td>Component 6</td><td>System 07</td></tr>\n",
       "\t<tr><th scope=row>3967</th><td>Component 6</td><td>System 07</td><td>1/4/1990</td><td> 57.35</td><td>1990-01-04</td><td>Component 6</td><td>System 07</td></tr>\n",
       "\t<tr><th scope=row>4594</th><td>Component 9</td><td>System 01</td><td>1/4/1990</td><td>182.96</td><td>1990-01-04</td><td>Component 9</td><td>System 01</td></tr>\n",
       "\t<tr><th scope=row>4487</th><td>Component 7</td><td>System 08</td><td>1/5/1990</td><td> 64.01</td><td>1990-01-05</td><td>Component 7</td><td>System 08</td></tr>\n",
       "</tbody>\n",
       "</table>\n"
      ],
      "text/latex": [
       "A data.frame: 6 × 7\n",
       "\\begin{tabular}{r|lllllll}\n",
       "  & Item & System & Failure.observation & Repair.time & Failure.Date & ItemEd & SystemEd\\\\\n",
       "  & <chr> & <chr> & <chr> & <dbl> & <date> & <fct> & <fct>\\\\\n",
       "\\hline\n",
       "\t4496 & Component 8 & System 01 & 1/1/1990 &  93.77 & 1990-01-01 & Component 8 & System 01\\\\\n",
       "\t3460 & Component 6 & System 05 & 1/2/1990 &  52.06 & 1990-01-02 & Component 6 & System 05\\\\\n",
       "\t3966 & Component 6 & System 07 & 1/3/1990 &  50.24 & 1990-01-03 & Component 6 & System 07\\\\\n",
       "\t3967 & Component 6 & System 07 & 1/4/1990 &  57.35 & 1990-01-04 & Component 6 & System 07\\\\\n",
       "\t4594 & Component 9 & System 01 & 1/4/1990 & 182.96 & 1990-01-04 & Component 9 & System 01\\\\\n",
       "\t4487 & Component 7 & System 08 & 1/5/1990 &  64.01 & 1990-01-05 & Component 7 & System 08\\\\\n",
       "\\end{tabular}\n"
      ],
      "text/markdown": [
       "\n",
       "A data.frame: 6 × 7\n",
       "\n",
       "| <!--/--> | Item &lt;chr&gt; | System &lt;chr&gt; | Failure.observation &lt;chr&gt; | Repair.time &lt;dbl&gt; | Failure.Date &lt;date&gt; | ItemEd &lt;fct&gt; | SystemEd &lt;fct&gt; |\n",
       "|---|---|---|---|---|---|---|---|\n",
       "| 4496 | Component 8 | System 01 | 1/1/1990 |  93.77 | 1990-01-01 | Component 8 | System 01 |\n",
       "| 3460 | Component 6 | System 05 | 1/2/1990 |  52.06 | 1990-01-02 | Component 6 | System 05 |\n",
       "| 3966 | Component 6 | System 07 | 1/3/1990 |  50.24 | 1990-01-03 | Component 6 | System 07 |\n",
       "| 3967 | Component 6 | System 07 | 1/4/1990 |  57.35 | 1990-01-04 | Component 6 | System 07 |\n",
       "| 4594 | Component 9 | System 01 | 1/4/1990 | 182.96 | 1990-01-04 | Component 9 | System 01 |\n",
       "| 4487 | Component 7 | System 08 | 1/5/1990 |  64.01 | 1990-01-05 | Component 7 | System 08 |\n",
       "\n"
      ],
      "text/plain": [
       "     Item        System    Failure.observation Repair.time Failure.Date\n",
       "4496 Component 8 System 01 1/1/1990             93.77      1990-01-01  \n",
       "3460 Component 6 System 05 1/2/1990             52.06      1990-01-02  \n",
       "3966 Component 6 System 07 1/3/1990             50.24      1990-01-03  \n",
       "3967 Component 6 System 07 1/4/1990             57.35      1990-01-04  \n",
       "4594 Component 9 System 01 1/4/1990            182.96      1990-01-04  \n",
       "4487 Component 7 System 08 1/5/1990             64.01      1990-01-05  \n",
       "     ItemEd      SystemEd \n",
       "4496 Component 8 System 01\n",
       "3460 Component 6 System 05\n",
       "3966 Component 6 System 07\n",
       "3967 Component 6 System 07\n",
       "4594 Component 9 System 01\n",
       "4487 Component 7 System 08"
      ]
     },
     "metadata": {},
     "output_type": "display_data"
    }
   ],
   "source": [
    "head(df_raw)"
   ]
  },
  {
   "cell_type": "markdown",
   "metadata": {},
   "source": [
    "This concludes configuration and pre-processing"
   ]
  },
  {
   "cell_type": "code",
   "execution_count": 49,
   "metadata": {},
   "outputs": [],
   "source": [
    "df <- df_raw"
   ]
  },
  {
   "cell_type": "markdown",
   "metadata": {},
   "source": [
    "## Questions"
   ]
  },
  {
   "cell_type": "markdown",
   "metadata": {},
   "source": [
    "1. Provide some high level statistics on the data set such as number of observations, and minimum and maximum values. Provide overall values (across the entire data set), values for each item, and values for each item and system combination."
   ]
  },
  {
   "cell_type": "code",
   "execution_count": 50,
   "metadata": {},
   "outputs": [
    {
     "name": "stdout",
     "output_type": "stream",
     "text": [
      "[1] 6253\n"
     ]
    }
   ],
   "source": [
    "#number of obs\n",
    "print( dim(df)[1])"
   ]
  },
  {
   "cell_type": "code",
   "execution_count": 51,
   "metadata": {},
   "outputs": [
    {
     "name": "stdout",
     "output_type": "stream",
     "text": [
      "[1] 6253\n"
     ]
    }
   ],
   "source": [
    "#number of obs, no missing values\n",
    "print( dim(df[is.na(df$ItemEd)==FALSE & is.na(df$SystemEd)==FALSE,])[1] )"
   ]
  },
  {
   "cell_type": "markdown",
   "metadata": {},
   "source": [
    "Data is fairly well-balanced across Systems, but the Items are quite different in their occurence.  We have a good number of samples, so we can use the median statistic (as opposed to mean), since it is resistent to outliers."
   ]
  },
  {
   "cell_type": "code",
   "execution_count": 61,
   "metadata": {},
   "outputs": [
    {
     "name": "stdout",
     "output_type": "stream",
     "text": [
      "System 01 System 02 System 03 System 04 System 05 System 06 System 07 System 08 \n",
      "      757       787       824       766       844       777       742       756 \n",
      "[1] \"---------------\"\n",
      " Component 1 Component 10  Component 2  Component 3  Component 4  Component 5 \n",
      "        1052          344          845          423          180           29 \n",
      " Component 6  Component 7  Component 8  Component 9 \n",
      "        1888           78           98         1316 \n"
     ]
    }
   ],
   "source": [
    "#counts for all levels of factor variables\n",
    "print( summary(df$SystemEd) )\n",
    "print( \"---------------\")\n",
    "print( summary(df$ItemEd) )"
   ]
  },
  {
   "cell_type": "code",
   "execution_count": 60,
   "metadata": {},
   "outputs": [
    {
     "data": {
      "text/html": [
       "<table>\n",
       "<caption>A data.frame: 10 × 2</caption>\n",
       "<thead>\n",
       "\t<tr><th scope=col>ItemEd</th><th scope=col>Repair.time</th></tr>\n",
       "\t<tr><th scope=col>&lt;fct&gt;</th><th scope=col>&lt;dbl&gt;</th></tr>\n",
       "</thead>\n",
       "<tbody>\n",
       "\t<tr><td>Component 1 </td><td> 25.035</td></tr>\n",
       "\t<tr><td>Component 10</td><td> 10.040</td></tr>\n",
       "\t<tr><td>Component 2 </td><td> 14.980</td></tr>\n",
       "\t<tr><td>Component 3 </td><td> 54.690</td></tr>\n",
       "\t<tr><td>Component 4 </td><td>225.120</td></tr>\n",
       "\t<tr><td>Component 5 </td><td>119.980</td></tr>\n",
       "\t<tr><td>Component 6 </td><td> 55.035</td></tr>\n",
       "\t<tr><td>Component 7 </td><td> 65.415</td></tr>\n",
       "\t<tr><td>Component 8 </td><td> 94.525</td></tr>\n",
       "\t<tr><td>Component 9 </td><td>185.030</td></tr>\n",
       "</tbody>\n",
       "</table>\n"
      ],
      "text/latex": [
       "A data.frame: 10 × 2\n",
       "\\begin{tabular}{r|ll}\n",
       " ItemEd & Repair.time\\\\\n",
       " <fct> & <dbl>\\\\\n",
       "\\hline\n",
       "\t Component 1  &  25.035\\\\\n",
       "\t Component 10 &  10.040\\\\\n",
       "\t Component 2  &  14.980\\\\\n",
       "\t Component 3  &  54.690\\\\\n",
       "\t Component 4  & 225.120\\\\\n",
       "\t Component 5  & 119.980\\\\\n",
       "\t Component 6  &  55.035\\\\\n",
       "\t Component 7  &  65.415\\\\\n",
       "\t Component 8  &  94.525\\\\\n",
       "\t Component 9  & 185.030\\\\\n",
       "\\end{tabular}\n"
      ],
      "text/markdown": [
       "\n",
       "A data.frame: 10 × 2\n",
       "\n",
       "| ItemEd &lt;fct&gt; | Repair.time &lt;dbl&gt; |\n",
       "|---|---|\n",
       "| Component 1  |  25.035 |\n",
       "| Component 10 |  10.040 |\n",
       "| Component 2  |  14.980 |\n",
       "| Component 3  |  54.690 |\n",
       "| Component 4  | 225.120 |\n",
       "| Component 5  | 119.980 |\n",
       "| Component 6  |  55.035 |\n",
       "| Component 7  |  65.415 |\n",
       "| Component 8  |  94.525 |\n",
       "| Component 9  | 185.030 |\n",
       "\n"
      ],
      "text/plain": [
       "   ItemEd       Repair.time\n",
       "1  Component 1   25.035    \n",
       "2  Component 10  10.040    \n",
       "3  Component 2   14.980    \n",
       "4  Component 3   54.690    \n",
       "5  Component 4  225.120    \n",
       "6  Component 5  119.980    \n",
       "7  Component 6   55.035    \n",
       "8  Component 7   65.415    \n",
       "9  Component 8   94.525    \n",
       "10 Component 9  185.030    "
      ]
     },
     "metadata": {},
     "output_type": "display_data"
    }
   ],
   "source": [
    "#repair times for combinations of System-Item\n",
    "aggregate( Repair.time ~ ItemEd, df, FUN=median)"
   ]
  },
  {
   "cell_type": "code",
   "execution_count": 54,
   "metadata": {},
   "outputs": [
    {
     "data": {
      "text/plain": [
       "              SystemEd\n",
       "ItemEd         System 01 System 02 System 03 System 04 System 05 System 06\n",
       "  Component 1        121       157       130       124       149       107\n",
       "  Component 10        43        54        31        59        46        42\n",
       "  Component 2        103        91       114       110       118        96\n",
       "  Component 3         62        46        50        46        59        55\n",
       "  Component 4         20        24        24        24        24        24\n",
       "  Component 5          2         4         5         4         6         4\n",
       "  Component 6        218       220       255       237       241       265\n",
       "  Component 7          8         9        10         7         7        11\n",
       "  Component 8         15        15        18        14         9         8\n",
       "  Component 9        165       167       187       141       185       165\n",
       "              SystemEd\n",
       "ItemEd         System 07 System 08\n",
       "  Component 1        140       124\n",
       "  Component 10        32        37\n",
       "  Component 2         91       122\n",
       "  Component 3         45        60\n",
       "  Component 4         16        24\n",
       "  Component 5          2         2\n",
       "  Component 6        228       224\n",
       "  Component 7         17         9\n",
       "  Component 8          9        10\n",
       "  Component 9        162       144"
      ]
     },
     "metadata": {},
     "output_type": "display_data"
    }
   ],
   "source": [
    "#item-system counts\n",
    "xtabs(~SystemEd + ItemEd, df)"
   ]
  },
  {
   "cell_type": "code",
   "execution_count": 63,
   "metadata": {},
   "outputs": [
    {
     "data": {
      "text/html": [
       "<table>\n",
       "<caption>A data.frame: 5 × 3</caption>\n",
       "<thead>\n",
       "\t<tr><th scope=col>SystemEd</th><th scope=col>ItemEd</th><th scope=col>Repair.time</th></tr>\n",
       "\t<tr><th scope=col>&lt;fct&gt;</th><th scope=col>&lt;fct&gt;</th><th scope=col>&lt;dbl&gt;</th></tr>\n",
       "</thead>\n",
       "<tbody>\n",
       "\t<tr><td>System 01</td><td>Component 1</td><td>24.640</td></tr>\n",
       "\t<tr><td>System 02</td><td>Component 1</td><td>24.930</td></tr>\n",
       "\t<tr><td>System 03</td><td>Component 1</td><td>25.065</td></tr>\n",
       "\t<tr><td>System 04</td><td>Component 1</td><td>25.580</td></tr>\n",
       "\t<tr><td>System 05</td><td>Component 1</td><td>24.780</td></tr>\n",
       "</tbody>\n",
       "</table>\n"
      ],
      "text/latex": [
       "A data.frame: 5 × 3\n",
       "\\begin{tabular}{r|lll}\n",
       " SystemEd & ItemEd & Repair.time\\\\\n",
       " <fct> & <fct> & <dbl>\\\\\n",
       "\\hline\n",
       "\t System 01 & Component 1 & 24.640\\\\\n",
       "\t System 02 & Component 1 & 24.930\\\\\n",
       "\t System 03 & Component 1 & 25.065\\\\\n",
       "\t System 04 & Component 1 & 25.580\\\\\n",
       "\t System 05 & Component 1 & 24.780\\\\\n",
       "\\end{tabular}\n"
      ],
      "text/markdown": [
       "\n",
       "A data.frame: 5 × 3\n",
       "\n",
       "| SystemEd &lt;fct&gt; | ItemEd &lt;fct&gt; | Repair.time &lt;dbl&gt; |\n",
       "|---|---|---|\n",
       "| System 01 | Component 1 | 24.640 |\n",
       "| System 02 | Component 1 | 24.930 |\n",
       "| System 03 | Component 1 | 25.065 |\n",
       "| System 04 | Component 1 | 25.580 |\n",
       "| System 05 | Component 1 | 24.780 |\n",
       "\n"
      ],
      "text/plain": [
       "  SystemEd  ItemEd      Repair.time\n",
       "1 System 01 Component 1 24.640     \n",
       "2 System 02 Component 1 24.930     \n",
       "3 System 03 Component 1 25.065     \n",
       "4 System 04 Component 1 25.580     \n",
       "5 System 05 Component 1 24.780     "
      ]
     },
     "metadata": {},
     "output_type": "display_data"
    }
   ],
   "source": [
    "#repair times for combinations of System-Item\n",
    "head( aggregate( Repair.time ~ SystemEd + ItemEd, df, FUN=median), 5)"
   ]
  },
  {
   "cell_type": "markdown",
   "metadata": {},
   "source": [
    "Standard deviation is fairly consistent across samples.  This is important to note when performing hypothesis testing."
   ]
  },
  {
   "cell_type": "code",
   "execution_count": 68,
   "metadata": {},
   "outputs": [
    {
     "data": {
      "text/html": [
       "<table>\n",
       "<caption>A data.frame: 5 × 3</caption>\n",
       "<thead>\n",
       "\t<tr><th scope=col>SystemEd</th><th scope=col>ItemEd</th><th scope=col>Repair.time</th></tr>\n",
       "\t<tr><th scope=col>&lt;fct&gt;</th><th scope=col>&lt;fct&gt;</th><th scope=col>&lt;dbl&gt;</th></tr>\n",
       "</thead>\n",
       "<tbody>\n",
       "\t<tr><td>System 01</td><td>Component 1</td><td>3.086979</td></tr>\n",
       "\t<tr><td>System 02</td><td>Component 1</td><td>3.024297</td></tr>\n",
       "\t<tr><td>System 03</td><td>Component 1</td><td>2.812243</td></tr>\n",
       "\t<tr><td>System 04</td><td>Component 1</td><td>2.928497</td></tr>\n",
       "\t<tr><td>System 05</td><td>Component 1</td><td>3.137809</td></tr>\n",
       "</tbody>\n",
       "</table>\n"
      ],
      "text/latex": [
       "A data.frame: 5 × 3\n",
       "\\begin{tabular}{r|lll}\n",
       " SystemEd & ItemEd & Repair.time\\\\\n",
       " <fct> & <fct> & <dbl>\\\\\n",
       "\\hline\n",
       "\t System 01 & Component 1 & 3.086979\\\\\n",
       "\t System 02 & Component 1 & 3.024297\\\\\n",
       "\t System 03 & Component 1 & 2.812243\\\\\n",
       "\t System 04 & Component 1 & 2.928497\\\\\n",
       "\t System 05 & Component 1 & 3.137809\\\\\n",
       "\\end{tabular}\n"
      ],
      "text/markdown": [
       "\n",
       "A data.frame: 5 × 3\n",
       "\n",
       "| SystemEd &lt;fct&gt; | ItemEd &lt;fct&gt; | Repair.time &lt;dbl&gt; |\n",
       "|---|---|---|\n",
       "| System 01 | Component 1 | 3.086979 |\n",
       "| System 02 | Component 1 | 3.024297 |\n",
       "| System 03 | Component 1 | 2.812243 |\n",
       "| System 04 | Component 1 | 2.928497 |\n",
       "| System 05 | Component 1 | 3.137809 |\n",
       "\n"
      ],
      "text/plain": [
       "  SystemEd  ItemEd      Repair.time\n",
       "1 System 01 Component 1 3.086979   \n",
       "2 System 02 Component 1 3.024297   \n",
       "3 System 03 Component 1 2.812243   \n",
       "4 System 04 Component 1 2.928497   \n",
       "5 System 05 Component 1 3.137809   "
      ]
     },
     "metadata": {},
     "output_type": "display_data"
    }
   ],
   "source": [
    "#standard deviation of repair times for combinations of System-Item\n",
    "head( aggregate( Repair.time ~ SystemEd + ItemEd, df, FUN=sd), 5)"
   ]
  },
  {
   "cell_type": "markdown",
   "metadata": {},
   "source": [
    "2. Calculate the mean repair time for each item."
   ]
  },
  {
   "cell_type": "code",
   "execution_count": 70,
   "metadata": {},
   "outputs": [
    {
     "data": {
      "text/html": [
       "<table>\n",
       "<caption>A data.frame: 10 × 2</caption>\n",
       "<thead>\n",
       "\t<tr><th scope=col>ItemEd</th><th scope=col>Repair.time</th></tr>\n",
       "\t<tr><th scope=col>&lt;fct&gt;</th><th scope=col>&lt;dbl&gt;</th></tr>\n",
       "</thead>\n",
       "<tbody>\n",
       "\t<tr><td>Component 1 </td><td> 25.057918</td></tr>\n",
       "\t<tr><td>Component 10</td><td>  9.921599</td></tr>\n",
       "\t<tr><td>Component 2 </td><td> 14.979053</td></tr>\n",
       "\t<tr><td>Component 3 </td><td> 54.857069</td></tr>\n",
       "\t<tr><td>Component 4 </td><td>225.181000</td></tr>\n",
       "\t<tr><td>Component 5 </td><td>120.034138</td></tr>\n",
       "\t<tr><td>Component 6 </td><td> 55.024179</td></tr>\n",
       "\t<tr><td>Component 7 </td><td> 65.309231</td></tr>\n",
       "\t<tr><td>Component 8 </td><td> 94.957551</td></tr>\n",
       "\t<tr><td>Component 9 </td><td>184.997363</td></tr>\n",
       "</tbody>\n",
       "</table>\n"
      ],
      "text/latex": [
       "A data.frame: 10 × 2\n",
       "\\begin{tabular}{r|ll}\n",
       " ItemEd & Repair.time\\\\\n",
       " <fct> & <dbl>\\\\\n",
       "\\hline\n",
       "\t Component 1  &  25.057918\\\\\n",
       "\t Component 10 &   9.921599\\\\\n",
       "\t Component 2  &  14.979053\\\\\n",
       "\t Component 3  &  54.857069\\\\\n",
       "\t Component 4  & 225.181000\\\\\n",
       "\t Component 5  & 120.034138\\\\\n",
       "\t Component 6  &  55.024179\\\\\n",
       "\t Component 7  &  65.309231\\\\\n",
       "\t Component 8  &  94.957551\\\\\n",
       "\t Component 9  & 184.997363\\\\\n",
       "\\end{tabular}\n"
      ],
      "text/markdown": [
       "\n",
       "A data.frame: 10 × 2\n",
       "\n",
       "| ItemEd &lt;fct&gt; | Repair.time &lt;dbl&gt; |\n",
       "|---|---|\n",
       "| Component 1  |  25.057918 |\n",
       "| Component 10 |   9.921599 |\n",
       "| Component 2  |  14.979053 |\n",
       "| Component 3  |  54.857069 |\n",
       "| Component 4  | 225.181000 |\n",
       "| Component 5  | 120.034138 |\n",
       "| Component 6  |  55.024179 |\n",
       "| Component 7  |  65.309231 |\n",
       "| Component 8  |  94.957551 |\n",
       "| Component 9  | 184.997363 |\n",
       "\n"
      ],
      "text/plain": [
       "   ItemEd       Repair.time\n",
       "1  Component 1   25.057918 \n",
       "2  Component 10   9.921599 \n",
       "3  Component 2   14.979053 \n",
       "4  Component 3   54.857069 \n",
       "5  Component 4  225.181000 \n",
       "6  Component 5  120.034138 \n",
       "7  Component 6   55.024179 \n",
       "8  Component 7   65.309231 \n",
       "9  Component 8   94.957551 \n",
       "10 Component 9  184.997363 "
      ]
     },
     "metadata": {},
     "output_type": "display_data"
    }
   ],
   "source": [
    "#repair times for combinations of System-Item, using mean\n",
    "aggregate( Repair.time ~ ItemEd, df, FUN=mean)"
   ]
  },
  {
   "cell_type": "markdown",
   "metadata": {},
   "source": [
    "3. Calculate the failure rate (failures per hour) for each item and system combination."
   ]
  },
  {
   "cell_type": "markdown",
   "metadata": {},
   "source": [
    "Are the Systems run continuously over the same amount of time?  The notes do not tell us, but we may be able to assume this from the following difference between date of first and last failure."
   ]
  },
  {
   "cell_type": "code",
   "execution_count": 145,
   "metadata": {},
   "outputs": [],
   "source": [
    "library(dplyr)\n",
    "tbl <- df %>% \n",
    "    group_by(factor(SystemEd)) %>%\n",
    "    dplyr::mutate(\n",
    "        first = dplyr::first(Failure.Date),\n",
    "        last = dplyr::last(Failure.Date),\n",
    "        time_diff = difftime(last, first, units = \"hours\")\n",
    "    )"
   ]
  },
  {
   "cell_type": "code",
   "execution_count": 146,
   "metadata": {},
   "outputs": [
    {
     "data": {
      "text/html": [
       "<table>\n",
       "<caption>A tibble: 8 × 4</caption>\n",
       "<thead>\n",
       "\t<tr><th scope=col>System</th><th scope=col>first</th><th scope=col>last</th><th scope=col>time_diff</th></tr>\n",
       "\t<tr><th scope=col>&lt;chr&gt;</th><th scope=col>&lt;date&gt;</th><th scope=col>&lt;date&gt;</th><th scope=col>&lt;drtn&gt;</th></tr>\n",
       "</thead>\n",
       "<tbody>\n",
       "\t<tr><td>System 01</td><td>1990-03-19</td><td>2012-08-14</td><td>196416 hours</td></tr>\n",
       "\t<tr><td>System 02</td><td>1990-04-19</td><td>2015-01-27</td><td>217176 hours</td></tr>\n",
       "\t<tr><td>System 03</td><td>1990-01-19</td><td>2015-11-06</td><td>226128 hours</td></tr>\n",
       "\t<tr><td>System 04</td><td>1990-05-02</td><td>2015-12-20</td><td>224712 hours</td></tr>\n",
       "\t<tr><td>System 05</td><td>1990-05-07</td><td>2015-03-23</td><td>218064 hours</td></tr>\n",
       "\t<tr><td>System 06</td><td>1990-03-29</td><td>2012-12-11</td><td>199032 hours</td></tr>\n",
       "\t<tr><td>System 07</td><td>1990-11-25</td><td>2015-10-17</td><td>218208 hours</td></tr>\n",
       "\t<tr><td>System 08</td><td>1990-07-25</td><td>2015-07-01</td><td>218568 hours</td></tr>\n",
       "</tbody>\n",
       "</table>\n"
      ],
      "text/latex": [
       "A tibble: 8 × 4\n",
       "\\begin{tabular}{r|llll}\n",
       " System & first & last & time\\_diff\\\\\n",
       " <chr> & <date> & <date> & <drtn>\\\\\n",
       "\\hline\n",
       "\t System 01 & 1990-03-19 & 2012-08-14 & 196416 hours\\\\\n",
       "\t System 02 & 1990-04-19 & 2015-01-27 & 217176 hours\\\\\n",
       "\t System 03 & 1990-01-19 & 2015-11-06 & 226128 hours\\\\\n",
       "\t System 04 & 1990-05-02 & 2015-12-20 & 224712 hours\\\\\n",
       "\t System 05 & 1990-05-07 & 2015-03-23 & 218064 hours\\\\\n",
       "\t System 06 & 1990-03-29 & 2012-12-11 & 199032 hours\\\\\n",
       "\t System 07 & 1990-11-25 & 2015-10-17 & 218208 hours\\\\\n",
       "\t System 08 & 1990-07-25 & 2015-07-01 & 218568 hours\\\\\n",
       "\\end{tabular}\n"
      ],
      "text/markdown": [
       "\n",
       "A tibble: 8 × 4\n",
       "\n",
       "| System &lt;chr&gt; | first &lt;date&gt; | last &lt;date&gt; | time_diff &lt;drtn&gt; |\n",
       "|---|---|---|---|\n",
       "| System 01 | 1990-03-19 | 2012-08-14 | 196416 hours |\n",
       "| System 02 | 1990-04-19 | 2015-01-27 | 217176 hours |\n",
       "| System 03 | 1990-01-19 | 2015-11-06 | 226128 hours |\n",
       "| System 04 | 1990-05-02 | 2015-12-20 | 224712 hours |\n",
       "| System 05 | 1990-05-07 | 2015-03-23 | 218064 hours |\n",
       "| System 06 | 1990-03-29 | 2012-12-11 | 199032 hours |\n",
       "| System 07 | 1990-11-25 | 2015-10-17 | 218208 hours |\n",
       "| System 08 | 1990-07-25 | 2015-07-01 | 218568 hours |\n",
       "\n"
      ],
      "text/plain": [
       "  System    first      last       time_diff   \n",
       "1 System 01 1990-03-19 2012-08-14 196416 hours\n",
       "2 System 02 1990-04-19 2015-01-27 217176 hours\n",
       "3 System 03 1990-01-19 2015-11-06 226128 hours\n",
       "4 System 04 1990-05-02 2015-12-20 224712 hours\n",
       "5 System 05 1990-05-07 2015-03-23 218064 hours\n",
       "6 System 06 1990-03-29 2012-12-11 199032 hours\n",
       "7 System 07 1990-11-25 2015-10-17 218208 hours\n",
       "8 System 08 1990-07-25 2015-07-01 218568 hours"
      ]
     },
     "metadata": {},
     "output_type": "display_data"
    }
   ],
   "source": [
    "unique(tbl[c('System','first','last','time_diff')])"
   ]
  },
  {
   "cell_type": "markdown",
   "metadata": {},
   "source": [
    "We will get the total hours by subtracting the first date from the last."
   ]
  },
  {
   "cell_type": "code",
   "execution_count": 147,
   "metadata": {},
   "outputs": [],
   "source": [
    "first <- as.Date('1990-01-01')\n",
    "last <- as.Date('2015-12-29')\n",
    "total_hours_run <- difftime(last, first, units='hours')"
   ]
  },
  {
   "cell_type": "code",
   "execution_count": 148,
   "metadata": {},
   "outputs": [],
   "source": [
    "df_fail <-  xtabs( ~ SystemEd + ItemEd, df)"
   ]
  },
  {
   "cell_type": "code",
   "execution_count": 149,
   "metadata": {},
   "outputs": [
    {
     "data": {
      "text/plain": [
       "           ItemEd\n",
       "SystemEd    Component 1 Component 10 Component 2 Component 3 Component 4\n",
       "  System 01    0.000531     0.000189    0.000452    0.000272    0.000088\n",
       "  System 02    0.000689     0.000237    0.000399    0.000202    0.000105\n",
       "  System 03    0.000571     0.000136    0.000500    0.000219    0.000105\n",
       "  System 04    0.000544     0.000259    0.000483    0.000202    0.000105\n",
       "  System 05    0.000654     0.000202    0.000518    0.000259    0.000105\n",
       "  System 06    0.000470     0.000184    0.000421    0.000241    0.000105\n",
       "  System 07    0.000614     0.000140    0.000399    0.000198    0.000070\n",
       "  System 08    0.000544     0.000162    0.000535    0.000263    0.000105\n",
       "           ItemEd\n",
       "SystemEd    Component 5 Component 6 Component 7 Component 8 Component 9\n",
       "  System 01    0.000009    0.000957    0.000035    0.000066    0.000724\n",
       "  System 02    0.000018    0.000966    0.000040    0.000066    0.000733\n",
       "  System 03    0.000022    0.001119    0.000044    0.000079    0.000821\n",
       "  System 04    0.000018    0.001040    0.000031    0.000061    0.000619\n",
       "  System 05    0.000026    0.001058    0.000031    0.000040    0.000812\n",
       "  System 06    0.000018    0.001163    0.000048    0.000035    0.000724\n",
       "  System 07    0.000009    0.001001    0.000075    0.000040    0.000711\n",
       "  System 08    0.000009    0.000983    0.000040    0.000044    0.000632"
      ]
     },
     "metadata": {},
     "output_type": "display_data"
    }
   ],
   "source": [
    "#Failures/hour for each combination\n",
    "round( df_fail / as.numeric(total_hours_run), 6)"
   ]
  },
  {
   "cell_type": "markdown",
   "metadata": {},
   "source": [
    "4. Generate failure interarrival times (time between failures) for each item and system. What’s the expected value of the interarrival times? Does it correspond to the failure rate?\n",
    "\n",
    "If the expected value of the distribution of interarrival times is lambda, then the inverse of lambda is the failure rate."
   ]
  },
  {
   "cell_type": "code",
   "execution_count": 170,
   "metadata": {},
   "outputs": [],
   "source": [
    "df_between <- df %>%\n",
    "  group_by(SystemEd, ItemEd) %>%\n",
    "  mutate(Time.Between = Failure.Date - lag(Failure.Date, n = 1, default = first(Failure.Date)),\n",
    "         Hours.Between = as.numeric(Time.Between, units=\"hours\"),\n",
    "         Mean.Hours.Btn = mean(Hours.Between),\n",
    "         Std.Hours.Btn = sd(Hours.Between)\n",
    "        )"
   ]
  },
  {
   "cell_type": "code",
   "execution_count": 171,
   "metadata": {},
   "outputs": [],
   "source": [
    "df_btn_uniq <- unique(df_between[c('SystemEd','ItemEd','Mean.Hours.Btn')])"
   ]
  },
  {
   "cell_type": "code",
   "execution_count": 172,
   "metadata": {},
   "outputs": [
    {
     "data": {
      "text/html": [
       "<table>\n",
       "<caption>A grouped_df: 5 × 4</caption>\n",
       "<thead>\n",
       "\t<tr><th scope=col>SystemEd</th><th scope=col>ItemEd</th><th scope=col>Mean.Hours.Btn</th><th scope=col>Inverse</th></tr>\n",
       "\t<tr><th scope=col>&lt;fct&gt;</th><th scope=col>&lt;fct&gt;</th><th scope=col>&lt;dbl&gt;</th><th scope=col>&lt;dbl&gt;</th></tr>\n",
       "</thead>\n",
       "<tbody>\n",
       "\t<tr><td>System 01</td><td>Component 1</td><td>1819.240</td><td>0.000550</td></tr>\n",
       "\t<tr><td>System 02</td><td>Component 1</td><td>1418.752</td><td>0.000705</td></tr>\n",
       "\t<tr><td>System 03</td><td>Component 1</td><td>1717.662</td><td>0.000582</td></tr>\n",
       "\t<tr><td>System 04</td><td>Component 1</td><td>1813.742</td><td>0.000551</td></tr>\n",
       "\t<tr><td>System 05</td><td>Component 1</td><td>1507.812</td><td>0.000663</td></tr>\n",
       "</tbody>\n",
       "</table>\n"
      ],
      "text/latex": [
       "A grouped_df: 5 × 4\n",
       "\\begin{tabular}{r|llll}\n",
       " SystemEd & ItemEd & Mean.Hours.Btn & Inverse\\\\\n",
       " <fct> & <fct> & <dbl> & <dbl>\\\\\n",
       "\\hline\n",
       "\t System 01 & Component 1 & 1819.240 & 0.000550\\\\\n",
       "\t System 02 & Component 1 & 1418.752 & 0.000705\\\\\n",
       "\t System 03 & Component 1 & 1717.662 & 0.000582\\\\\n",
       "\t System 04 & Component 1 & 1813.742 & 0.000551\\\\\n",
       "\t System 05 & Component 1 & 1507.812 & 0.000663\\\\\n",
       "\\end{tabular}\n"
      ],
      "text/markdown": [
       "\n",
       "A grouped_df: 5 × 4\n",
       "\n",
       "| SystemEd &lt;fct&gt; | ItemEd &lt;fct&gt; | Mean.Hours.Btn &lt;dbl&gt; | Inverse &lt;dbl&gt; |\n",
       "|---|---|---|---|\n",
       "| System 01 | Component 1 | 1819.240 | 0.000550 |\n",
       "| System 02 | Component 1 | 1418.752 | 0.000705 |\n",
       "| System 03 | Component 1 | 1717.662 | 0.000582 |\n",
       "| System 04 | Component 1 | 1813.742 | 0.000551 |\n",
       "| System 05 | Component 1 | 1507.812 | 0.000663 |\n",
       "\n"
      ],
      "text/plain": [
       "  SystemEd  ItemEd      Mean.Hours.Btn Inverse \n",
       "1 System 01 Component 1 1819.240       0.000550\n",
       "2 System 02 Component 1 1418.752       0.000705\n",
       "3 System 03 Component 1 1717.662       0.000582\n",
       "4 System 04 Component 1 1813.742       0.000551\n",
       "5 System 05 Component 1 1507.812       0.000663"
      ]
     },
     "metadata": {},
     "output_type": "display_data"
    }
   ],
   "source": [
    "df_btn_uniq$Inverse <- round(1/df_btn_uniq$Mean.Hours.Btn, 6)\n",
    "head(df_btn_uniq, 5)"
   ]
  },
  {
   "cell_type": "markdown",
   "metadata": {},
   "source": [
    "5. Create a histogram of the interarrival times for a single item. Can you draw any conclusion on the underlying distribution?\n",
    "\n",
    "This is a distribution of the time between events in a poisson process, which is best-characterized by the Exponential distribution."
   ]
  },
  {
   "cell_type": "code",
   "execution_count": 173,
   "metadata": {},
   "outputs": [
    {
     "data": {
      "text/html": [
       "<table>\n",
       "<caption>A grouped_df: 6 × 11</caption>\n",
       "<thead>\n",
       "\t<tr><th scope=col>Item</th><th scope=col>System</th><th scope=col>Failure.observation</th><th scope=col>Repair.time</th><th scope=col>Failure.Date</th><th scope=col>ItemEd</th><th scope=col>SystemEd</th><th scope=col>Time.Between</th><th scope=col>Hours.Between</th><th scope=col>Mean.Hours.Btn</th><th scope=col>Std.Hours.Btn</th></tr>\n",
       "\t<tr><th scope=col>&lt;chr&gt;</th><th scope=col>&lt;chr&gt;</th><th scope=col>&lt;chr&gt;</th><th scope=col>&lt;dbl&gt;</th><th scope=col>&lt;date&gt;</th><th scope=col>&lt;fct&gt;</th><th scope=col>&lt;fct&gt;</th><th scope=col>&lt;drtn&gt;</th><th scope=col>&lt;dbl&gt;</th><th scope=col>&lt;dbl&gt;</th><th scope=col>&lt;dbl&gt;</th></tr>\n",
       "</thead>\n",
       "<tbody>\n",
       "\t<tr><td>Component 1</td><td>System 01</td><td>3/19/1990</td><td>23.44</td><td>1990-03-19</td><td>Component 1</td><td>System 01</td><td>  0 days</td><td>   0</td><td>1819.24</td><td>1667.386</td></tr>\n",
       "\t<tr><td>Component 1</td><td>System 01</td><td>8/16/1990</td><td>23.29</td><td>1990-08-16</td><td>Component 1</td><td>System 01</td><td>150 days</td><td>3600</td><td>1819.24</td><td>1667.386</td></tr>\n",
       "\t<tr><td>Component 1</td><td>System 01</td><td>9/24/1990</td><td>20.98</td><td>1990-09-24</td><td>Component 1</td><td>System 01</td><td> 39 days</td><td> 936</td><td>1819.24</td><td>1667.386</td></tr>\n",
       "\t<tr><td>Component 1</td><td>System 01</td><td>12/6/1990</td><td>21.01</td><td>1990-12-06</td><td>Component 1</td><td>System 01</td><td> 73 days</td><td>1752</td><td>1819.24</td><td>1667.386</td></tr>\n",
       "\t<tr><td>Component 1</td><td>System 01</td><td>1/20/1991</td><td>29.92</td><td>1991-01-20</td><td>Component 1</td><td>System 01</td><td> 45 days</td><td>1080</td><td>1819.24</td><td>1667.386</td></tr>\n",
       "\t<tr><td>Component 1</td><td>System 01</td><td>3/30/1991</td><td>26.32</td><td>1991-03-30</td><td>Component 1</td><td>System 01</td><td> 69 days</td><td>1656</td><td>1819.24</td><td>1667.386</td></tr>\n",
       "</tbody>\n",
       "</table>\n"
      ],
      "text/latex": [
       "A grouped_df: 6 × 11\n",
       "\\begin{tabular}{r|lllllllllll}\n",
       " Item & System & Failure.observation & Repair.time & Failure.Date & ItemEd & SystemEd & Time.Between & Hours.Between & Mean.Hours.Btn & Std.Hours.Btn\\\\\n",
       " <chr> & <chr> & <chr> & <dbl> & <date> & <fct> & <fct> & <drtn> & <dbl> & <dbl> & <dbl>\\\\\n",
       "\\hline\n",
       "\t Component 1 & System 01 & 3/19/1990 & 23.44 & 1990-03-19 & Component 1 & System 01 &   0 days &    0 & 1819.24 & 1667.386\\\\\n",
       "\t Component 1 & System 01 & 8/16/1990 & 23.29 & 1990-08-16 & Component 1 & System 01 & 150 days & 3600 & 1819.24 & 1667.386\\\\\n",
       "\t Component 1 & System 01 & 9/24/1990 & 20.98 & 1990-09-24 & Component 1 & System 01 &  39 days &  936 & 1819.24 & 1667.386\\\\\n",
       "\t Component 1 & System 01 & 12/6/1990 & 21.01 & 1990-12-06 & Component 1 & System 01 &  73 days & 1752 & 1819.24 & 1667.386\\\\\n",
       "\t Component 1 & System 01 & 1/20/1991 & 29.92 & 1991-01-20 & Component 1 & System 01 &  45 days & 1080 & 1819.24 & 1667.386\\\\\n",
       "\t Component 1 & System 01 & 3/30/1991 & 26.32 & 1991-03-30 & Component 1 & System 01 &  69 days & 1656 & 1819.24 & 1667.386\\\\\n",
       "\\end{tabular}\n"
      ],
      "text/markdown": [
       "\n",
       "A grouped_df: 6 × 11\n",
       "\n",
       "| Item &lt;chr&gt; | System &lt;chr&gt; | Failure.observation &lt;chr&gt; | Repair.time &lt;dbl&gt; | Failure.Date &lt;date&gt; | ItemEd &lt;fct&gt; | SystemEd &lt;fct&gt; | Time.Between &lt;drtn&gt; | Hours.Between &lt;dbl&gt; | Mean.Hours.Btn &lt;dbl&gt; | Std.Hours.Btn &lt;dbl&gt; |\n",
       "|---|---|---|---|---|---|---|---|---|---|---|\n",
       "| Component 1 | System 01 | 3/19/1990 | 23.44 | 1990-03-19 | Component 1 | System 01 |   0 days |    0 | 1819.24 | 1667.386 |\n",
       "| Component 1 | System 01 | 8/16/1990 | 23.29 | 1990-08-16 | Component 1 | System 01 | 150 days | 3600 | 1819.24 | 1667.386 |\n",
       "| Component 1 | System 01 | 9/24/1990 | 20.98 | 1990-09-24 | Component 1 | System 01 |  39 days |  936 | 1819.24 | 1667.386 |\n",
       "| Component 1 | System 01 | 12/6/1990 | 21.01 | 1990-12-06 | Component 1 | System 01 |  73 days | 1752 | 1819.24 | 1667.386 |\n",
       "| Component 1 | System 01 | 1/20/1991 | 29.92 | 1991-01-20 | Component 1 | System 01 |  45 days | 1080 | 1819.24 | 1667.386 |\n",
       "| Component 1 | System 01 | 3/30/1991 | 26.32 | 1991-03-30 | Component 1 | System 01 |  69 days | 1656 | 1819.24 | 1667.386 |\n",
       "\n"
      ],
      "text/plain": [
       "  Item        System    Failure.observation Repair.time Failure.Date\n",
       "1 Component 1 System 01 3/19/1990           23.44       1990-03-19  \n",
       "2 Component 1 System 01 8/16/1990           23.29       1990-08-16  \n",
       "3 Component 1 System 01 9/24/1990           20.98       1990-09-24  \n",
       "4 Component 1 System 01 12/6/1990           21.01       1990-12-06  \n",
       "5 Component 1 System 01 1/20/1991           29.92       1991-01-20  \n",
       "6 Component 1 System 01 3/30/1991           26.32       1991-03-30  \n",
       "  ItemEd      SystemEd  Time.Between Hours.Between Mean.Hours.Btn Std.Hours.Btn\n",
       "1 Component 1 System 01   0 days        0          1819.24        1667.386     \n",
       "2 Component 1 System 01 150 days     3600          1819.24        1667.386     \n",
       "3 Component 1 System 01  39 days      936          1819.24        1667.386     \n",
       "4 Component 1 System 01  73 days     1752          1819.24        1667.386     \n",
       "5 Component 1 System 01  45 days     1080          1819.24        1667.386     \n",
       "6 Component 1 System 01  69 days     1656          1819.24        1667.386     "
      ]
     },
     "metadata": {},
     "output_type": "display_data"
    }
   ],
   "source": [
    "head(df_between)"
   ]
  },
  {
   "cell_type": "code",
   "execution_count": 179,
   "metadata": {},
   "outputs": [],
   "source": [
    "df_between$SysItem = factor(paste(df_between$System,'-',df_between$Item,''))\n",
    "df_tmp <- df_between[df_between$SysItem == levels(df_between$SysItem )[1],]"
   ]
  },
  {
   "cell_type": "code",
   "execution_count": 182,
   "metadata": {},
   "outputs": [
    {
     "name": "stderr",
     "output_type": "stream",
     "text": [
      "`stat_bin()` using `bins = 30`. Pick better value with `binwidth`.\n"
     ]
    },
    {
     "data": {
      "image/png": "[encoded data removed]",
      "text/plain": [
       "plot without title"
      ]
     },
     "metadata": {},
     "output_type": "display_data"
    }
   ],
   "source": [
    "library(ggplot2)\n",
    "library(repr)\n",
    "options(repr.plot.width=10, repr.plot.height=4)\n",
    "\n",
    "ggplot(df_tmp, aes(x=Hours.Between, fill=SysItem, colour=SysItem)) + \n",
    "    geom_histogram(aes(y=..density..)) +\n",
    "    geom_density(alpha=.1) #+ #scale_x_log10() +\n",
    "    #ggtitle(\"Percent of Trips by Distance to Airport\") + xlab(\"Distance (km)\") + ylab(\"Density\")  +\n",
    "    #theme(plot.title = element_text(hjust = 0.5))"
   ]
  },
  {
   "cell_type": "code",
   "execution_count": null,
   "metadata": {},
   "outputs": [],
   "source": []
  }
 ],
 "metadata": {
  "kernelspec": {
   "display_name": "R",
   "language": "R",
   "name": "ir"
  },
  "language_info": {
   "codemirror_mode": "r",
   "file_extension": ".r",
   "mimetype": "text/x-r-source",
   "name": "R",
   "pygments_lexer": "r",
   "version": "3.6.1"
  }
 },
 "nbformat": 4,
 "nbformat_minor": 4
}
