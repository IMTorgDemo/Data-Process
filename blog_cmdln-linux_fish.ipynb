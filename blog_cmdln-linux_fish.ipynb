{
 "cells": [
  {
   "cell_type": "markdown",
   "metadata": {},
   "source": [
    "# The Linux Command Line with Fish Shell\n",
    "Date: 2019-06-18  \n",
    "Author: Jason Beach  \n",
    "Categories: Linux, category2  \n",
    "Tags: commandline, tag2, tag3  \n",
    "<!--eofm-->"
   ]
  },
  {
   "cell_type": "markdown",
   "metadata": {},
   "source": [
    "The Linux terminal (typically implemented with the Bourne Again Shell Script, BASH) can be intimidating for beginners and annoying for experienced programmers.  But, it is a necessity for most users of Linux; and, in many situations, it can also be a huge productivity enhancer over graphical interfaces.  \n",
    "\n",
    "Fish is a commandline tool that is a great complement to BASH.  It is highly configureable and provides nice features such as syntax coloring and `TAB` command completion, out-of-the-box.  For this tutorial, we will use a quick docker set-up with the smallest, but still capable, Linux image (bitnami/minideb).  Then, we will install fish and try some of the most common Linux commands.  Fish isn't necessary for most of these bash commands; however, it can make your life a little easier while flying through various directories working on your next project.\n",
    "\n",
    "Two great references that are much more in-depth than this tutorial are the following:\n",
    "\n",
    "* [The Art of the Command Line](https://github.com/jlevy/the-art-of-command-line)\n",
    "* [Linux Journey](https://linuxjourney.com/)"
   ]
  },
  {
   "cell_type": "markdown",
   "metadata": {},
   "source": [
    "## Preparation\n",
    "\n",
    "Some terminology to know before working [includes](https://askubuntu.com/questions/506510/what-is-the-difference-between-terminal-console-shell-and-command-line): \n",
    "\n",
    "* terminal - text input/output environment\n",
    "* console - physical terminal (older hardware-oriented term)\n",
    "* command line - where user enters commands\n",
    "* shell - command line interpreter\n",
    "\n",
    "> The user (you) will be opening _terminal_ interface and entering the _command line_ through the fish application _shell_.\n",
    "\n",
    "Install docker for your operating system, then run [Bitnami's minideb (mini-debian)](https://github.com/bitnami/minideb) so that you have a disposable Linux container.  You can break whatever you want in this container and not worry that you've hurt your actual operating system.  To reset it, just create a new container."
   ]
  },
  {
   "cell_type": "code",
   "execution_count": null,
   "metadata": {},
   "outputs": [],
   "source": [
    "#list current images\n",
    "docker images\n",
    "#obtain and run minideb container\n",
    "docker run --rm -it bitnami/minideb:latest\n",
    "#enter container's bash interface application\n",
    "docker exec -it cntr_minideb bash\n",
    "#install and use fish\n",
    "apt-get update && apt-get upgrade\n",
    "apt-get install fish\n",
    "fish"
   ]
  },
  {
   "cell_type": "markdown",
   "metadata": {},
   "source": [
    "Before you get started on the basics, you might want to install two additioanl applications.  The `nano` text editor can be much more intuitive than the more-common `vim`.  Also, the [Cheat](https://github.com/cheat/cheat) application can help in your learning.  Digital Ocean has a tutorial for [getting started](https://www.digitalocean.com/community/tutorials/how-to-install-and-use-command-line-cheat-sheets-on-ubuntu-14-04)."
   ]
  },
  {
   "cell_type": "code",
   "execution_count": null,
   "metadata": {},
   "outputs": [],
   "source": [
    "apt-get nano\n",
    "apt-get install python-pip\n",
    "pip install cheat\n",
    "cheat -v"
   ]
  },
  {
   "cell_type": "markdown",
   "metadata": {},
   "source": [
    "Later, to exit the applications and shut-down docker"
   ]
  },
  {
   "cell_type": "code",
   "execution_count": null,
   "metadata": {},
   "outputs": [],
   "source": [
    "#from fish\n",
    "exit\n",
    "#from bash\n",
    "exit\n",
    "#continue with docker container, later\n",
    "docker stop cntr_minideb\n",
    "#kill container\n",
    "docker rm cntr_minideb"
   ]
  },
  {
   "cell_type": "markdown",
   "metadata": {},
   "source": [
    "## Basic File System\n",
    "\n",
    "These basic commands are common to many different shell systems.  They include commands for working with files and directories, as well as some basic programming concepts, such as variables, that show-up throughout working in the terminal."
   ]
  },
  {
   "cell_type": "markdown",
   "metadata": {},
   "source": [
    "### Quickstart"
   ]
  },
  {
   "cell_type": "code",
   "execution_count": null,
   "metadata": {},
   "outputs": [],
   "source": [
    "#directory structure\n",
    "echo $HOME\n",
    "mkdir <dir>\n",
    "cd <dir>\n",
    "pwd \n",
    "tree\n",
    "#display file statistics\n",
    "stat <file>\n",
    "file <file>\n",
    "#display help\n",
    "man <command>\n",
    "help <command>\n",
    "type <command>\n",
    "whatis <command>"
   ]
  },
  {
   "cell_type": "markdown",
   "metadata": {},
   "source": [
    "### Variables\n",
    "\n",
    "One way that the shell keeps track of all of these settings and details is through an area it maintains called the environment. \n",
    "\n",
    "_Environmental variables_ are variables that are defined for the current shell and are inherited, and override variables, by any child shells or processes. Environmental variables are used to pass information into processes that are spawned from the shell.\n",
    "\n",
    "_Shell variables_ are variables that are contained exclusively within the shell in which they were set or defined. They are often used to keep track of ephemeral data, like the current working directory.\n",
    "\n",
    "By convention, these types of variables are usually defined using all capital letters. "
   ]
  },
  {
   "cell_type": "markdown",
   "metadata": {},
   "source": [
    "_Environment variables_"
   ]
  },
  {
   "cell_type": "code",
   "execution_count": null,
   "metadata": {},
   "outputs": [],
   "source": [
    "#environment variables\n",
    "printenv\n",
    "#print specific variable\n",
    "printenv <var>\n",
    "#set specific variable\n",
    "env VAR1=\"blahblah\" command_to_run command_options"
   ]
  },
  {
   "cell_type": "markdown",
   "metadata": {},
   "source": [
    "_Shell variables_"
   ]
  },
  {
   "cell_type": "code",
   "execution_count": null,
   "metadata": {},
   "outputs": [],
   "source": [
    "#shell variables\n",
    "set | less\n",
    "#without functions\n",
    "env VAR1=\"blahblah\" command_to_run command_options"
   ]
  },
  {
   "cell_type": "markdown",
   "metadata": {},
   "source": [
    "Typical environment variables:"
   ]
  },
  {
   "cell_type": "code",
   "execution_count": null,
   "metadata": {},
   "outputs": [],
   "source": [
    "#describes the shell\n",
    "SHELL\n",
    "#specifies the type of terminal to emulate when running the shell\n",
    "TERM\n",
    "#current logged in user\n",
    "USER\n",
    "#current working directory.\n",
    "PWD\n",
    "#previous working directory\n",
    "OLDPWD\n",
    "#defines color codes used to add colored output to the ls command\n",
    "LS_COLORS\n",
    "#path to the current user's mailbox\n",
    "MAIL\n",
    "#list of (ordered) directories that the system will check when looking for commands\n",
    "PATH\n",
    "#current language and localization settings\n",
    "LANG\n",
    "#current user's home directory\n",
    "HOME\n",
    "#previously executed command\n",
    "_"
   ]
  },
  {
   "cell_type": "markdown",
   "metadata": {},
   "source": [
    "Common shell variables:"
   ]
  },
  {
   "cell_type": "code",
   "execution_count": null,
   "metadata": {},
   "outputs": [],
   "source": [
    "#list of options that were used when bash was executed\n",
    "BASHOPTS\n",
    "#verion\n",
    "BASH_VERSION\n",
    "BASH_VERSINFO\n",
    "#number of columns wide that are being used to draw output\n",
    "COLUMNS\n",
    "#stack of directories that are available with the pushd and popd commands\n",
    "DIRSTACK\n",
    "#number of lines of command history stored to a file\n",
    "HISTFILESIZE\n",
    "#number of lines of command history allowed in memory\n",
    "HISTSIZE\n",
    "#The hostname of the computer at this time\n",
    "HOSTNAME\n",
    "#internal field separator to separate input on the command line; space by default\n",
    "IFS\n",
    "#primary command prompt definition\n",
    "PS1\n",
    "#secondary prompts for when a command spans multiple lines\n",
    "PS2\n",
    "#shell options that can be set with the set option.\n",
    "SHELLOPTS\n",
    "#the UID of the current user\n",
    "UID"
   ]
  },
  {
   "cell_type": "markdown",
   "metadata": {},
   "source": [
    "Test shell variables:"
   ]
  },
  {
   "cell_type": "code",
   "execution_count": null,
   "metadata": {},
   "outputs": [],
   "source": [
    "#define shell var\n",
    "TEST_VAR='Hello World!'\n",
    "#confirm\n",
    "set | grep TEST_VAR\n",
    "printenv | grep TEST_VAR\n",
    "#reference\n",
    "echo $TEST_VAR\n",
    "#shell vars are not passed to child processes\n",
    "bash\n",
    "echo $TEST_VAR"
   ]
  },
  {
   "cell_type": "markdown",
   "metadata": {},
   "source": [
    "Test environment variables:"
   ]
  },
  {
   "cell_type": "code",
   "execution_count": null,
   "metadata": {},
   "outputs": [],
   "source": [
    "#export shell var to the environment\n",
    "export TEST_VAR\n",
    "#available in child process\n",
    "bash\n",
    "echo $TEST_VAR\n",
    "exit\n",
    "#convert back to shell var\n",
    "export -n TEST_VAR\n",
    "#remove completely\n",
    "unset TEST_VAR"
   ]
  },
  {
   "cell_type": "markdown",
   "metadata": {},
   "source": [
    "Typical usage:"
   ]
  },
  {
   "cell_type": "code",
   "execution_count": null,
   "metadata": {},
   "outputs": [],
   "source": [
    "nano ~/.bash_profile\n",
    "#add `export TEST_VAR='Hello World!'\n",
    "#exit\n",
    "source ~/.bash_profile    #instead of restarting the terminal"
   ]
  },
  {
   "cell_type": "markdown",
   "metadata": {},
   "source": [
    "### Creation, redirection, and wildcards\n",
    "\n",
    "These commands are a little more advanced, but you see them often in instructions.  Once you get comfortable using them, they become very helpful."
   ]
  },
  {
   "cell_type": "code",
   "execution_count": null,
   "metadata": {},
   "outputs": [],
   "source": [
    "#new file\n",
    "touch <filename>\n",
    "#overwrites\n",
    "<stream> > <filename>\n",
    "#appends\n",
    "<stream> >> <filename>\n",
    "#pipe output of left to input on right\n",
    "<stream> | <stream>"
   ]
  },
  {
   "cell_type": "markdown",
   "metadata": {},
   "source": [
    "A common usage of the pipe:"
   ]
  },
  {
   "cell_type": "code",
   "execution_count": null,
   "metadata": {},
   "outputs": [],
   "source": [
    "printenv | less"
   ]
  },
  {
   "cell_type": "markdown",
   "metadata": {},
   "source": [
    "Additional operators:"
   ]
  },
  {
   "cell_type": "code",
   "execution_count": null,
   "metadata": {},
   "outputs": [],
   "source": [
    "#takes input from the file on the right instead of the keyboard\n",
    "<\n",
    "#redirect standard error to the location on the right\n",
    "^\n",
    "#match any character string that does not include \"/\"\n",
    "*\n",
    "#matche any single character, not including \"/\"\n",
    "? \n",
    "#match any string including \"/\", recusively\n",
    "**"
   ]
  },
  {
   "cell_type": "markdown",
   "metadata": {},
   "source": [
    "Examples of the above commands:"
   ]
  },
  {
   "cell_type": "code",
   "execution_count": null,
   "metadata": {},
   "outputs": [],
   "source": [
    "#list files in that directory and child directories\n",
    "ls /etc/**.conf\n",
    "#stand output to file, stand error to where stand output goes (same file)\n",
    "ls /etc >ls_results.txt ^&1"
   ]
  },
  {
   "cell_type": "markdown",
   "metadata": {},
   "source": [
    "### Command history and TAB completion\n",
    "\n",
    "The history of your previous commands is key for moving quickly and remembering completed tasks.  You can move up chronologically in your history by using the `UP` key. You can move in the reverse direction by using the `DOWN` key. This is fairly standard.  If we wish to return to our prompt, we just hit the `escape` key.  We can also type in part of a previous command and then press the `UP` key to search for the latest instances of that specific command.  Furthermore, we can use the `ALT-UP` and `ALT-DOWN` commands to recall the command line arguments only."
   ]
  },
  {
   "cell_type": "code",
   "execution_count": null,
   "metadata": {},
   "outputs": [],
   "source": [
    "#previous commands\n",
    "history\n",
    "#last argument\n",
    "<cmd> !$  \n",
    "<cmd> !_1\n",
    "#last command\n",
    "!!"
   ]
  },
  {
   "cell_type": "markdown",
   "metadata": {},
   "source": [
    "### File manipulation\n",
    "\n",
    "Download files or get them via http request, then familiarize yourself with them."
   ]
  },
  {
   "cell_type": "code",
   "execution_count": null,
   "metadata": {},
   "outputs": [],
   "source": [
    "#download\n",
    "wget\n",
    "#http requests\n",
    "curl\n",
    "#concatenate\n",
    "cat\n",
    "#word count\n",
    "wc\n",
    "#print file\n",
    "head\n",
    "tail"
   ]
  },
  {
   "cell_type": "markdown",
   "metadata": {},
   "source": [
    "## System Administration\n",
    "\n",
    "Administration of a Linux server is a huge field.  External references are provided, in various sections, to give more detailed explanation."
   ]
  },
  {
   "cell_type": "markdown",
   "metadata": {},
   "source": [
    "### Machine configuration\n",
    "\n",
    "These are basic commands to understand your machine and prepare it for use."
   ]
  },
  {
   "cell_type": "code",
   "execution_count": null,
   "metadata": {},
   "outputs": [],
   "source": [
    "#os version\n",
    "cat /etc/os-release\n",
    "#kernel version\n",
    "uname -r\n",
    "#number of core\n",
    "python -c 'import multiprocessing as mp; print(mp.cpu_count())'\t\n",
    "#make current\n",
    "sudo apt-get update && sudo apt-get upgrade"
   ]
  },
  {
   "cell_type": "markdown",
   "metadata": {},
   "source": [
    "### Displaying disk usage\n",
    "\n",
    "To understand the foundations around these commands, take a look at the following:\n",
    "\n",
    "* [disk usage](https://www.tecmint.com/check-linux-disk-usage-of-files-and-directories/)\n",
    "* [disk space](https://www.tecmint.com/how-to-check-disk-space-in-linux/)"
   ]
  },
  {
   "cell_type": "code",
   "execution_count": null,
   "metadata": {},
   "outputs": [],
   "source": [
    "du --max-depth=1 --human-readable /home/vagrant/ | sort --human-numeric-sort\n",
    "du -d1 -h /home/ubuntu | sort -h\n",
    "du -sh\n",
    "df -h\n",
    "df -i\t\t#inodes"
   ]
  },
  {
   "cell_type": "markdown",
   "metadata": {},
   "source": [
    "### Describing CPU and memory usage\n",
    "\n",
    "This is another field where you really need to know the internals to understand what you're looking at.  Get a better understanding of cpu utilization, [here](http://www.brendangregg.com/blog/2017-05-09/cpu-utilization-is-wrong.html)."
   ]
  },
  {
   "cell_type": "code",
   "execution_count": null,
   "metadata": {},
   "outputs": [],
   "source": [
    "sudo apt-get install linux-tools-common linux-tools-generic linux-tools-3.13.0.110\n",
    "perf stat -a -- sleep 10"
   ]
  },
  {
   "cell_type": "markdown",
   "metadata": {},
   "source": [
    "_Notes_\n",
    "\n",
    "* IPC is < 1.0: you are likely memory stalled, and software tuning strategies include reducing memory I/O, and improving CPU caching and memory locality\n",
    "* IPC is > 1.0: you are likely instruction bound. Look for ways to reduce code execution: eliminate unnecessary work, cache operations, etc. CPU flame graphs are a great tool for this investigation"
   ]
  },
  {
   "cell_type": "markdown",
   "metadata": {},
   "source": [
    "### Installing applications\n",
    "\n",
    "This is a very old field and you will likely encounter many types of applications of varying history and quality.  Getting to know how to install applications and build packages can give you a greater appreciation before you inevitably do it yourself."
   ]
  },
  {
   "cell_type": "code",
   "execution_count": null,
   "metadata": {},
   "outputs": [],
   "source": [
    "#pre-approved sources to get packages from\n",
    "nano /etc/apt/sources.list\n",
    "#install package\n",
    "dpkg -i <some_deb_package.deb>\n",
    "#remove package\n",
    "dpkg -r <some_deb_package.deb>\n",
    "#list packages\n",
    "dpkg -l\n",
    "#package manager: advanced package tool\n",
    "apt install <package>\n",
    "apt list\n",
    "apt moo"
   ]
  },
  {
   "cell_type": "markdown",
   "metadata": {},
   "source": [
    "### Building packages\n",
    "\n",
    "This may include many other commands based upon the language of the application."
   ]
  },
  {
   "cell_type": "code",
   "execution_count": null,
   "metadata": {},
   "outputs": [],
   "source": [
    "#build tools\n",
    "apt install build-essential\n",
    "tar -xzvf <package.tar.gz>\n",
    "#check dependencies\n",
    "./configure\n",
    "#install:copy the correct files to the correct locations on your computer.\n",
    "make install\n",
    "#uninstall\n",
    "make uninstall\n",
    "#instead make .deb and install it\n",
    "checkinstall"
   ]
  },
  {
   "cell_type": "markdown",
   "metadata": {},
   "source": [
    "### Processes\n",
    "\n",
    "The kernel is the software between applications and hardware.  It is managing the processes and resources provided to them.  The Linux kernel is named for Linus Torvalds who first created a replacement for Bell's proprietary Unix kernel.  He also created `git` version control system, and, so, his discussions and comments on web boaurds come with a healthy dose of ego."
   ]
  },
  {
   "cell_type": "code",
   "execution_count": null,
   "metadata": {},
   "outputs": [],
   "source": [
    "#example process\n",
    "sleep 1\n",
    "#run in background\n",
    "sleep 1 &\n",
    "jobs\n",
    "#all details and non-tty ps\n",
    "ps aux\n",
    "#refresh 10sec and NIceness priority\n",
    "top; htop;\n",
    "renice 10 -p <pid>   \n",
    "pstree -p\n",
    "pgrep <process>\n",
    "pkill <process>\n",
    "#process filesystem\n",
    "ls /proc\n",
    "#process state\n",
    "cat /proc/<pid>/status\n",
    "#find from what directory process is run\n",
    "pwdx <pid>\n",
    "ps -ef \n",
    "#what processes are listening\n",
    "netstat -lntp\n",
    "#how long system is running\n",
    "uptime"
   ]
  },
  {
   "cell_type": "markdown",
   "metadata": {},
   "source": [
    "### Routing\n",
    "\n",
    "Routing is a _HUGE_ subject, but these commands can give you a good support for the first 20%."
   ]
  },
  {
   "cell_type": "code",
   "execution_count": null,
   "metadata": {},
   "outputs": [],
   "source": [
    "apt install net-tools\n",
    "route -n\n",
    "ifconfig\n",
    "apt install iproute2\n",
    "#all interfaces\n",
    "ip link show\n",
    "#stats of an interface\n",
    "ip -s link show eth0\n",
    "#show ip addresses allocated to interfaces\n",
    "ip address show\n",
    "#network manager\n",
    "apt install nm-tool???"
   ]
  },
  {
   "cell_type": "markdown",
   "metadata": {},
   "source": [
    "### Background shells\n",
    "\n",
    "Multiple screens will become much more useful has you become more capable from the commandline.  There are three main systems, take a look at these references for getting a comparison of them.\n",
    "\n",
    "* [tmux vs screen](https://superuser.com/questions/236158/tmux-vs-screen)\n",
    "* [nohup vs screen](https://stackoverflow.com/questions/20766300/nohup-vs-screen-which-is-better-for-long-running-process)"
   ]
  },
  {
   "cell_type": "code",
   "execution_count": null,
   "metadata": {},
   "outputs": [],
   "source": [
    "nohup\n",
    "screen\n",
    "tmux "
   ]
  },
  {
   "cell_type": "markdown",
   "metadata": {},
   "source": [
    "### Profiles\n",
    "\n",
    "Once you have commands down, you will want to start using the terminal on your host machine and customizing it to get your work down more quickly.  There are two main files for customizing your system.\n",
    "\n",
    "* `~/.bashrc` - Save aliases, shell settings, and functions you commonly use in ~/.bashrc, and arrange for login shells to source it. This will make your setup available in all your shell sessions.\n",
    "* `~/.bash_profile` - Put the settings of environment variables as well as commands that should be executed when you login in ~/.bash_profile. Separate configuration will be needed for shells you launch from graphical environment logins and cron jobs."
   ]
  },
  {
   "cell_type": "markdown",
   "metadata": {},
   "source": [
    "A _login shell_ is a shell session that begins by authenticating the user. If you are signing into a terminal session or through SSH and authenticate, your shell session will be set as a \"login\" shell.  A session started as a login session will read configuration details from the `/etc/profile` file first. It will then look for the first login shell configuration file in the user's home directory to get user-specific configuration details.  It reads the first file that it can find out of `~/.bash_profile`, `~/.bash_login`, and `~/.profile` and does not read any further files.\n",
    "\n",
    "A _non-login shell_ is created if you start a new shell session from within your authenticated session, like we did by calling the bash command from the terminal. You were not asked for your authentication details when you started your child shell.  A non-login shell will read `/etc/bash.bashrc` and then the user-specific `~/.bashrc` file to build its environment.\n",
    "\n",
    "An _interactive shell_ session, such as one that begins with ssh, is a shell session that is attached to a terminal. A _non-interactive shell_ session is one is not attached to a terminal session, such as a script run from the command line.  Non-interactive shells read the environmental variable called `BASH_ENV` and read the file specified to define the new environment.\n",
    "\n",
    "We will usually be setting user-specific environmental variables, and we usually will want our settings to be available in both login and non-login shells. This means that the place to define these variables is in the `~/.bashrc` file.\n",
    "\n",
    "If you need to set system-wide variables, you may want to think about adding them to `/etc/profile`, `/etc/bash.bashrc`, or `/etc/environment`."
   ]
  },
  {
   "cell_type": "markdown",
   "metadata": {},
   "source": [
    "### Alias and functions\n",
    "\n",
    "This is another way to customize your system.  For more detailed explanation, try [this tutorial](https://www.digitalocean.com/community/tutorials/an-introduction-to-useful-bash-aliases-and-functions)."
   ]
  },
  {
   "cell_type": "code",
   "execution_count": null,
   "metadata": {},
   "outputs": [],
   "source": [
    "alias ls=\"ls --group-directories-first --color\"\n",
    "cdls() { cd \"$@\" && ls; }\n",
    "cddu() { cd \"$@\" && du -d1 -h . | sort -h; }\n",
    "du1() { du -d1 -h \"$@\" | sort -h; }\n",
    "du2() { du -d2 -h \"$@\" | sort -h; }"
   ]
  },
  {
   "cell_type": "markdown",
   "metadata": {},
   "source": [
    "### Path\n",
    "\n",
    "Your _Path_ is where the shell looks for commands.  It is an _ordered_ list, so the first application that fits the command is used."
   ]
  },
  {
   "cell_type": "code",
   "execution_count": null,
   "metadata": {},
   "outputs": [],
   "source": [
    "export PATH=$PATH:/path/to/dir"
   ]
  },
  {
   "cell_type": "markdown",
   "metadata": {},
   "source": [
    "## User Management"
   ]
  },
  {
   "cell_type": "markdown",
   "metadata": {},
   "source": [
    "### Access and groups\n",
    "\n",
    "Access can take a while to become comfortable with understanding.  Stay with it as security and protection is a necessity for every usage."
   ]
  },
  {
   "cell_type": "code",
   "execution_count": null,
   "metadata": {},
   "outputs": [],
   "source": [
    "#list of groups \n",
    "cat /etc/group\n",
    "#list all users in a Linux group\n",
    "getent group <groupname>;\n",
    "#list all groups you belong to\n",
    "groups\n",
    "#create new user\n",
    "sudo adduser <name>\n",
    "#remove user\n",
    "deluser <name>\n",
    "#add user to group\n",
    "sudo usermod -G <name-of-group> -a <name-of-user>\n",
    "#remove user from group\n",
    "gpasswd -d <user group>"
   ]
  },
  {
   "cell_type": "markdown",
   "metadata": {},
   "source": [
    "### SSH to remote server\n",
    "\n",
    "login to remote"
   ]
  },
  {
   "cell_type": "code",
   "execution_count": null,
   "metadata": {},
   "outputs": [],
   "source": [
    "ssh-keygen -t rsa\n",
    "ssh-copy-id githubstats@144.76.39.53\n",
    "ssh githubstats@144.76.39.53"
   ]
  },
  {
   "cell_type": "markdown",
   "metadata": {},
   "source": [
    "### VPS system admin \n",
    "\n",
    "ref(user-config): https://www.digitalocean.com/community/tutorials/how-to-use-git-to-manage-your-user-configuration-files-on-a-linux-vps"
   ]
  },
  {
   "cell_type": "markdown",
   "metadata": {},
   "source": [
    "## Advanced File System"
   ]
  },
  {
   "cell_type": "markdown",
   "metadata": {},
   "source": [
    "### Copying, moving, and merging files"
   ]
  },
  {
   "cell_type": "code",
   "execution_count": null,
   "metadata": {},
   "outputs": [],
   "source": [
    "#copy without subfolders\n",
    "find worker-1/data/db/* -type f -exec cp {} data_all_Random-Net/ \\;\n",
    "\n",
    "python integrate_databases.py --src ~/data_ALL/* --dest ~/COMBINED.db\n",
    "\n",
    "# Data files: moving\n",
    "\n",
    "\n",
    "#merge\n",
    "rsync -aP worker-1/data/db/* data_all/\n",
    "rsync -aP worker-2/data/db/* data_all/"
   ]
  },
  {
   "cell_type": "markdown",
   "metadata": {},
   "source": [
    "### Copy files to remote server"
   ]
  },
  {
   "cell_type": "code",
   "execution_count": null,
   "metadata": {},
   "outputs": [],
   "source": [
    "scp file.txt <remote_username>@<ip_address>:/remote/directory\n",
    "scp file.txt jason@10.10.0.2:/remote/directory\n",
    "scp <remote_username>@<host_name>:/from/directory /to/directory/\n",
    "scp jason@hetzner.com:/mnt/jason/file.xml /Users/jason/Desktop/"
   ]
  },
  {
   "cell_type": "markdown",
   "metadata": {},
   "source": [
    "### Find files, directories, commands, and applications\n",
    "\n",
    "This another topic that can take a while to learn all of the functionality, but can make your life amazinginly easier in the long run.  Refer back to over time, and reference a few of these tutorials at [Digital Ocean](https://www.digitalocean.com/community/tutorials/how-to-use-find-and-locate-to-search-for-files-on-a-linux-vps) and [Binary Tides](https://www.binarytides.com/linux-find-command-examples/)."
   ]
  },
  {
   "cell_type": "code",
   "execution_count": null,
   "metadata": {},
   "outputs": [],
   "source": [
    "#files, dir\n",
    "find .\n",
    "find <location> <comparison-criteria> \"<search-term>\"\n",
    "find <path> -type <f,d> -maxdepth <2> -iname \"<name_ignore_case>\" ! -iname \"<or_name>\"\n",
    "find / -ipath \"<path_ignore_case>\"\n",
    "find / -lname \"<symbolic_link>\"\n",
    "find / -regex \"<name_by_regex>\"\n",
    "#find files and remove them\n",
    "find . -maxdepth 1 -type d -name \"feature-*\" -exec rm -rf {} \\;\n",
    "#check everywhere\n",
    "locate <filename>\n",
    "#commands\n",
    "history | grep ssh\n",
    "#application binaries\n",
    "whereis -b <application>"
   ]
  },
  {
   "cell_type": "markdown",
   "metadata": {},
   "source": [
    "### Find files that contain matching text\n",
    "\n",
    "Searching among millions of files for specific text is a very powerful feature.  Be sure to include this in your daily habits and it will be a live-saver for some future endeavor.  "
   ]
  },
  {
   "cell_type": "code",
   "execution_count": null,
   "metadata": {},
   "outputs": [],
   "source": [
    "grep -rnw '/path/to/somewhere/' -e 'pattern'\n",
    "\n",
    "# -r or -R is recursive\n",
    "# -n line number\n",
    "# -w match the whole word\n",
    "# -i ignore case\n",
    "# -l (lower-case L) can be added to just give the file name of matching files"
   ]
  },
  {
   "cell_type": "markdown",
   "metadata": {},
   "source": [
    "Along with these, `--exclude`, `--include`, `--exclude-dir` flags could be used for efficient searching:\n",
    "\n",
    "* This will only search through those files which have .c or .h extensions:\n",
    "\n",
    "    `grep --include=\\*.{c,h} -rnw '/path/to/somewhere/' -e \"pattern\"`\n",
    "\n",
    "* This will exclude searching all the files ending with .o extension:\n",
    "\n",
    "    `grep --exclude=*.o -rnw '/path/to/somewhere/' -e \"pattern\"`\n",
    "\n",
    "* For directories it's possible to exclude a particular directory(ies) through --exclude-dir parameter. For example, this will exclude the dirs dir1/, dir2/ and all of them matching *.dst/:\n",
    "\n",
    "    `grep --exclude-dir={dir1,dir2,*.dst} -rnw '/path/to/somewhere/' -e \"pattern\"`"
   ]
  },
  {
   "cell_type": "markdown",
   "metadata": {},
   "source": [
    "### Perform command on multiple files\n",
    "\n",
    "There are two ways you can apply the same command across multiple files.  The first is a one-liner using `find` with `-exec`.  The second is using a `for` loop.  The examples use the following Clojure compilation on a javascript file: `java -jar compiler.jar --js filename.js --js_output_file newfilename.js`"
   ]
  },
  {
   "cell_type": "code",
   "execution_count": null,
   "metadata": {},
   "outputs": [],
   "source": [
    "#find and execute\n",
    "find . -name \"*.js\" -exec java -jar compiler.jar --js {} --js_output_file new{} \\;"
   ]
  },
  {
   "cell_type": "code",
   "execution_count": null,
   "metadata": {},
   "outputs": [],
   "source": [
    "#typical for loop\n",
    "for filename in ./*.js\n",
    "do\n",
    "    java -jar compiler.jar --js \"${filename}\" --js_output_file \"new${filename}\"\n",
    "done"
   ]
  },
  {
   "cell_type": "markdown",
   "metadata": {},
   "source": [
    "### Compress and archive"
   ]
  },
  {
   "cell_type": "code",
   "execution_count": null,
   "metadata": {},
   "outputs": [],
   "source": [
    "#create zip (automatic compression)\n",
    "zip -r <desired_file.zip> <dir_path>\n",
    "#exclude file from zip\n",
    "zip <desired_file.zip> -r <dir_path> -x *.<file_extension>\n",
    "#add to existing zip\n",
    "zip -r <existing_file.zip> <path/to/dir>\n",
    "#tar compress, maintains folder structure\n",
    "tar -czvf <desired_tar_file> <dir_path>\n",
    "#list files\n",
    "tar -tf <tarfilename>\n",
    "#uncompress, extract\n",
    "tar -xzvf <tarball_file>"
   ]
  },
  {
   "cell_type": "markdown",
   "metadata": {},
   "source": [
    "### Delete and trash (safe-delete)"
   ]
  },
  {
   "cell_type": "code",
   "execution_count": null,
   "metadata": {},
   "outputs": [],
   "source": [
    "rm <file>\n",
    "sudo apt-get install trash-cli\n",
    "trash <file>\n",
    "trash-list\n",
    "trash-restore <file>\n",
    "trash-empty"
   ]
  },
  {
   "cell_type": "markdown",
   "metadata": {},
   "source": [
    "## Processing Files\n",
    "\n",
    "This subject is quite popular after the _big data_ and _data science_ movement.  Being able to work with files as they exist on the file system, without bringing them into a memory-hungry processing environment, such as R or Python, can be a life-saver.\n",
    "\n",
    "These are a few popular resources for learning more:\n",
    "* [Data science tools for the command line](https://www.datascienceworkshops.com/blog/seven-command-line-tools-for-data-science/)\n",
    "* [book: Data science at the command line](https://www.datascienceatthecommandline.com/#tools)\n"
   ]
  },
  {
   "cell_type": "markdown",
   "metadata": {},
   "source": [
    "### Count files in dir"
   ]
  },
  {
   "cell_type": "code",
   "execution_count": null,
   "metadata": {},
   "outputs": [],
   "source": [
    "echo 'Files: '; ls -1q ./* | wc -l\n",
    "echo 'Files in subs'; find . -type f | wc -l"
   ]
  },
  {
   "cell_type": "markdown",
   "metadata": {},
   "source": [
    "### Data files: summarizing"
   ]
  },
  {
   "cell_type": "code",
   "execution_count": null,
   "metadata": {},
   "outputs": [],
   "source": [
    "#check number of lines\n",
    "! wc -l Data/taxi/green_tripdata_2015-09.csv\n",
    "#check first few lines\n",
    "! head -n3 Data/taxi/green_tripdata_2015-09.csv"
   ]
  },
  {
   "cell_type": "markdown",
   "metadata": {},
   "source": [
    "### Regex"
   ]
  },
  {
   "cell_type": "code",
   "execution_count": null,
   "metadata": {},
   "outputs": [],
   "source": [
    "env | grep -i User"
   ]
  },
  {
   "cell_type": "markdown",
   "metadata": {},
   "source": [
    "### Tools\n",
    "\n",
    "For YAML, use shyaml.\n",
    "For Amazon S3, s3cmd is convenient and s4cmd is faster. Amazon's aws and the improved saws are essential for other AWS-related tasks."
   ]
  },
  {
   "cell_type": "markdown",
   "metadata": {},
   "source": [
    "* jq - sed for JSON; For interactive use, also see jid and jiq\n",
    "* json2csv - convert JSON to CSV\n",
    "* csvkit - suite of utilities for working with CSV; provides in2csv, csvcut, csvjoin, csvgrep, etc.\n",
    "* scrape - HTML extraction using XPath or CSS selectors\n",
    "* xml2json - convert XML to JSON"
   ]
  },
  {
   "cell_type": "markdown",
   "metadata": {},
   "source": [
    "## Version Control and Github\n",
    "\n",
    "The [awesome github](https://github.com/jlevy/awesome-github-1) page provides a good understanding of the functionality that made Github the universal repo site for public source code projects.  Its private couterpart is an emulation named [Gitlab](https://about.gitlab.com/)."
   ]
  },
  {
   "cell_type": "code",
   "execution_count": null,
   "metadata": {},
   "outputs": [],
   "source": [
    "# Git\n",
    "git checkout HEAD -- my-file.txt\n",
    "git push origin --delete <branch_name>\n",
    "git branch -d <branch_name>\n",
    "git remote set-url origin https://some_url/some_repo\n",
    "\n",
    "git reset --hard\n",
    "git clean -f -d"
   ]
  },
  {
   "cell_type": "markdown",
   "metadata": {},
   "source": [
    "## Conclusion\n",
    "\n",
    "This post is more of a cheatsheet and summary than it is for learning.  Each individual subject could be expounded upon in a book.  The reader can use this to gain a superficial understanding and have some commands to try.  After learning more about the details, it can be referenced for a quick review."
   ]
  }
 ],
 "metadata": {
  "kernelspec": {
   "display_name": "Python 3",
   "language": "python",
   "name": "python3"
  },
  "language_info": {
   "codemirror_mode": {
    "name": "ipython",
    "version": 3
   },
   "file_extension": ".py",
   "mimetype": "text/x-python",
   "name": "python",
   "nbconvert_exporter": "python",
   "pygments_lexer": "ipython3",
   "version": "3.7.3"
  }
 },
 "nbformat": 4,
 "nbformat_minor": 2
}
