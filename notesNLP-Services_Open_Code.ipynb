{
 "cells": [
  {
   "cell_type": "markdown",
   "metadata": {},
   "source": [
    "# Comparison of Natural Language Understanding Services and Frameworks"
   ]
  },
  {
   "cell_type": "markdown",
   "metadata": {},
   "source": [
    "This notebook implements code from four different commerical NLP services in a typical workflow.  Each script should be run as a stand-alone implementation."
   ]
  },
  {
   "cell_type": "markdown",
   "metadata": {},
   "source": [
    "__Open source references__\n",
    "\n",
    "* [Python: spaCy](https://www.analyticsvidhya.com/blog/2017/04/natural-language-processing-made-easy-using-spacy-%E2%80%8Bin-python/)\n",
    "* [R: TextMining(tm)](https://eight2late.wordpress.com/2015/05/27/a-gentle-introduction-to-text-mining-using-r/)\n",
    "* [R: OpenNLP](https://rpubs.com/lmullen/nlp-chapter)"
   ]
  },
  {
   "cell_type": "code",
   "execution_count": 1,
   "metadata": {},
   "outputs": [],
   "source": [
    "from IPython.display import Image\n",
    "from IPython.core.display import HTML "
   ]
  },
  {
   "cell_type": "markdown",
   "metadata": {},
   "source": [
    "### Summary of all open frameworks and commercial services\n"
   ]
  },
  {
   "cell_type": "code",
   "execution_count": 2,
   "metadata": {},
   "outputs": [
    {
     "data": {
      "text/html": [
       "<img src=\"./images/Cloud_and_Open.png\" width=\"700\"/>"
      ],
      "text/plain": [
       "<IPython.core.display.Image object>"
      ]
     },
     "execution_count": 2,
     "metadata": {},
     "output_type": "execute_result"
    }
   ],
   "source": [
    "Image(url= \"images/Cloud_and_Open.png\", width=700)"
   ]
  },
  {
   "cell_type": "markdown",
   "metadata": {},
   "source": [
    "### Detailed explanation of differences\n",
    "\n"
   ]
  },
  {
   "cell_type": "markdown",
   "metadata": {},
   "source": [
    "### [R](https://cran.r-project.org/web/views/NaturalLanguageProcessing.html)\n",
    "\n",
    "This example code is taken from the [blog](https://eight2late.wordpress.com/2015/05/27/a-gentle-introduction-to-text-mining-using-r/), with code using additional libraries, from [here](https://rpubs.com/lmullen/nlp-chapter)"
   ]
  },
  {
   "cell_type": "code",
   "execution_count": null,
   "metadata": {},
   "outputs": [],
   "source": []
  },
  {
   "cell_type": "markdown",
   "metadata": {},
   "source": [
    "### [Python: spaCy](https://spacy.io/usage/spacy-101)\n",
    "\n",
    "[SpaCy](https://spacy.io/usage/processing-pipelines) is clear in its documentation that it is built for general and customized pipelines.  This example code is taken from the [blog](https://www.analyticsvidhya.com/blog/2017/04/natural-language-processing-made-easy-using-spacy-%E2%80%8Bin-python/).\n",
    "\n",
    "`$ conda install spacy`"
   ]
  },
  {
   "cell_type": "code",
   "execution_count": 1,
   "metadata": {},
   "outputs": [],
   "source": [
    "import requests\n",
    "\n",
    "r = requests.get('https://s3-ap-south-1.amazonaws.com/av-blog-media/wp-content/uploads/2017/04/04080929/Tripadvisor_hotelreviews_Shivambansal.txt')"
   ]
  },
  {
   "cell_type": "code",
   "execution_count": 2,
   "metadata": {},
   "outputs": [
    {
     "data": {
      "text/plain": [
       "'Nice place Better than some reviews give it credit for. Overall, the rooms were a bit small but nice'"
      ]
     },
     "execution_count": 2,
     "metadata": {},
     "output_type": "execute_result"
    }
   ],
   "source": [
    "r.text[0:100]"
   ]
  },
  {
   "cell_type": "code",
   "execution_count": null,
   "metadata": {},
   "outputs": [],
   "source": [
    "# prepare space\n",
    "import spacy \n",
    "nlp = spacy.load('en')\n",
    "\n",
    "document = r.text\n",
    "document = nlp(document)"
   ]
  },
  {
   "cell_type": "code",
   "execution_count": 7,
   "metadata": {},
   "outputs": [
    {
     "data": {
      "text/plain": [
       "['text_with_ws',\n",
       " 'to_array',\n",
       " 'to_bytes',\n",
       " 'user_data',\n",
       " 'user_hooks',\n",
       " 'user_span_hooks',\n",
       " 'user_token_hooks',\n",
       " 'vector',\n",
       " 'vector_norm',\n",
       " 'vocab']"
      ]
     },
     "execution_count": 7,
     "metadata": {},
     "output_type": "execute_result"
    }
   ],
   "source": [
    "# identifiers in module\n",
    "dir(document)[-10:]"
   ]
  },
  {
   "cell_type": "code",
   "execution_count": 9,
   "metadata": {},
   "outputs": [
    {
     "data": {
      "text/plain": [
       "[Nice place Better than some reviews give it credit for.,\n",
       " Overall, the rooms were a bit small but nice.,\n",
       " Everything was clean, the view was wonderful and it is very well located (the Prudential Center makes shopping and eating easy and the T is nearby for jaunts out and about the city).,\n",
       " Overall, it was a good experience and the staff was quite friendly. ,\n",
       " what a surprise What a surprise the Sheraton was after reading some of the reviews.]"
      ]
     },
     "execution_count": 9,
     "metadata": {},
     "output_type": "execute_result"
    }
   ],
   "source": [
    "# tokenization\n",
    "document[0]\n",
    "document[len(document)-5]\n",
    "list(document.sents)[:5]"
   ]
  },
  {
   "cell_type": "code",
   "execution_count": 10,
   "metadata": {},
   "outputs": [],
   "source": [
    "# part-of-speech\n",
    "all_tags = {w.pos: w.pos_ for w in document}"
   ]
  },
  {
   "cell_type": "code",
   "execution_count": 14,
   "metadata": {},
   "outputs": [
    {
     "data": {
      "text/plain": [
       "{82: 'ADJ',\n",
       " 83: 'ADP',\n",
       " 84: 'ADV',\n",
       " 87: 'CCONJ',\n",
       " 88: 'DET',\n",
       " 89: 'INTJ',\n",
       " 90: 'NOUN',\n",
       " 91: 'NUM',\n",
       " 92: 'PART',\n",
       " 93: 'PRON',\n",
       " 94: 'PROPN',\n",
       " 95: 'PUNCT',\n",
       " 97: 'SYM',\n",
       " 98: 'VERB',\n",
       " 99: 'X',\n",
       " 101: 'SPACE'}"
      ]
     },
     "execution_count": 14,
     "metadata": {},
     "output_type": "execute_result"
    }
   ],
   "source": [
    "all_tags"
   ]
  },
  {
   "cell_type": "code",
   "execution_count": 15,
   "metadata": {},
   "outputs": [
    {
     "name": "stdout",
     "output_type": "stream",
     "text": [
      "Nice JJ\n",
      "place NN\n",
      "Better NNP\n",
      "than IN\n",
      "some DT\n",
      "reviews NNS\n",
      "give VBP\n",
      "it PRP\n",
      "credit NN\n",
      "for IN\n",
      ". .\n"
     ]
    }
   ],
   "source": [
    "# all tags of first sentence of our document \n",
    "for word in list(document.sents)[0]:  \n",
    "    print( word, word.tag_)"
   ]
  },
  {
   "cell_type": "code",
   "execution_count": 16,
   "metadata": {},
   "outputs": [
    {
     "data": {
      "text/plain": [
       "[('hotel', 685),\n",
       " ('room', 653),\n",
       " ('great', 300),\n",
       " ('sheraton', 286),\n",
       " ('location', 272)]"
      ]
     },
     "execution_count": 16,
     "metadata": {},
     "output_type": "execute_result"
    }
   ],
   "source": [
    "#define some parameters  \n",
    "noisy_pos_tags = ['PROP']\n",
    "min_token_length = 2\n",
    "\n",
    "#Function to check if the token is a noise or not  \n",
    "def isNoise(token):     \n",
    "    is_noise = False\n",
    "    if token.pos_ in noisy_pos_tags:\n",
    "        is_noise = True \n",
    "    elif token.is_stop == True:\n",
    "        is_noise = True\n",
    "    elif len(token.string) <= min_token_length:\n",
    "        is_noise = True\n",
    "    return is_noise \n",
    "\n",
    "def cleanup(token, lower = True):\n",
    "    if lower:\n",
    "       token = token.lower()\n",
    "    return token.strip()\n",
    "\n",
    "\n",
    "# top unigrams used in the reviews \n",
    "from collections import Counter\n",
    "cleaned_list = [cleanup(word.string) for word in document if not isNoise(word)]\n",
    "Counter(cleaned_list) .most_common(5)"
   ]
  },
  {
   "cell_type": "code",
   "execution_count": 18,
   "metadata": {},
   "outputs": [
    {
     "name": "stdout",
     "output_type": "stream",
     "text": [
      "EVENT ['the Hynes Convention centre', 'DIRTY Room / RUDE Staff My', 'the Body Shopy', 'New Year', 'the Olympic Trials']\n",
      "LAW ['#1', 'Room 2916', 'the Duck Tour - it', 'the USS Constitution', 'the Sheraton Boston']\n",
      "ORG ['', 'SHERATON', 'the Wrentham', 'Good Hotel', 'Whats Good']\n",
      "GPE ['the United States', 'Pizza', 'Starbucks', 'Wrentham Village -', 'Hotel']\n",
      "PRODU ['3.30pm', 'Radisson', 'Centre', '225.00', 'Suite']\n",
      "CARDI ['', '10,000', 'about 1000', '170', '9AM']\n",
      "LOC ['Fenway Park', 'the Back Bay', '', 'Charles River', 'the South End']\n",
      "MONEY ['about $40', '$109', '10 dollars', '99', '20/hr).I']\n",
      "QUANT ['10 feet', 'a ton', '27 inch', 'the airline miles', 'two feet']\n",
      "WORK_ ['The Room', 'the Back Bay', 'Wonderful Location The', 'Beautiful and the', 'a Charles River']\n",
      "TIME ['about 5 nights', 'the night', 'Later in the afternoon', 'early evening', '45 seconds']\n",
      "NORP ['American', 'Americans', 'stayThese', 'Brit', 'Priceline']\n",
      "PERCE ['20% tip', '100%', '9pm)', '50% off', 'about 20mins,']\n",
      "DATE ['the weekend', 'a couple of bucks', '15 year old', 'the end of July 2006', 'the next day']\n",
      "FAC ['Fenway Park', '', 'the North Tower', 'the Prudential Building', 'a South Tower']\n",
      "ORDIN ['Secondly', '10th', '8th', '50th', '15-minute']\n",
      "LANGU ['English']\n",
      "PERSO ['Yahoo', 'Starbucks', 'Comfortable Beds', 'Ié\\x88¥æª\\x9de', 'Staff']\n"
     ]
    }
   ],
   "source": [
    "# entities\n",
    "labels = set([w.label_ for w in document.ents]) \n",
    "for label in labels: \n",
    "    entities = [cleanup(e.string, lower=False) for e in document.ents if label==e.label_] \n",
    "    entities = list(set(entities)) \n",
    "    print( label[:5],entities[:5] )   "
   ]
  },
  {
   "cell_type": "code",
   "execution_count": 21,
   "metadata": {},
   "outputs": [
    {
     "name": "stdout",
     "output_type": "stream",
     "text": [
      "A :  []\n",
      "cab :  [A, from]\n",
      "from :  [airport, to]\n",
      "the :  []\n",
      "airport :  [the]\n",
      "to :  [hotel]\n",
      "the :  []\n",
      "hotel :  [the]\n",
      "can :  []\n",
      "be :  [cab, can, cheaper, .]\n",
      "cheaper :  [than]\n",
      "than :  [shuttles]\n",
      "the :  []\n",
      "shuttles :  [the, depending]\n",
      "depending :  [time]\n",
      "what :  []\n",
      "time :  [what, of]\n",
      "of :  [day]\n",
      "the :  []\n",
      "day :  [the, go]\n",
      "you :  []\n",
      "go :  [you]\n",
      ". :  []\n"
     ]
    }
   ],
   "source": [
    "# dependency parsing\n",
    "# extract all review sentences that contains the term - hotel\n",
    "hotel = [sent for sent in document.sents if 'hotel' in sent.string.lower()]\n",
    "\n",
    "# create dependency tree\n",
    "sentence = hotel[2] \n",
    "for word in sentence:\n",
    "    print( word, ': ', str(list(word.children)) )"
   ]
  },
  {
   "cell_type": "code",
   "execution_count": 34,
   "metadata": {},
   "outputs": [
    {
     "data": {
      "text/plain": [
       "[('great', 368),\n",
       " ('other', 266),\n",
       " ('my', 247),\n",
       " ('our', 243),\n",
       " ('nice', 228),\n",
       " ('good', 223),\n",
       " ('that', 181),\n",
       " ('many', 155),\n",
       " ('its', 145),\n",
       " ('which', 142)]"
      ]
     },
     "execution_count": 34,
     "metadata": {},
     "output_type": "execute_result"
    }
   ],
   "source": [
    "# check all adjectives used with a word \n",
    "def pos_words (sentence, token, ptag):\n",
    "    sentences = [sent for sent in sentence.sents if token in sent.string]     \n",
    "    pwrds = []\n",
    "    for sent in sentences:\n",
    "        for word in sent:\n",
    "            for character in word.string: \n",
    "                   pwrds.extend([child.string.strip() for child in word.children if child.pos_ == ptag] )\n",
    "    return Counter(pwrds).most_common(10)\n",
    "\n",
    "pos_words(document, 'hotel', 'ADJ')"
   ]
  },
  {
   "cell_type": "markdown",
   "metadata": {},
   "source": [
    "### [Scala: Epic](http://www.scalanlp.org/documentation/)"
   ]
  },
  {
   "cell_type": "code",
   "execution_count": null,
   "metadata": {},
   "outputs": [],
   "source": []
  },
  {
   "cell_type": "markdown",
   "metadata": {},
   "source": [
    "END OF DOCUMENT"
   ]
  }
 ],
 "metadata": {
  "kernelspec": {
   "display_name": "Python 3",
   "language": "python",
   "name": "python3"
  },
  "language_info": {
   "codemirror_mode": {
    "name": "ipython",
    "version": 3
   },
   "file_extension": ".py",
   "mimetype": "text/x-python",
   "name": "python",
   "nbconvert_exporter": "python",
   "pygments_lexer": "ipython3",
   "version": "3.5.2"
  }
 },
 "nbformat": 4,
 "nbformat_minor": 2
}
