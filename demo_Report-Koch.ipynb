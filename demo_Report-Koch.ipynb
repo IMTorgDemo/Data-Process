{
 "cells": [
  {
   "cell_type": "markdown",
   "metadata": {},
   "source": [
    "# Survey Data Analysis for Koch\n",
    "\n",
    "Evaluator, thank you for taking the time to review my report.  This document is written in an informal voice and includes in-line code to facillitate evaluation.  In an actual report to non-technical stakeholders, the code would be separated from the reader with only tables, graphs, and visualizations to summarize the data, and occasional confidence intervals and references for the more technically inclined.\n",
    "\n",
    "All descriptions of the code are placed in the section headers.  Comments within the code provide further explanation and references, when appropriate.\n",
    "\n",
    "__Included deliverables__\n",
    "\n",
    "* Description of process and methods, including your code\n",
    "* Summary of model performance measures\n",
    "* Visualizations for communicating results\n",
    "* A scored file (.csv) with i) probabilities and ii) classifications.\n",
    "\n",
    "Files submitted\n",
    "* demo_Report-Koch.ipynb / .html\n",
    "* demo_Report-Predict_Koch.ipynb / .html\n",
    "* results.csv"
   ]
  },
  {
   "cell_type": "markdown",
   "metadata": {},
   "source": [
    "<br>\n",
    "<br>\n",
    "<br>\n",
    "<br>\n",
    "<hr>\n",
    "\n",
    "# Report Analysis\n",
    "\n",
    "<br>\n",
    "\n",
    "__Executive Summary__\n",
    "\n",
    "This report outlines the i) modeling of completed survey and profile data, and the ii) prediction of survey response data from the provided profile data.  The results of the predictions are programmed in the 'Predict_Koch' report and provided in the 'class_predict.txt', 'class_prob.txt' files.  These results come with modest confidence because the trained K-Nearest Neighbors model performed at an average test accuracy level, ~67% (AUC 0.74).  Future work to improve accuracy could include combining the trained models as an ensemble routine, as well as creating more transformed features.  The report explains the steps taken to reach these conclusions, as well as the initial data quality checks and analysis that support the methodology.\n",
    "\n",
    "<br>\n",
    "\n",
    "__Problem__\n",
    "\n",
    "Predict whether a voter is likely to support higher government spending versus reducing the national debt when given a choice.\n",
    "\n",
    "__Evaluation__\n",
    "\n",
    "Classifiers are primarily trained to maximize Accuracy score and are evaluated by this measure with test data.  Secondary interest is in maintaining overall model integrity and quality through standard modeling practices, and by comparing the area under the curve (AUC) and the ROC curve, directly.  Neither an error by False Positive or False Negative hold priority; however, there should not be an extereme difference between the two.\n",
    "\n",
    "__Process__\n",
    "\n",
    "The report and analysis move in a linear fashion reflecting the predictive modeling process.  After loading the training data, copious checks are performed to ensure quality and that no glaring anomalies exist.  Before the training - testing data split, the data are _balanced_ by resampling from the negative response data until it has the same count as the positive response.  Balancing the data allows for accuracy to be used as a measure of evaluation more effectively, across different modeling approaches, and makes use of all available data (as opposed to decreasing the number of positive responses).\n",
    "\n",
    "Once these basic considerations are complete, an exploratory data analysis is made into the numeric and categoric data, separately.  Data appear to have some strong assocations across features, but also fail to neatly discrimate the response data.  This leads to the choice of Principle Components Analysis (PCA) to be the main driver of dimensionality reduction.  PCA, encoding, and other transformations support the data pipeline before modeling.\n",
    "\n",
    "Three model families are trained, each with different characteristics.  K-Nearest Neighbors (accuracy: 67%, AUC: 0.74) is the most simple.  Logistic Regression (accuracy: 60%, AUC: 0.62) is used as a traditional approach to binary response data.  Random Forest (accuracy: 63%, AUC: 0.673) is more sophisticated in implementation and complex in structure.  These models are trained using K-folds Cross Validation, with hyper-parameter tunning using grid search for Logistic Regression and Random Forest models, and stochastic search for K-Nearest Neighbors.\n",
    "\n",
    "K-Nearest Neighbors performs the best when accuracy is obtained from test data.  It is mostly balanced in its False Positive and False Negative errors.  It also dominates the other models in the  Receiver Operating Characteristic curve and Area Under Curve (AUC).\n",
    "\n",
    "\n",
    "__Prediction Implementation and Future Work__\n",
    "\n",
    "The model is implemented in the 'demo_Report-Predict_Koch.ipynb' file.  With more time I would add all models to an ensemble routine.  I would also add customized pre-processing to the model's current pipeline so that it would be more self-contained."
   ]
  },
  {
   "cell_type": "markdown",
   "metadata": {},
   "source": [
    "<br>\n",
    "<br>\n",
    "<hr>\n",
    "\n",
    "Data files provided\n",
    "* File 1: Survey responses – 20,000 records\n",
    "* File 2: Available features – 20,000 records\n",
    "* File 3: Submission file – 29,231 records"
   ]
  },
  {
   "cell_type": "code",
   "execution_count": 1,
   "metadata": {},
   "outputs": [
    {
     "data": {
      "text/plain": [
       "('1.15.4', '0.23.4')"
      ]
     },
     "execution_count": 1,
     "metadata": {},
     "output_type": "execute_result"
    }
   ],
   "source": [
    "import numpy as np\n",
    "import pandas as pd\n",
    "\n",
    "np.__version__, pd.__version__"
   ]
  },
  {
   "cell_type": "code",
   "execution_count": 2,
   "metadata": {},
   "outputs": [],
   "source": [
    "%matplotlib inline\n",
    "%load_ext rpy2.ipython"
   ]
  },
  {
   "cell_type": "code",
   "execution_count": 3,
   "metadata": {},
   "outputs": [],
   "source": [
    "import warnings\n",
    "warnings.filterwarnings('ignore')"
   ]
  },
  {
   "cell_type": "code",
   "execution_count": 4,
   "metadata": {},
   "outputs": [],
   "source": [
    "#pd.set_option('display.height', 500)\n",
    "pd.set_option('display.max_rows', 50)"
   ]
  },
  {
   "cell_type": "code",
   "execution_count": 5,
   "metadata": {},
   "outputs": [
    {
     "name": "stdout",
     "output_type": "stream",
     "text": [
      "DS_Role_Project_Instructions_Spending_2016.docx  File2.csv  Predict\n",
      "DS_Role_Project_Instructions_Spending_2016.odt\t File3.csv  ProjectFiles.zip\n",
      "File1.csv\t\t\t\t\t Models\n"
     ]
    }
   ],
   "source": [
    "!ls Data/survey"
   ]
  },
  {
   "cell_type": "code",
   "execution_count": 6,
   "metadata": {},
   "outputs": [
    {
     "name": "stdout",
     "output_type": "stream",
     "text": [
      "﻿ID,State,SPENDINGRESPONSE\n",
      "18138,AK,Spend to Improve Economy\n",
      "25537,AK,Spend to Improve Economy\n",
      "27167,AK,Reduce National Debt and Deficit\n",
      "31853,AK,Reduce National Debt and Deficit\n",
      "67467,AK,Reduce National Debt and Deficit\n",
      "76622,AK,Reduce National Debt and Deficit\n",
      "84724,AK,Reduce National Debt and Deficit\n",
      "105767,AK,Spend to Improve Economy\n",
      "118550,AK,Reduce National Debt and Deficit\n"
     ]
    }
   ],
   "source": [
    "! head Data/survey/File1.csv"
   ]
  },
  {
   "cell_type": "markdown",
   "metadata": {},
   "source": [
    "<br>\n",
    "<br>\n",
    "\n",
    "# Load and Validate Data"
   ]
  },
  {
   "cell_type": "markdown",
   "metadata": {},
   "source": [
    "The data from File1 and File2 appear to merge without any problems.  The code below performs validations to check that there are no obvious mistakes between the files and ensures correct data types.\n",
    "\n",
    "Note that the dataset is unbalanced in that nearly twice as many responsdents answered to reduce government spending, as opposed to spend to improve.  This is neutralized by sampling with replacement from the negative group so that the number of groups are the same.  "
   ]
  },
  {
   "cell_type": "code",
   "execution_count": 7,
   "metadata": {},
   "outputs": [
    {
     "name": "stdout",
     "output_type": "stream",
     "text": [
      "(20000, 3)\n"
     ]
    },
    {
     "data": {
      "text/html": [
       "<div>\n",
       "<style scoped>\n",
       "    .dataframe tbody tr th:only-of-type {\n",
       "        vertical-align: middle;\n",
       "    }\n",
       "\n",
       "    .dataframe tbody tr th {\n",
       "        vertical-align: top;\n",
       "    }\n",
       "\n",
       "    .dataframe thead th {\n",
       "        text-align: right;\n",
       "    }\n",
       "</style>\n",
       "<table border=\"1\" class=\"dataframe\">\n",
       "  <thead>\n",
       "    <tr style=\"text-align: right;\">\n",
       "      <th></th>\n",
       "      <th>ID</th>\n",
       "      <th>State</th>\n",
       "      <th>SPENDINGRESPONSE</th>\n",
       "    </tr>\n",
       "  </thead>\n",
       "  <tbody>\n",
       "    <tr>\n",
       "      <th>0</th>\n",
       "      <td>18138</td>\n",
       "      <td>AK</td>\n",
       "      <td>Spend to Improve Economy</td>\n",
       "    </tr>\n",
       "    <tr>\n",
       "      <th>1</th>\n",
       "      <td>25537</td>\n",
       "      <td>AK</td>\n",
       "      <td>Spend to Improve Economy</td>\n",
       "    </tr>\n",
       "    <tr>\n",
       "      <th>2</th>\n",
       "      <td>27167</td>\n",
       "      <td>AK</td>\n",
       "      <td>Reduce National Debt and Deficit</td>\n",
       "    </tr>\n",
       "  </tbody>\n",
       "</table>\n",
       "</div>"
      ],
      "text/plain": [
       "      ID State                  SPENDINGRESPONSE\n",
       "0  18138    AK          Spend to Improve Economy\n",
       "1  25537    AK          Spend to Improve Economy\n",
       "2  27167    AK  Reduce National Debt and Deficit"
      ]
     },
     "execution_count": 7,
     "metadata": {},
     "output_type": "execute_result"
    }
   ],
   "source": [
    "file1 = pd.read_csv(\"Data/survey/File1.csv\", header=\"infer\", index_col=False)\n",
    "print(file1.shape)\n",
    "file1.head(3)"
   ]
  },
  {
   "cell_type": "code",
   "execution_count": 8,
   "metadata": {},
   "outputs": [
    {
     "name": "stdout",
     "output_type": "stream",
     "text": [
      "(20000, 149)\n"
     ]
    },
    {
     "data": {
      "text/html": [
       "<div>\n",
       "<style scoped>\n",
       "    .dataframe tbody tr th:only-of-type {\n",
       "        vertical-align: middle;\n",
       "    }\n",
       "\n",
       "    .dataframe tbody tr th {\n",
       "        vertical-align: top;\n",
       "    }\n",
       "\n",
       "    .dataframe thead th {\n",
       "        text-align: right;\n",
       "    }\n",
       "</style>\n",
       "<table border=\"1\" class=\"dataframe\">\n",
       "  <thead>\n",
       "    <tr style=\"text-align: right;\">\n",
       "      <th></th>\n",
       "      <th>ID</th>\n",
       "      <th>State</th>\n",
       "      <th>f1</th>\n",
       "      <th>f2</th>\n",
       "      <th>f3</th>\n",
       "      <th>f4</th>\n",
       "      <th>f5</th>\n",
       "      <th>f6</th>\n",
       "      <th>f7</th>\n",
       "      <th>f8</th>\n",
       "      <th>...</th>\n",
       "      <th>f138</th>\n",
       "      <th>f139</th>\n",
       "      <th>f140</th>\n",
       "      <th>f141</th>\n",
       "      <th>f142</th>\n",
       "      <th>f143</th>\n",
       "      <th>f144</th>\n",
       "      <th>f145</th>\n",
       "      <th>f146</th>\n",
       "      <th>f147</th>\n",
       "    </tr>\n",
       "  </thead>\n",
       "  <tbody>\n",
       "    <tr>\n",
       "      <th>0</th>\n",
       "      <td>18138</td>\n",
       "      <td>AK</td>\n",
       "      <td>AK01</td>\n",
       "      <td>63</td>\n",
       "      <td>E</td>\n",
       "      <td>61.0</td>\n",
       "      <td>55.33333</td>\n",
       "      <td>66.0</td>\n",
       "      <td>52.33333</td>\n",
       "      <td>49.25</td>\n",
       "      <td>...</td>\n",
       "      <td>9.0</td>\n",
       "      <td>4.0</td>\n",
       "      <td>4.0</td>\n",
       "      <td>6.0</td>\n",
       "      <td>9.0</td>\n",
       "      <td>6.0</td>\n",
       "      <td>3.0</td>\n",
       "      <td>0.0</td>\n",
       "      <td>3.0</td>\n",
       "      <td>NaN</td>\n",
       "    </tr>\n",
       "    <tr>\n",
       "      <th>1</th>\n",
       "      <td>25537</td>\n",
       "      <td>AK</td>\n",
       "      <td>AK01</td>\n",
       "      <td>55</td>\n",
       "      <td>E</td>\n",
       "      <td>61.0</td>\n",
       "      <td>55.33333</td>\n",
       "      <td>66.0</td>\n",
       "      <td>52.33333</td>\n",
       "      <td>49.25</td>\n",
       "      <td>...</td>\n",
       "      <td>9.0</td>\n",
       "      <td>7.0</td>\n",
       "      <td>8.0</td>\n",
       "      <td>8.0</td>\n",
       "      <td>4.0</td>\n",
       "      <td>6.0</td>\n",
       "      <td>8.0</td>\n",
       "      <td>4.0</td>\n",
       "      <td>4.0</td>\n",
       "      <td>NaN</td>\n",
       "    </tr>\n",
       "    <tr>\n",
       "      <th>2</th>\n",
       "      <td>27167</td>\n",
       "      <td>AK</td>\n",
       "      <td>AK01</td>\n",
       "      <td>49</td>\n",
       "      <td>D</td>\n",
       "      <td>61.0</td>\n",
       "      <td>55.33333</td>\n",
       "      <td>66.0</td>\n",
       "      <td>52.33333</td>\n",
       "      <td>49.25</td>\n",
       "      <td>...</td>\n",
       "      <td>9.0</td>\n",
       "      <td>8.0</td>\n",
       "      <td>7.0</td>\n",
       "      <td>6.0</td>\n",
       "      <td>8.0</td>\n",
       "      <td>8.0</td>\n",
       "      <td>9.0</td>\n",
       "      <td>3.0</td>\n",
       "      <td>6.0</td>\n",
       "      <td>NaN</td>\n",
       "    </tr>\n",
       "    <tr>\n",
       "      <th>3</th>\n",
       "      <td>31853</td>\n",
       "      <td>AK</td>\n",
       "      <td>AK01</td>\n",
       "      <td>67</td>\n",
       "      <td>D</td>\n",
       "      <td>61.0</td>\n",
       "      <td>55.33333</td>\n",
       "      <td>66.0</td>\n",
       "      <td>52.33333</td>\n",
       "      <td>49.25</td>\n",
       "      <td>...</td>\n",
       "      <td>7.0</td>\n",
       "      <td>9.0</td>\n",
       "      <td>5.0</td>\n",
       "      <td>9.0</td>\n",
       "      <td>4.0</td>\n",
       "      <td>7.0</td>\n",
       "      <td>7.0</td>\n",
       "      <td>4.0</td>\n",
       "      <td>4.0</td>\n",
       "      <td>NaN</td>\n",
       "    </tr>\n",
       "    <tr>\n",
       "      <th>4</th>\n",
       "      <td>67467</td>\n",
       "      <td>AK</td>\n",
       "      <td>AK01</td>\n",
       "      <td>58</td>\n",
       "      <td>M</td>\n",
       "      <td>61.0</td>\n",
       "      <td>55.33333</td>\n",
       "      <td>66.0</td>\n",
       "      <td>52.33333</td>\n",
       "      <td>49.25</td>\n",
       "      <td>...</td>\n",
       "      <td>5.0</td>\n",
       "      <td>1.0</td>\n",
       "      <td>7.0</td>\n",
       "      <td>8.0</td>\n",
       "      <td>9.0</td>\n",
       "      <td>3.0</td>\n",
       "      <td>4.0</td>\n",
       "      <td>3.0</td>\n",
       "      <td>1.0</td>\n",
       "      <td>NaN</td>\n",
       "    </tr>\n",
       "  </tbody>\n",
       "</table>\n",
       "<p>5 rows × 149 columns</p>\n",
       "</div>"
      ],
      "text/plain": [
       "      ID State    f1  f2 f3    f4        f5    f6        f7     f8  ...   \\\n",
       "0  18138    AK  AK01  63  E  61.0  55.33333  66.0  52.33333  49.25  ...    \n",
       "1  25537    AK  AK01  55  E  61.0  55.33333  66.0  52.33333  49.25  ...    \n",
       "2  27167    AK  AK01  49  D  61.0  55.33333  66.0  52.33333  49.25  ...    \n",
       "3  31853    AK  AK01  67  D  61.0  55.33333  66.0  52.33333  49.25  ...    \n",
       "4  67467    AK  AK01  58  M  61.0  55.33333  66.0  52.33333  49.25  ...    \n",
       "\n",
       "   f138  f139  f140 f141 f142  f143  f144  f145  f146  f147  \n",
       "0   9.0   4.0   4.0  6.0  9.0   6.0   3.0   0.0   3.0   NaN  \n",
       "1   9.0   7.0   8.0  8.0  4.0   6.0   8.0   4.0   4.0   NaN  \n",
       "2   9.0   8.0   7.0  6.0  8.0   8.0   9.0   3.0   6.0   NaN  \n",
       "3   7.0   9.0   5.0  9.0  4.0   7.0   7.0   4.0   4.0   NaN  \n",
       "4   5.0   1.0   7.0  8.0  9.0   3.0   4.0   3.0   1.0   NaN  \n",
       "\n",
       "[5 rows x 149 columns]"
      ]
     },
     "execution_count": 8,
     "metadata": {},
     "output_type": "execute_result"
    }
   ],
   "source": [
    "file2 = pd.read_csv(\"Data/survey/File2.csv\")\n",
    "print(file2.shape)\n",
    "file2.head()"
   ]
  },
  {
   "cell_type": "code",
   "execution_count": 9,
   "metadata": {},
   "outputs": [
    {
     "name": "stdout",
     "output_type": "stream",
     "text": [
      "(20000, 151)\n"
     ]
    },
    {
     "data": {
      "text/plain": [
       "True"
      ]
     },
     "execution_count": 9,
     "metadata": {},
     "output_type": "execute_result"
    }
   ],
   "source": [
    "# check on state\n",
    "Survey = file1.merge(file2, left_on=\"ID\", right_on=\"ID\", how=\"left\")\n",
    "chk1 = Survey\n",
    "print(chk1.shape)\n",
    "(chk1.loc[chk1.State_x != chk1.State_y,]).shape[0] == 0"
   ]
  },
  {
   "cell_type": "code",
   "execution_count": 10,
   "metadata": {},
   "outputs": [
    {
     "data": {
      "text/plain": [
       "1    13831\n",
       "0     6169\n",
       "Name: resp, dtype: int64"
      ]
     },
     "execution_count": 10,
     "metadata": {},
     "output_type": "execute_result"
    }
   ],
   "source": [
    "lvl_reduce = Survey.SPENDINGRESPONSE.value_counts().index[0]\n",
    "Survey[\"resp\"] = 0\n",
    "Survey.loc[Survey.SPENDINGRESPONSE == lvl_reduce, [\"resp\"]] = 1\n",
    "Survey.resp.value_counts()"
   ]
  },
  {
   "cell_type": "markdown",
   "metadata": {},
   "source": [
    "__Neutral Dataset__"
   ]
  },
  {
   "cell_type": "markdown",
   "metadata": {},
   "source": [
    "Currently, the data are highly unbalanced in that there are more than twice as many of one response as the other.  This can be a dangerous situation that skews how models train and the results they provide.  We will neutralize this dataset by sampling with replacement from the smaller response group."
   ]
  },
  {
   "cell_type": "code",
   "execution_count": 11,
   "metadata": {},
   "outputs": [
    {
     "name": "stdout",
     "output_type": "stream",
     "text": [
      "True\n",
      "(27662, 152)\n"
     ]
    }
   ],
   "source": [
    "LessGov = Survey.loc[Survey.resp==1,]\n",
    "MoreGov = Survey.loc[Survey.resp==0,].sample(n=13831, replace=True, random_state=1)\n",
    "Survey = pd.concat([LessGov, MoreGov]).reset_index(drop=True)\n",
    "print( Survey.shape[0] == (LessGov.shape[0]+13831) )\n",
    "print( Survey.shape)"
   ]
  },
  {
   "cell_type": "markdown",
   "metadata": {},
   "source": [
    "__Check Response__"
   ]
  },
  {
   "cell_type": "code",
   "execution_count": 12,
   "metadata": {},
   "outputs": [
    {
     "data": {
      "text/plain": [
       "1    13831\n",
       "0    13831\n",
       "Name: resp, dtype: int64"
      ]
     },
     "execution_count": 12,
     "metadata": {},
     "output_type": "execute_result"
    }
   ],
   "source": [
    "# create y_tng\n",
    "#note: unbalanced dataset\n",
    "chk1 = Survey\n",
    "chk1.resp.value_counts()"
   ]
  },
  {
   "cell_type": "code",
   "execution_count": 13,
   "metadata": {},
   "outputs": [
    {
     "data": {
      "text/html": [
       "<div>\n",
       "<style scoped>\n",
       "    .dataframe tbody tr th:only-of-type {\n",
       "        vertical-align: middle;\n",
       "    }\n",
       "\n",
       "    .dataframe tbody tr th {\n",
       "        vertical-align: top;\n",
       "    }\n",
       "\n",
       "    .dataframe thead th {\n",
       "        text-align: right;\n",
       "    }\n",
       "</style>\n",
       "<table border=\"1\" class=\"dataframe\">\n",
       "  <thead>\n",
       "    <tr style=\"text-align: right;\">\n",
       "      <th>resp</th>\n",
       "      <th>0</th>\n",
       "      <th>1</th>\n",
       "      <th>All</th>\n",
       "      <th>prop</th>\n",
       "    </tr>\n",
       "    <tr>\n",
       "      <th>State_x</th>\n",
       "      <th></th>\n",
       "      <th></th>\n",
       "      <th></th>\n",
       "      <th></th>\n",
       "    </tr>\n",
       "  </thead>\n",
       "  <tbody>\n",
       "    <tr>\n",
       "      <th>MT</th>\n",
       "      <td>39</td>\n",
       "      <td>89</td>\n",
       "      <td>128</td>\n",
       "      <td>0.695312</td>\n",
       "    </tr>\n",
       "    <tr>\n",
       "      <th>UT</th>\n",
       "      <td>155</td>\n",
       "      <td>297</td>\n",
       "      <td>452</td>\n",
       "      <td>0.657080</td>\n",
       "    </tr>\n",
       "    <tr>\n",
       "      <th>NE</th>\n",
       "      <td>94</td>\n",
       "      <td>165</td>\n",
       "      <td>259</td>\n",
       "      <td>0.637066</td>\n",
       "    </tr>\n",
       "    <tr>\n",
       "      <th>ID</th>\n",
       "      <td>88</td>\n",
       "      <td>143</td>\n",
       "      <td>231</td>\n",
       "      <td>0.619048</td>\n",
       "    </tr>\n",
       "    <tr>\n",
       "      <th>ND</th>\n",
       "      <td>23</td>\n",
       "      <td>37</td>\n",
       "      <td>60</td>\n",
       "      <td>0.616667</td>\n",
       "    </tr>\n",
       "  </tbody>\n",
       "</table>\n",
       "</div>"
      ],
      "text/plain": [
       "resp       0    1  All      prop\n",
       "State_x                         \n",
       "MT        39   89  128  0.695312\n",
       "UT       155  297  452  0.657080\n",
       "NE        94  165  259  0.637066\n",
       "ID        88  143  231  0.619048\n",
       "ND        23   37   60  0.616667"
      ]
     },
     "execution_count": 13,
     "metadata": {},
     "output_type": "execute_result"
    }
   ],
   "source": [
    "#top supporters - seems plausible\n",
    "chk2 = pd.crosstab(chk1.State_x, chk1.resp, margins=True)\n",
    "chk2\n",
    "chk2[\"prop\"] = chk2[1]/chk2[\"All\"]\n",
    "chk3 = chk2.sort_values([\"prop\"], ascending=False)\n",
    "chk3.head()"
   ]
  },
  {
   "cell_type": "code",
   "execution_count": 14,
   "metadata": {},
   "outputs": [],
   "source": [
    "y_set = Survey.resp"
   ]
  },
  {
   "cell_type": "markdown",
   "metadata": {},
   "source": [
    "__Check Features__"
   ]
  },
  {
   "cell_type": "code",
   "execution_count": 15,
   "metadata": {},
   "outputs": [],
   "source": [
    "feat = Survey.drop(columns=[\"ID\",\"State_x\",\"SPENDINGRESPONSE\"])\n",
    "feat.rename(columns = {'State_y':'State'}, inplace = True)"
   ]
  },
  {
   "cell_type": "code",
   "execution_count": 16,
   "metadata": {},
   "outputs": [
    {
     "data": {
      "text/plain": [
       "float64    121\n",
       "object      24\n",
       "int64        4\n",
       "dtype: int64"
      ]
     },
     "execution_count": 16,
     "metadata": {},
     "output_type": "execute_result"
    }
   ],
   "source": [
    "(feat.dtypes).value_counts()"
   ]
  },
  {
   "cell_type": "code",
   "execution_count": 17,
   "metadata": {},
   "outputs": [
    {
     "data": {
      "text/html": [
       "<div>\n",
       "<style scoped>\n",
       "    .dataframe tbody tr th:only-of-type {\n",
       "        vertical-align: middle;\n",
       "    }\n",
       "\n",
       "    .dataframe tbody tr th {\n",
       "        vertical-align: top;\n",
       "    }\n",
       "\n",
       "    .dataframe thead th {\n",
       "        text-align: right;\n",
       "    }\n",
       "</style>\n",
       "<table border=\"1\" class=\"dataframe\">\n",
       "  <thead>\n",
       "    <tr style=\"text-align: right;\">\n",
       "      <th></th>\n",
       "      <th>f2</th>\n",
       "      <th>f93</th>\n",
       "      <th>f94</th>\n",
       "      <th>resp</th>\n",
       "    </tr>\n",
       "  </thead>\n",
       "  <tbody>\n",
       "    <tr>\n",
       "      <th>0</th>\n",
       "      <td>49</td>\n",
       "      <td>4</td>\n",
       "      <td>1</td>\n",
       "      <td>1</td>\n",
       "    </tr>\n",
       "    <tr>\n",
       "      <th>1</th>\n",
       "      <td>67</td>\n",
       "      <td>4</td>\n",
       "      <td>2</td>\n",
       "      <td>1</td>\n",
       "    </tr>\n",
       "    <tr>\n",
       "      <th>2</th>\n",
       "      <td>58</td>\n",
       "      <td>4</td>\n",
       "      <td>4</td>\n",
       "      <td>1</td>\n",
       "    </tr>\n",
       "    <tr>\n",
       "      <th>3</th>\n",
       "      <td>70</td>\n",
       "      <td>4</td>\n",
       "      <td>3</td>\n",
       "      <td>1</td>\n",
       "    </tr>\n",
       "    <tr>\n",
       "      <th>4</th>\n",
       "      <td>66</td>\n",
       "      <td>4</td>\n",
       "      <td>3</td>\n",
       "      <td>1</td>\n",
       "    </tr>\n",
       "  </tbody>\n",
       "</table>\n",
       "</div>"
      ],
      "text/plain": [
       "   f2  f93  f94  resp\n",
       "0  49    4    1     1\n",
       "1  67    4    2     1\n",
       "2  58    4    4     1\n",
       "3  70    4    3     1\n",
       "4  66    4    3     1"
      ]
     },
     "execution_count": 17,
     "metadata": {},
     "output_type": "execute_result"
    }
   ],
   "source": [
    "feat.loc[:, feat.dtypes == np.int64].head()\n",
    "#feat.f2.describe()    #[18-104]:assume numeric => age\n",
    "#feat.f93.value_counts()    #[0-4]:assume categorical\n",
    "#feat.f94.value_counts()    #[0-4]:assume categorical"
   ]
  },
  {
   "cell_type": "code",
   "execution_count": 18,
   "metadata": {},
   "outputs": [
    {
     "data": {
      "text/html": [
       "<div>\n",
       "<style scoped>\n",
       "    .dataframe tbody tr th:only-of-type {\n",
       "        vertical-align: middle;\n",
       "    }\n",
       "\n",
       "    .dataframe tbody tr th {\n",
       "        vertical-align: top;\n",
       "    }\n",
       "\n",
       "    .dataframe thead th {\n",
       "        text-align: right;\n",
       "    }\n",
       "</style>\n",
       "<table border=\"1\" class=\"dataframe\">\n",
       "  <thead>\n",
       "    <tr style=\"text-align: right;\">\n",
       "      <th></th>\n",
       "      <th>State</th>\n",
       "      <th>f1</th>\n",
       "      <th>f3</th>\n",
       "      <th>f12</th>\n",
       "      <th>f13</th>\n",
       "      <th>f95</th>\n",
       "      <th>f96</th>\n",
       "      <th>f97</th>\n",
       "      <th>f98</th>\n",
       "      <th>f99</th>\n",
       "      <th>...</th>\n",
       "      <th>f108</th>\n",
       "      <th>f110</th>\n",
       "      <th>f114</th>\n",
       "      <th>f115</th>\n",
       "      <th>f118</th>\n",
       "      <th>f119</th>\n",
       "      <th>f120</th>\n",
       "      <th>f121</th>\n",
       "      <th>f122</th>\n",
       "      <th>f126</th>\n",
       "    </tr>\n",
       "  </thead>\n",
       "  <tbody>\n",
       "    <tr>\n",
       "      <th>0</th>\n",
       "      <td>AK</td>\n",
       "      <td>AK01</td>\n",
       "      <td>D</td>\n",
       "      <td>A</td>\n",
       "      <td>A</td>\n",
       "      <td>F</td>\n",
       "      <td>A</td>\n",
       "      <td>J</td>\n",
       "      <td>A</td>\n",
       "      <td>J</td>\n",
       "      <td>...</td>\n",
       "      <td>C</td>\n",
       "      <td>T</td>\n",
       "      <td>G</td>\n",
       "      <td>DE</td>\n",
       "      <td>G</td>\n",
       "      <td>N</td>\n",
       "      <td>P</td>\n",
       "      <td>EN</td>\n",
       "      <td>NaN</td>\n",
       "      <td>J</td>\n",
       "    </tr>\n",
       "    <tr>\n",
       "      <th>1</th>\n",
       "      <td>AK</td>\n",
       "      <td>AK01</td>\n",
       "      <td>D</td>\n",
       "      <td>E</td>\n",
       "      <td>A</td>\n",
       "      <td>F</td>\n",
       "      <td>A</td>\n",
       "      <td>A</td>\n",
       "      <td>A</td>\n",
       "      <td>J</td>\n",
       "      <td>...</td>\n",
       "      <td>D</td>\n",
       "      <td>R</td>\n",
       "      <td>I</td>\n",
       "      <td>NaN</td>\n",
       "      <td>G</td>\n",
       "      <td>NaN</td>\n",
       "      <td>NaN</td>\n",
       "      <td>NaN</td>\n",
       "      <td>NaN</td>\n",
       "      <td>NaN</td>\n",
       "    </tr>\n",
       "    <tr>\n",
       "      <th>2</th>\n",
       "      <td>AK</td>\n",
       "      <td>AK01</td>\n",
       "      <td>M</td>\n",
       "      <td>A</td>\n",
       "      <td>B</td>\n",
       "      <td>F</td>\n",
       "      <td>A</td>\n",
       "      <td>A</td>\n",
       "      <td>A</td>\n",
       "      <td>A</td>\n",
       "      <td>...</td>\n",
       "      <td>E</td>\n",
       "      <td>S</td>\n",
       "      <td>N</td>\n",
       "      <td>E5</td>\n",
       "      <td>G</td>\n",
       "      <td>R</td>\n",
       "      <td>P</td>\n",
       "      <td>EN</td>\n",
       "      <td>NaN</td>\n",
       "      <td>E</td>\n",
       "    </tr>\n",
       "    <tr>\n",
       "      <th>3</th>\n",
       "      <td>AK</td>\n",
       "      <td>AK01</td>\n",
       "      <td>E</td>\n",
       "      <td>A</td>\n",
       "      <td>A</td>\n",
       "      <td>F</td>\n",
       "      <td>B</td>\n",
       "      <td>A</td>\n",
       "      <td>A</td>\n",
       "      <td>J</td>\n",
       "      <td>...</td>\n",
       "      <td>B</td>\n",
       "      <td>Z</td>\n",
       "      <td>L</td>\n",
       "      <td>DE</td>\n",
       "      <td>G</td>\n",
       "      <td>D</td>\n",
       "      <td>P</td>\n",
       "      <td>EN</td>\n",
       "      <td>NaN</td>\n",
       "      <td>NaN</td>\n",
       "    </tr>\n",
       "    <tr>\n",
       "      <th>4</th>\n",
       "      <td>AK</td>\n",
       "      <td>AK01</td>\n",
       "      <td>P</td>\n",
       "      <td>A</td>\n",
       "      <td>A</td>\n",
       "      <td>F</td>\n",
       "      <td>A</td>\n",
       "      <td>A</td>\n",
       "      <td>A</td>\n",
       "      <td>A</td>\n",
       "      <td>...</td>\n",
       "      <td>H</td>\n",
       "      <td>K</td>\n",
       "      <td>K</td>\n",
       "      <td>DE</td>\n",
       "      <td>G</td>\n",
       "      <td>N</td>\n",
       "      <td>P</td>\n",
       "      <td>EN</td>\n",
       "      <td>NaN</td>\n",
       "      <td>H</td>\n",
       "    </tr>\n",
       "  </tbody>\n",
       "</table>\n",
       "<p>5 rows × 24 columns</p>\n",
       "</div>"
      ],
      "text/plain": [
       "  State    f1 f3 f12 f13 f95 f96 f97 f98 f99 ...  f108 f110 f114 f115 f118  \\\n",
       "0    AK  AK01  D   A   A   F   A   J   A   J ...     C    T    G   DE    G   \n",
       "1    AK  AK01  D   E   A   F   A   A   A   J ...     D    R    I  NaN    G   \n",
       "2    AK  AK01  M   A   B   F   A   A   A   A ...     E    S    N   E5    G   \n",
       "3    AK  AK01  E   A   A   F   B   A   A   J ...     B    Z    L   DE    G   \n",
       "4    AK  AK01  P   A   A   F   A   A   A   A ...     H    K    K   DE    G   \n",
       "\n",
       "  f119 f120 f121 f122 f126  \n",
       "0    N    P   EN  NaN    J  \n",
       "1  NaN  NaN  NaN  NaN  NaN  \n",
       "2    R    P   EN  NaN    E  \n",
       "3    D    P   EN  NaN  NaN  \n",
       "4    N    P   EN  NaN    H  \n",
       "\n",
       "[5 rows x 24 columns]"
      ]
     },
     "execution_count": 18,
     "metadata": {},
     "output_type": "execute_result"
    }
   ],
   "source": [
    "(feat.loc[:, feat.dtypes == np.object]).head()"
   ]
  },
  {
   "cell_type": "code",
   "execution_count": 19,
   "metadata": {},
   "outputs": [],
   "source": [
    "#create age groups\n",
    "feat['age_bin'] = pd.cut(feat.f2, \n",
    "                   bins=[0, 19, 29, 39, 49, 59, 999], \n",
    "                   labels=['0-19', '20-29', '30-39', '40-49', '50-59', '60+'],\n",
    "                   include_lowest=True)"
   ]
  },
  {
   "cell_type": "code",
   "execution_count": 20,
   "metadata": {},
   "outputs": [],
   "source": [
    "#assume no problem with type conversion, with more time I would be more careful\n",
    "cont_var = ['f2']\n",
    "feat[cont_var] = feat[cont_var].astype(\"float64\")\n",
    "categ_var = ['f93', 'f94','age_bin']\n",
    "feat[categ_var] = feat[categ_var].astype(\"category\")"
   ]
  },
  {
   "cell_type": "code",
   "execution_count": 21,
   "metadata": {},
   "outputs": [
    {
     "data": {
      "text/plain": [
       "(27662, 150)"
      ]
     },
     "execution_count": 21,
     "metadata": {},
     "output_type": "execute_result"
    }
   ],
   "source": [
    "#assume no problem with type conversion, with more time I would be more careful\n",
    "categ = feat.select_dtypes(['object']).apply(pd.Series.astype, dtype='category')\n",
    "feat2 = feat.loc[:, feat.dtypes != np.object]\n",
    "feat3 = feat2.join(categ)\n",
    "feat3.shape    #chk: 24 + 126"
   ]
  },
  {
   "cell_type": "code",
   "execution_count": 22,
   "metadata": {},
   "outputs": [],
   "source": [
    "pd.set_option('display.max_rows', 500)\n",
    "feat3.dtypes\n",
    "pd.set_option('display.max_rows', 50)\n",
    "\n",
    "(feat3.dtypes).value_counts()\n",
    "feat3.loc[:, feat.dtypes == np.int64].head()\n",
    "\n",
    "feat3.drop('resp', axis=1, inplace=True)\n",
    "X_set = feat3"
   ]
  },
  {
   "cell_type": "markdown",
   "metadata": {},
   "source": [
    "<br>\n",
    "<br>\n",
    "\n",
    "# Split Dataset: Train/Validate, Test "
   ]
  },
  {
   "cell_type": "markdown",
   "metadata": {},
   "source": [
    "Sklearn documentation suggests Label encoding for the target variable and OneHot encoding for feature variables."
   ]
  },
  {
   "cell_type": "code",
   "execution_count": 23,
   "metadata": {},
   "outputs": [],
   "source": [
    "from sklearn.preprocessing import LabelEncoder\n",
    "\n",
    "enc = LabelEncoder()\n",
    "y_set = enc.fit_transform(Survey.SPENDINGRESPONSE)"
   ]
  },
  {
   "cell_type": "code",
   "execution_count": 24,
   "metadata": {},
   "outputs": [
    {
     "name": "stdout",
     "output_type": "stream",
     "text": [
      "13831\n",
      "27662\n",
      "[0 0 0 0 0 0 0 0 0 0]\n",
      "0    Reduce National Debt and Deficit\n",
      "1    Reduce National Debt and Deficit\n",
      "2    Reduce National Debt and Deficit\n",
      "3    Reduce National Debt and Deficit\n",
      "4    Reduce National Debt and Deficit\n",
      "5    Reduce National Debt and Deficit\n",
      "6    Reduce National Debt and Deficit\n",
      "7    Reduce National Debt and Deficit\n",
      "8    Reduce National Debt and Deficit\n",
      "9    Reduce National Debt and Deficit\n",
      "Name: SPENDINGRESPONSE, dtype: object\n"
     ]
    }
   ],
   "source": [
    "print( (y_set == 1).sum() )\n",
    "print( len(y_set))\n",
    "print( y_set[:10] )\n",
    "print( Survey.SPENDINGRESPONSE[:10])"
   ]
  },
  {
   "cell_type": "markdown",
   "metadata": {},
   "source": [
    "After splitting the data, only the training sets will be manipulated before testing.  This will ensure no 'data leakage' and the test data is completely untainted."
   ]
  },
  {
   "cell_type": "code",
   "execution_count": 25,
   "metadata": {},
   "outputs": [],
   "source": [
    "from sklearn.model_selection import train_test_split\n",
    "X_train, X_test, y_train, y_test = train_test_split(X_set, y_set, test_size=0.2)"
   ]
  },
  {
   "cell_type": "code",
   "execution_count": 26,
   "metadata": {},
   "outputs": [
    {
     "data": {
      "text/plain": [
       "(22129, 149)"
      ]
     },
     "execution_count": 26,
     "metadata": {},
     "output_type": "execute_result"
    }
   ],
   "source": [
    "X_train.shape"
   ]
  },
  {
   "cell_type": "markdown",
   "metadata": {},
   "source": [
    "<br>\n",
    "<br>\n",
    "\n",
    "# Exploratory Data Analysis"
   ]
  },
  {
   "cell_type": "markdown",
   "metadata": {},
   "source": [
    "Exploratory Data Analysis (EDA) continues checking basic characteristics of the features, such as missing values and zero dispersion.  Because of the large number of features (100), some that do not meet reasonable minimum thresholds will be removed.  Further dimensionality reduction will be performed during pre-processing and through regularization in the modeling process.\n",
    "\n"
   ]
  },
  {
   "cell_type": "markdown",
   "metadata": {},
   "source": [
    "__Missing values__\n",
    "\n",
    "If a predictor has an arbitrary 20% or more missing values, then it will be removed.  No such variables are seen in this dataset."
   ]
  },
  {
   "cell_type": "code",
   "execution_count": 26,
   "metadata": {},
   "outputs": [
    {
     "data": {
      "text/plain": [
       "f127    0.07550\n",
       "f147    0.09411\n",
       "f119    0.07544\n",
       "f122    0.07632\n",
       "dtype: float64"
      ]
     },
     "execution_count": 26,
     "metadata": {},
     "output_type": "execute_result"
    }
   ],
   "source": [
    "# maximum missing-ness is ~7%, across all features\n",
    "X_mis = X_train.isna().sum() / 200000\n",
    "X_mis[X_mis > 0.05]"
   ]
  },
  {
   "cell_type": "markdown",
   "metadata": {},
   "source": [
    "__Feature Selection: Numeric__\n",
    "\n",
    "Here, we perform basic imputation with the median and keep all features with non-zero variance (all meet this criteria).  We also create a correlation heatmap amongst all the predictors.  There is a high association among many variables.  This can lead to multi-collinearity in some models that expect independence, such as Linear Regression.\n",
    "\n",
    "We also select the five predictors that are most associated with the response; however, we will only use two predictors for graphical examination - not to remove all others from the dataset.  By best we mean highest value for dependence between response and predictor, using the chi2 test.\n",
    "\n",
    "When looking at these two predictors (f109 and f5) we see that there is not much descrimination with respect to response.  This could make modeling with the numeric predictors, directly, difficult.\n",
    "\n",
    "Priciple components may be a good option for reducing dimensionality."
   ]
  },
  {
   "cell_type": "code",
   "execution_count": 27,
   "metadata": {},
   "outputs": [],
   "source": [
    "X_num = X_train.loc[:, X_train.dtypes == np.float64]"
   ]
  },
  {
   "cell_type": "code",
   "execution_count": 28,
   "metadata": {},
   "outputs": [],
   "source": [
    "# Feature selection\n",
    "from sklearn.impute import SimpleImputer\n",
    "from sklearn.feature_selection import VarianceThreshold\n",
    "from sklearn.feature_selection import SelectKBest, chi2\n",
    "\n",
    "imp = SimpleImputer(strategy='median')\n",
    "tmp1 = imp.fit_transform(X_num)\n",
    "\n",
    "sel1 = VarianceThreshold()\n",
    "tmp2 = sel1.fit_transform(tmp1)\n",
    "\n",
    "sel2 = SelectKBest(chi2, k=5)\n",
    "tmp3 = sel2.fit_transform(tmp1, y_train)"
   ]
  },
  {
   "cell_type": "code",
   "execution_count": 29,
   "metadata": {},
   "outputs": [
    {
     "data": {
      "text/plain": [
       "(22129, 121)"
      ]
     },
     "execution_count": 29,
     "metadata": {},
     "output_type": "execute_result"
    }
   ],
   "source": [
    "#no predictors have zero variance.\n",
    "tmp2.shape"
   ]
  },
  {
   "cell_type": "code",
   "execution_count": 30,
   "metadata": {},
   "outputs": [],
   "source": [
    "#TODO: investigate further with matrixplot of most important variables\n",
    "#import matplotlib.pyplot as plt\n",
    "#plt.matshow(dataframe.corr())"
   ]
  },
  {
   "cell_type": "code",
   "execution_count": 31,
   "metadata": {},
   "outputs": [
    {
     "data": {
      "image/png": "[encoded data removed]"
     },
     "metadata": {},
     "output_type": "display_data"
    }
   ],
   "source": [
    "%%R -i tmp1 \n",
    "cormat <- round(cor(tmp1),2)\n",
    "\n",
    "library(reshape2)\n",
    "melted_cormat <- melt(cormat)\n",
    "head(melted_cormat)\n",
    "\n",
    "library(ggplot2)\n",
    "ggplot(data = melted_cormat, aes(x=Var1, y=Var2, fill=value)) + \n",
    "  geom_tile()"
   ]
  },
  {
   "cell_type": "code",
   "execution_count": 32,
   "metadata": {},
   "outputs": [],
   "source": [
    "tmp4 = pd.DataFrame(tmp3, columns=[X_num.columns[i] for i in range(len(X_num.columns)) if sel2.get_support()[i] ] )\n",
    "tmp4['resp'] = y_train"
   ]
  },
  {
   "cell_type": "code",
   "execution_count": 33,
   "metadata": {},
   "outputs": [
    {
     "data": {
      "image/png": "[encoded data removed]"
     },
     "metadata": {},
     "output_type": "display_data"
    }
   ],
   "source": [
    "%%R -i tmp4  -w 10 -h 3.5 --units in -r 100 \n",
    "library(cowplot)\n",
    "library(scales)  \n",
    "# box-whiskers plot\n",
    "tmp4$resp <- factor(tmp4$resp)\n",
    "library(ggplot2)\n",
    "\n",
    "p1 <- ggplot(tmp4, aes(resp, f109, colour=resp ))\n",
    "f109 <- p1 + geom_boxplot(outlier.alpha = 0.25) + geom_jitter(width = 0.25, alpha=.005)  +\n",
    "    scale_y_continuous(trans=log2_trans()) + coord_trans(y=\"log2\") +\n",
    "    xlab(\"Respsonse\") + \n",
    "    theme(plot.title = element_text(hjust = 0.5))\n",
    "    \n",
    "p2 <- ggplot(tmp4, aes(resp, f5, colour=resp ))\n",
    "f112 <- p2 + geom_boxplot(outlier.alpha = 0.25) + geom_jitter(width = 0.25, alpha=.005)  +\n",
    "    scale_y_continuous(trans=log2_trans()) + coord_trans(y=\"log2\") +\n",
    "    xlab(\"Respsonse\") + \n",
    "    theme(plot.title = element_text(hjust = 0.5))\n",
    "\n",
    "# despite being the most dependent on the response, these predictors have large overlap, and do not discriminate much\n",
    "#TODO: include features with log transformation\n",
    "plot_grid(f109, f112)"
   ]
  },
  {
   "cell_type": "markdown",
   "metadata": {},
   "source": [
    "__Feature Selection: Category__\n",
    "    \n",
    "We must encode the category variables so that they can be used in numerical algorithms.  Here, we use the features with randomized decision trees (250) to obtain a description of how important each is for discriminating on the response variable.  While each level within a category is used as a tree predictor, we can group the predictors into their original features and see which are the most influential.\n",
    "\n",
    "The code is taken from the scikit-learn on-line documentation, and is not the authors' own work."
   ]
  },
  {
   "cell_type": "code",
   "execution_count": 34,
   "metadata": {},
   "outputs": [],
   "source": [
    "X_cat = X_train.loc[:, X_train.dtypes != np.float64]"
   ]
  },
  {
   "cell_type": "code",
   "execution_count": 35,
   "metadata": {},
   "outputs": [],
   "source": [
    "from sklearn.preprocessing import OneHotEncoder\n",
    "\n",
    "imp = SimpleImputer(strategy='constant', fill_value='missing')\n",
    "tmp1 = imp.fit_transform(X_cat)\n",
    "\n",
    "enc = OneHotEncoder(handle_unknown='ignore')\n",
    "tmp2 = enc.fit_transform(tmp1)"
   ]
  },
  {
   "cell_type": "code",
   "execution_count": 36,
   "metadata": {},
   "outputs": [],
   "source": [
    "#ref: https://scikit-learn.org/stable/auto_examples/ensemble/plot_forest_importances.html\n",
    "from sklearn.ensemble import ExtraTreesClassifier\n",
    "\n",
    "# Build a forest and compute the feature importances\n",
    "forest = ExtraTreesClassifier(n_estimators=250, random_state=0)\n",
    "\n",
    "forest.fit(tmp2, y_train)\n",
    "importances = forest.feature_importances_\n",
    "std = np.std([tree.feature_importances_ for tree in forest.estimators_],\n",
    "             axis=0)\n",
    "indices = np.argsort(importances)[::-1]"
   ]
  },
  {
   "cell_type": "code",
   "execution_count": 37,
   "metadata": {},
   "outputs": [
    {
     "name": "stdout",
     "output_type": "stream",
     "text": [
      "Feature ranking:\n",
      "1. feature 508 (0.010932)\n",
      "2. feature 529 (0.010168)\n",
      "3. feature 528 (0.010108)\n",
      "4. feature 15 (0.009944)\n",
      "5. feature 515 (0.009791)\n",
      "6. feature 14 (0.008765)\n",
      "7. feature 578 (0.008471)\n",
      "8. feature 550 (0.008283)\n",
      "9. feature 13 (0.008179)\n",
      "10. feature 536 (0.007935)\n"
     ]
    }
   ],
   "source": [
    "# Print the feature ranking\n",
    "print(\"Feature ranking:\")\n",
    "for f in range(10):  #tmp2.shape[1]\n",
    "    indices[f]\n",
    "    print(\"%d. feature %d (%f)\" % (f + 1, indices[f], importances[indices[f]]) )"
   ]
  },
  {
   "cell_type": "code",
   "execution_count": 38,
   "metadata": {},
   "outputs": [
    {
     "data": {
      "text/plain": [
       "[('f126', 6),\n",
       " ('age_bin', 5),\n",
       " ('f93', 4),\n",
       " ('f3', 3),\n",
       " ('f12', 3),\n",
       " ('f108', 3),\n",
       " ('f13', 2),\n",
       " ('f102', 2),\n",
       " ('f98', 2),\n",
       " ('f96', 2),\n",
       " ('f122', 2),\n",
       " ('f100', 2),\n",
       " ('f120', 2),\n",
       " ('f94', 2),\n",
       " ('f95', 2),\n",
       " ('f115', 1),\n",
       " ('f119', 1),\n",
       " ('f103', 1),\n",
       " ('f97', 1),\n",
       " ('f121', 1),\n",
       " ('f110', 1),\n",
       " ('f99', 1),\n",
       " ('f101', 1)]"
      ]
     },
     "execution_count": 38,
     "metadata": {},
     "output_type": "execute_result"
    }
   ],
   "source": [
    "#TODO: sum importance measure for each feature, over all levels, to obtain total feature importance\n",
    "from collections import Counter\n",
    "\n",
    "names = enc.get_feature_names()\n",
    "ohe = list(names[ indices[0:50] ])\n",
    "grp = [ x.split('_')[0].split('x')[1] for x in ohe]\n",
    "features = [X_cat.columns[int(x)] for x in grp]\n",
    "features_cnt = Counter(features)\n",
    "features_cnt.most_common()"
   ]
  },
  {
   "cell_type": "markdown",
   "metadata": {},
   "source": [
    "<br>\n",
    "<br>\n",
    "\n",
    "# Pre-processing\n",
    "\n",
    "Because no features were selected from numeric predictors for removal, and many of the predictors had high correlations among other predictors, Principle Components Analysis (PCA) may be a good method for finding components that explain the greatest amount of variability.  After doing this, we can observe the scree chart of the explained variabilty.  Only the first three components appear strong.  However, we can take more components and allow regularization techniques to remove excess, during modeling.\n",
    "\n",
    "Typically, PCA (unsupervised selection) should be performed within cross validation _(\"Elements of Statisical Learning\", Hastie,Tibsharani, et al)_ to ensure unbiasedness.  However, we selected a much larger number of numeric predictors than was necessary.  We will allow regularlization to select from among these.  \n",
    "\n",
    "The numeric data is imputed and centered/scaled before using it with PCA, or a model where optimization is necessary.  The categorical variables are also imputed for missing values, then they are encoded with OneHotEncoder so they can be used as numeric input."
   ]
  },
  {
   "cell_type": "markdown",
   "metadata": {},
   "source": [
    "__Numeric Transformations: Dimensionality Reduction with Principle Components Analysis__"
   ]
  },
  {
   "cell_type": "code",
   "execution_count": 27,
   "metadata": {},
   "outputs": [],
   "source": [
    "N_COMP = 25    # an arbitrary number of components that we can choose after viewing the scree plot"
   ]
  },
  {
   "cell_type": "code",
   "execution_count": 28,
   "metadata": {},
   "outputs": [
    {
     "data": {
      "text/plain": [
       "Pipeline(memory=None,\n",
       "     steps=[('transform', Pipeline(memory=None,\n",
       "     steps=[('imputer', SimpleImputer(copy=True, fill_value=None, missing_values=nan,\n",
       "       strategy='median', verbose=0)), ('scaler', StandardScaler(copy=True, with_mean=True, with_std=True))])), ('pca', PCA(copy=True, iterated_power='auto', n_components=25, random_state=None,\n",
       "  svd_solver='auto', tol=0.0, whiten=False))])"
      ]
     },
     "execution_count": 28,
     "metadata": {},
     "output_type": "execute_result"
    }
   ],
   "source": [
    "from sklearn.pipeline import Pipeline\n",
    "from sklearn.impute import SimpleImputer\n",
    "from sklearn.preprocessing import StandardScaler\n",
    "from sklearn.decomposition import PCA\n",
    "\n",
    "col_num = (X_train.loc[:, X_train.dtypes == np.float64]).columns\n",
    "numeric_features = col_num\n",
    "numeric_transformer = Pipeline(steps=[\n",
    "    ('imputer', SimpleImputer(strategy='median')),\n",
    "    ('scaler', StandardScaler())])\n",
    "pca = PCA(n_components=N_COMP)\n",
    "\n",
    "pipe_num = Pipeline(steps=[\n",
    "    ('transform', numeric_transformer),\n",
    "    ('pca', pca) ])\n",
    "                      \n",
    "X_num_tng = X_train.loc[:, X_train.dtypes == np.float64]                      \n",
    "pipe_num.fit(X_num_tng)"
   ]
  },
  {
   "cell_type": "code",
   "execution_count": 29,
   "metadata": {},
   "outputs": [
    {
     "data": {
      "text/plain": [
       "(25, 2)"
      ]
     },
     "execution_count": 29,
     "metadata": {},
     "output_type": "execute_result"
    }
   ],
   "source": [
    "DF = pd.DataFrame({ 'x' : range(0, len(pca.explained_variance_ratio_), 1),\n",
    "                   'y' : pca.explained_variance_ratio_})\n",
    "DF.shape"
   ]
  },
  {
   "cell_type": "code",
   "execution_count": 30,
   "metadata": {},
   "outputs": [
    {
     "data": {
      "image/png": "[encoded data removed]"
     },
     "metadata": {},
     "output_type": "display_data"
    }
   ],
   "source": [
    "%%R -i DF -w 6 -h 3 --units in -r 100 \n",
    "library(ggplot2)\n",
    "ggplot(DF, aes(x=x, y=y)) + geom_line() + \n",
    "    xlab(\"Components\") + ylab(\"Explained Variance\")"
   ]
  },
  {
   "cell_type": "code",
   "execution_count": 31,
   "metadata": {},
   "outputs": [
    {
     "data": {
      "text/plain": [
       "(22129, 25)"
      ]
     },
     "execution_count": 31,
     "metadata": {},
     "output_type": "execute_result"
    }
   ],
   "source": [
    "# top components from numeric features\n",
    "# more can be removed (if needed) with regularization, during modeling\n",
    "X_num = X_train.loc[:, X_train.dtypes == np.float64]\n",
    "X_trans = pipe_num.transform(X_num)\n",
    "X_trans.shape"
   ]
  },
  {
   "cell_type": "code",
   "execution_count": 32,
   "metadata": {},
   "outputs": [],
   "source": [
    "#prep for pipeline\n",
    "#columns of numeric features\n",
    "col_num = (X_train.loc[:, X_train.dtypes == np.float64]).columns\n",
    "\n",
    "#numeric: use pipe_num from earlier\n",
    "numeric_features = col_num"
   ]
  },
  {
   "cell_type": "markdown",
   "metadata": {},
   "source": [
    "__Categorical Transformations__"
   ]
  },
  {
   "cell_type": "code",
   "execution_count": 33,
   "metadata": {},
   "outputs": [],
   "source": [
    "from sklearn.compose import ColumnTransformer\n",
    "from sklearn.pipeline import Pipeline\n",
    "from sklearn.impute import SimpleImputer\n",
    "from sklearn.preprocessing import StandardScaler, OneHotEncoder\n",
    "from sklearn.model_selection import GridSearchCV\n",
    "\n",
    "np.random.seed(0)\n",
    "\n",
    "#columns of category features\n",
    "col_cat = (X_train.loc[:, X_train.dtypes != np.float64]).columns\n",
    "\n",
    "#categoric\n",
    "categorical_features = col_cat\n",
    "categorical_transformer = Pipeline(steps=[\n",
    "    ('imputer', SimpleImputer(strategy='constant', fill_value='missing')),\n",
    "    ('onehot', OneHotEncoder(handle_unknown='ignore'))])"
   ]
  },
  {
   "cell_type": "markdown",
   "metadata": {},
   "source": [
    "__Pipeline Creation__"
   ]
  },
  {
   "cell_type": "code",
   "execution_count": 34,
   "metadata": {},
   "outputs": [],
   "source": [
    "#transformers\n",
    "preprocessor = ColumnTransformer(\n",
    "    transformers=[\n",
    "        ('num', pipe_num, numeric_features),\n",
    "        ('cat', categorical_transformer, categorical_features)])"
   ]
  },
  {
   "cell_type": "markdown",
   "metadata": {},
   "source": [
    "<br>\n",
    "<br>\n",
    "\n",
    "# Classification Models\n",
    "\n",
    "We will train, evaluate, and compare three different classifiers: K-Nearest Neighbors, Logistic Regression, and Decision Tree.  The modeling approaches are quite different, which will provide diversity in performance.  If time allows, an ensemble of the three will be trained using VotingClassifier()."
   ]
  },
  {
   "cell_type": "markdown",
   "metadata": {},
   "source": [
    "__Configure__"
   ]
  },
  {
   "cell_type": "code",
   "execution_count": 35,
   "metadata": {},
   "outputs": [],
   "source": [
    "#! ls Data/survey/\n",
    "#! mkdir Data/survey/Models"
   ]
  },
  {
   "cell_type": "code",
   "execution_count": 36,
   "metadata": {},
   "outputs": [],
   "source": [
    "from sklearn.externals import joblib\n",
    "import os\n",
    "\n",
    "cwd = os.getcwd()\n",
    "file_path = cwd+'/Data/survey/Models/'\n",
    "\n",
    "# save the model to disk\n",
    "filename = file_path+'finalized_model.sav'\n",
    "#joblib.dump(model, filename)\n",
    " \n",
    "# some time later...\n",
    "# load the model from disk\n",
    "#loaded_model = joblib.load(filename)\n",
    "#result = loaded_model.score(X_test, Y_test)\n",
    "#print(result)"
   ]
  },
  {
   "cell_type": "markdown",
   "metadata": {},
   "source": [
    "__Model: K-nearest Neighbors__"
   ]
  },
  {
   "cell_type": "code",
   "execution_count": 37,
   "metadata": {},
   "outputs": [],
   "source": [
    "from sklearn.model_selection import RandomizedSearchCV\n",
    "from sklearn.neighbors import KNeighborsClassifier\n",
    "\n",
    "knn = KNeighborsClassifier(n_jobs=5)\n",
    "pipe = Pipeline(steps=[('preprocessor', preprocessor),\n",
    "                      ('knn', knn)])\n",
    "param_grid = {\"knn__n_neighbors\": [3, 5, 7]}\n",
    "knn_gs = RandomizedSearchCV(pipe, param_grid, iid=True, cv=5, scoring=\"accuracy\", n_iter=20)"
   ]
  },
  {
   "cell_type": "code",
   "execution_count": 38,
   "metadata": {},
   "outputs": [
    {
     "data": {
      "text/plain": [
       "RandomizedSearchCV(cv=5, error_score='raise-deprecating',\n",
       "          estimator=Pipeline(memory=None,\n",
       "     steps=[('preprocessor', ColumnTransformer(n_jobs=None, remainder='drop', sparse_threshold=0.3,\n",
       "         transformer_weights=None,\n",
       "         transformers=[('num', Pipeline(memory=None,\n",
       "     steps=[('transform', Pipeline(memory=None,\n",
       "     steps=[('imputer', SimpleImputer(copy=True, fill_value=None, mis...owski',\n",
       "           metric_params=None, n_jobs=5, n_neighbors=5, p=2,\n",
       "           weights='uniform'))]),\n",
       "          fit_params=None, iid=True, n_iter=20, n_jobs=None,\n",
       "          param_distributions={'knn__n_neighbors': [3, 5, 7]},\n",
       "          pre_dispatch='2*n_jobs', random_state=None, refit=True,\n",
       "          return_train_score='warn', scoring='accuracy', verbose=0)"
      ]
     },
     "execution_count": 38,
     "metadata": {},
     "output_type": "execute_result"
    }
   ],
   "source": [
    "knn_gs.fit(X_train, y_train)"
   ]
  },
  {
   "cell_type": "code",
   "execution_count": 39,
   "metadata": {},
   "outputs": [
    {
     "name": "stdout",
     "output_type": "stream",
     "text": [
      "{'knn__n_neighbors': 3}\n",
      "Best parameter (CV score=0.665):\n"
     ]
    }
   ],
   "source": [
    "# Cross Validation\n",
    "\n",
    "knn_best = knn_gs.best_estimator_\n",
    "print(knn_gs.best_params_)\n",
    "#GridSearchCV: Mean cross-validated score of the best_estimator\n",
    "#SGDClassifier: Returns the mean accuracy on the given test data and labels\n",
    "print(\"Best parameter (CV score=%0.3f):\" % knn_gs.best_score_)"
   ]
  },
  {
   "cell_type": "code",
   "execution_count": 47,
   "metadata": {},
   "outputs": [
    {
     "data": {
      "text/html": [
       "<div>\n",
       "<style scoped>\n",
       "    .dataframe tbody tr th:only-of-type {\n",
       "        vertical-align: middle;\n",
       "    }\n",
       "\n",
       "    .dataframe tbody tr th {\n",
       "        vertical-align: top;\n",
       "    }\n",
       "\n",
       "    .dataframe thead th {\n",
       "        text-align: right;\n",
       "    }\n",
       "</style>\n",
       "<table border=\"1\" class=\"dataframe\">\n",
       "  <thead>\n",
       "    <tr style=\"text-align: right;\">\n",
       "      <th></th>\n",
       "      <th>0</th>\n",
       "      <th>1</th>\n",
       "      <th>2</th>\n",
       "    </tr>\n",
       "  </thead>\n",
       "  <tbody>\n",
       "    <tr>\n",
       "      <th>mean_fit_time</th>\n",
       "      <td>0.824303</td>\n",
       "      <td>0.831277</td>\n",
       "      <td>0.838233</td>\n",
       "    </tr>\n",
       "    <tr>\n",
       "      <th>std_fit_time</th>\n",
       "      <td>0.066148</td>\n",
       "      <td>0.0992712</td>\n",
       "      <td>0.0659644</td>\n",
       "    </tr>\n",
       "    <tr>\n",
       "      <th>mean_score_time</th>\n",
       "      <td>12.2414</td>\n",
       "      <td>12.5471</td>\n",
       "      <td>12.3765</td>\n",
       "    </tr>\n",
       "    <tr>\n",
       "      <th>std_score_time</th>\n",
       "      <td>0.162748</td>\n",
       "      <td>0.310413</td>\n",
       "      <td>0.190593</td>\n",
       "    </tr>\n",
       "    <tr>\n",
       "      <th>param_knn__n_neighbors</th>\n",
       "      <td>3</td>\n",
       "      <td>5</td>\n",
       "      <td>7</td>\n",
       "    </tr>\n",
       "    <tr>\n",
       "      <th>params</th>\n",
       "      <td>{'knn__n_neighbors': 3}</td>\n",
       "      <td>{'knn__n_neighbors': 5}</td>\n",
       "      <td>{'knn__n_neighbors': 7}</td>\n",
       "    </tr>\n",
       "    <tr>\n",
       "      <th>split0_test_score</th>\n",
       "      <td>0.660041</td>\n",
       "      <td>0.624125</td>\n",
       "      <td>0.623673</td>\n",
       "    </tr>\n",
       "    <tr>\n",
       "      <th>split1_test_score</th>\n",
       "      <td>0.666968</td>\n",
       "      <td>0.632851</td>\n",
       "      <td>0.613421</td>\n",
       "    </tr>\n",
       "    <tr>\n",
       "      <th>split2_test_score</th>\n",
       "      <td>0.661545</td>\n",
       "      <td>0.624266</td>\n",
       "      <td>0.612291</td>\n",
       "    </tr>\n",
       "    <tr>\n",
       "      <th>split3_test_score</th>\n",
       "      <td>0.676158</td>\n",
       "      <td>0.643842</td>\n",
       "      <td>0.624181</td>\n",
       "    </tr>\n",
       "    <tr>\n",
       "      <th>split4_test_score</th>\n",
       "      <td>0.659435</td>\n",
       "      <td>0.612881</td>\n",
       "      <td>0.602712</td>\n",
       "    </tr>\n",
       "    <tr>\n",
       "      <th>mean_test_score</th>\n",
       "      <td>0.664829</td>\n",
       "      <td>0.627593</td>\n",
       "      <td>0.615256</td>\n",
       "    </tr>\n",
       "    <tr>\n",
       "      <th>std_test_score</th>\n",
       "      <td>0.00625634</td>\n",
       "      <td>0.0103065</td>\n",
       "      <td>0.00799985</td>\n",
       "    </tr>\n",
       "    <tr>\n",
       "      <th>rank_test_score</th>\n",
       "      <td>1</td>\n",
       "      <td>2</td>\n",
       "      <td>3</td>\n",
       "    </tr>\n",
       "    <tr>\n",
       "      <th>split0_train_score</th>\n",
       "      <td>0.834764</td>\n",
       "      <td>0.764942</td>\n",
       "      <td>0.724494</td>\n",
       "    </tr>\n",
       "    <tr>\n",
       "      <th>split1_train_score</th>\n",
       "      <td>0.837259</td>\n",
       "      <td>0.768909</td>\n",
       "      <td>0.724566</td>\n",
       "    </tr>\n",
       "    <tr>\n",
       "      <th>split2_train_score</th>\n",
       "      <td>0.838897</td>\n",
       "      <td>0.767384</td>\n",
       "      <td>0.722759</td>\n",
       "    </tr>\n",
       "    <tr>\n",
       "      <th>split3_train_score</th>\n",
       "      <td>0.834049</td>\n",
       "      <td>0.765025</td>\n",
       "      <td>0.727124</td>\n",
       "    </tr>\n",
       "    <tr>\n",
       "      <th>split4_train_score</th>\n",
       "      <td>0.835291</td>\n",
       "      <td>0.76638</td>\n",
       "      <td>0.728931</td>\n",
       "    </tr>\n",
       "    <tr>\n",
       "      <th>mean_train_score</th>\n",
       "      <td>0.836052</td>\n",
       "      <td>0.766528</td>\n",
       "      <td>0.725575</td>\n",
       "    </tr>\n",
       "    <tr>\n",
       "      <th>std_train_score</th>\n",
       "      <td>0.00177778</td>\n",
       "      <td>0.00149668</td>\n",
       "      <td>0.00218079</td>\n",
       "    </tr>\n",
       "  </tbody>\n",
       "</table>\n",
       "</div>"
      ],
      "text/plain": [
       "                                              0                        1  \\\n",
       "mean_fit_time                          0.824303                 0.831277   \n",
       "std_fit_time                           0.066148                0.0992712   \n",
       "mean_score_time                         12.2414                  12.5471   \n",
       "std_score_time                         0.162748                 0.310413   \n",
       "param_knn__n_neighbors                        3                        5   \n",
       "params                  {'knn__n_neighbors': 3}  {'knn__n_neighbors': 5}   \n",
       "split0_test_score                      0.660041                 0.624125   \n",
       "split1_test_score                      0.666968                 0.632851   \n",
       "split2_test_score                      0.661545                 0.624266   \n",
       "split3_test_score                      0.676158                 0.643842   \n",
       "split4_test_score                      0.659435                 0.612881   \n",
       "mean_test_score                        0.664829                 0.627593   \n",
       "std_test_score                       0.00625634                0.0103065   \n",
       "rank_test_score                               1                        2   \n",
       "split0_train_score                     0.834764                 0.764942   \n",
       "split1_train_score                     0.837259                 0.768909   \n",
       "split2_train_score                     0.838897                 0.767384   \n",
       "split3_train_score                     0.834049                 0.765025   \n",
       "split4_train_score                     0.835291                  0.76638   \n",
       "mean_train_score                       0.836052                 0.766528   \n",
       "std_train_score                      0.00177778               0.00149668   \n",
       "\n",
       "                                              2  \n",
       "mean_fit_time                          0.838233  \n",
       "std_fit_time                          0.0659644  \n",
       "mean_score_time                         12.3765  \n",
       "std_score_time                         0.190593  \n",
       "param_knn__n_neighbors                        7  \n",
       "params                  {'knn__n_neighbors': 7}  \n",
       "split0_test_score                      0.623673  \n",
       "split1_test_score                      0.613421  \n",
       "split2_test_score                      0.612291  \n",
       "split3_test_score                      0.624181  \n",
       "split4_test_score                      0.602712  \n",
       "mean_test_score                        0.615256  \n",
       "std_test_score                       0.00799985  \n",
       "rank_test_score                               3  \n",
       "split0_train_score                     0.724494  \n",
       "split1_train_score                     0.724566  \n",
       "split2_train_score                     0.722759  \n",
       "split3_train_score                     0.727124  \n",
       "split4_train_score                     0.728931  \n",
       "mean_train_score                       0.725575  \n",
       "std_train_score                      0.00218079  "
      ]
     },
     "execution_count": 47,
     "metadata": {},
     "output_type": "execute_result"
    }
   ],
   "source": [
    "(pd.DataFrame(knn_gs.cv_results_)).transpose()"
   ]
  },
  {
   "cell_type": "code",
   "execution_count": 40,
   "metadata": {},
   "outputs": [
    {
     "name": "stdout",
     "output_type": "stream",
     "text": [
      "Confusion matrix: Training\n"
     ]
    },
    {
     "data": {
      "text/plain": [
       "array([[ 8611,  2510],\n",
       "       [  816, 10192]])"
      ]
     },
     "execution_count": 40,
     "metadata": {},
     "output_type": "execute_result"
    }
   ],
   "source": [
    "# Confusion Matrix\n",
    "\n",
    "from sklearn.metrics import confusion_matrix\n",
    "\n",
    "y_train_pred = knn_gs.predict(X_train)\n",
    "print( \"Confusion matrix: Training\")\n",
    "confusion_matrix(y_train, y_train_pred)"
   ]
  },
  {
   "cell_type": "code",
   "execution_count": 41,
   "metadata": {},
   "outputs": [
    {
     "name": "stdout",
     "output_type": "stream",
     "text": [
      "Confusion matrix: Testing\n"
     ]
    },
    {
     "data": {
      "text/plain": [
       "array([[1633, 1077],\n",
       "       [ 637, 2186]])"
      ]
     },
     "execution_count": 41,
     "metadata": {},
     "output_type": "execute_result"
    }
   ],
   "source": [
    "y_pred = knn_gs.predict(X_test)\n",
    "print( \"Confusion matrix: Testing\")\n",
    "confusion_matrix(y_test, y_pred)"
   ]
  },
  {
   "cell_type": "code",
   "execution_count": 42,
   "metadata": {},
   "outputs": [
    {
     "name": "stdout",
     "output_type": "stream",
     "text": [
      "Accuracy score: 0.690\n",
      "Precision score: 0.670\n",
      "Recall score: 0.774\n",
      "F1 score: 0.718\n"
     ]
    }
   ],
   "source": [
    "# Testing\n",
    "\n",
    "from sklearn.metrics import accuracy_score\n",
    "\n",
    "# fraction of correctly classified samples\n",
    "print( \"Accuracy score: %0.3f\" % accuracy_score(y_test, y_pred) )\n",
    "\n",
    "from sklearn.metrics import precision_score, recall_score\n",
    "print( \"Precision score: %0.3f\" % precision_score(y_test, y_pred) )             # TP / (TP+FP)\n",
    "print( \"Recall score: %0.3f\" % recall_score(y_test, y_pred)   )                 # TP / (TP+FN)\n",
    "\n",
    "from sklearn.metrics import f1_score\n",
    "print( \"F1 score: %0.3f\" % f1_score(y_test, y_pred) )"
   ]
  },
  {
   "cell_type": "code",
   "execution_count": 43,
   "metadata": {},
   "outputs": [
    {
     "name": "stdout",
     "output_type": "stream",
     "text": [
      "Average training probability: 0.566\n",
      "Area Under ROC Curve: 0.748\n"
     ]
    }
   ],
   "source": [
    "# Testing\n",
    "\n",
    "#predictions for outcome labels\n",
    "#Predict class probabilities for X.  The predicted class probabilities of an input sample are computed as the mean predicted\n",
    "#class probabilities of the trees in the forest. The class probability of a single tree is the fraction of samples of the same\n",
    "#class in a leaf.\n",
    "y_class_prob = knn_gs.predict_proba(X_test)                 # called   predict_proba(), for some classifiers\n",
    "y_prob = np.asarray( [x[1] for x in y_class_prob], dtype=np.float32)\n",
    "threshold = 0                                               # set threshold\n",
    "y_some_digit_pred = (y_prob > threshold)\n",
    "print( \"Average training probability: %0.3f\" % np.mean(y_prob) )\n",
    "\n",
    "#roc auc\n",
    "from sklearn.metrics import roc_auc_score\n",
    "print( \"Area Under ROC Curve: %0.3f\" % roc_auc_score(y_test, y_prob) )"
   ]
  },
  {
   "cell_type": "code",
   "execution_count": 77,
   "metadata": {},
   "outputs": [
    {
     "data": {
      "text/plain": [
       "['/home/jovyan/work/notebooks/IMTorgDemo-Notebooks/Data/survey/Models/knn_gs_model.sav']"
      ]
     },
     "execution_count": 77,
     "metadata": {},
     "output_type": "execute_result"
    }
   ],
   "source": [
    "# save model\n",
    "filename = file_path+'knn_gs_model.sav'\n",
    "joblib.dump(knn_gs, filename)"
   ]
  },
  {
   "cell_type": "markdown",
   "metadata": {},
   "source": [
    "__Model: Logistic Regression__"
   ]
  },
  {
   "cell_type": "code",
   "execution_count": 57,
   "metadata": {},
   "outputs": [
    {
     "data": {
      "text/plain": [
       "GridSearchCV(cv=10, error_score='raise-deprecating',\n",
       "       estimator=Pipeline(memory=None,\n",
       "     steps=[('preprocessor', ColumnTransformer(n_jobs=None, remainder='drop', sparse_threshold=0.3,\n",
       "         transformer_weights=None,\n",
       "         transformers=[('num', Pipeline(memory=None,\n",
       "     steps=[('transform', Pipeline(memory=None,\n",
       "     steps=[('imputer', SimpleImputer(copy=True, fill_value=None, mis...dom_state=0, shuffle=True, tol=1e-05,\n",
       "       validation_fraction=0.1, verbose=0, warm_start=False))]),\n",
       "       fit_params=None, iid=True, n_jobs=None,\n",
       "       param_grid={'logistic__alpha': array([1.e-04, 1.e-02, 1.e+00, 1.e+02, 1.e+04])},\n",
       "       pre_dispatch='2*n_jobs', refit=True, return_train_score=False,\n",
       "       scoring=None, verbose=0)"
      ]
     },
     "execution_count": 57,
     "metadata": {},
     "output_type": "execute_result"
    }
   ],
   "source": [
    "#ref: SGD classifier will have the same loss function as the Logistic Regression but a different solver\n",
    "from sklearn.linear_model import SGDClassifier\n",
    "\n",
    "logistic = SGDClassifier(loss='log', penalty='l1', early_stopping=True,\n",
    "                         max_iter=10000, tol=1e-5, random_state=0)\n",
    "\n",
    "pipe = Pipeline(steps=[\n",
    "    ('preprocessor', preprocessor), \n",
    "    ('logistic', logistic)\n",
    "])\n",
    "\n",
    "param_grid = {\n",
    "    'logistic__alpha': np.logspace(-4, 4, 5),\n",
    "}\n",
    "log_gs = GridSearchCV(pipe, param_grid, iid=True, cv=10, return_train_score=False)\n",
    "log_gs.fit(X_train, y_train)"
   ]
  },
  {
   "cell_type": "code",
   "execution_count": 58,
   "metadata": {},
   "outputs": [
    {
     "name": "stdout",
     "output_type": "stream",
     "text": [
      "{'logistic__alpha': 0.01}\n",
      "Best parameter (CV score=0.594):\n"
     ]
    }
   ],
   "source": [
    "# Cross Validation\n",
    "\n",
    "log_best = log_gs.best_estimator_\n",
    "print(log_gs.best_params_)\n",
    "#GridSearchCV: Mean cross-validated score of the best_estimator\n",
    "#SGDClassifier: Returns the mean accuracy on the given test data and labels\n",
    "print(\"Best parameter (CV score=%0.3f):\" % log_gs.best_score_)"
   ]
  },
  {
   "cell_type": "code",
   "execution_count": 59,
   "metadata": {},
   "outputs": [
    {
     "name": "stdout",
     "output_type": "stream",
     "text": [
      "Confusion matrix: Training\n"
     ]
    },
    {
     "data": {
      "text/plain": [
       "array([[6754, 4298],\n",
       "       [4655, 6422]])"
      ]
     },
     "execution_count": 59,
     "metadata": {},
     "output_type": "execute_result"
    }
   ],
   "source": [
    "# Confusion Matrix\n",
    "\n",
    "from sklearn.metrics import confusion_matrix\n",
    "y_train_pred = log_gs.predict(X_train)\n",
    "print( \"Confusion matrix: Training\")\n",
    "confusion_matrix(y_train, y_train_pred)"
   ]
  },
  {
   "cell_type": "code",
   "execution_count": 60,
   "metadata": {},
   "outputs": [
    {
     "name": "stdout",
     "output_type": "stream",
     "text": [
      "Confusion matrix: Testing\n"
     ]
    },
    {
     "data": {
      "text/plain": [
       "array([[1683, 1096],\n",
       "       [1115, 1639]])"
      ]
     },
     "execution_count": 60,
     "metadata": {},
     "output_type": "execute_result"
    }
   ],
   "source": [
    "y_pred = log_gs.predict(X_test)\n",
    "print( \"Confusion matrix: Testing\")\n",
    "confusion_matrix(y_test, y_pred)"
   ]
  },
  {
   "cell_type": "code",
   "execution_count": 61,
   "metadata": {},
   "outputs": [
    {
     "name": "stdout",
     "output_type": "stream",
     "text": [
      "Accuracy score: 0.600\n",
      "Precision score: 0.599\n",
      "Recall score: 0.595\n",
      "F1 score: 0.597\n"
     ]
    }
   ],
   "source": [
    "# Test\n",
    "\n",
    "from sklearn.metrics import accuracy_score\n",
    "\n",
    "y_pred = log_gs.predict(X_test)\n",
    "# fraction of correctly classified samples\n",
    "print( \"Accuracy score: %0.3f\" % accuracy_score(y_test, y_pred) )\n",
    "\n",
    "from sklearn.metrics import precision_score, recall_score\n",
    "print( \"Precision score: %0.3f\" % precision_score(y_test, y_pred) )             # TP / (TP+FP)\n",
    "print( \"Recall score: %0.3f\" % recall_score(y_test, y_pred)   )                 # TP / (TP+FN)\n",
    "\n",
    "from sklearn.metrics import f1_score\n",
    "print( \"F1 score: %0.3f\" % f1_score(y_test, y_pred) )"
   ]
  },
  {
   "cell_type": "code",
   "execution_count": 62,
   "metadata": {},
   "outputs": [
    {
     "name": "stdout",
     "output_type": "stream",
     "text": [
      "Average training probability: 0.021\n",
      "Area Under ROC Curve: 0.629\n"
     ]
    }
   ],
   "source": [
    "# Test\n",
    "\n",
    "#predictions for outcome labels\n",
    "#decision_function: Predict confidence scores for samples.  The confidence score for a sample is the signed distance of that\n",
    "#sample to the hyperplane.\n",
    "y_prob = log_gs.decision_function(X_test)\t\t        # called   predict_proba(), for some classifiers\n",
    "threshold = 0\t\t\t\t\t\t\t\t\t\t\t# set threshold\n",
    "y_some_digit_pred = (y_prob > threshold)\n",
    "print( \"Average training probability: %0.3f\" % np.mean(y_prob) )\n",
    "\n",
    "#roc auc\n",
    "from sklearn.metrics import roc_auc_score\n",
    "print( \"Area Under ROC Curve: %0.3f\" % roc_auc_score(y_test, y_prob) )"
   ]
  },
  {
   "cell_type": "code",
   "execution_count": 63,
   "metadata": {},
   "outputs": [
    {
     "data": {
      "text/plain": [
       "['/home/jovyan/work/notebooks/IMTorgDemo-Notebooks/Data/survey/Models/log_gs_model.sav']"
      ]
     },
     "execution_count": 63,
     "metadata": {},
     "output_type": "execute_result"
    }
   ],
   "source": [
    "#save model\n",
    "filename = file_path+'log_gs_model.sav'\n",
    "joblib.dump(log_gs, filename)"
   ]
  },
  {
   "cell_type": "markdown",
   "metadata": {},
   "source": [
    "__Model: Random Forest__"
   ]
  },
  {
   "cell_type": "code",
   "execution_count": 64,
   "metadata": {},
   "outputs": [
    {
     "data": {
      "text/plain": [
       "GridSearchCV(cv=10, error_score='raise-deprecating',\n",
       "       estimator=Pipeline(memory=None,\n",
       "     steps=[('preprocessor', ColumnTransformer(n_jobs=None, remainder='drop', sparse_threshold=0.3,\n",
       "         transformer_weights=None,\n",
       "         transformers=[('num', Pipeline(memory=None,\n",
       "     steps=[('transform', Pipeline(memory=None,\n",
       "     steps=[('imputer', SimpleImputer(copy=True, fill_value=None, mis...ors='warn', n_jobs=None,\n",
       "            oob_score=False, random_state=0, verbose=0, warm_start=False))]),\n",
       "       fit_params=None, iid=True, n_jobs=None,\n",
       "       param_grid={'rf__n_estimators': [10, 50, 100], 'rf__max_depth': array([2, 3, 4, 5, 6, 7])},\n",
       "       pre_dispatch='2*n_jobs', refit=True, return_train_score=False,\n",
       "       scoring=None, verbose=0)"
      ]
     },
     "execution_count": 64,
     "metadata": {},
     "output_type": "execute_result"
    }
   ],
   "source": [
    "from sklearn.ensemble import RandomForestClassifier\n",
    "\n",
    "rf = RandomForestClassifier(random_state=0)\n",
    "\n",
    "pipe = Pipeline(steps=[\n",
    "    ('preprocessor', preprocessor), \n",
    "    ('rf', rf)\n",
    "])\n",
    "\n",
    "param_grid = {'rf__n_estimators': [10, 50, 100], 'rf__max_depth':np.arange(2, 8)}\n",
    "rf_gs = GridSearchCV(pipe, param_grid, iid=True, cv=10, return_train_score=False)\n",
    "rf_gs.fit(X_train, y_train)"
   ]
  },
  {
   "cell_type": "code",
   "execution_count": 65,
   "metadata": {},
   "outputs": [
    {
     "name": "stdout",
     "output_type": "stream",
     "text": [
      "{'rf__max_depth': 7, 'rf__n_estimators': 100}\n",
      "Best parameter (CV score=0.622):\n"
     ]
    }
   ],
   "source": [
    "# Cross Validation\n",
    "\n",
    "rf_best = rf_gs.best_estimator_\n",
    "print(rf_gs.best_params_)\n",
    "#GridSearchCV: Mean cross-validated score of the best_estimator\n",
    "#SGDClassifier: Returns the mean accuracy on the given test data and labels\n",
    "print(\"Best parameter (CV score=%0.3f):\" % rf_gs.best_score_)"
   ]
  },
  {
   "cell_type": "code",
   "execution_count": 68,
   "metadata": {},
   "outputs": [
    {
     "name": "stdout",
     "output_type": "stream",
     "text": [
      "Confusion matrix: Training\n"
     ]
    },
    {
     "data": {
      "text/plain": [
       "array([[6985, 4067],\n",
       "       [3696, 7381]])"
      ]
     },
     "execution_count": 68,
     "metadata": {},
     "output_type": "execute_result"
    }
   ],
   "source": [
    "# Confusion Matrix\n",
    "\n",
    "from sklearn.metrics import confusion_matrix\n",
    "y_train_pred = rf_gs.predict(X_train)\n",
    "print( \"Confusion matrix: Training\")\n",
    "confusion_matrix(y_train, y_train_pred)"
   ]
  },
  {
   "cell_type": "code",
   "execution_count": 69,
   "metadata": {},
   "outputs": [
    {
     "name": "stdout",
     "output_type": "stream",
     "text": [
      "Confusion matrix: Testing\n"
     ]
    },
    {
     "data": {
      "text/plain": [
       "array([[1718, 1061],\n",
       "       [ 983, 1771]])"
      ]
     },
     "execution_count": 69,
     "metadata": {},
     "output_type": "execute_result"
    }
   ],
   "source": [
    "y_pred = rf_gs.predict(X_test)\n",
    "print( \"Confusion matrix: Testing\")\n",
    "confusion_matrix(y_test, y_pred)"
   ]
  },
  {
   "cell_type": "code",
   "execution_count": 70,
   "metadata": {},
   "outputs": [
    {
     "name": "stdout",
     "output_type": "stream",
     "text": [
      "Accuracy score: 0.631\n",
      "Precision score: 0.625\n",
      "Recall score: 0.643\n",
      "F1 score: 0.634\n"
     ]
    }
   ],
   "source": [
    "# Testing\n",
    "\n",
    "from sklearn.metrics import accuracy_score\n",
    "\n",
    "y_pred = rf_gs.predict(X_test)\n",
    "# fraction of correctly classified samples\n",
    "print( \"Accuracy score: %0.3f\" % accuracy_score(y_test, y_pred) )\n",
    "\n",
    "from sklearn.metrics import precision_score, recall_score\n",
    "print( \"Precision score: %0.3f\" % precision_score(y_test, y_pred) )             # TP / (TP+FP)\n",
    "print( \"Recall score: %0.3f\" % recall_score(y_test, y_pred)   )                 # TP / (TP+FN)\n",
    "\n",
    "from sklearn.metrics import f1_score\n",
    "print( \"F1 score: %0.3f\" % f1_score(y_test, y_pred) )"
   ]
  },
  {
   "cell_type": "code",
   "execution_count": 71,
   "metadata": {},
   "outputs": [
    {
     "name": "stdout",
     "output_type": "stream",
     "text": [
      "Average training probability: 0.501\n",
      "Area Under ROC Curve: 0.673\n"
     ]
    }
   ],
   "source": [
    "# Testing\n",
    "\n",
    "#predictions for outcome labels\n",
    "#Predict class probabilities for X.  The predicted class probabilities of an input sample are computed as the mean predicted\n",
    "#class probabilities of the trees in the forest. The class probability of a single tree is the fraction of samples of the same\n",
    "#class in a leaf.\n",
    "y_class_prob = rf_gs.predict_proba(X_test)                  # called   predict_proba(), for some classifiers\n",
    "y_prob = np.asarray( [x[1] for x in y_class_prob], dtype=np.float32)\n",
    "threshold = 0                                               # set threshold\n",
    "y_some_digit_pred = (y_prob > threshold)\n",
    "print( \"Average training probability: %0.3f\" % np.mean(y_prob) )\n",
    "\n",
    "#roc auc\n",
    "from sklearn.metrics import roc_auc_score\n",
    "print( \"Area Under ROC Curve: %0.3f\" % roc_auc_score(y_test, y_prob) )"
   ]
  },
  {
   "cell_type": "code",
   "execution_count": 72,
   "metadata": {},
   "outputs": [
    {
     "data": {
      "text/plain": [
       "['/home/jovyan/work/notebooks/IMTorgDemo-Notebooks/Data/survey/Models/rf_gs_model.sav']"
      ]
     },
     "execution_count": 72,
     "metadata": {},
     "output_type": "execute_result"
    }
   ],
   "source": [
    "filename = file_path+'rf_gs_model.sav'\n",
    "joblib.dump(rf_gs, filename)"
   ]
  },
  {
   "cell_type": "markdown",
   "metadata": {},
   "source": [
    "<br>\n",
    "<br>\n",
    "\n",
    "# Comparison Evaluation"
   ]
  },
  {
   "cell_type": "code",
   "execution_count": 75,
   "metadata": {},
   "outputs": [],
   "source": [
    "knn_y_class_prob = knn_gs.predict_proba(X_test)\n",
    "log_y_prob = log_gs.decision_function(X_test) \n",
    "rf_y_class_prob = rf_gs.predict_proba(X_test)"
   ]
  },
  {
   "cell_type": "code",
   "execution_count": 76,
   "metadata": {},
   "outputs": [
    {
     "data": {
      "text/plain": [
       "<matplotlib.legend.Legend at 0x7efdac6e96d8>"
      ]
     },
     "execution_count": 76,
     "metadata": {},
     "output_type": "execute_result"
    },
    {
     "data": {
      "image/png": "[encoded data removed]",
      "text/plain": [
       "<Figure size 432x288 with 1 Axes>"
      ]
     },
     "metadata": {
      "needs_background": "light"
     },
     "output_type": "display_data"
    }
   ],
   "source": [
    "from sklearn import metrics\n",
    "import numpy as np\n",
    "import matplotlib.pyplot as plt\n",
    "\n",
    "plt.figure(0).clf()\n",
    "\n",
    "#KNN\n",
    "y_prob = np.asarray( [x[1] for x in knn_y_class_prob], dtype=np.float32)\n",
    "fpr, tpr, thresh = metrics.roc_curve(y_test, y_prob)\n",
    "auc = metrics.roc_auc_score(y_test, y_prob)\n",
    "plt.plot(fpr,tpr,label=\"knn, auc=\"+str(auc))\n",
    "\n",
    "#LogisticRegression  \n",
    "y_prob = log_y_prob\n",
    "fpr, tpr, thresh = metrics.roc_curve(y_test, y_prob)\n",
    "auc = metrics.roc_auc_score(y_test, y_prob)\n",
    "plt.plot(fpr,tpr,label=\"logistic reg, auc=\"+str(auc))\n",
    "\n",
    "#RandomForest   \n",
    "y_prob = np.asarray( [x[1] for x in rf_y_class_prob], dtype=np.float32)\n",
    "fpr, tpr, thresh = metrics.roc_curve(y_test, y_prob)\n",
    "auc = metrics.roc_auc_score(y_test, y_prob)\n",
    "plt.plot(fpr,tpr,label=\"random forest, auc=\"+str(auc))\n",
    "\n",
    "\n",
    "plt.xlabel('False Positive Rate')\n",
    "plt.ylabel('True Positive Rate')\n",
    "plt.title('Receiver operating characteristic')\n",
    "plt.legend(loc=0)"
   ]
  },
  {
   "cell_type": "code",
   "execution_count": null,
   "metadata": {},
   "outputs": [],
   "source": [
    "#Thank you, and good night!"
   ]
  }
 ],
 "metadata": {
  "kernelspec": {
   "display_name": "Python 3",
   "language": "python",
   "name": "python3"
  },
  "language_info": {
   "codemirror_mode": {
    "name": "ipython",
    "version": 3
   },
   "file_extension": ".py",
   "mimetype": "text/x-python",
   "name": "python",
   "nbconvert_exporter": "python",
   "pygments_lexer": "ipython3",
   "version": "3.6.7"
  }
 },
 "nbformat": 4,
 "nbformat_minor": 2
}
