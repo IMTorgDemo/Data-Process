{
 "cells": [
  {
   "cell_type": "markdown",
   "metadata": {},
   "source": [
    "# Introduction to Groovy for Data Science on the JVM\n",
    "Date: 2019-06-20  \n",
    "Author: Jason Beach  \n",
    "Categories: Programming, DataScience  \n",
    "Tags: groovy, jvm, data_visualization\n",
    "<!--eofm-->"
   ]
  },
  {
   "cell_type": "markdown",
   "metadata": {},
   "source": [
    "Groovy is a scripting language that compiles to the Java Virtual Machine.  It would be more-aptly named _JavaScript_ if that name were not already taken, but it has many similarities to Python.  In fact, some of the libraries implemented for Groovy, such as [TableSaw](https://jtablesaw.github.io/tablesaw/), attempt to take it in the same _Data Science_ direction as Python.\n",
    "\n",
    "This post will provide an introduction to the Groovy language using Jupyter notebook with BeakerX, and provides specific applications to Data Science.  It begins with a tour of the Groovy language, then describes some of the most interesting features that the language provides.  We give a comparison to Java with some notes for making integration with Java environments easier.  We finish-off with applications and examples in Data Science. \n",
    "\n",
    "This notebook takes code and examples from this github repo: [https://github.com/twosigma/beakerx](https://github.com/twosigma/beakerx)"
   ]
  },
  {
   "cell_type": "markdown",
   "metadata": {},
   "source": [
    "## Getting Started"
   ]
  },
  {
   "cell_type": "markdown",
   "metadata": {},
   "source": [
    "You can get started with Groovy in a few different ways.  After installing Groovy, the console (comes with Groovy distribution) is a Java Swing application where we can write and run code, interactively.\n",
    "\n",
    "```\n",
    "$ groovyconsole\n",
    "```\n",
    "\n",
    "Or you can run a script, directly.\n",
    "\n",
    "```\n",
    "$ groovy your-script.groovy\n",
    "```\n",
    "\n",
    "In this post we will use Jupyter with the [BeakerX JVM kernel](https://github.com/twosigma/beakerx).  BeakerX provides a variety of languages and support transforming data structures among them.  This makes it ideal for learning and prototyping.  You can get started with BeakerX using Docker.\n",
    "\n",
    "```\n",
    "$ docker run -p 8888:8888 beakerx/beakerx\n",
    "```"
   ]
  },
  {
   "cell_type": "markdown",
   "metadata": {},
   "source": [
    "## Introduction"
   ]
  },
  {
   "cell_type": "markdown",
   "metadata": {},
   "source": [
    "### Basic syntax\n",
    "\n",
    "We provide the obligatory _hello world_ example using a simple println statement to print output to the console."
   ]
  },
  {
   "cell_type": "code",
   "execution_count": 79,
   "metadata": {},
   "outputs": [
    {
     "name": "stdout",
     "output_type": "stream",
     "text": [
      "Hello World\n"
     ]
    },
    {
     "data": {
      "text/plain": [
       "null"
      ]
     },
     "execution_count": 79,
     "metadata": {},
     "output_type": "execute_result"
    }
   ],
   "source": [
    "class Example {\n",
    "   static void main(String[] args) {\n",
    "      println('Hello World');\n",
    "   }\n",
    "}\n",
    "Example.main()"
   ]
  },
  {
   "cell_type": "markdown",
   "metadata": {},
   "source": [
    "By default, Groovy includes the following libraries in your code, so you don’t need to explicitly import them."
   ]
  },
  {
   "cell_type": "code",
   "execution_count": 2,
   "metadata": {},
   "outputs": [
    {
     "data": {
      "text/plain": [
       "null"
      ]
     },
     "execution_count": 2,
     "metadata": {},
     "output_type": "execute_result"
    }
   ],
   "source": [
    "import java.lang.* \n",
    "import java.util.* \n",
    "import java.io.* \n",
    "import java.net.* \n",
    "\n",
    "import groovy.lang.* \n",
    "import groovy.util.* \n",
    "\n",
    "import java.math.BigInteger \n",
    "import java.math.BigDecimal"
   ]
  },
  {
   "cell_type": "markdown",
   "metadata": {},
   "source": [
    "Groovy supports all Java types (primitive and reference types).\n",
    "\n",
    "All primitive types are auto-converted to their wrapper types. So `int a = 2` will become `Integer a = 2`\n",
    "\n",
    "When declaring variables we can do one of the followings:\n",
    "\n",
    "* Do not use any type (that will create a global variable): `a = 2`\n",
    "* Use keyword def (that will create a local variable): `def a = 2`\n",
    "* Use the actual type (that will create a local variable of strict type Integer): `int a = 3`\n",
    "\n",
    "When no type is used, variables act like they are of type Object, so they can be reassigned to different types."
   ]
  },
  {
   "cell_type": "code",
   "execution_count": 4,
   "metadata": {},
   "outputs": [
    {
     "name": "stdout",
     "output_type": "stream",
     "text": [
      "java.lang.Integer - 2\n",
      "java.lang.String - apple\n"
     ]
    },
    {
     "data": {
      "text/plain": [
       "null"
      ]
     },
     "execution_count": 4,
     "metadata": {},
     "output_type": "execute_result"
    }
   ],
   "source": [
    "a = 2\n",
    "printf \"%s - %s%n\", a.getClass().getName(), a\n",
    "a = \"apple\"\n",
    "printf \"%s - %s%n\", a.getClass().getName(), a"
   ]
  },
  {
   "cell_type": "markdown",
   "metadata": {},
   "source": [
    "### Running the code\n",
    "\n",
    "The code outside methods but still in a script is copied to at run to an object method.  So during runtime everything is inside methods. In that sense, this feature allows the variables declared in a method to be accessible to other methods.\n",
    "\n",
    "Groovy keeps these global variables in a map like object (`groovy.lang.Binding`).\n",
    "\n",
    "When def is used, variables act like they are of type Object, so they can be reassigned to different types (same as when no type is used): "
   ]
  },
  {
   "cell_type": "code",
   "execution_count": 5,
   "metadata": {},
   "outputs": [
    {
     "data": {
      "text/plain": [
       "2"
      ]
     },
     "execution_count": 5,
     "metadata": {},
     "output_type": "execute_result"
    }
   ],
   "source": [
    "//';' should be used after each statement, but is not necessary in beakerx cells\n",
    "//def is a keyword used in Groovy to define an identifier\n",
    "def c = 1;    //local variable\n",
    "d = 2;        //global variable - var with no type are global so they can be accessed across methods"
   ]
  },
  {
   "cell_type": "code",
   "execution_count": 6,
   "metadata": {},
   "outputs": [
    {
     "ename": "groovy.lang.MissingPropertyException",
     "evalue": " No such property",
     "output_type": "error",
     "traceback": [
      "\u001b[1;31mgroovy.lang.MissingPropertyException: No such property: c for class: script1561051888331\u001b[0;0m",
      "\u001b[1;31m\tat this cell line 1\u001b[0;0m",
      "\u001b[0;31m\tat com.twosigma.beakerx.groovy.evaluator.GroovyCodeRunner.runScript(GroovyCodeRunner.java:94)\u001b[0;0m",
      "\u001b[0;31m\tat com.twosigma.beakerx.groovy.evaluator.GroovyCodeRunner.call(GroovyCodeRunner.java:59)\u001b[0;0m",
      "\u001b[0;31m\tat com.twosigma.beakerx.groovy.evaluator.GroovyCodeRunner.call(GroovyCodeRunner.java:32)\u001b[0;0m"
     ]
    }
   ],
   "source": [
    "c //error - var declared with def are local, so they cannot be accessed across methods"
   ]
  },
  {
   "cell_type": "code",
   "execution_count": 7,
   "metadata": {},
   "outputs": [
    {
     "data": {
      "text/plain": [
       "2"
      ]
     },
     "execution_count": 7,
     "metadata": {},
     "output_type": "execute_result"
    }
   ],
   "source": [
    "d //this works"
   ]
  },
  {
   "cell_type": "markdown",
   "metadata": {},
   "source": [
    "### Data types\n",
    "\n",
    "Using actual types (same as Java types).  They follow strict typing rules (just like Java). So they cannot be reassigned to different types:"
   ]
  },
  {
   "cell_type": "code",
   "execution_count": 8,
   "metadata": {},
   "outputs": [
    {
     "name": "stdout",
     "output_type": "stream",
     "text": [
      "2\n"
     ]
    },
    {
     "ename": "org.codehaus.groovy.runtime.typehandling.GroovyCastException",
     "evalue": " Cannot cast object 'apple' with class 'java.lang.String' to class 'int'",
     "output_type": "error",
     "traceback": [
      "\u001b[1;31morg.codehaus.groovy.runtime.typehandling.GroovyCastException: Cannot cast object 'apple' with class 'java.lang.String' to class 'int'\u001b[0;0m",
      "\u001b[1;31m\tat this cell line 3\u001b[0;0m",
      "\u001b[0;31m\tat com.twosigma.beakerx.groovy.evaluator.GroovyCodeRunner.runScript(GroovyCodeRunner.java:94)\u001b[0;0m",
      "\u001b[0;31m\tat com.twosigma.beakerx.groovy.evaluator.GroovyCodeRunner.call(GroovyCodeRunner.java:59)\u001b[0;0m",
      "\u001b[0;31m\tat com.twosigma.beakerx.groovy.evaluator.GroovyCodeRunner.call(GroovyCodeRunner.java:32)\u001b[0;0m"
     ]
    }
   ],
   "source": [
    "int a = 2\n",
    "println a\n",
    "a = \"apple\"\n",
    "println a"
   ]
  },
  {
   "cell_type": "markdown",
   "metadata": {},
   "source": [
    "Like `def` variables they are also local, so they cannot be accessed across methods."
   ]
  },
  {
   "cell_type": "code",
   "execution_count": 10,
   "metadata": {},
   "outputs": [
    {
     "ename": "groovy.lang.MissingPropertyException",
     "evalue": " No such property",
     "output_type": "error",
     "traceback": [
      "\u001b[1;31mgroovy.lang.MissingPropertyException: No such property: e for class: script1561051968611\u001b[0;0m",
      "\u001b[1;31m\tat script1561051968611.printVars(script1561051968611:4)\u001b[0;0m",
      "\u001b[1;31m\tat this cell line 7\u001b[0;0m",
      "\u001b[0;31m\tat com.twosigma.beakerx.groovy.evaluator.GroovyCodeRunner.runScript(GroovyCodeRunner.java:94)\u001b[0;0m",
      "\u001b[0;31m\tat com.twosigma.beakerx.groovy.evaluator.GroovyCodeRunner.call(GroovyCodeRunner.java:59)\u001b[0;0m",
      "\u001b[0;31m\tat com.twosigma.beakerx.groovy.evaluator.GroovyCodeRunner.call(GroovyCodeRunner.java:32)\u001b[0;0m"
     ]
    }
   ],
   "source": [
    "int e = 2\n",
    "void printVars() {\n",
    "    println e;\n",
    "}\n",
    "printVars();"
   ]
  },
  {
   "cell_type": "code",
   "execution_count": 21,
   "metadata": {},
   "outputs": [
    {
     "data": {
      "text/plain": [
       "null"
      ]
     },
     "execution_count": 21,
     "metadata": {},
     "output_type": "execute_result"
    }
   ],
   "source": [
    "//remove variables\n",
    "binding.variables.remove 'a'\n",
    "binding.variables.remove 'b' \n",
    "binding.variables.remove 'c' \n",
    "binding.variables.remove 'd' \n",
    "binding.variables.remove 'e'"
   ]
  },
  {
   "cell_type": "markdown",
   "metadata": {},
   "source": [
    "As seen above, Groovy uses Objects for everything (int is printed as java.lang.Integer). Primitives are auto-converted to their wrapper type."
   ]
  },
  {
   "cell_type": "code",
   "execution_count": 22,
   "metadata": {},
   "outputs": [
    {
     "name": "stdout",
     "output_type": "stream",
     "text": [
      "class java.lang.Integer - false\n",
      "class java.lang.Integer - false\n",
      "class java.lang.Integer - false\n",
      "class java.lang.Double - false\n",
      "class java.math.BigDecimal - false\n"
     ]
    },
    {
     "data": {
      "text/plain": [
       "null"
      ]
     },
     "execution_count": 22,
     "metadata": {},
     "output_type": "execute_result"
    }
   ],
   "source": [
    "int a = 2\n",
    "printf(\"%s - %s%n\", a.getClass(), a.getClass().isPrimitive())\n",
    "\n",
    "def b = 2\n",
    "printf \"%s - %s%n\", b.getClass(), b.getClass().isPrimitive()\n",
    "\n",
    "c = 2\n",
    "printf \"%s - %s%n\", c.getClass(), c.getClass().isPrimitive()\n",
    "\n",
    "double d = 2.2\n",
    "printf \"%s - %s%n\", d.getClass(), d.getClass().isPrimitive()\n",
    "\n",
    "e = 2.3//no type\n",
    "printf \"%s - %s%n\", e.getClass(), e.getClass().isPrimitive()"
   ]
  },
  {
   "cell_type": "markdown",
   "metadata": {},
   "source": [
    "All of the variables are initialized (even local) with their default values (just like instance variable)."
   ]
  },
  {
   "cell_type": "code",
   "execution_count": 23,
   "metadata": {},
   "outputs": [
    {
     "name": "stdout",
     "output_type": "stream",
     "text": [
      "null\n",
      "null\n",
      "0\n",
      "3\n",
      "false\n"
     ]
    },
    {
     "data": {
      "text/plain": [
       "null"
      ]
     },
     "execution_count": 23,
     "metadata": {},
     "output_type": "execute_result"
    }
   ],
   "source": [
    "def a //initialized with null\n",
    "println a\n",
    "\n",
    "String s //initialized with null\n",
    "println s\n",
    "\n",
    "int b//initialized with 0\n",
    "println b\n",
    "println b + 3\n",
    "\n",
    "boolean bool//initialized with false\n",
    "println bool"
   ]
  },
  {
   "cell_type": "markdown",
   "metadata": {},
   "source": [
    "Using actual types."
   ]
  },
  {
   "cell_type": "code",
   "execution_count": 24,
   "metadata": {},
   "outputs": [
    {
     "name": "stdout",
     "output_type": "stream",
     "text": [
      "4\n"
     ]
    },
    {
     "data": {
      "text/plain": [
       "null"
      ]
     },
     "execution_count": 24,
     "metadata": {},
     "output_type": "execute_result"
    }
   ],
   "source": [
    "int sum(int x, int y) {\n",
    "    x + y;\n",
    "}\n",
    "println sum(1, 3)"
   ]
  },
  {
   "cell_type": "markdown",
   "metadata": {},
   "source": [
    "Using `def`."
   ]
  },
  {
   "cell_type": "code",
   "execution_count": 25,
   "metadata": {},
   "outputs": [
    {
     "name": "stdout",
     "output_type": "stream",
     "text": [
      "4\n"
     ]
    },
    {
     "data": {
      "text/plain": [
       "null"
      ]
     },
     "execution_count": 25,
     "metadata": {},
     "output_type": "execute_result"
    }
   ],
   "source": [
    "def sum(def x, def y) {\n",
    "    x + y;\n",
    "}\n",
    "println sum(1, 3)"
   ]
  },
  {
   "cell_type": "markdown",
   "metadata": {},
   "source": [
    "Using no types with parameters."
   ]
  },
  {
   "cell_type": "code",
   "execution_count": 26,
   "metadata": {},
   "outputs": [
    {
     "name": "stdout",
     "output_type": "stream",
     "text": [
      "4\n"
     ]
    },
    {
     "data": {
      "text/plain": [
       "null"
      ]
     },
     "execution_count": 26,
     "metadata": {},
     "output_type": "execute_result"
    }
   ],
   "source": [
    "def sum(x, y) {\n",
    "    x + y;\n",
    "}\n",
    "println sum(1, 3)"
   ]
  },
  {
   "cell_type": "markdown",
   "metadata": {},
   "source": [
    "Methods must return def or actual type."
   ]
  },
  {
   "cell_type": "code",
   "execution_count": 27,
   "metadata": {},
   "outputs": [
    {
     "ename": "groovy.lang.MissingPropertyException",
     "evalue": " No such property",
     "output_type": "error",
     "traceback": [
      "\u001b[1;31mgroovy.lang.MissingPropertyException: No such property: x for class: script1561052241554\u001b[0;0m",
      "\u001b[1;31m\tat this cell line 1\u001b[0;0m",
      "\u001b[0;31m\tat com.twosigma.beakerx.groovy.evaluator.GroovyCodeRunner.runScript(GroovyCodeRunner.java:94)\u001b[0;0m",
      "\u001b[0;31m\tat com.twosigma.beakerx.groovy.evaluator.GroovyCodeRunner.call(GroovyCodeRunner.java:59)\u001b[0;0m",
      "\u001b[0;31m\tat com.twosigma.beakerx.groovy.evaluator.GroovyCodeRunner.call(GroovyCodeRunner.java:32)\u001b[0;0m"
     ]
    }
   ],
   "source": [
    "sum(x, y) {\n",
    "    x + y;\n",
    "}\n",
    "println sum(1, 3)"
   ]
  },
  {
   "cell_type": "code",
   "execution_count": 28,
   "metadata": {},
   "outputs": [
    {
     "name": "stdout",
     "output_type": "stream",
     "text": [
      "5\n",
      "100\n",
      "10.56\n",
      "1.05E41\n",
      "30\n",
      "3.5\n"
     ]
    },
    {
     "data": {
      "text/plain": [
       "null"
      ]
     },
     "execution_count": 28,
     "metadata": {},
     "output_type": "execute_result"
    }
   ],
   "source": [
    "class Example { \n",
    "   static void main(String[] args) { \n",
    "      //Example of a int datatype \n",
    "      int x = 5; \n",
    "\t\t\n",
    "      //Example of a long datatype \n",
    "      long y = 100L; \n",
    "\t\t\n",
    "      //Example of a floating point datatype \n",
    "      float a = 10.56f; \n",
    "\t\t\n",
    "      //Example of a double datatype \n",
    "      double b = 10.5e40; \n",
    "\t\t\n",
    "      //Example of a BigInteger datatype \n",
    "      BigInteger bi = 30g; \n",
    "\t\t\n",
    "      //Example of a BigDecimal datatype \n",
    "      BigDecimal bd = 3.5g; \n",
    "\t\t\n",
    "      println(x); \n",
    "      println(y); \n",
    "      println(a); \n",
    "      println(b); \n",
    "      println(bi); \n",
    "      println(bd); \n",
    "   } \n",
    "}\n",
    "Example.main()"
   ]
  },
  {
   "cell_type": "markdown",
   "metadata": {},
   "source": [
    "## Features"
   ]
  },
  {
   "cell_type": "markdown",
   "metadata": {},
   "source": [
    "Groovy has many different features.  We have seen a few of these, earlier, but the others are mentioned, here.\n",
    "\n",
    "* Support for both static and dynamic typing\n",
    "* Support for operator overloading\n",
    "* Native syntax for lists and associative arrays\n",
    "* Native support for regular expressions\n",
    "* Native support for various markup languages such as XML and HTML.\n",
    "* Similar syntax to Java\n",
    "* Use of existing Java libraries\n",
    "* Extends the java.lang.Object"
   ]
  },
  {
   "cell_type": "markdown",
   "metadata": {},
   "source": [
    "### Support for regular expressions"
   ]
  },
  {
   "cell_type": "code",
   "execution_count": 29,
   "metadata": {},
   "outputs": [
    {
     "name": "stdout",
     "output_type": "stream",
     "text": [
      "Groovy\n",
      "G\n",
      "groovy\n",
      "g\n"
     ]
    },
    {
     "data": {
      "text/plain": [
       "null"
      ]
     },
     "execution_count": 29,
     "metadata": {},
     "output_type": "execute_result"
    }
   ],
   "source": [
    "def m = \"Groovy is groovy\" =~ /(G|g)roovy/\n",
    "println m[0][0] // The first whole match (i.e. the first word Groovy)\n",
    "println m[0][1] // The first group in the first match (i.e. G)\n",
    "println m[1][0] // The second whole match (i.e. the word groovy)\n",
    "println m[1][1] // The first group in the second match (i.e. g)"
   ]
  },
  {
   "cell_type": "markdown",
   "metadata": {},
   "source": [
    "### Support for markup languages\n",
    "\n",
    "One of the most used classes for creating HTML or XML markup."
   ]
  },
  {
   "cell_type": "code",
   "execution_count": 3,
   "metadata": {},
   "outputs": [
    {
     "data": {
      "text/plain": [
       "groovy.xml.MarkupBuilder@7500ce0e"
      ]
     },
     "execution_count": 3,
     "metadata": {},
     "output_type": "execute_result"
    }
   ],
   "source": [
    "import groovy.xml.MarkupBuilder \n",
    "def xml = new MarkupBuilder() "
   ]
  },
  {
   "cell_type": "markdown",
   "metadata": {},
   "source": [
    "### Liberal use of closures"
   ]
  },
  {
   "cell_type": "code",
   "execution_count": 11,
   "metadata": {},
   "outputs": [
    {
     "data": {
      "text/plain": [
       "script1556559307332$_run_closure1@cad3663"
      ]
     },
     "execution_count": 11,
     "metadata": {},
     "output_type": "execute_result"
    }
   ],
   "source": [
    "//closure example\n",
    "timesTwo = {x -> x*2}"
   ]
  },
  {
   "cell_type": "code",
   "execution_count": 12,
   "metadata": {},
   "outputs": [
    {
     "data": {
      "text/plain": [
       "8"
      ]
     },
     "execution_count": 12,
     "metadata": {},
     "output_type": "execute_result"
    }
   ],
   "source": [
    "timesTwo(4)"
   ]
  },
  {
   "cell_type": "code",
   "execution_count": 13,
   "metadata": {},
   "outputs": [
    {
     "data": {
      "text/plain": [
       "Multiplying Strings!Multiplying Strings!"
      ]
     },
     "execution_count": 13,
     "metadata": {},
     "output_type": "execute_result"
    }
   ],
   "source": [
    "timesTwo(\"Multiplying Strings!\")"
   ]
  },
  {
   "cell_type": "code",
   "execution_count": 14,
   "metadata": {},
   "outputs": [
    {
     "data": {
      "text/plain": [
       "9.265358966049026E-5"
      ]
     },
     "execution_count": 14,
     "metadata": {},
     "output_type": "execute_result"
    }
   ],
   "source": [
    "sin(3.1415)"
   ]
  },
  {
   "cell_type": "markdown",
   "metadata": {},
   "source": [
    "## Comparison of Groovy with Java"
   ]
  },
  {
   "cell_type": "markdown",
   "metadata": {},
   "source": [
    "### Basic differences"
   ]
  },
  {
   "cell_type": "markdown",
   "metadata": {},
   "source": [
    "* automatically a wrapping a class called Script for every program\n",
    "* default access specifier is public\n",
    "* getters and setters are automatically generated for class members \n",
    "* abbreviated commands, such as `println`\n",
    "* semicolons `;` and paraentheses `()` are optional\n",
    "* dynamic typing with the `def <var>` keyword (locar var), or with no prefix `<var>` (global var)\n",
    "* string interpolation (GString) is performed with `$` operator, such as `\"Hello, ${firstName[0]}. $name\"`\n",
    "* \"\"\"multi-line strings are also allowed\"\"\"\n",
    "* implicit truthy `if(100)` because 100 exists"
   ]
  },
  {
   "cell_type": "markdown",
   "metadata": {},
   "source": [
    "### New operators"
   ]
  },
  {
   "cell_type": "markdown",
   "metadata": {},
   "source": [
    "* conditional operators\n",
    "  - __safe navigation__`?` operator checks for properties, such as `if(company.getContact()?.getAddress()?.getCountry() == Country.NEW_ZEALAND) { ... }` means If the contact or the address are null, the result of the left side will just be null, but no exception will be thrown.\n",
    "  - __ternary / elvis__ `?` operator `def name = client.getName() ?: \"\"` will assign client.getName() if it isn’t false and the empty string, otherwise\n",
    "\n",
    "* type operators\n",
    "  - __spaceship__ `<=>` delegates to the compareTo() method: `def x = 1 <=> 2; println x; // calls Integer.compareTo`\n",
    "  - __identity__ `is()` tests object reference equality, while `==` checks equality with `.equals()`\n",
    "  - __coercion__ `as` converts an object from one type to another (using `.asType()`), without assignment compatibility, which is different from casting: `String s = \"1.1\"; BigDecimal bd = s as BigDecimal; println bd.class.name`"
   ]
  },
  {
   "cell_type": "markdown",
   "metadata": {},
   "source": [
    "### Using methods"
   ]
  },
  {
   "cell_type": "markdown",
   "metadata": {},
   "source": [
    "* a function used in a script will be compiled to a method within an object\n",
    "* `return` keyword is optional\n",
    "* method operators\n",
    "  - __method pointer__ `.&` stores a reference to a method in a variable: `def power = Math.&pow; def result = power(2, 4);`\n",
    "  - __call operator__ `()` an object with a call method can be called directly: `class A{def call(println(\"hi\"){}}; def a = new A(); a();`\n",
    "* closures \n",
    "  - like Java8 lambdas\n",
    "  - anonymous first-class functions are often called lambda functions\n",
    "  - `def power = { int x, int y -> return Math.pow(x, y) }; println power(2, 3)`\n",
    "* currying \n",
    "* memoization"
   ]
  },
  {
   "cell_type": "markdown",
   "metadata": {},
   "source": [
    "### Collections: list and map"
   ]
  },
  {
   "cell_type": "markdown",
   "metadata": {},
   "source": [
    "* list and map operators\n",
    "  - __subscript__ `[]` allows to read/write to collections and maps: `def list = [2, 4]; println list[0]; def map = [x: 2, y: 4]; println map['x']`\n",
    "  - __membership__ `in` test whether value is in the target collection: `def numbers = [2,4,6,8]; println 2 in numbers`\n",
    "  - __spread-dot__ `*.` invokes an action on all items of an aggregate object: `def lists = [[1], [10, 20, 30], [6, 8]]; def sizes = lists*.size(); //[1, 3, 2]`\n",
    "  __range__ `..` to create ranges of objects: `def numbers = 1..5; println numbers`\n",
    "* create an ArrayList with the given numbers: `def list = [1,1,2,3,5]`\n",
    "* closures make it easy to iterate, filter and transform lists\n",
    "  - iterate a list using a passed closure executed once for each element, implicitly passed, as a parameter to the closure: `list.each { println it }`\n",
    "  - filter a list: `list.findAll { it % 2 == 0 }`\n",
    "  - transform a list: `list.collect { it * it }`\n",
    "  - improve: `[\"Hello\", \"World\"].collect { it.toUpperCase() }` using the spread-dot: `[\"Hello\", \"World\"]*.toUpperCase()`\n",
    "  - Collection (and Iterable) interfaces provide some more methods, like `any` or `every`\n",
    "* maps act similar to lists\n",
    "  ```\n",
    "  def key = 'Key3'\n",
    "  def aMap = [\n",
    "    'Key1': 'Value 1', // Put key1 -> Value 1 to the map\n",
    "    Key2: 'Value 2', // You can also skip the quotes, the key will automatically be a String\n",
    "    (key): 'Another value' // If you want the key to be the value of a variable, you need to put it in parantheses\n",
    "  ]\n",
    "  ```"
   ]
  },
  {
   "cell_type": "markdown",
   "metadata": {},
   "source": [
    "## Applications in Data Science"
   ]
  },
  {
   "cell_type": "markdown",
   "metadata": {},
   "source": [
    "### Dataframes with Tablesaw"
   ]
  },
  {
   "cell_type": "markdown",
   "metadata": {},
   "source": [
    "[Tablesaw](https://tablesaw.tech/) is easy to add to the BeakerX Groovy kernel.\n",
    "Tablesaw provides the ability to easily transform, summarize, and filter data, as well as computing descriptive statistics and fundamental machine learning algorithms.\n",
    "\n",
    "Two helpful demo notebooks (scala) include:\n",
    "* [Recommnder System](https://github.com/IMTorgDemo/IMTorgDemo-Notebooks/blob/master/demo_RS-WhitehawkRecommendSystem.ipynb)\n",
    "* [Evolution to a Data-Driven System](https://github.com/IMTorgDemo/IMTorgDemo-Notebooks/blob/master/demo_RS-WhitehawkEvolutionDataDriven.ipynb)"
   ]
  },
  {
   "cell_type": "markdown",
   "metadata": {},
   "source": [
    "Add using `mvn`."
   ]
  },
  {
   "cell_type": "code",
   "execution_count": 30,
   "metadata": {},
   "outputs": [
    {
     "data": {
      "application/vnd.jupyter.widget-view+json": {
       "model_id": "",
       "version_major": 2,
       "version_minor": 0
      },
      "method": "display_data"
     },
     "metadata": {},
     "output_type": "display_data"
    },
    {
     "data": {
      "application/vnd.jupyter.widget-view+json": {
       "model_id": "62b9bd62-0d86-47c3-9b44-cc4906d859ec",
       "version_major": 2,
       "version_minor": 0
      },
      "method": "display_data"
     },
     "metadata": {},
     "output_type": "display_data"
    }
   ],
   "source": [
    "%%classpath add mvn\n",
    "tech.tablesaw tablesaw-plot 0.11.4\n",
    "tech.tablesaw tablesaw-smile 0.11.4\n",
    "tech.tablesaw tablesaw-beakerx 0.11.4"
   ]
  },
  {
   "cell_type": "code",
   "execution_count": 31,
   "metadata": {},
   "outputs": [
    {
     "data": {
      "text/plain": [
       "null"
      ]
     },
     "execution_count": 31,
     "metadata": {},
     "output_type": "execute_result"
    }
   ],
   "source": [
    "%import tech.tablesaw.aggregate.*\n",
    "%import tech.tablesaw.api.*\n",
    "%import tech.tablesaw.api.ml.clustering.*\n",
    "%import tech.tablesaw.api.ml.regression.*\n",
    "%import tech.tablesaw.columns.*\n",
    "\n",
    "// display Tablesaw tables with BeakerX table display widget\n",
    "tech.tablesaw.beakerx.TablesawDisplayer.register()"
   ]
  },
  {
   "cell_type": "markdown",
   "metadata": {},
   "source": [
    "Read .csv data."
   ]
  },
  {
   "cell_type": "code",
   "execution_count": 32,
   "metadata": {},
   "outputs": [
    {
     "data": {
      "application/vnd.jupyter.widget-view+json": {
       "model_id": "3b925934-a493-412d-b9b6-c723a825b39a",
       "version_major": 2,
       "version_minor": 0
      },
      "method": "display_data"
     },
     "metadata": {},
     "output_type": "display_data"
    }
   ],
   "source": [
    "tornadoes = Table.read().csv(\"../doc/resources/data/tornadoes_2014.csv\")"
   ]
  },
  {
   "cell_type": "markdown",
   "metadata": {},
   "source": [
    "Print the dataset structure."
   ]
  },
  {
   "cell_type": "code",
   "execution_count": 33,
   "metadata": {},
   "outputs": [
    {
     "data": {
      "application/vnd.jupyter.widget-view+json": {
       "model_id": "294eacb1-a101-46eb-8e44-feb38d87f41f",
       "version_major": 2,
       "version_minor": 0
      },
      "method": "display_data"
     },
     "metadata": {},
     "output_type": "display_data"
    }
   ],
   "source": [
    "tornadoes.structure()"
   ]
  },
  {
   "cell_type": "markdown",
   "metadata": {},
   "source": [
    "Get header names."
   ]
  },
  {
   "cell_type": "code",
   "execution_count": 34,
   "metadata": {},
   "outputs": [
    {
     "data": {
      "text/plain": [
       "[Date, Time, State, State No, Scale, Injuries, Fatalities, Start Lat, Start Lon, Length, Width]"
      ]
     },
     "execution_count": 34,
     "metadata": {},
     "output_type": "execute_result"
    }
   ],
   "source": [
    "tornadoes.columnNames()"
   ]
  },
  {
   "cell_type": "markdown",
   "metadata": {},
   "source": [
    "Displays the row and column counts."
   ]
  },
  {
   "cell_type": "code",
   "execution_count": 35,
   "metadata": {},
   "outputs": [
    {
     "data": {
      "text/plain": [
       "908 rows X 11 cols"
      ]
     },
     "execution_count": 35,
     "metadata": {},
     "output_type": "execute_result"
    }
   ],
   "source": [
    "tornadoes.shape()"
   ]
  },
  {
   "cell_type": "markdown",
   "metadata": {},
   "source": [
    "Displays the first n rows."
   ]
  },
  {
   "cell_type": "code",
   "execution_count": 36,
   "metadata": {},
   "outputs": [
    {
     "data": {
      "application/vnd.jupyter.widget-view+json": {
       "model_id": "a0dc6a9f-8dc6-4078-922c-14750d013092",
       "version_major": 2,
       "version_minor": 0
      },
      "method": "display_data"
     },
     "metadata": {},
     "output_type": "display_data"
    }
   ],
   "source": [
    "tornadoes.first(3)"
   ]
  },
  {
   "cell_type": "code",
   "execution_count": 37,
   "metadata": {},
   "outputs": [
    {
     "data": {
      "application/vnd.jupyter.widget-view+json": {
       "model_id": "cdd101ec-f1e5-4e0b-8f0e-b244503c952d",
       "version_major": 2,
       "version_minor": 0
      },
      "method": "display_data"
     },
     "metadata": {},
     "output_type": "display_data"
    }
   ],
   "source": [
    "import static tech.tablesaw.api.QueryHelper.column\n",
    "tornadoes.structure().selectWhere(column(\"Column Type\").isEqualTo(\"FLOAT\"))"
   ]
  },
  {
   "cell_type": "markdown",
   "metadata": {},
   "source": [
    "Summarize the data in each column."
   ]
  },
  {
   "cell_type": "code",
   "execution_count": 38,
   "metadata": {},
   "outputs": [
    {
     "data": {
      "text/plain": [
       "\n",
       "Table summary for: tornadoes_2014.csv\n",
       "       Column: Date        \n",
       " Measure   |    Value     |\n",
       "---------------------------\n",
       "    Count  |         908  |\n",
       "  Missing  |           0  |\n",
       " Earliest  |  2014-01-11  |\n",
       "   Latest  |  2014-12-29  |\n",
       "     Column: Time     \n",
       " Measure   |  Value  |\n",
       "----------------------\n",
       "    Count  |    908  |\n",
       "  Missing  |      0  |\n",
       " Earliest  |  00:01  |\n",
       "   Latest  |  23:59  |\n",
       "    Column: State     \n",
       " Category  |  Count  |\n",
       "----------------------\n",
       "       GA  |     32  |\n",
       "       NM  |     15  |\n",
       "       MT  |      8  |\n",
       "       CO  |     49  |\n",
       "       WV  |      9  |\n",
       "       IN  |     28  |\n",
       "       MD  |      2  |\n",
       "       CA  |      9  |\n",
       "       AL  |     55  |\n",
       "       TN  |     18  |\n",
       "      ...  |    ...  |\n",
       "       MO  |     47  |\n",
       "       ME  |      4  |\n",
       "       LA  |     15  |\n",
       "       MI  |     13  |\n",
       "       SC  |      7  |\n",
       "       KY  |     28  |\n",
       "       MA  |      3  |\n",
       "       CT  |      1  |\n",
       "       NH  |      2  |\n",
       "   Column: State No   \n",
       " Measure   |  Value  |\n",
       "----------------------\n",
       "        n  |  908.0  |\n",
       "      sum  |    0.0  |\n",
       "     Mean  |    0.0  |\n",
       "      Min  |    0.0  |\n",
       "      Max  |    0.0  |\n",
       "    Range  |    0.0  |\n",
       " Variance  |    0.0  |\n",
       " Std. Dev  |    0.0  |\n",
       "       Column: Scale       \n",
       " Measure   |    Value     |\n",
       "---------------------------\n",
       "        n  |       908.0  |\n",
       "      sum  |       567.0  |\n",
       "     Mean  |   0.6244493  |\n",
       "      Min  |         0.0  |\n",
       "      Max  |         4.0  |\n",
       "    Range  |         4.0  |\n",
       " Variance  |   0.6272737  |\n",
       " Std. Dev  |  0.79200613  |\n",
       "     Column: Injuries      \n",
       " Measure   |    Value     |\n",
       "---------------------------\n",
       "        n  |       908.0  |\n",
       "      sum  |       684.0  |\n",
       "     Mean  |  0.75330395  |\n",
       "      Min  |         0.0  |\n",
       "      Max  |       193.0  |\n",
       "    Range  |       193.0  |\n",
       " Variance  |    57.68108  |\n",
       " Std. Dev  |    7.594806  |\n",
       "     Column: Fatalities     \n",
       " Measure   |     Value     |\n",
       "----------------------------\n",
       "        n  |        908.0  |\n",
       "      sum  |         48.0  |\n",
       "     Mean  |  0.052863438  |\n",
       "      Min  |          0.0  |\n",
       "      Max  |         16.0  |\n",
       "    Range  |         16.0  |\n",
       " Variance  |   0.44262686  |\n",
       " Std. Dev  |    0.6653021  |\n",
       "    Column: Start Lat     \n",
       " Measure   |    Value    |\n",
       "--------------------------\n",
       "        n  |      908.0  |\n",
       "      sum  |  34690.984  |\n",
       "     Mean  |   38.20593  |\n",
       "      Min  |        0.0  |\n",
       "      Max  |      48.86  |\n",
       "    Range  |      48.86  |\n",
       " Variance  |  22.448586  |\n",
       " Std. Dev  |  4.7379937  |\n",
       "    Column: Start Lon     \n",
       " Measure   |    Value    |\n",
       "--------------------------\n",
       "        n  |      908.0  |\n",
       "      sum  |  -83613.02  |\n",
       "     Mean  |  -92.08483  |\n",
       "      Min  |   -122.946  |\n",
       "      Max  |        0.0  |\n",
       "    Range  |    122.946  |\n",
       " Variance  |   91.84773  |\n",
       " Std. Dev  |   9.583722  |\n",
       "      Column: Length      \n",
       " Measure   |    Value    |\n",
       "--------------------------\n",
       "        n  |      908.0  |\n",
       "      sum  |    3014.49  |\n",
       "     Mean  |   3.319923  |\n",
       "      Min  |        0.0  |\n",
       "      Max  |      45.68  |\n",
       "    Range  |      45.68  |\n",
       " Variance  |  28.736567  |\n",
       " Std. Dev  |  5.3606496  |\n",
       "      Column: Width       \n",
       " Measure   |    Value    |\n",
       "--------------------------\n",
       "        n  |      908.0  |\n",
       "      sum  |   149778.0  |\n",
       "     Mean  |  164.95375  |\n",
       "      Min  |        0.0  |\n",
       "      Max  |     2640.0  |\n",
       "    Range  |     2640.0  |\n",
       " Variance  |  57764.465  |\n",
       " Std. Dev  |  240.34239  |\n",
       "\n"
      ]
     },
     "execution_count": 38,
     "metadata": {},
     "output_type": "execute_result"
    }
   ],
   "source": [
    "tornadoes.summary()"
   ]
  },
  {
   "cell_type": "markdown",
   "metadata": {},
   "source": [
    "Mapping operations."
   ]
  },
  {
   "cell_type": "code",
   "execution_count": 39,
   "metadata": {},
   "outputs": [
    {
     "data": {
      "text/plain": [
       "[Date, Time, State, State No, Scale, Injuries, Fatalities, Start Lat, Start Lon, Length, Width, Date month]"
      ]
     },
     "execution_count": 39,
     "metadata": {},
     "output_type": "execute_result"
    }
   ],
   "source": [
    "def month = tornadoes.dateColumn(\"Date\").month()\n",
    "tornadoes.addColumn(month);\n",
    "tornadoes.columnNames()"
   ]
  },
  {
   "cell_type": "markdown",
   "metadata": {},
   "source": [
    "Sorting by column."
   ]
  },
  {
   "cell_type": "code",
   "execution_count": 44,
   "metadata": {},
   "outputs": [
    {
     "data": {
      "application/vnd.jupyter.widget-view+json": {
       "model_id": "a8b49a9d-175c-49b2-b3f4-2444dbc337e8",
       "version_major": 2,
       "version_minor": 0
      },
      "method": "display_data"
     },
     "metadata": {},
     "output_type": "display_data"
    }
   ],
   "source": [
    "tornadoes.sortOn(\"-Fatalities\")"
   ]
  },
  {
   "cell_type": "markdown",
   "metadata": {},
   "source": [
    "Descriptive statistics."
   ]
  },
  {
   "cell_type": "code",
   "execution_count": 45,
   "metadata": {},
   "outputs": [
    {
     "data": {
      "application/vnd.jupyter.widget-view+json": {
       "model_id": "e40e8a82-de37-476c-b43e-e3827d3a3581",
       "version_major": 2,
       "version_minor": 0
      },
      "method": "display_data"
     },
     "metadata": {},
     "output_type": "display_data"
    }
   ],
   "source": [
    "tornadoes.column(\"Fatalities\").summary()"
   ]
  },
  {
   "cell_type": "markdown",
   "metadata": {},
   "source": [
    "Performing totals and sub-totals."
   ]
  },
  {
   "cell_type": "code",
   "execution_count": 46,
   "metadata": {},
   "outputs": [
    {
     "data": {
      "application/vnd.jupyter.widget-view+json": {
       "model_id": "f9524e25-777d-403f-aba1-6a4fcee99e1f",
       "version_major": 2,
       "version_minor": 0
      },
      "method": "display_data"
     },
     "metadata": {},
     "output_type": "display_data"
    }
   ],
   "source": [
    "def injuriesByScale = tornadoes.median(\"Injuries\").by(\"Scale\")\n",
    "injuriesByScale.setName(\"Median injuries by Tornado Scale\")\n",
    "injuriesByScale"
   ]
  },
  {
   "cell_type": "markdown",
   "metadata": {},
   "source": [
    "Cross tabulation."
   ]
  },
  {
   "cell_type": "code",
   "execution_count": 47,
   "metadata": {},
   "outputs": [
    {
     "data": {
      "application/vnd.jupyter.widget-view+json": {
       "model_id": "8d5666dd-aae1-4c0f-963e-2d2e52b4b508",
       "version_major": 2,
       "version_minor": 0
      },
      "method": "display_data"
     },
     "metadata": {},
     "output_type": "display_data"
    }
   ],
   "source": [
    "CrossTab.xCount(tornadoes, tornadoes.categoryColumn(\"State\"), tornadoes.shortColumn(\"Scale\"))"
   ]
  },
  {
   "cell_type": "markdown",
   "metadata": {},
   "source": [
    "### Example with Tablesaw"
   ]
  },
  {
   "cell_type": "markdown",
   "metadata": {},
   "source": [
    "You can fetch data from [Quandl](https://www.quandl.com/) and load it directly into Tablesaw"
   ]
  },
  {
   "cell_type": "code",
   "execution_count": 48,
   "metadata": {},
   "outputs": [
    {
     "data": {
      "application/vnd.jupyter.widget-view+json": {
       "model_id": "",
       "version_major": 2,
       "version_minor": 0
      },
      "method": "display_data"
     },
     "metadata": {},
     "output_type": "display_data"
    },
    {
     "data": {
      "application/vnd.jupyter.widget-view+json": {
       "model_id": "13835cc9-842c-4eae-842b-ccb4783de771",
       "version_major": 2,
       "version_minor": 0
      },
      "method": "display_data"
     },
     "metadata": {},
     "output_type": "display_data"
    }
   ],
   "source": [
    "%classpath add mvn com.jimmoores quandl-tablesaw 2.0.0\n",
    "%import com.jimmoores.quandl.*\n",
    "%import com.jimmoores.quandl.tablesaw.*"
   ]
  },
  {
   "cell_type": "code",
   "execution_count": null,
   "metadata": {},
   "outputs": [],
   "source": [
    "TableSawQuandlSession session = TableSawQuandlSession.create();\n",
    "Table table = session.getDataSet(DataSetRequest.Builder.of(\"WIKI/AAPL\").build());"
   ]
  },
  {
   "cell_type": "code",
   "execution_count": null,
   "metadata": {},
   "outputs": [],
   "source": [
    "// Create a new column containing the year\n",
    "ShortColumn yearColumn = table.dateColumn(\"Date\").year();\n",
    "yearColumn.setName(\"Year\");\n",
    "table.addColumn(yearColumn);\n",
    "// Create max, min and total volume tables aggregated by year\n",
    "Table summaryMax = table.groupBy(\"year\").max(\"Adj. Close\");\n",
    "Table summaryMin = table.groupBy(\"year\").min(\"Adj. Close\");\n",
    "Table summaryVolume = table.groupBy(\"year\")sum(\"Volume\");\n",
    "// Create a new table from each of these\n",
    "summary = Table.create(\"Summary\", summaryMax.column(0), summaryMax.column(1), \n",
    "                       summaryMin.column(1), summaryVolume.column(1));\n",
    "// Add back a DateColumn to the summary...will be used for plotting\n",
    "DateColumn yearDates = new DateColumn(\"YearDate\");\n",
    "for(year in summary.column('Year')){\n",
    "    yearDates.append(java.time.LocalDate.of(year,1,1));\n",
    "}\n",
    "summary.addColumn(yearDates)\n",
    "\n",
    "summary"
   ]
  },
  {
   "cell_type": "code",
   "execution_count": null,
   "metadata": {},
   "outputs": [],
   "source": [
    "years = summary.column('YearDate').collect()\n",
    "\n",
    "plot = new TimePlot(title: 'Price Chart for AAPL', xLabel: 'Time', yLabel: 'Max [Adj. Close]')\n",
    "plot << new YAxis(label: 'Volume')\n",
    "plot << new Points(x: years, y: summary.column('Max [Adj. Close]').collect())\n",
    "plot << new Line(x: years, y: summary.column('Max [Adj. Close]').collect(), color: Color.blue)\n",
    "plot << new Stems(x: years, y: summary.column('Sum [Volume]').collect(), yAxis: 'Volume')"
   ]
  },
  {
   "cell_type": "markdown",
   "metadata": {},
   "source": [
    "### Auto-Translation in BeakerX\n",
    "\n",
    "Auto-Translation is the act of converting a data structure in one language to another.  In the context of data science, the obvious data structures are lists and data frames."
   ]
  },
  {
   "cell_type": "code",
   "execution_count": 51,
   "metadata": {},
   "outputs": [
    {
     "data": {
      "text/plain": [
       "a groovy value"
      ]
     },
     "execution_count": 51,
     "metadata": {},
     "output_type": "execute_result"
    }
   ],
   "source": [
    "//start with groovy\n",
    "beakerx.foo = \"a groovy value\""
   ]
  },
  {
   "cell_type": "code",
   "execution_count": null,
   "metadata": {},
   "outputs": [],
   "source": [
    "//to javascript\n",
    "%%javascript\n",
    "beakerx.bar = [23, 48, 7, \"from JS\"];\n",
    "beakerx.foo"
   ]
  },
  {
   "cell_type": "code",
   "execution_count": null,
   "metadata": {},
   "outputs": [],
   "source": [
    "//back to groovy\n",
    "beakerx.bar "
   ]
  },
  {
   "cell_type": "code",
   "execution_count": 60,
   "metadata": {},
   "outputs": [
    {
     "data": {
      "text/plain": [
       "'a groovy value'"
      ]
     },
     "execution_count": 2,
     "metadata": {},
     "output_type": "execute_result"
    }
   ],
   "source": [
    "//to python\n",
    "%%python\n",
    "from beakerx import beakerx\n",
    "beakerx.foo"
   ]
  },
  {
   "cell_type": "code",
   "execution_count": 61,
   "metadata": {},
   "outputs": [
    {
     "data": {
      "text/plain": [
       "a groovy value"
      ]
     },
     "execution_count": 1,
     "metadata": {},
     "output_type": "execute_result"
    }
   ],
   "source": [
    "//to scala\n",
    "%%scala\n",
    "beakerx.foo"
   ]
  },
  {
   "cell_type": "markdown",
   "metadata": {},
   "source": [
    "### Graphing with BeakerX\n",
    "\n",
    "Both BeakerX and Tablesaw do a good job of addressing the need to visualize data. "
   ]
  },
  {
   "cell_type": "code",
   "execution_count": 70,
   "metadata": {},
   "outputs": [],
   "source": [
    "rates = new CSV().read(\"../doc/resources/data/interest-rates.csv\")\n",
    "def f = new java.text.SimpleDateFormat(\"yyyy MM dd\")\n",
    "lehmanDate = f.parse(\"2008 09 15\")\n",
    "bubbleBottomDate = f.parse(\"2002 10 09\")\n",
    "inversion1 = [f.parse(\"2000 07 22\"), f.parse(\"2001 02 16\")]\n",
    "inversion2 = [f.parse(\"2006 08 01\"), f.parse(\"2007 06 07\")]\n",
    "def size = rates.size()\n",
    "(0 ..< size).each{row = rates[it]; row.spread = row.y10 - row.m3}\n",
    "\n",
    "OutputCell.HIDDEN"
   ]
  },
  {
   "cell_type": "code",
   "execution_count": 71,
   "metadata": {},
   "outputs": [
    {
     "data": {
      "application/vnd.jupyter.widget-view+json": {
       "model_id": "a7e630fe-9de4-4deb-ba3b-071bf15571ae",
       "version_major": 2,
       "version_minor": 0
      },
      "method": "display_data"
     },
     "metadata": {},
     "output_type": "display_data"
    }
   ],
   "source": [
    "// The simplest chart function with all defaults:\n",
    "new SimpleTimePlot(rates, [\"y1\", \"y10\"])"
   ]
  },
  {
   "cell_type": "code",
   "execution_count": 72,
   "metadata": {},
   "outputs": [
    {
     "data": {
      "application/vnd.jupyter.widget-view+json": {
       "model_id": "987a3fb0-1b84-45ee-8412-78d1c32a1be5",
       "version_major": 2,
       "version_minor": 0
      },
      "method": "display_data"
     },
     "metadata": {},
     "output_type": "display_data"
    }
   ],
   "source": [
    "//scatter plot\n",
    "def c = new Color(120, 120, 120, 100)\n",
    "new Plot() << new Points(x: rates.y1, y: rates.y30, displayName: \"y1 vs y30\") \\\n",
    "           << new Points(x: rates.m3, y: rates.y5, displayName: \"m3 vs y5\") \\\n",
    "           << new Line(x: rates.m3, y: rates.y5, color: c) \\\n",
    "           << new Line(x: rates.y1, y: rates.y30, color: c)"
   ]
  },
  {
   "cell_type": "code",
   "execution_count": 73,
   "metadata": {},
   "outputs": [],
   "source": [
    "def ch = new Crosshair(color: Color.gray, width: 2, style: StrokeType.DOT)\n",
    "\n",
    "// The top plot has 2 lines.\n",
    "p1 = new TimePlot(yLabel: \"Interest Rate\", crosshair: ch)\n",
    "p1 << new Line(x: rates.time, y: rates.m3, displayName: \"3 month\")\n",
    "p1 << new Line(x: rates.time, y: rates.y10, displayName: \"10 year\")\n",
    "\n",
    "// The bottom plot has an area filled in.\n",
    "p2 = new TimePlot(yLabel: \"Spread\", crosshair: ch)\n",
    "p2 << new Area(x: rates.time, y: rates.spread, color: new Color(120, 60, 0))\n",
    "\n",
    "// Highlight the inversion intervals\n",
    "def b1 = new ConstantBand(x: inversion1, color: new Color(240, 100, 100, 55))\n",
    "def b2 = new ConstantBand(x: inversion2, color: new Color(240, 100, 100, 55))\n",
    "\n",
    "// Add notation and line for Lehman Bankruptcy.\n",
    "p1 << new Text(x: lehmanDate, y: 7.5, text: \"Lehman Brothers Bankruptcy\")\n",
    "def l1 = new ConstantLine(x: lehmanDate, style: StrokeType.DOT, color: Color.gray)\n",
    "\n",
    "// Add notation and line for Stocks Nadir.\n",
    "p1 << new Text(x: bubbleBottomDate, y: 5.75, text: \"Stocks Hit Bottom\")\n",
    "def l2 = new ConstantLine(x: bubbleBottomDate, style: StrokeType.DOT, color: Color.gray)\n",
    "\n",
    "// add the notations and highlight bands to both plots\n",
    "p1 << l1 << l2 << b1 << b2\n",
    "p2 << l1 << l2 << b1 << b2\n",
    "\n",
    "OutputCell.HIDDEN"
   ]
  },
  {
   "cell_type": "code",
   "execution_count": 74,
   "metadata": {},
   "outputs": [
    {
     "data": {
      "application/vnd.jupyter.widget-view+json": {
       "model_id": "ed47bd50-50eb-4243-92e3-4ceeb8fc8711",
       "version_major": 2,
       "version_minor": 0
      },
      "method": "display_data"
     },
     "metadata": {},
     "output_type": "display_data"
    }
   ],
   "source": [
    "// Then use a CombinedPlot to get stacked plots with linked X axis.\n",
    "def c = new CombinedPlot(title: \"US Treasuries\", initWidth: 1000)\n",
    "\n",
    "// add both plots to the combined plot, and including their relative heights.\n",
    "c.add(p1, 3)\n",
    "c.add(p2, 1)"
   ]
  },
  {
   "cell_type": "markdown",
   "metadata": {},
   "source": [
    "### Integration with D3js\n",
    "\n",
    "Being able to prototype for the frontend is key for deliverying quickly.  The BeakerX integration with D3js is great for this."
   ]
  },
  {
   "cell_type": "code",
   "execution_count": 75,
   "metadata": {},
   "outputs": [],
   "source": [
    "def r = new Random()\n",
    "def nnodes = 100\n",
    "def nodes = []\n",
    "def links = []\n",
    "\n",
    "for (x in (0..nnodes)){\n",
    "  nodes.add(name:\"\" + x, group:((int) x*7/nnodes))\n",
    "}\n",
    "\n",
    "for (x in (0..(int) nnodes*1.15)) { \n",
    "  source = x % nnodes\n",
    "  target = ((int) log(1 + r.nextInt(nnodes))/log(1.3))\n",
    "  value = 10.0 / (1 + abs(source - target))\n",
    "  links.add(source: source, target: target, value: value*value)\n",
    "}\n",
    "\n",
    "beakerx.graph = [nodes: nodes, links: links]\n",
    "OutputCell.HIDDEN"
   ]
  },
  {
   "cell_type": "code",
   "execution_count": 76,
   "metadata": {},
   "outputs": [
    {
     "data": {
      "application/javascript": [
       "require.config({\n",
       "  paths: {\n",
       "      d3: '//cdnjs.cloudflare.com/ajax/libs/d3/4.9.1/d3.min'\n",
       "  }});"
      ]
     },
     "execution_count": 76,
     "metadata": {},
     "output_type": "execute_result"
    }
   ],
   "source": [
    "%%javascript\n",
    "require.config({\n",
    "  paths: {\n",
    "      d3: '//cdnjs.cloudflare.com/ajax/libs/d3/4.9.1/d3.min'\n",
    "  }});"
   ]
  },
  {
   "cell_type": "code",
   "execution_count": 77,
   "metadata": {},
   "outputs": [
    {
     "data": {
      "text/html": [
       "<html><style>\n",
       ".node {\n",
       "  stroke: #fff;\n",
       "  stroke-width: 1.5px;\n",
       "}\n",
       "\n",
       ".link {\n",
       "  stroke: #999;\n",
       "  stroke-opacity: .6;\n",
       "}\n",
       "</style></html>"
      ]
     },
     "execution_count": 77,
     "metadata": {},
     "output_type": "execute_result"
    }
   ],
   "source": [
    "%%html\n",
    "<style>\n",
    ".node {\n",
    "  stroke: #fff;\n",
    "  stroke-width: 1.5px;\n",
    "}\n",
    "\n",
    ".link {\n",
    "  stroke: #999;\n",
    "  stroke-opacity: .6;\n",
    "}\n",
    "</style>"
   ]
  },
  {
   "cell_type": "code",
   "execution_count": 78,
   "metadata": {},
   "outputs": [
    {
     "data": {
      "application/javascript": [
       "\n",
       "beakerx.displayHTML(this, '<div id=\"fdg\"></div>');\n",
       "\n",
       "var graph = beakerx.graph\n",
       "\n",
       "var d3 = require(['d3'], function (d3) {\n",
       "    \n",
       "    var width = 600,\n",
       "        height = 500;\n",
       "\n",
       "    var color = d3.scaleOrdinal(d3.schemeCategory20);\n",
       "\n",
       "    var simulation = d3.forceSimulation()\n",
       "        .force(\"link\", d3.forceLink().distance(30))\n",
       "        .force(\"charge\", d3.forceManyBody().strength(-200))\n",
       "        .force(\"center\", d3.forceCenter(width / 2, height / 2))\n",
       "        .force(\"y\", d3.forceY(width / 2).strength(0.3))\n",
       "        .force(\"x\", d3.forceX(height / 2).strength(0.3));\n",
       "\n",
       "    var svg = d3.select(\"#fdg\")\n",
       "                .append(\"svg\")\n",
       "                .attr(\"width\", width)\n",
       "                .attr(\"height\", height)\n",
       "                .attr(\"transform\", \"translate(\"+[100, 0]+\")\");\n",
       "\n",
       "    simulation\n",
       "          .nodes(graph.nodes)\n",
       "          .force(\"link\")\n",
       "          .links(graph.links);\n",
       "\n",
       "    var link = svg.selectAll(\".link\")\n",
       "          .data(graph.links)\n",
       "          .enter().append(\"line\")\n",
       "          .attr(\"class\", \"link\")\n",
       "          .style(\"stroke-width\", function(d) { return Math.sqrt(d.value); });\n",
       "\n",
       "    var node = svg.selectAll(\".node\")\n",
       "          .data(graph.nodes)\n",
       "          .enter().append(\"circle\")\n",
       "          .attr(\"class\", \"node\")\n",
       "          .attr(\"r\", 10)\n",
       "          .style(\"fill\", function(d) { return color(d.group); });\n",
       "\n",
       "    node.append(\"title\")\n",
       "          .text(function(d) { return d.name; });\n",
       "\n",
       "    simulation.on(\"tick\", function() {\n",
       "        link.attr(\"x1\", function(d) { return d.source.x; })\n",
       "            .attr(\"y1\", function(d) { return d.source.y; })\n",
       "            .attr(\"x2\", function(d) { return d.target.x; })\n",
       "            .attr(\"y2\", function(d) { return d.target.y; });\n",
       "\n",
       "        node.attr(\"cx\", function(d) { return d.x; })\n",
       "            .attr(\"cy\", function(d) { return d.y; });\n",
       "    });\n",
       "    \n",
       "    node.call(d3.drag()\n",
       "        .on(\"start\", dragstarted)\n",
       "        .on(\"drag\", dragged)\n",
       "        .on(\"end\", dragended)\n",
       "    );\n",
       "    \n",
       "    function dragstarted(d) {\n",
       "        if (!d3.event.active) simulation.alphaTarget(0.3).restart();\n",
       "        d.fx = d.x;\n",
       "        d.fy = d.y;\n",
       "    }\n",
       "\n",
       "    function dragged(d) {\n",
       "        d.fx = d3.event.x;\n",
       "        d.fy = d3.event.y;\n",
       "    }\n",
       "\n",
       "    function dragended(d) {\n",
       "        if (!d3.event.active) simulation.alphaTarget(0);\n",
       "        d.fx = null;\n",
       "        d.fy = null;\n",
       "    }\n",
       "});"
      ]
     },
     "execution_count": 78,
     "metadata": {},
     "output_type": "execute_result"
    }
   ],
   "source": [
    "%%javascript\n",
    "\n",
    "beakerx.displayHTML(this, '<div id=\"fdg\"></div>');\n",
    "\n",
    "var graph = beakerx.graph\n",
    "\n",
    "var d3 = require(['d3'], function (d3) {\n",
    "    \n",
    "    var width = 600,\n",
    "        height = 500;\n",
    "\n",
    "    var color = d3.scaleOrdinal(d3.schemeCategory20);\n",
    "\n",
    "    var simulation = d3.forceSimulation()\n",
    "        .force(\"link\", d3.forceLink().distance(30))\n",
    "        .force(\"charge\", d3.forceManyBody().strength(-200))\n",
    "        .force(\"center\", d3.forceCenter(width / 2, height / 2))\n",
    "        .force(\"y\", d3.forceY(width / 2).strength(0.3))\n",
    "        .force(\"x\", d3.forceX(height / 2).strength(0.3));\n",
    "\n",
    "    var svg = d3.select(\"#fdg\")\n",
    "                .append(\"svg\")\n",
    "                .attr(\"width\", width)\n",
    "                .attr(\"height\", height)\n",
    "                .attr(\"transform\", \"translate(\"+[100, 0]+\")\");\n",
    "\n",
    "    simulation\n",
    "          .nodes(graph.nodes)\n",
    "          .force(\"link\")\n",
    "          .links(graph.links);\n",
    "\n",
    "    var link = svg.selectAll(\".link\")\n",
    "          .data(graph.links)\n",
    "          .enter().append(\"line\")\n",
    "          .attr(\"class\", \"link\")\n",
    "          .style(\"stroke-width\", function(d) { return Math.sqrt(d.value); });\n",
    "\n",
    "    var node = svg.selectAll(\".node\")\n",
    "          .data(graph.nodes)\n",
    "          .enter().append(\"circle\")\n",
    "          .attr(\"class\", \"node\")\n",
    "          .attr(\"r\", 10)\n",
    "          .style(\"fill\", function(d) { return color(d.group); });\n",
    "\n",
    "    node.append(\"title\")\n",
    "          .text(function(d) { return d.name; });\n",
    "\n",
    "    simulation.on(\"tick\", function() {\n",
    "        link.attr(\"x1\", function(d) { return d.source.x; })\n",
    "            .attr(\"y1\", function(d) { return d.source.y; })\n",
    "            .attr(\"x2\", function(d) { return d.target.x; })\n",
    "            .attr(\"y2\", function(d) { return d.target.y; });\n",
    "\n",
    "        node.attr(\"cx\", function(d) { return d.x; })\n",
    "            .attr(\"cy\", function(d) { return d.y; });\n",
    "    });\n",
    "    \n",
    "    node.call(d3.drag()\n",
    "        .on(\"start\", dragstarted)\n",
    "        .on(\"drag\", dragged)\n",
    "        .on(\"end\", dragended)\n",
    "    );\n",
    "    \n",
    "    function dragstarted(d) {\n",
    "        if (!d3.event.active) simulation.alphaTarget(0.3).restart();\n",
    "        d.fx = d.x;\n",
    "        d.fy = d.y;\n",
    "    }\n",
    "\n",
    "    function dragged(d) {\n",
    "        d.fx = d3.event.x;\n",
    "        d.fy = d3.event.y;\n",
    "    }\n",
    "\n",
    "    function dragended(d) {\n",
    "        if (!d3.event.active) simulation.alphaTarget(0);\n",
    "        d.fx = null;\n",
    "        d.fy = null;\n",
    "    }\n",
    "});"
   ]
  },
  {
   "cell_type": "markdown",
   "metadata": {},
   "source": [
    "## References"
   ]
  },
  {
   "cell_type": "markdown",
   "metadata": {},
   "source": [
    "### Table of keywords\n",
    "\n",
    "The following table lists the keywords which are defined in Groovy\n",
    "\n",
    "|   |   |   |   |   |\n",
    "|---|---|---|---|---|\n",
    "| as |      assert |      break |        case |\n",
    "| catch |\tclass  |     const \t|   continue |\n",
    "| def | \tdefault |\tdo \t   |      else |\n",
    "| enum |\textends |\tfalse \t|     Finally |\n",
    "| for |\tgoto \t|    if \t  |       implements |\n",
    "| import |\tin \t  |      instanceof |\t interface |\n",
    "| new |\tpull \t|    package |\t return |\n",
    "| super |\tswitch \t  |  this \t  |   throw |\n",
    "| throws |\ttrait \t|    true \t |    try |\n",
    "| while |\t\t\t\n",
    "\n",
    "\n",
    "Groovy but not Java:\n",
    "\n",
    "|   |   |   |   |   |\n",
    "|---|---|---|---|---|\n",
    "| as  |  def  |  in  |  trait |\n"
   ]
  },
  {
   "cell_type": "markdown",
   "metadata": {},
   "source": [
    "### Data types\n",
    "\n",
    "Primitive data types\n",
    "```\n",
    "    byte − represent a byte value. An example is 2\n",
    "    short − represent a short number. An example is 10\n",
    "    int − represent whole numbers. An example is 1234\n",
    "    long − represent a long number. An example is 10000090\n",
    "    float − represent 32-bit floating point numbers. An example is 12.34\n",
    "    double − represent 64-bit floating point numbers which are longer decimal numbers which may be required at times. An example is 12.3456565\n",
    "    char − defines a single character literal. An example is ‘a’\n",
    "    Boolean − represents a Boolean value which can either be true or false\n",
    "    String − text literals which are represented in the form of chain of characters. For example “Hello World”.\n",
    "```\n",
    "\n",
    "In addition to the primitive types, the following object types (sometimes referred to as wrapper types) are allowed −\n",
    "```\n",
    "    java.lang.Byte\n",
    "    java.lang.Short\n",
    "    java.lang.Integer\n",
    "    java.lang.Long\n",
    "    java.lang.Float\n",
    "    java.lang.Double\n",
    "```\n",
    "For arbitrary precision artithemetic\n",
    "```\n",
    "java.math.BigInteger\n",
    "java.math.BigDecimal\n",
    "```"
   ]
  },
  {
   "cell_type": "markdown",
   "metadata": {},
   "source": [
    "### Online\n",
    "\n",
    "* [official website and documentation](http://groovy-lang.org/documentation.html)\n",
    "* [getting started with groovy in IntelliJ](https://www.jetbrains.com/help/idea/getting-started-with-groovy.html)\n",
    "* [groovy for java developers](https://www.timroes.de/groovy-tutorial-for-java-developers)\n",
    "* [groovy tutorial](https://www.guru99.com/groovy-tutorial.html)\n",
    "* [detailed groovy tutorials](https://www.logicbig.com/tutorials/misc/groovy.html)"
   ]
  }
 ],
 "metadata": {
  "kernelspec": {
   "display_name": "Groovy",
   "language": "groovy",
   "name": "groovy"
  },
  "language_info": {
   "codemirror_mode": "groovy",
   "file_extension": ".groovy",
   "mimetype": "",
   "name": "Groovy",
   "nbconverter_exporter": "",
   "version": "2.4.3"
  },
  "toc": {
   "base_numbering": 1,
   "nav_menu": {},
   "number_sections": false,
   "sideBar": false,
   "skip_h1_title": false,
   "title_cell": "Table of Contents",
   "title_sidebar": "Contents",
   "toc_cell": false,
   "toc_position": {},
   "toc_section_display": false,
   "toc_window_display": false
  }
 },
 "nbformat": 4,
 "nbformat_minor": 2
}
