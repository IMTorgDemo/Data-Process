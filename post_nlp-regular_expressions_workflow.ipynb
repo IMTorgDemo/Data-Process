{
 "cells": [
  {
   "cell_type": "markdown",
   "metadata": {},
   "source": [
    "# Solving Problems with Regular Expressions\n",
    "Date: 2019-05-19  \n",
    "Author: Jason Beach  \n",
    "Categories: Process, DataScience  \n",
    "Tags: NLP, RegEx \n",
    "<!--eofm-->"
   ]
  },
  {
   "cell_type": "markdown",
   "metadata": {},
   "source": [
    "Regular Expressions provide an important foundation for learning systems.  They are useful for quick and direct approaches to solving problems without creating mounds of training data, nor the infrastructure for deploying a model.  While they are a common programming technique, and simple enough to employ, they tend to be used so infrequently that you must re-learn them each time you wish to apply.    This post summarizes the basic regex syntax, strategies, and workflow in hopes it will decrease the time needed to implement.  A few different languages are used in examples, for various scenario.  Happy re-learning!"
   ]
  },
  {
   "cell_type": "markdown",
   "metadata": {},
   "source": [
    "## Regex Basics"
   ]
  },
  {
   "cell_type": "markdown",
   "metadata": {},
   "source": [
    "### Operators\n",
    "\n",
    "_Character classes_\n",
    "\n",
    "__abc__, __123__, __\\d__, __\\D__: matches exact character, exact digit, any digit, any non-digit\n",
    "\n",
    "__\\s__, __\\S__, __\\w__, __\\W__ : matches white space, non-white space, alphanumeric word, non-alphanumeric word\n",
    "\n",
    "_Boundaries_\n",
    "\n",
    "__^__, __$__, __\\b__, __\\B__: start of string, end of string, word boundary, not word boundary\n",
    "\n",
    "_Quantifiers_\n",
    "\n",
    "__x*__: matches zero or multiple x\n",
    "\n",
    "__x+__: matches one or multiple x\n",
    "\n",
    "__x{m,n}__: matches x repeat m to n times. a{4} represent aaaa\n",
    "\n",
    "__x?__: optional - matches one or zero x\n",
    "\n",
    "_Groups, Ranges, and Capture_\n",
    "\n",
    "__[xyz]__, __(x|y|z)__: equals x or y or z\n",
    "\n",
    "__[^xyz]__: not x or y or z\n",
    "\n",
    "__[x-z]__: matches anyone between x and y\n",
    "\n",
    "__^x__, __[^xyz]__: means any character that is not x, not any in group x|y|z\n",
    "\n",
    "__(xyz)__, __(xy(z))__: capture group, capture group and sub-group"
   ]
  },
  {
   "cell_type": "markdown",
   "metadata": {},
   "source": [
    "### Syntax patterns\n",
    "\n",
    "RegEx libraries typically provide functionality and components using similar patterns, such as the following:\n",
    "\n",
    "* `pattern` - encapsulate the expression that is sought using above syntax (mostly language agnostic)\n",
    "* `find` - apply a pattern, directly to text and return nothing, or a regex object\n",
    "* `match` - apply the pattern to text and return boolean whether a match, or exact match, exists\n",
    "* `sub` - substitute a pattern for a string\n",
    "* convenience functionality "
   ]
  },
  {
   "cell_type": "markdown",
   "metadata": {},
   "source": [
    "## Common Solution Approaches"
   ]
  },
  {
   "cell_type": "markdown",
   "metadata": {},
   "source": [
    "### Example data"
   ]
  },
  {
   "cell_type": "markdown",
   "metadata": {},
   "source": [
    "We will use the following file for example data."
   ]
  },
  {
   "cell_type": "code",
   "execution_count": 3,
   "metadata": {},
   "outputs": [
    {
     "name": "stdout",
     "output_type": "stream",
     "text": [
      "example_chat.txt\n",
      "\n"
     ]
    }
   ],
   "source": [
    "%%bash\n",
    "ls Data/Bloomberg_Chat"
   ]
  },
  {
   "cell_type": "markdown",
   "metadata": {},
   "source": [
    "We will read-in and parse each line using a method similar to the following:"
   ]
  },
  {
   "cell_type": "code",
   "execution_count": 7,
   "metadata": {},
   "outputs": [
    {
     "name": "stdout",
     "output_type": "stream",
     "text": [
      "Message#: 0\n",
      "\n",
      "Message Sent: 02/13/2019 08:42:15\n",
      "\n",
      "Subject: Instant Bloomberg  Persistent\n",
      "\n",
      "\n",
      "\n",
      "02/13/2019 08:42:15  User_01,has joined the room\n",
      "\n",
      "02/19/2019 00:56:29  User_105,Says   Cupiditate voluptas sunt velit. Accusantium aliquid expedita excepturi quis laborum autem. Quas occaecati et atque est repellat dolores. Laudantium in molestiae consequatur voluptate ipsa. \n",
      "\n",
      "02/19/2019 00:55:35  User_68,has left the room\n",
      "\n"
     ]
    },
    {
     "data": {
      "text/plain": [
       "null"
      ]
     },
     "execution_count": 7,
     "metadata": {},
     "output_type": "execute_result"
    }
   ],
   "source": [
    "import java.io.InputStream\n",
    "new File(\"./Data/Bloomberg_Chat/example_chat.txt\").withInputStream { stream ->\n",
    "    stream.eachLine { line ->\n",
    "        println line\n",
    "    }}"
   ]
  },
  {
   "cell_type": "markdown",
   "metadata": {},
   "source": [
    "### Walking\n",
    "\n",
    "Walking is one of the most direct approaches.  In the Walking method, you slowly move from the left to the right of your text, matching patterns along the way.  Your target text will everything at the end of the string."
   ]
  },
  {
   "cell_type": "code",
   "execution_count": 10,
   "metadata": {},
   "outputs": [
    {
     "name": "stdout",
     "output_type": "stream",
     "text": [
      "02/13/2019 08:42:15\n"
     ]
    },
    {
     "data": {
      "text/plain": [
       "null"
      ]
     },
     "execution_count": 10,
     "metadata": {},
     "output_type": "execute_result"
    }
   ],
   "source": [
    "import java.io.InputStream\n",
    "new File(\"./Data/Bloomberg_Chat/example_chat.txt\").withInputStream { stream ->\n",
    "    stream.eachLine { line ->\n",
    "        //find beginning\n",
    "        trgt = line =~ ~/^Message\\sSent:\\s(.*)$/\n",
    "        if(trgt){println trgt[0][1]}\n",
    "    }}"
   ]
  },
  {
   "cell_type": "markdown",
   "metadata": {},
   "source": [
    "### Bracketing"
   ]
  },
  {
   "cell_type": "markdown",
   "metadata": {},
   "source": [
    "The Bracketing method is taken from the similar technique used in [field artillery](https://encyclopedia2.thefreedictionary.com/bracketing+method) to range your inteded target.  First, pattern the string that begins just before your target text.  Next, pattern the string that ends just after your target text.  Your target text will be in the middle."
   ]
  },
  {
   "cell_type": "code",
   "execution_count": 33,
   "metadata": {},
   "outputs": [
    {
     "name": "stdout",
     "output_type": "stream",
     "text": [
      "02/13/2019\n"
     ]
    },
    {
     "data": {
      "text/plain": [
       "null"
      ]
     },
     "execution_count": 33,
     "metadata": {},
     "output_type": "execute_result"
    }
   ],
   "source": [
    "import java.io.InputStream\n",
    "new File(\"./Data/Bloomberg_Chat/example_chat.txt\").withInputStream { stream ->\n",
    "    stream.eachLine { line ->\n",
    "        //find beginning\n",
    "        tmp1 = line =~ ~/^Message\\sSent:\\s(.*)$/\n",
    "        if(tmp1){\n",
    "            //find end\n",
    "            trgt = tmp1[0][1] =~ ~/.+?(?=\\s\\d{2}:\\d{2}:\\d{2})/\n",
    "            if(trgt){\n",
    "                println trgt[0]\n",
    "            }\n",
    "        }\n",
    "    }}"
   ]
  },
  {
   "cell_type": "markdown",
   "metadata": {},
   "source": [
    "### Divide and conquer\n",
    "\n",
    "Here, you have a few targets that you are interested in capturing.  Create nested capture groups within the original capture."
   ]
  },
  {
   "cell_type": "code",
   "execution_count": 20,
   "metadata": {},
   "outputs": [
    {
     "name": "stdout",
     "output_type": "stream",
     "text": [
      "--------Begin line---------\n",
      "02/13/2019 08:42:15\n",
      " User_01\n",
      ",has joined the room\n",
      "---------End line----------\n",
      "--------Begin line---------\n",
      "02/19/2019 00:56:29\n",
      " User_105\n",
      ",Says   Cupiditate voluptas sunt velit. Accusantium aliquid expedita excepturi quis laborum autem. Quas occaecati et atque est repellat dolores. Laudantium in molestiae consequatur voluptate ipsa. \n",
      "---------End line----------\n",
      "--------Begin line---------\n",
      "02/19/2019 00:55:35\n",
      " User_68\n",
      ",has left the room\n",
      "---------End line----------\n"
     ]
    },
    {
     "data": {
      "text/plain": [
       "null"
      ]
     },
     "execution_count": 20,
     "metadata": {},
     "output_type": "execute_result"
    }
   ],
   "source": [
    "import java.io.InputStream\n",
    "new File(\"./Data/Bloomberg_Chat/example_chat.txt\").withInputStream { stream ->\n",
    "    stream.eachLine { line ->\n",
    "        trgt = line =~ ~/^((\\d{2}\\S\\d{2}\\S\\d{4}\\s\\d{2}:\\d{2}:\\d{2})\\s([^,]+))(.*)$/\n",
    "        if(trgt){\n",
    "            println (\"--------Begin line---------\")\n",
    "            println trgt[0][2]                //dtv\n",
    "            println trgt[0][3]                //member\n",
    "            println trgt[0][4]                //content\n",
    "            println (\"---------End line----------\")\n",
    "        }\n",
    "    }}"
   ]
  },
  {
   "cell_type": "markdown",
   "metadata": {},
   "source": [
    "### Parsing\n",
    "\n",
    "In this approach, you want to parse all pieces of a data into their respective fields.  This is often used when getting semi-structured data, such as log files, into a structured format, such as a table.  This is an example from pyspark."
   ]
  },
  {
   "cell_type": "code",
   "execution_count": null,
   "metadata": {},
   "outputs": [],
   "source": [
    "%python #METHOD-1: RegEx\n",
    "from pyspark.sql import Row\n",
    "import re\n",
    "parts = [\n",
    "    r'(?P<host>\\S+)',                   # host \n",
    "    r'\\S+',                             # indent (unused)\n",
    "    r'(?P<user>\\S+)',                   # user \n",
    "    r'\\[(?P<time>.+)\\]',                # time \n",
    "    r'\"(?P<request>.*)\"',               # request \n",
    "    r'(?P<status>[0-9]+)',              # status \n",
    "    r'(?P<size>\\S+)',                   # size \n",
    "    r'\"(?P<referrer>.*)\"',              # referrer \n",
    "    r'\"(?P<agent>.*)\"',                 # user agent \n",
    "]\n",
    "pattern = re.compile(r'\\s+'.join(parts)+r'\\s*\\Z')\n",
    "\n",
    "prs = logs.map(lambda x: pattern.match(x).groupdict() )\n",
    "rows = prs.map(lambda x: Row(**x))\n",
    "dfLogs = rows.toDF()\n",
    "dfLogs.show()"
   ]
  },
  {
   "cell_type": "raw",
   "metadata": {},
   "source": [
    "+--------------------+-------------+--------------------+--------------------+-----+------+--------------------+----+\n",
    "|               agent|         host|            referrer|             request| size|status|                time|user|\n",
    "+--------------------+-------------+--------------------+--------------------+-----+------+--------------------+----+\n",
    "|Mozilla/5.0 (comp...| 66.249.69.97|                   -|GET /071300/24215...|  514|   404|24/Sep/2014:22:25...|   -|\n",
    "|Mozilla/5.0 (X11;...|71.19.157.174|                   -| GET /error HTTP/1.1|  505|   404|24/Sep/2014:22:26...|   -|\n",
    "|Mozilla/5.0 (X11;...|71.19.157.174|                   -|GET /favicon.ico ...| 1713|   200|24/Sep/2014:22:26...|   -|\n",
    "|Mozilla/5.0 (X11;...|71.19.157.174|                   -|      GET / HTTP/1.1|18785|   200|24/Sep/2014:22:26...|   -|\n",
    "|Mozilla/5.0 (X11;...|71.19.157.174|http://www.holden...|GET /jobmineimg.p...|  222|   200|24/Sep/2014:22:26...|   -|\n",
    "|Mozilla/5.0 (X11;...|71.19.157.174|                   -|GET /error78978 H...|  505|   404|24/Sep/2014:22:26...|   -|\n",
    "+--------------------+-------------+--------------------+--------------------+-----+------+--------------------+----+"
   ]
  },
  {
   "cell_type": "markdown",
   "metadata": {},
   "source": [
    "### Convenience structures"
   ]
  },
  {
   "cell_type": "markdown",
   "metadata": {},
   "source": [
    "Languages can have sytax conveniences to make working with regex much easier.  This can include making patterns part of case statements, such as is done in groovy and scala, and allowing for raw string input, such as in groovy and python.\n",
    "\n",
    "In addition, programmers can make their life easier by creating specific data structures that can hold the output of target matches."
   ]
  },
  {
   "cell_type": "markdown",
   "metadata": {},
   "source": [
    "## Language: Groovy"
   ]
  },
  {
   "cell_type": "markdown",
   "metadata": {},
   "source": [
    "The following functionality is commonly used with groovy:\n",
    "    \n",
    "* `~string` - pattern operator\n",
    "* `=~` - find pattern \n",
    "* `==~` - exact match operator\n",
    "* `switch-case` - convenience functionality"
   ]
  },
  {
   "cell_type": "markdown",
   "metadata": {},
   "source": [
    "### The pattern operator (~string)"
   ]
  },
  {
   "cell_type": "code",
   "execution_count": 9,
   "metadata": {},
   "outputs": [
    {
     "data": {
      "text/plain": [
       "true"
      ]
     },
     "execution_count": 9,
     "metadata": {},
     "output_type": "execute_result"
    }
   ],
   "source": [
    "import java.util.regex.Pattern\n",
    "\n",
    "def pattern = ~/([Gg])roovy/\n",
    "pattern.class == Pattern"
   ]
  },
  {
   "cell_type": "code",
   "execution_count": 11,
   "metadata": {},
   "outputs": [
    {
     "data": {
      "text/plain": [
       "true"
      ]
     },
     "execution_count": 11,
     "metadata": {},
     "output_type": "execute_result"
    }
   ],
   "source": [
    "//The slashy form of a Groovy string has a huge advantage over double (or single) quoted string - you don’t have to escape backslashes.\n",
    "( /Version \\d+\\.\\d+\\.\\d+/ == 'Version \\\\d+\\\\.\\\\d+\\\\.\\\\d+' )"
   ]
  },
  {
   "cell_type": "code",
   "execution_count": 32,
   "metadata": {},
   "outputs": [
    {
     "data": {
      "text/plain": [
       "dollar/slashy $ string"
      ]
     },
     "execution_count": 32,
     "metadata": {},
     "output_type": "execute_result"
    }
   ],
   "source": [
    "p = ~/foo/\n",
    "p = ~'foo'                                                        \n",
    "p = ~\"foo\"                                                        \n",
    "p = ~$/dollar/slashy $ string/$                                   \n",
    "//p = ~\"${pattern}\""
   ]
  },
  {
   "cell_type": "markdown",
   "metadata": {},
   "source": [
    "### The find operator (=~)"
   ]
  },
  {
   "cell_type": "code",
   "execution_count": 26,
   "metadata": {},
   "outputs": [
    {
     "name": "stdout",
     "output_type": "stream",
     "text": [
      "true\n",
      "true\n"
     ]
    },
    {
     "data": {
      "text/plain": [
       "true"
      ]
     },
     "execution_count": 26,
     "metadata": {},
     "output_type": "execute_result"
    }
   ],
   "source": [
    "import java.util.regex.Matcher\n",
    "\n",
    "def matcher = \"My code is groovier and better when I use Groovy there\" =~ /\\S+er\\b/ \n",
    "println matcher.find()\n",
    "println matcher.size() == 2 \n",
    "matcher[0..-1] == [\"groovier\", \"better\"] "
   ]
  },
  {
   "cell_type": "code",
   "execution_count": 24,
   "metadata": {},
   "outputs": [
    {
     "data": {
      "text/plain": [
       "At least one element matches the pattern"
      ]
     },
     "execution_count": 24,
     "metadata": {},
     "output_type": "execute_result"
    }
   ],
   "source": [
    "if (\"My code is groovier and better when I use Groovy there\" =~ /\\S+er\\b/) {\n",
    "    \"At least one element matches the pattern\"\n",
    "}"
   ]
  },
  {
   "cell_type": "code",
   "execution_count": 23,
   "metadata": {},
   "outputs": [
    {
     "data": {
      "text/plain": [
       "true"
      ]
     },
     "execution_count": 23,
     "metadata": {},
     "output_type": "execute_result"
    }
   ],
   "source": [
    "def (first,second) = \"My code is groovier and better when I use Groovy there\" =~ /\\S+er\\b/\n",
    "first == \"groovier\" & second == \"better\""
   ]
  },
  {
   "cell_type": "code",
   "execution_count": null,
   "metadata": {},
   "outputs": [],
   "source": [
    "// With grouping we get a multidimensional array\n",
    "def group = ('groovy and grails, ruby and rails' =~ /(\\w+) and (\\w+)/)\n",
    "println group.hasGroup()\n",
    "println 2 == group.size()\n",
    "println ['groovy and grails', 'groovy', 'grails'] == group[0]\n",
    "println 'rails' == group[1][2]"
   ]
  },
  {
   "cell_type": "markdown",
   "metadata": {},
   "source": [
    "### The exact match operator (==~)"
   ]
  },
  {
   "cell_type": "code",
   "execution_count": 22,
   "metadata": {},
   "outputs": [
    {
     "data": {
      "text/plain": [
       "false"
      ]
     },
     "execution_count": 22,
     "metadata": {},
     "output_type": "execute_result"
    }
   ],
   "source": [
    "\"My code is groovier and better when I use Groovy there\" ==~ /\\S+er\\b/    //no exact match => only two words"
   ]
  },
  {
   "cell_type": "code",
   "execution_count": 21,
   "metadata": {},
   "outputs": [
    {
     "data": {
      "text/plain": [
       "true"
      ]
     },
     "execution_count": 21,
     "metadata": {},
     "output_type": "execute_result"
    }
   ],
   "source": [
    "\"My code is groovier and better when I use Groovy there\" ==~ /^My code .* there$/    //exact match of beginning and end of string"
   ]
  },
  {
   "cell_type": "markdown",
   "metadata": {},
   "source": [
    "### The pattern with switch case"
   ]
  },
  {
   "cell_type": "code",
   "execution_count": 27,
   "metadata": {},
   "outputs": [
    {
     "data": {
      "text/plain": [
       "The word has 4 letters"
      ]
     },
     "execution_count": 27,
     "metadata": {},
     "output_type": "execute_result"
    }
   ],
   "source": [
    "def input = \"test\"\n",
    "\n",
    "switch (input) {\n",
    "    case ~/\\d{3}/:\n",
    "        \"The number has 3 digits\"\n",
    "        break\n",
    "\n",
    "    case ~/\\w{4}/:\n",
    "        \"The word has 4 letters\"\n",
    "        break\n",
    "\n",
    "    default:\n",
    "        \"Unrecognized...\"\n",
    "}"
   ]
  },
  {
   "cell_type": "markdown",
   "metadata": {},
   "source": [
    "## Language: Python"
   ]
  },
  {
   "cell_type": "markdown",
   "metadata": {},
   "source": [
    "You can read-in a file with the following:\n",
    "\n",
    "`file_object  = open(“filename”, “mode”)`\n",
    "\n",
    "The mode argument has a default value of `r` - read value, if omitted. The modes are: \n",
    "\n",
    "* `r` – Read mode which is used when the file is only being read \n",
    "* `w` – Write mode which is used to edit and write new information to the file (any existing files with the same name will be erased when this mode is activated) \n",
    "* `a` – Appending mode, which is used to add new data to the end of the file; that is new information is automatically amended to the end \n",
    "* `r+` – Special read and write mode, which is used to handle both actions when working with a file "
   ]
  },
  {
   "cell_type": "markdown",
   "metadata": {},
   "source": [
    "By using the `with` statement, you ensure proper handling of the file, including closing it when work is completed."
   ]
  },
  {
   "cell_type": "code",
   "execution_count": 8,
   "metadata": {},
   "outputs": [
    {
     "name": "stdout",
     "output_type": "stream",
     "text": [
      "Message#: 0\n",
      "\n",
      "Message Sent: 02/13/2019 08:42:15\n",
      "\n",
      "Subject: Instant Bloomberg  Persistent\n",
      "\n",
      "\n",
      "\n",
      "02/13/2019 08:42:15  User_01,has joined the room\n",
      "\n",
      "02/19/2019 00:56:29  User_105,Says   Cupiditate voluptas sunt velit. Accusantium aliquid expedita excepturi quis laborum autem. Quas occaecati et atque est repellat dolores. Laudantium in molestiae consequatur voluptate ipsa. \n",
      "\n",
      "02/19/2019 00:55:35  User_68,has left the room\n",
      "\n",
      "\n"
     ]
    }
   ],
   "source": [
    "%%python\n",
    "with open(\"./Data/Bloomberg_Chat/example_chat.txt\") as file:\n",
    "    data = file.read() \n",
    "    print(data) "
   ]
  },
  {
   "cell_type": "markdown",
   "metadata": {},
   "source": [
    "Use raw strings instead of regular Python strings. Raw strings begin with `r\"some text\"` and tell Python not to interpret backslashes and special metacharacters in the string.  This allows you to pass them to the regular expression engine, directly.\n",
    "\n",
    "An example is using `r\"\\n\\w\"` instead of `\"\\\\n\\\\w\"`.\n",
    "\n",
    "Below, we use the following methods from the `re` module:\n",
    "\n",
    "* `re.search()` - stop with first match\n",
    "* `re.findall() / re.finditer()` - search over entire string, returns a list (or iterator) of all captured data\n",
    "* `re.compile()` method to speed-up processing on larger data.  This is especially useful with a big data framework, such as Apache Spark\n",
    "* `re.sub()` - find and replace"
   ]
  },
  {
   "cell_type": "code",
   "execution_count": 16,
   "metadata": {},
   "outputs": [
    {
     "name": "stdout",
     "output_type": "stream",
     "text": [
      "Message#: 0\n"
     ]
    }
   ],
   "source": [
    "%%python\n",
    "import re\n",
    "\n",
    "regexDate = re.compile(r\"Message#:\\s(\\d+)\")\n",
    "\n",
    "with open(\"./Data/Bloomberg_Chat/example_chat.txt\") as file:\n",
    "    data = file.read() \n",
    "    grp = (re.search(regexDate, data)).group(0) \n",
    "    print(grp)"
   ]
  },
  {
   "cell_type": "markdown",
   "metadata": {},
   "source": [
    "## Language: JavaScript"
   ]
  },
  {
   "cell_type": "markdown",
   "metadata": {},
   "source": [
    "\n",
    "* `/\\w+\\d+/` - match a string of alpha-numeric characters\n",
    "* `RegExp(\"\\\\w+\\\\d+\")` - constructor notation\n",
    "* `RegExp.test()` - test for a match\n",
    "* `RegExp.exec()` - returns matching results\n",
    "* `inputStr.search()` - find a match\n",
    "* `inputStr.match()` - returns an index of matches\n",
    "* `inputStr.replace()` - substitute a match with a string\n",
    "\n",
    "The flags are either appended after the regular expression in the literal notation, or passed into the constructor in the normal notation.\n",
    "\n",
    "* `g` - allows you to run RegExp.exec() multiple times to find every match in the input string until the method returns null.\n",
    "* `i` - makes the pattern case insensitive so that it matches strings of different capitalizations\n",
    "* `m` - is necessary if your input string has newline characters (\\n), this flag allows the start and end metacharacter (^ and $ respectively) to match at the beginning and end of each line instead of at the beginning and end of the whole input string\n",
    "* `u` - interpret the regular expression as unicode codepoints\n"
   ]
  },
  {
   "cell_type": "code",
   "execution_count": 24,
   "metadata": {},
   "outputs": [
    {
     "data": {
      "application/javascript": [
       "var fs = require('fs');\n",
       "fs.readFile( __dirname + '/Data/Bloomberg_Chat/example_chat.txt', function (err, data) {\n",
       "  if (err) {\n",
       "    throw err; \n",
       "  }\n",
       "  console.log(data.toString());\n",
       "});"
      ]
     },
     "execution_count": 24,
     "metadata": {},
     "output_type": "execute_result"
    }
   ],
   "source": [
    "%%javascript\n",
    "var fs = require('fs');\n",
    "fs.readFile( __dirname + '/Data/Bloomberg_Chat/example_chat.txt', function (err, data) {\n",
    "  if (err) {\n",
    "    throw err; \n",
    "  }\n",
    "  console.log(data.toString());\n",
    "});"
   ]
  },
  {
   "cell_type": "code",
   "execution_count": 23,
   "metadata": {},
   "outputs": [
    {
     "data": {
      "application/javascript": [
       "\n",
       "console.log('hi')\n",
       "//process.stdout.write(\"hello: \");\n",
       "process.stdout.write(\"Downloading \");"
      ]
     },
     "execution_count": 23,
     "metadata": {},
     "output_type": "execute_result"
    }
   ],
   "source": [
    "%%javascript\n",
    "\n",
    "console.log('hi')\n",
    "//process.stdout.write(\"hello: \");\n",
    "process.stdout.write(\"Downloading \");"
   ]
  },
  {
   "cell_type": "markdown",
   "metadata": {},
   "source": [
    "## References\n",
    "\n",
    "* [groovy regex operators](https://e.printstacktrace.blog/groovy-regular-expressions-the-definitive-guide/)\n",
    "* [thorough cheatsheet](https://www.cheatography.com/davechild/cheat-sheets/regular-expressions/)\n",
    "* [well-designed exercises](https://regexone.com/)\n",
    "* [match until a pattern](https://stackoverflow.com/questions/7124778/how-to-match-anything-up-until-this-sequence-of-characters-in-a-regular-expres)"
   ]
  },
  {
   "cell_type": "code",
   "execution_count": null,
   "metadata": {},
   "outputs": [],
   "source": []
  }
 ],
 "metadata": {
  "kernelspec": {
   "display_name": "Groovy",
   "language": "groovy",
   "name": "groovy"
  },
  "language_info": {
   "codemirror_mode": "groovy",
   "file_extension": ".groovy",
   "mimetype": "",
   "name": "Groovy",
   "nbconverter_exporter": "",
   "version": "2.4.3"
  },
  "toc": {
   "base_numbering": 1,
   "nav_menu": {},
   "number_sections": false,
   "sideBar": false,
   "skip_h1_title": false,
   "title_cell": "Table of Contents",
   "title_sidebar": "Contents",
   "toc_cell": false,
   "toc_position": {},
   "toc_section_display": false,
   "toc_window_display": false
  }
 },
 "nbformat": 4,
 "nbformat_minor": 2
}
