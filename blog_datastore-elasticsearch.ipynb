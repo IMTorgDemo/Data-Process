{
 "cells": [
  {
   "cell_type": "markdown",
   "metadata": {},
   "source": [
    "# Simple, Scalable, and Responsive Data Retrieval with ElasticSearch\n",
    "\n",
    "Date: 2019-05-24  \n",
    "Author: Jason Beach  \n",
    "Categories: DataStore, Category  \n",
    "Tags: elasticsearch, tag2 \n",
    "\n",
    "<!--eofm-->"
   ]
  },
  {
   "cell_type": "markdown",
   "metadata": {},
   "source": [
    "Distributed systems are very popular tools in the 'big data' market space and ElasticSearch evolved to become one of the major players.  It serves the niche role of scaling to store large amounts of data, then allows querying it quickly.  It evolved greatly over the last ten years to provide a variety of functionality.  While it serves its primary purpose well, teams should resist the urge to use it in other roles, such as advanced analytics."
   ]
  },
  {
   "cell_type": "markdown",
   "metadata": {},
   "source": [
    "## Tool Characteristics"
   ]
  },
  {
   "cell_type": "markdown",
   "metadata": {},
   "source": [
    "### Strengths"
   ]
  },
  {
   "cell_type": "markdown",
   "metadata": {},
   "source": [
    "ElasticSearch is a Java, Lucene-based, tool that queries large, unstructured data very quickly.  It can be deployed using docker and offers just a simple http endpoint for interaction.\n",
    "\n",
    "In the realm of 'big data' it provides much the expected functionality.  Because is distributed it has great ability to scale horizontally.  The data is also replicated, automatically, in case of server node failure.\n",
    "\n",
    "ElasticSearch can execute complex queries very quickly.  This is because it indexes all data.  Part of its speed is that it caches many of the queries used as a filter, so it only executes them once.  This is performed with support for all commonly-used data types, such as Text (structured and unstructured, Numbers (long, integer, short, byte, double, float), Dates, as well as complex types such as: arrays, objects, nested types, geo-spatial, iPV4 and others.\n",
    "\n",
    "Additional functionality is provided through a variety of plugins. This supports scenarios for great security and analysis."
   ]
  },
  {
   "cell_type": "markdown",
   "metadata": {},
   "source": [
    "### Weaknesses"
   ]
  },
  {
   "cell_type": "markdown",
   "metadata": {},
   "source": [
    "Despite these strengths, Elasticsearch has drawbacks that are quite similar to other 'big data' tools.  Particularly, it is great with data search and recovery, but not for creating and modifying data.  MongoDb is still popular for unstructured transactional data.  \n",
    "\n",
    "ElasticSearch is a type of data warehousing paradigm, not a database replacement.  Specifically, the Elastic company, with its many related products, really grew in size when it was applied to logging and log search problems.  The last decade saw a growing demand for analysts to be able to search the large amounts of metadata created by machines.\n",
    "\n",
    "Elastic attempted to make in-roads as an analytics and data science platform.  This is a dangerous road for teams to go down.  While it can retrieve data, specifically in time-series scenarios, ElasticSearch is an unstructured-only tool.  \n",
    "\n",
    "Data science demands structure in the final stages of modeling.  The balance of working with structured and unstructured data is handled very well by Apache Spark's RDD's and DataFrames.  ElasticSearch has no such complimentary models.  The most sophisticated role it can handel is the analyst answering basic business questions. \n",
    "\n",
    "Another difficulty is the major breakages that occur between versions.  For a fast-moving team, keeping up-to-date with the latest ElasticSearch can be a big obstacle."
   ]
  },
  {
   "cell_type": "markdown",
   "metadata": {},
   "source": [
    "## Installation"
   ]
  },
  {
   "cell_type": "markdown",
   "metadata": {},
   "source": [
    "ElasticSearch can be quickly deployed on a single node using docker.  One requirement is the vm.max_map_count kernel setting needs to be set to at least 262144 for production use. "
   ]
  },
  {
   "cell_type": "code",
   "execution_count": null,
   "metadata": {},
   "outputs": [],
   "source": [
    "#get the container running\n",
    "docker run -d -p 9200:9200 -p 9300:9300 -e \"discovery.type=single-node\" --name cntr_elastic docker.elastic.co/elasticsearch/elasticsearch:7.0.1\n",
    "\n",
    "#enter container to check-out configs            \n",
    "docker exec -it --user root cntr_elastic bash"
   ]
  },
  {
   "cell_type": "markdown",
   "metadata": {},
   "source": [
    "The configuration is loaded from files under `/usr/share/elasticsearch/config/`.\n",
    "\n",
    "Some configurations that may need changing in `elasticsearch.yml`:\n",
    "\n",
    "* `cluster.name: \"docker-cluster\"`\n",
    "* `path.logs: /path/to/logs`\n",
    "* `discovery.zen.ping.unicast.hosts: [\"localhost\"]`"
   ]
  },
  {
   "cell_type": "markdown",
   "metadata": {},
   "source": [
    "To install directly on MacOS it is simple enough.  Afterward, make appropriate updates to `~/.bash_profile`."
   ]
  },
  {
   "cell_type": "code",
   "execution_count": null,
   "metadata": {},
   "outputs": [],
   "source": [
    "brew install elasticsearch"
   ]
  },
  {
   "cell_type": "markdown",
   "metadata": {},
   "source": [
    "Check that node es01 listens on localhost:9200 while es02 talks to es01 over a Docker network.\n",
    "\n",
    "__NOTE__: because we are running these curl command from within docker, and they must reach the host's ip address, then when must use `host.docker.internal` for the ip address (since the host is a MacOS).  Read more about your host's ip address by referencing this [stackoverflow post](https://stackoverflow.com/questions/22944631/how-to-get-the-ip-address-of-the-docker-host-from-inside-a-docker-container)."
   ]
  },
  {
   "cell_type": "code",
   "execution_count": 1,
   "metadata": {},
   "outputs": [
    {
     "name": "stdout",
     "output_type": "stream",
     "text": [
      "1559051160 13:46:00 docker-cluster green 1 1 0 0 0 0 0 0 - 100.0%\n"
     ]
    }
   ],
   "source": [
    "! curl http://host.docker.internal:9200/_cat/health"
   ]
  },
  {
   "cell_type": "markdown",
   "metadata": {},
   "source": [
    "## Operation"
   ]
  },
  {
   "cell_type": "markdown",
   "metadata": {},
   "source": [
    "### Typical command syntax"
   ]
  },
  {
   "cell_type": "markdown",
   "metadata": {},
   "source": [
    "All commands follow similar pattern:\n",
    "\n",
    "`<HTTP Verb> /<Index>/<Endpoint>/<ID>`"
   ]
  },
  {
   "cell_type": "markdown",
   "metadata": {},
   "source": [
    "### Explore cluster"
   ]
  },
  {
   "cell_type": "markdown",
   "metadata": {},
   "source": [
    "Get health of the cluster:\n",
    "\n",
    "* Green - everything is good (cluster is fully functional)\n",
    "* Yellow - all data is available but some replicas are not yet allocated (cluster is fully functional)\n",
    "* Red - some data is not available for whatever reason (cluster is partially functional) "
   ]
  },
  {
   "cell_type": "code",
   "execution_count": 2,
   "metadata": {},
   "outputs": [
    {
     "name": "stdout",
     "output_type": "stream",
     "text": [
      "epoch      timestamp cluster        status node.total node.data shards pri relo init unassign pending_tasks max_task_wait_time active_shards_percent\n",
      "1559051178 13:46:18  docker-cluster green           1         1      0   0    0    0        0             0                  -                100.0%\n"
     ]
    }
   ],
   "source": [
    "! curl -X GET \"host.docker.internal:9200/_cat/health?v\""
   ]
  },
  {
   "cell_type": "markdown",
   "metadata": {},
   "source": [
    "List the available nodes"
   ]
  },
  {
   "cell_type": "code",
   "execution_count": 3,
   "metadata": {},
   "outputs": [
    {
     "name": "stdout",
     "output_type": "stream",
     "text": [
      "ip         heap.percent ram.percent cpu load_1m load_5m load_15m node.role master name\n",
      "172.17.0.3           31          31  16    0.33    0.25     0.14 mdi       *      fa57091880ec\n"
     ]
    }
   ],
   "source": [
    "! curl -X GET \"host.docker.internal:9200/_cat/nodes?v\""
   ]
  },
  {
   "cell_type": "markdown",
   "metadata": {},
   "source": [
    "List indices being used"
   ]
  },
  {
   "cell_type": "code",
   "execution_count": 4,
   "metadata": {},
   "outputs": [
    {
     "name": "stdout",
     "output_type": "stream",
     "text": [
      "health status index uuid pri rep docs.count docs.deleted store.size pri.store.size\n"
     ]
    }
   ],
   "source": [
    "! curl -X GET \"host.docker.internal:9200/_cat/indices?v\""
   ]
  },
  {
   "cell_type": "markdown",
   "metadata": {},
   "source": [
    "Create a new index: `customer`, and use pretty-print in json.\n",
    "\n",
    "There is now one index named customer and it has one primary shard and one replica (the defaults) and it contains zero documents in it"
   ]
  },
  {
   "cell_type": "code",
   "execution_count": 5,
   "metadata": {},
   "outputs": [
    {
     "name": "stdout",
     "output_type": "stream",
     "text": [
      "{\n",
      "  \"acknowledged\" : true,\n",
      "  \"shards_acknowledged\" : true,\n",
      "  \"index\" : \"customer\"\n",
      "}\n"
     ]
    }
   ],
   "source": [
    "! curl -X PUT \"host.docker.internal:9200/customer?pretty\""
   ]
  },
  {
   "cell_type": "markdown",
   "metadata": {},
   "source": [
    "Add(Index) one `document`, with `id` of 1\n",
    "\n",
    "specific `id` provided"
   ]
  },
  {
   "cell_type": "code",
   "execution_count": 6,
   "metadata": {},
   "outputs": [
    {
     "name": "stdout",
     "output_type": "stream",
     "text": [
      "{\n",
      "  \"_index\" : \"customer\",\n",
      "  \"_type\" : \"_doc\",\n",
      "  \"_id\" : \"1\",\n",
      "  \"_version\" : 1,\n",
      "  \"result\" : \"created\",\n",
      "  \"_shards\" : {\n",
      "    \"total\" : 2,\n",
      "    \"successful\" : 1,\n",
      "    \"failed\" : 0\n",
      "  },\n",
      "  \"_seq_no\" : 0,\n",
      "  \"_primary_term\" : 1\n",
      "}\n"
     ]
    }
   ],
   "source": [
    "! curl -X PUT \"host.docker.internal:9200/customer/_doc/1?pretty\" -H 'Content-Type: application/json' -d'{\"name\": \"John Doe\"}'"
   ]
  },
  {
   "cell_type": "markdown",
   "metadata": {},
   "source": [
    "no `id` specified"
   ]
  },
  {
   "cell_type": "code",
   "execution_count": 7,
   "metadata": {},
   "outputs": [
    {
     "name": "stdout",
     "output_type": "stream",
     "text": [
      "{\n",
      "  \"_index\" : \"customer\",\n",
      "  \"_type\" : \"_doc\",\n",
      "  \"_id\" : \"K4Sy_moBhQilF9iEcwe-\",\n",
      "  \"_version\" : 1,\n",
      "  \"result\" : \"created\",\n",
      "  \"_shards\" : {\n",
      "    \"total\" : 2,\n",
      "    \"successful\" : 1,\n",
      "    \"failed\" : 0\n",
      "  },\n",
      "  \"_seq_no\" : 1,\n",
      "  \"_primary_term\" : 1\n",
      "}\n"
     ]
    }
   ],
   "source": [
    "! curl -X POST \"host.docker.internal:9200/customer/_doc?pretty\" -H 'Content-Type: application/json' -d'{\"name\": \"Jane Doe\"}'"
   ]
  },
  {
   "cell_type": "markdown",
   "metadata": {},
   "source": [
    "Query the index"
   ]
  },
  {
   "cell_type": "code",
   "execution_count": 8,
   "metadata": {},
   "outputs": [
    {
     "name": "stdout",
     "output_type": "stream",
     "text": [
      "{\n",
      "  \"_index\" : \"customer\",\n",
      "  \"_type\" : \"_doc\",\n",
      "  \"_id\" : \"1\",\n",
      "  \"_version\" : 1,\n",
      "  \"_seq_no\" : 0,\n",
      "  \"_primary_term\" : 1,\n",
      "  \"found\" : true,\n",
      "  \"_source\" : {\n",
      "    \"name\" : \"John Doe\"\n",
      "  }\n",
      "}\n"
     ]
    }
   ],
   "source": [
    "! curl -X GET \"host.docker.internal:9200/customer/_doc/1?pretty\""
   ]
  },
  {
   "cell_type": "markdown",
   "metadata": {},
   "source": [
    "Delete the index"
   ]
  },
  {
   "cell_type": "code",
   "execution_count": 9,
   "metadata": {},
   "outputs": [
    {
     "name": "stdout",
     "output_type": "stream",
     "text": [
      "{\n",
      "  \"acknowledged\" : true\n",
      "}\n"
     ]
    }
   ],
   "source": [
    "! curl -X DELETE \"host.docker.internal:9200/customer?pretty\""
   ]
  },
  {
   "cell_type": "markdown",
   "metadata": {},
   "source": [
    "### Modify data"
   ]
  },
  {
   "cell_type": "markdown",
   "metadata": {},
   "source": [
    "Add(Index) one `document`, with `id` of 1\n",
    "\n",
    "specific `id` provided"
   ]
  },
  {
   "cell_type": "code",
   "execution_count": 10,
   "metadata": {},
   "outputs": [
    {
     "name": "stdout",
     "output_type": "stream",
     "text": [
      "{\n",
      "  \"_index\" : \"customer\",\n",
      "  \"_type\" : \"_doc\",\n",
      "  \"_id\" : \"1\",\n",
      "  \"_version\" : 1,\n",
      "  \"result\" : \"created\",\n",
      "  \"_shards\" : {\n",
      "    \"total\" : 2,\n",
      "    \"successful\" : 1,\n",
      "    \"failed\" : 0\n",
      "  },\n",
      "  \"_seq_no\" : 0,\n",
      "  \"_primary_term\" : 1\n",
      "}\n"
     ]
    }
   ],
   "source": [
    "! curl -X PUT \"host.docker.internal:9200/customer/_doc/1?pretty\" -H 'Content-Type: application/json' -d'{\"name\": \"John Doe\"}'"
   ]
  },
  {
   "cell_type": "markdown",
   "metadata": {},
   "source": [
    "Update document\n",
    "\n",
    "Change the name and provide a new field"
   ]
  },
  {
   "cell_type": "code",
   "execution_count": 11,
   "metadata": {},
   "outputs": [
    {
     "name": "stdout",
     "output_type": "stream",
     "text": [
      "{\n",
      "  \"_index\" : \"customer\",\n",
      "  \"_type\" : \"_doc\",\n",
      "  \"_id\" : \"1\",\n",
      "  \"_version\" : 2,\n",
      "  \"result\" : \"updated\",\n",
      "  \"_shards\" : {\n",
      "    \"total\" : 2,\n",
      "    \"successful\" : 1,\n",
      "    \"failed\" : 0\n",
      "  },\n",
      "  \"_seq_no\" : 1,\n",
      "  \"_primary_term\" : 1\n",
      "}\n"
     ]
    }
   ],
   "source": [
    "! curl -X POST \"host.docker.internal:9200/customer/_update/1?pretty\" -H 'Content-Type: application/json' -d '{\"doc\": { \"name\": \"Jane Doe\", \"age\": 20  }}'"
   ]
  },
  {
   "cell_type": "markdown",
   "metadata": {},
   "source": [
    "Increment with script"
   ]
  },
  {
   "cell_type": "code",
   "execution_count": 12,
   "metadata": {},
   "outputs": [
    {
     "name": "stdout",
     "output_type": "stream",
     "text": [
      "{\n",
      "  \"_index\" : \"customer\",\n",
      "  \"_type\" : \"_doc\",\n",
      "  \"_id\" : \"1\",\n",
      "  \"_version\" : 3,\n",
      "  \"result\" : \"updated\",\n",
      "  \"_shards\" : {\n",
      "    \"total\" : 2,\n",
      "    \"successful\" : 1,\n",
      "    \"failed\" : 0\n",
      "  },\n",
      "  \"_seq_no\" : 2,\n",
      "  \"_primary_term\" : 1\n",
      "}\n"
     ]
    }
   ],
   "source": [
    "! curl -X POST \"host.docker.internal:9200/customer/_update/1?pretty\" -H 'Content-Type: application/json' -d'{\"script\" : \"ctx._source.age += 5\"}'"
   ]
  },
  {
   "cell_type": "markdown",
   "metadata": {},
   "source": [
    "Delete the document"
   ]
  },
  {
   "cell_type": "code",
   "execution_count": 13,
   "metadata": {},
   "outputs": [
    {
     "name": "stdout",
     "output_type": "stream",
     "text": [
      "{\n",
      "  \"_index\" : \"customer\",\n",
      "  \"_type\" : \"_doc\",\n",
      "  \"_id\" : \"2\",\n",
      "  \"_version\" : 1,\n",
      "  \"result\" : \"not_found\",\n",
      "  \"_shards\" : {\n",
      "    \"total\" : 2,\n",
      "    \"successful\" : 1,\n",
      "    \"failed\" : 0\n",
      "  },\n",
      "  \"_seq_no\" : 3,\n",
      "  \"_primary_term\" : 1\n",
      "}\n"
     ]
    }
   ],
   "source": [
    "! curl -X DELETE \"host.docker.internal:9200/customer/_doc/2?pretty\""
   ]
  },
  {
   "cell_type": "markdown",
   "metadata": {},
   "source": [
    "Run a Batch process\n",
    "\n",
    "* update the first doc, delete the second\n",
    "* if a single action fails, it will continue to process others\n",
    "* may get an error `[\\\\n]`, different for each operating system"
   ]
  },
  {
   "cell_type": "code",
   "execution_count": null,
   "metadata": {},
   "outputs": [],
   "source": [
    "! curl -X POST \"host.docker.internal:9200/customer/_bulk?pretty\" -H 'Content-Type: application/json' -d'\\\n",
    "{\"index\":{\"_id\":\"1\"}}\\\n",
    "{\"name\": \"John Doe\" }\\\n",
    "{\"index\":{\"_id\":\"2\"}}'"
   ]
  },
  {
   "cell_type": "markdown",
   "metadata": {},
   "source": [
    "### Explore data"
   ]
  },
  {
   "cell_type": "markdown",
   "metadata": {},
   "source": [
    "Bulk load json, load data file: accounts.json"
   ]
  },
  {
   "cell_type": "code",
   "execution_count": null,
   "metadata": {},
   "outputs": [],
   "source": [
    "! curl -H \"Content-Type: application/json\" -XPOST \"host.docker.internal:9200/bank/_bulk?pretty&refresh\" --data-binary \"@./Data/ElasticSearch/accounts.json\";"
   ]
  },
  {
   "cell_type": "markdown",
   "metadata": {},
   "source": [
    "Query: uri"
   ]
  },
  {
   "cell_type": "code",
   "execution_count": null,
   "metadata": {},
   "outputs": [],
   "source": [
    "! curl -X GET \"host.docker.internal:9200/bank/_search?q=*&sort=account_number:asc&pretty\""
   ]
  },
  {
   "cell_type": "markdown",
   "metadata": {},
   "source": [
    "Query: body\n",
    "\n",
    "  \t+ more typical and expressive search\n",
    "  \t+ _source is used to select fields\n",
    "  \t+ from is 0-based, defaults to 0 \n",
    "  \t+ size defaults to 10"
   ]
  },
  {
   "cell_type": "code",
   "execution_count": 18,
   "metadata": {},
   "outputs": [
    {
     "name": "stdout",
     "output_type": "stream",
     "text": [
      "{\"took\":11,\"timed_out\":false,\"_shards\":{\"total\":1,\"successful\":1,\"skipped\":0,\"failed\":0},\"hits\":{\"total\":{\"value\":1000,\"relation\":\"eq\"},\"max_score\":null,\"hits\":[{\"_index\":\"bank\",\"_type\":\"_doc\",\"_id\":\"10\",\"_score\":null,\"_source\":{\"account_number\":10,\"balance\":46170},\"sort\":[10]}]}}"
     ]
    }
   ],
   "source": [
    "! curl -X GET \"host.docker.internal:9200/bank/_search\" -H 'Content-Type: application/json' -d'\\\n",
    "{\"query\": { \"match_all\": {} },\\\n",
    "  \"_source\": [\"account_number\", \"balance\"],\\\n",
    "  \"sort\": [{ \"account_number\": \"asc\" }],\\\n",
    "  \"from\": 10,\\\n",
    "  \"size\": 1\\\n",
    "}'"
   ]
  },
  {
   "cell_type": "markdown",
   "metadata": {},
   "source": [
    "Query: where clause\n",
    "\n",
    "* `bool must` clause specifies AND, all the queries that must be true\n",
    "* `bool should` clause for OR\n",
    "* `bool \"must_not\"` clause for NONE"
   ]
  },
  {
   "cell_type": "code",
   "execution_count": 19,
   "metadata": {},
   "outputs": [
    {
     "name": "stdout",
     "output_type": "stream",
     "text": [
      "{\"took\":25,\"timed_out\":false,\"_shards\":{\"total\":1,\"successful\":1,\"skipped\":0,\"failed\":0},\"hits\":{\"total\":{\"value\":1,\"relation\":\"eq\"},\"max_score\":9.507477,\"hits\":[{\"_index\":\"bank\",\"_type\":\"_doc\",\"_id\":\"136\",\"_score\":9.507477,\"_source\":{\"account_number\":136,\"balance\":45801,\"firstname\":\"Winnie\",\"lastname\":\"Holland\",\"age\":38,\"gender\":\"M\",\"address\":\"198 Mill Lane\",\"employer\":\"Neteria\",\"email\":\"winnieholland@neteria.com\",\"city\":\"Urie\",\"state\":\"IL\"}}]}}"
     ]
    }
   ],
   "source": [
    "! curl -X GET \"host.docker.internal:9200/bank/_search\" -H 'Content-Type: application/json' -d'\\\n",
    "{\"query\": {\"bool\": {\"must\": \\\n",
    "\t[{ \"match\": { \"address\": \"mill\" } },\\\n",
    "\t { \"match\": { \"address\": \"lane\" } }\\\n",
    "    ]\\\n",
    "}}}'"
   ]
  },
  {
   "cell_type": "markdown",
   "metadata": {},
   "source": [
    "Query: filter clause\n",
    "\n",
    "* get a range of values\n",
    "* bool query contains a match_all query (the query part) and a range query (the filter part)"
   ]
  },
  {
   "cell_type": "code",
   "execution_count": null,
   "metadata": {},
   "outputs": [],
   "source": [
    "! curl -X GET \"host.docker.internal:9200/bank/_search\" -H 'Content-Type: application/json' -d'\\\n",
    "{\"query\": {\"bool\": {\"must\": { \"match_all\": {} },\\\n",
    "      \"filter\": {\"range\": {\\\n",
    "          \"balance\": {\"gte\": 20000, \"lte\": 30000}\\\n",
    "          }}\\\n",
    "}}}'"
   ]
  },
  {
   "cell_type": "markdown",
   "metadata": {},
   "source": [
    "For more specific queries using [Aggregations](https://www.elastic.co/guide/en/elasticsearch/reference/current/getting-started-aggregations.html) check the docs."
   ]
  },
  {
   "cell_type": "markdown",
   "metadata": {},
   "source": [
    "## Conclusion"
   ]
  },
  {
   "cell_type": "markdown",
   "metadata": {},
   "source": [
    "ElasticSearch is a powerful tool for a very specific use case of fast data querying.  However, do not attempt over-extend its functional uses. "
   ]
  },
  {
   "cell_type": "markdown",
   "metadata": {},
   "source": [
    "## References\n",
    "\n",
    "* [docker configurations](https://www.elastic.co/guide/en/elasticsearch/reference/current/docker.html)\n",
    "* [gettings started guide](https://www.elastic.co/guide/en/elasticsearch/reference/current/index.html)"
   ]
  }
 ],
 "metadata": {
  "kernelspec": {
   "display_name": "Python 3",
   "language": "python",
   "name": "python3"
  },
  "language_info": {
   "codemirror_mode": {
    "name": "ipython",
    "version": 3
   },
   "file_extension": ".py",
   "mimetype": "text/x-python",
   "name": "python",
   "nbconvert_exporter": "python",
   "pygments_lexer": "ipython3",
   "version": "3.7.3"
  }
 },
 "nbformat": 4,
 "nbformat_minor": 2
}
