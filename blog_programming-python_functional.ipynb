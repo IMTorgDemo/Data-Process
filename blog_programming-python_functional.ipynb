{
 "cells": [
  {
   "cell_type": "markdown",
   "metadata": {},
   "source": [
    "# Python Functional Programming\n",
    "Date: 2020-03-13  \n",
    "Author: Jason Beach  \n",
    "Categories: Modeling, BestPractice  \n",
    "Tags: python, development, functional  \n",
    "<!--eofm-->"
   ]
  },
  {
   "cell_type": "markdown",
   "metadata": {},
   "source": [
    "## Introduction\n",
    "\n",
    "Most programming languages are procedural or are written in an imperative style: programs are lists of instructions that tell the computer what to do with the program’s input.  Even 'purely' OOP languages, such as Java, are typically written in an imperative style with little thought give in actual OOP modeling.\n",
    "\n",
    "Functional code is characterised by one thing: the absence of side effects. It doesn’t rely on data outside the current function, and it doesn’t change data that exists outside the current function. Every other “functional” thing can be derived from this property.  Ideally, functions only take inputs and produce outputs, and don’t have any internal state that affects the output produced for a given input. \n",
    "\n",
    "Programming in this respect requires one to think in terms of data state.  Because of this and other attributes, functional programming is good at modeling processes, such as data ETL."
   ]
  },
  {
   "cell_type": "markdown",
   "metadata": {},
   "source": [
    "## Principles\n",
    "\n",
    "Just three principles can provide guidance for programming in a functional manner.\n",
    "\n",
    "* Pure and Higher-Order functions do not change external data, and they can accept other functions as parameters and can return functions as output.\n",
    "* Immutability, all values are immutable by default. Any “mutating” operations copy the value, change it and pass back the changed copy. This eliminates bugs that arise from a programmer’s incomplete model of the possible states their program may enter.\n",
    "* First class functions allow functions to be treated like any other value. This means they can be created, passed to functions, returned from functions and stored inside data structures.\n",
    "\n",
    "It is also helpful to keep in-mind a few unique aspects of functional languages.  Unfortunately, these are missing from Python, but are available in languages where functional characteristics are important, such as Scala:\n",
    "\n",
    "* tail call optimisation is used for recursion\n",
    "* currying is used for decomposing a function (that takes multiple arguments) into a function that takes the first argument, and returns a function that takes the next argument\n",
    "* parallelization ensures running the same code concurrently without synchronization. These concurrent processes are often run on multiple processors\n",
    "* lazy evaluation is a compiler technique that avoids running code until the result is needed\n",
    "* a process is deterministic only if repetitions yield the same result every time"
   ]
  },
  {
   "cell_type": "markdown",
   "metadata": {},
   "source": [
    "## Functional Methods\n",
    "\n",
    "These basic methods for not iterating over data use Higher Order Functions.  Developers with Hadoop or Spark experience should be familiar with these techniques.\n",
    "\n",
    "* list comprehensions\n",
    "* map\n",
    "* filter\n",
    "* reduce\n",
    "\n",
    "Try not thinking about the operations on the data. Think of the states the data will go through.  Change of state is a process."
   ]
  },
  {
   "cell_type": "code",
   "execution_count": 31,
   "metadata": {},
   "outputs": [],
   "source": [
    "from functools import reduce\n",
    "from operator import add"
   ]
  },
  {
   "cell_type": "code",
   "execution_count": 32,
   "metadata": {},
   "outputs": [],
   "source": [
    "people = [{'name': 'Mary', 'height': 160},\n",
    "          {'name': 'Isla', 'height': 80},\n",
    "          {'name': 'Sam'}]"
   ]
  },
  {
   "cell_type": "code",
   "execution_count": 33,
   "metadata": {},
   "outputs": [
    {
     "data": {
      "text/plain": [
       "<map at 0x7ffafa47a1d0>"
      ]
     },
     "execution_count": 33,
     "metadata": {},
     "output_type": "execute_result"
    }
   ],
   "source": [
    "heights = map(lambda x: x['height'],\n",
    "              filter(lambda x: 'height' in x, people))\n",
    "heights"
   ]
  },
  {
   "cell_type": "code",
   "execution_count": 34,
   "metadata": {},
   "outputs": [],
   "source": [
    "lst = list(heights)"
   ]
  },
  {
   "cell_type": "code",
   "execution_count": 37,
   "metadata": {},
   "outputs": [
    {
     "data": {
      "text/plain": [
       "120.0"
      ]
     },
     "execution_count": 37,
     "metadata": {},
     "output_type": "execute_result"
    }
   ],
   "source": [
    "if len(lst) > 0:\n",
    "    average_height = reduce(add, lst) / len(lst)\n",
    "    \n",
    "average_height "
   ]
  },
  {
   "cell_type": "markdown",
   "metadata": {},
   "source": [
    "Here, map is a generator.  So, we must run it as a list in order to use the `len()` method."
   ]
  },
  {
   "cell_type": "markdown",
   "metadata": {},
   "source": [
    "## Declarative Approach\n",
    "\n",
    "A functional version of code is declarative. It describes what to do, rather than how to do it.  Convert imperative to declarative by the following steps:\n",
    "\n",
    "* bundle pieces of the code into functions -> \n",
    "  - accomplished: the code describes itself (no need for comments).  Splitting code into functions is a great, low brain power way to make code more readable.\n",
    "  - lacking: functions used as sub-routines, they affect the code around them by changing external variables, rather than by returning values. \n",
    "* remove state ->\n",
    "  - accomplished: \n",
    "    i) no shared state, everything performed on function parameters, then passed out\n",
    "    ii) each function has parameters, those parameters are the system component state\n",
    "    iii) no variables are instantiated inside functions, all data changes are done with return values\n",
    "* structure\n",
    "  - main functions call auxiliary functions\n",
    "  - pipeline of one function to another"
   ]
  },
  {
   "cell_type": "markdown",
   "metadata": {},
   "source": [
    "## Sequences into Pipelines\n",
    "\n",
    "Gets to the heart of what is needed in ETL.\n",
    "\n",
    "* `deepcopy()` - if the data must be worked inside the function"
   ]
  },
  {
   "cell_type": "markdown",
   "metadata": {},
   "source": [
    "## Functional Elements Python Lacks\n",
    "\n",
    "Functional things I miss in Python:\n",
    "\n",
    "* Pattern matching\n",
    "* Tail recursion\n",
    "* Large library of list functions\n",
    "* Functional dictionary class\n",
    "* Automatic currying\n",
    "* Concise way to compose functions\n",
    "* Lazy lists\n",
    "* Simple, powerful expression syntax (Python's simple block syntax prevents Guido from adding it)\n",
    "\n",
    "Reasons why these are important:\n",
    "\n",
    "* No pattern matching and no tail recursion mean your basic algorithms have to be written imperatively. Recursion is ugly and slow in Python.\n",
    "* A small list library and no functional dictionaries mean that you have to write a lot of stuff yourself.\n",
    "* No syntax for currying or composition means that point-free style is about as full of punctuation as explicitly passing arguments.\n",
    "* Iterators instead of lazy lists means that you have to know whether you want efficiency or persistence, and to scatter calls to list around if you want persistence. (Iterators are use-once)\n",
    "* Python's simple imperative syntax, along with its simple LL1 parser, mean that a better syntax for if-expressions and lambda-expressions is basically impossible. Guido likes it this way, and I think he's right.\n"
   ]
  },
  {
   "cell_type": "markdown",
   "metadata": {},
   "source": [
    "## References\n",
    "\n",
    "* [non-functional vs functional examples ](https://maryrosecook.com/blog/post/a-practical-introduction-to-functional-programming)\n",
    "* [docs: python3's functools and itertools ](https://docs.python.org/3/howto/functional.html)\n",
    "* [video tutorial series on python functional programming ](https://realpython.com/courses/functional-programming-python/)"
   ]
  }
 ],
 "metadata": {
  "kernelspec": {
   "display_name": "Python 3",
   "language": "python",
   "name": "python3"
  },
  "language_info": {
   "codemirror_mode": {
    "name": "ipython",
    "version": 3
   },
   "file_extension": ".py",
   "mimetype": "text/x-python",
   "name": "python",
   "nbconvert_exporter": "python",
   "pygments_lexer": "ipython3",
   "version": "3.7.3"
  }
 },
 "nbformat": 4,
 "nbformat_minor": 4
}
