{
 "cells": [
  {
   "cell_type": "markdown",
   "metadata": {},
   "source": [
    "# Object Oriented Programming with Python\n",
    "Date: 2020-03-10  \n",
    "Author: Jason Beach  \n",
    "Categories: Modeling, BestPractice  \n",
    "Tags: python, development, oop  \n",
    "<!--eofm-->"
   ]
  },
  {
   "cell_type": "markdown",
   "metadata": {},
   "source": [
    "Object Oriented Programming (OOP) programming became popular with Java.  Microsoft quickly followed-up with the C# language.  Now, OOP concepts are available in many languages.  Python inherits alot of these OOP attributes, but performs it in its usual pythonic minimalism.  The concepts are the same, but much of the cruft, such as accessor modifiers, are limited, leaving an succinct and enjoyable object modeling experience. "
   ]
  },
  {
   "cell_type": "markdown",
   "metadata": {},
   "source": [
    "## Introduction"
   ]
  },
  {
   "cell_type": "markdown",
   "metadata": {},
   "source": [
    "OOP deals with classes (blueprints) and objects (instances of blueprint).  Relationships between these two include:\n",
    "* encapsulation - refers to object state and hiding it from the outside, implemented with access modifiers such as public, protected, private\n",
    "* inheritance - how a child class can inherit a parent class to utilise its properties and functions, python has two types\n",
    "  - multiple inheritance\n",
    "  - multilevel inheritance\n",
    "* polymorphism - using the same functions on different classes\n",
    "* abstractions - describe in simpler terms, such as inheritance hierarchy, where more abstract concepts are at the top and more concrete ideas, at the bottom, build upon their abstractions. \n"
   ]
  },
  {
   "cell_type": "markdown",
   "metadata": {},
   "source": [
    "## Object Creation and Class (Static) Variables\n",
    "\n",
    "Both `__new__` (Python defines this function for every class by default) and `__init__` together forms a constructor."
   ]
  },
  {
   "cell_type": "code",
   "execution_count": 1,
   "metadata": {},
   "outputs": [],
   "source": [
    "class Example:\n",
    "    def __init__(self):\n",
    "        self.var = 'studytonight'\n",
    "\n",
    "#creating object of the class Example\n",
    "mutantObj = Example()"
   ]
  },
  {
   "cell_type": "markdown",
   "metadata": {},
   "source": [
    "function `__del__` is the counter-part of function `__new__`\n",
    "\n",
    "If we had wanted to create a class-level variable, then we would place it between the class definition and class methods, and not using `.self`.  In other languages, the `static` keyword would be used."
   ]
  },
  {
   "cell_type": "code",
   "execution_count": 4,
   "metadata": {},
   "outputs": [],
   "source": [
    "class Example:\n",
    "    var = None\n",
    "    def __init__(self):\n",
    "        Example.var = 'studytonight'"
   ]
  },
  {
   "cell_type": "markdown",
   "metadata": {},
   "source": [
    "Static methods can be implemented using a Decorator, and not using `self` as an argument."
   ]
  },
  {
   "cell_type": "code",
   "execution_count": 5,
   "metadata": {},
   "outputs": [
    {
     "name": "stdout",
     "output_type": "stream",
     "text": [
      "Welcome to Shape class\n",
      "This class is used for representing different shapes.\n"
     ]
    }
   ],
   "source": [
    "class Shape:\n",
    "    \n",
    "    @staticmethod\n",
    "    def info(msg):\n",
    "        # show custom message\n",
    "        print(msg)\n",
    "        print(\"This class is used for representing different shapes.\")\n",
    "\n",
    "Shape.info(\"Welcome to Shape class\")"
   ]
  },
  {
   "cell_type": "markdown",
   "metadata": {},
   "source": [
    "## Encapsulation\n",
    "\n",
    "Python makes the use of underscores to specify the access modifier for a specific data member and member function in a class."
   ]
  },
  {
   "cell_type": "code",
   "execution_count": 6,
   "metadata": {},
   "outputs": [],
   "source": [
    "# defining a class Employee with public variables\n",
    "class Employee:\n",
    "    # constructor\n",
    "    def __init__(self, name, sal):\n",
    "        self.name = name\n",
    "        self.sal = sal"
   ]
  },
  {
   "cell_type": "code",
   "execution_count": 7,
   "metadata": {},
   "outputs": [],
   "source": [
    "# defining a class Employee\n",
    "class Employee:\n",
    "    # constructor\n",
    "    def __init__(self, name, sal):\n",
    "        self._name = name   # protected attribute \n",
    "        self._sal = sal     # protected attribute"
   ]
  },
  {
   "cell_type": "code",
   "execution_count": 8,
   "metadata": {},
   "outputs": [],
   "source": [
    "# defining class Employee\n",
    "class Employee:\n",
    "    def __init__(self, name, sal):\n",
    "        self.__name = name    # private attribute \n",
    "        self.__sal = sal      # private attribute"
   ]
  },
  {
   "cell_type": "markdown",
   "metadata": {},
   "source": [
    "If we want to access the private member variable, we will get an error."
   ]
  },
  {
   "cell_type": "code",
   "execution_count": 9,
   "metadata": {},
   "outputs": [
    {
     "ename": "AttributeError",
     "evalue": "'Employee' object has no attribute '__sal'",
     "output_type": "error",
     "traceback": [
      "\u001b[0;31m---------------------------------------------------------------------------\u001b[0m",
      "\u001b[0;31mAttributeError\u001b[0m                            Traceback (most recent call last)",
      "\u001b[0;32m<ipython-input-9-d9e08f1374dc>\u001b[0m in \u001b[0;36m<module>\u001b[0;34m\u001b[0m\n\u001b[1;32m      1\u001b[0m \u001b[0memp\u001b[0m \u001b[0;34m=\u001b[0m \u001b[0mEmployee\u001b[0m\u001b[0;34m(\u001b[0m\u001b[0;34m\"Bill\"\u001b[0m\u001b[0;34m,\u001b[0m \u001b[0;36m10000\u001b[0m\u001b[0;34m)\u001b[0m\u001b[0;34m\u001b[0m\u001b[0;34m\u001b[0m\u001b[0m\n\u001b[0;32m----> 2\u001b[0;31m \u001b[0memp\u001b[0m\u001b[0;34m.\u001b[0m\u001b[0m__sal\u001b[0m\u001b[0;34m\u001b[0m\u001b[0;34m\u001b[0m\u001b[0m\n\u001b[0m",
      "\u001b[0;31mAttributeError\u001b[0m: 'Employee' object has no attribute '__sal'"
     ]
    }
   ],
   "source": [
    "emp = Employee(\"Bill\", 10000)\n",
    "emp.__sal"
   ]
  },
  {
   "cell_type": "markdown",
   "metadata": {},
   "source": [
    "## Inheritance\n",
    "\n",
    "Inheriting the property of multiple classes into one.\n",
    "\n",
    "### Multiple Inheritance\n"
   ]
  },
  {
   "cell_type": "code",
   "execution_count": 14,
   "metadata": {},
   "outputs": [],
   "source": [
    "class A:\n",
    "    a = None\n",
    "    # functions of class A\n",
    "\n",
    "class B:\n",
    "    b = None\n",
    "    # functions of class B\n",
    "\n",
    "class C(A, B):\n",
    "    c = None\n",
    "    # class C inheriting property of both class A and B\n",
    "    # add more properties to class C"
   ]
  },
  {
   "cell_type": "code",
   "execution_count": 16,
   "metadata": {},
   "outputs": [
    {
     "data": {
      "text/plain": [
       "True"
      ]
     },
     "execution_count": 16,
     "metadata": {},
     "output_type": "execute_result"
    }
   ],
   "source": [
    "cls = C()\n",
    "cls.a == cls.b == cls.c"
   ]
  },
  {
   "cell_type": "markdown",
   "metadata": {},
   "source": [
    "### Multilevel Inheritance\n",
    "\n",
    "We inherit the classes at multiple separate levels. We have three classes A, B and C, where A is the super class, B is its sub(child) class and C is the sub class of B."
   ]
  },
  {
   "cell_type": "code",
   "execution_count": 19,
   "metadata": {},
   "outputs": [],
   "source": [
    "class A:\n",
    "    a = None\n",
    "    # properties of class A\n",
    "\n",
    "class B(A):\n",
    "    b = None\n",
    "    # class B inheriting property of class A\n",
    "    # more properties of class B\n",
    "\n",
    "class C(B):\n",
    "    c = None\n",
    "    # class C inheriting property of class B\n",
    "    # thus, class C also inherits properties of class A\n",
    "    # more properties of class C"
   ]
  },
  {
   "cell_type": "code",
   "execution_count": 21,
   "metadata": {},
   "outputs": [
    {
     "name": "stdout",
     "output_type": "stream",
     "text": [
      "True\n",
      "True\n"
     ]
    }
   ],
   "source": [
    "cls = C()\n",
    "print( issubclass(C,B) )\n",
    "print( issubclass(C,A) )"
   ]
  },
  {
   "cell_type": "markdown",
   "metadata": {},
   "source": [
    "Use `issubclass(Child, Parent)` when verifying classes."
   ]
  },
  {
   "cell_type": "markdown",
   "metadata": {},
   "source": [
    "### Method Overriding\n",
    "\n",
    "Overriding is possible if:\n",
    "* inheritance exists between a parent and child classes\n",
    "* function that is redefined in the child class should have the same signature, i.e. same number of parameters."
   ]
  },
  {
   "cell_type": "code",
   "execution_count": 22,
   "metadata": {},
   "outputs": [],
   "source": [
    "class Animal:\n",
    "    # properties\n",
    "\tmulticellular = True\n",
    "\t# Eukaryotic means Cells with Nucleus\n",
    "\teukaryotic = True\n",
    "\t\n",
    "\t# function breathe\n",
    "\tdef breathe(self):\n",
    "\t    print(\"I breathe oxygen.\")\n",
    "    \n",
    "    # function feed\n",
    "\tdef feed(self):\n",
    "\t    print(\"I eat food.\")"
   ]
  },
  {
   "cell_type": "markdown",
   "metadata": {},
   "source": [
    "Let's create a child class Herbivorous which will extend the class Animal:"
   ]
  },
  {
   "cell_type": "code",
   "execution_count": 23,
   "metadata": {},
   "outputs": [],
   "source": [
    "class Herbivorous(Animal):\n",
    "    \n",
    "    # function feed\n",
    "\tdef feed(self):\n",
    "\t    print(\"I eat only plants. I am vegetarian.\")"
   ]
  },
  {
   "cell_type": "markdown",
   "metadata": {},
   "source": [
    "In the child class Herbivorous we have overridden the method feed().  So now when we create an object of the class Herbivorous and call the method feed() the overridden version will be executed."
   ]
  },
  {
   "cell_type": "code",
   "execution_count": 24,
   "metadata": {},
   "outputs": [
    {
     "name": "stdout",
     "output_type": "stream",
     "text": [
      "I eat only plants. I am vegetarian.\n"
     ]
    }
   ],
   "source": [
    "herbi = Herbivorous()\n",
    "herbi.feed()"
   ]
  },
  {
   "cell_type": "markdown",
   "metadata": {},
   "source": [
    "## Polymorphism and Method Overloading\n",
    "\n",
    "Method Overloading is a type of polymorphism in which we can define a number of methods with the same name but with parameters can be of different types.  Similar to Overriding, it requires the same signature."
   ]
  },
  {
   "cell_type": "code",
   "execution_count": 25,
   "metadata": {},
   "outputs": [],
   "source": [
    "class Square:\n",
    "    side = 5     \n",
    "    def calculate_area(self):\n",
    "        return self.side * self.side\n",
    "\n",
    "class Triangle:\n",
    "    base = 5\n",
    "    height = 4\n",
    "    def calculate_area(self):\n",
    "        return 0.5 * self.base * self.height"
   ]
  },
  {
   "cell_type": "code",
   "execution_count": 28,
   "metadata": {},
   "outputs": [
    {
     "name": "stdout",
     "output_type": "stream",
     "text": [
      "25\n",
      "10.0\n"
     ]
    }
   ],
   "source": [
    "def find_area_of_shape(obj):\n",
    "    print( obj.calculate_area() )\n",
    "\n",
    "sq = Square()\n",
    "tri = Triangle()\n",
    "\n",
    "# calling the method with different objects\n",
    "find_area_of_shape(sq)\n",
    "find_area_of_shape(tri)"
   ]
  },
  {
   "cell_type": "markdown",
   "metadata": {},
   "source": [
    "## Abstractness\n",
    "\n",
    "### Abstract Classes\n",
    "\n",
    "Abstract classes are classes that contain one or more abstract methods. An abstract method is a method that is declared, but contains no implementation. Abstract classes cannot be instantiated, and require subclasses to provide implementations for the abstract methods.\n",
    "\n",
    "The following Python code uses the abc module and defines an abstract base class:"
   ]
  },
  {
   "cell_type": "code",
   "execution_count": 29,
   "metadata": {},
   "outputs": [],
   "source": [
    "from abc import ABC, abstractmethod\n",
    " \n",
    "class AbstractClassExample(ABC):\n",
    " \n",
    "    def __init__(self, value):\n",
    "        self.value = value\n",
    "        super().__init__()\n",
    "    \n",
    "    @abstractmethod\n",
    "    def do_something(self):\n",
    "        pass"
   ]
  },
  {
   "cell_type": "markdown",
   "metadata": {},
   "source": [
    "Must override the method; otherwise, it will error-out.  A class that is derived from an abstract class cannot be instantiated unless all of its abstract methods are overridden."
   ]
  },
  {
   "cell_type": "code",
   "execution_count": 30,
   "metadata": {},
   "outputs": [
    {
     "name": "stdout",
     "output_type": "stream",
     "text": [
      "52\n"
     ]
    }
   ],
   "source": [
    "class DoAdd42(AbstractClassExample):\n",
    "\n",
    "    def do_something(self):\n",
    "        return self.value + 42\n",
    "    \n",
    "x = DoAdd42(10)\n",
    "print(x.do_something())"
   ]
  },
  {
   "cell_type": "markdown",
   "metadata": {},
   "source": [
    "### MetaClasses\n",
    "\n",
    "Create classes like classes create objects.  Important when classes should be configured based upon runtime specifications.\n",
    "\n",
    "* [ref: metaclasses](https://www.python-course.eu/python3_metaclasses.php)\n",
    "* [ref: shallow and deep copies](https://www.python-course.eu/python3_deep_copy.php)"
   ]
  },
  {
   "cell_type": "markdown",
   "metadata": {},
   "source": [
    "## References\n",
    "\n",
    "* [examples when garbage collection fails ](https://www.studytonight.com/python/destructors-in-python)\n",
    "* [ref: python course](https://www.python-course.eu)"
   ]
  }
 ],
 "metadata": {
  "kernelspec": {
   "display_name": "Python 3",
   "language": "python",
   "name": "python3"
  },
  "language_info": {
   "codemirror_mode": {
    "name": "ipython",
    "version": 3
   },
   "file_extension": ".py",
   "mimetype": "text/x-python",
   "name": "python",
   "nbconvert_exporter": "python",
   "pygments_lexer": "ipython3",
   "version": "3.7.3"
  }
 },
 "nbformat": 4,
 "nbformat_minor": 4
}
