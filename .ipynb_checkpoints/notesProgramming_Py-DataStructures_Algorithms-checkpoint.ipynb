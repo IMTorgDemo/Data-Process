{
 "cells": [
  {
   "cell_type": "markdown",
   "metadata": {},
   "source": [
    "# Basics"
   ]
  },
  {
   "cell_type": "markdown",
   "metadata": {},
   "source": [
    "Python contains 12 built-in data types. These include [m]utable:\n",
    "\n",
    "* four numeric types (int, float, complex, bool)\n",
    "* four sequence types (str, list[m], tuple, range), support indexing and slicing\n",
    "* one mapping type (dict[m])\n",
    "* two set types (set[m], forzenset)\n",
    "\n",
    "_note:_ \n",
    "* the “value” of an immutable object can’t change, but it’s constituent objects can\n",
    "* immutable are quicker to access\n",
    "* in order to 'change' immutables, a copy must be created (expensive)"
   ]
  },
  {
   "cell_type": "code",
   "execution_count": 1,
   "metadata": {},
   "outputs": [
    {
     "data": {
      "text/plain": [
       "140270145882928"
      ]
     },
     "execution_count": 1,
     "metadata": {},
     "output_type": "execute_result"
    }
   ],
   "source": [
    "# type: string, value: \"hello world\", identity of greet(pointer to location in memory)\n",
    "# after object creation, identity and type cannot be changed\n",
    "greet = \"hello world\"\n",
    "id(greet)"
   ]
  },
  {
   "cell_type": "code",
   "execution_count": 60,
   "metadata": {},
   "outputs": [
    {
     "name": "stdout",
     "output_type": "stream",
     "text": [
      "[2, 4, 6, 8]\n",
      "True\n",
      "True\n",
      "<class 'list'> <class 'list'>\n"
     ]
    }
   ],
   "source": [
    "a = [2,4,6]\n",
    "b = a\n",
    "a.append(8)\n",
    "print(b)\n",
    "print(a == b)\n",
    "print(a is b)\n",
    "print(str(type(a)) +' '+ str(type(b)))"
   ]
  },
  {
   "cell_type": "markdown",
   "metadata": {},
   "source": [
    "__Functions: Call by object__\n",
    "\n",
    "[discussion](http://effbot.org/zone/call-by-object.htm)"
   ]
  },
  {
   "cell_type": "code",
   "execution_count": 17,
   "metadata": {},
   "outputs": [
    {
     "name": "stdout",
     "output_type": "stream",
     "text": [
      "140270145882824\n",
      "[2, 3, 10]\n",
      "140270145882824\n"
     ]
    }
   ],
   "source": [
    "# if a mutable object is called by reference in a function, \n",
    "# it can change the original variable itself\n",
    "def updateList(lTmp):\n",
    "    lTmp += [10]\n",
    "    \n",
    "Lst = [2,3]\n",
    "print( id(Lst) )\n",
    "updateList(Lst)\n",
    "print(Lst)\n",
    "print( id(Lst) )"
   ]
  },
  {
   "cell_type": "code",
   "execution_count": 18,
   "metadata": {},
   "outputs": [
    {
     "name": "stdout",
     "output_type": "stream",
     "text": [
      "94398192204320\n",
      "94398192204320\n",
      "2\n"
     ]
    }
   ],
   "source": [
    "# same object is passed to the function, but the variables value\n",
    "# doesn’t change even though the object is identical. This is pass-by-value\n",
    "# only the value of the variable is passed, not the object itself. \n",
    "# So the variable referencing the object is not changed, but the object \n",
    "# itself is being changed but within the function scope only.\n",
    "def updateNum(x):\n",
    "    print(id(x))\n",
    "    x += 10\n",
    "\n",
    "num = 2\n",
    "print(id(num))\n",
    "updateNum(num)\n",
    "print(num)"
   ]
  },
  {
   "cell_type": "code",
   "execution_count": 25,
   "metadata": {},
   "outputs": [
    {
     "name": "stdout",
     "output_type": "stream",
     "text": [
      "[1, 2, 3]\n",
      "[]\n"
     ]
    }
   ],
   "source": [
    "# Can't explicitly pass variables by reference\n",
    "# You can modify members of the list that was passed in. \n",
    "# You would not, however, be able to reassign the passed in variable entirely.\n",
    "def clear_a(x):\n",
    "  x = []\n",
    "\n",
    "def clear_b(x):\n",
    "  while x: x.pop()\n",
    "\n",
    "z = [1,2,3]\n",
    "clear_a(z); print(z)         # z will not be changed\n",
    "clear_b(z); print(z)         # z will be emptied"
   ]
  },
  {
   "cell_type": "markdown",
   "metadata": {},
   "source": [
    "__Lists__"
   ]
  },
  {
   "cell_type": "code",
   "execution_count": 5,
   "metadata": {},
   "outputs": [
    {
     "data": {
      "text/plain": [
       "[6, 2, 4]"
      ]
     },
     "execution_count": 5,
     "metadata": {},
     "output_type": "execute_result"
    }
   ],
   "source": [
    "indx = [2,0,1]\n",
    "[a[i] for i in indx]"
   ]
  },
  {
   "cell_type": "code",
   "execution_count": 11,
   "metadata": {},
   "outputs": [
    {
     "data": {
      "text/plain": [
       "[(0, 2), (1, 4), (2, 6), (3, 8)]"
      ]
     },
     "execution_count": 11,
     "metadata": {},
     "output_type": "execute_result"
    }
   ],
   "source": [
    "[i for i in enumerate(a)]"
   ]
  },
  {
   "cell_type": "code",
   "execution_count": 15,
   "metadata": {},
   "outputs": [
    {
     "data": {
      "text/plain": [
       "[('2', 1),\n",
       " ('4', 1),\n",
       " ('6', 1),\n",
       " ('8', 1),\n",
       " ('2', 1),\n",
       " ('3', 1),\n",
       " ('4', 1),\n",
       " ('2', 1),\n",
       " ('2', 1),\n",
       " ('3', 1),\n",
       " ('4', 1),\n",
       " ('2', 1)]"
      ]
     },
     "execution_count": 15,
     "metadata": {},
     "output_type": "execute_result"
    }
   ],
   "source": [
    "a = a + [2,3,4,2]\n",
    "x = [(str(i),1) for i in a]\n",
    "#map(lambda x: )\n"
   ]
  },
  {
   "cell_type": "code",
   "execution_count": null,
   "metadata": {},
   "outputs": [],
   "source": [
    "# reducer\n",
    "#!/usr/bin/python\n",
    "\n",
    "import sys\n",
    "\n",
    "current_word = None\n",
    "current_count = 1\n",
    "\n",
    "for line in sys.stdin:\n",
    "    word, count = line.strip().split('t')\n",
    "    if current_word:\n",
    "        if word == current_word:\n",
    "            current_count += int(count)\n",
    "        else:\n",
    "            print \"%st%d\" % (current_word, current_count)\n",
    "            current_count = 1\n",
    "\n",
    "    current_word = word\n",
    "\n",
    "if current_count > 1:\n",
    "    print \"%st%d\" % (current_word, current_count)"
   ]
  },
  {
   "cell_type": "markdown",
   "metadata": {},
   "source": [
    "__Functions and Functional Programming__\n",
    "\n",
    "first class objects (all python objects) are:\n",
    "\n",
    "* Created at runtime\n",
    "* Assigned as a variable or in a data structure\n",
    "* Passed as an argument to a function\n",
    "* Returned as the result of a function\n",
    "\n",
    "higher-order functions are those that:\n",
    "\n",
    "* take other functions as arguments\n",
    "* or that return functions\n",
    "\n",
    "two built-in: map(), filter()\n",
    "\n",
    "* return an iterator\n",
    "* transform each item into an iterable object"
   ]
  },
  {
   "cell_type": "code",
   "execution_count": 27,
   "metadata": {},
   "outputs": [
    {
     "name": "stdout",
     "output_type": "stream",
     "text": [
      "[1, 8, 27, 64]\n",
      "[1, 2]\n"
     ]
    }
   ],
   "source": [
    "lst = [1,2,3,4]\n",
    "print(   list(map(lambda x: x**3, lst))  )\n",
    "print(   list(filter(lambda x: x<3, lst))  )"
   ]
  },
  {
   "cell_type": "code",
   "execution_count": 33,
   "metadata": {},
   "outputs": [
    {
     "name": "stdout",
     "output_type": "stream",
     "text": [
      "['in', 'The', 'word', 'this', 'longest', 'sentence']\n",
      "None\n",
      "['in', 'The', 'word', 'this', 'longest', 'sentence']\n"
     ]
    }
   ],
   "source": [
    "words = str.split(\"The longest word in this sentence\")\n",
    "print( sorted(words, key=len) )  # built-in accepts any iterable, returns new list => functional\n",
    "print( words.sort(key=len) )     \n",
    "print( words )                   # returns None; method mutates existing instance"
   ]
  },
  {
   "cell_type": "code",
   "execution_count": 37,
   "metadata": {},
   "outputs": [
    {
     "data": {
      "text/plain": [
       "[['flour', 1.9, 5], ['rice', 2.4, 8], ['corn', 4.7, 6]]"
      ]
     },
     "execution_count": 37,
     "metadata": {},
     "output_type": "execute_result"
    }
   ],
   "source": [
    "items = [[\"rice\", 2.4, 8],[\"flour\", 1.9, 5], [\"corn\", 4.7, 6]]\n",
    "items.sort(key=lambda x: x[1])\n",
    "items"
   ]
  },
  {
   "cell_type": "markdown",
   "metadata": {},
   "source": [
    "__Recursion__\n",
    "\n",
    "Although both involve repetition, iteration loops through a sequence of operations, whereas recursion repeatedly calls a function.  Recursive functions are able to describe an infinite object within a finite statement.\n",
    "Iteration is often more efficient, but recursion is easier to understand, and useful with recursive data structures, such as linked lists and trees."
   ]
  },
  {
   "cell_type": "code",
   "execution_count": 38,
   "metadata": {},
   "outputs": [],
   "source": [
    "def iterTest(low, high):\n",
    "    while low <= high:\n",
    "        print(low)\n",
    "        low = low+1\n",
    "        \n",
    "def recurTest(low, high):\n",
    "    if low <= high:\n",
    "        print(low)\n",
    "        recurTest(low+1, high)"
   ]
  },
  {
   "cell_type": "code",
   "execution_count": 39,
   "metadata": {},
   "outputs": [
    {
     "name": "stdout",
     "output_type": "stream",
     "text": [
      "1\n",
      "2\n",
      "3\n",
      "4\n",
      "5\n"
     ]
    }
   ],
   "source": [
    "iterTest(1,5)"
   ]
  },
  {
   "cell_type": "code",
   "execution_count": 40,
   "metadata": {},
   "outputs": [
    {
     "name": "stdout",
     "output_type": "stream",
     "text": [
      "1\n",
      "2\n",
      "3\n",
      "4\n",
      "5\n"
     ]
    }
   ],
   "source": [
    "recurTest(1,5)"
   ]
  },
  {
   "cell_type": "markdown",
   "metadata": {},
   "source": [
    "__Generator__\n",
    "\n",
    "generator yields items rather than build lists.  The performance improvement as a result of using generators is because the values are generated on demand, rather than saved as a list in memory.  A calculation can begin before all the elements have been generated and elements are generated only when they are needed.\n",
    "\n",
    "Below, the sum method loads each number into memory when it is needed for the calculation. This is achieved by the generator object repeatedly calling the __next__() special method. Generators never return a value other than None."
   ]
  },
  {
   "cell_type": "code",
   "execution_count": 42,
   "metadata": {},
   "outputs": [
    {
     "name": "stdout",
     "output_type": "stream",
     "text": [
      "Time to sum an iterator: 0.035587\n",
      "Time to build and sum a list: 0.063136\n"
     ]
    }
   ],
   "source": [
    "# compares the running time of a list compared to a generator \n",
    "import time \n",
    "#generator function creates an iterator of odd numbers between n and m \n",
    "def oddGen(n, m):         \n",
    "    while n < m: \n",
    "        yield n \n",
    "        n += 2 \n",
    "#builds a list of odd numbers between n and m \n",
    "def oddLst(n,m): \n",
    "    lst=[] \n",
    "    while n<m: \n",
    "        lst.append(n) \n",
    "        n +=2 \n",
    "    return lst \n",
    "#the time it takes to perform sum on an iterator    \n",
    "t1=time.time() \n",
    "sum(oddGen(1,1000000)) \n",
    "print(\"Time to sum an iterator: %f\" % (time.time() - t1)) \n",
    "\n",
    "#the time it takes to build and sum a list \n",
    "t1=time.time() \n",
    "sum(oddLst(1,1000000)) \n",
    "print(\"Time to build and sum a list: %f\" % (time.time() - t1))"
   ]
  },
  {
   "cell_type": "code",
   "execution_count": 44,
   "metadata": {},
   "outputs": [
    {
     "data": {
      "text/plain": [
       "[10, 100, 1000, 10000]"
      ]
     },
     "execution_count": 44,
     "metadata": {},
     "output_type": "execute_result"
    }
   ],
   "source": [
    "# generator expressions\n",
    "lst1 = [1,2,3,4]\n",
    "gen1 = (10**i for i in lst1)\n",
    "\n",
    "list(gen1)"
   ]
  },
  {
   "cell_type": "code",
   "execution_count": null,
   "metadata": {},
   "outputs": [],
   "source": [
    "__Special methods__\n",
    "\n"
   ]
  },
  {
   "cell_type": "code",
   "execution_count": 48,
   "metadata": {},
   "outputs": [
    {
     "data": {
      "text/plain": [
       "['__class__',\n",
       " '__contains__',\n",
       " '__delattr__',\n",
       " '__delitem__',\n",
       " '__dir__',\n",
       " '__doc__',\n",
       " '__eq__',\n",
       " '__format__',\n",
       " '__ge__']"
      ]
     },
     "execution_count": 48,
     "metadata": {},
     "output_type": "execute_result"
    }
   ],
   "source": [
    "dir(lst)[1:10]"
   ]
  },
  {
   "cell_type": "markdown",
   "metadata": {},
   "source": [
    "__define your own operator__\n",
    "\n",
    "http://code.activestate.com/recipes/384122/\n",
    "```\n",
    "# simple multiplication\n",
    "x=Infix(lambda x,y: x*y)\n",
    "print( 2 |x| 4 )\n",
    "# => 8\n",
    "\n",
    "# class checking\n",
    "isa=Infix(lambda x,y: x.__class__==y.__class__)\n",
    "print( [1,2,3] |isa| [] )\n",
    "print( [1,2,3] <<isa>> [] )\n",
    "# => True\n",
    "```"
   ]
  },
  {
   "cell_type": "code",
   "execution_count": 58,
   "metadata": {},
   "outputs": [
    {
     "data": {
      "text/plain": [
       "a custom object ('hey ya')"
      ]
     },
     "execution_count": 58,
     "metadata": {},
     "output_type": "execute_result"
    }
   ],
   "source": [
    "# custom objects\n",
    "class my_class(): \n",
    "    def __init__(self, greet): \n",
    "        self.greet = greet \n",
    "    def __repr__(self): \n",
    "        return 'a custom object (%r)' % (self.greet)\n",
    "    \n",
    "x = my_class(\"hey ya\")\n",
    "x"
   ]
  },
  {
   "cell_type": "code",
   "execution_count": null,
   "metadata": {},
   "outputs": [],
   "source": [
    "isinstance(obj1, obj2)\n",
    "@staticmethod\n",
    "\n",
    "@classmethod\n",
    "def exp(cls, x):\n",
    "    return(cls.base**x)"
   ]
  },
  {
   "cell_type": "code",
   "execution_count": null,
   "metadata": {},
   "outputs": [],
   "source": [
    "# private methods\n",
    "__priv_method():\n",
    "    return(None)"
   ]
  },
  {
   "cell_type": "code",
   "execution_count": null,
   "metadata": {},
   "outputs": [],
   "source": []
  },
  {
   "cell_type": "markdown",
   "metadata": {},
   "source": [
    "# Algorithm Design Patterns"
   ]
  },
  {
   "cell_type": "markdown",
   "metadata": {},
   "source": [
    "__Backtracking__"
   ]
  },
  {
   "cell_type": "code",
   "execution_count": 83,
   "metadata": {},
   "outputs": [],
   "source": [
    "# all possible permutations of a string\n",
    "def bitStr(n, s):\n",
    "    if n==1: return s\n",
    "    return [digit + bits for digit in bitStr(1,s) for bits in bitStr(n-1,s)]"
   ]
  },
  {
   "cell_type": "code",
   "execution_count": 79,
   "metadata": {},
   "outputs": [],
   "source": [
    "def bitStr(n, s):\n",
    "    if n==1: return s\n",
    "    else:\n",
    "        for digit in bitStr(1,s):\n",
    "            for bits in bitStr(n-1,s):\n",
    "                return digit+bits"
   ]
  },
  {
   "cell_type": "code",
   "execution_count": 86,
   "metadata": {},
   "outputs": [
    {
     "data": {
      "text/plain": [
       "['aa', 'as', 'al', 'sa', 'ss', 'sl', 'la', 'ls', 'll']"
      ]
     },
     "execution_count": 86,
     "metadata": {},
     "output_type": "execute_result"
    }
   ],
   "source": [
    "s = 'asl'\n",
    "bitStr(2, s)"
   ]
  },
  {
   "cell_type": "code",
   "execution_count": null,
   "metadata": {},
   "outputs": [],
   "source": []
  },
  {
   "cell_type": "code",
   "execution_count": 90,
   "metadata": {},
   "outputs": [],
   "source": [
    "import math \n",
    "\n",
    "def karatsuba(x,y): \n",
    "\n",
    "    # The base case for recursion \n",
    "    if x < 10 or y < 10: \n",
    "        return x*y     \n",
    "\n",
    "    #sets n, the number of digits in the highest input number \n",
    "    n = max(int(math.log10(x)+1), int(math.log10(y)+1)) \n",
    "\n",
    "    # rounds up n/2     \n",
    "    n_2 = int(math.ceil(n / 2.0)) \n",
    "    #adds 1 if n is uneven\n",
    "    n = n if n % 2 == 0 else n + 1 \n",
    "\n",
    "    #splits the input numbers      \n",
    "    a, b = divmod(x, 10**n_2) \n",
    "    c, d = divmod(y, 10**n_2) \n",
    "\n",
    "    #applies the three recursive steps \n",
    "    ac = karatsuba(a,c) \n",
    "    bd = karatsuba(b,d) \n",
    "    ad_bc = karatsuba((a+b),(c+d)) - ac - bd \n",
    "\n",
    "    #performs the multiplication     \n",
    "    return (((10**n)*ac) + bd + ((10**n_2)*(ad_bc)))"
   ]
  },
  {
   "cell_type": "code",
   "execution_count": 91,
   "metadata": {},
   "outputs": [],
   "source": [
    "import random \n",
    "def test(): \n",
    "    for i in range(1000): \n",
    "        x = random.randint(1,10**5) \n",
    "        y = random.randint(1,10**5) \n",
    "        expected = x * y \n",
    "        result = karatsuba(x, y) \n",
    "        if result != expected: \n",
    "            return(\"failed\")                 \n",
    "    return('ok')"
   ]
  },
  {
   "cell_type": "code",
   "execution_count": 92,
   "metadata": {},
   "outputs": [
    {
     "data": {
      "text/plain": [
       "'ok'"
      ]
     },
     "execution_count": 92,
     "metadata": {},
     "output_type": "execute_result"
    }
   ],
   "source": [
    "test()"
   ]
  },
  {
   "cell_type": "code",
   "execution_count": null,
   "metadata": {},
   "outputs": [],
   "source": []
  }
 ],
 "metadata": {
  "kernelspec": {
   "display_name": "Python 3",
   "language": "python",
   "name": "python3"
  },
  "language_info": {
   "codemirror_mode": {
    "name": "ipython",
    "version": 3
   },
   "file_extension": ".py",
   "mimetype": "text/x-python",
   "name": "python",
   "nbconvert_exporter": "python",
   "pygments_lexer": "ipython3",
   "version": "3.6.4"
  }
 },
 "nbformat": 4,
 "nbformat_minor": 2
}
