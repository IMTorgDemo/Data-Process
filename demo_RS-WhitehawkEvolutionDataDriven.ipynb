{
 "cells": [
  {
   "cell_type": "markdown",
   "metadata": {},
   "source": [
    "# Evolving Whitehawk from an Expert-Based to a Data-Driven System"
   ]
  },
  {
   "cell_type": "markdown",
   "metadata": {},
   "source": [
    "Currently, the Whitehawk Recommendation System (WRS) creates product selections based upon discussions with cybersecurity Subject Matter Experts.  Specifically, these talks lead to new _matching concepts_ for use between users and items.  While this is helpful in gaining direction and contextual understanding, it is a poor method for reaching objective, quantitative, results.  Employing data behind the WRS offers a variety of benefits, including:\n",
    "\n",
    "* reduce system dependency on manual methods\n",
    "* providing users with specific and actionable information\n",
    "* objective justification for recommendations\n",
    "* creating tangible business value\n",
    "\n",
    "This notebook discusses the process for moving from an expert-based system to one that is automated and data-driven."
   ]
  },
  {
   "cell_type": "markdown",
   "metadata": {},
   "source": [
    "### Setup"
   ]
  },
  {
   "cell_type": "code",
   "execution_count": 1,
   "metadata": {},
   "outputs": [
    {
     "data": {
      "application/vnd.jupyter.widget-view+json": {
       "model_id": "d2c9afb7-471d-4568-81c7-ad2f50eaf89c",
       "version_major": 2,
       "version_minor": 0
      },
      "method": "display_data"
     },
     "metadata": {},
     "output_type": "display_data"
    },
    {
     "name": "stdout",
     "output_type": "stream",
     "text": [
      "Added jars: [jackson-core-2.8.9.jar, error_prone_annotations-2.1.3.jar, jersey-guava-2.25.1.jar, commons-math3-3.6.1.jar, threetenbp-1.3.6.jar, animal-sniffer-annotations-1.14.jar, aopalliance-repackaged-2.5.0-b32.jar, opencsv-4.2.jar, jersey-common-2.25.1.jar, swing-worker-1.1.jar, commons-lang3-3.7.jar, j2objc-annotations-1.1.jar, commons-text-1.3.jar, xchart-3.5.2.jar, swingx-1.6.1.jar, tablesaw-beakerx-0.23.0.jar, smile-math-1.5.1.jar, javax.inject-2.5.0-b32.jar, jackson-databind-2.8.9.jar, quandl-tablesaw-2.0.0.jar, commons-beanutils-1.9.3.jar, commons-collections-3.2.2.jar, json-20090211_1.jar, RoaringBitmap-0.7.14.jar, smile-data-1.5.1.jar, smile-plot-1.5.1.jar, jsr305-3.0.2.jar, VectorGraphics2D-0.13.jar, smile-graph-1.5.1.jar, quandl-core-2.0.0.jar, slf4j-api-1.7.25.jar, commons-collections4-4.1.jar, javax.ws.rs-api-2.0.1.jar, filters-2.0.235.jar, opencsv-2.3.jar, javax.annotation-api-1.2.jar, osgi-resource-locator-1.0.1.jar, commons-logging-1.2.jar, jsoup-1.11.3.jar, tablesaw-core-0.23.0.jar, hk2-utils-2.5.0-b32.jar, jersey-client-2.25.1.jar, hk2-api-2.5.0-b32.jar, hk2-locator-2.5.0-b32.jar, jackson-annotations-2.8.0.jar, smile-core-1.5.1.jar, fastutil-8.2.1.jar, tablesaw-plot-0.23.0.jar, jackson-datatype-json-org-2.8.9.jar, checker-qual-2.0.0.jar, guava-25.1-jre.jar, javassist-3.20.0-GA.jar]\n"
     ]
    }
   ],
   "source": [
    "%%classpath add mvn\n",
    "tech.tablesaw tablesaw-plot 0.23.0\n",
    "tech.tablesaw tablesaw-beakerx 0.23.0\n",
    "com.jimmoores quandl-tablesaw 2.0.0\n",
    "com.github.haifengl smile-core 1.5.1"
   ]
  },
  {
   "cell_type": "code",
   "execution_count": 2,
   "metadata": {},
   "outputs": [],
   "source": [
    "%import static tech.tablesaw.api.DoubleColumn.*"
   ]
  },
  {
   "cell_type": "code",
   "execution_count": 3,
   "metadata": {},
   "outputs": [
    {
     "ename": "input is incomplete",
     "evalue": "input is incomplete",
     "output_type": "error",
     "traceback": [
      "\u001b[1;31minput is incomplete\u001b[0;0m"
     ]
    }
   ],
   "source": [
    "//%import static tech.tablesaw.api.BarTrace.*"
   ]
  },
  {
   "cell_type": "code",
   "execution_count": 4,
   "metadata": {},
   "outputs": [
    {
     "data": {
      "text/plain": [
       "null"
      ]
     },
     "execution_count": 4,
     "metadata": {},
     "output_type": "execute_result"
    }
   ],
   "source": [
    "%import static tech.tablesaw.aggregate.AggregateFunctions.*\n",
    "%import tech.tablesaw.api.*\n",
    "%import tech.tablesaw.columns.*\n",
    "//%import smile.clustering.*\n",
    "//%import smile.regression.*\n",
    "\n",
    "// display Tablesaw tables with BeakerX table display widget\n",
    "tech.tablesaw.beakerx.TablesawDisplayer.register()"
   ]
  },
  {
   "cell_type": "markdown",
   "metadata": {},
   "source": [
    "### External Incident Data"
   ]
  },
  {
   "cell_type": "markdown",
   "metadata": {},
   "source": [
    "Notice the fields *\"Cause_Breach\"* and *\"Cause_Cost\"* .  Products address an attack vector by both how they breach, and how they they inflict damage / loss (cost to firm).  In later versions, product-categories should note specifically how products defend against vectors."
   ]
  },
  {
   "cell_type": "code",
   "execution_count": 5,
   "metadata": {},
   "outputs": [
    {
     "data": {
      "application/vnd.jupyter.widget-view+json": {
       "model_id": "76379f55-3ca5-4260-abaf-a11e773b63a2",
       "version_major": 2,
       "version_minor": 0
      },
      "method": "display_data"
     },
     "metadata": {},
     "output_type": "display_data"
    }
   ],
   "source": [
    "// data obtained from verizon breach database 2014\n",
    "val incident_file = Table.read().csv(\"./resources/dataIncidents.csv\")\n",
    "incident_file.first(3)"
   ]
  },
  {
   "cell_type": "code",
   "execution_count": 6,
   "metadata": {},
   "outputs": [
    {
     "data": {
      "application/vnd.jupyter.widget-view+json": {
       "model_id": "da7322f0-5d45-4287-baea-0624b19e3708",
       "version_major": 2,
       "version_minor": 0
      },
      "method": "display_data"
     },
     "metadata": {},
     "output_type": "display_data"
    }
   ],
   "source": [
    "// only keep fields of interest\n",
    "val incident = incident_file.select(\"Industry\", \"Sample_Count\", \"Firm_Count_US\", \"Cause_Pct\", \"Cause_Ref_Specific\", \"Exploit_Category\")"
   ]
  },
  {
   "cell_type": "markdown",
   "metadata": {},
   "source": [
    "<br>\n",
    "<br>\n",
    "<br>\n",
    "# Processing: Security Score"
   ]
  },
  {
   "cell_type": "markdown",
   "metadata": {},
   "source": [
    "### Chance of security incident\n",
    "\n",
    "Assume there exists a probability distribution for discrete cybersecurity events.  For all matching variables, within a specific year, industry, business-type:\n",
    "\n",
    "* obtain a sample of the number of security incidents and causes\n",
    "* categorize causes by: \n",
    "  + internal personnel,\n",
    "  + internal IT infrastructure, or \n",
    "  + external attack\n",
    "* order these (as a percentage) from highest to lowest (regardless of causal category) (not necessary but helpful graphically)\n",
    "* ensure percentages sum to one"
   ]
  },
  {
   "cell_type": "markdown",
   "metadata": {},
   "source": [
    "<img src=\"images/incidents.jpg\",width=400 height=100>"
   ]
  },
  {
   "cell_type": "code",
   "execution_count": 7,
   "metadata": {},
   "outputs": [
    {
     "data": {
      "text/plain": [
       "[[0.27, 0.26, 0.22, 0.07, 0.06, 0.05, 0.04, 0.03, 0.001, 0.001, 0.0]]"
      ]
     },
     "execution_count": 7,
     "metadata": {},
     "output_type": "execute_result"
    }
   ],
   "source": [
    "var Y = incident.numberColumn(\"Cause_Pct\").asDoubleArray.toSeq"
   ]
  },
  {
   "cell_type": "code",
   "execution_count": 8,
   "metadata": {},
   "outputs": [
    {
     "data": {
      "text/plain": [
       "[Web App Attack, Denial Of Service, Payment Card Skimmer, Insider Misuse, Other, Misc Error, Crime-ware, Theft / Loss, POS Intrusion, Cyber Espionage, (no incident)]"
      ]
     },
     "execution_count": 8,
     "metadata": {},
     "output_type": "execute_result"
    }
   ],
   "source": [
    "var X = incident.stringColumn(\"Cause_Ref_Specific\").asList"
   ]
  },
  {
   "cell_type": "code",
   "execution_count": 9,
   "metadata": {},
   "outputs": [
    {
     "data": {
      "application/vnd.jupyter.widget-view+json": {
       "model_id": "02cf2184-2f77-4e57-a6be-79a3c2754b0b",
       "version_major": 2,
       "version_minor": 0
      },
      "method": "display_data"
     },
     "metadata": {},
     "output_type": "display_data"
    }
   ],
   "source": [
    "var incident_sort = incident.sortDescendingOn(\"Cause_Pct\")\n",
    "\n",
    "var Percent = incident_sort.numberColumn(\"Cause_Pct\").asDoubleArray()\n",
    "var Cause = incident_sort.stringColumn(\"Cause_Ref_Specific\").asDoubleArray()\n",
    "\n",
    "var Plot1 = new Plot {\n",
    "    title=\"Probability Distribution for Security Incidents in the Finance Industry\"\n",
    "    initHeight = 300\n",
    "    xLabel = \"Cause Categories\"\n",
    "    yLabel = \"Probability of Incident\"\n",
    "}\n",
    "Plot1.add( new Bars {\n",
    "    x=Cause\n",
    "    y=Percent\n",
    "    outlineColor = Color.black\n",
    "    width = 0.75\n",
    "    })\n",
    "Plot1.add( new Line {\n",
    "    displayName = \"Probablity\"\n",
    "    x=Cause\n",
    "    y=Percent\n",
    "    width = 3\n",
    "})"
   ]
  },
  {
   "cell_type": "markdown",
   "metadata": {},
   "source": [
    "### Define the security score\n",
    "\n",
    "The security score is defined on the set [0,1] and is evaluated as 1 minus the probabilty of incurring a successful (damaging) security incident"
   ]
  },
  {
   "cell_type": "markdown",
   "metadata": {},
   "source": [
    "<img src=\"images/incidents_security.jpg\",width=400 height=100>"
   ]
  },
  {
   "cell_type": "code",
   "execution_count": 11,
   "metadata": {},
   "outputs": [
    {
     "data": {
      "application/vnd.jupyter.widget-view+json": {
       "model_id": "042f9f1f-c0d0-471f-82c4-6e3117da5eee",
       "version_major": 2,
       "version_minor": 0
      },
      "method": "display_data"
     },
     "metadata": {},
     "output_type": "display_data"
    }
   ],
   "source": [
    "var security = incident_sort.numberColumn(\"Cause_Pct\").subtract(1).multiply(-1).setName(\"Security_Score\");\n",
    "incident_sort.addColumns(security)\n",
    "incident_sort = incident_sort.sortDescendingOn(\"Cause_Pct\")\n",
    "\n",
    "var Percent = incident_sort.numberColumn(\"Cause_Pct\").asDoubleArray()\n",
    "var Cause = incident_sort.stringColumn(\"Cause_Ref_Specific\").asDoubleArray()\n",
    "var Security = incident_sort.numberColumn(\"Security_Score\").asDoubleArray()\n",
    "\n",
    "\n",
    "var Plot2 = new Plot {\n",
    "    title=\"Security Score across Incidents in the Finance Industry\"\n",
    "    initHeight = 300\n",
    "    xLabel = \"Cause Categories\"\n",
    "    yLabel = \"Probability of Incident\"\n",
    "}\n",
    "Plot2.add( new Bars {\n",
    "    x=Cause\n",
    "    y=Percent\n",
    "    outlineColor = Color.black\n",
    "    width = 0.75\n",
    "    })\n",
    "Plot2.add(new Line {\n",
    "    displayName = \"Probability\"\n",
    "    x=Cause\n",
    "    y=Percent\n",
    "    width = 3\n",
    "})\n",
    "Plot2.add(new Line {\n",
    "    displayName = \"Security\"\n",
    "    x = Cause\n",
    "    y = Security \n",
    "})\n",
    "//Plot.setYBound(0.75, 1.0)\n",
    "//Plot.yAxes(1).bound = (0.75, 1.0)"
   ]
  },
  {
   "cell_type": "markdown",
   "metadata": {},
   "source": [
    "<br>\n",
    "<br>\n",
    "<br>\n",
    "# Processing: Security Curve"
   ]
  },
  {
   "cell_type": "markdown",
   "metadata": {},
   "source": [
    "### Matching problems to solutions\n",
    "\n",
    "We must match the following variables:\n",
    "\n",
    "* _incident causes_ are associated to\n",
    "* _firm vulnerabilities (exploit-categories)_ which are addressed by\n",
    "* _products-categories_\n",
    "\n",
    "From the distribution, we can obtain the relative importance of causes and categories of causes.  Each of these will have associated vulnerabilities.  Vulnerabilities should be analyzed and understood, to some extent, to gain a general understanding.  \n",
    "\n",
    "Each vulnerability must be addressed by a product-category.  Each product-category is covered by a single product recommended by WRS.\n",
    "\n",
    "Product-categories are grouped by package (basic, balanced, advanced).  Packages are ordered, and aggregate all lower-ordered products.  By implementing all products from each package, we increase the security score.  By implementing all products (advanced package) we receive a security score of 1."
   ]
  },
  {
   "cell_type": "markdown",
   "metadata": {},
   "source": [
    "<img src=\"images/security_prodcat.jpg\",width=400 height=300>"
   ]
  },
  {
   "cell_type": "code",
   "execution_count": 12,
   "metadata": {},
   "outputs": [
    {
     "data": {
      "application/vnd.jupyter.widget-view+json": {
       "model_id": "e8062396-5e09-4ee7-ab79-27e0587a5f0d",
       "version_major": 2,
       "version_minor": 0
      },
      "method": "display_data"
     },
     "metadata": {},
     "output_type": "display_data"
    }
   ],
   "source": [
    "var Plot3 = new Plot {\n",
    "    title=\"Security Score across Incident Causes in the Finance Industry\"\n",
    "    initHeight = 300\n",
    "    initWidth = 700\n",
    "    xLabel = \"Cause Categories / Vulnerabilities\"\n",
    "    yLabel = \"Security Score\"\n",
    "}\n",
    "Plot3.add(new Line {\n",
    "    displayName = \"Security\"\n",
    "    x = Cause\n",
    "    y = Security \n",
    "})\n",
    "Plot3.setYBound(.70, 1.05)"
   ]
  },
  {
   "cell_type": "markdown",
   "metadata": {},
   "source": [
    "<div align=\"left\">\n",
    "<img src=\"./resources/tbl_Vul_Prod-Cat.png\",width=600 align=\"left\">\n",
    "<img src=\"./resources/tbl_Vulnerability.png\",width=600 align=\"right\">\n",
    "</div>"
   ]
  },
  {
   "cell_type": "markdown",
   "metadata": {},
   "source": [
    "### Calculation of the Security Curve for bundle packages"
   ]
  },
  {
   "cell_type": "markdown",
   "metadata": {},
   "source": [
    "The product-categories do not align so cleanly with the incident causes / vulnerabilities.  So, I cannot simply say: _\"with Basic package, you receive a security score of X%\"_ from looking at the graph.\n",
    "\n",
    "method:\n",
    "\n",
    "* only be concerned with cause category - not its components: breach and cost\n",
    "* begin with the _Advanced_ package which has all products assigned; it must receive a score of 99%\n",
    "* divide the score at each vulnerability by the number of products within each package (assumption: they each contain risk evenly)\n",
    "* instead of one risk curve, a separate risk curve is created for each package; the aggregated curve is that package's score\n"
   ]
  },
  {
   "cell_type": "markdown",
   "metadata": {},
   "source": [
    "Match incidents to vulnerabilities to product-categories.  Specific products are irrelevant, only the product-category that the product addresses.  This allows for scoring to be de-coupled from product selection."
   ]
  },
  {
   "cell_type": "markdown",
   "metadata": {},
   "source": [
    "// OUTPUT.jsonl for arbitrary finance firm (header)\n",
    "```\n",
    "\"resultPackages\": [\n",
    "    {\"packagePrice\": 78770, \n",
    "     \"productRefs\": [\"Hemisphere's Proprietary Assessment less than 100\", \"Phish Threat\", \"Visiontek Universal SSD Cloning and Transfer Kit\", \"Log and Event Manager\", \"Legal Defense Support\", \"Adaptive Defense 360 and Advanced Reporting Tool 1 Year\", \"SOHO Network Security Firewall\", \"Maximum Security for Home\", \"Sophos Mobile Security\", \"Deep Discovery Inspector\", \"VyprVPN Premium Monthly\", \"Data Loss Prevention v.5 2 5.2\", \"TippingPoint\", \"DameWare Patch Manager 1 year\", \"Sophos Email Protection\", \"Backup Server\"], \n",
    "     \"resultPackageType\": \"ADVANCED\"}, \n",
    "    {\"packagePrice\": 20000, \n",
    "     \"productRefs\": [\"Phish Threat\", \"SOHO Network Security Firewall\", \"Log and Event Manager\", \"Maximum Security for Home\", \"Sophos Mobile Security\", \"VyprVPN Premium Monthly\", \"Data Loss Prevention v.5 2 5.2\", \"TippingPoint\", \"DameWare Patch Manager 1 year\", \"Sophos Email Protection\", \"Backup Server\"], \n",
    "     \"resultPackageType\": \"BALANCED\"}, \n",
    "    {\"packagePrice\": 135, \n",
    "     \"productRefs\": [\"OneGuard Plus 1 Year\", \"Sophos Mobile Security\", \"Data Loss Prevention v.5 2 5.2\", \"OneConnect Plus 1 Year\", \"Identity Tracking for Identity Manager\", \"Archiver 1 Year\"], \n",
    "     \"resultPackageType\": \"BASIC\"}]}\n",
    "```"
   ]
  },
  {
   "cell_type": "code",
   "execution_count": 24,
   "metadata": {},
   "outputs": [
    {
     "name": "stdout",
     "output_type": "stream",
     "text": [
      "The number of unique products selected for the advanced-package: 21 rows X 7 cols\n"
     ]
    },
    {
     "data": {
      "application/vnd.jupyter.widget-view+json": {
       "model_id": "8bc2046d-a5fa-4f4b-ba72-05c9f3a3c2bd",
       "version_major": 2,
       "version_minor": 0
      },
      "method": "display_data"
     },
     "metadata": {},
     "output_type": "display_data"
    }
   ],
   "source": [
    "// this is a flat file of the above nested OUTPUT.jsonl (serviceBundleTemplate-py)\n",
    "val product_file = Table.read().csv(\"./resources/dataProducts.csv\")\n",
    "val product = product_file.select(\"Package\", \"ProductName\", \"Category\", \"VendorName\", \"Type\", \"supplierPrice\", \"SellingPrice\")\n",
    "println(\"The number of unique products selected for the advanced-package: \" + product.shape)\n",
    "product.first(3)"
   ]
  },
  {
   "cell_type": "code",
   "execution_count": 19,
   "metadata": {
    "scrolled": true
   },
   "outputs": [
    {
     "name": "stdout",
     "output_type": "stream",
     "text": [
      "21\n"
     ]
    },
    {
     "data": {
      "application/vnd.jupyter.widget-view+json": {
       "model_id": "089683a2-412e-45b9-8b83-3f637dd97bf6",
       "version_major": 2,
       "version_minor": 0
      },
      "method": "display_data"
     },
     "metadata": {},
     "output_type": "display_data"
    }
   ],
   "source": [
    "// counts of product-categories\n",
    "var lCategory = product.stringColumn(\"Category\").asList\n",
    "product.xTabCounts(\"Category\").sortDescendingOn(\"Count\")"
   ]
  },
  {
   "cell_type": "code",
   "execution_count": 18,
   "metadata": {
    "scrolled": true
   },
   "outputs": [
    {
     "name": "stdout",
     "output_type": "stream",
     "text": [
      "21 rows X 2 cols\n"
     ]
    },
    {
     "data": {
      "application/vnd.jupyter.widget-view+json": {
       "model_id": "1f9b5cce-24e7-4251-8eaf-082ff2d7793a",
       "version_major": 2,
       "version_minor": 0
      },
      "method": "display_data"
     },
     "metadata": {},
     "output_type": "display_data"
    }
   ],
   "source": [
    "// this file matches product-categories with exploit-categories, or all of them (any)\n",
    "val category = Table.read().csv(\"./resources/dataCategory.csv\")\n",
    "println(category.shape)\n",
    "category.first(3)"
   ]
  },
  {
   "cell_type": "code",
   "execution_count": 25,
   "metadata": {},
   "outputs": [
    {
     "data": {
      "text/plain": [
       "[Forensics, Network Intrusion Prevention System, Mobile Data Security, Patch Management, Traffic Analysis, Access Control, Data Leak Prevention, Host-Based Intrusion Prevention System, Incident Response, Email Filter, Training, Security Information and Event Management, Backup, Vulnerability Assessment, Threat Intelligence, Virtual Private Network, Antimalware]"
      ]
     },
     "execution_count": 25,
     "metadata": {},
     "output_type": "execute_result"
    }
   ],
   "source": [
    "product.stringColumn(\"Category\").asSet"
   ]
  },
  {
   "cell_type": "code",
   "execution_count": 28,
   "metadata": {},
   "outputs": [
    {
     "data": {
      "application/vnd.jupyter.widget-view+json": {
       "model_id": "c0ef03bd-baf4-4b37-94ba-ac703d9c7c5b",
       "version_major": 2,
       "version_minor": 0
      },
      "method": "display_data"
     },
     "metadata": {},
     "output_type": "display_data"
    }
   ],
   "source": [
    "// match products to exploit-categories\n",
    "var tblMrg1 = product.join(\"Category\").leftOuter(category, \"Product_Cat\")\n",
    "tblMrg1 = tblMrg1.select(\"Package\",\"ProductName\",\"Category\",\"Exploit_Cat\")\n",
    "tblMrg1.first(3)\n",
    "//tblMrg1.write().csv(\"tblMrg1.csv\");\n",
    "//tblMrg1.select(\"Package\",\"ProductName\",\"Category\",\"Exploit_Cat\").where(tblMrg1.stringColumn(\"Exploit_Cat\").isEqualTo(\"\"))"
   ]
  },
  {
   "cell_type": "code",
   "execution_count": 30,
   "metadata": {},
   "outputs": [
    {
     "data": {
      "application/vnd.jupyter.widget-view+json": {
       "model_id": "32da605f-d8a3-4cfa-8084-cd7ae7cfda39",
       "version_major": 2,
       "version_minor": 0
      },
      "method": "display_data"
     },
     "metadata": {},
     "output_type": "display_data"
    }
   ],
   "source": [
    "var tblMrg2 = tblMrg1.xTabCounts(\"Exploit_Cat\",\"Package\").sortAscendingOn(\"total\")"
   ]
  },
  {
   "cell_type": "code",
   "execution_count": 39,
   "metadata": {},
   "outputs": [
    {
     "data": {
      "text/plain": [
       "getSummedList: (list: List[Double])List[Double]\n"
      ]
     },
     "execution_count": 39,
     "metadata": {},
     "output_type": "execute_result"
    }
   ],
   "source": [
    "// aggregate function\n",
    "def getSummedList(list: List[Double]) = list.scan(0.0)((a, b) => a + b)"
   ]
  },
  {
   "cell_type": "code",
   "execution_count": 40,
   "metadata": {},
   "outputs": [
    {
     "data": {
      "text/plain": [
       "11 rows X 12 cols"
      ]
     },
     "execution_count": 40,
     "metadata": {},
     "output_type": "execute_result"
    }
   ],
   "source": [
    "// Merge\n",
    "var tblMrg3 = incident_sort.join(\"Exploit_Category\").leftOuter(tblMrg2, \"[labels]\")\n",
    "\n",
    "// create product fractional support\n",
    "var CausPct_part = tblMrg3.numberColumn(\"Cause_Pct\").divide(tblMrg3.numberColumn(\"total\")).setName(\"CausPct_part\")\n",
    "tblMrg3.addColumns(CausPct_part)\n",
    "tblMrg3.shape"
   ]
  },
  {
   "cell_type": "code",
   "execution_count": 33,
   "metadata": {},
   "outputs": [
    {
     "data": {
      "text/plain": [
       "Number column: CausAgg_BASIC"
      ]
     },
     "execution_count": 33,
     "metadata": {},
     "output_type": "execute_result"
    }
   ],
   "source": [
    "// aggregate for basic\n",
    "var CausPct_BASIC = tblMrg3.numberColumn(\"BASIC\").multiply(tblMrg3.numberColumn(\"CausPct_part\")).setName(\"CausPct_BASIC\")\n",
    "tblMrg3.addColumns(CausPct_BASIC)\n",
    "var values_1 = tblMrg3.numberColumn(\"CausPct_BASIC\").asDoubleArray\n",
    "var values_2 = getSummedList(values_1.toList)\n",
    "tblMrg3.addColumns(  create(\"CausAgg_BASIC\", values_2.toArray)  )\n",
    "tblMrg3.numberColumn(\"CausAgg_BASIC\")"
   ]
  },
  {
   "cell_type": "code",
   "execution_count": 34,
   "metadata": {},
   "outputs": [
    {
     "data": {
      "text/plain": [
       "Number column: CausAgg_BALANCED"
      ]
     },
     "execution_count": 34,
     "metadata": {},
     "output_type": "execute_result"
    }
   ],
   "source": [
    "// aggregate for balanced\n",
    "var values_1 = tblMrg3.numberColumn(\"BALANCED\").add(tblMrg3.numberColumn(\"BASIC\")).multiply(tblMrg3.numberColumn(\"CausPct_part\")).setName(\"CausPct_BALANCED\").asDoubleArray\n",
    "var values_2 = getSummedList(values_1.toList)\n",
    "tblMrg3.addColumns( create(\"CausAgg_BALANCED\", values_2.toArray))\n",
    "tblMrg3.numberColumn(\"CausAgg_BALANCED\")"
   ]
  },
  {
   "cell_type": "code",
   "execution_count": 35,
   "metadata": {},
   "outputs": [
    {
     "data": {
      "text/plain": [
       "Number column: CausAgg_ADVANCED"
      ]
     },
     "execution_count": 35,
     "metadata": {},
     "output_type": "execute_result"
    }
   ],
   "source": [
    "// aggregate for advanced\n",
    "var values_1 = tblMrg3.numberColumn(\"total\").multiply(tblMrg3.numberColumn(\"CausPct_part\")).setName(\"CausPct_ADVANCED\").asDoubleArray\n",
    "var values_2 = getSummedList(values_1.toList)\n",
    "tblMrg3.addColumns( create(\"CausAgg_ADVANCED\", values_2.toArray))\n",
    "tblMrg3.numberColumn(\"CausAgg_ADVANCED\")"
   ]
  },
  {
   "cell_type": "code",
   "execution_count": 36,
   "metadata": {},
   "outputs": [
    {
     "data": {
      "application/vnd.jupyter.widget-view+json": {
       "model_id": "b5ff1db5-eb95-47d3-8ae4-81a7af814fe4",
       "version_major": 2,
       "version_minor": 0
      },
      "method": "display_data"
     },
     "metadata": {},
     "output_type": "display_data"
    }
   ],
   "source": [
    "tblMrg3"
   ]
  },
  {
   "cell_type": "code",
   "execution_count": 37,
   "metadata": {},
   "outputs": [
    {
     "data": {
      "application/vnd.jupyter.widget-view+json": {
       "model_id": "a661cf60-9774-49e1-8d99-51781a9e6a1c",
       "version_major": 2,
       "version_minor": 0
      },
      "method": "display_data"
     },
     "metadata": {},
     "output_type": "display_data"
    }
   ],
   "source": [
    "var Cause = tblMrg3.stringColumn(\"Cause_Ref_Specific\").asDoubleArray()\n",
    "var CausAgg_BASIC = tblMrg3.numberColumn(\"CausAgg_BASIC\").asDoubleArray()\n",
    "var CausAgg_BALANCED = tblMrg3.numberColumn(\"CausAgg_BALANCED\").asDoubleArray()\n",
    "var CausAgg_ADVANCED = tblMrg3.numberColumn(\"CausAgg_ADVANCED\").asDoubleArray()\n",
    "\n",
    "var Plot4 = new Plot {\n",
    "    title = \"Security Score Curves across Packages\"\n",
    "    initHeight = 300\n",
    "    initWidth = 700\n",
    "    xLabel = \"Cause Categories / Vulnerabilities\"\n",
    "    yLabel = \"Security Score\"\n",
    "}\n",
    "Plot4.add(new Line {\n",
    "    displayName = \"Basic Security Score\"\n",
    "    x = Cause\n",
    "    y = CausAgg_BASIC \n",
    "})\n",
    "Plot4.add(new Line {\n",
    "    displayName = \"Balanced Security Score\"\n",
    "    x = Cause\n",
    "    y = CausAgg_BALANCED \n",
    "})\n",
    "Plot4.add(new Line {\n",
    "    displayName = \"Advanced Security Score\"\n",
    "    x = Cause\n",
    "    y = CausAgg_ADVANCED \n",
    "})\n",
    "//Plot4.setYBound(.70, 1.05)"
   ]
  },
  {
   "cell_type": "markdown",
   "metadata": {},
   "source": [
    "<br>\n",
    "<br>\n",
    "<br>\n",
    "# Processing: Product Selection"
   ]
  },
  {
   "cell_type": "markdown",
   "metadata": {},
   "source": [
    "### Product table: context data and matching variables\n",
    "\n",
    "Product table with rows (products), columns (features / attributes, and matching concepts calculated from these).  We remove products not in the domain of possible solutions.  This includes removal based on contextual information: industry and product category.  We also remove on matching variables: company size.  The resulting product table is prepared for filtering."
   ]
  },
  {
   "cell_type": "markdown",
   "metadata": {},
   "source": [
    "### Product table: matching constraints\n",
    "\n",
    "Matching constraints are not as definitive as matching variables.  Instead of removing products that are not in the domain, we can sort, filter and find best fit products for the user traits."
   ]
  },
  {
   "cell_type": "markdown",
   "metadata": {},
   "source": [
    "<img src=\"images/product_table.jpg\",width=500 height=300>"
   ]
  },
  {
   "cell_type": "markdown",
   "metadata": {},
   "source": [
    "<br>\n",
    "<br>\n",
    "<br>\n",
    "# Obtaining Data\n",
    "\n",
    "Getting the data to determine the 'chance of a security incident' for a firm of particular characteristics is not easy, but it is available.  Multiple data sources create reports, articles, and blog posts from their statistics in order to market their acumen.  While this data is not an appealing raw form, it can be aggregated to obtain the data we need.  \n",
    "\n",
    "For instance, the following graph appears in an annual federal report.  These can be aggregated over time to dispaly interesting patterns.  Multiple reports create statistics from different data sets.  This allows an opportunity for overlapping coverage of samples, and cross-validation.  \n",
    "\n",
    "In addition, similar plots are available for large corporations and small-/medium-sized businesses.  No one data source has information across all domains.  However, we can aggregate this information to get it."
   ]
  },
  {
   "cell_type": "markdown",
   "metadata": {},
   "source": [
    "<img src=\"images/network_security-incidents.jpg\",width=500 height=300>"
   ]
  },
  {
   "cell_type": "markdown",
   "metadata": {},
   "source": [
    "<br>\n",
    "<br>\n",
    "<br>\n",
    "# References: External Data\n",
    "\n",
    "* [verizon incident database 2018](https://www.verizonenterprise.com/verizon-insights-lab/dbir/#2018DBIR)\n",
    "* [Common Weakness Enumeration](https://en.wikipedia.org/wiki/Common_Weakness_Enumeration)\n",
    "* [Common Vulnerabilities and Exposures](https://en.wikipedia.org/wiki/Common_Vulnerabilities_and_Exposures)\n",
    "* [Common Vulnerability Scoring System](https://en.wikipedia.org/wiki/Common_Vulnerability_Scoring_System)\n",
    "* [Exploit Databases](https://www.exploit-db.com/exploits/44938/)\n"
   ]
  },
  {
   "cell_type": "markdown",
   "metadata": {},
   "source": [
    "# References: TableSaw \n",
    "\n",
    "* [User guide](https://jtablesaw.github.io/tablesaw/userguide/toc)\n",
    "* [Example notebook](https://github.com/twosigma/beakerx/blob/master/doc/groovy/Tablesaw.ipynb)\n",
    "* [Tests for determining output](https://github.com/jtablesaw/tablesaw/tree/master/core/src/test/java/tech/tablesaw)"
   ]
  },
  {
   "cell_type": "code",
   "execution_count": 165,
   "metadata": {},
   "outputs": [
    {
     "data": {
      "text/plain": [
       "Column: doubles\n",
       "0.135\n",
       "0.135\n",
       "0.245\n",
       "0.28\n",
       "0.28\n",
       "0.30500000000000005\n",
       "0.31170000000000003\n",
       "0.32670000000000005\n",
       "0.32720000000000005\n",
       "0.3272167\n"
      ]
     },
     "execution_count": 165,
     "metadata": {},
     "output_type": "execute_result"
    }
   ],
   "source": [
    "//EXAMPLE: Create a column\n",
    "var values = List(0.135, 0.135, 0.245, 0.28, 0.28, 0.30500000000000005, 0.31170000000000003, 0.32670000000000005, 0.32720000000000005, 0.3272167)\n",
    "create(\"doubles\", values.toArray)"
   ]
  },
  {
   "cell_type": "code",
   "execution_count": 248,
   "metadata": {},
   "outputs": [
    {
     "data": {
      "text/plain": [
       "[[0.0, 0.135, 0.27, 0.515, 0.795, 1.0750000000000002, 1.3800000000000003, 1.6917000000000004, 2.0184000000000006, 2.3456000000000006, 2.6728167000000007, 3.000033400000001]]"
      ]
     },
     "execution_count": 248,
     "metadata": {},
     "output_type": "execute_result"
    }
   ],
   "source": [
    "//EXAMPLE: Collection scan to accumulate\n",
    "def getSummedList(list: List[Double]) = list.scan(0.0)((a, b) => a + b)\n",
    "getSummedList(values)"
   ]
  },
  {
   "cell_type": "code",
   "execution_count": null,
   "metadata": {},
   "outputs": [],
   "source": []
  }
 ],
 "metadata": {
  "kernelspec": {
   "display_name": "Scala",
   "language": "scala",
   "name": "scala"
  },
  "language_info": {
   "codemirror_mode": "text/x-scala",
   "file_extension": ".scala",
   "mimetype": "",
   "name": "Scala",
   "nbconverter_exporter": "",
   "version": "2.11.12"
  }
 },
 "nbformat": 4,
 "nbformat_minor": 2
}
