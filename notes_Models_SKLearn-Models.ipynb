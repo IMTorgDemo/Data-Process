{
 "cells": [
  {
   "cell_type": "code",
   "execution_count": 1,
   "metadata": {},
   "outputs": [
    {
     "data": {
      "text/plain": [
       "('1.15.4', '0.23.4')"
      ]
     },
     "execution_count": 1,
     "metadata": {},
     "output_type": "execute_result"
    }
   ],
   "source": [
    "# basics\n",
    "import numpy as np\n",
    "import pandas as pd\n",
    "from pandas import Timestamp\n",
    "from sklearn import metrics\n",
    "from sklearn import linear_model\n",
    "import pickle\n",
    "\n",
    "np.__version__, pd.__version__"
   ]
  },
  {
   "cell_type": "code",
   "execution_count": 2,
   "metadata": {},
   "outputs": [],
   "source": [
    "import warnings\n",
    "warnings.filterwarnings('ignore')\n",
    "\n",
    "pd.set_option('display.max_rows', 50)\n",
    "pd.options.display.float_format = '{:20,.2f}'.format    # format decimal output \n",
    "pd.options.display.max_columns = None                   # show all columns in table\n",
    "pd.options.mode.chained_assignment = None               # default='warn', turn-off this warning"
   ]
  },
  {
   "cell_type": "code",
   "execution_count": 7,
   "metadata": {},
   "outputs": [
    {
     "name": "stdout",
     "output_type": "stream",
     "text": [
      "The rpy2.ipython extension is already loaded. To reload it, use:\n",
      "  %reload_ext rpy2.ipython\n"
     ]
    }
   ],
   "source": [
    "#magics\n",
    "%matplotlib inline\n",
    "%load_ext rpy2.ipython"
   ]
  },
  {
   "cell_type": "code",
   "execution_count": 8,
   "metadata": {},
   "outputs": [],
   "source": [
    "%%R\n",
    "options(warn=-1)   # do not show warnings: for presentation only"
   ]
  },
  {
   "cell_type": "code",
   "execution_count": 10,
   "metadata": {},
   "outputs": [],
   "source": [
    "# test\n",
    "df = pd.DataFrame({\n",
    "    'cups_of_coffee': [0, 1, 2, 3, 4, 5, 6, 7, 8, 9],\n",
    "    'productivity': [2, 5, 6, 8, 9, 8, 0, 1, 0, -1]\n",
    "})"
   ]
  },
  {
   "cell_type": "code",
   "execution_count": 11,
   "metadata": {},
   "outputs": [
    {
     "name": "stderr",
     "output_type": "stream",
     "text": [
      "/opt/conda/lib/python3.6/site-packages/rpy2/robjects/pandas2ri.py:191: FutureWarning: from_items is deprecated. Please use DataFrame.from_dict(dict(items), ...) instead. DataFrame.from_dict(OrderedDict(items)) may be used to preserve the key order.\n",
      "  res = PandasDataFrame.from_items(items)\n"
     ]
    },
    {
     "data": {
      "image/png": "[encoded data removed]"
     },
     "metadata": {},
     "output_type": "display_data"
    }
   ],
   "source": [
    "%%R -i df -w 3 -h 1.5 --units in -r 100 \n",
    "\n",
    "library(ggplot2)\n",
    "ggplot(df, aes(x=cups_of_coffee, y=productivity)) + geom_line()"
   ]
  },
  {
   "cell_type": "code",
   "execution_count": null,
   "metadata": {},
   "outputs": [],
   "source": []
  },
  {
   "cell_type": "markdown",
   "metadata": {},
   "source": [
    "# Load"
   ]
  },
  {
   "cell_type": "markdown",
   "metadata": {},
   "source": [
    "A dataset is a dictionary-like object that holds all the data and some metadata about the data.  Information on the toy and fetched datasets can be found [here](https://scikit-learn.org/stable/datasets/index.html#datasets)\n",
    "* .data member, which is a 2D array, shape (n_samples, n_features)\n",
    "* one or more response variables are stored in the .target member"
   ]
  },
  {
   "cell_type": "code",
   "execution_count": 53,
   "metadata": {},
   "outputs": [
    {
     "data": {
      "text/plain": [
       "(150, 5)"
      ]
     },
     "execution_count": 53,
     "metadata": {},
     "output_type": "execute_result"
    }
   ],
   "source": [
    "from sklearn import datasets\n",
    "iris = datasets.load_iris()\n",
    "df = pd.DataFrame(data= np.c_[iris['data'], iris['target']],\n",
    "                     columns= iris['feature_names'] + ['target'])\n",
    "df.shape"
   ]
  },
  {
   "cell_type": "code",
   "execution_count": null,
   "metadata": {},
   "outputs": [],
   "source": []
  },
  {
   "cell_type": "markdown",
   "metadata": {},
   "source": [
    "# Explore"
   ]
  },
  {
   "cell_type": "code",
   "execution_count": 54,
   "metadata": {},
   "outputs": [
    {
     "data": {
      "text/html": [
       "<div>\n",
       "<style scoped>\n",
       "    .dataframe tbody tr th:only-of-type {\n",
       "        vertical-align: middle;\n",
       "    }\n",
       "\n",
       "    .dataframe tbody tr th {\n",
       "        vertical-align: top;\n",
       "    }\n",
       "\n",
       "    .dataframe thead th {\n",
       "        text-align: right;\n",
       "    }\n",
       "</style>\n",
       "<table border=\"1\" class=\"dataframe\">\n",
       "  <thead>\n",
       "    <tr style=\"text-align: right;\">\n",
       "      <th></th>\n",
       "      <th>sepal length (cm)</th>\n",
       "      <th>sepal width (cm)</th>\n",
       "      <th>petal length (cm)</th>\n",
       "      <th>petal width (cm)</th>\n",
       "      <th>target</th>\n",
       "    </tr>\n",
       "  </thead>\n",
       "  <tbody>\n",
       "    <tr>\n",
       "      <th>0</th>\n",
       "      <td>5.10</td>\n",
       "      <td>3.50</td>\n",
       "      <td>1.40</td>\n",
       "      <td>0.20</td>\n",
       "      <td>0.00</td>\n",
       "    </tr>\n",
       "    <tr>\n",
       "      <th>1</th>\n",
       "      <td>4.90</td>\n",
       "      <td>3.00</td>\n",
       "      <td>1.40</td>\n",
       "      <td>0.20</td>\n",
       "      <td>0.00</td>\n",
       "    </tr>\n",
       "    <tr>\n",
       "      <th>2</th>\n",
       "      <td>4.70</td>\n",
       "      <td>3.20</td>\n",
       "      <td>1.30</td>\n",
       "      <td>0.20</td>\n",
       "      <td>0.00</td>\n",
       "    </tr>\n",
       "  </tbody>\n",
       "</table>\n",
       "</div>"
      ],
      "text/plain": [
       "     sepal length (cm)     sepal width (cm)    petal length (cm)  \\\n",
       "0                 5.10                 3.50                 1.40   \n",
       "1                 4.90                 3.00                 1.40   \n",
       "2                 4.70                 3.20                 1.30   \n",
       "\n",
       "      petal width (cm)               target  \n",
       "0                 0.20                 0.00  \n",
       "1                 0.20                 0.00  \n",
       "2                 0.20                 0.00  "
      ]
     },
     "execution_count": 54,
     "metadata": {},
     "output_type": "execute_result"
    }
   ],
   "source": [
    "df.head(3)"
   ]
  },
  {
   "cell_type": "code",
   "execution_count": 55,
   "metadata": {},
   "outputs": [
    {
     "data": {
      "text/plain": [
       "array([[5.1, 3.5, 1.4, 0.2],\n",
       "       [4.9, 3. , 1.4, 0.2],\n",
       "       [4.7, 3.2, 1.3, 0.2]])"
      ]
     },
     "execution_count": 55,
     "metadata": {},
     "output_type": "execute_result"
    }
   ],
   "source": [
    "indep = iris.data\n",
    "indep[0:3]"
   ]
  },
  {
   "cell_type": "code",
   "execution_count": 56,
   "metadata": {},
   "outputs": [
    {
     "data": {
      "text/plain": [
       "array([0, 0, 0])"
      ]
     },
     "execution_count": 56,
     "metadata": {},
     "output_type": "execute_result"
    }
   ],
   "source": [
    "dep = iris.target\n",
    "dep[0:3]"
   ]
  },
  {
   "cell_type": "code",
   "execution_count": 156,
   "metadata": {},
   "outputs": [
    {
     "data": {
      "text/plain": [
       "sepal length (cm)    0\n",
       "sepal width (cm)     0\n",
       "petal length (cm)    0\n",
       "petal width (cm)     0\n",
       "target               0\n",
       "dtype: int64"
      ]
     },
     "execution_count": 156,
     "metadata": {},
     "output_type": "execute_result"
    }
   ],
   "source": [
    "pd.isnull(df).sum()"
   ]
  },
  {
   "cell_type": "code",
   "execution_count": 67,
   "metadata": {},
   "outputs": [
    {
     "data": {
      "text/plain": [
       "2.00    50\n",
       "1.00    50\n",
       "0.00    50\n",
       "Name: target, dtype: int64"
      ]
     },
     "execution_count": 67,
     "metadata": {},
     "output_type": "execute_result"
    }
   ],
   "source": [
    "#balanced dataset\n",
    "df.target.value_counts()"
   ]
  },
  {
   "cell_type": "code",
   "execution_count": 157,
   "metadata": {},
   "outputs": [
    {
     "data": {
      "text/html": [
       "<div>\n",
       "<style scoped>\n",
       "    .dataframe tbody tr th:only-of-type {\n",
       "        vertical-align: middle;\n",
       "    }\n",
       "\n",
       "    .dataframe tbody tr th {\n",
       "        vertical-align: top;\n",
       "    }\n",
       "\n",
       "    .dataframe thead th {\n",
       "        text-align: right;\n",
       "    }\n",
       "</style>\n",
       "<table border=\"1\" class=\"dataframe\">\n",
       "  <thead>\n",
       "    <tr style=\"text-align: right;\">\n",
       "      <th></th>\n",
       "      <th>sepal length (cm)</th>\n",
       "      <th>sepal width (cm)</th>\n",
       "      <th>petal length (cm)</th>\n",
       "      <th>petal width (cm)</th>\n",
       "      <th>target</th>\n",
       "    </tr>\n",
       "  </thead>\n",
       "  <tbody>\n",
       "    <tr>\n",
       "      <th>sepal length (cm)</th>\n",
       "      <td>1.00</td>\n",
       "      <td>-0.12</td>\n",
       "      <td>0.87</td>\n",
       "      <td>0.82</td>\n",
       "      <td>0.78</td>\n",
       "    </tr>\n",
       "    <tr>\n",
       "      <th>sepal width (cm)</th>\n",
       "      <td>-0.12</td>\n",
       "      <td>1.00</td>\n",
       "      <td>-0.43</td>\n",
       "      <td>-0.37</td>\n",
       "      <td>-0.43</td>\n",
       "    </tr>\n",
       "    <tr>\n",
       "      <th>petal length (cm)</th>\n",
       "      <td>0.87</td>\n",
       "      <td>-0.43</td>\n",
       "      <td>1.00</td>\n",
       "      <td>0.96</td>\n",
       "      <td>0.95</td>\n",
       "    </tr>\n",
       "    <tr>\n",
       "      <th>petal width (cm)</th>\n",
       "      <td>0.82</td>\n",
       "      <td>-0.37</td>\n",
       "      <td>0.96</td>\n",
       "      <td>1.00</td>\n",
       "      <td>0.96</td>\n",
       "    </tr>\n",
       "    <tr>\n",
       "      <th>target</th>\n",
       "      <td>0.78</td>\n",
       "      <td>-0.43</td>\n",
       "      <td>0.95</td>\n",
       "      <td>0.96</td>\n",
       "      <td>1.00</td>\n",
       "    </tr>\n",
       "  </tbody>\n",
       "</table>\n",
       "</div>"
      ],
      "text/plain": [
       "                     sepal length (cm)     sepal width (cm)  \\\n",
       "sepal length (cm)                 1.00                -0.12   \n",
       "sepal width (cm)                 -0.12                 1.00   \n",
       "petal length (cm)                 0.87                -0.43   \n",
       "petal width (cm)                  0.82                -0.37   \n",
       "target                            0.78                -0.43   \n",
       "\n",
       "                     petal length (cm)     petal width (cm)  \\\n",
       "sepal length (cm)                 0.87                 0.82   \n",
       "sepal width (cm)                 -0.43                -0.37   \n",
       "petal length (cm)                 1.00                 0.96   \n",
       "petal width (cm)                  0.96                 1.00   \n",
       "target                            0.95                 0.96   \n",
       "\n",
       "                                target  \n",
       "sepal length (cm)                 0.78  \n",
       "sepal width (cm)                 -0.43  \n",
       "petal length (cm)                 0.95  \n",
       "petal width (cm)                  0.96  \n",
       "target                            1.00  "
      ]
     },
     "execution_count": 157,
     "metadata": {},
     "output_type": "execute_result"
    }
   ],
   "source": [
    "df.corr(method='pearson')"
   ]
  },
  {
   "cell_type": "code",
   "execution_count": 159,
   "metadata": {},
   "outputs": [
    {
     "data": {
      "text/plain": [
       "petal width (cm)                    0.96\n",
       "petal length (cm)                   0.95\n",
       "sepal length (cm)                   0.78\n",
       "sepal width (cm)                   -0.43\n",
       "Name: target, dtype: float64"
      ]
     },
     "execution_count": 159,
     "metadata": {},
     "output_type": "execute_result"
    }
   ],
   "source": [
    "pearson = df.corr(method='pearson')\n",
    "corr_with_target = pearson.iloc[-1][:-1]\n",
    "corr_with_target[abs(corr_with_target).argsort()[::-1]]"
   ]
  },
  {
   "cell_type": "code",
   "execution_count": 174,
   "metadata": {},
   "outputs": [
    {
     "data": {
      "image/png": "[encoded data removed]",
      "text/plain": [
       "<Figure size 432x288 with 2 Axes>"
      ]
     },
     "metadata": {},
     "output_type": "display_data"
    }
   ],
   "source": [
    "#https://seaborn.pydata.org/generated/seaborn.heatmap.html#seaborn.heatmap\n",
    "import seaborn as sns\n",
    "ax = sns.heatmap(pearson, annot=True, cmap=\"YlOrRd\")"
   ]
  },
  {
   "cell_type": "code",
   "execution_count": 66,
   "metadata": {},
   "outputs": [
    {
     "data": {
      "image/png": "[encoded data removed]"
     },
     "metadata": {},
     "output_type": "display_data"
    }
   ],
   "source": [
    "%%R -i df -w 6 -h 3 --units in -r 100 \n",
    "df$target = factor(df$target)\n",
    "ggplot(df, aes(x = petal.length..cm., y = sepal.length..cm., colour = target)) + \n",
    "  geom_point() + ggtitle('Iris Species by Petal and Sepal Length')"
   ]
  },
  {
   "cell_type": "code",
   "execution_count": 183,
   "metadata": {},
   "outputs": [
    {
     "name": "stderr",
     "output_type": "stream",
     "text": [
      "/opt/conda/lib/python3.6/site-packages/scipy/stats/stats.py:1713: FutureWarning: Using a non-tuple sequence for multidimensional indexing is deprecated; use `arr[tuple(seq)]` instead of `arr[seq]`. In the future this will be interpreted as an array index, `arr[np.array(seq)]`, which will result either in an error or a different result.\n",
      "  return np.add.reduce(sorted[indexer] * weights, axis=axis) / sumval\n",
      "/opt/conda/lib/python3.6/site-packages/statsmodels/nonparametric/kde.py:488: RuntimeWarning: invalid value encountered in true_divide\n",
      "  binned = fast_linbin(X, a, b, gridsize) / (delta * nobs)\n",
      "/opt/conda/lib/python3.6/site-packages/statsmodels/nonparametric/kdetools.py:34: RuntimeWarning: invalid value encountered in double_scalars\n",
      "  FAC1 = 2*(np.pi*bw/RANGE)**2\n",
      "/opt/conda/lib/python3.6/site-packages/numpy/core/fromnumeric.py:83: RuntimeWarning: invalid value encountered in reduce\n",
      "  else:\n"
     ]
    },
    {
     "data": {
      "text/plain": [
       "<seaborn.axisgrid.PairGrid at 0x7fb12b27b978>"
      ]
     },
     "execution_count": 183,
     "metadata": {},
     "output_type": "execute_result"
    },
    {
     "data": {
      "image/png": "[encoded data removed]",
      "text/plain": [
       "<Figure size 596.975x540 with 30 Axes>"
      ]
     },
     "metadata": {},
     "output_type": "display_data"
    }
   ],
   "source": [
    "sns.pairplot(df, height=1.5, hue=\"target\")"
   ]
  },
  {
   "cell_type": "code",
   "execution_count": null,
   "metadata": {},
   "outputs": [],
   "source": []
  },
  {
   "cell_type": "code",
   "execution_count": null,
   "metadata": {},
   "outputs": [],
   "source": []
  },
  {
   "cell_type": "markdown",
   "metadata": {},
   "source": [
    "# Prepare"
   ]
  },
  {
   "cell_type": "code",
   "execution_count": 69,
   "metadata": {},
   "outputs": [],
   "source": [
    "from sklearn.preprocessing import LabelEncoder\n",
    "\n",
    "enc = LabelEncoder()\n",
    "target = enc.fit_transform(iris.target)"
   ]
  },
  {
   "cell_type": "code",
   "execution_count": 80,
   "metadata": {},
   "outputs": [],
   "source": [
    "from sklearn.model_selection import train_test_split\n",
    "X_train, X_test, y_train, y_test = train_test_split(iris.data, target, test_size=0.2)"
   ]
  },
  {
   "cell_type": "code",
   "execution_count": null,
   "metadata": {},
   "outputs": [],
   "source": []
  },
  {
   "cell_type": "code",
   "execution_count": null,
   "metadata": {},
   "outputs": [],
   "source": []
  },
  {
   "cell_type": "markdown",
   "metadata": {},
   "source": [
    "# Model: sklearn"
   ]
  },
  {
   "cell_type": "code",
   "execution_count": 117,
   "metadata": {},
   "outputs": [
    {
     "data": {
      "text/plain": [
       "GridSearchCV(cv=5, error_score='raise-deprecating',\n",
       "       estimator=DecisionTreeClassifier(class_weight=None, criterion='gini', max_depth=None,\n",
       "            max_features=None, max_leaf_nodes=None,\n",
       "            min_impurity_decrease=0.0, min_impurity_split=None,\n",
       "            min_samples_leaf=1, min_samples_split=2,\n",
       "            min_weight_fraction_leaf=0.0, presort=False, random_state=None,\n",
       "            splitter='best'),\n",
       "       fit_params=None, iid=True, n_jobs=None,\n",
       "       param_grid={'max_depth': [3, 5, 7]}, pre_dispatch='2*n_jobs',\n",
       "       refit=True, return_train_score='warn', scoring='accuracy',\n",
       "       verbose=0)"
      ]
     },
     "execution_count": 117,
     "metadata": {},
     "output_type": "execute_result"
    }
   ],
   "source": [
    "from sklearn.tree import DecisionTreeClassifier\n",
    "from sklearn.model_selection import GridSearchCV\n",
    "\n",
    "tree = DecisionTreeClassifier()\n",
    "param_grid = {\"max_depth\": [3, 5, 7]}\n",
    "tree_gs = GridSearchCV(tree, param_grid, iid=True, cv=5, scoring=\"accuracy\")\n",
    "tree_gs.fit(X_train, y_train)"
   ]
  },
  {
   "cell_type": "code",
   "execution_count": 104,
   "metadata": {},
   "outputs": [
    {
     "name": "stdout",
     "output_type": "stream",
     "text": [
      "{'max_depth': 3}\n",
      "Best parameter (CV score=0.950):\n"
     ]
    }
   ],
   "source": [
    "print(tree_gs.best_params_)\n",
    "#GridSearchCV: Mean cross-validated score of the best_estimator\n",
    "#SGDClassifier: Returns the mean accuracy on the given test data and labels\n",
    "print(\"Best parameter (CV score=%0.3f):\" % tree_gs.best_score_)"
   ]
  },
  {
   "cell_type": "code",
   "execution_count": 105,
   "metadata": {},
   "outputs": [
    {
     "name": "stdout",
     "output_type": "stream",
     "text": [
      "Confusion matrix: Testing\n"
     ]
    },
    {
     "data": {
      "text/plain": [
       "array([[ 7,  0,  0],\n",
       "       [ 0,  9,  1],\n",
       "       [ 0,  0, 13]])"
      ]
     },
     "execution_count": 105,
     "metadata": {},
     "output_type": "execute_result"
    }
   ],
   "source": [
    "from sklearn.metrics import confusion_matrix\n",
    "y_test_pred = tree_gs.predict(X_test)\n",
    "print( \"Confusion matrix: Testing\")\n",
    "confusion_matrix(y_test, y_test_pred)"
   ]
  },
  {
   "cell_type": "code",
   "execution_count": 113,
   "metadata": {},
   "outputs": [
    {
     "name": "stdout",
     "output_type": "stream",
     "text": [
      "              precision    recall  f1-score   support\n",
      "\n",
      "      setosa       1.00      1.00      1.00         7\n",
      "  versicolor       1.00      0.90      0.95        10\n",
      "   virginica       0.93      1.00      0.96        13\n",
      "\n",
      "   micro avg       0.97      0.97      0.97        30\n",
      "   macro avg       0.98      0.97      0.97        30\n",
      "weighted avg       0.97      0.97      0.97        30\n",
      "\n"
     ]
    }
   ],
   "source": [
    "from sklearn.metrics import classification_report\n",
    "target_names = ['class 0', 'class 1', 'class 2']\n",
    "print(classification_report(y_test, y_test_pred, target_names=iris.target_names))"
   ]
  },
  {
   "cell_type": "code",
   "execution_count": 131,
   "metadata": {},
   "outputs": [
    {
     "data": {
      "image/svg+xml": [
       "<svg height=\"552pt\" viewBox=\"0.00 0.00 947.00 552.00\" width=\"947pt\" xmlns=\"http://www.w3.org/2000/svg\" xmlns:xlink=\"http://www.w3.org/1999/xlink\">\n",
       "<g class=\"graph\" id=\"graph0\" transform=\"scale(1 1) rotate(0) translate(4 548)\">\n",
       "<title>Tree</title>\n",
       "<polygon fill=\"white\" points=\"-4,4 -4,-548 943,-548 943,4 -4,4\" stroke=\"none\"/>\n",
       "<!-- 0 -->\n",
       "<g class=\"node\" id=\"node1\"><title>0</title>\n",
       "<path d=\"M556.5,-544C556.5,-544 404.5,-544 404.5,-544 398.5,-544 392.5,-538 392.5,-532 392.5,-532 392.5,-473 392.5,-473 392.5,-467 398.5,-461 404.5,-461 404.5,-461 556.5,-461 556.5,-461 562.5,-461 568.5,-467 568.5,-473 568.5,-473 568.5,-532 568.5,-532 568.5,-538 562.5,-544 556.5,-544\" fill=\"#e58139\" fill-opacity=\"0.039216\" stroke=\"black\"/>\n",
       "<text font-family=\"Helvetica,sans-Serif\" font-size=\"14.00\" text-anchor=\"start\" x=\"400.5\" y=\"-528.8\">petal width (cm) ≤ 0.8</text>\n",
       "<text font-family=\"Helvetica,sans-Serif\" font-size=\"14.00\" text-anchor=\"start\" x=\"436.5\" y=\"-513.8\">gini = 0.665</text>\n",
       "<text font-family=\"Helvetica,sans-Serif\" font-size=\"14.00\" text-anchor=\"start\" x=\"426\" y=\"-498.8\">samples = 120</text>\n",
       "<text font-family=\"Helvetica,sans-Serif\" font-size=\"14.00\" text-anchor=\"start\" x=\"409\" y=\"-483.8\">value = [43, 40, 37]</text>\n",
       "<text font-family=\"Helvetica,sans-Serif\" font-size=\"14.00\" text-anchor=\"start\" x=\"428.5\" y=\"-468.8\">class = setosa</text>\n",
       "</g>\n",
       "<!-- 1 -->\n",
       "<g class=\"node\" id=\"node2\"><title>1</title>\n",
       "<path d=\"M449,-417.5C449,-417.5 332,-417.5 332,-417.5 326,-417.5 320,-411.5 320,-405.5 320,-405.5 320,-361.5 320,-361.5 320,-355.5 326,-349.5 332,-349.5 332,-349.5 449,-349.5 449,-349.5 455,-349.5 461,-355.5 461,-361.5 461,-361.5 461,-405.5 461,-405.5 461,-411.5 455,-417.5 449,-417.5\" fill=\"#e58139\" stroke=\"black\"/>\n",
       "<text font-family=\"Helvetica,sans-Serif\" font-size=\"14.00\" text-anchor=\"start\" x=\"355.5\" y=\"-402.3\">gini = 0.0</text>\n",
       "<text font-family=\"Helvetica,sans-Serif\" font-size=\"14.00\" text-anchor=\"start\" x=\"340.5\" y=\"-387.3\">samples = 43</text>\n",
       "<text font-family=\"Helvetica,sans-Serif\" font-size=\"14.00\" text-anchor=\"start\" x=\"328\" y=\"-372.3\">value = [43, 0, 0]</text>\n",
       "<text font-family=\"Helvetica,sans-Serif\" font-size=\"14.00\" text-anchor=\"start\" x=\"338.5\" y=\"-357.3\">class = setosa</text>\n",
       "</g>\n",
       "<!-- 0&#45;&gt;1 -->\n",
       "<g class=\"edge\" id=\"edge1\"><title>0-&gt;1</title>\n",
       "<path d=\"M449.275,-460.907C440.532,-449.542 431.022,-437.178 422.249,-425.774\" fill=\"none\" stroke=\"black\"/>\n",
       "<polygon fill=\"black\" points=\"424.884,-423.459 416.013,-417.667 419.336,-427.727 424.884,-423.459\" stroke=\"black\"/>\n",
       "<text font-family=\"Helvetica,sans-Serif\" font-size=\"14.00\" text-anchor=\"middle\" x=\"412.78\" y=\"-438.757\">True</text>\n",
       "</g>\n",
       "<!-- 2 -->\n",
       "<g class=\"node\" id=\"node3\"><title>2</title>\n",
       "<path d=\"M652,-425C652,-425 491,-425 491,-425 485,-425 479,-419 479,-413 479,-413 479,-354 479,-354 479,-348 485,-342 491,-342 491,-342 652,-342 652,-342 658,-342 664,-348 664,-354 664,-354 664,-413 664,-413 664,-419 658,-425 652,-425\" fill=\"#39e581\" fill-opacity=\"0.074510\" stroke=\"black\"/>\n",
       "<text font-family=\"Helvetica,sans-Serif\" font-size=\"14.00\" text-anchor=\"start\" x=\"487\" y=\"-409.8\">petal width (cm) ≤ 1.75</text>\n",
       "<text font-family=\"Helvetica,sans-Serif\" font-size=\"14.00\" text-anchor=\"start\" x=\"527.5\" y=\"-394.8\">gini = 0.499</text>\n",
       "<text font-family=\"Helvetica,sans-Serif\" font-size=\"14.00\" text-anchor=\"start\" x=\"521.5\" y=\"-379.8\">samples = 77</text>\n",
       "<text font-family=\"Helvetica,sans-Serif\" font-size=\"14.00\" text-anchor=\"start\" x=\"504.5\" y=\"-364.8\">value = [0, 40, 37]</text>\n",
       "<text font-family=\"Helvetica,sans-Serif\" font-size=\"14.00\" text-anchor=\"start\" x=\"508\" y=\"-349.8\">class = versicolor</text>\n",
       "</g>\n",
       "<!-- 0&#45;&gt;2 -->\n",
       "<g class=\"edge\" id=\"edge2\"><title>0-&gt;2</title>\n",
       "<path d=\"M512.072,-460.907C519.06,-451.923 526.533,-442.315 533.739,-433.05\" fill=\"none\" stroke=\"black\"/>\n",
       "<polygon fill=\"black\" points=\"536.607,-435.063 539.984,-425.021 531.082,-430.766 536.607,-435.063\" stroke=\"black\"/>\n",
       "<text font-family=\"Helvetica,sans-Serif\" font-size=\"14.00\" text-anchor=\"middle\" x=\"543.085\" y=\"-446.128\">False</text>\n",
       "</g>\n",
       "<!-- 3 -->\n",
       "<g class=\"node\" id=\"node4\"><title>3</title>\n",
       "<path d=\"M537,-306C537,-306 370,-306 370,-306 364,-306 358,-300 358,-294 358,-294 358,-235 358,-235 358,-229 364,-223 370,-223 370,-223 537,-223 537,-223 543,-223 549,-229 549,-235 549,-235 549,-294 549,-294 549,-300 543,-306 537,-306\" fill=\"#39e581\" fill-opacity=\"0.898039\" stroke=\"black\"/>\n",
       "<text font-family=\"Helvetica,sans-Serif\" font-size=\"14.00\" text-anchor=\"start\" x=\"366\" y=\"-290.8\">petal length (cm) ≤ 4.95</text>\n",
       "<text font-family=\"Helvetica,sans-Serif\" font-size=\"14.00\" text-anchor=\"start\" x=\"409.5\" y=\"-275.8\">gini = 0.169</text>\n",
       "<text font-family=\"Helvetica,sans-Serif\" font-size=\"14.00\" text-anchor=\"start\" x=\"403.5\" y=\"-260.8\">samples = 43</text>\n",
       "<text font-family=\"Helvetica,sans-Serif\" font-size=\"14.00\" text-anchor=\"start\" x=\"391\" y=\"-245.8\">value = [0, 39, 4]</text>\n",
       "<text font-family=\"Helvetica,sans-Serif\" font-size=\"14.00\" text-anchor=\"start\" x=\"390\" y=\"-230.8\">class = versicolor</text>\n",
       "</g>\n",
       "<!-- 2&#45;&gt;3 -->\n",
       "<g class=\"edge\" id=\"edge3\"><title>2-&gt;3</title>\n",
       "<path d=\"M530.56,-341.907C521.225,-332.651 511.221,-322.732 501.617,-313.209\" fill=\"none\" stroke=\"black\"/>\n",
       "<polygon fill=\"black\" points=\"503.933,-310.576 494.367,-306.021 499.004,-315.547 503.933,-310.576\" stroke=\"black\"/>\n",
       "</g>\n",
       "<!-- 10 -->\n",
       "<g class=\"node\" id=\"node11\"><title>10</title>\n",
       "<path d=\"M774,-306C774,-306 607,-306 607,-306 601,-306 595,-300 595,-294 595,-294 595,-235 595,-235 595,-229 601,-223 607,-223 607,-223 774,-223 774,-223 780,-223 786,-229 786,-235 786,-235 786,-294 786,-294 786,-300 780,-306 774,-306\" fill=\"#8139e5\" fill-opacity=\"0.968627\" stroke=\"black\"/>\n",
       "<text font-family=\"Helvetica,sans-Serif\" font-size=\"14.00\" text-anchor=\"start\" x=\"603\" y=\"-290.8\">petal length (cm) ≤ 4.85</text>\n",
       "<text font-family=\"Helvetica,sans-Serif\" font-size=\"14.00\" text-anchor=\"start\" x=\"646.5\" y=\"-275.8\">gini = 0.057</text>\n",
       "<text font-family=\"Helvetica,sans-Serif\" font-size=\"14.00\" text-anchor=\"start\" x=\"640.5\" y=\"-260.8\">samples = 34</text>\n",
       "<text font-family=\"Helvetica,sans-Serif\" font-size=\"14.00\" text-anchor=\"start\" x=\"628\" y=\"-245.8\">value = [0, 1, 33]</text>\n",
       "<text font-family=\"Helvetica,sans-Serif\" font-size=\"14.00\" text-anchor=\"start\" x=\"632\" y=\"-230.8\">class = virginica</text>\n",
       "</g>\n",
       "<!-- 2&#45;&gt;10 -->\n",
       "<g class=\"edge\" id=\"edge10\"><title>2-&gt;10</title>\n",
       "<path d=\"M612.786,-341.907C622.201,-332.651 632.289,-322.732 641.976,-313.209\" fill=\"none\" stroke=\"black\"/>\n",
       "<polygon fill=\"black\" points=\"644.61,-315.527 649.287,-306.021 639.702,-310.536 644.61,-315.527\" stroke=\"black\"/>\n",
       "</g>\n",
       "<!-- 4 -->\n",
       "<g class=\"node\" id=\"node5\"><title>4</title>\n",
       "<path d=\"M307.5,-187C307.5,-187 137.5,-187 137.5,-187 131.5,-187 125.5,-181 125.5,-175 125.5,-175 125.5,-116 125.5,-116 125.5,-110 131.5,-104 137.5,-104 137.5,-104 307.5,-104 307.5,-104 313.5,-104 319.5,-110 319.5,-116 319.5,-116 319.5,-175 319.5,-175 319.5,-181 313.5,-187 307.5,-187\" fill=\"#39e581\" fill-opacity=\"0.972549\" stroke=\"black\"/>\n",
       "<text font-family=\"Helvetica,sans-Serif\" font-size=\"14.00\" text-anchor=\"start\" x=\"133.5\" y=\"-171.8\">sepal length (cm) ≤ 4.95</text>\n",
       "<text font-family=\"Helvetica,sans-Serif\" font-size=\"14.00\" text-anchor=\"start\" x=\"183\" y=\"-156.8\">gini = 0.05</text>\n",
       "<text font-family=\"Helvetica,sans-Serif\" font-size=\"14.00\" text-anchor=\"start\" x=\"172.5\" y=\"-141.8\">samples = 39</text>\n",
       "<text font-family=\"Helvetica,sans-Serif\" font-size=\"14.00\" text-anchor=\"start\" x=\"160\" y=\"-126.8\">value = [0, 38, 1]</text>\n",
       "<text font-family=\"Helvetica,sans-Serif\" font-size=\"14.00\" text-anchor=\"start\" x=\"159\" y=\"-111.8\">class = versicolor</text>\n",
       "</g>\n",
       "<!-- 3&#45;&gt;4 -->\n",
       "<g class=\"edge\" id=\"edge4\"><title>3-&gt;4</title>\n",
       "<path d=\"M373.356,-222.907C353.378,-212.789 331.838,-201.879 311.463,-191.559\" fill=\"none\" stroke=\"black\"/>\n",
       "<polygon fill=\"black\" points=\"313.005,-188.417 302.503,-187.021 309.842,-194.662 313.005,-188.417\" stroke=\"black\"/>\n",
       "</g>\n",
       "<!-- 7 -->\n",
       "<g class=\"node\" id=\"node8\"><title>7</title>\n",
       "<path d=\"M529.5,-187C529.5,-187 377.5,-187 377.5,-187 371.5,-187 365.5,-181 365.5,-175 365.5,-175 365.5,-116 365.5,-116 365.5,-110 371.5,-104 377.5,-104 377.5,-104 529.5,-104 529.5,-104 535.5,-104 541.5,-110 541.5,-116 541.5,-116 541.5,-175 541.5,-175 541.5,-181 535.5,-187 529.5,-187\" fill=\"#8139e5\" fill-opacity=\"0.666667\" stroke=\"black\"/>\n",
       "<text font-family=\"Helvetica,sans-Serif\" font-size=\"14.00\" text-anchor=\"start\" x=\"373.5\" y=\"-171.8\">petal width (cm) ≤ 1.6</text>\n",
       "<text font-family=\"Helvetica,sans-Serif\" font-size=\"14.00\" text-anchor=\"start\" x=\"409.5\" y=\"-156.8\">gini = 0.375</text>\n",
       "<text font-family=\"Helvetica,sans-Serif\" font-size=\"14.00\" text-anchor=\"start\" x=\"408\" y=\"-141.8\">samples = 4</text>\n",
       "<text font-family=\"Helvetica,sans-Serif\" font-size=\"14.00\" text-anchor=\"start\" x=\"395.5\" y=\"-126.8\">value = [0, 1, 3]</text>\n",
       "<text font-family=\"Helvetica,sans-Serif\" font-size=\"14.00\" text-anchor=\"start\" x=\"395\" y=\"-111.8\">class = virginica</text>\n",
       "</g>\n",
       "<!-- 3&#45;&gt;7 -->\n",
       "<g class=\"edge\" id=\"edge7\"><title>3-&gt;7</title>\n",
       "<path d=\"M453.5,-222.907C453.5,-214.649 453.5,-205.864 453.5,-197.302\" fill=\"none\" stroke=\"black\"/>\n",
       "<polygon fill=\"black\" points=\"457,-197.021 453.5,-187.021 450,-197.021 457,-197.021\" stroke=\"black\"/>\n",
       "</g>\n",
       "<!-- 5 -->\n",
       "<g class=\"node\" id=\"node6\"><title>5</title>\n",
       "<path d=\"M121,-68C121,-68 12,-68 12,-68 6,-68 0,-62 0,-56 0,-56 0,-12 0,-12 0,-6 6,-0 12,-0 12,-0 121,-0 121,-0 127,-0 133,-6 133,-12 133,-12 133,-56 133,-56 133,-62 127,-68 121,-68\" fill=\"#8139e5\" stroke=\"black\"/>\n",
       "<text font-family=\"Helvetica,sans-Serif\" font-size=\"14.00\" text-anchor=\"start\" x=\"31.5\" y=\"-52.8\">gini = 0.0</text>\n",
       "<text font-family=\"Helvetica,sans-Serif\" font-size=\"14.00\" text-anchor=\"start\" x=\"21\" y=\"-37.8\">samples = 1</text>\n",
       "<text font-family=\"Helvetica,sans-Serif\" font-size=\"14.00\" text-anchor=\"start\" x=\"8.5\" y=\"-22.8\">value = [0, 0, 1]</text>\n",
       "<text font-family=\"Helvetica,sans-Serif\" font-size=\"14.00\" text-anchor=\"start\" x=\"8\" y=\"-7.8\">class = virginica</text>\n",
       "</g>\n",
       "<!-- 4&#45;&gt;5 -->\n",
       "<g class=\"edge\" id=\"edge5\"><title>4-&gt;5</title>\n",
       "<path d=\"M164.411,-103.726C150.638,-94.0582 135.976,-83.767 122.307,-74.172\" fill=\"none\" stroke=\"black\"/>\n",
       "<polygon fill=\"black\" points=\"124.136,-71.1801 113.941,-68.2996 120.115,-76.9096 124.136,-71.1801\" stroke=\"black\"/>\n",
       "</g>\n",
       "<!-- 6 -->\n",
       "<g class=\"node\" id=\"node7\"><title>6</title>\n",
       "<path d=\"M282,-68C282,-68 163,-68 163,-68 157,-68 151,-62 151,-56 151,-56 151,-12 151,-12 151,-6 157,-0 163,-0 163,-0 282,-0 282,-0 288,-0 294,-6 294,-12 294,-12 294,-56 294,-56 294,-62 288,-68 282,-68\" fill=\"#39e581\" stroke=\"black\"/>\n",
       "<text font-family=\"Helvetica,sans-Serif\" font-size=\"14.00\" text-anchor=\"start\" x=\"187.5\" y=\"-52.8\">gini = 0.0</text>\n",
       "<text font-family=\"Helvetica,sans-Serif\" font-size=\"14.00\" text-anchor=\"start\" x=\"172.5\" y=\"-37.8\">samples = 38</text>\n",
       "<text font-family=\"Helvetica,sans-Serif\" font-size=\"14.00\" text-anchor=\"start\" x=\"160\" y=\"-22.8\">value = [0, 38, 0]</text>\n",
       "<text font-family=\"Helvetica,sans-Serif\" font-size=\"14.00\" text-anchor=\"start\" x=\"159\" y=\"-7.8\">class = versicolor</text>\n",
       "</g>\n",
       "<!-- 4&#45;&gt;6 -->\n",
       "<g class=\"edge\" id=\"edge6\"><title>4-&gt;6</title>\n",
       "<path d=\"M222.5,-103.726C222.5,-95.5175 222.5,-86.8595 222.5,-78.56\" fill=\"none\" stroke=\"black\"/>\n",
       "<polygon fill=\"black\" points=\"226,-78.2996 222.5,-68.2996 219,-78.2996 226,-78.2996\" stroke=\"black\"/>\n",
       "</g>\n",
       "<!-- 8 -->\n",
       "<g class=\"node\" id=\"node9\"><title>8</title>\n",
       "<path d=\"M433,-68C433,-68 324,-68 324,-68 318,-68 312,-62 312,-56 312,-56 312,-12 312,-12 312,-6 318,-0 324,-0 324,-0 433,-0 433,-0 439,-0 445,-6 445,-12 445,-12 445,-56 445,-56 445,-62 439,-68 433,-68\" fill=\"#8139e5\" stroke=\"black\"/>\n",
       "<text font-family=\"Helvetica,sans-Serif\" font-size=\"14.00\" text-anchor=\"start\" x=\"343.5\" y=\"-52.8\">gini = 0.0</text>\n",
       "<text font-family=\"Helvetica,sans-Serif\" font-size=\"14.00\" text-anchor=\"start\" x=\"333\" y=\"-37.8\">samples = 3</text>\n",
       "<text font-family=\"Helvetica,sans-Serif\" font-size=\"14.00\" text-anchor=\"start\" x=\"320.5\" y=\"-22.8\">value = [0, 0, 3]</text>\n",
       "<text font-family=\"Helvetica,sans-Serif\" font-size=\"14.00\" text-anchor=\"start\" x=\"320\" y=\"-7.8\">class = virginica</text>\n",
       "</g>\n",
       "<!-- 7&#45;&gt;8 -->\n",
       "<g class=\"edge\" id=\"edge8\"><title>7-&gt;8</title>\n",
       "<path d=\"M425.573,-103.726C419.513,-94.879 413.096,-85.51 407.014,-76.6303\" fill=\"none\" stroke=\"black\"/>\n",
       "<polygon fill=\"black\" points=\"409.846,-74.5721 401.308,-68.2996 404.071,-78.5277 409.846,-74.5721\" stroke=\"black\"/>\n",
       "</g>\n",
       "<!-- 9 -->\n",
       "<g class=\"node\" id=\"node10\"><title>9</title>\n",
       "<path d=\"M594,-68C594,-68 475,-68 475,-68 469,-68 463,-62 463,-56 463,-56 463,-12 463,-12 463,-6 469,-0 475,-0 475,-0 594,-0 594,-0 600,-0 606,-6 606,-12 606,-12 606,-56 606,-56 606,-62 600,-68 594,-68\" fill=\"#39e581\" stroke=\"black\"/>\n",
       "<text font-family=\"Helvetica,sans-Serif\" font-size=\"14.00\" text-anchor=\"start\" x=\"499.5\" y=\"-52.8\">gini = 0.0</text>\n",
       "<text font-family=\"Helvetica,sans-Serif\" font-size=\"14.00\" text-anchor=\"start\" x=\"489\" y=\"-37.8\">samples = 1</text>\n",
       "<text font-family=\"Helvetica,sans-Serif\" font-size=\"14.00\" text-anchor=\"start\" x=\"476.5\" y=\"-22.8\">value = [0, 1, 0]</text>\n",
       "<text font-family=\"Helvetica,sans-Serif\" font-size=\"14.00\" text-anchor=\"start\" x=\"471\" y=\"-7.8\">class = versicolor</text>\n",
       "</g>\n",
       "<!-- 7&#45;&gt;9 -->\n",
       "<g class=\"edge\" id=\"edge9\"><title>7-&gt;9</title>\n",
       "<path d=\"M483.661,-103.726C490.273,-94.7878 497.279,-85.3168 503.908,-76.3558\" fill=\"none\" stroke=\"black\"/>\n",
       "<polygon fill=\"black\" points=\"506.734,-78.4206 509.867,-68.2996 501.107,-74.2576 506.734,-78.4206\" stroke=\"black\"/>\n",
       "</g>\n",
       "<!-- 11 -->\n",
       "<g class=\"node\" id=\"node12\"><title>11</title>\n",
       "<path d=\"M768,-187C768,-187 613,-187 613,-187 607,-187 601,-181 601,-175 601,-175 601,-116 601,-116 601,-110 607,-104 613,-104 613,-104 768,-104 768,-104 774,-104 780,-110 780,-116 780,-116 780,-175 780,-175 780,-181 774,-187 768,-187\" fill=\"none\" stroke=\"black\"/>\n",
       "<text font-family=\"Helvetica,sans-Serif\" font-size=\"14.00\" text-anchor=\"start\" x=\"609\" y=\"-171.8\">sepal width (cm) ≤ 3.1</text>\n",
       "<text font-family=\"Helvetica,sans-Serif\" font-size=\"14.00\" text-anchor=\"start\" x=\"655.5\" y=\"-156.8\">gini = 0.5</text>\n",
       "<text font-family=\"Helvetica,sans-Serif\" font-size=\"14.00\" text-anchor=\"start\" x=\"645\" y=\"-141.8\">samples = 2</text>\n",
       "<text font-family=\"Helvetica,sans-Serif\" font-size=\"14.00\" text-anchor=\"start\" x=\"632.5\" y=\"-126.8\">value = [0, 1, 1]</text>\n",
       "<text font-family=\"Helvetica,sans-Serif\" font-size=\"14.00\" text-anchor=\"start\" x=\"627\" y=\"-111.8\">class = versicolor</text>\n",
       "</g>\n",
       "<!-- 10&#45;&gt;11 -->\n",
       "<g class=\"edge\" id=\"edge11\"><title>10-&gt;11</title>\n",
       "<path d=\"M690.5,-222.907C690.5,-214.649 690.5,-205.864 690.5,-197.302\" fill=\"none\" stroke=\"black\"/>\n",
       "<polygon fill=\"black\" points=\"694,-197.021 690.5,-187.021 687,-197.021 694,-197.021\" stroke=\"black\"/>\n",
       "</g>\n",
       "<!-- 14 -->\n",
       "<g class=\"node\" id=\"node15\"><title>14</title>\n",
       "<path d=\"M927,-179.5C927,-179.5 810,-179.5 810,-179.5 804,-179.5 798,-173.5 798,-167.5 798,-167.5 798,-123.5 798,-123.5 798,-117.5 804,-111.5 810,-111.5 810,-111.5 927,-111.5 927,-111.5 933,-111.5 939,-117.5 939,-123.5 939,-123.5 939,-167.5 939,-167.5 939,-173.5 933,-179.5 927,-179.5\" fill=\"#8139e5\" stroke=\"black\"/>\n",
       "<text font-family=\"Helvetica,sans-Serif\" font-size=\"14.00\" text-anchor=\"start\" x=\"833.5\" y=\"-164.3\">gini = 0.0</text>\n",
       "<text font-family=\"Helvetica,sans-Serif\" font-size=\"14.00\" text-anchor=\"start\" x=\"818.5\" y=\"-149.3\">samples = 32</text>\n",
       "<text font-family=\"Helvetica,sans-Serif\" font-size=\"14.00\" text-anchor=\"start\" x=\"806\" y=\"-134.3\">value = [0, 0, 32]</text>\n",
       "<text font-family=\"Helvetica,sans-Serif\" font-size=\"14.00\" text-anchor=\"start\" x=\"810\" y=\"-119.3\">class = virginica</text>\n",
       "</g>\n",
       "<!-- 10&#45;&gt;14 -->\n",
       "<g class=\"edge\" id=\"edge14\"><title>10-&gt;14</title>\n",
       "<path d=\"M752.256,-222.907C770.722,-210.769 790.921,-197.493 809.224,-185.462\" fill=\"none\" stroke=\"black\"/>\n",
       "<polygon fill=\"black\" points=\"811.607,-188.084 818.041,-179.667 807.762,-182.235 811.607,-188.084\" stroke=\"black\"/>\n",
       "</g>\n",
       "<!-- 12 -->\n",
       "<g class=\"node\" id=\"node13\"><title>12</title>\n",
       "<path d=\"M745,-68C745,-68 636,-68 636,-68 630,-68 624,-62 624,-56 624,-56 624,-12 624,-12 624,-6 630,-0 636,-0 636,-0 745,-0 745,-0 751,-0 757,-6 757,-12 757,-12 757,-56 757,-56 757,-62 751,-68 745,-68\" fill=\"#8139e5\" stroke=\"black\"/>\n",
       "<text font-family=\"Helvetica,sans-Serif\" font-size=\"14.00\" text-anchor=\"start\" x=\"655.5\" y=\"-52.8\">gini = 0.0</text>\n",
       "<text font-family=\"Helvetica,sans-Serif\" font-size=\"14.00\" text-anchor=\"start\" x=\"645\" y=\"-37.8\">samples = 1</text>\n",
       "<text font-family=\"Helvetica,sans-Serif\" font-size=\"14.00\" text-anchor=\"start\" x=\"632.5\" y=\"-22.8\">value = [0, 0, 1]</text>\n",
       "<text font-family=\"Helvetica,sans-Serif\" font-size=\"14.00\" text-anchor=\"start\" x=\"632\" y=\"-7.8\">class = virginica</text>\n",
       "</g>\n",
       "<!-- 11&#45;&gt;12 -->\n",
       "<g class=\"edge\" id=\"edge12\"><title>11-&gt;12</title>\n",
       "<path d=\"M690.5,-103.726C690.5,-95.5175 690.5,-86.8595 690.5,-78.56\" fill=\"none\" stroke=\"black\"/>\n",
       "<polygon fill=\"black\" points=\"694,-78.2996 690.5,-68.2996 687,-78.2996 694,-78.2996\" stroke=\"black\"/>\n",
       "</g>\n",
       "<!-- 13 -->\n",
       "<g class=\"node\" id=\"node14\"><title>13</title>\n",
       "<path d=\"M906,-68C906,-68 787,-68 787,-68 781,-68 775,-62 775,-56 775,-56 775,-12 775,-12 775,-6 781,-0 787,-0 787,-0 906,-0 906,-0 912,-0 918,-6 918,-12 918,-12 918,-56 918,-56 918,-62 912,-68 906,-68\" fill=\"#39e581\" stroke=\"black\"/>\n",
       "<text font-family=\"Helvetica,sans-Serif\" font-size=\"14.00\" text-anchor=\"start\" x=\"811.5\" y=\"-52.8\">gini = 0.0</text>\n",
       "<text font-family=\"Helvetica,sans-Serif\" font-size=\"14.00\" text-anchor=\"start\" x=\"801\" y=\"-37.8\">samples = 1</text>\n",
       "<text font-family=\"Helvetica,sans-Serif\" font-size=\"14.00\" text-anchor=\"start\" x=\"788.5\" y=\"-22.8\">value = [0, 1, 0]</text>\n",
       "<text font-family=\"Helvetica,sans-Serif\" font-size=\"14.00\" text-anchor=\"start\" x=\"783\" y=\"-7.8\">class = versicolor</text>\n",
       "</g>\n",
       "<!-- 11&#45;&gt;13 -->\n",
       "<g class=\"edge\" id=\"edge13\"><title>11-&gt;13</title>\n",
       "<path d=\"M748.589,-103.726C762.362,-94.0582 777.024,-83.767 790.693,-74.172\" fill=\"none\" stroke=\"black\"/>\n",
       "<polygon fill=\"black\" points=\"792.885,-76.9096 799.059,-68.2996 788.864,-71.1801 792.885,-76.9096\" stroke=\"black\"/>\n",
       "</g>\n",
       "</g>\n",
       "</svg>"
      ],
      "text/plain": [
       "<IPython.core.display.SVG object>"
      ]
     },
     "metadata": {},
     "output_type": "display_data"
    }
   ],
   "source": [
    "#https://towardsdatascience.com/interactive-visualization-of-decision-trees-with-jupyter-widgets-ca15dd312084\n",
    "from sklearn.tree import export_graphviz\n",
    "from IPython.display import SVG\n",
    "from graphviz import Source\n",
    "from IPython.display import display\n",
    "\n",
    "graph = Source(sklearn.tree.export_graphviz(tree_gs.best_estimator_\n",
    "   , out_file=None\n",
    "   , feature_names=iris.feature_names, class_names=iris.target_names\n",
    "   , filled=True, rounded=True, special_characters=True))\n",
    "\n",
    "display(SVG(graph.pipe(format='svg')))"
   ]
  },
  {
   "cell_type": "code",
   "execution_count": null,
   "metadata": {},
   "outputs": [],
   "source": []
  },
  {
   "cell_type": "markdown",
   "metadata": {},
   "source": [
    "# Model: R Programming"
   ]
  },
  {
   "cell_type": "code",
   "execution_count": 185,
   "metadata": {},
   "outputs": [
    {
     "name": "stderr",
     "output_type": "stream",
     "text": [
      "/opt/conda/lib/python3.6/site-packages/rpy2/rinterface/__init__.py:146: RRuntimeWarning: Loading required package: lattice\n",
      "\n",
      "  warnings.warn(x, RRuntimeWarning)\n"
     ]
    },
    {
     "data": {
      "text/plain": [
       "[1] \"summarize the fit\"\n",
       "Call:\n",
       "rpart(formula = target ~ ., data = train)\n",
       "  n= 120 \n",
       "\n",
       "         CP nsplit  rel error    xerror       xstd\n",
       "1 0.5256410      0 1.00000000 1.0897436 0.06383491\n",
       "2 0.4102564      1 0.47435897 0.5384615 0.06698641\n",
       "3 0.0100000      2 0.06410256 0.1025641 0.03503231\n",
       "\n",
       "Variable importance\n",
       " petal_width petal_length sepal_length  sepal_width \n",
       "          34           30           21           15 \n",
       "\n",
       "Node number 1: 120 observations,    complexity param=0.525641\n",
       "  predicted class=0  expected loss=0.65  P(node) =1\n",
       "    class counts:    42    41    37\n",
       "   probabilities: 0.350 0.342 0.308 \n",
       "  left son=2 (42 obs) right son=3 (78 obs)\n",
       "  Primary splits:\n",
       "      petal_length < 2.6  to the left,  improve=40.98590, (0 missing)\n",
       "      petal_width  < 0.8  to the left,  improve=40.98590, (0 missing)\n",
       "      sepal_length < 5.45 to the left,  improve=28.63850, (0 missing)\n",
       "      sepal_width  < 3.15 to the right, improve=17.49012, (0 missing)\n",
       "  Surrogate splits:\n",
       "      petal_width  < 0.8  to the left,  agree=1.000, adj=1.000, (0 split)\n",
       "      sepal_length < 5.45 to the left,  agree=0.925, adj=0.786, (0 split)\n",
       "      sepal_width  < 3.35 to the right, agree=0.842, adj=0.548, (0 split)\n",
       "\n",
       "Node number 2: 42 observations\n",
       "  predicted class=0  expected loss=0  P(node) =0.35\n",
       "    class counts:    42     0     0\n",
       "   probabilities: 1.000 0.000 0.000 \n",
       "\n",
       "Node number 3: 78 observations,    complexity param=0.4102564\n",
       "  predicted class=1  expected loss=0.474359  P(node) =0.65\n",
       "    class counts:     0    41    37\n",
       "   probabilities: 0.000 0.526 0.474 \n",
       "  left son=6 (44 obs) right son=7 (34 obs)\n",
       "  Primary splits:\n",
       "      petal_width  < 1.75 to the left,  improve=29.683530, (0 missing)\n",
       "      petal_length < 4.75 to the left,  improve=28.571850, (0 missing)\n",
       "      sepal_length < 6.15 to the left,  improve= 8.360594, (0 missing)\n",
       "      sepal_width  < 2.95 to the left,  improve= 3.002486, (0 missing)\n",
       "  Surrogate splits:\n",
       "      petal_length < 4.75 to the left,  agree=0.885, adj=0.735, (0 split)\n",
       "      sepal_length < 6.15 to the left,  agree=0.718, adj=0.353, (0 split)\n",
       "      sepal_width  < 2.95 to the left,  agree=0.679, adj=0.265, (0 split)\n",
       "\n",
       "Node number 6: 44 observations\n",
       "  predicted class=1  expected loss=0.09090909  P(node) =0.3666667\n",
       "    class counts:     0    40     4\n",
       "   probabilities: 0.000 0.909 0.091 \n",
       "\n",
       "Node number 7: 34 observations\n",
       "  predicted class=2  expected loss=0.02941176  P(node) =0.2833333\n",
       "    class counts:     0     1    33\n",
       "   probabilities: 0.000 0.029 0.971 \n",
       "\n",
       "[1] \"make predicions\"\n",
       "[1] \"summarize accuracy\"\n",
       "Confusion Matrix and Statistics\n",
       "\n",
       "           \n",
       "predictions  0  1  2\n",
       "          0  8  0  0\n",
       "          1  0  9  1\n",
       "          2  0  0 12\n",
       "\n",
       "Overall Statistics\n",
       "                                          \n",
       "               Accuracy : 0.9667          \n",
       "                 95% CI : (0.8278, 0.9992)\n",
       "    No Information Rate : 0.4333          \n",
       "    P-Value [Acc > NIR] : 5.119e-10       \n",
       "                                          \n",
       "                  Kappa : 0.9492          \n",
       " Mcnemar's Test P-Value : NA              \n",
       "\n",
       "Statistics by Class:\n",
       "\n",
       "                     Class: 0 Class: 1 Class: 2\n",
       "Sensitivity            1.0000   1.0000   0.9231\n",
       "Specificity            1.0000   0.9524   1.0000\n",
       "Pos Pred Value         1.0000   0.9000   1.0000\n",
       "Neg Pred Value         1.0000   1.0000   0.9444\n",
       "Precision              1.0000   0.9000   1.0000\n",
       "Recall                 1.0000   1.0000   0.9231\n",
       "F1                     1.0000   0.9474   0.9600\n",
       "Prevalence             0.2667   0.3000   0.4333\n",
       "Detection Rate         0.2667   0.3000   0.4000\n",
       "Detection Prevalence   0.2667   0.3333   0.4000\n",
       "Balanced Accuracy      1.0000   0.9762   0.9615\n"
      ]
     },
     "metadata": {},
     "output_type": "display_data"
    }
   ],
   "source": [
    "%%R -i df -o fit\n",
    "#https://stats.stackexchange.com/questions/275652/rpart-cross-validation\n",
    "library(rpart)\n",
    "library(caret)\n",
    "\n",
    "names(df) <- c('sepal_length', 'sepal_width', 'petal_length', 'petal_width', 'target')\n",
    "df$target <- factor(df$target)\n",
    "head(df)\n",
    "\n",
    "#split\n",
    "smp_size <- floor(0.8 * nrow(df))\n",
    "set.seed(123)\n",
    "train_ind <- sample(seq_len(nrow(df)), size = smp_size)\n",
    "train <- df[train_ind, ]\n",
    "test <- df[-train_ind, ]\n",
    "\n",
    "#fit\n",
    "fit <- rpart(target~., data=train)\n",
    "print(\"summarize the fit\")\n",
    "summary(fit)\n",
    "\n",
    "print(\"make predicions\")\n",
    "predictions <- predict(fit, test[,1:4], type=\"class\")\n",
    "\n",
    "print(\"summarize accuracy\")\n",
    "tab <- table(predictions, test$target)\n",
    "tab\n",
    "\n",
    "confusionMatrix(tab, mode=\"everything\")"
   ]
  },
  {
   "cell_type": "code",
   "execution_count": null,
   "metadata": {},
   "outputs": [],
   "source": []
  },
  {
   "cell_type": "code",
   "execution_count": 150,
   "metadata": {},
   "outputs": [
    {
     "data": {
      "text/plain": [
       "           \n",
       "predictions  0  1  2\n",
       "          0  8  0  0\n",
       "          1  0  9  1\n",
       "          2  0  0 12\n"
      ]
     },
     "metadata": {},
     "output_type": "display_data"
    }
   ],
   "source": [
    "%%R -i df\n",
    "# load the package\n",
    "library(randomForest)\n",
    "\n",
    "names(df) <- c('sepal_length', 'sepal_width', 'petal_length', 'petal_width', 'target')\n",
    "df$target <- factor(df$target)\n",
    "head(df)\n",
    "\n",
    "#split\n",
    "smp_size <- floor(0.8 * nrow(df))\n",
    "set.seed(123)\n",
    "train_ind <- sample(seq_len(nrow(df)), size = smp_size)\n",
    "train <- df[train_ind, ]\n",
    "test <- df[-train_ind, ]\n",
    "\n",
    "\n",
    "# fit model\n",
    "fit <- randomForest(target~., data=train)\n",
    "# summarize the fit\n",
    "summary(fit)\n",
    "\n",
    "# make predictions\n",
    "predictions <- predict(fit, test[,1:4])\n",
    "\n",
    "# summarize accuracy\n",
    "table(predictions, test$target)"
   ]
  },
  {
   "cell_type": "code",
   "execution_count": null,
   "metadata": {},
   "outputs": [],
   "source": []
  }
 ],
 "metadata": {
  "kernelspec": {
   "display_name": "Python 3",
   "language": "python",
   "name": "python3"
  },
  "language_info": {
   "codemirror_mode": {
    "name": "ipython",
    "version": 3
   },
   "file_extension": ".py",
   "mimetype": "text/x-python",
   "name": "python",
   "nbconvert_exporter": "python",
   "pygments_lexer": "ipython3",
   "version": "3.6.7"
  }
 },
 "nbformat": 4,
 "nbformat_minor": 2
}
