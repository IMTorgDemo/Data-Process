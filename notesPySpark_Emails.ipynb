{
 "cells": [
  {
   "cell_type": "code",
   "execution_count": 6,
   "metadata": {
    "collapsed": false
   },
   "outputs": [
    {
     "name": "stdout",
     "output_type": "stream",
     "text": [
      "CompTot-Env.rda\t\t    maildir\t      prjCCppJavaCshVb.db\r\n",
      "enron_mail_20150507.tar.gz  ny_salaries.json\r\n",
      "/home/jovyan/work/notebooks/data\r\n"
     ]
    }
   ],
   "source": [
    "! cd ../data/; ls; pwd"
   ]
  },
  {
   "cell_type": "code",
   "execution_count": 1,
   "metadata": {
    "collapsed": false
   },
   "outputs": [
    {
     "data": {
      "text/plain": [
       "'/home/jovyan/work/notebooks/private'"
      ]
     },
     "execution_count": 1,
     "metadata": {},
     "output_type": "execute_result"
    }
   ],
   "source": [
    "import os\n",
    "import shutil\n",
    "\n",
    "os.getcwd()"
   ]
  },
  {
   "cell_type": "code",
   "execution_count": 2,
   "metadata": {
    "collapsed": true
   },
   "outputs": [],
   "source": [
    "os.chdir('/home/jovyan/work/notebooks/data/enron_emails')"
   ]
  },
  {
   "cell_type": "code",
   "execution_count": null,
   "metadata": {
    "collapsed": true
   },
   "outputs": [],
   "source": []
  },
  {
   "cell_type": "code",
   "execution_count": 118,
   "metadata": {
    "collapsed": false
   },
   "outputs": [
    {
     "data": {
      "text/plain": [
       "150"
      ]
     },
     "execution_count": 118,
     "metadata": {},
     "output_type": "execute_result"
    }
   ],
   "source": [
    "names_employees = os.listdir('./maildir/')\n",
    "len(names_employees)"
   ]
  },
  {
   "cell_type": "code",
   "execution_count": 138,
   "metadata": {
    "collapsed": true
   },
   "outputs": [],
   "source": [
    "employee = sc.parallelize(names_employees)"
   ]
  },
  {
   "cell_type": "code",
   "execution_count": null,
   "metadata": {
    "collapsed": true
   },
   "outputs": [],
   "source": []
  },
  {
   "cell_type": "code",
   "execution_count": 13,
   "metadata": {
    "collapsed": true
   },
   "outputs": [],
   "source": [
    "import os\n",
    "import shutil\n",
    "\n",
    "src = r'/home/jovyan/work/notebooks/data/enron_emails/maildir/'\n",
    "dest = r'/home/jovyan/work/notebooks/data/enron_emails/combined/'\n",
    "\n",
    "src_dirs = os.listdir(src)\n",
    "for dir in src_dirs:\n",
    "    dir_full = os.path.join(src,dir,'all_documents')\n",
    "    if (os.path.isdir(dir_full)):\n",
    "        src_files = os.listdir(dir_full)\n",
    "        for file_name in src_files:\n",
    "            file_name_full = os.path.join(dir_full, file_name)\n",
    "            name_new = dir+'_'+file_name\n",
    "            file_name_new = os.path.join(dir_full, name_new)\n",
    "            if (os.path.isfile(file_name_full)):\n",
    "                os.rename(file_name_full, file_name_new)\n",
    "                shutil.copy(file_name_new, dest)"
   ]
  },
  {
   "cell_type": "code",
   "execution_count": null,
   "metadata": {
    "collapsed": true
   },
   "outputs": [],
   "source": []
  },
  {
   "cell_type": "code",
   "execution_count": null,
   "metadata": {
    "collapsed": true
   },
   "outputs": [],
   "source": []
  },
  {
   "cell_type": "code",
   "execution_count": 4,
   "metadata": {
    "collapsed": true
   },
   "outputs": [],
   "source": [
    "from pyspark import SparkContext\n",
    "sc = SparkContext(\"local\")"
   ]
  },
  {
   "cell_type": "code",
   "execution_count": 5,
   "metadata": {
    "collapsed": false
   },
   "outputs": [
    {
     "name": "stdout",
     "output_type": "stream",
     "text": [
      "combined/allen-p_1.  combined/allen-p_4.  combined/allen-p_7.\r\n",
      "combined/allen-p_2.  combined/allen-p_5.  combined/allen-p_8.\r\n",
      "combined/allen-p_3.  combined/allen-p_6.  combined/allen-p_9.\r\n"
     ]
    }
   ],
   "source": [
    "! ls combined/allen-p_[1-9]."
   ]
  },
  {
   "cell_type": "code",
   "execution_count": 15,
   "metadata": {
    "collapsed": false
   },
   "outputs": [],
   "source": [
    "# only get the emails from authors with name starting with 'a'\n",
    "rddEmails = sc.textFile('file:///home/jovyan/work/notebooks/data/enron_emails/combined/allen-p_[1-9][1-9].')"
   ]
  },
  {
   "cell_type": "code",
   "execution_count": 16,
   "metadata": {
    "collapsed": false
   },
   "outputs": [
    {
     "data": {
      "text/plain": [
       "628"
      ]
     },
     "execution_count": 16,
     "metadata": {},
     "output_type": "execute_result"
    }
   ],
   "source": [
    "rddEmails.getNumPartitions()"
   ]
  },
  {
   "cell_type": "code",
   "execution_count": 17,
   "metadata": {
    "collapsed": false
   },
   "outputs": [
    {
     "data": {
      "text/plain": [
       "27717"
      ]
     },
     "execution_count": 17,
     "metadata": {},
     "output_type": "execute_result"
    }
   ],
   "source": [
    "rddEmails.count()"
   ]
  },
  {
   "cell_type": "code",
   "execution_count": 21,
   "metadata": {
    "collapsed": false
   },
   "outputs": [
    {
     "data": {
      "text/plain": [
       "['Message-ID: <9144576.1075855665395.JavaMail.evans@thyme>',\n",
       " 'Date: Wed, 13 Dec 2000 11:02:00 -0800 (PST)',\n",
       " 'From: arsystem@mailman.enron.com',\n",
       " 'To: phillip.k.allen@enron.com',\n",
       " 'Subject: Your Approval is Overdue: Access Request for',\n",
       " ' barry.tycholiz@enron.com',\n",
       " 'Mime-Version: 1.0',\n",
       " 'Content-Type: text/plain; charset=us-ascii',\n",
       " 'Content-Transfer-Encoding: 7bit',\n",
       " 'X-From: ARSystem@mailman.enron.com']"
      ]
     },
     "execution_count": 21,
     "metadata": {},
     "output_type": "execute_result"
    }
   ],
   "source": [
    "rddEmails.take(10)"
   ]
  },
  {
   "cell_type": "code",
   "execution_count": null,
   "metadata": {
    "collapsed": true
   },
   "outputs": [],
   "source": []
  },
  {
   "cell_type": "code",
   "execution_count": 22,
   "metadata": {
    "collapsed": true
   },
   "outputs": [],
   "source": [
    "import re"
   ]
  },
  {
   "cell_type": "code",
   "execution_count": 68,
   "metadata": {
    "collapsed": false
   },
   "outputs": [],
   "source": [
    "flattend = rddEmails.filter(lambda line: len(line)>0 ).map(lambda line: line.lower())"
   ]
  },
  {
   "cell_type": "code",
   "execution_count": 79,
   "metadata": {
    "collapsed": false
   },
   "outputs": [],
   "source": [
    "From = flattend.filter(lambda x: 'from:' in x)\n",
    "To = flattend.filter(lambda x: 'to:' in x)"
   ]
  },
  {
   "cell_type": "code",
   "execution_count": 80,
   "metadata": {
    "collapsed": false
   },
   "outputs": [
    {
     "data": {
      "text/plain": [
       "1357"
      ]
     },
     "execution_count": 80,
     "metadata": {},
     "output_type": "execute_result"
    }
   ],
   "source": [
    "From.count()"
   ]
  },
  {
   "cell_type": "code",
   "execution_count": 83,
   "metadata": {
    "collapsed": false
   },
   "outputs": [
    {
     "data": {
      "text/plain": [
       "['from: arsystem@mailman.enron.com',\n",
       " 'x-from: arsystem@mailman.enron.com',\n",
       " 'from: phillip.allen@enron.com',\n",
       " 'x-from: phillip k allen',\n",
       " 'from: phillip.allen@enron.com',\n",
       " 'x-from: phillip k allen',\n",
       " 'from: phillip.allen@enron.com',\n",
       " 'x-from: phillip k allen',\n",
       " 'from: messenger@ecm.bloomberg.com',\n",
       " 'x-from: \"bloomberg.com\" <messenger@ecm.bloomberg.com>']"
      ]
     },
     "execution_count": 83,
     "metadata": {},
     "output_type": "execute_result"
    }
   ],
   "source": [
    "From.take(10)"
   ]
  },
  {
   "cell_type": "code",
   "execution_count": 121,
   "metadata": {
    "collapsed": false
   },
   "outputs": [],
   "source": [
    "FromAddr = From.flatMap(lambda x: x.split(': ')).\\\n",
    "            filter(lambda x: 'from' not in x).\\\n",
    "            filter(lambda x: 'x-from' not in x).\\\n",
    "            filter(lambda x: '@' not in x).\\\n",
    "            distinct()"
   ]
  },
  {
   "cell_type": "code",
   "execution_count": 129,
   "metadata": {
    "collapsed": false
   },
   "outputs": [],
   "source": [
    "FromAddr_1 = FromAddr.flatMap(lambda line: re.split('\\d+', line)).\\\n",
    "                    filter(lambda x: len(x)>7)"
   ]
  },
  {
   "cell_type": "code",
   "execution_count": 131,
   "metadata": {
    "collapsed": false
   },
   "outputs": [
    {
     "data": {
      "text/plain": [
       "[' william kelly                           ',\n",
       " ' john d suarez                           ',\n",
       " ' colleen sullivan                           ',\n",
       " ' rebecca w cantrell                           ',\n",
       " ' rebecca w cantrell                           ']"
      ]
     },
     "execution_count": 131,
     "metadata": {},
     "output_type": "execute_result"
    }
   ],
   "source": [
    "FromAddr_1.take(5)"
   ]
  },
  {
   "cell_type": "code",
   "execution_count": 133,
   "metadata": {
    "collapsed": false
   },
   "outputs": [
    {
     "data": {
      "text/plain": [
       "78"
      ]
     },
     "execution_count": 133,
     "metadata": {},
     "output_type": "execute_result"
    }
   ],
   "source": [
    "FromAddr_1.count()"
   ]
  },
  {
   "cell_type": "code",
   "execution_count": 139,
   "metadata": {
    "collapsed": false
   },
   "outputs": [
    {
     "data": {
      "text/plain": [
       "78"
      ]
     },
     "execution_count": 139,
     "metadata": {},
     "output_type": "execute_result"
    }
   ],
   "source": [
    "diff = FromAddr_1.subtract(employee)\n",
    "diff.count()"
   ]
  },
  {
   "cell_type": "code",
   "execution_count": 142,
   "metadata": {
    "collapsed": false
   },
   "outputs": [
    {
     "data": {
      "text/plain": [
       "0"
      ]
     },
     "execution_count": 142,
     "metadata": {},
     "output_type": "execute_result"
    }
   ],
   "source": [
    "intr = FromAddr_1.intersection(employee)\n",
    "intr.count()"
   ]
  },
  {
   "cell_type": "code",
   "execution_count": null,
   "metadata": {
    "collapsed": true
   },
   "outputs": [],
   "source": []
  },
  {
   "cell_type": "code",
   "execution_count": null,
   "metadata": {
    "collapsed": true
   },
   "outputs": [],
   "source": []
  },
  {
   "cell_type": "code",
   "execution_count": 81,
   "metadata": {
    "collapsed": false
   },
   "outputs": [
    {
     "data": {
      "text/plain": [
       "1541"
      ]
     },
     "execution_count": 81,
     "metadata": {},
     "output_type": "execute_result"
    }
   ],
   "source": [
    "To.count()"
   ]
  },
  {
   "cell_type": "code",
   "execution_count": 116,
   "metadata": {
    "collapsed": true
   },
   "outputs": [],
   "source": [
    "ToAddr = To.flatMap(lambda x: x.split(': ')).\\\n",
    "            flatMap(lambda x: x.split(',')).\\\n",
    "            filter(lambda x: 'to' not in x).\\\n",
    "            filter(lambda x: 'x-to' not in x).\\\n",
    "            filter(lambda x: '@' not in x).\\\n",
    "            distinct()"
   ]
  },
  {
   "cell_type": "code",
   "execution_count": 117,
   "metadata": {
    "collapsed": false
   },
   "outputs": [
    {
     "data": {
      "text/plain": [
       "['',\n",
       " ' doug gilbert-smith',\n",
       " ' joseph deffner',\n",
       " ' phillip k=',\n",
       " ' christi l nicolay',\n",
       " 'david w delainey',\n",
       " 'jeffrey c gossett',\n",
       " ' barry tycholiz',\n",
       " ' ',\n",
       " 'andrea richards']"
      ]
     },
     "execution_count": 117,
     "metadata": {},
     "output_type": "execute_result"
    }
   ],
   "source": [
    "ToAddr.take(10)"
   ]
  },
  {
   "cell_type": "code",
   "execution_count": 132,
   "metadata": {
    "collapsed": false
   },
   "outputs": [
    {
     "data": {
      "text/plain": [
       "306"
      ]
     },
     "execution_count": 132,
     "metadata": {},
     "output_type": "execute_result"
    }
   ],
   "source": [
    "ToAddr.count()"
   ]
  },
  {
   "cell_type": "code",
   "execution_count": 141,
   "metadata": {
    "collapsed": false
   },
   "outputs": [
    {
     "data": {
      "text/plain": [
       "306"
      ]
     },
     "execution_count": 141,
     "metadata": {},
     "output_type": "execute_result"
    }
   ],
   "source": [
    "sub = ToAddr.subtract(employee)\n",
    "sub.count()"
   ]
  },
  {
   "cell_type": "code",
   "execution_count": 143,
   "metadata": {
    "collapsed": false
   },
   "outputs": [
    {
     "data": {
      "text/plain": [
       "0"
      ]
     },
     "execution_count": 143,
     "metadata": {},
     "output_type": "execute_result"
    }
   ],
   "source": [
    "intr = ToAddr.intersection(employee)\n",
    "intr.count()"
   ]
  },
  {
   "cell_type": "code",
   "execution_count": null,
   "metadata": {
    "collapsed": true
   },
   "outputs": [],
   "source": []
  }
 ],
 "metadata": {
  "kernelspec": {
   "display_name": "Python 3",
   "language": "python",
   "name": "python3"
  },
  "language_info": {
   "codemirror_mode": {
    "name": "ipython",
    "version": 3
   },
   "file_extension": ".py",
   "mimetype": "text/x-python",
   "name": "python",
   "nbconvert_exporter": "python",
   "pygments_lexer": "ipython3",
   "version": "3.5.2"
  }
 },
 "nbformat": 4,
 "nbformat_minor": 2
}
