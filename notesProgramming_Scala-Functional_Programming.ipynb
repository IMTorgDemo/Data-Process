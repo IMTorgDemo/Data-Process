{
 "cells": [
  {
   "cell_type": "markdown",
   "metadata": {},
   "source": [
    "# Functional Programming with Scala\n",
    "\n",
    "Key concepts in functional programming:\n",
    "\n",
    "* Predicates\n",
    "* Literal functions (anonymous functions) \n",
    "* Implicit loops"
   ]
  },
  {
   "cell_type": "markdown",
   "metadata": {},
   "source": [
    "A predicate is just a function that receives several parameters and returns a Boolean value"
   ]
  },
  {
   "cell_type": "code",
   "execution_count": 2,
   "metadata": {},
   "outputs": [],
   "source": [
    "def isOdd (i: Int) = if (i % 2 != 0) true else false"
   ]
  },
  {
   "cell_type": "markdown",
   "metadata": {},
   "source": [
    "A literal function is an alternate syntax for defining a function. It's useful when we want to pass a function as an argument to a method (especially to higher-order functions such as a fold or a filter operation) but do not want to define a separate function."
   ]
  },
  {
   "cell_type": "code",
   "execution_count": 1,
   "metadata": {},
   "outputs": [
    {
     "data": {
      "text/plain": [
       "<function1>"
      ]
     },
     "execution_count": 1,
     "metadata": {},
     "output_type": "execute_result"
    }
   ],
   "source": [
    "(i: Int) => i % 2 != 0"
   ]
  },
  {
   "cell_type": "code",
   "execution_count": null,
   "metadata": {},
   "outputs": [],
   "source": [
    "// this should work ?\n",
    "_ % 2 != 0"
   ]
  },
  {
   "cell_type": "code",
   "execution_count": 5,
   "metadata": {},
   "outputs": [
    {
     "data": {
      "text/plain": [
       "List(1, 3, 5, 7, 9)"
      ]
     },
     "execution_count": 5,
     "metadata": {},
     "output_type": "execute_result"
    }
   ],
   "source": [
    "val nums = List.range(1, 10)\n",
    "val odds = nums.filter(_ % 2 != 0)\n",
    "odds"
   ]
  },
  {
   "cell_type": "markdown",
   "metadata": {},
   "source": [
    "Commonly found functionality in functional languages:\n",
    "\n",
    "List utilities:\n",
    "\n",
    "    head() — get first element\n",
    "    tail() — get all but first elements\n",
    "    last() — get last element\n",
    "    length() — count of elements\n",
    "\n",
    "Predicates / comparators (test an element, return boolean)\n",
    "\n",
    "    equal()\n",
    "    greaterThan()\n",
    "    lessThan()\n",
    "\n",
    "List transformations:\n",
    "\n",
    "    map() ([x]) -> [y] take list x and apply a transformation to each element in that list, return new list y\n",
    "    reverse() ([1, 2, 3]) -> [3, 2, 1]\n",
    "\n",
    "List searches:\n",
    "\n",
    "    find() ([x]) -> x take list x and return first element that matches a predicate\n",
    "    filter() ([x]) -> [y] take list x and return all items matching predicate\n",
    "\n",
    "List Reducers / folds:\n",
    "\n",
    "    reduce() — ([x], function[, accumulator]) -> apply function to each element and accumulate the results as a single value\n",
    "    any() — true if any values match predicate\n",
    "    all() — true if all values match predicate\n",
    "    sum() — total of all values\n",
    "    product() — product of all values\n",
    "    maximum() — highest value\n",
    "    minimum() — lowest value\n",
    "    concat() — take a list of lists and return a single, concatenated list in list order\n",
    "    merge() — take a list of lists and return a single, merged list in element order\n",
    "\n",
    "Iterators / Generators / Collectors (infinite lists)\n",
    "\n",
    "    sample() — return current value of continuous input source (temperature, form input, toggle switch state, etc…)\n",
    "    repeat() — (1) -> [1, 1, 1, 1, 1, 1,…]\n",
    "    cycle() / loop() — When the end of the list is reached, wrap around to the beginning again.\n",
    "\n",
    "Some of these common utility extras got added to JavaScript with the ECMAScript 5 Array extras. e.g.:\n",
    "\n",
    "```\n",
    "// Using ES6 syntax. () => means function () {}\n",
    "var foo = [1, 2, 3, 4, 5];\n",
    "var bar = foo.map( (n) => n + 1 ); // [2, 3, 4, 5, 6]\n",
    "var baz = bar.filter( (n) => n >=3 && n <=5); // [3,4,5]\n",
    "var bif = baz.reduce( (n, el) => n + el); // 12\n",
    "```"
   ]
  },
  {
   "cell_type": "markdown",
   "metadata": {},
   "source": [
    "### Rules for Functional Programming\n",
    "\n",
    "1. There will be no null values in this book. We’ll intentionally forget that there is even a null keyword in Scala.\n",
    "2. Only pure functions will be used in this book. I’ll define pure functions more thoroughly soon, but simply stated, (a) a pure function must always return the same output given the same input, and (b) calling the function must not have any side effects, including reading input, writing output, or modifying any sort of hidden state.\n",
    "3. This book will only use immutable values (val) for all fields. There are no var fields in pure FP code, so I won’t use any variables (var) in this book, unless I’m trying to explain a point.\n",
    "4. Whenever you use an if, you must always also use an else. Functional pro- gramming uses only expressions, not statements.\n",
    "5. We won’t create “classes” that encapsulate data and behavior. Instead we’ll create data structures and write pure functions that operate on those data struc- tures."
   ]
  },
  {
   "cell_type": "markdown",
   "metadata": {},
   "source": [
    "> “Object-oriented programming makes code understandable by encapsulating moving parts. Functional programming makes code understandable by minimizing moving parts.”\n",
    "— Michael Feathers, author of Working Effectively with Legacy Code (via Twitter)"
   ]
  },
  {
   "cell_type": "markdown",
   "metadata": {},
   "source": [
    "### Impure Functions\n",
    "\n",
    "In general, impure functions do one or more of these things:\n",
    "* Readhiddeninputs(variablesnotexplicitlypassedinasfunctioninputparam- eters)\n",
    "* Write hidden outputs\n",
    "* Mutate the parameters they are given\n",
    "* Perform some sort of I/O with the outside world\n",
    "\n",
    "By looking at function signatures only, there are two ways you can identify many impure functions:\n",
    "* They don’t have any input parameters\n",
    "* They don’t return anything (or they return Unit in Scala, which is the same thing)"
   ]
  },
  {
   "cell_type": "markdown",
   "metadata": {},
   "source": [
    "### Benefits of Pure Functions\n",
    "\n",
    "* They are idempotent / deterministic\n",
    "* They offer referential transparency - it can be replaced by its resulting value without changing the behavior of the program\n",
    "* They are memoizable (caching optimizations) - \n",
    "* They can be lazy"
   ]
  },
  {
   "cell_type": "code",
   "execution_count": null,
   "metadata": {},
   "outputs": [],
   "source": []
  },
  {
   "cell_type": "code",
   "execution_count": null,
   "metadata": {},
   "outputs": [],
   "source": []
  }
 ],
 "metadata": {
  "kernelspec": {
   "display_name": "Apache Toree - Scala",
   "language": "scala",
   "name": "apache_toree_scala"
  },
  "language_info": {
   "file_extension": ".scala",
   "name": "scala",
   "version": "2.11.8"
  }
 },
 "nbformat": 4,
 "nbformat_minor": 2
}
