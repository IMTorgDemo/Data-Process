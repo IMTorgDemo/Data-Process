{
 "cells": [
  {
   "cell_type": "markdown",
   "metadata": {},
   "source": [
    "# Using Finite State Machines"
   ]
  },
  {
   "cell_type": "markdown",
   "metadata": {},
   "source": [
    "While Object-Oriented Programming provides a strong perspective of most situations, classes can be a poor tool for modelling the real-world if one object may act differently under specific scenarios.  In such cases, programmers tend to overly use conditionals to force the models' correct behaviour.\n",
    "\n",
    "An alternative is finite state machines.  This notebook investigates finite state machines, when they are useful, and how to implement them."
   ]
  },
  {
   "cell_type": "code",
   "execution_count": 1,
   "metadata": {},
   "outputs": [],
   "source": [
    "let account = {\n",
    "  state: 'open',\n",
    "  balance: 0,\n",
    "\n",
    "  deposit (amount) {\n",
    "    if (this.state === 'open') {\n",
    "      this.balance = this.balance + amount;\n",
    "    } else {\n",
    "      throw 'invalid event';\n",
    "    }\n",
    "  },\n",
    "\n",
    "  withdraw (amount) {\n",
    "    if (this.state === 'open') {\n",
    "      this.balance = this.balance - amount;\n",
    "    } else {\n",
    "      throw 'invalid event';\n",
    "    }\n",
    "  },\n",
    "\n",
    "  close () {\n",
    "    if (this.state === 'open') {\n",
    "      if (this.balance > 0) {\n",
    "        // ...transfer balance to suspension account\n",
    "      }\n",
    "      this.state = 'closed';\n",
    "    } else {\n",
    "      throw 'invalid event';\n",
    "    }\n",
    "  },\n",
    "\n",
    "  reopen () {\n",
    "    if (this.state === 'closed') {\n",
    "      // ...restore balance if applicable\n",
    "      this.state = 'open';\n",
    "    } else {\n",
    "      throw 'invalid event';\n",
    "    }\n",
    "  }\n",
    "}\n"
   ]
  },
  {
   "cell_type": "code",
   "execution_count": 2,
   "metadata": {},
   "outputs": [
    {
     "data": {
      "text/plain": [
       "'open'"
      ]
     },
     "execution_count": 2,
     "metadata": {},
     "output_type": "execute_result"
    }
   ],
   "source": [
    "account.state  //=> open"
   ]
  },
  {
   "cell_type": "code",
   "execution_count": 3,
   "metadata": {},
   "outputs": [
    {
     "data": {
      "text/plain": [
       "'closed'"
      ]
     },
     "execution_count": 3,
     "metadata": {},
     "output_type": "execute_result"
    }
   ],
   "source": [
    "account.close();\n",
    "account.state"
   ]
  },
  {
   "cell_type": "code",
   "execution_count": null,
   "metadata": {},
   "outputs": [],
   "source": []
  }
 ],
 "metadata": {
  "kernelspec": {
   "display_name": "Javascript (Node.js)",
   "language": "javascript",
   "name": "javascript"
  },
  "language_info": {
   "file_extension": ".js",
   "mimetype": "application/javascript",
   "name": "javascript",
   "version": "8.9.4"
  }
 },
 "nbformat": 4,
 "nbformat_minor": 2
}
