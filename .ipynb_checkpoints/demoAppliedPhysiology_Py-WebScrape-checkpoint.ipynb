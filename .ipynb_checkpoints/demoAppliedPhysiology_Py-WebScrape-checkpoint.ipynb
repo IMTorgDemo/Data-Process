{
 "cells": [
  {
   "cell_type": "code",
   "execution_count": 3,
   "metadata": {},
   "outputs": [],
   "source": [
    "import os"
   ]
  },
  {
   "cell_type": "code",
   "execution_count": 4,
   "metadata": {},
   "outputs": [],
   "source": [
    "os.chdir('/home/beakerx/WORKING/Demo-Notebooks/python_modules')"
   ]
  },
  {
   "cell_type": "code",
   "execution_count": 6,
   "metadata": {},
   "outputs": [],
   "source": [
    "#! git clone https://github.com/rocheio/wiki-table-scrape.git\n",
    "os.chdir('/home/beakerx/WORKING/Demo-Notebooks/python_modules/wiki-table-scrape')"
   ]
  },
  {
   "cell_type": "code",
   "execution_count": 8,
   "metadata": {},
   "outputs": [],
   "source": [
    "#! pip install -r requirements.txt\n",
    "import sys\n",
    "sys.path.append(\"/home/beakerx/WORKING/Demo-Notebooks/python_modules/\")"
   ]
  },
  {
   "cell_type": "code",
   "execution_count": 9,
   "metadata": {},
   "outputs": [],
   "source": [
    "import wikitablescrape"
   ]
  },
  {
   "cell_type": "code",
   "execution_count": 10,
   "metadata": {},
   "outputs": [],
   "source": [
    "URL = \"https://en.wikipedia.org/wiki/List_of_world_records_in_athletics\"\n",
    "DIR_DATA = \"/home/beakerx/WORKING/Demo-Notebooks/Data/world_records\"\n",
    "\n",
    "wikitablescrape.scrape(\n",
    "    url=URL,\n",
    "    output_name=DIR_DATA\n",
    ")"
   ]
  },
  {
   "cell_type": "code",
   "execution_count": 13,
   "metadata": {},
   "outputs": [
    {
     "name": "stdout",
     "output_type": "stream",
     "text": [
      "world_records.csv    world_records_4.csv  world_records_8.csv\r\n",
      "world_records_1.csv  world_records_5.csv  world_records_9.csv\r\n",
      "world_records_2.csv  world_records_6.csv\r\n",
      "world_records_3.csv  world_records_7.csv\r\n"
     ]
    }
   ],
   "source": [
    "! ls /home/beakerx/WORKING/Demo-Notebooks/Data/world_records"
   ]
  },
  {
   "cell_type": "code",
   "execution_count": 4,
   "metadata": {},
   "outputs": [
    {
     "name": "stdout",
     "output_type": "stream",
     "text": [
      "\"Event\",\"Perf.\",\"W\",\"N\",\"Athlete(s)\",\"Nat.\",\"Date\",\"Meeting\",\"Location\",\"Ctry.\",\"R\",\"V\",\"P\"\r",
      "\r\n",
      "\"100 m\",\"9.58\",\"+0.9\",\"\",\"Usain Bolt\",\"JAM\",\"16 Aug 2009\",\"World Championships\",\"Berlin\",\"GER\",\"\",\"���\",\"P\"\r",
      "\r\n",
      "\"200 m\",\"19.19\",\"���0.3\",\"\",\"Usain Bolt\",\"JAM\",\"20 Aug 2009\",\"World Championships\",\"Berlin\",\"GER\",\"\",\"���\",\"P\"\r",
      "\r\n",
      "\"400 m\",\"43.03\",\"\",\"\",\"Wayde van Niekerk\",\"RSA\",\"14 Aug 2016\",\"Olympic Games\",\"Rio de Janeiro\",\"BRA\",\"\",\"���\",\"P\"\r",
      "\r\n",
      "\"800 m\",\"1:40.91\",\"\",\"\",\"David Rudisha\",\"KEN\",\"9 Aug 2012\",\"Olympic Games\",\"London\",\"GBR\",\"\",\"���\",\"P\"\r",
      "\r\n",
      "\"1000 m\",\"2:11.96\",\"\",\"\",\"Noah Ngeny\",\"KEN\",\"5 Sep 1999\",\"Rieti Meeting\",\"Rieti\",\"ITA\",\"\",\"���\",\"P\"\r",
      "\r\n",
      "\"1500 m\",\"3:26.00\",\"\",\"\",\"Hicham El Guerrouj\",\"MAR\",\"14 Jul 1998\",\"Golden Gala\",\"Rome\",\"ITA\",\"\",\"���\",\"P\"\r",
      "\r\n",
      "\"Mile\",\"3:43.13\",\"\",\"\",\"Hicham El Guerrouj\",\"MAR\",\"7 Jul 1999\",\"Golden Gala\",\"Rome\",\"ITA\",\"\",\"���\",\"P\"\r",
      "\r\n",
      "\"2000 m\",\"4:44.79\",\"\",\"\",\"Hicham El Guerrouj\",\"MAR\",\"7 Sep 1999\",\"ISTAF\",\"Berlin\",\"GER\",\"\",\"���\",\"\"\r",
      "\r\n",
      "\"3000 m\",\"7:20.67\",\"\",\"\",\"Daniel Komen\",\"KEN\",\"1 Sep 1996\",\"Rieti Meeting\",\"Rieti\",\"ITA\",\"\",\"���\",\"P\"\r",
      "\r\n"
     ]
    }
   ],
   "source": [
    "os.chdir('/home/beakerx/WORKING/Demo-Notebooks/Data/world_records')\n",
    "! head world_records.csv"
   ]
  },
  {
   "cell_type": "code",
   "execution_count": 5,
   "metadata": {},
   "outputs": [],
   "source": [
    "import pandas as pd\n",
    "import glob"
   ]
  },
  {
   "cell_type": "code",
   "execution_count": 6,
   "metadata": {},
   "outputs": [],
   "source": [
    "path = r'/home/beakerx/WORKING/Demo-Notebooks/Data/world_records'\n",
    "fields = ['Event', 'Perf.']\n",
    "allFiles = glob.glob(path + \"/*.csv\")"
   ]
  },
  {
   "cell_type": "code",
   "execution_count": 7,
   "metadata": {},
   "outputs": [],
   "source": [
    "allFiles.remove('/home/beakerx/WORKING/Demo-Notebooks/Data/world_records/world_records_8.csv')\n",
    "allFiles.remove('/home/beakerx/WORKING/Demo-Notebooks/Data/world_records/world_records_9.csv')"
   ]
  },
  {
   "cell_type": "code",
   "execution_count": 8,
   "metadata": {},
   "outputs": [],
   "source": [
    "frame = pd.DataFrame()\n",
    "list_ = []\n",
    "for file_ in allFiles:\n",
    "    df = pd.read_csv(file_, index_col=None, header=0, usecols=fields)\n",
    "    list_.append(df)\n",
    "frame = pd.concat(list_)"
   ]
  },
  {
   "cell_type": "code",
   "execution_count": 9,
   "metadata": {},
   "outputs": [
    {
     "data": {
      "text/html": [
       "<div>\n",
       "<style scoped>\n",
       "    .dataframe tbody tr th:only-of-type {\n",
       "        vertical-align: middle;\n",
       "    }\n",
       "\n",
       "    .dataframe tbody tr th {\n",
       "        vertical-align: top;\n",
       "    }\n",
       "\n",
       "    .dataframe thead th {\n",
       "        text-align: right;\n",
       "    }\n",
       "</style>\n",
       "<table border=\"1\" class=\"dataframe\">\n",
       "  <thead>\n",
       "    <tr style=\"text-align: right;\">\n",
       "      <th></th>\n",
       "      <th>Event</th>\n",
       "      <th>Perf.</th>\n",
       "    </tr>\n",
       "  </thead>\n",
       "  <tbody>\n",
       "    <tr>\n",
       "      <th>0</th>\n",
       "      <td>100 m</td>\n",
       "      <td>9.58</td>\n",
       "    </tr>\n",
       "    <tr>\n",
       "      <th>1</th>\n",
       "      <td>200 m</td>\n",
       "      <td>19.19</td>\n",
       "    </tr>\n",
       "    <tr>\n",
       "      <th>2</th>\n",
       "      <td>400 m</td>\n",
       "      <td>43.03</td>\n",
       "    </tr>\n",
       "    <tr>\n",
       "      <th>3</th>\n",
       "      <td>800 m</td>\n",
       "      <td>1:40.91</td>\n",
       "    </tr>\n",
       "    <tr>\n",
       "      <th>4</th>\n",
       "      <td>1000 m</td>\n",
       "      <td>2:11.96</td>\n",
       "    </tr>\n",
       "  </tbody>\n",
       "</table>\n",
       "</div>"
      ],
      "text/plain": [
       "    Event    Perf.\n",
       "0   100 m     9.58\n",
       "1   200 m    19.19\n",
       "2   400 m    43.03\n",
       "3   800 m  1:40.91\n",
       "4  1000 m  2:11.96"
      ]
     },
     "execution_count": 9,
     "metadata": {},
     "output_type": "execute_result"
    }
   ],
   "source": [
    "frame.head()"
   ]
  },
  {
   "cell_type": "code",
   "execution_count": 10,
   "metadata": {},
   "outputs": [],
   "source": [
    "def fProcessDist(row):\n",
    "    value = row['Event']\n",
    "    # race names\n",
    "    if value == 'Marathon':\n",
    "        result = 42195\n",
    "    elif value == 'Half marathon':\n",
    "        result = 42195/2\n",
    "    elif value == 'Mile':\n",
    "        result = 1609.34\n",
    "    elif ('×' in value):\n",
    "        result = None\n",
    "    else:\n",
    "        # units\n",
    "        lSplt = value.split(' ')\n",
    "        if len(lSplt)>1:\n",
    "            if lSplt[1] == 'm':\n",
    "                num = lSplt[0]\n",
    "            elif lSplt[1] == 'km':\n",
    "                try:\n",
    "                    num = int(lSplt[0])\n",
    "                    num = num * 1000\n",
    "                except:\n",
    "                    num = -1\n",
    "            else:\n",
    "                # not useful record\n",
    "                num = -1\n",
    "                \n",
    "            if num != -1:\n",
    "                # convert to integer\n",
    "                try:\n",
    "                    result = int(num)\n",
    "                except:\n",
    "                    result = int(num.replace(',', '')) \n",
    "            else:\n",
    "                result = None\n",
    "        else:\n",
    "            result = None\n",
    "    return result"
   ]
  },
  {
   "cell_type": "code",
   "execution_count": 11,
   "metadata": {},
   "outputs": [],
   "source": [
    "import math\n",
    "\n",
    "def fProcessPerf(row):\n",
    "    value = row['Perf.']\n",
    "    chk = row['Distance']\n",
    "    tmp1 = value.split(':')\n",
    "    if math.isnan( chk ):\n",
    "        milsec = None\n",
    "    elif len(tmp1)>1:\n",
    "        tmp2 = tmp1[1].split('.')\n",
    "        if len(tmp2)>1:\n",
    "            milsec = int(tmp1[0])*3600 + int(tmp2[0])*60 + int(tmp2[1])\n",
    "        else:\n",
    "            milsec = None\n",
    "    else:\n",
    "        tmp2 = value.split('.')\n",
    "        if len(tmp2)>1:\n",
    "            milsec = int(tmp2[0])*60 + int(tmp2[1])\n",
    "        else:\n",
    "            milsec = None\n",
    "    return milsec"
   ]
  },
  {
   "cell_type": "code",
   "execution_count": 12,
   "metadata": {},
   "outputs": [],
   "source": [
    "frame['Distance'] = frame.apply(fProcessDist, axis=1)"
   ]
  },
  {
   "cell_type": "code",
   "execution_count": 13,
   "metadata": {},
   "outputs": [],
   "source": [
    "frame['Performance'] = frame.apply(fProcessPerf, axis=1)"
   ]
  },
  {
   "cell_type": "code",
   "execution_count": 14,
   "metadata": {},
   "outputs": [
    {
     "data": {
      "text/html": [
       "<div>\n",
       "<style scoped>\n",
       "    .dataframe tbody tr th:only-of-type {\n",
       "        vertical-align: middle;\n",
       "    }\n",
       "\n",
       "    .dataframe tbody tr th {\n",
       "        vertical-align: top;\n",
       "    }\n",
       "\n",
       "    .dataframe thead th {\n",
       "        text-align: right;\n",
       "    }\n",
       "</style>\n",
       "<table border=\"1\" class=\"dataframe\">\n",
       "  <thead>\n",
       "    <tr style=\"text-align: right;\">\n",
       "      <th></th>\n",
       "      <th>Event</th>\n",
       "      <th>Perf.</th>\n",
       "      <th>Distance</th>\n",
       "      <th>Performance</th>\n",
       "    </tr>\n",
       "  </thead>\n",
       "  <tbody>\n",
       "    <tr>\n",
       "      <th>0</th>\n",
       "      <td>100 m</td>\n",
       "      <td>9.58</td>\n",
       "      <td>100.0</td>\n",
       "      <td>598.0</td>\n",
       "    </tr>\n",
       "    <tr>\n",
       "      <th>1</th>\n",
       "      <td>200 m</td>\n",
       "      <td>19.19</td>\n",
       "      <td>200.0</td>\n",
       "      <td>1159.0</td>\n",
       "    </tr>\n",
       "    <tr>\n",
       "      <th>2</th>\n",
       "      <td>400 m</td>\n",
       "      <td>43.03</td>\n",
       "      <td>400.0</td>\n",
       "      <td>2583.0</td>\n",
       "    </tr>\n",
       "    <tr>\n",
       "      <th>3</th>\n",
       "      <td>800 m</td>\n",
       "      <td>1:40.91</td>\n",
       "      <td>800.0</td>\n",
       "      <td>6091.0</td>\n",
       "    </tr>\n",
       "    <tr>\n",
       "      <th>4</th>\n",
       "      <td>1000 m</td>\n",
       "      <td>2:11.96</td>\n",
       "      <td>1000.0</td>\n",
       "      <td>7956.0</td>\n",
       "    </tr>\n",
       "  </tbody>\n",
       "</table>\n",
       "</div>"
      ],
      "text/plain": [
       "    Event    Perf.  Distance  Performance\n",
       "0   100 m     9.58     100.0        598.0\n",
       "1   200 m    19.19     200.0       1159.0\n",
       "2   400 m    43.03     400.0       2583.0\n",
       "3   800 m  1:40.91     800.0       6091.0\n",
       "4  1000 m  2:11.96    1000.0       7956.0"
      ]
     },
     "execution_count": 14,
     "metadata": {},
     "output_type": "execute_result"
    }
   ],
   "source": [
    "frame.head()"
   ]
  },
  {
   "cell_type": "code",
   "execution_count": 32,
   "metadata": {},
   "outputs": [
    {
     "data": {
      "image/png": "[encoded data removed]",
      "text/plain": [
       "<Figure size 360x360 with 1 Axes>"
      ]
     },
     "metadata": {},
     "output_type": "display_data"
    }
   ],
   "source": [
    "# Set style of scatterplot\n",
    "sns.set_context(\"notebook\", font_scale=1.1)\n",
    "sns.set_style(\"ticks\")\n",
    "\n",
    "# Create scatterplot of dataframe\n",
    "plt = sns.lmplot('Distance', # Horizontal axis\n",
    "           'Performance', # Vertical axis\n",
    "           data=df, # Data source\n",
    "           fit_reg=False, # Don't fix a regression line\n",
    "            )"
   ]
  },
  {
   "cell_type": "code",
   "execution_count": 43,
   "metadata": {},
   "outputs": [
    {
     "data": {
      "text/plain": [
       "(0, 400)"
      ]
     },
     "execution_count": 43,
     "metadata": {},
     "output_type": "execute_result"
    },
    {
     "data": {
      "image/png": "[encoded data removed]",
      "text/plain": [
       "<Figure size 360x360 with 1 Axes>"
      ]
     },
     "metadata": {},
     "output_type": "display_data"
    }
   ],
   "source": [
    "# Create scatterplot of dataframe\n",
    "plt = sns.lmplot('Distance', # Horizontal axis\n",
    "           'Performance', # Vertical axis\n",
    "           data=df, # Data source\n",
    "           fit_reg=False, # Don't fix a regression line\n",
    "            )\n",
    "\n",
    "axes = plt.axes\n",
    "\n",
    "axes[0,0].set_ylim(0,4000)\n",
    "axes[0,0].set_xlim(0,400)"
   ]
  },
  {
   "cell_type": "code",
   "execution_count": null,
   "metadata": {},
   "outputs": [],
   "source": []
  }
 ],
 "metadata": {
  "kernelspec": {
   "display_name": "Python 3",
   "language": "python",
   "name": "python3"
  },
  "language_info": {
   "codemirror_mode": {
    "name": "ipython",
    "version": 3
   },
   "file_extension": ".py",
   "mimetype": "text/x-python",
   "name": "python",
   "nbconvert_exporter": "python",
   "pygments_lexer": "ipython3",
   "version": "3.6.4"
  }
 },
 "nbformat": 4,
 "nbformat_minor": 2
}
