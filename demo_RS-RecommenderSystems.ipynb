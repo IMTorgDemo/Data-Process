{
 "cells": [
  {
   "cell_type": "markdown",
   "metadata": {},
   "source": [
    "# Recommender Systems and Knowledge-based Selections\n",
    "\n",
    "This notebook provides a brief introduction to the main categories of Recommendation Systems.  It goes on to show the unique value of Knowledge-based recommenders and how they can be implemented.  These systems are often overlooked because of the unwarranted notion that they are specific to the application domain.  However, they have many generalizeable concepts and offer a richer level of analysis than more superficial systems."
   ]
  },
  {
   "cell_type": "markdown",
   "metadata": {},
   "source": [
    "# Types of Recommenders\n",
    "\n",
    "Succinctly, Recommendation Systems focus on providing users with items they may be interested in selecting.  Information may come from a variety of sources and combined to create user characteristic profiles and item feature groups.  Machine learning techniques are often used to transform and manipulate data, then make predictions from it for purposes of grouping, scoring, and ranking.\n",
    "\n",
    "There are three different categories of recommender systems:\n",
    "\n",
    "I. _Collaborative Systems_ make use of similarities among users and among items.  Amazon book recommendations is a good example.  They make use of calculations to determine:\n",
    "\n",
    "* similarity between users\n",
    "* similarity between items\n",
    "* descriptions of new users and items with no information\n",
    "\n",
    "Questions concerning these systems include:\n",
    "\n",
    "* How do we find users with similar tastes to the user for whom we need a recommendation?\n",
    "* How do we measure similarity?\n",
    "* What should we do with new users, for whom a buying history is not yet available?\n",
    "* How do we deal with new items that nobody has bought yet?\n",
    "* What if we have only a few ratings that we can exploit?\n",
    "* What other techniques besides looking for similar users can we use for making a prediction about whether a certain user will like an item?\n",
    "\n",
    "\n",
    "\n",
    "II. _Content-based Systems_ use information from within users' previous selections.  Netflix movie recommendations are made from movies within a similar genre, and users' historical ratings.  Calculations consider:\n",
    "\n",
    "* similarity within item genres\n",
    "* creating and continously updating user profiles\n",
    "\n",
    "Questions concerning these systems include:\n",
    "\n",
    "* How can systems automatically acquire and continuously improve user profiles?\n",
    "* How do we determine which items match, or are at least similar to or com- patible with, a user’s interests?\n",
    "* What techniques can be used to automatically extract or learn the item descriptions to reduce manual annotation?\n",
    "\n",
    "\n",
    "\n",
    "III. _Knowledge-based Systems_ are different from the first two in that they focus on specific domains where user history is limited.  Characteristics of these systems are that data may need to be obtained from the user, directly, and that item features are objective.  Models may also be based on Subject Matter Experts' (SME) understanding of user needs.  Design of such systems are based on:\n",
    "\n",
    "* categories and types of information obtained about items\n",
    "* obtaining user preferences\n",
    "\n",
    "Questions concerning these systems include:\n",
    "\n",
    "* What kinds of domain knowledge can be represented in a knowledge base?\n",
    "* What mechanisms can be used to select and rank the items based on the user’s characteristics?\n",
    "* How do we acquire the user profile in domains in which no purchase history is available, and how can we take the customer’s explicit preferences into account?\n",
    "* Which interaction patterns can be used in interactive recommender systems?\n",
    "* Finally, in which dimensions can we personalize the dialog to maximize the precision of the preference elicitation process?\n",
    "\n",
    "\n",
    "Sometimes, a fourth recommender system is described as a _Hybrid_ of the others.  However, most practical applications of recommendation systems evolve to hybrid systems, in at least some respects.\n",
    "\n",
    "Questions concerning these systems include:\n",
    "\n",
    "* Which techniques can be combined, and what are the prerequisites for a given combination?\n",
    "* Should proposals be calculated for two or more systems sequentially, or do other hybridization designs exist?\n",
    "* How should the results of different techniques be weighted and can they be determined dynamically?\n"
   ]
  },
  {
   "cell_type": "markdown",
   "metadata": {},
   "source": [
    "# Additional Topics in the Field\n",
    "\n",
    "Additional topics within the field of Recommender Systems include:\n",
    " \n",
    "* explanation of the recommendations provided\n",
    "* evaluation techniques for improving system performance\n",
    "\n",
    "Questions concerning these topics include: \n",
    "\n",
    "* How can a recommender system explain its proposals while increasing the user’s confidence in the system?\n",
    "* How does the recommendation strategy affect the way recommendations can be explained?\n",
    "* Can explanations be used to convince a user that the proposals made by the system are “fair” or unbiased?\n",
    "* How can recommender systems be evaluated using experiments on historical datasets?\n",
    "* What metrics are applicable for different evaluation goals?"
   ]
  },
  {
   "cell_type": "markdown",
   "metadata": {},
   "source": [
    "# Knowledge-based Selections\n",
    "\n",
    "In order for Collaborative or Content systems to work effectively, there must be frequent selections, preferably, from a large number of users.  This is not the scenario for items that are: i) not bought often, ii) not rated often, iii) complex, multi-faceted products.  Here, the reasons for selection far outnumber the frequencey of selections and users searching.\n",
    "\n",
    "Recommendations are made based on:\n",
    "\n",
    "* _similarities_ of user requirements and items\n",
    "* explicit _recommendation rules_ \n",
    "\n",
    "In addition, because of the complexity of the decision, the systems are often called _conversational_.  Users often need personalized interaction while providing information, and explanation after the recommendation is made.\n",
    "\n",
    "Three basic types of Knowledge-based systems and their basis for item selection are:\n",
    "\n",
    "* constaint-based: explicitly defined recommendation rules\n",
    "* case-based: item similarity measures\n",
    "* hybrid: uses components of both techniques\n"
   ]
  },
  {
   "cell_type": "markdown",
   "metadata": {},
   "source": [
    "### Constraint-based method\n",
    "\n",
    "The domain of possible solutions is determined by two different sets of variables (V = Vc ∪ Vprod), one describing potential customer requirements and the other describing product properties, or domain of possibility.  Example Vc: customer property _max-price_ a customer is willing to pay, and Vprod _mpix_ denotes possible resolutions of a digital camera.\n",
    "\n",
    "Three different sets of constraints (C = Cr ∪ Cf ∪ Cprod) define which items should be recommended to a customer in which situation.  Cr - compatibility constraints, Cf - filter conditions, Cprod - product constraints (entire product item).  Example Cr: if large-size photoprints are required, the maximal accepted price must be higher than 200.  Example Cf: if large-size photoprints, then resolutions greater than 5 mpix required.  Example Cprod: p1:{price:148, mpix:8.0,...}. \n",
    "\n",
    "Each solution to the _constraint satistfaction problem (CSP)_ (V = Vc ∪ Vprod, D, C = Cr ∪ Cf ∪ Cprod ∪ REQ) corresponds to a consistent recommendation.\n"
   ]
  },
  {
   "cell_type": "markdown",
   "metadata": {},
   "source": [
    "### Utility-based method"
   ]
  },
  {
   "cell_type": "markdown",
   "metadata": {},
   "source": [
    "Stuff about utitlity-based method ..."
   ]
  },
  {
   "cell_type": "markdown",
   "metadata": {},
   "source": [
    "### Case-based method"
   ]
  },
  {
   "cell_type": "markdown",
   "metadata": {},
   "source": [
    "If we cannot match user user requirements, exactly, then we must use similarity measures that describe the extent that the items do match.  In this context, sim(p,r) expresses for each item attribute value φr(p) its distance to the customer requirement r ∈ REQ.  For example, φmpix(p1) = 8.0.\n",
    "```\n",
    "similarity(p, REQ) = ( Sum_r∈REQ (w_r ∗sim(p,r)) / ( Sum_r∈REQ (w_r) )\n",
    "```\n",
    "where\n",
    "```\n",
    "MoreIsBetter: sim(p,r)= ( φr(p)−min(r) ) / ( max(r) − min(r) )\n",
    "LessIsBetter: sim(p,r)= ( max(r)-φr(p) ) / ( max(r) − min(r) )\n",
    "CloseIsBetter: sim(p,r)= 1 - ( | φr(p)-r | / ( max(r) − min(r) ))\n",
    "```\n",
    "\n",
    "Case-based often use _critiquing_ by getting feedback from users in order to improve recommendations.\n",
    " "
   ]
  },
  {
   "cell_type": "markdown",
   "metadata": {},
   "source": []
  },
  {
   "cell_type": "markdown",
   "metadata": {},
   "source": [
    "### Application"
   ]
  },
  {
   "cell_type": "markdown",
   "metadata": {},
   "source": [
    "Obtaining information from users can be a difficult task.  This can often spill-over to other fields, such as item-response theory and psychometrics.  However, recommender systems should resist the temptation to go in these directions.  Questions should be few and short.  Additional information can be obtained from Subject Matter Experts investigating user needs and adjusting the recommender in their own user interface.\n",
    "\n",
    "Additional information may also come from external data sources.  This can lead the Knowledge-based system to evolve with Content-based profiling and become a Hybrid system.  This happens particularly with item category, genre and key-word information."
   ]
  },
  {
   "cell_type": "code",
   "execution_count": null,
   "metadata": {},
   "outputs": [],
   "source": []
  },
  {
   "cell_type": "markdown",
   "metadata": {},
   "source": [
    "# Implementation"
   ]
  },
  {
   "cell_type": "markdown",
   "metadata": {},
   "source": [
    "A recommendation can be viewed as a data filtering task, or _conjunctive query_, on a database with a set of selection criteria.  `σ[mpix≥10,price<300](P)` is such a conjunctive query on the database table P (which represents Vprod as columns / attributes and Cprod as records / entries), where σ represents the selection operator and `[mpix ≥ 10, price < 300]` the corresponding selection criteria.\n",
    "\n",
    "Steps to implement conjuctive query\n",
    "\n",
    "* determine user\n",
    "  + domain of needs (Vc)\n",
    "  + constraints (Cr)\n",
    "  + priority of product attributes\n",
    "* create table of products P (Cprod x Vprod)\n",
    "* naive solution\n",
    "  + remove product records that do not meet Vc, Cr: `σ[mpix≥10,price<300](P) = {p1,p2,p3,p4,p5,p6,p7}`\n",
    "  + sort based on prioritized attributes: `σ[mpix≥10,price<300](P) = {p4,p7}`\n",
    "  + solution is top table record: `σ[mpix≥10,price<300](P) = {p4}`\n",
    "* complex solution (no solution exists for naive method: `σ[mpix≥10,price<300](P) = {}`)\n",
    "  + perform naive method to step possible\n",
    "  + use case-based and utility-based methods for similarity measures and weighting\n",
    "  + ..."
   ]
  },
  {
   "cell_type": "code",
   "execution_count": null,
   "metadata": {},
   "outputs": [],
   "source": []
  },
  {
   "cell_type": "markdown",
   "metadata": {},
   "source": [
    "# Reference: Literature\n",
    "\n",
    "### Books\n",
    "\n",
    "__Used extensively__\n",
    "\n",
    "* Recommender Systems: An Introduction\n",
    "* Machine Learning Applications in Recommender Systems\n",
    "\n",
    "__General understanding__\n",
    "\n",
    "* Building a Recommendation System with R\n",
    "* Probabilistic Approaches to Recommendations\n",
    "* Recommender Systems: A Handbook\n",
    "\n",
    "\n",
    "\n",
    "### Additional Sources\n",
    "\n",
    "__Projects__\n",
    "* [recommendation system python notebooks](https://github.com/amitkaps/recommendation)\n",
    "* [discussion of distance metrics](http://www.benfrederickson.com/distance-metrics/)\n",
    "* [Surprise Scikit project for recommender systems](http://surpriselib.com/)\n",
    "* [Entree System source data](https://github.com/KinGoverm/ai/tree/master/dataset/entree)\n",
    "* [Entree System project information](https://kdd.ics.uci.edu/databases/entree/entree.data.html)\n",
    "\n",
    "__Papers__\n",
    "\n",
    "* [papers and articles on recommender systems](https://github.com/daicoolb/RecommenderSystem-Paper)\n",
    "* [overview of recommender systems](http://www.cis.upenn.edu/~ungar/CF/)\n",
    "* [wikipedia: recommendation systems](https://en.wikipedia.org/wiki/Recommender_system)\n",
    "* [wikipedia: knowledge-based](https://en.wikipedia.org/wiki/Knowledge-based_recommender_system)"
   ]
  },
  {
   "cell_type": "code",
   "execution_count": null,
   "metadata": {},
   "outputs": [],
   "source": []
  }
 ],
 "metadata": {
  "kernelspec": {
   "display_name": "Scala",
   "language": "scala",
   "name": "scala"
  },
  "language_info": {
   "codemirror_mode": "text/x-scala",
   "file_extension": ".scala",
   "mimetype": "",
   "name": "Scala",
   "nbconverter_exporter": "",
   "version": "2.11.12"
  }
 },
 "nbformat": 4,
 "nbformat_minor": 2
}
