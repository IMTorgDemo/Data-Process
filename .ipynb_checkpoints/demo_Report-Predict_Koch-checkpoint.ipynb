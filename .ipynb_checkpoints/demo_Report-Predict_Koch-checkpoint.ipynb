{
 "cells": [
  {
   "cell_type": "markdown",
   "metadata": {},
   "source": [
    "# Predict Responses from Input"
   ]
  },
  {
   "cell_type": "markdown",
   "metadata": {},
   "source": [
    "<br>\n",
    "\n",
    "\n",
    "# Prepare Environment"
   ]
  },
  {
   "cell_type": "markdown",
   "metadata": {},
   "source": [
    "__Configure__"
   ]
  },
  {
   "cell_type": "code",
   "execution_count": 4,
   "metadata": {},
   "outputs": [],
   "source": [
    "import numpy as np\n",
    "import pandas as pd\n",
    "\n",
    "np.__version__, pd.__version__\n",
    "\n",
    "%matplotlib inline\n",
    "%load_ext rpy2.ipython\n",
    "\n",
    "import warnings\n",
    "warnings.filterwarnings('ignore')\n",
    "\n",
    "#pd.set_option('display.height', 500)\n",
    "pd.set_option('display.max_rows', 50)"
   ]
  },
  {
   "cell_type": "markdown",
   "metadata": {},
   "source": [
    "__Load Model__"
   ]
  },
  {
   "cell_type": "code",
   "execution_count": 51,
   "metadata": {},
   "outputs": [
    {
     "name": "stdout",
     "output_type": "stream",
     "text": [
      "dt_gs_model.sav  knn_gs_model.sav  log_gs_model.sav  rf_gs_model.sav\n"
     ]
    }
   ],
   "source": [
    "! ls Data/survey/Models"
   ]
  },
  {
   "cell_type": "code",
   "execution_count": 8,
   "metadata": {},
   "outputs": [],
   "source": [
    "from sklearn.externals import joblib\n",
    "import os\n",
    "\n",
    "cwd = os.getcwd()\n",
    "file_path = cwd+'/Data/survey/Models/'\n",
    "filename = file_path+'knn_gs_model.sav'\n",
    "# load the model from disk\n",
    "loaded_model = joblib.load(filename)"
   ]
  },
  {
   "cell_type": "markdown",
   "metadata": {},
   "source": [
    "__Load Data__"
   ]
  },
  {
   "cell_type": "code",
   "execution_count": 10,
   "metadata": {},
   "outputs": [
    {
     "name": "stdout",
     "output_type": "stream",
     "text": [
      "(29231, 149)\n"
     ]
    },
    {
     "data": {
      "text/html": [
       "<div>\n",
       "<style scoped>\n",
       "    .dataframe tbody tr th:only-of-type {\n",
       "        vertical-align: middle;\n",
       "    }\n",
       "\n",
       "    .dataframe tbody tr th {\n",
       "        vertical-align: top;\n",
       "    }\n",
       "\n",
       "    .dataframe thead th {\n",
       "        text-align: right;\n",
       "    }\n",
       "</style>\n",
       "<table border=\"1\" class=\"dataframe\">\n",
       "  <thead>\n",
       "    <tr style=\"text-align: right;\">\n",
       "      <th></th>\n",
       "      <th>ID</th>\n",
       "      <th>State</th>\n",
       "      <th>f1</th>\n",
       "      <th>f2</th>\n",
       "      <th>f3</th>\n",
       "      <th>f4</th>\n",
       "      <th>f5</th>\n",
       "      <th>f6</th>\n",
       "      <th>f7</th>\n",
       "      <th>f8</th>\n",
       "      <th>...</th>\n",
       "      <th>f138</th>\n",
       "      <th>f139</th>\n",
       "      <th>f140</th>\n",
       "      <th>f141</th>\n",
       "      <th>f142</th>\n",
       "      <th>f143</th>\n",
       "      <th>f144</th>\n",
       "      <th>f145</th>\n",
       "      <th>f146</th>\n",
       "      <th>f147</th>\n",
       "    </tr>\n",
       "  </thead>\n",
       "  <tbody>\n",
       "    <tr>\n",
       "      <th>0</th>\n",
       "      <td>3094</td>\n",
       "      <td>AK</td>\n",
       "      <td>AK01</td>\n",
       "      <td>69</td>\n",
       "      <td>E</td>\n",
       "      <td>61.0</td>\n",
       "      <td>55.33333</td>\n",
       "      <td>66.0</td>\n",
       "      <td>52.33333</td>\n",
       "      <td>49.25</td>\n",
       "      <td>...</td>\n",
       "      <td>5.0</td>\n",
       "      <td>3.0</td>\n",
       "      <td>3.0</td>\n",
       "      <td>4.0</td>\n",
       "      <td>4.0</td>\n",
       "      <td>7.0</td>\n",
       "      <td>4.0</td>\n",
       "      <td>1.0</td>\n",
       "      <td>1.0</td>\n",
       "      <td>NaN</td>\n",
       "    </tr>\n",
       "    <tr>\n",
       "      <th>1</th>\n",
       "      <td>13856</td>\n",
       "      <td>AK</td>\n",
       "      <td>AK01</td>\n",
       "      <td>59</td>\n",
       "      <td>M</td>\n",
       "      <td>61.0</td>\n",
       "      <td>55.33333</td>\n",
       "      <td>66.0</td>\n",
       "      <td>52.33333</td>\n",
       "      <td>49.25</td>\n",
       "      <td>...</td>\n",
       "      <td>6.0</td>\n",
       "      <td>6.0</td>\n",
       "      <td>9.0</td>\n",
       "      <td>9.0</td>\n",
       "      <td>5.0</td>\n",
       "      <td>7.0</td>\n",
       "      <td>8.0</td>\n",
       "      <td>4.0</td>\n",
       "      <td>4.0</td>\n",
       "      <td>NaN</td>\n",
       "    </tr>\n",
       "    <tr>\n",
       "      <th>2</th>\n",
       "      <td>16213</td>\n",
       "      <td>AK</td>\n",
       "      <td>AK01</td>\n",
       "      <td>63</td>\n",
       "      <td>D</td>\n",
       "      <td>61.0</td>\n",
       "      <td>55.33333</td>\n",
       "      <td>66.0</td>\n",
       "      <td>52.33333</td>\n",
       "      <td>49.25</td>\n",
       "      <td>...</td>\n",
       "      <td>7.0</td>\n",
       "      <td>6.0</td>\n",
       "      <td>6.0</td>\n",
       "      <td>9.0</td>\n",
       "      <td>7.0</td>\n",
       "      <td>2.0</td>\n",
       "      <td>6.0</td>\n",
       "      <td>1.0</td>\n",
       "      <td>1.0</td>\n",
       "      <td>NaN</td>\n",
       "    </tr>\n",
       "    <tr>\n",
       "      <th>3</th>\n",
       "      <td>17196</td>\n",
       "      <td>AK</td>\n",
       "      <td>AK01</td>\n",
       "      <td>55</td>\n",
       "      <td>D</td>\n",
       "      <td>61.0</td>\n",
       "      <td>55.33333</td>\n",
       "      <td>66.0</td>\n",
       "      <td>52.33333</td>\n",
       "      <td>49.25</td>\n",
       "      <td>...</td>\n",
       "      <td>5.0</td>\n",
       "      <td>6.0</td>\n",
       "      <td>4.0</td>\n",
       "      <td>2.0</td>\n",
       "      <td>1.0</td>\n",
       "      <td>6.0</td>\n",
       "      <td>6.0</td>\n",
       "      <td>3.0</td>\n",
       "      <td>2.0</td>\n",
       "      <td>NaN</td>\n",
       "    </tr>\n",
       "    <tr>\n",
       "      <th>4</th>\n",
       "      <td>17762</td>\n",
       "      <td>AK</td>\n",
       "      <td>AK01</td>\n",
       "      <td>75</td>\n",
       "      <td>D</td>\n",
       "      <td>61.0</td>\n",
       "      <td>55.33333</td>\n",
       "      <td>66.0</td>\n",
       "      <td>52.33333</td>\n",
       "      <td>49.25</td>\n",
       "      <td>...</td>\n",
       "      <td>4.0</td>\n",
       "      <td>4.0</td>\n",
       "      <td>1.0</td>\n",
       "      <td>1.0</td>\n",
       "      <td>1.0</td>\n",
       "      <td>3.0</td>\n",
       "      <td>3.0</td>\n",
       "      <td>0.0</td>\n",
       "      <td>0.0</td>\n",
       "      <td>NaN</td>\n",
       "    </tr>\n",
       "  </tbody>\n",
       "</table>\n",
       "<p>5 rows × 149 columns</p>\n",
       "</div>"
      ],
      "text/plain": [
       "      ID State    f1  f2 f3    f4        f5    f6        f7     f8  ...   \\\n",
       "0   3094    AK  AK01  69  E  61.0  55.33333  66.0  52.33333  49.25  ...    \n",
       "1  13856    AK  AK01  59  M  61.0  55.33333  66.0  52.33333  49.25  ...    \n",
       "2  16213    AK  AK01  63  D  61.0  55.33333  66.0  52.33333  49.25  ...    \n",
       "3  17196    AK  AK01  55  D  61.0  55.33333  66.0  52.33333  49.25  ...    \n",
       "4  17762    AK  AK01  75  D  61.0  55.33333  66.0  52.33333  49.25  ...    \n",
       "\n",
       "   f138  f139  f140 f141 f142  f143  f144  f145  f146  f147  \n",
       "0   5.0   3.0   3.0  4.0  4.0   7.0   4.0   1.0   1.0   NaN  \n",
       "1   6.0   6.0   9.0  9.0  5.0   7.0   8.0   4.0   4.0   NaN  \n",
       "2   7.0   6.0   6.0  9.0  7.0   2.0   6.0   1.0   1.0   NaN  \n",
       "3   5.0   6.0   4.0  2.0  1.0   6.0   6.0   3.0   2.0   NaN  \n",
       "4   4.0   4.0   1.0  1.0  1.0   3.0   3.0   0.0   0.0   NaN  \n",
       "\n",
       "[5 rows x 149 columns]"
      ]
     },
     "execution_count": 10,
     "metadata": {},
     "output_type": "execute_result"
    }
   ],
   "source": [
    "file3 = pd.read_csv(\"Data/survey/File3.csv\")\n",
    "print(file3.shape)\n",
    "file3.head()"
   ]
  },
  {
   "cell_type": "markdown",
   "metadata": {},
   "source": [
    "<br>\n",
    "\n",
    "# Implement the Model\n",
    "\n",
    "In future work, I would add these as a custom pipeline.  The additional transformations would be part of the model pipeline, so that the model would be completely self-contained."
   ]
  },
  {
   "cell_type": "markdown",
   "metadata": {},
   "source": [
    "__Prepare Features__"
   ]
  },
  {
   "cell_type": "code",
   "execution_count": 12,
   "metadata": {},
   "outputs": [],
   "source": [
    "feat = file3.drop(columns=[\"ID\"])"
   ]
  },
  {
   "cell_type": "code",
   "execution_count": 13,
   "metadata": {},
   "outputs": [],
   "source": [
    "#create age groups\n",
    "feat['age_bin'] = pd.cut(feat.f2, \n",
    "                   bins=[0, 19, 29, 39, 49, 59, 999], \n",
    "                   labels=['0-19', '20-29', '30-39', '40-49', '50-59', '60+'],\n",
    "                   include_lowest=True)"
   ]
  },
  {
   "cell_type": "code",
   "execution_count": 14,
   "metadata": {},
   "outputs": [],
   "source": [
    "#assume no problem with type conversion, with more time I would be more careful\n",
    "cont_var = ['f2']\n",
    "feat[cont_var] = feat[cont_var].astype(\"float64\")\n",
    "categ_var = ['f93', 'f94','age_bin']\n",
    "feat[categ_var] = feat[categ_var].astype(\"category\")"
   ]
  },
  {
   "cell_type": "code",
   "execution_count": 15,
   "metadata": {},
   "outputs": [
    {
     "data": {
      "text/plain": [
       "(29231, 149)"
      ]
     },
     "execution_count": 15,
     "metadata": {},
     "output_type": "execute_result"
    }
   ],
   "source": [
    "#assume no problem with type conversion, with more time I would be more careful\n",
    "categ = feat.select_dtypes(['object']).apply(pd.Series.astype, dtype='category')\n",
    "feat2 = feat.loc[:, feat.dtypes != np.object]\n",
    "feat3 = feat2.join(categ)\n",
    "feat3.shape    #chk: 24 + 126"
   ]
  },
  {
   "cell_type": "markdown",
   "metadata": {},
   "source": [
    "__Checks__"
   ]
  },
  {
   "cell_type": "code",
   "execution_count": 50,
   "metadata": {},
   "outputs": [],
   "source": [
    "X_live = feat3\n",
    "print( X_live.shape )\n",
    "\n",
    "(feat3.dtypes).value_counts().head()"
   ]
  },
  {
   "cell_type": "markdown",
   "metadata": {},
   "source": [
    "__Apply Model__"
   ]
  },
  {
   "cell_type": "code",
   "execution_count": 19,
   "metadata": {},
   "outputs": [],
   "source": [
    "y_class_prob = loaded_model.predict_proba(X_live) \n",
    "\n",
    "y_pred = loaded_model.predict(X_live)"
   ]
  },
  {
   "cell_type": "markdown",
   "metadata": {},
   "source": [
    "__Checks__"
   ]
  },
  {
   "cell_type": "code",
   "execution_count": 21,
   "metadata": {},
   "outputs": [],
   "source": [
    "print( len(y_class_prob))\n",
    "print( len(y_pred))\n",
    "\n",
    "print( np.mean(y_class_prob) )"
   ]
  },
  {
   "cell_type": "markdown",
   "metadata": {},
   "source": [
    "__Save Output__"
   ]
  },
  {
   "cell_type": "code",
   "execution_count": 41,
   "metadata": {},
   "outputs": [],
   "source": [
    "lClass_prob = [ x[1] for x in y_class_prob]\n",
    "lPredict = [x for x in y_pred]\n",
    "\n",
    "df = pd.DataFrame({'Class_Prob':lClass_prob, 'Class_Pred':lPredict})\n",
    "\n",
    "file_path = cwd + '/Data/survey/Predict/'\n",
    "filename_path = file_path + 'results.csv'\n",
    "df.to_csv(filename_path, index=False)"
   ]
  },
  {
   "cell_type": "code",
   "execution_count": 48,
   "metadata": {},
   "outputs": [
    {
     "name": "stdout",
     "output_type": "stream",
     "text": [
      "Class_Prob,Class_Pred\n",
      "0.0,0\n",
      "1.0,1\n",
      "0.0,0\n",
      "1.0,1\n",
      "0.3333333333333333,0\n",
      "1.0,1\n",
      "1.0,1\n",
      "0.0,0\n",
      "1.0,1\n"
     ]
    }
   ],
   "source": [
    "! head /home/jovyan/work/notebooks/IMTorgDemo-Notebooks/Data/survey/Predict/results.csv"
   ]
  },
  {
   "cell_type": "code",
   "execution_count": 49,
   "metadata": {},
   "outputs": [],
   "source": [
    "#Thank you, and good night!"
   ]
  },
  {
   "cell_type": "code",
   "execution_count": null,
   "metadata": {},
   "outputs": [],
   "source": []
  }
 ],
 "metadata": {
  "kernelspec": {
   "display_name": "Python 3",
   "language": "python",
   "name": "python3"
  },
  "language_info": {
   "codemirror_mode": {
    "name": "ipython",
    "version": 3
   },
   "file_extension": ".py",
   "mimetype": "text/x-python",
   "name": "python",
   "nbconvert_exporter": "python",
   "pygments_lexer": "ipython3",
   "version": "3.6.6"
  }
 },
 "nbformat": 4,
 "nbformat_minor": 2
}
