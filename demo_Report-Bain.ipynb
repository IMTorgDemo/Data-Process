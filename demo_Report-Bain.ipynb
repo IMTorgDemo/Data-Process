{
 "cells": [
  {
   "cell_type": "markdown",
   "metadata": {},
   "source": [
    "# Data Analysis Question for Bain"
   ]
  },
  {
   "cell_type": "markdown",
   "metadata": {},
   "source": [
    "__GIVEN__: 70 bike stations, 2 years of trips, weather\n",
    "\n",
    "__NEED__: net change in stock of bikes, at each station for the time-window of two pick-up/drop-off visits\n",
    "\n",
    "__CONDITION__, change for each station:\n",
    "* number of loading-visits \n",
    "* time windows\n",
    "\n",
    "<hr>"
   ]
  },
  {
   "cell_type": "markdown",
   "metadata": {},
   "source": [
    "__SOLUTION__, predictive model: trips_ended - trips_start (net-rate), for each station, for each hour\n",
    "\n",
    "__EVALUATE__: root mean squared-error\n",
    "\n",
    "<hr>"
   ]
  },
  {
   "cell_type": "markdown",
   "metadata": {},
   "source": [
    "__STEPS__:\n",
    "* explore data\n",
    "* model approach\n",
    "* model performance\n",
    "* future work for improvements\n",
    "* conclusions\n",
    "\n",
    "__DELIVER__:\n",
    "* .html\n",
    "* .ipynb\n",
    "* .py"
   ]
  },
  {
   "cell_type": "markdown",
   "metadata": {},
   "source": [
    "<br>\n",
    "<br>\n",
    "<hr>\n",
    "\n",
    "# Configure"
   ]
  },
  {
   "cell_type": "code",
   "execution_count": 1,
   "metadata": {},
   "outputs": [
    {
     "data": {
      "text/plain": [
       "'0.23.4'"
      ]
     },
     "execution_count": 1,
     "metadata": {},
     "output_type": "execute_result"
    }
   ],
   "source": [
    "import numpy as np\n",
    "import pandas as pd\n",
    "from pandas import Timestamp\n",
    "\n",
    "pd.__version__"
   ]
  },
  {
   "cell_type": "code",
   "execution_count": 2,
   "metadata": {},
   "outputs": [],
   "source": [
    "# py-ggplot is no longer maintained.  convert data to r for use with ggplot2 using rpy2\n",
    "#\n",
    "# ensure you have required dependencies:\n",
    "# sudo apt-get update\n",
    "# sudo apt-get install git-core curl zlib1g-dev build-essential libssl-dev libreadline-dev libyaml-dev libsqlite3-dev sqlite3 libxml2-dev libxslt1-dev libcurl4-openssl-dev python-software-properties libffi-dev\n",
    "# sudo apt-get install libreadline-dev \n",
    "# conda install simplegeneric\n",
    "# \n",
    "# re-install R packages for current version using advice from, here: https://www.r-bloggers.com/automated-re-install-of-packages-for-r-3-0/\n",
    "%load_ext rpy2.ipython\n",
    "\n",
    "df = pd.DataFrame({\n",
    "    'cups_of_coffee': [0, 1, 2, 3, 4, 5, 6, 7, 8, 9],\n",
    "    'productivity': [2, 5, 6, 8, 9, 8, 0, 1, 0, -1]\n",
    "})"
   ]
  },
  {
   "cell_type": "code",
   "execution_count": 4,
   "metadata": {},
   "outputs": [
    {
     "data": {
      "image/png": "[encoded data removed]"
     },
     "metadata": {},
     "output_type": "display_data"
    }
   ],
   "source": [
    "%%R -i df -w 3 -h 1.5 --units in -r 100 \n",
    "library(ggplot2)\n",
    "ggplot(df, aes(x=cups_of_coffee, y=productivity)) + geom_line()"
   ]
  },
  {
   "cell_type": "code",
   "execution_count": 5,
   "metadata": {},
   "outputs": [],
   "source": [
    "from sklearn import metrics\n",
    "from sklearn import linear_model"
   ]
  },
  {
   "cell_type": "markdown",
   "metadata": {},
   "source": [
    "<br>\n",
    "<br>\n",
    "<hr>\n",
    "\n",
    "# Data Load"
   ]
  },
  {
   "cell_type": "code",
   "execution_count": 6,
   "metadata": {},
   "outputs": [
    {
     "name": "stdout",
     "output_type": "stream",
     "text": [
      "'Bain and Company Data Science Test Introduction_Jason Beach.docx'\n",
      " bikes_data_only.zip\n",
      " sol_TEST-BAIN.txt\n",
      " station_data.csv\n",
      "'TEST - BAIN.html'\n",
      "'TEST - BAIN.html.zip'\n",
      " trip_data.csv\n",
      " weather_data.csv\n"
     ]
    }
   ],
   "source": [
    "! ls Data/bike/"
   ]
  },
  {
   "cell_type": "code",
   "execution_count": 7,
   "metadata": {},
   "outputs": [
    {
     "name": "stdout",
     "output_type": "stream",
     "text": [
      "There are 76 rows in this dataset\n",
      "There are 6 columns in this dataset\n"
     ]
    }
   ],
   "source": [
    "station = pd.read_csv(\"Data/bike/station_data.csv\")\n",
    "shp = station.shape\n",
    "print( \"There are {:,} rows in this dataset\".format(shp[0]) )\n",
    "print( \"There are {} columns in this dataset\".format(shp[1]) )"
   ]
  },
  {
   "cell_type": "code",
   "execution_count": 8,
   "metadata": {},
   "outputs": [
    {
     "name": "stdout",
     "output_type": "stream",
     "text": [
      "There are 354,152 rows in this dataset\n",
      "There are 6 columns in this dataset\n"
     ]
    }
   ],
   "source": [
    "trip = pd.read_csv(\"Data/bike/trip_data.csv\")\n",
    "shp = trip.shape\n",
    "print( \"There are {:,} rows in this dataset\".format(shp[0]) )\n",
    "print( \"There are {} columns in this dataset\".format(shp[1]) )"
   ]
  },
  {
   "cell_type": "code",
   "execution_count": 9,
   "metadata": {},
   "outputs": [
    {
     "name": "stdout",
     "output_type": "stream",
     "text": [
      "There are 1,825 rows in this dataset\n",
      "There are 24 columns in this dataset\n"
     ]
    }
   ],
   "source": [
    "weather = pd.read_csv(\"Data/bike/weather_data.csv\")\n",
    "shp = weather.shape\n",
    "print( \"There are {:,} rows in this dataset\".format(shp[0]) )\n",
    "print( \"There are {} columns in this dataset\".format(shp[1]) )"
   ]
  },
  {
   "cell_type": "code",
   "execution_count": 10,
   "metadata": {},
   "outputs": [
    {
     "name": "stdout",
     "output_type": "stream",
     "text": [
      "Index(['Id', 'Name', 'Lat', 'Long', 'Dock Count', 'City'], dtype='object')\n",
      "Index(['Trip ID', 'Start Date', 'Start Station', 'End Date', 'End Station',\n",
      "       'Subscriber Type'],\n",
      "      dtype='object')\n"
     ]
    }
   ],
   "source": [
    "print(station.columns)\n",
    "print(trip.columns)"
   ]
  },
  {
   "cell_type": "markdown",
   "metadata": {},
   "source": [
    "<br>\n",
    "<br>\n",
    "<hr>\n",
    "\n",
    "# Data Clean"
   ]
  },
  {
   "cell_type": "code",
   "execution_count": 11,
   "metadata": {},
   "outputs": [],
   "source": [
    "station[\"new_station\"] = 0\n",
    "station.loc[station.Id == 23, \"new_station\"] = 85\n",
    "station.loc[station.Id == 23, \"new_station\"] = 85\n",
    "station.loc[station.Id == 25, \"new_station\"] = 86\n",
    "station.loc[station.Id == 49, \"new_station\"] = 87\n",
    "station.loc[station.Id == 69, \"new_station\"] = 88\n",
    "station.loc[station.Id == 72, \"new_station\"] = 89\n",
    "station.loc[station.Id == 89, \"new_station\"] = 90"
   ]
  },
  {
   "cell_type": "code",
   "execution_count": 12,
   "metadata": {},
   "outputs": [],
   "source": [
    "trip[\"StartTs\"] = pd.to_datetime(trip[\"Start Date\"])\n",
    "trip[\"EndTs\"] = pd.to_datetime(trip[\"End Date\"])"
   ]
  },
  {
   "cell_type": "code",
   "execution_count": 13,
   "metadata": {},
   "outputs": [],
   "source": [
    "trip2 = trip"
   ]
  },
  {
   "cell_type": "markdown",
   "metadata": {},
   "source": [
    "<br>\n",
    "<br>\n",
    "<hr>\n",
    "\n",
    "# Data Transform"
   ]
  },
  {
   "cell_type": "markdown",
   "metadata": {},
   "source": [
    "__Basic__"
   ]
  },
  {
   "cell_type": "code",
   "execution_count": 14,
   "metadata": {},
   "outputs": [
    {
     "data": {
      "text/html": [
       "<div>\n",
       "<style scoped>\n",
       "    .dataframe tbody tr th:only-of-type {\n",
       "        vertical-align: middle;\n",
       "    }\n",
       "\n",
       "    .dataframe tbody tr th {\n",
       "        vertical-align: top;\n",
       "    }\n",
       "\n",
       "    .dataframe thead th {\n",
       "        text-align: right;\n",
       "    }\n",
       "</style>\n",
       "<table border=\"1\" class=\"dataframe\">\n",
       "  <thead>\n",
       "    <tr style=\"text-align: right;\">\n",
       "      <th></th>\n",
       "      <th>Trip ID</th>\n",
       "      <th>Start Date</th>\n",
       "      <th>Start Station</th>\n",
       "      <th>End Date</th>\n",
       "      <th>End Station</th>\n",
       "      <th>Subscriber Type</th>\n",
       "      <th>StartTs</th>\n",
       "      <th>EndTs</th>\n",
       "    </tr>\n",
       "  </thead>\n",
       "  <tbody>\n",
       "    <tr>\n",
       "      <th>0</th>\n",
       "      <td>913460</td>\n",
       "      <td>31/08/2015 23:26</td>\n",
       "      <td>50</td>\n",
       "      <td>31/08/2015 23:39</td>\n",
       "      <td>70</td>\n",
       "      <td>Subscriber</td>\n",
       "      <td>2015-08-31 23:26:00</td>\n",
       "      <td>2015-08-31 23:39:00</td>\n",
       "    </tr>\n",
       "    <tr>\n",
       "      <th>1</th>\n",
       "      <td>913459</td>\n",
       "      <td>31/08/2015 23:11</td>\n",
       "      <td>31</td>\n",
       "      <td>31/08/2015 23:28</td>\n",
       "      <td>27</td>\n",
       "      <td>Subscriber</td>\n",
       "      <td>2015-08-31 23:11:00</td>\n",
       "      <td>2015-08-31 23:28:00</td>\n",
       "    </tr>\n",
       "  </tbody>\n",
       "</table>\n",
       "</div>"
      ],
      "text/plain": [
       "   Trip ID        Start Date  Start Station          End Date  End Station  \\\n",
       "0   913460  31/08/2015 23:26             50  31/08/2015 23:39           70   \n",
       "1   913459  31/08/2015 23:11             31  31/08/2015 23:28           27   \n",
       "\n",
       "  Subscriber Type             StartTs               EndTs  \n",
       "0      Subscriber 2015-08-31 23:26:00 2015-08-31 23:39:00  \n",
       "1      Subscriber 2015-08-31 23:11:00 2015-08-31 23:28:00  "
      ]
     },
     "execution_count": 14,
     "metadata": {},
     "output_type": "execute_result"
    }
   ],
   "source": [
    "trip2.head(2)"
   ]
  },
  {
   "cell_type": "code",
   "execution_count": 15,
   "metadata": {},
   "outputs": [
    {
     "data": {
      "text/html": [
       "<div>\n",
       "<style scoped>\n",
       "    .dataframe tbody tr th:only-of-type {\n",
       "        vertical-align: middle;\n",
       "    }\n",
       "\n",
       "    .dataframe tbody tr th {\n",
       "        vertical-align: top;\n",
       "    }\n",
       "\n",
       "    .dataframe thead th {\n",
       "        text-align: right;\n",
       "    }\n",
       "</style>\n",
       "<table border=\"1\" class=\"dataframe\">\n",
       "  <thead>\n",
       "    <tr style=\"text-align: right;\">\n",
       "      <th></th>\n",
       "      <th>Id</th>\n",
       "      <th>Name</th>\n",
       "      <th>Lat</th>\n",
       "      <th>Long</th>\n",
       "      <th>Dock Count</th>\n",
       "      <th>City</th>\n",
       "      <th>new_station</th>\n",
       "    </tr>\n",
       "  </thead>\n",
       "  <tbody>\n",
       "    <tr>\n",
       "      <th>0</th>\n",
       "      <td>2</td>\n",
       "      <td>San Jose Diridon Caltrain Station</td>\n",
       "      <td>37.329732</td>\n",
       "      <td>-121.901782</td>\n",
       "      <td>27</td>\n",
       "      <td>San Jose</td>\n",
       "      <td>0</td>\n",
       "    </tr>\n",
       "    <tr>\n",
       "      <th>1</th>\n",
       "      <td>3</td>\n",
       "      <td>San Jose Civic Center</td>\n",
       "      <td>37.330698</td>\n",
       "      <td>-121.888979</td>\n",
       "      <td>15</td>\n",
       "      <td>San Jose</td>\n",
       "      <td>0</td>\n",
       "    </tr>\n",
       "  </tbody>\n",
       "</table>\n",
       "</div>"
      ],
      "text/plain": [
       "   Id                               Name        Lat        Long  Dock Count  \\\n",
       "0   2  San Jose Diridon Caltrain Station  37.329732 -121.901782          27   \n",
       "1   3              San Jose Civic Center  37.330698 -121.888979          15   \n",
       "\n",
       "       City  new_station  \n",
       "0  San Jose            0  \n",
       "1  San Jose            0  "
      ]
     },
     "execution_count": 15,
     "metadata": {},
     "output_type": "execute_result"
    }
   ],
   "source": [
    "station.head(2)"
   ]
  },
  {
   "cell_type": "code",
   "execution_count": 16,
   "metadata": {},
   "outputs": [],
   "source": [
    "start = trip2.copy()\n",
    "start[\"Leg\"] = \"Start\"\n",
    "start[\"Station\"] = start[\"Start Station\"]"
   ]
  },
  {
   "cell_type": "code",
   "execution_count": 17,
   "metadata": {},
   "outputs": [],
   "source": [
    "start[\"Year\"] = start.StartTs.dt.year\n",
    "start[\"Month\"] = start.StartTs.dt.month\n",
    "start[\"DayOfWk\"] = start.StartTs.dt.dayofweek\n",
    "start[\"HrOfDay\"] = start.StartTs.dt.hour"
   ]
  },
  {
   "cell_type": "code",
   "execution_count": 18,
   "metadata": {},
   "outputs": [],
   "source": [
    "end = trip2.copy()\n",
    "end[\"Leg\"] = \"End\"\n",
    "end[\"Station\"] = end[\"End Station\"]"
   ]
  },
  {
   "cell_type": "code",
   "execution_count": 19,
   "metadata": {},
   "outputs": [],
   "source": [
    "end[\"Year\"] = end.StartTs.dt.year\n",
    "end[\"Month\"] = end.StartTs.dt.month\n",
    "end[\"DayOfWk\"] = end.StartTs.dt.dayofweek\n",
    "end[\"HrOfDay\"] = end.StartTs.dt.hour"
   ]
  },
  {
   "cell_type": "markdown",
   "metadata": {},
   "source": [
    "__Advanced__"
   ]
  },
  {
   "cell_type": "code",
   "execution_count": 20,
   "metadata": {},
   "outputs": [],
   "source": [
    "data = start.append(end)"
   ]
  },
  {
   "cell_type": "code",
   "execution_count": 21,
   "metadata": {},
   "outputs": [],
   "source": [
    "data[\"Leg\"] = data.Leg.astype(\"category\")\n",
    "data[\"Station\"] = data.Station.astype(\"category\")\n",
    "data[\"Year\"] = data.Year.astype(\"category\")\n",
    "data[\"Month\"] = data.Month.astype(\"category\")\n",
    "data[\"DayOfWk\"] = data.DayOfWk.astype(\"category\")\n",
    "data[\"HrOfDay\"] = data.HrOfDay.astype(\"category\")"
   ]
  },
  {
   "cell_type": "code",
   "execution_count": 22,
   "metadata": {},
   "outputs": [
    {
     "data": {
      "text/plain": [
       "Start    354152\n",
       "End      354152\n",
       "Name: Leg, dtype: int64"
      ]
     },
     "execution_count": 22,
     "metadata": {},
     "output_type": "execute_result"
    }
   ],
   "source": [
    "# manual checks to ensure correct categories\n",
    "data.Leg.value_counts()"
   ]
  },
  {
   "cell_type": "code",
   "execution_count": 23,
   "metadata": {},
   "outputs": [
    {
     "data": {
      "text/html": [
       "<div>\n",
       "<style scoped>\n",
       "    .dataframe tbody tr th:only-of-type {\n",
       "        vertical-align: middle;\n",
       "    }\n",
       "\n",
       "    .dataframe tbody tr th {\n",
       "        vertical-align: top;\n",
       "    }\n",
       "\n",
       "    .dataframe thead th {\n",
       "        text-align: right;\n",
       "    }\n",
       "</style>\n",
       "<table border=\"1\" class=\"dataframe\">\n",
       "  <thead>\n",
       "    <tr style=\"text-align: right;\">\n",
       "      <th></th>\n",
       "      <th></th>\n",
       "      <th></th>\n",
       "      <th></th>\n",
       "      <th></th>\n",
       "      <th></th>\n",
       "      <th>count</th>\n",
       "    </tr>\n",
       "    <tr>\n",
       "      <th>Leg</th>\n",
       "      <th>Station</th>\n",
       "      <th>Year</th>\n",
       "      <th>Month</th>\n",
       "      <th>DayOfWk</th>\n",
       "      <th>HrOfDay</th>\n",
       "      <th></th>\n",
       "    </tr>\n",
       "  </thead>\n",
       "  <tbody>\n",
       "    <tr>\n",
       "      <th rowspan=\"5\" valign=\"top\">End</th>\n",
       "      <th rowspan=\"5\" valign=\"top\">2</th>\n",
       "      <th rowspan=\"5\" valign=\"top\">2014</th>\n",
       "      <th rowspan=\"5\" valign=\"top\">1</th>\n",
       "      <th>3</th>\n",
       "      <th>14</th>\n",
       "      <td>1</td>\n",
       "    </tr>\n",
       "    <tr>\n",
       "      <th rowspan=\"4\" valign=\"top\">4</th>\n",
       "      <th>7</th>\n",
       "      <td>4</td>\n",
       "    </tr>\n",
       "    <tr>\n",
       "      <th>9</th>\n",
       "      <td>1</td>\n",
       "    </tr>\n",
       "    <tr>\n",
       "      <th>12</th>\n",
       "      <td>1</td>\n",
       "    </tr>\n",
       "    <tr>\n",
       "      <th>14</th>\n",
       "      <td>1</td>\n",
       "    </tr>\n",
       "  </tbody>\n",
       "</table>\n",
       "</div>"
      ],
      "text/plain": [
       "                                        count\n",
       "Leg Station Year Month DayOfWk HrOfDay       \n",
       "End 2       2014 1     3       14           1\n",
       "                       4       7            4\n",
       "                               9            1\n",
       "                               12           1\n",
       "                               14           1"
      ]
     },
     "execution_count": 23,
     "metadata": {},
     "output_type": "execute_result"
    }
   ],
   "source": [
    "data[\"Rec\"] = 1\n",
    "\n",
    "dfGrp = data.groupby([\"Leg\", \"Station\", \"Year\", \"Month\", \"DayOfWk\", \"HrOfDay\"])[\"Rec\"].agg(['count'])\n",
    "dfGrp.sort_values(by=[\"Leg\", \"Station\", \"Year\", \"Month\", \"DayOfWk\", \"HrOfDay\"])\n",
    "dfGrp.head()"
   ]
  },
  {
   "cell_type": "code",
   "execution_count": 24,
   "metadata": {},
   "outputs": [
    {
     "name": "stdout",
     "output_type": "stream",
     "text": [
      "(81816, 1)\n",
      "(83227, 1)\n"
     ]
    }
   ],
   "source": [
    "Start = dfGrp.iloc[dfGrp.index.get_level_values(0) == \"Start\"]\n",
    "End = dfGrp.iloc[dfGrp.index.get_level_values(0) == \"End\"]\n",
    "print(End.shape)\n",
    "print(Start.shape)"
   ]
  },
  {
   "cell_type": "code",
   "execution_count": 25,
   "metadata": {},
   "outputs": [],
   "source": [
    "Start.columns = [\"Start_Cnt\"]\n",
    "End.columns = [\"End_Cnt\"]"
   ]
  },
  {
   "cell_type": "code",
   "execution_count": 26,
   "metadata": {},
   "outputs": [],
   "source": [
    "End2 = End.loc[\"End\"]\n",
    "Start2 = Start.loc[\"Start\"]\n",
    "dfGrp2 = pd.concat([Start2,End2], axis=1)\n",
    "dfGrp2[\"NetRate\"] = dfGrp2.Start_Cnt - dfGrp2.End_Cnt"
   ]
  },
  {
   "cell_type": "code",
   "execution_count": 27,
   "metadata": {},
   "outputs": [
    {
     "data": {
      "text/html": [
       "<div>\n",
       "<style scoped>\n",
       "    .dataframe tbody tr th:only-of-type {\n",
       "        vertical-align: middle;\n",
       "    }\n",
       "\n",
       "    .dataframe tbody tr th {\n",
       "        vertical-align: top;\n",
       "    }\n",
       "\n",
       "    .dataframe thead th {\n",
       "        text-align: right;\n",
       "    }\n",
       "</style>\n",
       "<table border=\"1\" class=\"dataframe\">\n",
       "  <thead>\n",
       "    <tr style=\"text-align: right;\">\n",
       "      <th></th>\n",
       "      <th></th>\n",
       "      <th></th>\n",
       "      <th></th>\n",
       "      <th></th>\n",
       "      <th>Start_Cnt</th>\n",
       "      <th>End_Cnt</th>\n",
       "      <th>NetRate</th>\n",
       "    </tr>\n",
       "    <tr>\n",
       "      <th>Station</th>\n",
       "      <th>Year</th>\n",
       "      <th>Month</th>\n",
       "      <th>DayOfWk</th>\n",
       "      <th>HrOfDay</th>\n",
       "      <th></th>\n",
       "      <th></th>\n",
       "      <th></th>\n",
       "    </tr>\n",
       "  </thead>\n",
       "  <tbody>\n",
       "    <tr>\n",
       "      <th rowspan=\"5\" valign=\"top\">2</th>\n",
       "      <th rowspan=\"5\" valign=\"top\">2014</th>\n",
       "      <th rowspan=\"5\" valign=\"top\">1</th>\n",
       "      <th rowspan=\"4\" valign=\"top\">3</th>\n",
       "      <th>12</th>\n",
       "      <td>1.0</td>\n",
       "      <td>NaN</td>\n",
       "      <td>NaN</td>\n",
       "    </tr>\n",
       "    <tr>\n",
       "      <th>14</th>\n",
       "      <td>NaN</td>\n",
       "      <td>1.0</td>\n",
       "      <td>NaN</td>\n",
       "    </tr>\n",
       "    <tr>\n",
       "      <th>21</th>\n",
       "      <td>4.0</td>\n",
       "      <td>NaN</td>\n",
       "      <td>NaN</td>\n",
       "    </tr>\n",
       "    <tr>\n",
       "      <th>22</th>\n",
       "      <td>1.0</td>\n",
       "      <td>NaN</td>\n",
       "      <td>NaN</td>\n",
       "    </tr>\n",
       "    <tr>\n",
       "      <th>4</th>\n",
       "      <th>6</th>\n",
       "      <td>1.0</td>\n",
       "      <td>NaN</td>\n",
       "      <td>NaN</td>\n",
       "    </tr>\n",
       "  </tbody>\n",
       "</table>\n",
       "</div>"
      ],
      "text/plain": [
       "                                    Start_Cnt  End_Cnt  NetRate\n",
       "Station Year Month DayOfWk HrOfDay                             \n",
       "2       2014 1     3       12             1.0      NaN      NaN\n",
       "                           14             NaN      1.0      NaN\n",
       "                           21             4.0      NaN      NaN\n",
       "                           22             1.0      NaN      NaN\n",
       "                   4       6              1.0      NaN      NaN"
      ]
     },
     "execution_count": 27,
     "metadata": {},
     "output_type": "execute_result"
    }
   ],
   "source": [
    "dfGrp2.head()"
   ]
  },
  {
   "cell_type": "code",
   "execution_count": 28,
   "metadata": {},
   "outputs": [
    {
     "name": "stdout",
     "output_type": "stream",
     "text": [
      "(106934, 3)\n",
      "(58109, 3)\n"
     ]
    }
   ],
   "source": [
    "print( dfGrp2.shape )\n",
    "print( dfGrp2[np.isfinite(dfGrp2['NetRate'])].shape )"
   ]
  },
  {
   "cell_type": "code",
   "execution_count": 29,
   "metadata": {},
   "outputs": [
    {
     "data": {
      "text/html": [
       "<div>\n",
       "<style scoped>\n",
       "    .dataframe tbody tr th:only-of-type {\n",
       "        vertical-align: middle;\n",
       "    }\n",
       "\n",
       "    .dataframe tbody tr th {\n",
       "        vertical-align: top;\n",
       "    }\n",
       "\n",
       "    .dataframe thead th {\n",
       "        text-align: right;\n",
       "    }\n",
       "</style>\n",
       "<table border=\"1\" class=\"dataframe\">\n",
       "  <thead>\n",
       "    <tr style=\"text-align: right;\">\n",
       "      <th></th>\n",
       "      <th>Station</th>\n",
       "      <th>Year</th>\n",
       "      <th>Month</th>\n",
       "      <th>DayOfWk</th>\n",
       "      <th>HrOfDay</th>\n",
       "      <th>Start_Cnt</th>\n",
       "      <th>End_Cnt</th>\n",
       "      <th>NetRate</th>\n",
       "    </tr>\n",
       "  </thead>\n",
       "  <tbody>\n",
       "    <tr>\n",
       "      <th>0</th>\n",
       "      <td>2</td>\n",
       "      <td>2014</td>\n",
       "      <td>1</td>\n",
       "      <td>4</td>\n",
       "      <td>7</td>\n",
       "      <td>3.0</td>\n",
       "      <td>4.0</td>\n",
       "      <td>-1.0</td>\n",
       "    </tr>\n",
       "    <tr>\n",
       "      <th>1</th>\n",
       "      <td>2</td>\n",
       "      <td>2014</td>\n",
       "      <td>1</td>\n",
       "      <td>4</td>\n",
       "      <td>9</td>\n",
       "      <td>4.0</td>\n",
       "      <td>1.0</td>\n",
       "      <td>3.0</td>\n",
       "    </tr>\n",
       "    <tr>\n",
       "      <th>2</th>\n",
       "      <td>2</td>\n",
       "      <td>2014</td>\n",
       "      <td>1</td>\n",
       "      <td>4</td>\n",
       "      <td>17</td>\n",
       "      <td>2.0</td>\n",
       "      <td>2.0</td>\n",
       "      <td>0.0</td>\n",
       "    </tr>\n",
       "    <tr>\n",
       "      <th>3</th>\n",
       "      <td>2</td>\n",
       "      <td>2014</td>\n",
       "      <td>1</td>\n",
       "      <td>4</td>\n",
       "      <td>18</td>\n",
       "      <td>3.0</td>\n",
       "      <td>3.0</td>\n",
       "      <td>0.0</td>\n",
       "    </tr>\n",
       "    <tr>\n",
       "      <th>4</th>\n",
       "      <td>2</td>\n",
       "      <td>2014</td>\n",
       "      <td>1</td>\n",
       "      <td>6</td>\n",
       "      <td>6</td>\n",
       "      <td>1.0</td>\n",
       "      <td>2.0</td>\n",
       "      <td>-1.0</td>\n",
       "    </tr>\n",
       "  </tbody>\n",
       "</table>\n",
       "</div>"
      ],
      "text/plain": [
       "   Station  Year  Month  DayOfWk  HrOfDay  Start_Cnt  End_Cnt  NetRate\n",
       "0        2  2014      1        4        7        3.0      4.0     -1.0\n",
       "1        2  2014      1        4        9        4.0      1.0      3.0\n",
       "2        2  2014      1        4       17        2.0      2.0      0.0\n",
       "3        2  2014      1        4       18        3.0      3.0      0.0\n",
       "4        2  2014      1        6        6        1.0      2.0     -1.0"
      ]
     },
     "execution_count": 29,
     "metadata": {},
     "output_type": "execute_result"
    }
   ],
   "source": [
    "dfGrp3 = dfGrp2[np.isfinite(dfGrp2['NetRate'])].reset_index()\n",
    "dfGrp3.head()"
   ]
  },
  {
   "cell_type": "code",
   "execution_count": 30,
   "metadata": {},
   "outputs": [
    {
     "data": {
      "text/plain": [
       "(58109, 10)"
      ]
     },
     "execution_count": 30,
     "metadata": {},
     "output_type": "execute_result"
    }
   ],
   "source": [
    "dock_cnt = station[[\"Id\",\"Dock Count\"]]\n",
    "dfGrp4 = dfGrp3.merge(dock_cnt, left_on='Station', right_on='Id', how='left')\n",
    "dfGrp4.shape"
   ]
  },
  {
   "cell_type": "code",
   "execution_count": 31,
   "metadata": {},
   "outputs": [],
   "source": [
    "import pyarrow\n",
    "dfGrp4.to_parquet(\"Data/bike/dfGrp4.gzip\", compression='gzip')\n",
    "#dfGrp4. = pd.read_parquet('Data/bike/dfGrp4.gzip')"
   ]
  },
  {
   "cell_type": "markdown",
   "metadata": {},
   "source": [
    "__Explore__"
   ]
  },
  {
   "cell_type": "code",
   "execution_count": 32,
   "metadata": {},
   "outputs": [],
   "source": [
    "# sample for better graphical performance\n",
    "smpl = dfGrp4.sample(n=1000, replace=True)"
   ]
  },
  {
   "cell_type": "code",
   "execution_count": 36,
   "metadata": {},
   "outputs": [
    {
     "name": "stdout",
     "output_type": "stream",
     "text": [
      "mean: 5.2632122390679585\n",
      "var: 53.11041609395198\n"
     ]
    }
   ],
   "source": [
    "print(\"mean: {}\".format(np.mean(dfGrp4.Start_Cnt) ) )\n",
    "print(\"var: {}\".format( np.var(dfGrp4.Start_Cnt) ) )"
   ]
  },
  {
   "cell_type": "markdown",
   "metadata": {},
   "source": [
    "The Start and End distributions reflect the poisson distribution"
   ]
  },
  {
   "cell_type": "code",
   "execution_count": 34,
   "metadata": {},
   "outputs": [
    {
     "data": {
      "image/png": "[encoded data removed]"
     },
     "metadata": {},
     "output_type": "display_data"
    }
   ],
   "source": [
    "%%R -i smpl -w 3.5 -h 1.5 --units in -r 100 \n",
    "ggplot(smpl, aes(x=Start_Cnt)) + geom_histogram(colour=\"black\", fill=\"white\")"
   ]
  },
  {
   "cell_type": "code",
   "execution_count": 35,
   "metadata": {},
   "outputs": [
    {
     "data": {
      "image/png": "[encoded data removed]"
     },
     "metadata": {},
     "output_type": "display_data"
    }
   ],
   "source": [
    "%%R -i smpl -w 3.5 -h 1.5 --units in -r 100 \n",
    "ggplot(smpl, aes(x=End_Cnt)) + geom_histogram(colour=\"black\", fill=\"white\")"
   ]
  },
  {
   "cell_type": "markdown",
   "metadata": {},
   "source": [
    "The difference of two random variables (distributed poisson) is a random variable distributed Skellam, [ref for derivation](https://math.stackexchange.com/questions/1061440/sum-and-difference-between-two-independent-poisson-random-variables) and for information regarding the [skellam distribution](https://en.wikipedia.org/wiki/Skellam_distribution)"
   ]
  },
  {
   "cell_type": "code",
   "execution_count": 36,
   "metadata": {},
   "outputs": [
    {
     "data": {
      "image/png": "[encoded data removed]"
     },
     "metadata": {},
     "output_type": "display_data"
    }
   ],
   "source": [
    "%%R -i smpl -w 3.5 -h 1.5 --units in -r 100 \n",
    "ggplot(smpl, aes(x=NetRate)) + geom_histogram(colour=\"black\", fill=\"white\")"
   ]
  },
  {
   "cell_type": "markdown",
   "metadata": {},
   "source": [
    "<br>\n",
    "<br>\n",
    "<hr>\n",
    "\n",
    "# Model\n",
    "\n",
    "General approach: \n",
    "* trips_ended - trips_start (net-rate), for each station, for each hour\n",
    "* net-rate is count data, typically this is well-suited for poisson distribution\n",
    "* we assume that DayOfWk is similar across weeks, in a month"
   ]
  },
  {
   "cell_type": "code",
   "execution_count": 7,
   "metadata": {},
   "outputs": [],
   "source": [
    "data = pd.read_parquet('Data/bike/dfGrp4.gzip')"
   ]
  },
  {
   "cell_type": "markdown",
   "metadata": {},
   "source": [
    "### Poisson GLM\n",
    "\n",
    "Fit using the following modeling process"
   ]
  },
  {
   "cell_type": "code",
   "execution_count": 8,
   "metadata": {},
   "outputs": [],
   "source": [
    "import numpy as np\n",
    "import pandas as pd\n",
    "from statsmodels.genmod.generalized_estimating_equations import GEE\n",
    "from statsmodels.genmod.cov_struct import (Exchangeable,\n",
    "    Independence,Autoregressive)\n",
    "from statsmodels.genmod.families import Poisson"
   ]
  },
  {
   "cell_type": "code",
   "execution_count": 9,
   "metadata": {},
   "outputs": [
    {
     "name": "stdout",
     "output_type": "stream",
     "text": [
      "                               GEE Regression Results                              \n",
      "===================================================================================\n",
      "Dep. Variable:                   Start_Cnt   No. Observations:                58109\n",
      "Model:                                 GEE   No. clusters:                       76\n",
      "Method:                        Generalized   Min. cluster size:                   6\n",
      "                      Estimating Equations   Max. cluster size:                1998\n",
      "Family:                            Poisson   Mean cluster size:               764.6\n",
      "Dependence structure:         Independence   Num. iterations:                    11\n",
      "Date:                     Fri, 21 Dec 2018   Scale:                           1.000\n",
      "Covariance type:                    robust   Time:                         20:17:23\n",
      "==============================================================================\n",
      "                 coef    std err          z      P>|z|      [0.025      0.975]\n",
      "------------------------------------------------------------------------------\n",
      "Intercept      1.6323      0.217      7.519      0.000       1.207       2.058\n",
      "Station        0.0121      0.003      4.076      0.000       0.006       0.018\n",
      "Month         -0.0201      0.002     -8.765      0.000      -0.025      -0.016\n",
      "DayOfWk       -0.0836      0.005    -16.548      0.000      -0.094      -0.074\n",
      "HrOfDay       -0.0251      0.011     -2.241      0.025      -0.047      -0.003\n",
      "==============================================================================\n",
      "Skew:                          5.5883   Kurtosis:                      57.2023\n",
      "Centered skew:                 5.1909   Centered kurtosis:             55.0151\n",
      "==============================================================================\n"
     ]
    }
   ],
   "source": [
    "# Model to build\n",
    "# other predictors should be added, including the weather data\n",
    "\n",
    "fam = Poisson()\n",
    "ind = Independence()\n",
    "model1 = GEE.from_formula(\"Start_Cnt ~ Station  +  Month + DayOfWk + HrOfDay\", \"Station\",data, cov_struct=ind, family=fam)\n",
    "result1 = model1.fit()\n",
    "print(result1.summary())"
   ]
  },
  {
   "cell_type": "markdown",
   "metadata": {},
   "source": [
    "### Skellam Reggresion\n",
    "\n",
    "[ref](https://rdrr.io/rforge/skellam/man/skellam.reg.html)"
   ]
  },
  {
   "cell_type": "code",
   "execution_count": 12,
   "metadata": {},
   "outputs": [
    {
     "data": {
      "text/plain": [
       "$loglik\n",
       "[1] -1960.624\n",
       "\n",
       "$param1\n",
       "             Estimate Std. Error Wald value       p-value\n",
       "(Intercept) 0.9977026 0.03011223   33.13280 1.001885e-240\n",
       "x           1.0173390 0.02610789   38.96672  0.000000e+00\n",
       "\n",
       "$param2\n",
       "              Estimate Std. Error Wald value      p-value\n",
       "(Intercept) -0.8128960  0.1407481  -5.775539 7.670721e-09\n",
       "x            0.9593452  0.1521020   6.307248 2.840407e-10\n",
       "\n"
      ]
     },
     "metadata": {},
     "output_type": "display_data"
    }
   ],
   "source": [
    "%%R\n",
    "library('skellam')\n",
    "\n",
    "set.seed(0)\n",
    "\n",
    "x <- rnorm(1000)\n",
    "y1 <- rpois(1000, exp(1 + 1 * x) )\n",
    "y2 <- rpois(1000 , exp(-1 + 1 * x) )\n",
    "y <- y2 - y1\n",
    "skellam.reg(y, x)"
   ]
  },
  {
   "cell_type": "code",
   "execution_count": null,
   "metadata": {},
   "outputs": [],
   "source": []
  },
  {
   "cell_type": "code",
   "execution_count": null,
   "metadata": {},
   "outputs": [],
   "source": []
  }
 ],
 "metadata": {
  "kernelspec": {
   "display_name": "Python 3",
   "language": "python",
   "name": "python3"
  },
  "language_info": {
   "codemirror_mode": {
    "name": "ipython",
    "version": 3
   },
   "file_extension": ".py",
   "mimetype": "text/x-python",
   "name": "python",
   "nbconvert_exporter": "python",
   "pygments_lexer": "ipython3",
   "version": "3.6.6"
  }
 },
 "nbformat": 4,
 "nbformat_minor": 2
}
