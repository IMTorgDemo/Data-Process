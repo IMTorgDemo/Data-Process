{
 "cells": [
  {
   "cell_type": "markdown",
   "metadata": {},
   "source": [
    "# Working through a Progressive Python Application\n",
    "Date: 2020-03-01  \n",
    "Author: Jason Beach  \n",
    "Categories: Progressive, BestPractice  \n",
    "Tags: python, development, deployment  \n",
    "<!--eofm-->"
   ]
  },
  {
   "cell_type": "markdown",
   "metadata": {},
   "source": [
    "This post walks the developer through a python application as it progresses in development.  It uses linux, docker, vscode, pyenv, pipenv and other tools for developing, building, and deploying an application."
   ]
  },
  {
   "cell_type": "markdown",
   "metadata": {},
   "source": [
    "## Environment\n",
    "\n",
    "Two tools can help you setup your local development environment: pyenv and pipenv.  Pyenv is good for getting the correct python version.  Pipenv is quite good at setting your virtual environment so that your versions of python and dependencies are separate from your actual machine.  It is the next best thing to a docker container"
   ]
  },
  {
   "cell_type": "code",
   "execution_count": null,
   "metadata": {},
   "outputs": [],
   "source": [
    "%%bash\n",
    "pyenv install 3.7.0\n",
    "pyenv local 3.7.0\n",
    "\n",
    "pipenv --three\n",
    "pipenv install <module>\n",
    "pipenv shell"
   ]
  },
  {
   "cell_type": "markdown",
   "metadata": {},
   "source": [
    "Not to get ahead of ourselves, but when you want to install your package to your machine"
   ]
  },
  {
   "cell_type": "code",
   "execution_count": null,
   "metadata": {},
   "outputs": [],
   "source": [
    "%%bash\n",
    "pip3 install ."
   ]
  },
  {
   "cell_type": "markdown",
   "metadata": {},
   "source": [
    "## Local VSCode\n",
    "\n",
    "* [doc: python](https://code.visualstudio.com/docs/python/python-tutorial)\n",
    "\n",
    "### Interpreter\n",
    "\n",
    "Python is an interpreted language, and in order to run Python code and get Python IntelliSense, you must tell VS Code which interpreter to use."
   ]
  },
  {
   "cell_type": "code",
   "execution_count": null,
   "metadata": {},
   "outputs": [],
   "source": [
    "%%bash\n",
    "pipenv --where\n",
    "pipenv --venv"
   ]
  },
  {
   "cell_type": "markdown",
   "metadata": {},
   "source": [
    "Within the UI:\n",
    "View > CommandPallete > Python: Select Interpretor\n",
    "\n",
    "```bash\n",
    "#settings.json\n",
    "\"python.pythonPath\": \"<path/to/venv>\"\n",
    "```"
   ]
  },
  {
   "cell_type": "markdown",
   "metadata": {},
   "source": [
    "### Debugger\n",
    "\n",
    "Linting is done with [PyLint](https://www.pylint.org/).  Linting runs automatically when you save a file.  PyLint messages fall into specific [categories](https://code.visualstudio.com/docs/python/linting#_pylint).\n",
    "\n",
    "Within the UI:\n",
    "View > CommandPallete > Python: Enable Linting\n",
    "\n",
    "```bash\n",
    "#settings.json\n",
    "\"python.linting.enabled\": true\n",
    "```"
   ]
  },
  {
   "cell_type": "markdown",
   "metadata": {},
   "source": [
    "Debugger uses the Run button in the left-side pane.  There are two standard configurations that run the active file in the editor in either the `integratedTerminal` (inside VS Code) or the `externalTerminal` (outside of VS Code).\n",
    "\n",
    "The `pythonPath` configuration defaults to the interpreter identified in the `python.pythonPath` setting, which is equivalent to using the value `${config:python.pythonPath}`. "
   ]
  },
  {
   "cell_type": "markdown",
   "metadata": {},
   "source": [
    "Within the UI, open the entrypoint file:\n",
    "Run > Debug Configuration > Python File > `launch.json` is created\n",
    "\n",
    "Provide specific startup file and arguments\n",
    "\n",
    "```bash\n",
    "#launch.json\n",
    "\t\"name\": \"Python: startup.py\",\n",
    "\t...\n",
    "    \"request\": \"launch\",\n",
    "    \"program\": \"${workspaceFolder}/startup.py\",\n",
    "    \"args\" : [\"--port\", \"1593\"]\n",
    "```\n",
    "\n",
    "In the upper-left corner of Debugger, select the correct configuration (Name) and 'Run'."
   ]
  },
  {
   "cell_type": "markdown",
   "metadata": {},
   "source": [
    "## Remote VSCode\n",
    "\n",
    "* [doc: remote](https://code.visualstudio.com/docs/remote/remote-overview)\n",
    "\n",
    "\n",
    "### Jupyter notebook\n",
    "\n",
    "TODO:notebook\n",
    "\n",
    "\n",
    "### Remote server\n",
    "\n",
    "TODO:remote\n",
    "\n",
    "\n",
    "### Docker container\n",
    "\n",
    "https://code.visualstudio.com/docs/remote/containers\n",
    "\n",
    "\n",
    "### Spark remote server\n",
    "\n",
    "TODO:spark"
   ]
  },
  {
   "cell_type": "markdown",
   "metadata": {},
   "source": [
    "## Configure\n",
    "\n",
    "### Env Variables\n",
    "\n",
    "Environment variables can be loaded within VSCode, or using a module.\n",
    "\n",
    "### Logging\n",
    "\n",
    "\n",
    "\n",
    "### Testing\n",
    "\n",
    "[doc: vscode python testing](https://code.visualstudio.com/docs/python/testing)\n"
   ]
  },
  {
   "cell_type": "markdown",
   "metadata": {},
   "source": [
    "## Development\n",
    "\n",
    "### Commandline arguments\n",
    "\n",
    "Some important commandline arguments are subcommands and choices\n",
    "\n",
    "Subcommands are implicitly mutually exclusive.  In this example, there are only two ways the main command can be run, using `generate_text` or `check_annotations`.  The `defaults` allow for setting an associated function with the subcommand.\n",
    "\n",
    "```\n",
    "parser = argparse.ArgumentParser()\n",
    "subparsers = parser.add_subparsers()    \n",
    "\n",
    "add_gen = subparsers.add_parser('generate_text')\n",
    "add_gen.set_defaults(func = run)\n",
    "\n",
    "add_check = subparsers.add_parser('check_annotations')\n",
    "add_check.set_defaults(func = check_annotations)\n",
    "```\n",
    "\n",
    "Choices ensure the user has only a finite selection from which to choose.  The default is only used in conjunction with `nargs=\"?\"`.\n",
    "\n",
    "```\n",
    "parser = argparse.ArgumentParser()\n",
    "subparsers = parser.add_subparsers()    \n",
    "\n",
    "add_gen = subparsers.add_parser('generate_text')\n",
    "add_gen.set_defaults(func = run)\n",
    "add_gen.add_argument(\"--output\",\n",
    "                        choices=(\"drsc_prep\",\"mgen\"),\n",
    "                        help=\"desired output format, check: `./io/rsc/` to see formats\",\n",
    "                        nargs=\"?\",\n",
    "                        default=\"drsc_prep\")\n",
    "```"
   ]
  },
  {
   "cell_type": "markdown",
   "metadata": {},
   "source": [
    "### Comments and documentation\n",
    "\n",
    "Create docstrings like:"
   ]
  },
  {
   "cell_type": "code",
   "execution_count": null,
   "metadata": {},
   "outputs": [],
   "source": [
    "\"\"\"\n",
    "docstrings for:\n",
    "* purpose\n",
    "* parameters\n",
    "* return values\n",
    "* exceptions\n",
    "\n",
    "\"\"\""
   ]
  },
  {
   "cell_type": "markdown",
   "metadata": {},
   "source": [
    "### Directory structure\n",
    "\n",
    "Some languages, such as Java and C#, require an implementation to be forced into a particular structure.  That is unfortunate because not every nail requires an enterprise-ready hammer.\n",
    "\n",
    "Python is different in that it allows for very flexible file arrangement and folder structure.  Python can be used as just a simple linear script.\n",
    "\n",
    "> script.py"
   ]
  },
  {
   "cell_type": "markdown",
   "metadata": {},
   "source": [
    "## Deployment"
   ]
  },
  {
   "cell_type": "markdown",
   "metadata": {},
   "source": [
    "### Build egg"
   ]
  },
  {
   "cell_type": "code",
   "execution_count": null,
   "metadata": {},
   "outputs": [],
   "source": [
    "%%bash\n",
    "#(MANIFEST.in)include hugo2lunr/data/word_association_ref.json\n",
    "#(setup.py)package_data={'': ['hugo2lunr/data/word_association_ref.json']},\n",
    "rm -rf build *.egg-info\n",
    "python3 setup.py install --force\n",
    "pip3 install .\n",
    "hugo2lunr ./test/input ./test/output    #input_dir and output_dir"
   ]
  },
  {
   "cell_type": "markdown",
   "metadata": {},
   "source": [
    "### Build bdist_wheel (.whl)\n",
    "\n",
    "Building a wheel (bdist_wheel) and installing as commandline utility. If you are building a wheel (bdist_wheel), then include_package_data and MANIFEST.in are ignored and you must use package_data and data_files."
   ]
  },
  {
   "cell_type": "code",
   "execution_count": null,
   "metadata": {},
   "outputs": [],
   "source": [
    "%%bash\n",
    "#(setup.py)data_files=[('',['hugo2lunr/data/word_association_ref.json'])],\n",
    "pip3 install spacy\n",
    "python3 -m spacy download en_core_web_lg\n",
    "\n",
    "pipenv install\n",
    "pipenv shell\n",
    "rm -rf ./dist/*.whl\n",
    "pip wheel -w dist --verbose .\n",
    "exit\n",
    "\n",
    "pip3 uninstall hugo2lunr\n",
    "#pip3 install -e .    #<<<FAIL\n",
    "pip3 install . --user\n",
    "hugo2lunr  -h\n",
    "hugo2lunr ./test/input ./test/output    #input_dir and output_dir"
   ]
  },
  {
   "cell_type": "markdown",
   "metadata": {},
   "source": [
    "### Build for specific linux distribution\n",
    "\n",
    "Build with"
   ]
  },
  {
   "cell_type": "code",
   "execution_count": null,
   "metadata": {},
   "outputs": [],
   "source": [
    "%%bash\n",
    "(venv)$ pip wheel -w dist --verbose ."
   ]
  },
  {
   "cell_type": "markdown",
   "metadata": {},
   "source": [
    "Build for linux"
   ]
  },
  {
   "cell_type": "code",
   "execution_count": null,
   "metadata": {},
   "outputs": [],
   "source": [
    "%%bash\n",
    "#create dockcross manylinux bash driver script\n",
    "docker run --rm dockcross/manylinux-x64 > ./dockcross-manylinux-x64\n",
    "chmod +x ./dockcross-manylinux-x64\n",
    "#build a distributable Python 2.7 Python wheel\n",
    "./dockcross-manylinux-x64 /opt/python/cp27-cp27m/bin/pip wheel -w dist ."
   ]
  },
  {
   "cell_type": "markdown",
   "metadata": {},
   "source": [
    "Use on linux"
   ]
  },
  {
   "cell_type": "code",
   "execution_count": null,
   "metadata": {},
   "outputs": [],
   "source": [
    "%%bash\n",
    "$ unzip sample-0.1.0-py2-none-any.whl\n",
    "$ pwd\n",
    "$ python\n",
    "python>>> import sys\n",
    "python>>> sys.path.append(<pwd>)\n",
    "python>>> import sample"
   ]
  },
  {
   "cell_type": "markdown",
   "metadata": {},
   "source": [
    "### Docker image"
   ]
  },
  {
   "cell_type": "markdown",
   "metadata": {},
   "source": [
    "TODO:docker image"
   ]
  },
  {
   "cell_type": "markdown",
   "metadata": {},
   "source": [
    "## Conclusion"
   ]
  }
 ],
 "metadata": {
  "kernelspec": {
   "display_name": "Python 3",
   "language": "python",
   "name": "python3"
  },
  "language_info": {
   "codemirror_mode": {
    "name": "ipython",
    "version": 3
   },
   "file_extension": ".py",
   "mimetype": "text/x-python",
   "name": "python",
   "nbconvert_exporter": "python",
   "pygments_lexer": "ipython3",
   "version": "3.7.3"
  }
 },
 "nbformat": 4,
 "nbformat_minor": 4
}
