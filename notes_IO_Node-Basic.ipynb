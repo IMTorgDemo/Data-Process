{
 "cells": [
  {
   "cell_type": "markdown",
   "metadata": {},
   "source": [
    "### Functions & Callbacks"
   ]
  },
  {
   "cell_type": "code",
   "execution_count": 5,
   "metadata": {},
   "outputs": [
    {
     "name": "stdout",
     "output_type": "stream",
     "text": [
      "Error: connection failed\n"
     ]
    }
   ],
   "source": [
    "function getConnection(callback) {\n",
    "    var connection;\n",
    "    try {\n",
    "        // Lets assume that the connection failed\n",
    "        throw new Error('connection failed');\n",
    "        // Notify callback that connection succeeded?\n",
    "        callback(null, connection);\n",
    "    } catch (error) {\n",
    "        // Notify callback about error?\n",
    "        callback(error, null);\n",
    "    }\n",
    "}\n",
    "// Usage\n",
    "getConnection(function(error, connection) {\n",
    "    if (error) {\n",
    "        console.log('Error:', error.message);\n",
    "    } else {\n",
    "        console.log('Connection succeeded:', connection);\n",
    "    }\n",
    "});"
   ]
  },
  {
   "cell_type": "markdown",
   "metadata": {},
   "source": [
    "### Classes"
   ]
  },
  {
   "cell_type": "code",
   "execution_count": 1,
   "metadata": {},
   "outputs": [],
   "source": [
    "// Simple Object\n",
    "// used to organize code -> don't pollute the namespace\n",
    "var Obj = {}"
   ]
  },
  {
   "cell_type": "code",
   "execution_count": 2,
   "metadata": {},
   "outputs": [
    {
     "name": "stdout",
     "output_type": "stream",
     "text": [
      "some initial value\n",
      "modified value\n"
     ]
    }
   ],
   "source": [
    "// Class definition\n",
    "// all of Node is written this way\n",
    "function someClass() {\n",
    "    // Properties go here (maintained by instance)\n",
    "    this.someProperty = 'some initial value';\n",
    "}\n",
    "// Member functions go here (maintained by class):\n",
    "someClass.prototype.someMemberFunction = function() {\n",
    "        /* Do something using this */\n",
    "        this.someProperty = 'modified value';\n",
    "    }\n",
    "    // Creation\n",
    "var instance = new someClass(); // new -> call a function with the new JavaScript operator, it creates a new JavaScript object and this within the function refers to this newly created object\n",
    "// Usage\n",
    "console.log(instance.someProperty); // some initial value\n",
    "instance.someMemberFunction();\n",
    "console.log(instance.someProperty); // modified value\n",
    "\n"
   ]
  },
  {
   "cell_type": "code",
   "execution_count": 4,
   "metadata": {},
   "outputs": [],
   "source": [
    "\n",
    "// revealling module pattern\n",
    "// object literals as the return value from a scoping function\n",
    "// makes use of closures for setters /getters\n",
    "var MyThingy = (function() {\n",
    "\n",
    "    function doSomethingCool() {\n",
    "    }\n",
    "\n",
    "    function internalSomething() {\n",
    "        // private method\n",
    "    }\n",
    "\n",
    "    function anotherNiftyThing() {\n",
    "        // Note that within the scoping function, functions can\n",
    "        // call each other direct.\n",
    "        doSomethingCool();\n",
    "        internalSomething();\n",
    "    }\n",
    "\n",
    "    return {\n",
    "        doSomethingCool: doSomethingCool,\n",
    "        anotherNiftyThing: anotherNiftyThing\n",
    "    };\n",
    "})();\n",
    "\n",
    "//External use:\n",
    "\n",
    "MyThingy.doSomethingCool();"
   ]
  },
  {
   "cell_type": "code",
   "execution_count": null,
   "metadata": {},
   "outputs": [],
   "source": []
  }
 ],
 "metadata": {
  "kernelspec": {
   "display_name": "Javascript (Node.js)",
   "language": "javascript",
   "name": "javascript"
  },
  "language_info": {
   "file_extension": ".js",
   "mimetype": "application/javascript",
   "name": "javascript",
   "version": "8.9.4"
  }
 },
 "nbformat": 4,
 "nbformat_minor": 2
}
