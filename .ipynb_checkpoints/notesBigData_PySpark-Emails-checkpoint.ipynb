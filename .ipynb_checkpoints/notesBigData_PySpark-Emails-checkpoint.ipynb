{
 "cells": [
  {
   "cell_type": "markdown",
   "metadata": {},
   "source": [
    "# Investigation of Enron Emails\n",
    "\n",
    "This report uses the [enron email dataset](https://www.cs.cmu.edu/~./enron/) to investigate two facets of the Enron collapse:\n",
    "\n",
    "* ratio of internal to external communications of company executives\n",
    "* change in ratio over time\n",
    "\n",
    "The purpose of this report is an intial summary for prototyping submitted batch scripts, in a schedule, later.  We will only use a subset of the dataset because of the size.  The entire analysis can be performed with a cluster."
   ]
  },
  {
   "cell_type": "code",
   "execution_count": null,
   "metadata": {
    "collapsed": true
   },
   "outputs": [],
   "source": []
  },
  {
   "cell_type": "markdown",
   "metadata": {},
   "source": [
    "# Configure Environment"
   ]
  },
  {
   "cell_type": "code",
   "execution_count": 283,
   "metadata": {
    "collapsed": true,
    "deletable": true,
    "editable": true
   },
   "outputs": [],
   "source": [
    "import warnings\n",
    "warnings.filterwarnings('ignore')"
   ]
  },
  {
   "cell_type": "code",
   "execution_count": 1,
   "metadata": {
    "collapsed": false,
    "deletable": true,
    "editable": true
   },
   "outputs": [
    {
     "name": "stdout",
     "output_type": "stream",
     "text": [
      "combined  maildir\r\n",
      "/home/jovyan/work/notebooks/data/enron_emails\r\n"
     ]
    }
   ],
   "source": [
    "# data available\n",
    "! cd ../data/enron_emails; ls; pwd"
   ]
  },
  {
   "cell_type": "markdown",
   "metadata": {},
   "source": [
    "__Dependencies__"
   ]
  },
  {
   "cell_type": "code",
   "execution_count": 19,
   "metadata": {
    "collapsed": true
   },
   "outputs": [],
   "source": [
    "import os\n",
    "import shutil\n",
    "import codecs\n",
    "import re\n",
    "from datetime import datetime"
   ]
  },
  {
   "cell_type": "code",
   "execution_count": 3,
   "metadata": {
    "collapsed": true,
    "deletable": true,
    "editable": true
   },
   "outputs": [],
   "source": [
    "from pyspark import SparkContext\n",
    "sc = SparkContext(\"local[*]\")"
   ]
  },
  {
   "cell_type": "code",
   "execution_count": 251,
   "metadata": {
    "collapsed": true
   },
   "outputs": [],
   "source": [
    "from pyspark.sql import SQLContext\n",
    "from pyspark.sql import Row\n",
    "\n",
    "sqlContext = SQLContext(sc)"
   ]
  },
  {
   "cell_type": "code",
   "execution_count": 250,
   "metadata": {
    "collapsed": true
   },
   "outputs": [],
   "source": [
    "from pyspark.sql import SparkSession\n",
    "spark = SparkSession.builder \\\n",
    "          .appName(\"app.name\") \\\n",
    "          .config(\"spark.some.config.option\", \"some-value\") \\\n",
    "          .getOrCreate()"
   ]
  },
  {
   "cell_type": "markdown",
   "metadata": {},
   "source": [
    "__Environment__"
   ]
  },
  {
   "cell_type": "code",
   "execution_count": 4,
   "metadata": {
    "collapsed": false,
    "deletable": true,
    "editable": true
   },
   "outputs": [
    {
     "data": {
      "text/plain": [
       "'/home/jovyan/work/notebooks/DEMO'"
      ]
     },
     "execution_count": 4,
     "metadata": {},
     "output_type": "execute_result"
    }
   ],
   "source": [
    "os.getcwd()"
   ]
  },
  {
   "cell_type": "code",
   "execution_count": 5,
   "metadata": {
    "collapsed": false,
    "deletable": true,
    "editable": true
   },
   "outputs": [
    {
     "data": {
      "text/plain": [
       "['combined', 'maildir']"
      ]
     },
     "execution_count": 5,
     "metadata": {},
     "output_type": "execute_result"
    }
   ],
   "source": [
    "os.chdir('/home/jovyan/work/notebooks/data/enron_emails')\n",
    "os.listdir('.')"
   ]
  },
  {
   "cell_type": "code",
   "execution_count": null,
   "metadata": {
    "collapsed": true,
    "deletable": true,
    "editable": true
   },
   "outputs": [],
   "source": []
  },
  {
   "cell_type": "markdown",
   "metadata": {},
   "source": [
    "# Data Discovery"
   ]
  },
  {
   "cell_type": "markdown",
   "metadata": {},
   "source": [
    "__Check raw data__"
   ]
  },
  {
   "cell_type": "code",
   "execution_count": 6,
   "metadata": {
    "collapsed": false,
    "deletable": true,
    "editable": true
   },
   "outputs": [
    {
     "data": {
      "text/plain": [
       "150"
      ]
     },
     "execution_count": 6,
     "metadata": {},
     "output_type": "execute_result"
    }
   ],
   "source": [
    "# directory for each employees' data\n",
    "names_employees = os.listdir('./maildir/')\n",
    "len(names_employees)"
   ]
  },
  {
   "cell_type": "code",
   "execution_count": 7,
   "metadata": {
    "collapsed": false
   },
   "outputs": [
    {
     "name": "stdout",
     "output_type": "stream",
     "text": [
      "all_documents  deleted_items\t   inbox\tsent\t    _sent_mail\r\n",
      "contacts       discussion_threads  notes_inbox\tsent_items  straw\r\n"
     ]
    }
   ],
   "source": [
    "# the data is grouped by category\n",
    "# not all employee's have the 'all_documents' folder\n",
    "! ls maildir/allen-p"
   ]
  },
  {
   "cell_type": "code",
   "execution_count": 9,
   "metadata": {
    "collapsed": false
   },
   "outputs": [
    {
     "name": "stdout",
     "output_type": "stream",
     "text": [
      "Message-ID: <5570191.1075855667444.JavaMail.evans@thyme>\r",
      "\r\n",
      "Date: Tue, 24 Oct 2000 06:29:00 -0700 (PDT)\r",
      "\r\n",
      "From: phillip.allen@enron.com\r",
      "\r\n",
      "To: keith.holst@enron.com\r",
      "\r\n",
      "Subject: Investment Structure\r",
      "\r\n",
      "Mime-Version: 1.0\r",
      "\r\n",
      "Content-Type: text/plain; charset=us-ascii\r",
      "\r\n",
      "Content-Transfer-Encoding: 7bit\r",
      "\r\n",
      "X-From: Phillip K Allen\r",
      "\r\n",
      "X-To: Keith Holst\r",
      "\r\n"
     ]
    }
   ],
   "source": [
    "# each file is a unit of communication\n",
    "# often these have a similar headers\n",
    "! head -n 10 ./maildir/allen-p/all_documents/89."
   ]
  },
  {
   "cell_type": "code",
   "execution_count": null,
   "metadata": {
    "collapsed": true,
    "deletable": true,
    "editable": true
   },
   "outputs": [],
   "source": []
  },
  {
   "cell_type": "markdown",
   "metadata": {
    "collapsed": true,
    "deletable": true,
    "editable": true
   },
   "source": [
    "# Data Pre-Processing\n",
    "\n",
    "Move all the data (90+Gb) into one folder for easier loading.  Only move the meta-data, not the email body, because that is the focus of this report.  This will decrease processing needed by spark, later, which is conter-intuitive (this is the purpose of distributed computing), but the server being used has many other processes running."
   ]
  },
  {
   "cell_type": "code",
   "execution_count": 14,
   "metadata": {
    "collapsed": false,
    "deletable": true,
    "editable": true
   },
   "outputs": [],
   "source": [
    "import os\n",
    "import shutil\n",
    "import codecs\n",
    "\n",
    "src = r'/home/jovyan/work/notebooks/data/enron_emails/maildir/'\n",
    "dest = r'/home/jovyan/work/notebooks/data/enron_emails/combined/'\n",
    "N = 10\n",
    "\n",
    "src_dirs = os.listdir(src)\n",
    "for dir in src_dirs:\n",
    "    dir_full = os.path.join(src,dir,'all_documents')\n",
    "    if (os.path.isdir(dir_full)):\n",
    "        src_files = os.listdir(dir_full)\n",
    "        for file_name in src_files:\n",
    "            file_name_full = os.path.join(dir_full, file_name)\n",
    "            name_new = dir+'_'+file_name\n",
    "            if (os.path.isfile(file_name_full)):\n",
    "                indoc = file_name_full\n",
    "                outdoc = os.path.join(dest,name_new)\n",
    "                with codecs.open(indoc, \"r\",encoding='utf-8', errors='ignore') as infile:\n",
    "                    head = [next(infile) for x in range(N)]\n",
    "                    with open(outdoc, 'w') as outfile:\n",
    "                        for line in head:\n",
    "                            outfile.write(line)"
   ]
  },
  {
   "cell_type": "code",
   "execution_count": 15,
   "metadata": {
    "collapsed": false
   },
   "outputs": [
    {
     "name": "stdout",
     "output_type": "stream",
     "text": [
      "505M\t./combined/\r\n"
     ]
    }
   ],
   "source": [
    "# Decreased from 90G to 500M\n",
    "! du -s -h ./combined/"
   ]
  },
  {
   "cell_type": "code",
   "execution_count": 16,
   "metadata": {
    "collapsed": false,
    "deletable": true,
    "editable": true
   },
   "outputs": [
    {
     "name": "stdout",
     "output_type": "stream",
     "text": [
      "128103\r\n"
     ]
    }
   ],
   "source": [
    "# 128K documents\n",
    "! find ./combined/ -type f | wc -l"
   ]
  },
  {
   "cell_type": "code",
   "execution_count": null,
   "metadata": {
    "collapsed": true,
    "deletable": true,
    "editable": true
   },
   "outputs": [],
   "source": []
  },
  {
   "cell_type": "markdown",
   "metadata": {
    "deletable": true,
    "editable": true
   },
   "source": [
    "# Data Processing\n",
    "\n",
    "Transform data to final RDD/DF state."
   ]
  },
  {
   "cell_type": "code",
   "execution_count": 17,
   "metadata": {
    "collapsed": false,
    "deletable": true,
    "editable": true
   },
   "outputs": [
    {
     "name": "stdout",
     "output_type": "stream",
     "text": [
      "2\n",
      "78\n"
     ]
    }
   ],
   "source": [
    "# test on the first 100 emails\n",
    "# maybe use file name as a key in future\n",
    "rddEmails = sc.wholeTextFiles('file:///home/jovyan/work/notebooks/data/enron_emails/combined/allen-p_[1-9][1-9].')\n",
    "\n",
    "print( rddEmails.getNumPartitions() )\n",
    "print( rddEmails.count() )"
   ]
  },
  {
   "cell_type": "code",
   "execution_count": 18,
   "metadata": {
    "collapsed": false
   },
   "outputs": [
    {
     "data": {
      "text/plain": [
       "[('file:/home/jovyan/work/notebooks/data/enron_emails/combined/allen-p_25.',\n",
       "  'Message-ID: <7265952.1075855666035.JavaMail.evans@thyme>\\r\\nDate: Wed, 13 Dec 2000 06:06:00 -0800 (PST)\\r\\nFrom: critical.notice@enron.com\\r\\nTo: ywang@enron.com, patti.sullivan@enron.com, phillip.k.allen@enron.com, \\r\\n\\tjane.m.tholt@enron.com, mike.grigsby@enron.com\\r\\nSubject: New Notice from Transwestern Pipeline Co.\\r\\nMime-Version: 1.0\\r\\nContent-Type: text/plain; charset=us-ascii\\r\\nContent-Transfer-Encoding: 7bit\\r\\nX-From: critical.notice@Enron.com\\r\\n')]"
      ]
     },
     "execution_count": 18,
     "metadata": {},
     "output_type": "execute_result"
    }
   ],
   "source": [
    "rddEmails.take(1)"
   ]
  },
  {
   "cell_type": "code",
   "execution_count": 77,
   "metadata": {
    "collapsed": true
   },
   "outputs": [],
   "source": [
    "regexDate = re.compile(r\"((Date:)[^\\r]*)\")\n",
    "rddDate = rddEmails.map(lambda x: (re.search(regexDate, x[1])).group(0) )"
   ]
  },
  {
   "cell_type": "code",
   "execution_count": 203,
   "metadata": {
    "collapsed": true,
    "deletable": true,
    "editable": true
   },
   "outputs": [],
   "source": [
    "# count by date\n",
    "regexDate = re.compile(r\"(Date:\\s(\\w{3},\\s)(\\d{1,2}\\s\\w{3}\\s\\d{4})([^(\\\\r)]+))\")\n",
    "rddKvTime = rddEmails.map(lambda x: ((re.search(regexDate, x[1])).group(3), 1 )     )"
   ]
  },
  {
   "cell_type": "code",
   "execution_count": 286,
   "metadata": {
    "collapsed": false
   },
   "outputs": [
    {
     "data": {
      "text/plain": [
       "[('13 Dec 2000', 1), ('27 Oct 2000', 1)]"
      ]
     },
     "execution_count": 286,
     "metadata": {},
     "output_type": "execute_result"
    }
   ],
   "source": [
    "rddKv.take(2)"
   ]
  },
  {
   "cell_type": "code",
   "execution_count": 287,
   "metadata": {
    "collapsed": true
   },
   "outputs": [],
   "source": [
    "# all data\n",
    "regexDate = re.compile(r\"(Date:\\s(\\w{3},\\s)(\\d{1,2}\\s\\w{3}\\s\\d{4})([^(\\\\r)]+))\")\n",
    "regexFrom = re.compile(r\"From:\\s(([-.\\w]+)@([\\w\\.-]+))[^(r\\n)]\")\n",
    "regexTo = re.compile(r\"To:\\s(((([-.\\w]+)@([\\w\\.-]+)),?\\s?){1,3})[^(r\\nSubject)]\")\n",
    "rddKvTot = rddEmails.map(lambda x: ((re.search(regexDate, x[1])).group(3), 1, (re.search(regexFrom, x[1])).group(1), (re.search(regexFrom, x[1])).group(2), (re.search(regexFrom, x[1])).group(3), (re.search(regexTo, x[1])).group(1), (re.search(regexTo, x[1])).group(5) )     )"
   ]
  },
  {
   "cell_type": "code",
   "execution_count": 288,
   "metadata": {
    "collapsed": false,
    "deletable": true,
    "editable": true
   },
   "outputs": [
    {
     "data": {
      "text/plain": [
       "[('13 Dec 2000',\n",
       "  1,\n",
       "  'critical.notice@enron.com',\n",
       "  'critical.notice',\n",
       "  'enron.com',\n",
       "  'ywang@enron.com, patti.sullivan@enron.com, phillip.k.allen@enron.com, ',\n",
       "  'enron.com'),\n",
       " ('27 Oct 2000',\n",
       "  1,\n",
       "  'phillip.allen@enron.com',\n",
       "  'phillip.allen',\n",
       "  'enron.com',\n",
       "  'dexter@intelligencepress.com',\n",
       "  'intelligencepress.com')]"
      ]
     },
     "execution_count": 288,
     "metadata": {},
     "output_type": "execute_result"
    }
   ],
   "source": [
    "rddKvTot.take(2)"
   ]
  },
  {
   "cell_type": "code",
   "execution_count": null,
   "metadata": {
    "collapsed": true
   },
   "outputs": [],
   "source": []
  },
  {
   "cell_type": "markdown",
   "metadata": {
    "deletable": true,
    "editable": true
   },
   "source": [
    "# Internal - External Communication\n",
    "\n",
    "In the crisis leading to bankruptcy, were Enron employees emailing each other to get information, or external offices?"
   ]
  },
  {
   "cell_type": "code",
   "execution_count": 204,
   "metadata": {
    "collapsed": true
   },
   "outputs": [],
   "source": [
    "countsbydate = rddKvTime.reduceByKey(lambda v1, v2: v1+v2).sortByKey(ascending=False)"
   ]
  },
  {
   "cell_type": "code",
   "execution_count": 205,
   "metadata": {
    "collapsed": false
   },
   "outputs": [
    {
     "data": {
      "text/plain": [
       "[('7 Dec 2000', 3),\n",
       " ('6 Dec 2000', 3),\n",
       " ('5 Dec 2000', 1),\n",
       " ('4 Dec 2000', 1),\n",
       " ('31 Oct 2000', 4)]"
      ]
     },
     "execution_count": 205,
     "metadata": {},
     "output_type": "execute_result"
    }
   ],
   "source": [
    "countsbydate.take(5)"
   ]
  },
  {
   "cell_type": "code",
   "execution_count": 222,
   "metadata": {
    "collapsed": true
   },
   "outputs": [],
   "source": [
    "topdates = countsbydate.map(lambda x: [x[1],x[0]] ).sortByKey(ascending=False)"
   ]
  },
  {
   "cell_type": "code",
   "execution_count": 223,
   "metadata": {
    "collapsed": false
   },
   "outputs": [
    {
     "data": {
      "text/plain": [
       "[(15, '13 Dec 2000'),\n",
       " (9, '12 Dec 2000'),\n",
       " (4, '31 Oct 2000'),\n",
       " (4, '24 Oct 2000'),\n",
       " (3, '7 Dec 2000')]"
      ]
     },
     "execution_count": 223,
     "metadata": {},
     "output_type": "execute_result"
    }
   ],
   "source": [
    "topdates.take(5)"
   ]
  },
  {
   "cell_type": "code",
   "execution_count": 265,
   "metadata": {
    "collapsed": false,
    "deletable": true,
    "editable": true
   },
   "outputs": [
    {
     "data": {
      "text/plain": [
       "datetime.datetime(2005, 6, 1, 0, 0)"
      ]
     },
     "execution_count": 265,
     "metadata": {},
     "output_type": "execute_result"
    }
   ],
   "source": [
    "from datetime import datetime\n",
    "\n",
    "datetime_object = datetime.strptime('1 Jun 2005', '%d %b %Y')\n",
    "datetime_object"
   ]
  },
  {
   "cell_type": "code",
   "execution_count": 266,
   "metadata": {
    "collapsed": false
   },
   "outputs": [],
   "source": [
    "ltopdates = topdates.map(lambda x : [datetime.strptime(x[1], '%d %b %Y'),x[0]] )"
   ]
  },
  {
   "cell_type": "code",
   "execution_count": 267,
   "metadata": {
    "collapsed": false
   },
   "outputs": [
    {
     "data": {
      "text/plain": [
       "[[datetime.datetime(2000, 12, 13, 0, 0), 15],\n",
       " [datetime.datetime(2000, 12, 12, 0, 0), 9],\n",
       " [datetime.datetime(2000, 10, 31, 0, 0), 4],\n",
       " [datetime.datetime(2000, 10, 24, 0, 0), 4],\n",
       " [datetime.datetime(2000, 12, 7, 0, 0), 3]]"
      ]
     },
     "execution_count": 267,
     "metadata": {},
     "output_type": "execute_result"
    }
   ],
   "source": [
    "ltopdates.take(5)"
   ]
  },
  {
   "cell_type": "code",
   "execution_count": 268,
   "metadata": {
    "collapsed": false
   },
   "outputs": [
    {
     "data": {
      "text/plain": [
       "30"
      ]
     },
     "execution_count": 268,
     "metadata": {},
     "output_type": "execute_result"
    }
   ],
   "source": [
    "ltopdates.count()"
   ]
  },
  {
   "cell_type": "code",
   "execution_count": 269,
   "metadata": {
    "collapsed": false
   },
   "outputs": [],
   "source": [
    "header = ['Date','Email_Count'] \n"
   ]
  },
  {
   "cell_type": "code",
   "execution_count": 270,
   "metadata": {
    "collapsed": false
   },
   "outputs": [],
   "source": [
    "def list_to_row(keys, values):\n",
    "    row_dict = dict(zip(keys, values))\n",
    "    return Row(**row_dict)"
   ]
  },
  {
   "cell_type": "code",
   "execution_count": 271,
   "metadata": {
    "collapsed": false
   },
   "outputs": [
    {
     "data": {
      "text/plain": [
       "[Row(Date=datetime.datetime(2000, 12, 13, 0, 0), Email_Count=15),\n",
       " Row(Date=datetime.datetime(2000, 12, 12, 0, 0), Email_Count=9),\n",
       " Row(Date=datetime.datetime(2000, 10, 31, 0, 0), Email_Count=4)]"
      ]
     },
     "execution_count": 271,
     "metadata": {},
     "output_type": "execute_result"
    }
   ],
   "source": [
    "rdd_rows = ltopdates.map(lambda x: list_to_row(header, x))\n",
    "rdd_rows.take(3)"
   ]
  },
  {
   "cell_type": "code",
   "execution_count": 272,
   "metadata": {
    "collapsed": false
   },
   "outputs": [
    {
     "data": {
      "text/plain": [
       "Row(a=1, b=2, c=3)"
      ]
     },
     "execution_count": 272,
     "metadata": {},
     "output_type": "execute_result"
    }
   ],
   "source": [
    "# example\n",
    "my_dict = dict(zip(['a', 'b', 'c'], range(4)))\n",
    "Row(**my_dict)\n",
    "# a Row is very like a function call expression.\n",
    "Row(a=1, b=2, c=3)"
   ]
  },
  {
   "cell_type": "code",
   "execution_count": 273,
   "metadata": {
    "collapsed": false
   },
   "outputs": [
    {
     "name": "stdout",
     "output_type": "stream",
     "text": [
      "+--------------------+-----------+\n",
      "|                Date|Email_Count|\n",
      "+--------------------+-----------+\n",
      "|2000-12-13 00:00:...|         15|\n",
      "|2000-12-12 00:00:...|          9|\n",
      "|2000-10-31 00:00:...|          4|\n",
      "|2000-10-24 00:00:...|          4|\n",
      "|2000-12-07 00:00:...|          3|\n",
      "+--------------------+-----------+\n",
      "only showing top 5 rows\n",
      "\n"
     ]
    }
   ],
   "source": [
    "df = spark.createDataFrame(rdd_rows)\n",
    "df.show(5)"
   ]
  },
  {
   "cell_type": "code",
   "execution_count": 274,
   "metadata": {
    "collapsed": true
   },
   "outputs": [],
   "source": [
    "#! conda install seaborn\n",
    "import seaborn as sns\n",
    "import matplotlib as mat\n",
    "import matplotlib.pyplot as plt"
   ]
  },
  {
   "cell_type": "code",
   "execution_count": 276,
   "metadata": {
    "collapsed": true
   },
   "outputs": [],
   "source": [
    "pdDf = df.toPandas()"
   ]
  },
  {
   "cell_type": "code",
   "execution_count": 284,
   "metadata": {
    "collapsed": false
   },
   "outputs": [
    {
     "data": {
      "image/png": "[encoded data removed]",
      "text/plain": [
       "<matplotlib.figure.Figure at 0x7ff0b5680f60>"
      ]
     },
     "metadata": {},
     "output_type": "display_data"
    }
   ],
   "source": [
    "sns.set(style=\"darkgrid\")\n",
    "\n",
    "sns.pointplot(x='Date', y='Email_Count', data=pdDf)\n",
    "ax = plt.axes()\n",
    "ax.set_title('Email Traffic over Time')\n",
    "ax.set(xlabel='date', ylabel='emails')\n",
    "ax.set(xticks=[])\n",
    "sns.plt.show()"
   ]
  },
  {
   "cell_type": "code",
   "execution_count": null,
   "metadata": {
    "collapsed": true
   },
   "outputs": [],
   "source": []
  },
  {
   "cell_type": "code",
   "execution_count": null,
   "metadata": {
    "collapsed": true,
    "deletable": true,
    "editable": true
   },
   "outputs": [],
   "source": []
  },
  {
   "cell_type": "code",
   "execution_count": null,
   "metadata": {
    "collapsed": true
   },
   "outputs": [],
   "source": []
  }
 ],
 "metadata": {
  "kernelspec": {
   "display_name": "Python 3",
   "language": "python",
   "name": "python3"
  },
  "language_info": {
   "codemirror_mode": {
    "name": "ipython",
    "version": 3
   },
   "file_extension": ".py",
   "mimetype": "text/x-python",
   "name": "python",
   "nbconvert_exporter": "python",
   "pygments_lexer": "ipython3",
   "version": "3.5.2"
  }
 },
 "nbformat": 4,
 "nbformat_minor": 2
}
