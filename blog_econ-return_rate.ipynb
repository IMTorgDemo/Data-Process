{
 "cells": [
  {
   "cell_type": "markdown",
   "metadata": {},
   "source": [
    "# The Cost of Internal Investment\n",
    "Date: 2019-06-19  \n",
    "Author: Jason Beach  \n",
    "Categories: Economics, category2  \n",
    "Tags: sales, fed  \n",
    "<!--eofm-->"
   ]
  },
  {
   "cell_type": "markdown",
   "metadata": {},
   "source": [
    "There is one question on every economist's mind: Where has inflation gone?  It is imperative to understanding how actors make decisions and allocate limited resources.  The fact that the inflation rate is so low for so long is incredibly disconcerting for many reasons (with the fear of deflation being just one reason).\n",
    "\n",
    "Because of low growth and a lack of inflation the US government and Federal Reserve, as well as nearly every nations' central Bank, are pouring fuel onto the economy and getting a paltry return.  Their actions include the usual suspects:\n",
    "\n",
    "* corporate federal taxes are lowered to competitive rates\n",
    "* massive quantitative easing by the Fed\n",
    "* interest rates continued lowest of any business cycle (and crying for lower)\n",
    "\n",
    "Despite all of this, GDP growth is still just below 3%.  However, the singular understandable financial peculiarity to note is incredible _stock buybacks_ by nearly every corporation using the lowered tax rates that was supposed to be used for investment in capital and (dare say it) wage growth.\n",
    "\n",
    "From a personal perspective, individual sales can be quite difficult to make - even for strong products.  For an individual consultant, such as myself, it usually takes 5 to 7 interactions to make a sale.  At each interaction, I have to tell the client something remarkable about technology that can add value to their business, overnight.  After the 7th, I have to stop interaction with the client and let it known they will not get more until a contract is signed.\n",
    "\n",
    "But, even firms with strong products, such as financial oversight technology firm [Digital Reasoning](http://digitalreasoning.com), can still face headwinds for making sales.  Proof-of-concepts are needed and different corporations have various scorecards for determining a win.  This is for a market-leader that has a near monopoly within financial services.\n",
    "\n",
    "From the customers' perspective, the customer being large retail establishments, why would businesses invest in new capital, or increase worker salaries, or do anything?  Put aside on the complications and mis-alignments associated with executive compensation.  The return on the market can be as high as 20%.  That means, as a business owner, you have to grow your business greater than 20% in order to out-perform stocks.  When is the last time you're business has done that?  What new investment or genius partner can turn an established business into a growth firm?  \n",
    "\n",
    "That is what every business is asking.  The stock market (growth firms) is too hot, and has been that way for too long.  Dividends are at an all-time low.  It ruined nearly all pension funds because fixed-income (a required fraction of their portfolio) provided little to no return.  Investing in people (considering a service-based economy) is both risky and expensive - employment taxes are double those of the amount paid on stock.\n",
    "\n",
    "So, why is anyone starting a business, investing in their business, or even hiring full-time to maintain their current business? They could be investing in one of the small groups of super-star FANG monopolies which will inevitably acquire any small business that might be of interest."
   ]
  }
 ],
 "metadata": {
  "kernelspec": {
   "display_name": "Python 3",
   "language": "python",
   "name": "python3"
  },
  "language_info": {
   "codemirror_mode": {
    "name": "ipython",
    "version": 3
   },
   "file_extension": ".py",
   "mimetype": "text/x-python",
   "name": "python",
   "nbconvert_exporter": "python",
   "pygments_lexer": "ipython3",
   "version": "3.7.3"
  }
 },
 "nbformat": 4,
 "nbformat_minor": 2
}
