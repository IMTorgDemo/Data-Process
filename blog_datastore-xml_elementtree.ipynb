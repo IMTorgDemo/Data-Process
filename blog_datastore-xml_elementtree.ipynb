{
 "cells": [
  {
   "cell_type": "markdown",
   "metadata": {},
   "source": [
    "# Working with XML Data Using Python\n",
    "Date: 2020-03-26  \n",
    "Author: Jason Beach  \n",
    "Categories: Introduction_Tutorial, Data_Engineering_and_Storage  \n",
    "Tags: xml, python  \n",
    "<!--eofm-->"
   ]
  },
  {
   "cell_type": "markdown",
   "metadata": {},
   "source": [
    "Together with JSON, the XML format is the most popular structure for data on the web.  It is not only used for data storage, but also for websites, in the form of HTML.  XML was seen as the ubiquitous data format, but with the ascent of Javascript, JSON became more popular for web applications.  Still, XML is an effective format, and learning to parse and work with it is necessary for anyone who works with a variety of data sources."
   ]
  },
  {
   "cell_type": "markdown",
   "metadata": {},
   "source": [
    "## Introduction to ElementTree\n",
    "\n",
    "ElementTree is written in C (formerly cElementTree), and is part of the Python stdlib.  While the API may not be as easy as some other modules, such as minidom and beautifulsoup, ElementTree is quite fast and efficient.  Below are the results of tests performed by the ElementTree maintainers:\n",
    "\n",
    "```\n",
    "Library                         Time    Space\n",
    "xml.dom.minidom (Python 2.1)    6.3 s   80000K\n",
    "gnosis.objectify                2.0 s   22000k\n",
    "xml.dom.minidom (Python 2.4)    1.4 s   53000k\n",
    "ElementTree 1.2                 1.6 s   14500k  \n",
    "ElementTree 1.2.4/1.3           1.1 s   14500k  \n",
    "cDomlette (C extension)         0.540 s 20500k\n",
    "PyRXPU (C extension)            0.175 s 10850k\n",
    "libxml2 (C extension)           0.098 s 16000k\n",
    "readlines (read as utf-8)       0.093 s 8850k\n",
    "cElementTree (C extension)  --> 0.047 s 4900K <--\n",
    "readlines (read as ascii)       0.032 s 5050k  \n",
    "```"
   ]
  },
  {
   "cell_type": "markdown",
   "metadata": {},
   "source": [
    "## Config\n",
    "\n",
    "Begin by ensuring that your xml file is well-formed.  You can get a sense of this by visual inspection.  If the XML is not valid, then you will not be able to load the file."
   ]
  },
  {
   "cell_type": "code",
   "execution_count": 1,
   "metadata": {},
   "outputs": [
    {
     "name": "stdout",
     "output_type": "stream",
     "text": [
      "example.xml\n"
     ]
    }
   ],
   "source": [
    "! ls Data/example/"
   ]
  },
  {
   "cell_type": "code",
   "execution_count": 6,
   "metadata": {},
   "outputs": [
    {
     "name": "stdout",
     "output_type": "stream",
     "text": [
      "<?xml version=\"1.0\"?>\n",
      "<collection>\n",
      "    <genre category=\"Action\">\n"
     ]
    }
   ],
   "source": [
    "! head -n3 Data/example/example.xml"
   ]
  },
  {
   "cell_type": "code",
   "execution_count": 7,
   "metadata": {},
   "outputs": [
    {
     "name": "stdout",
     "output_type": "stream",
     "text": [
      "        </decade>\n",
      "    </genre>\n",
      "</collection>"
     ]
    }
   ],
   "source": [
    "! tail -n3 Data/example/example.xml"
   ]
  },
  {
   "cell_type": "code",
   "execution_count": 2,
   "metadata": {},
   "outputs": [],
   "source": [
    "import xml.etree.ElementTree as ET"
   ]
  },
  {
   "cell_type": "code",
   "execution_count": 3,
   "metadata": {},
   "outputs": [],
   "source": [
    "file_path = './Data/example/example.xml'\n",
    "tree = ET.parse(file_path)"
   ]
  },
  {
   "cell_type": "markdown",
   "metadata": {},
   "source": [
    "## Explore\n",
    "\n",
    "Continue exploring the structure of the xml.  There is typically a level of the branch where there are many leaves.  These leaves are often the data you are most interested in examining."
   ]
  },
  {
   "cell_type": "code",
   "execution_count": 9,
   "metadata": {},
   "outputs": [],
   "source": [
    "root = tree.getroot()"
   ]
  },
  {
   "cell_type": "code",
   "execution_count": 13,
   "metadata": {},
   "outputs": [
    {
     "name": "stdout",
     "output_type": "stream",
     "text": [
      "<Element 'collection' at 0x7fc18cd36db8>\n",
      "collection\n",
      "{}\n"
     ]
    }
   ],
   "source": [
    "print( root )\n",
    "print( root.tag )\n",
    "print( root.attrib )"
   ]
  },
  {
   "cell_type": "code",
   "execution_count": 19,
   "metadata": {},
   "outputs": [
    {
     "data": {
      "text/plain": [
       "[('genre', {'category': 'Action'}), ('genre', {'category': 'Thriller'})]"
      ]
     },
     "execution_count": 19,
     "metadata": {},
     "output_type": "execute_result"
    }
   ],
   "source": [
    "[(x.tag, x.attrib) for x in root]"
   ]
  },
  {
   "cell_type": "code",
   "execution_count": 23,
   "metadata": {},
   "outputs": [
    {
     "data": {
      "text/plain": [
       "[('collection', {}),\n",
       " ('genre', {'category': 'Action'}),\n",
       " ('decade', {'years': '1980s'}),\n",
       " ('movie',\n",
       "  {'favorite': 'True', 'title': 'Indiana Jones: The raiders of the lost Ark'}),\n",
       " ('format', {'multiple': 'No'}),\n",
       " ('year', {}),\n",
       " ('rating', {}),\n",
       " ('description', {}),\n",
       " ('movie', {'favorite': 'True', 'title': 'THE KARATE KID'}),\n",
       " ('format', {'multiple': 'Yes'})]"
      ]
     },
     "execution_count": 23,
     "metadata": {},
     "output_type": "execute_result"
    }
   ],
   "source": [
    "[(x.tag, x.attrib) for idx,x in enumerate(root.iter()) if idx < 10]"
   ]
  },
  {
   "cell_type": "markdown",
   "metadata": {},
   "source": [
    "It looks like a path of branches gets us to our `movie` leaf.  To get there we must follow: `/genre/decade/movie`."
   ]
  },
  {
   "cell_type": "code",
   "execution_count": 35,
   "metadata": {},
   "outputs": [
    {
     "name": "stdout",
     "output_type": "stream",
     "text": [
      "<?xml version='1.0' encoding='utf8'?>\n",
      "<collection>\n",
      "    <genre category=\"Action\">\n",
      "        <decade years=\"1980s\">\n",
      "            <movie favorite=\"True\" title=\"Indiana Jones: The raiders of the lost Ark\">\n",
      "                <format multiple=\"No\">DVD</format>\n",
      "                <year>1981</year>\n",
      "                <rating>PG</rating>\n",
      "                <description>\n",
      "                'Archaeologist and adventurer Indiana Jones \n",
      "                is hired by the U.S. government to find the Ark of the \n",
      "                Covenant before the Nazis.'\n",
      "                </description>\n",
      "            </movie>\n",
      "               <movie favorite=\"True\" title=\"THE KARATE KID\">\n",
      "               <format multiple=\"Yes\">DVD,Online</format>\n",
      " \n"
     ]
    }
   ],
   "source": [
    "print(ET.tostring(root, encoding='utf8').decode('utf8')[:700])"
   ]
  },
  {
   "cell_type": "markdown",
   "metadata": {},
   "source": [
    "## XPath Expressions\n",
    "\n",
    "XPath is a query language used to search through an XML quickly and easily. XPath is a \"path like\" syntax to identify and navigate nodes in an XML document.\n",
    "\n",
    "ElementTree has a `.findall()` function that will traverse the immediate children of the referenced element. You can use XPath expressions to specify more useful searches. "
   ]
  },
  {
   "cell_type": "code",
   "execution_count": 34,
   "metadata": {},
   "outputs": [
    {
     "name": "stdout",
     "output_type": "stream",
     "text": [
      "{'favorite': 'True', 'title': 'Indiana Jones: The raiders of the lost Ark'}\n",
      "{'favorite': 'True', 'title': 'THE KARATE KID'}\n",
      "{'favorite': 'False', 'title': 'Back 2 the Future'}\n",
      "{'favorite': 'False', 'title': 'X-Men'}\n",
      "{'favorite': 'True', 'title': 'Batman Returns'}\n",
      "{'favorite': 'False', 'title': 'Reservoir Dogs'}\n",
      "{'favorite': 'False', 'title': 'ALIEN'}\n",
      "{'favorite': 'True', 'title': \"Ferris Bueller's Day Off\"}\n",
      "{'favorite': 'FALSE', 'title': 'American Psycho'}\n"
     ]
    }
   ],
   "source": [
    "for movie in root.findall(\"./genre/decade/movie\"):\n",
    "    print(movie.attrib)"
   ]
  },
  {
   "cell_type": "markdown",
   "metadata": {},
   "source": [
    "Search on child tag."
   ]
  },
  {
   "cell_type": "code",
   "execution_count": 41,
   "metadata": {},
   "outputs": [
    {
     "name": "stdout",
     "output_type": "stream",
     "text": [
      "{'favorite': 'True', 'title': 'Batman Returns'}\n",
      "{'favorite': 'False', 'title': 'Reservoir Dogs'}\n"
     ]
    }
   ],
   "source": [
    "for leaf in root.findall(\"./genre/decade/movie/[year='1992']\"):\n",
    "    print(leaf.attrib)"
   ]
  },
  {
   "cell_type": "markdown",
   "metadata": {},
   "source": [
    "Search on child tag's attribute"
   ]
  },
  {
   "cell_type": "code",
   "execution_count": 43,
   "metadata": {},
   "outputs": [
    {
     "name": "stdout",
     "output_type": "stream",
     "text": [
      "<Element 'format' at 0x7fc18c4e6138>\n",
      "<Element 'format' at 0x7fc18c4e64a8>\n",
      "<Element 'format' at 0x7fc18c4e69f8>\n"
     ]
    }
   ],
   "source": [
    "for leaf in root.findall(\"./genre/decade/movie/format/[@multiple='Yes']\"):\n",
    "    print(leaf)"
   ]
  },
  {
   "cell_type": "markdown",
   "metadata": {},
   "source": [
    "use `...` inside of XPath to return the parent element of the current element."
   ]
  },
  {
   "cell_type": "code",
   "execution_count": 45,
   "metadata": {},
   "outputs": [
    {
     "name": "stdout",
     "output_type": "stream",
     "text": [
      "{'favorite': 'True', 'title': 'THE KARATE KID'}\n",
      "{'favorite': 'False', 'title': 'X-Men'}\n",
      "{'favorite': 'False', 'title': 'ALIEN'}\n"
     ]
    }
   ],
   "source": [
    "for leaf in root.findall(\"./genre/decade/movie/format/[@multiple='Yes']...\"):\n",
    "    print(leaf.attrib)"
   ]
  },
  {
   "cell_type": "markdown",
   "metadata": {},
   "source": [
    "## Modifying XML\n",
    "\n",
    "### Single element"
   ]
  },
  {
   "cell_type": "markdown",
   "metadata": {},
   "source": [
    "Obtain a single element of the tree and assign it to a variable."
   ]
  },
  {
   "cell_type": "code",
   "execution_count": 46,
   "metadata": {},
   "outputs": [
    {
     "name": "stdout",
     "output_type": "stream",
     "text": [
      "<Element 'movie' at 0x7fc18c4e6278>\n"
     ]
    }
   ],
   "source": [
    "b2tf = root.find(\"./genre/decade/movie[@title='Back 2 the Future']\")\n",
    "print(b2tf)"
   ]
  },
  {
   "cell_type": "code",
   "execution_count": 48,
   "metadata": {},
   "outputs": [
    {
     "data": {
      "text/plain": [
       "{'favorite': 'False', 'title': 'Back 2 the Future'}"
      ]
     },
     "execution_count": 48,
     "metadata": {},
     "output_type": "execute_result"
    }
   ],
   "source": [
    "b2tf.attrib"
   ]
  },
  {
   "cell_type": "code",
   "execution_count": 49,
   "metadata": {},
   "outputs": [
    {
     "name": "stdout",
     "output_type": "stream",
     "text": [
      "{'favorite': 'False', 'title': 'Back to the Future'}\n"
     ]
    }
   ],
   "source": [
    "b2tf.attrib[\"title\"] = \"Back to the Future\"\n",
    "print(b2tf.attrib)"
   ]
  },
  {
   "cell_type": "markdown",
   "metadata": {},
   "source": [
    "Because the assignment is not a deep copy, the change is made, in-place.  Now, we can write the corrected tree to file."
   ]
  },
  {
   "cell_type": "code",
   "execution_count": 50,
   "metadata": {},
   "outputs": [
    {
     "name": "stdout",
     "output_type": "stream",
     "text": [
      "{'favorite': 'True', 'title': 'Indiana Jones: The raiders of the lost Ark'}\n",
      "{'favorite': 'True', 'title': 'THE KARATE KID'}\n",
      "{'favorite': 'False', 'title': 'Back to the Future'}\n",
      "{'favorite': 'False', 'title': 'X-Men'}\n",
      "{'favorite': 'True', 'title': 'Batman Returns'}\n",
      "{'favorite': 'False', 'title': 'Reservoir Dogs'}\n",
      "{'favorite': 'False', 'title': 'ALIEN'}\n",
      "{'favorite': 'True', 'title': \"Ferris Bueller's Day Off\"}\n",
      "{'favorite': 'FALSE', 'title': 'American Psycho'}\n"
     ]
    }
   ],
   "source": [
    "for movie in root.findall(\"./genre/decade/movie\"):\n",
    "    print(movie.attrib)"
   ]
  },
  {
   "cell_type": "code",
   "execution_count": 57,
   "metadata": {},
   "outputs": [],
   "source": [
    "import os\n",
    "path = os.path.dirname(file_path)\n",
    "corr_file = os.path.join(path,\"example_corr.xml\")\n",
    "tree.write(corr_file)"
   ]
  },
  {
   "cell_type": "code",
   "execution_count": 58,
   "metadata": {},
   "outputs": [
    {
     "name": "stdout",
     "output_type": "stream",
     "text": [
      "example_corr.xml  example.xml\n"
     ]
    }
   ],
   "source": [
    "! ls Data/example"
   ]
  },
  {
   "cell_type": "markdown",
   "metadata": {},
   "source": [
    "### Multiple elements\n",
    "\n",
    "You can use regex to find commas - that will tell whether the multiple attribute should be \"Yes\" or \"No\". Adding and modifying attributes can be done easily with the .set() method."
   ]
  },
  {
   "cell_type": "code",
   "execution_count": 59,
   "metadata": {},
   "outputs": [
    {
     "name": "stdout",
     "output_type": "stream",
     "text": [
      "{'multiple': 'No'} DVD\n",
      "{'multiple': 'Yes'} DVD,Online\n",
      "{'multiple': 'False'} Blu-ray\n",
      "{'multiple': 'Yes'} dvd, digital\n",
      "{'multiple': 'No'} VHS\n",
      "{'multiple': 'No'} Online\n",
      "{'multiple': 'Yes'} DVD\n",
      "{'multiple': 'No'} DVD\n",
      "{'multiple': 'No'} blue-ray\n"
     ]
    }
   ],
   "source": [
    "for form in root.findall(\"./genre/decade/movie/format\"):\n",
    "    print(form.attrib, form.text)"
   ]
  },
  {
   "cell_type": "code",
   "execution_count": 60,
   "metadata": {},
   "outputs": [],
   "source": [
    "import re\n",
    "for form in root.findall(\"./genre/decade/movie/format\"):\n",
    "    # Search for the commas in the format text\n",
    "    match = re.search(',',form.text)\n",
    "    if match:\n",
    "        form.set('multiple','Yes')\n",
    "    else:\n",
    "        form.set('multiple','No')"
   ]
  },
  {
   "cell_type": "code",
   "execution_count": 61,
   "metadata": {},
   "outputs": [
    {
     "name": "stdout",
     "output_type": "stream",
     "text": [
      "{'multiple': 'No'} DVD\n",
      "{'multiple': 'Yes'} DVD,Online\n",
      "{'multiple': 'No'} Blu-ray\n",
      "{'multiple': 'Yes'} dvd, digital\n",
      "{'multiple': 'No'} VHS\n",
      "{'multiple': 'No'} Online\n",
      "{'multiple': 'No'} DVD\n",
      "{'multiple': 'No'} DVD\n",
      "{'multiple': 'No'} blue-ray\n"
     ]
    }
   ],
   "source": [
    "for form in root.findall(\"./genre/decade/movie/format\"):\n",
    "    print(form.attrib, form.text)"
   ]
  },
  {
   "cell_type": "code",
   "execution_count": 57,
   "metadata": {},
   "outputs": [],
   "source": [
    "import os\n",
    "path = os.path.dirname(file_path)\n",
    "corr_file = os.path.join(path,\"example_corr.xml\")\n",
    "tree.write(corr_file)"
   ]
  },
  {
   "cell_type": "markdown",
   "metadata": {},
   "source": [
    "### Move elements\n",
    "\n",
    "Check if movies are correctly categorized by year, and fix them if not."
   ]
  },
  {
   "cell_type": "code",
   "execution_count": 62,
   "metadata": {},
   "outputs": [
    {
     "name": "stdout",
     "output_type": "stream",
     "text": [
      "{'years': '1980s'}\n",
      "1981 \n",
      "\n",
      "1984 \n",
      "\n",
      "1985 \n",
      "\n",
      "{'years': '1990s'}\n",
      "2000 \n",
      "\n",
      "1992 \n",
      "\n",
      "1992 \n",
      "\n",
      "{'years': '1970s'}\n",
      "1979 \n",
      "\n",
      "{'years': '1980s'}\n",
      "1986 \n",
      "\n",
      "2000 \n",
      "\n"
     ]
    }
   ],
   "source": [
    "for decade in root.findall(\"./genre/decade\"):\n",
    "    print(decade.attrib)\n",
    "    for year in decade.findall(\"./movie/year\"):\n",
    "        print(year.text, '\\n')"
   ]
  },
  {
   "cell_type": "code",
   "execution_count": 63,
   "metadata": {},
   "outputs": [
    {
     "name": "stdout",
     "output_type": "stream",
     "text": [
      "{'favorite': 'False', 'title': 'X-Men'}\n",
      "{'favorite': 'FALSE', 'title': 'American Psycho'}\n"
     ]
    }
   ],
   "source": [
    "for movie in root.findall(\"./genre/decade/movie/[year='2000']\"):\n",
    "    print(movie.attrib)"
   ]
  },
  {
   "cell_type": "markdown",
   "metadata": {},
   "source": [
    "Add a new decade tag to the end of the XML using the `.SubElement()` method."
   ]
  },
  {
   "cell_type": "code",
   "execution_count": 65,
   "metadata": {},
   "outputs": [
    {
     "name": "stdout",
     "output_type": "stream",
     "text": [
      "<?xml version='1.0' encoding='utf8'?>\n",
      "<genre category=\"Action\">\n",
      "        <decade years=\"1980s\">\n",
      "            <movie favorite=\"True\" title=\"Indiana Jones: The raiders of the lost Ark\">\n",
      "                <format multiple=\"No\">DVD</format>\n",
      "                <year>1981</year>\n",
      "                <rating>PG</rating>\n",
      "                <description>\n",
      "                'Archaeologist and adventurer Indiana Jones \n",
      "                is hired by the U.S. government to find the Ark of the \n",
      "                Covenant before th\n"
     ]
    }
   ],
   "source": [
    "action = root.find(\"./genre[@category='Action']\")\n",
    "new_dec = ET.SubElement(action, 'decade')\n",
    "new_dec.attrib[\"years\"] = '2000s'\n",
    "\n",
    "print(ET.tostring(action, encoding='utf8').decode('utf8')[:500])"
   ]
  },
  {
   "cell_type": "markdown",
   "metadata": {},
   "source": [
    "Use `.append()` and `.remove()` to move the element."
   ]
  },
  {
   "cell_type": "code",
   "execution_count": 66,
   "metadata": {},
   "outputs": [],
   "source": [
    "xmen = root.find(\"./genre/decade/movie[@title='X-Men']\")\n",
    "dec2000s = root.find(\"./genre[@category='Action']/decade[@years='2000s']\")\n",
    "dec2000s.append(xmen)\n",
    "dec1990s = root.find(\"./genre[@category='Action']/decade[@years='1990s']\")\n",
    "dec1990s.remove(xmen)"
   ]
  },
  {
   "cell_type": "code",
   "execution_count": 67,
   "metadata": {},
   "outputs": [
    {
     "name": "stdout",
     "output_type": "stream",
     "text": [
      "<?xml version='1.0' encoding='utf8'?>\n",
      "<genre category=\"Action\">\n",
      "        <decade years=\"1980s\">\n",
      "            <movie favorite=\"True\" title=\"Indiana Jones: The raiders of the lost Ark\">\n",
      "                <format multiple=\"No\">DVD</format>\n",
      "                <year>1981</year>\n",
      "                <rating>PG</rating>\n",
      "                <description>\n",
      "                'Archaeologist and adventurer Indiana Jones \n",
      "                is hired by the U.S. government to find the Ark of the \n",
      "                Covenant before th\n"
     ]
    }
   ],
   "source": [
    "print(ET.tostring(action, encoding='utf8').decode('utf8')[:500])"
   ]
  },
  {
   "cell_type": "code",
   "execution_count": 68,
   "metadata": {},
   "outputs": [],
   "source": [
    "import os\n",
    "path = os.path.dirname(file_path)\n",
    "corr_file = os.path.join(path,\"example_corr.xml\")\n",
    "tree.write(corr_file)"
   ]
  },
  {
   "cell_type": "markdown",
   "metadata": {},
   "source": [
    "## XML schema (.xsd)\n",
    "\n",
    "ElementTree does not have support for XML schema.  However, lxml library is based on ElementTree, and it does have support for schemas.  If you have access to external libraries and need the functionality, then lxml may solve your problems."
   ]
  },
  {
   "cell_type": "markdown",
   "metadata": {},
   "source": [
    "With a `XMLSchema` you can enforce the schema standards."
   ]
  },
  {
   "cell_type": "code",
   "execution_count": null,
   "metadata": {},
   "outputs": [],
   "source": [
    "from lxml import etree\n",
    "\n",
    "# Create the schema object\n",
    "with open(xsd_file) as f:\n",
    "    xmlschema_doc = etree.parse(f)\n",
    "xmlschema = etree.XMLSchema(xmlschema_doc)\n",
    "\n",
    "# Create a tree for the XML document\n",
    "doc = etree.parse(xml_text)\n",
    "\n",
    "# Validate the XML document using the schema\n",
    "return xmlschema.validate(doc)\n",
    "\n",
    "# Or if you want a exception to be raised\n",
    "xmlschema.assertValid(doc)"
   ]
  },
  {
   "cell_type": "markdown",
   "metadata": {},
   "source": [
    "## Conclusion\n",
    "\n",
    "Working with XML is an important skill, and Python stdlib's ElementTree library is invaluable for getting things done fast.  With a little knowledge of the ElementTree API and XPath expressions, you're fully capable of most functionality needed for XML CRUD operations."
   ]
  }
 ],
 "metadata": {
  "kernelspec": {
   "display_name": "Python 3",
   "language": "python",
   "name": "python3"
  },
  "language_info": {
   "codemirror_mode": {
    "name": "ipython",
    "version": 3
   },
   "file_extension": ".py",
   "mimetype": "text/x-python",
   "name": "python",
   "nbconvert_exporter": "python",
   "pygments_lexer": "ipython3",
   "version": "3.7.3"
  }
 },
 "nbformat": 4,
 "nbformat_minor": 4
}
