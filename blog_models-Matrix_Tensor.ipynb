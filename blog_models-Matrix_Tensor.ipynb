{
 "cells": [
  {
   "cell_type": "markdown",
   "metadata": {},
   "source": [
    "# Working with Matrices and Tensors using Numpy and PyTorch\n",
    "Date: 2019-08-26  \n",
    "Author: Jason Beach  \n",
    "Categories: DataScience, DeepLearning, Math  \n",
    "Tags: numpy, pytorch, python  \n",
    "<!--eofm-->"
   ]
  },
  {
   "cell_type": "markdown",
   "metadata": {},
   "source": [
    "## Basics of Tensors and Matrices\n",
    "\n",
    "PyTorch is 'A replacement for NumPy to use the power of GPUs.'  PyTorch provides both matrices and tensors."
   ]
  },
  {
   "cell_type": "code",
   "execution_count": 39,
   "metadata": {},
   "outputs": [],
   "source": [
    "import torch\n",
    "import numpy as np"
   ]
  },
  {
   "cell_type": "markdown",
   "metadata": {},
   "source": [
    "### Creation"
   ]
  },
  {
   "cell_type": "markdown",
   "metadata": {},
   "source": [
    "A `torch.Tensor` is a multi-dimensional matrix containing elements of a single data type.  When an uninitialized matrix is created, whatever values were in the allocated memory at the time will appear as the initial values.  `torch.Tensor` is an alias for the default tensor type (torch.FloatTensor)."
   ]
  },
  {
   "cell_type": "code",
   "execution_count": 25,
   "metadata": {},
   "outputs": [],
   "source": [
    "x = torch.empty(5, 3)    #construct a 5x3 matrix, uninitialized\n",
    "x = torch.rand(5, 3)     #randomly initialized matrix\n",
    "x = torch.zeros(5, 3, dtype=torch.long)    #matrix filled zeros and of dtype long"
   ]
  },
  {
   "cell_type": "code",
   "execution_count": 26,
   "metadata": {},
   "outputs": [
    {
     "data": {
      "text/plain": [
       "torch.Tensor"
      ]
     },
     "execution_count": 26,
     "metadata": {},
     "output_type": "execute_result"
    }
   ],
   "source": [
    "type(x)"
   ]
  },
  {
   "cell_type": "code",
   "execution_count": 27,
   "metadata": {},
   "outputs": [
    {
     "name": "stdout",
     "output_type": "stream",
     "text": [
      "torch.LongTensor\n",
      "torch.Size([5, 3])\n",
      "torch.Size([5, 3])\n",
      "2\n"
     ]
    }
   ],
   "source": [
    "print( x.type() )\n",
    "\n",
    "print( x.shape )\n",
    "print( x.size() )\n",
    "print( x.dim() )"
   ]
  },
  {
   "cell_type": "markdown",
   "metadata": {},
   "source": [
    "A tensor can be constructed from a Python list or sequence using the torch.tensor() constructor.  \n",
    "\n",
    "`torch.tensor()` always copies data. If you have a Tensor data and just want to change its `requires_grad` flag, use `requires_grad_()` or `detach()` to avoid a copy. If you have a numpy array and want to avoid a copy, use `torch.as_tensor()`."
   ]
  },
  {
   "cell_type": "code",
   "execution_count": 21,
   "metadata": {},
   "outputs": [],
   "source": [
    "x = torch.tensor([5.5, 3])    #create a tensor from data"
   ]
  },
  {
   "cell_type": "code",
   "execution_count": 22,
   "metadata": {},
   "outputs": [],
   "source": [
    "# create a tensor\n",
    "new_tensor = torch.Tensor([[1, 2], [3, 4]])    # create a 2 x 3 tensor with random values\n",
    "empty_tensor = torch.Tensor(2, 3)     # create a 2 x 3 tensor with random values between -1and 1\n",
    "uniform_tensor = torch.Tensor(2, 3).uniform_(-1, 1)    # create a 2 x 3 tensor with random values from a uniform distribution on the interval [0, 1)\n",
    "rand_tensor = torch.rand(2, 3)    # create a 2 x 3 tensor of zeros\n",
    "zero_tensor = torch.zeros(2, 3)"
   ]
  },
  {
   "cell_type": "markdown",
   "metadata": {},
   "source": [
    "### Slicing and reshaping"
   ]
  },
  {
   "cell_type": "code",
   "execution_count": 23,
   "metadata": {},
   "outputs": [],
   "source": [
    "## slicing examples\n",
    "slice_tensor = torch.Tensor([[1, 2, 3], [4, 5, 6], [7, 8, 9]])    # elements from every row, first column"
   ]
  },
  {
   "cell_type": "code",
   "execution_count": 24,
   "metadata": {},
   "outputs": [
    {
     "name": "stdout",
     "output_type": "stream",
     "text": [
      "tensor(4.)\n",
      "4.0\n"
     ]
    }
   ],
   "source": [
    "print( slice_tensor[1][0] )\n",
    "print( slice_tensor[1][0].item() )"
   ]
  },
  {
   "cell_type": "code",
   "execution_count": 58,
   "metadata": {},
   "outputs": [
    {
     "name": "stdout",
     "output_type": "stream",
     "text": [
      "tensor([1., 4., 7.])\n",
      "tensor([3., 6., 9.])\n",
      "tensor([7., 8., 9.])\n",
      "tensor([[1., 2., 3.],\n",
      "        [4., 5., 6.]])\n"
     ]
    }
   ],
   "source": [
    "print(slice_tensor[:, 0])         # tensor([ 1.,  4.,  7.])# elements from every row, last column\n",
    "print(slice_tensor[:, -1])        # tensor([ 3.,  6.,  9.])# all elements on the second row\n",
    "print(slice_tensor[2, :])         # tensor([ 4.,  5.,  6.])# all elements from first two rows\n",
    "print(slice_tensor[:2, :])        # tensor([[ 1.,  2.,  3.],\n",
    "                                  #         [ 4.,  5.,  6.]])"
   ]
  },
  {
   "cell_type": "code",
   "execution_count": 73,
   "metadata": {},
   "outputs": [
    {
     "name": "stdout",
     "output_type": "stream",
     "text": [
      "tensor([[1., 2., 3., 4.]])\n",
      "tensor([[1.],\n",
      "        [2.],\n",
      "        [3.],\n",
      "        [4.]])\n"
     ]
    }
   ],
   "source": [
    "reshape_tensor = torch.Tensor([[1, 2], [3, 4]])\n",
    "\n",
    "print( reshape_tensor.view(1,4) ) \n",
    "print( reshape_tensor.view(4,1) )"
   ]
  },
  {
   "cell_type": "code",
   "execution_count": 28,
   "metadata": {},
   "outputs": [
    {
     "name": "stdout",
     "output_type": "stream",
     "text": [
      "tensor([[0.7329, 0.2473, 0.8068],\n",
      "        [0.5935, 0.4460, 0.9787]])\n"
     ]
    }
   ],
   "source": [
    "my_tensor = torch.rand(2,3)\n",
    "print(my_tensor)"
   ]
  },
  {
   "cell_type": "markdown",
   "metadata": {},
   "source": [
    "### Operations"
   ]
  },
  {
   "cell_type": "markdown",
   "metadata": {},
   "source": [
    "There are multiple syntaxes for operations.  Any operation that mutates a tensor in-place is post-fixed with an _. For example: x.copy_(y), x.t_(), will change x.  The docs for all operations is [here](https://pytorch.org/docs/stable/torch.html)."
   ]
  },
  {
   "cell_type": "code",
   "execution_count": 29,
   "metadata": {},
   "outputs": [
    {
     "name": "stdout",
     "output_type": "stream",
     "text": [
      "tensor([[1., 1., 1.],\n",
      "        [1., 1., 1.],\n",
      "        [1., 1., 1.],\n",
      "        [1., 1., 1.],\n",
      "        [1., 1., 1.]], dtype=torch.float64)\n",
      "tensor([[-0.2641,  0.1227,  0.8318],\n",
      "        [-0.8145, -0.3912,  0.3452],\n",
      "        [-0.9334, -1.3681,  0.3499],\n",
      "        [-1.9163, -0.0799, -0.7764],\n",
      "        [ 0.7414,  1.4728,  0.0776]])\n"
     ]
    }
   ],
   "source": [
    "x = x.new_ones(5, 3, dtype=torch.double)      # new_* methods take in sizes\n",
    "print(x)\n",
    "x = torch.randn_like(x, dtype=torch.float)    # override dtype!\n",
    "print(x)   "
   ]
  },
  {
   "cell_type": "code",
   "execution_count": 30,
   "metadata": {},
   "outputs": [],
   "source": [
    "y = torch.rand(5, 3)"
   ]
  },
  {
   "cell_type": "code",
   "execution_count": 31,
   "metadata": {},
   "outputs": [
    {
     "name": "stdout",
     "output_type": "stream",
     "text": [
      "tensor([[ 0.2509,  0.9078,  0.9634],\n",
      "        [-0.5009,  0.2014,  0.7240],\n",
      "        [-0.5479, -0.4745,  0.5204],\n",
      "        [-1.4827,  0.4353, -0.4762],\n",
      "        [ 1.0552,  1.4836,  0.3999]])\n",
      "tensor([[ 0.2509,  0.9078,  0.9634],\n",
      "        [-0.5009,  0.2014,  0.7240],\n",
      "        [-0.5479, -0.4745,  0.5204],\n",
      "        [-1.4827,  0.4353, -0.4762],\n",
      "        [ 1.0552,  1.4836,  0.3999]])\n",
      "tensor([[ 0.2509,  0.9078,  0.9634],\n",
      "        [-0.5009,  0.2014,  0.7240],\n",
      "        [-0.5479, -0.4745,  0.5204],\n",
      "        [-1.4827,  0.4353, -0.4762],\n",
      "        [ 1.0552,  1.4836,  0.3999]])\n"
     ]
    }
   ],
   "source": [
    "#method\n",
    "print(torch.add(x, y))\n",
    "\n",
    "#output tensor as argument\n",
    "result = torch.empty(5, 3)\n",
    "torch.add(x, y, out=result)\n",
    "print(result)\n",
    "\n",
    "#Addition: in-place\n",
    "y.add_(x)\n",
    "print(y)"
   ]
  },
  {
   "cell_type": "code",
   "execution_count": 33,
   "metadata": {},
   "outputs": [
    {
     "name": "stdout",
     "output_type": "stream",
     "text": [
      "tensor([[0.7329, 0.5935],\n",
      "        [0.2473, 0.4460],\n",
      "        [0.8068, 0.9787]])\n",
      "tensor([[0.7329, 0.5935],\n",
      "        [0.2473, 0.4460],\n",
      "        [0.8068, 0.9787]])\n"
     ]
    }
   ],
   "source": [
    "print( my_tensor.t() )             # regular transpose function\n",
    "print( my_tensor.permute(-1,0) )   # transpose via permute function"
   ]
  },
  {
   "cell_type": "code",
   "execution_count": 34,
   "metadata": {},
   "outputs": [
    {
     "name": "stdout",
     "output_type": "stream",
     "text": [
      "tensor([[ 4.3144e-09,  8.3869e-09,  3.0715e-09],\n",
      "        [ 4.7199e-09,  6.7144e-09, -7.1207e-09]])\n"
     ]
    }
   ],
   "source": [
    "cross_prod = my_tensor.cross(my_tensor)\n",
    "print( cross_prod )"
   ]
  },
  {
   "cell_type": "code",
   "execution_count": 35,
   "metadata": {},
   "outputs": [
    {
     "name": "stdout",
     "output_type": "stream",
     "text": [
      "tensor([[1.2493, 1.3350],\n",
      "        [1.3350, 1.5091]])\n"
     ]
    }
   ],
   "source": [
    "maxtrix_prod = my_tensor.mm( my_tensor.t() )\n",
    "print( maxtrix_prod )"
   ]
  },
  {
   "cell_type": "code",
   "execution_count": 36,
   "metadata": {},
   "outputs": [
    {
     "name": "stdout",
     "output_type": "stream",
     "text": [
      "tensor([[0.5371, 0.0612, 0.6510],\n",
      "        [0.3523, 0.1989, 0.9579]])\n"
     ]
    }
   ],
   "source": [
    "element_mult = my_tensor.mul(my_tensor)\n",
    "print( element_mult )"
   ]
  },
  {
   "cell_type": "markdown",
   "metadata": {},
   "source": [
    "### Working with Numpy and the GPU"
   ]
  },
  {
   "cell_type": "code",
   "execution_count": 41,
   "metadata": {},
   "outputs": [],
   "source": [
    "if torch.cuda.is_available():\n",
    "    my_tensor.cuda(True)"
   ]
  },
  {
   "cell_type": "code",
   "execution_count": 42,
   "metadata": {},
   "outputs": [
    {
     "data": {
      "text/plain": [
       "False"
      ]
     },
     "execution_count": 42,
     "metadata": {},
     "output_type": "execute_result"
    }
   ],
   "source": [
    "my_tensor.is_cuda"
   ]
  },
  {
   "cell_type": "code",
   "execution_count": 43,
   "metadata": {},
   "outputs": [
    {
     "name": "stdout",
     "output_type": "stream",
     "text": [
      "[[1 2]\n",
      " [3 4]]\n"
     ]
    }
   ],
   "source": [
    "# Create a numpy array\n",
    "x = np.array([[1, 2], [3, 4]])\n",
    "print(x)"
   ]
  },
  {
   "cell_type": "code",
   "execution_count": 44,
   "metadata": {},
   "outputs": [
    {
     "name": "stdout",
     "output_type": "stream",
     "text": [
      "tensor([[1, 2],\n",
      "        [3, 4]])\n"
     ]
    }
   ],
   "source": [
    "# Convert the numpy array to a torch tensor\n",
    "y = torch.from_numpy(x)\n",
    "print(y)"
   ]
  },
  {
   "cell_type": "code",
   "execution_count": 45,
   "metadata": {},
   "outputs": [
    {
     "name": "stdout",
     "output_type": "stream",
     "text": [
      "[[1 2]\n",
      " [3 4]]\n"
     ]
    }
   ],
   "source": [
    "# Convert the torch tensor to a numpy array\n",
    "z = y.numpy()\n",
    "print(z)"
   ]
  },
  {
   "cell_type": "markdown",
   "metadata": {},
   "source": [
    "### References\n",
    "\n",
    "__Numpy__\n",
    "\n",
    "* [ref: datacamp numpy cheatsheet](https://s3.amazonaws.com/assets.datacamp.com/blog_assets/Numpy_Python_Cheat_Sheet.pdf)\n",
    "* [docs: numpy quickstart](https://docs.scipy.org/doc/numpy/user/quickstart.html)\n",
    "* [docs: numpy api](https://docs.scipy.org/doc/numpy/reference/)\n",
    "\n",
    "\n",
    "__PyTorch__\n",
    "\n",
    "* [docs: pytorch cheatsheet](https://pytorch.org/tutorials/beginner/ptcheat.html)\n",
    "* [docs: pytorch api](https://pytorch.org/docs/stable/index.html)\n",
    "* [ref: kdnuggets pytorch](https://www.kdnuggets.com/2019/08/pytorch-cheat-sheet-beginners.html)\n",
    "* [ref: pytorch cheat](https://github.com/Tgaaly/pytorch-cheatsheet/blob/master/README.md)\n",
    "* [ref: kaggle pytorch starter with helper functions](https://github.com/bfortuner/pytorch-kaggle-starter)"
   ]
  }
 ],
 "metadata": {
  "kernelspec": {
   "display_name": "Python 3",
   "language": "python",
   "name": "python3"
  },
  "language_info": {
   "codemirror_mode": {
    "name": "ipython",
    "version": 3
   },
   "file_extension": ".py",
   "mimetype": "text/x-python",
   "name": "python",
   "nbconvert_exporter": "python",
   "pygments_lexer": "ipython3",
   "version": "3.7.3"
  }
 },
 "nbformat": 4,
 "nbformat_minor": 2
}
