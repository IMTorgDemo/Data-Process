{
 "cells": [
  {
   "cell_type": "markdown",
   "metadata": {},
   "source": [
    "# Incorporating an Initial Training Sample into a Project\n",
    "Date: 2020-01-09 \n",
    "Author: Jason Beach  \n",
    "Categories: DataScience  \n",
    "Tags: tag1, tag2 \n",
    "<!--eofm-->"
   ]
  },
  {
   "cell_type": "markdown",
   "metadata": {},
   "source": [
    "During a data science project, data is often provided in an incremental manner.  Some customer files are easier to obtain than others, such as when lengthy unarchiving processes are warranted.  To ensure no time is wasted, available data can be put to use with initial analyses and model training as a Training Sample.  The same data is incorporated with Training data when it is formally split into Training and Holdout sets.  Care must be taken to ensure there is not a systematic difference between the Training Sample and the greater Training Data.  While this arrangement is not ideal (it breaks the principal of data randomization), it is sometimes necessary in order to maintain a schedule.  This post simulates various different scenarios for this process and discusses the outcomes."
   ]
  },
  {
   "cell_type": "markdown",
   "metadata": {},
   "source": [
    "This will review the fundamental concepts and then demonstrate the general case, using the R statistical language.  We will use a uniform distribution sampling with a percentile cut-off to simulate a bernoulli random variable.  The sums of these variables creates a binomial distribution."
   ]
  },
  {
   "cell_type": "markdown",
   "metadata": {},
   "source": [
    "## Fundamentals of Randomness\n",
    "\n",
    "The initial code that is sampling from a uniform distribution is easily implementable in most languages, so we will proceed with it."
   ]
  },
  {
   "cell_type": "code",
   "execution_count": 15,
   "metadata": {},
   "outputs": [],
   "source": [
    "options(repr.plot.width=4, repr.plot.height=3)"
   ]
  },
  {
   "cell_type": "code",
   "execution_count": 188,
   "metadata": {},
   "outputs": [
    {
     "name": "stdout",
     "output_type": "stream",
     "text": [
      "     [,1] [,2] [,3] [,4] [,5] [,6] [,7] [,8] [,9] [,10]\n",
      "[1,]    0    0    0    0    1    0    0    0    0     1\n"
     ]
    }
   ],
   "source": [
    "#bernoulli by sampling from uniform\n",
    "rbern <- function(n,p){\n",
    "    result = vector()\n",
    "    for(i in 1:n){  \n",
    "        if( runif(1,0,1) < p ){ \n",
    "            result[i] = 1\n",
    "        }else{ \n",
    "            result[i] = 0\n",
    "        }\n",
    "        n=n-1;\n",
    "    }\n",
    "    return(result)\n",
    "}\n",
    "rand = rbern(10, .5)\n",
    "print( t(rand))"
   ]
  },
  {
   "cell_type": "code",
   "execution_count": 189,
   "metadata": {},
   "outputs": [
    {
     "data": {
      "text/html": [
       "<table>\n",
       "<tbody>\n",
       "\t<tr><td>0</td><td>1</td><td>1</td><td>0</td><td>1</td><td>1</td><td>1</td><td>0</td><td>1</td><td>0</td></tr>\n",
       "</tbody>\n",
       "</table>\n"
      ],
      "text/latex": [
       "\\begin{tabular}{llllllllll}\n",
       "\t 0 & 1 & 1 & 0 & 1 & 1 & 1 & 0 & 1 & 0\\\\\n",
       "\\end{tabular}\n"
      ],
      "text/markdown": [
       "\n",
       "| 0 | 1 | 1 | 0 | 1 | 1 | 1 | 0 | 1 | 0 |\n",
       "\n"
      ],
      "text/plain": [
       "     [,1] [,2] [,3] [,4] [,5] [,6] [,7] [,8] [,9] [,10]\n",
       "[1,] 0    1    1    0    1    1    1    0    1    0    "
      ]
     },
     "metadata": {},
     "output_type": "display_data"
    }
   ],
   "source": [
    "# bernoulli distribution using binom()\n",
    "bern = rbinom(10, 1,.5)\n",
    "t(bern)"
   ]
  },
  {
   "cell_type": "code",
   "execution_count": 190,
   "metadata": {},
   "outputs": [
    {
     "data": {
      "text/html": [
       "51"
      ],
      "text/latex": [
       "51"
      ],
      "text/markdown": [
       "51"
      ],
      "text/plain": [
       "[1] 51"
      ]
     },
     "metadata": {},
     "output_type": "display_data"
    }
   ],
   "source": [
    "# binomial distribution\n",
    "rand = rbinom(1, 100, .5)\n",
    "rand"
   ]
  },
  {
   "cell_type": "markdown",
   "metadata": {},
   "source": [
    "## Simulation of Process\n",
    "\n",
    "This is a simulation of the Training-Holdout set data splitting process.  We say there are 100 records total, and 5 of them are provided to us, and used in an initial analysis.  We assume a typical 80%-20%, Training-Holdout, split.  "
   ]
  },
  {
   "cell_type": "code",
   "execution_count": 119,
   "metadata": {},
   "outputs": [],
   "source": [
    "SAMPLE_TNG = 5\n",
    "TOTAL_RECORDS = 100\n",
    "PCT_ORIG = 0.8"
   ]
  },
  {
   "cell_type": "markdown",
   "metadata": {},
   "source": [
    "This will give us an expected 80 Training set records by using the expected value of the binomial pmf. \n",
    "\n",
    "\n",
    "\\begin{align*}\n",
    "k\\binom{n}k=\\frac{kn!}{k!(n-k)!}=\\frac{n!}{(k-1)!(n-k)!}=\\frac{n(n-1)!}{(k-1)!(n-k)!}=n\\binom{n-1}{k-1}\\;:\n",
    "\\end{align*}\n",
    "\n",
    "\\begin{align*}\n",
    "\\sum^n_{k=0}k\\binom nkp^k(1-p)^{n-k}&=\\sum_{k=0}^nn\\binom{n-1}{k-1}p^k(1-p)^{n-k}\\\\\n",
    "&=n\\sum_{k=0}^n\\binom{n-1}{k-1}p^k(1-p)^{n-k}\\\\\n",
    "&=n\\sum_{k=0}^{n-1}\\binom{n-1}kp^{k+1}(1-p)^{n-k-1}\\\\\n",
    "&=np\\sum_{k=0}^{n-1}\\binom{n-1}kp^k(1-p)^{n-k-1}\\\\\n",
    "&=np\\Big(p+(1-p)\\Big)^{n-1}&&\\text{using the binomial theorem}\\\\\n",
    "&=np\\;\n",
    "\\end{align*}"
   ]
  },
  {
   "cell_type": "code",
   "execution_count": 119,
   "metadata": {},
   "outputs": [],
   "source": [
    "SPLIT_TNG = 80"
   ]
  },
  {
   "cell_type": "markdown",
   "metadata": {},
   "source": [
    "We modify the simulation percentage so that it is corrected for the reduced number of training records.\n",
    "\n",
    "\\begin{align*}\n",
    "TotalRecords + TrainingSample = TrainingData\\\\\n",
    "Binomial(100,p) = TrainingData - Training Sample\\\\\n",
    "np = TrainingData - Training Sample\\\\\n",
    "p = (TrainingData - Training Sample) / n\n",
    "\\end{align*}"
   ]
  },
  {
   "cell_type": "code",
   "execution_count": 128,
   "metadata": {},
   "outputs": [
    {
     "data": {
      "text/html": [
       "0.75"
      ],
      "text/latex": [
       "0.75"
      ],
      "text/markdown": [
       "0.75"
      ],
      "text/plain": [
       "[1] 0.75"
      ]
     },
     "metadata": {},
     "output_type": "display_data"
    }
   ],
   "source": [
    "PCT_MOD = (SPLIT_TNG - SAMPLE_TNG) / TOTAL_RECORDS \n",
    "PCT_MOD"
   ]
  },
  {
   "cell_type": "markdown",
   "metadata": {},
   "source": [
    "We will run the simulation 1,000 times to receive a nice distribution of results."
   ]
  },
  {
   "cell_type": "code",
   "execution_count": 180,
   "metadata": {},
   "outputs": [
    {
     "data": {
      "image/png": "[encoded data removed]",
      "text/plain": [
       "Plot with title “Histogram of samples”"
      ]
     },
     "metadata": {},
     "output_type": "display_data"
    }
   ],
   "source": [
    "SAMPLE_TNG = 5\n",
    "TOTAL_RECORDS = 100\n",
    "PCT_ORIG = 0.8\n",
    "SPLIT_TNG = 80\n",
    "PCT_MOD = (SPLIT_TNG - SAMPLE_TNG) / TOTAL_RECORDS \n",
    "\n",
    "sim <- function(x){\n",
    "    rand = rbern(x, PCT_MOD)\n",
    "    tng = sum(rand) + SAMPLE_TNG\n",
    "    return( tng )\n",
    "    }\n",
    "\n",
    "samples <- replicate(1000, sim(100))\n",
    "hist(samples)"
   ]
  },
  {
   "cell_type": "markdown",
   "metadata": {},
   "source": [
    "## Realistic Example\n",
    "\n",
    "Let us add some more reasonable values for clarity."
   ]
  },
  {
   "cell_type": "code",
   "execution_count": 186,
   "metadata": {},
   "outputs": [
    {
     "name": "stdout",
     "output_type": "stream",
     "text": [
      "[1] 42.6465\n"
     ]
    },
    {
     "data": {
      "image/png": "[encoded data removed]",
      "text/plain": [
       "Plot with title “Histogram of samples”"
      ]
     },
     "metadata": {},
     "output_type": "display_data"
    }
   ],
   "source": [
    "SAMPLE_TNG = 143994\n",
    "TOTAL_RECORDS = (385 * 1000) + 490\n",
    "PCT_ORIG = 0.8\n",
    "SPLIT_TNG = TOTAL_RECORDS * PCT_ORIG\n",
    "PCT_MOD = (SPLIT_TNG - SAMPLE_TNG) / TOTAL_RECORDS \n",
    "\n",
    "sim <- function(x){\n",
    "    rand = rbern(x, PCT_MOD)\n",
    "    tng = sum(rand) + SAMPLE_TNG\n",
    "    return( tng )\n",
    "    }\n",
    "\n",
    "samples <- replicate(1000, sim(100))\n",
    "print(PCT_MOD*100)\n",
    "hist(samples)"
   ]
  },
  {
   "cell_type": "markdown",
   "metadata": {},
   "source": [
    "## Possible Errors"
   ]
  },
  {
   "cell_type": "markdown",
   "metadata": {},
   "source": [
    "In the real-world the problem was that the record Ids (\"Stream ID\" and \"File Generation Date\") were not unique, so there was a bad count of sample size.  This didn't adversely effect the splitting because the records were not sent to the Holdout set, and the quantity of miss-matched records was negligible.\n",
    "\n",
    "However, it did cause error in the calculation of dataset sizes.  If the quantity was greater, then this could cause confusion, as well as inefficiently allocating the split datasets.  A small simulation of the error can provide insight to the incorrect results."
   ]
  },
  {
   "cell_type": "code",
   "execution_count": 244,
   "metadata": {},
   "outputs": [],
   "source": [
    "sim <- function(x, SAMPLE_TNG){\n",
    "    rand = rbern(x, PCT_MOD)\n",
    "    tng = sum(rand) + SAMPLE_TNG\n",
    "    return( tng )\n",
    "    }\n",
    "\n",
    "ITER=100\n",
    "SAMPLE_TNG_SEQ = seq(5, 15, length.out=ITER)\n",
    "result = vector()\n",
    "i = 1\n",
    "\n",
    "for(sample_size in SAMPLE_TNG_SEQ){\n",
    "    SAMPLE_TNG = sample_size\n",
    "    TOTAL_RECORDS = 100\n",
    "    PCT_ORIG = 0.8\n",
    "    SPLIT_TNG = 80\n",
    "    PCT_MOD = (SPLIT_TNG - SAMPLE_TNG) / TOTAL_RECORDS \n",
    "\n",
    "    tmp <- replicate(100, sim(100, SAMPLE_TNG))\n",
    "    result[i] <- median(tmp)\n",
    "    i=i+1\n",
    "    }"
   ]
  },
  {
   "cell_type": "code",
   "execution_count": 245,
   "metadata": {},
   "outputs": [
    {
     "data": {
      "image/png": "[encoded data removed]",
      "text/plain": [
       "plot without title"
      ]
     },
     "metadata": {},
     "output_type": "display_data"
    }
   ],
   "source": [
    "plot(result ~ SAMPLE_TNG_SEQ)"
   ]
  },
  {
   "cell_type": "markdown",
   "metadata": {},
   "source": [
    "## Conclusion\n",
    "\n",
    "Seemingly small problems can occur that may have large effects on a project schedule.  Working around those problems is imperative.  Some off-the-cuff calculations and a little stochastic simulation script, such as what you see here, may be just enough to keep a small problem from becoming a game-changer."
   ]
  }
 ],
 "metadata": {
  "kernelspec": {
   "display_name": "R",
   "language": "R",
   "name": "ir"
  },
  "language_info": {
   "codemirror_mode": "r",
   "file_extension": ".r",
   "mimetype": "text/x-r-source",
   "name": "R",
   "pygments_lexer": "r",
   "version": "3.6.1"
  }
 },
 "nbformat": 4,
 "nbformat_minor": 2
}
