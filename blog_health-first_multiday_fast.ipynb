{
 "cells": [
  {
   "cell_type": "markdown",
   "metadata": {},
   "source": [
    "# Fasting and the True Reasons We Eat\n",
    "Date: 2020-01-12  \n",
    "Author: Jason Beach  \n",
    "Categories: Health, Category2  \n",
    "Tags: diet, strength   \n",
    "<!--eofm-->"
   ]
  },
  {
   "cell_type": "markdown",
   "metadata": {},
   "source": [
    "I'm nearing the end of my first 48-hour, water-only fast.  I was surprised by the changes in my body, but even more with my psychology and emotions.  I've used caloric-restriction and intermittent-fasting (16-fast/8-eat) for over ten years, and a multi-day fast is a natural extension that proved to be an eye-opening experience.  \n",
    "\n",
    "I was always afraid that fasting would lead to an inability to workout, as well as a wasting-away of muscle tissue.  Recent research shows that the relationship between Growth Hormone and IGF-1 creates a delicate balance of making efficient use of unused proteins within the body, while maintaining skeletal muscle.  I can continue with skill-based (fewer than 5 repititions) strength training with fairly heavy (for me) weights.  This includes deadlifts of 415lbs and bench press of 305lbs.  However, I limit it to 1 or 2 sets - the strength is available, but I don't feel I have the blood sugar levels to do heavy work volumes without passing-out.\n",
    "\n",
    "So, current health levels are definitely maintained, and I feel performance improvements in other areas.  My focus is laser-sharp and my mental calculations and ability to analyse are very high.  I noticed my breathing increased, greatly.  Both of these effects are typical symptoms of a keytonic state.  I experience interesting and varied 'states' of experience, also.  This is difficult to describe, but they feel like bursts of sensations, ranging from high-concentration to extreme relaxation.  My body feels light and responsive, and my stomach is completely flat: as if I'm not having to carry so much weight in digested food.  The big changes especially seemed to become true around the 24-hour mark.  I started to feel some slight cramping in different areas of my body, at that time.  I ingested small amounts of table salt and the cramps very quickly disappeared.\n",
    "\n",
    "While I believe intermittent-fasting helped me to slowly lean-in to the physiological state I'm experiencing, I am incredibly surprised by the psychological relationship with food.  __I am not at all hungry.__  Instead, taking a bite of food seems much more like a regular habit that I _should_ be performing - like brushing my teeth.  Not eating kinda feels wrong, despite full commitment to the program.  Also, I know that eating food, especially my favorite high-quality fatty foods, like almonds, avocados, eggs, and salmon; is incredibly satisfying.  It is difficult to explain, but not eating feels less satisfying, as if life has less enjoyment in it.  But, it does allow great amounts of mental concentration on other interests.  You can become fully-emmersed in your passions when eating (and going to the bathroom) will not be a disruption.  But, when you're drinking water and licking on salt cubes while the rest of the family is eating dinner, yeah, you feel like you're missing-out on sharing the experience of new flavors.\n",
    "\n",
    "I will definitely continue monthly (at least) use of the 48-hour fast.  The effects on Growth Hormone (GH) and Brain-Derived Neurotrophic Factor (BDNF) are at least as good as running a marathon, without any of the impact on the skeletal system.  I performed this fast over a weekend, and future studies will investigate fasting under more demanding, and more mundane work requirements.  Do the benefits of fasting support relaxation during work, or will frustrations without the ability for 'mindless eating' cause greater discomfort?  Either way, doing a multi-day fast is a great experience, highly supportive of overall health and performance, and a great beginning to increasing mind-body control.  "
   ]
  }
 ],
 "metadata": {
  "kernelspec": {
   "display_name": "Python 3",
   "language": "python",
   "name": "python3"
  },
  "language_info": {
   "codemirror_mode": {
    "name": "ipython",
    "version": 3
   },
   "file_extension": ".py",
   "mimetype": "text/x-python",
   "name": "python",
   "nbconvert_exporter": "python",
   "pygments_lexer": "ipython3",
   "version": "3.6.9"
  },
  "toc": {
   "base_numbering": 1,
   "nav_menu": {},
   "number_sections": false,
   "sideBar": false,
   "skip_h1_title": false,
   "title_cell": "Table of Contents",
   "title_sidebar": "Contents",
   "toc_cell": false,
   "toc_position": {},
   "toc_section_display": false,
   "toc_window_display": false
  }
 },
 "nbformat": 4,
 "nbformat_minor": 2
}
