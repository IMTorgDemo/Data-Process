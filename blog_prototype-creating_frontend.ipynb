{
 "cells": [
  {
   "cell_type": "markdown",
   "metadata": {},
   "source": [
    "# Prototyping an Interactive Frontend with Vue\n",
    "Date: 2019-08-29  \n",
    "Author: Jason Beach  \n",
    "Categories: Frontend  \n",
    "Tags: vue, JavaScript  \n",
    "<!--eofm-->"
   ]
  },
  {
   "cell_type": "markdown",
   "metadata": {},
   "source": [
    "Assumes you are comfortable with HTML, CSS, JS.  This will cover creating SPAs with webpack and Vue basics.  This will not cover mobile or advanced Vue.  Improvements will make frontend development a more imperative programming approach as compared to the typical declarative methods found in more basic work."
   ]
  },
  {
   "cell_type": "markdown",
   "metadata": {},
   "source": [
    "## Introduction\n",
    "\n",
    "Once you understand the basics of browser languages, such as HTML, CSS, and JS, then you quickly desire to have more interactive elements.  The obvious evolution is jQuery, as you can directly perform imperative programming to manipulate elements.  That was a powerful web technology for about a decade, and it is still used today.  But, frontend programmers quickly learned that jQuery code became extremely crowded, untestable, and overly-complex.  There were limits to what could be practically built with jQuery.  The upper limit was Single Page Applications (SPAs).\n",
    "\n",
    "SPAs allow for much more dynamic and intuitive interfaces for users.  However, to build and maintain them, more powerful technologies needed to perform scoped logic on modular components.  The first two frameworks to support this were Angular and React.  Vue came slightly later and was able to capitalize on some of the mistakes learned from the first two.  This allowed for a powerful system and fast workflow.\n",
    "\n",
    "This post will explain how to prototype dynamic user interfaces as well as provide an understanding of more advanced technologies used by frontend programmers. "
   ]
  },
  {
   "cell_type": "markdown",
   "metadata": {},
   "source": [
    "## Webpack and Modular Programming\n",
    "\n",
    "* [ref: basic concepts](https://webpack.js.org/concepts/)\n",
    "* [ref: modules](https://webpack.js.org/concepts/modules/)\n",
    "* [ref: getting started](https://webpack.js.org/guides/getting-started/)\n",
    "\n",
    "Webpack builds a dependency graph and uses the graph to generate an optimized bundle where scripts will be executed in the correct order.  In a more opinionated manner, it bundles javascript applications that are built using a modular design.  Modular programming is used so that verification, debugging, and testing can be performed as an independent and isolated unit.  They can then be added to other modules using a simple ES2015 `import` or CommonJs `require` statement.  \n",
    "\n",
    "There are a variety of different flavors of JS used for frontend development, including [Coffescript](https://coffeescript.org/#overview), [TypeScript](https://www.typescriptlang.org/) and [ESNext (Babel)](https://babeljs.io/).  These can be compiled into JS, then used in browsers.  Webpack supports modules written in a variety of languages and preprocessors, via loaders. Loaders describe to webpack how to process non-JavaScript modules and include these dependencies into your bundles. \n",
    "\n",
    "There are a few concepts to know about how webpack works\n",
    "* Entry - module to begin dependency graph (default: `./src/index.js`)\n",
    "* Output - where to emit bundles (default: `./dist/main.js`)\n",
    "* Loaders - default only JavaScript and JSON files. allow webpack to process, convert other files into valid modules\n",
    "* Plugins - wider range of tasks like bundle optimization, asset management and injection of environment variables\n",
    "* Mode - set to: development, production or none; enables built-in optimizations (default: production)\n",
    "* Browser Compatibility - supports all browsers that are ES5-compliant "
   ]
  },
  {
   "cell_type": "markdown",
   "metadata": {},
   "source": [
    "### Simple usage \n",
    "\n",
    "i. Install"
   ]
  },
  {
   "cell_type": "code",
   "execution_count": null,
   "metadata": {},
   "outputs": [],
   "source": [
    "#start project\n",
    "npm init\n",
    "#for development only\n",
    "npm install webpack --save-dev\n",
    "#instead of using `file:///` url\n",
    "npm install webpack-dev-server --save-dev"
   ]
  },
  {
   "cell_type": "markdown",
   "metadata": {},
   "source": [
    "ii. Configure\n",
    "\n",
    "Used like: `webpack <entry_point> <output_file>`"
   ]
  },
  {
   "cell_type": "code",
   "execution_count": null,
   "metadata": {},
   "outputs": [],
   "source": [
    "//package.json\n",
    "\"scripts\":{\n",
    "\t\"build\": \"webpack-dev-server --entry ./src/js/app.js --output-filename ./dist/bundle.js\"\n",
    "\t\"build-prod\": \"webpack /src/js/app.js dist/bundle.js -p\"\t#minify for production\n",
    "}"
   ]
  },
  {
   "cell_type": "markdown",
   "metadata": {},
   "source": [
    "iii. Implement\n",
    "\n",
    "What dependencies are determined by these only es6 syntax."
   ]
  },
  {
   "cell_type": "code",
   "execution_count": null,
   "metadata": {},
   "outputs": [],
   "source": [
    "//app.js\n",
    "import {name} from './domloader.js'"
   ]
  },
  {
   "cell_type": "code",
   "execution_count": null,
   "metadata": {},
   "outputs": [],
   "source": [
    "//domloader.js\n",
    "export var name = <function>"
   ]
  },
  {
   "cell_type": "code",
   "execution_count": null,
   "metadata": {},
   "outputs": [],
   "source": [
    "//index.html\n",
    "<script src=\"dist/bundle.js\">"
   ]
  },
  {
   "cell_type": "markdown",
   "metadata": {},
   "source": [
    "### Simple configuration\n",
    "\n",
    "* [ref: configuration](https://webpack.js.org/configuration/)"
   ]
  },
  {
   "cell_type": "code",
   "execution_count": null,
   "metadata": {},
   "outputs": [],
   "source": [
    "//package.json\n",
    "\"scripts\": {\n",
    "  \"build\": \"webpack --config prod.config.js\"\n",
    "}"
   ]
  },
  {
   "cell_type": "code",
   "execution_count": null,
   "metadata": {},
   "outputs": [],
   "source": [
    "//webpack.config.js\n",
    "const path = require('path');\n",
    "\n",
    "module.exports = {\n",
    "  entry: './src/index.js',\n",
    "  output: {\n",
    "    filename: 'main.js',\n",
    "    path: path.resolve(__dirname, 'dist')\n",
    "  }\n",
    "};"
   ]
  },
  {
   "cell_type": "markdown",
   "metadata": {},
   "source": [
    "### Development\n",
    "\n",
    "* [ref: plugins](https://webpack.js.org/plugins/)\n",
    "\n",
    "Plugins can support your workflow.  These are three useful plugins:\n",
    "* HtmlWebpackPlugin - generates new names in output\n",
    "* clean-webpack-plugin - clean /dist folder before each output\n",
    "\n",
    "Automatically update webpage"
   ]
  },
  {
   "cell_type": "code",
   "execution_count": null,
   "metadata": {},
   "outputs": [],
   "source": [
    "#bash\n",
    "npm start"
   ]
  },
  {
   "cell_type": "code",
   "execution_count": null,
   "metadata": {},
   "outputs": [],
   "source": [
    "//package.json\n",
    "  {\n",
    "    \"name\": \"development\",\n",
    "    \"version\": \"1.0.0\",\n",
    "    \"description\": \"\",\n",
    "    \"private\": true,\n",
    "    \"scripts\": {\n",
    "      \"test\": \"echo \\\"Error: no test specified\\\" && exit 1\",\n",
    "      \"watch\": \"webpack --watch\",\n",
    "      \"start\": \"webpack-dev-server --open\",\n",
    "      \"build\": \"webpack\"\n",
    "    },\n",
    "    \"keywords\": [],\n",
    "    \"author\": \"\",\n",
    "    \"license\": \"ISC\",\n",
    "    \"devDependencies\": {"
   ]
  },
  {
   "cell_type": "code",
   "execution_count": null,
   "metadata": {},
   "outputs": [],
   "source": [
    "//webpack.config.js\n",
    "  const path = require('path');\n",
    "  const HtmlWebpackPlugin = require('html-webpack-plugin');\n",
    "  const { CleanWebpackPlugin } = require('clean-webpack-plugin');\n",
    "\n",
    "  module.exports = {\n",
    "    mode: 'development',\n",
    "    entry: {\n",
    "      app: './src/index.js',\n",
    "      print: './src/print.js'\n",
    "    },\n",
    "    devtool: 'inline-source-map',\n",
    "    devServer: {\n",
    "      contentBase: './dist'\n",
    "    },\n",
    "    plugins: [\n",
    "      // new CleanWebpackPlugin(['dist/*']) for < v2 versions of CleanWebpackPlugin\n",
    "      new CleanWebpackPlugin(),\n",
    "      new HtmlWebpackPlugin({\n",
    "        title: 'Development'\n",
    "      })\n",
    "    ],\n",
    "    output: {\n",
    "      filename: '[name].bundle.js',\n",
    "      path: path.resolve(__dirname, 'dist')\n",
    "    }\n",
    "  };"
   ]
  },
  {
   "cell_type": "markdown",
   "metadata": {},
   "source": [
    "### Advanced Topics\n",
    "\n",
    "* [code splitting and bundle analysis](https://webpack.js.org/guides/code-splitting/)\n",
    "* [env variables](https://webpack.js.org/guides/environment-variables/)\n",
    "* [progressive web apps](https://webpack.js.org/guides/progressive-web-application/)"
   ]
  },
  {
   "cell_type": "markdown",
   "metadata": {},
   "source": [
    "## Vue Progressive WebApp Framework\n",
    "\n",
    "\n",
    "### Ecosystem of tooling\n",
    "\n",
    "\n",
    "Tooling\n",
    "* [Vue CLI](https://cli.vuejs.org/) - interactive project scaffolding with zero config rapid prototyping, a runtime dependency (@vue/cli-service) and a full graphical user interface to create and manage Vue.js projects\n",
    "  - vue-cli-service - built on top of webpack that loads other plugins\n",
    "  - @vue/cli-plugin- (for built-in plugins)\n",
    "  - vue-cli-plugin- (for community plugins)\n",
    "* [Vue (Webpack) Loader](https://medium.com/@nupoor_neha/starting-with-webpack-4-and-vuejs-a-quick-start-tutorial-4a244410d55e) - allows you to author Vue components in a format called Single-File Components (SFCs)\n",
    "* [Vue (browser) dev-tools Extension](https://github.com/vuejs/vue-devtools) - for in-browser development\n",
    "\n",
    "Libraries\n",
    "* Testing: [Vue-Test-Utils](https://vue-test-utils.vuejs.org/guides/#getting-started)\n",
    "* HTTP Client: Axios - requests for consuming API\n",
    "* Router - official router support\n",
    "* State Management: Vuex - an architecture for Vue applications and allows simple management of the application state.\n",
    "* Pre-Render, Production: [NuxtJs](https://nuxtjs.org/) - opinionated for spa\n",
    "\n",
    "Component Search\n",
    "* [Bit](https://bit.dev/components?q=carousel)\n",
    "* [curated Vue](https://curated.vuejs.org/)\n",
    "* [Vue components](https://vuecomponents.com/)\n",
    "\n",
    "Dev Env\n",
    "* [Storybook](https://www.learnstorybook.com/vue/en/get-started) - build UIs like legos\n",
    "* [OverVue](https://www.overvue.io/) - prototype-based dev\n",
    "\n",
    "\n",
    "[ref: awesome Vue](https://github.com/vuejs/awesome-vue#mobile)"
   ]
  },
  {
   "cell_type": "markdown",
   "metadata": {},
   "source": [
    "### Vue CLI scaffolding\n",
    "\n",
    "* [ref: blog post](https://code.tutsplus.com/tutorials/boost-your-vuejs-workflow-with-vue-cli-3--cms-32232)\n",
    "* [ref: guide docs](https://cli.vuejs.org/guide/)\n",
    "\n",
    "Projects created by Vue CLI are pre-configured with most of the common development needs working out of the box, including Vue Loader."
   ]
  },
  {
   "cell_type": "code",
   "execution_count": null,
   "metadata": {},
   "outputs": [],
   "source": [
    "#single component\n",
    "npm install -g @vue/cli-service-global\n",
    "vue serve\n",
    "(browser)localhost:8080"
   ]
  },
  {
   "cell_type": "code",
   "execution_count": null,
   "metadata": {},
   "outputs": [],
   "source": [
    "#project\n",
    "npm install -g @vue/cli\n",
    "vue --version\n",
    "vue create my-project\n",
    "npm run serve\n",
    "(browser)localhost:8080\n",
    "#or with ui for dependency management\n",
    "vue ui\n",
    "#or directly access the binary\n",
    "npx vue-cli-service serve"
   ]
  },
  {
   "cell_type": "markdown",
   "metadata": {},
   "source": [
    "Project Structure\n",
    "\n",
    "* node_modules folder contains the packages that the app and development tools require.\n",
    "* public folder contains static project assets, which will not be included in the bundling process.\n",
    "* src folder contains the Vue.js application with all resources.\n",
    "  - assets folder is used for static resources required by the app, which will be included in the bundling process.\n",
    "  - components folder is used for the application's components.\n",
    "  - views folder is used for components which will be displayed using the URL routing feature.\n",
    "    - App.vue is the root component.\n",
    "  - main.js is the JavaScript file that creates the Vue instance object.\n",
    "  - router.js is used to configure the Vue router.\n",
    "  - store.js is used to configure the data store created with Vuex.\n",
    "* .gitignore contains a list of files and folders that are excluded from the Git version control.\n",
    "* babel.config.js contains the configuration settings for the Babel compiler.\n",
    "* package.json contains a list of the packages required for Vue.js development as well as the commands used for the development tools.\n",
    "* package-lock.json contains a complete list of the packages required by the project and their dependencies.\n",
    "* README.md contains general information about the project."
   ]
  },
  {
   "cell_type": "code",
   "execution_count": null,
   "metadata": {},
   "outputs": [],
   "source": [
    "#install plugin\n",
    "vue add bootstrap-vue"
   ]
  },
  {
   "cell_type": "markdown",
   "metadata": {},
   "source": [
    "`src/plugins/<new_plugin>`"
   ]
  },
  {
   "cell_type": "code",
   "execution_count": null,
   "metadata": {},
   "outputs": [],
   "source": [
    "#build production bundle of: app, library, or component\n",
    "npm run build --modern --target app"
   ]
  },
  {
   "cell_type": "markdown",
   "metadata": {},
   "source": [
    "`dist` folder created and two version with the browser-appropriate version selected automatically"
   ]
  },
  {
   "cell_type": "code",
   "execution_count": null,
   "metadata": {},
   "outputs": [],
   "source": [
    "#analyze the build\n",
    "npm run inspect"
   ]
  },
  {
   "cell_type": "code",
   "execution_count": null,
   "metadata": {},
   "outputs": [],
   "source": [
    "TODO: Guide > Development"
   ]
  },
  {
   "cell_type": "markdown",
   "metadata": {},
   "source": [
    "## Vue Basics\n",
    "\n",
    "\n",
    "Vue.js allows you to simply bind your data models to the representation layer. It also allows you to easily reuse components throughout the application.\n",
    "\n",
    "\n",
    "### Useful Frontend Terms\n",
    "\n",
    "* Declarative Views: These are the Views that provide a way of direct data binding between plain JavaScript data models and the representation.\n",
    "* Directives: These are special HTML elements attributes prefixed with `v-` in Vue.js that allow data binding in different ways.  They apply special reactive behavior to the rendered DOM.\n",
    "* Reactivity: In the Web, this is actually the immediate propagation of any changes of data to the View layer."
   ]
  },
  {
   "cell_type": "markdown",
   "metadata": {},
   "source": [
    "### Vue Foundations"
   ]
  },
  {
   "cell_type": "code",
   "execution_count": null,
   "metadata": {},
   "outputs": [],
   "source": [
    "#html\n",
    "<div id=\"app\">\n",
    "  {{ message }}\n",
    "</div>"
   ]
  },
  {
   "cell_type": "code",
   "execution_count": null,
   "metadata": {},
   "outputs": [],
   "source": [
    "//js\n",
    "var app = new Vue({\n",
    "  el: '#app',\n",
    "  data: {\n",
    "    message: 'Hello Vue!'\n",
    "  }\n",
    "})"
   ]
  },
  {
   "cell_type": "markdown",
   "metadata": {},
   "source": [
    "### Directives\n",
    "\n",
    "vue directive syntax: \n",
    "`<div v-directive:argument` of `[dynamic argument].<event_modifier or key_modifier>=\" js expression | filter \">`"
   ]
  },
  {
   "cell_type": "code",
   "execution_count": null,
   "metadata": {},
   "outputs": [],
   "source": [
    "* data output\n",
    " - {{}}\n",
    "\t<div>{{ interpolated_data }}</div>\n",
    " - v-bind <div v-bind:id=\"dynamicId\"></div> or :id\n",
    "    :[attribName / null]=\"var\"\n",
    "    :id=\"elemId\"\n",
    "    :disabled=\"null\"\n",
    "    :href=\"url\"\n",
    " - v-once\n",
    " - v-html\n",
    "\t<p>Using v-html directive: <span v-html=\"rawHtml\"></span></p>\n",
    "* data input\n",
    " - v-model\n",
    "* conditionals\n",
    " - v-if\n",
    " - v-else-if\n",
    " - v-else\n",
    " - v-show\n",
    " - v-for=\"(item, index) in items\"> \n",
    "   v-for=\"(value, name, index) in object\">\n",
    "   v-for=\"todo in todos\" v-if=\"!todo.isComplete\">\n",
    "* event listener\n",
    " - v-on or '@click'\n",
    "    :[eventName] \n",
    "    :keyup.enter\n",
    "    :keyup.page-down\n",
    "    :click\n",
    "    :click=\"say('what')\">\n",
    "    :click.once \n",
    "    :hover\n",
    "    :focus\n",
    "    :submit\n",
    "* style\n",
    " - v-bind:class=\"{ active: isActive }\"></div>\n",
    " - v-bind:style=\"[base, { color: activeColor, fontSize: fontSize + 'px' }]\"></div>"
   ]
  },
  {
   "cell_type": "markdown",
   "metadata": {},
   "source": [
    "### Data\n",
    "\n",
    "instance properties (prefixed by `$`) are different from user-defined (var data={} ) data"
   ]
  },
  {
   "cell_type": "markdown",
   "metadata": {},
   "source": [
    "### Implementation designs\n",
    "\n",
    "All js in HTML"
   ]
  },
  {
   "cell_type": "code",
   "execution_count": null,
   "metadata": {},
   "outputs": [],
   "source": [
    "#.html\n",
    "<script>\n",
    "var vm = new Vue({\n",
    "  el: '#example',\n",
    "  data: {},\n",
    "  props: ['item'],\n",
    "  methods: {\n",
    "    name: function(){\n",
    "      return this.msg\n",
    "    },\n",
    "  computed:\n",
    "  <hooks:created, mounted, updated, destroyed>: function(){} \n",
    "}) \n",
    "</script>"
   ]
  },
  {
   "cell_type": "markdown",
   "metadata": {},
   "source": [
    "Split js into a globally-registered component"
   ]
  },
  {
   "cell_type": "code",
   "execution_count": null,
   "metadata": {},
   "outputs": [],
   "source": [
    "<div id='timer'>\n",
    "<Timer title='my timer'></Timer>\n",
    "</div>\n",
    "\n",
    "Vue.component('Timer',{\n",
    "\ttemplate: '<div>...</div>',\n",
    "\tprops: ['title'],\t\t\t//data passed to and maintained by instance\n",
    "\tdata: function () {\t\t\t//data must be a function to maintain indep data copy\n",
    "\t\treturn {count: 0}\n",
    "\t},\n",
    "\tmethods:\n",
    "})\n",
    "\n",
    "new Vue({\n",
    "  el: \"#timer\",\n",
    "});"
   ]
  },
  {
   "cell_type": "markdown",
   "metadata": {},
   "source": [
    "Use local registration of sub-component"
   ]
  },
  {
   "cell_type": "code",
   "execution_count": null,
   "metadata": {},
   "outputs": [],
   "source": [
    "#ComponentA.vue"
   ]
  },
  {
   "cell_type": "code",
   "execution_count": null,
   "metadata": {},
   "outputs": [],
   "source": [
    "#ComponentB.vue\n",
    "import ComponentA from './ComponentA'\n",
    "export default {\n",
    "  components: {\n",
    "    ComponentA\n",
    "  }\n",
    "}"
   ]
  },
  {
   "cell_type": "code",
   "execution_count": null,
   "metadata": {},
   "outputs": [],
   "source": [
    "#main.js\n",
    "import Vue from 'vue'\n",
    "import upperFirst from 'lodash/upperFirst'"
   ]
  },
  {
   "cell_type": "code",
   "execution_count": null,
   "metadata": {},
   "outputs": [],
   "source": [
    "#index.html"
   ]
  },
  {
   "cell_type": "code",
   "execution_count": null,
   "metadata": {},
   "outputs": [],
   "source": [
    "Single-file component separation-of-layers"
   ]
  },
  {
   "cell_type": "code",
   "execution_count": null,
   "metadata": {},
   "outputs": [],
   "source": [
    "#comp.vue\n",
    "<template>\n",
    "  <div>This will be pre-compiled</div>\n",
    "</template>\n",
    "<script src=\"./my-component.js\"></script>\n",
    "<style src=\"./my-component.css\"></style>"
   ]
  },
  {
   "cell_type": "markdown",
   "metadata": {},
   "source": [
    "Typical single-file component\n",
    "\n",
    "* [todo app](https://codesandbox.io/s/o29j95wx9)\n",
    "\n",
    "This is advanced javascript and must understand\n",
    "\n",
    "* [npm intro ](https://www.sitepoint.com/beginners-guide-node-package-manager/)\n",
    "* [npm, up to uninstalling global packages](https://docs.npmjs.com/uninstalling-packages-and-dependencies)\n",
    "* [learn es2015](https://babeljs.io/docs/en/learn)"
   ]
  },
  {
   "cell_type": "code",
   "execution_count": null,
   "metadata": {},
   "outputs": [],
   "source": [
    "#index.html\n",
    "<div id=\"app\"></div>"
   ]
  },
  {
   "cell_type": "code",
   "execution_count": null,
   "metadata": {},
   "outputs": [],
   "source": [
    "//index.js\n",
    "import Vue from 'vue'\n",
    "import App from './App'\n",
    "\n",
    "Vue.config.productionTip = false\n",
    "\n",
    "/* eslint-disable no-new */\n",
    "new Vue({\n",
    "  el: '#app',\n",
    "  template: '<App/>',\n",
    "  components: { App }\n",
    "})"
   ]
  },
  {
   "cell_type": "code",
   "execution_count": null,
   "metadata": {},
   "outputs": [],
   "source": [
    "//App.vue\n",
    "<template>\n",
    "\t<div id=\"app\">\n",
    "\t\t<h1>My Todo App!</h1>\n",
    "\t\t<TodoList/>\n",
    "\t</div>\n",
    "</template\n",
    "<script>\n",
    "import TodoList from './components/TodoList.vue'\n",
    "\n",
    "export default {\n",
    "\tcomponents: {\n",
    "\t\tTodoList\n",
    "\t}\n",
    "}\n",
    "</script>\n",
    "<style></style>"
   ]
  },
  {
   "cell_type": "markdown",
   "metadata": {},
   "source": [
    "Unit-testing individual components\n",
    "\n",
    "[ref: unit tests](https://vuejs.org/v2/guide/unit-testing.html)"
   ]
  },
  {
   "cell_type": "code",
   "execution_count": null,
   "metadata": {},
   "outputs": [],
   "source": [
    "//Component.vue\n",
    "<template>\n",
    "  <p>{{ msg }}</p>\n",
    "</template>\n",
    "\n",
    "<script>\n",
    "  export default {\n",
    "    props: ['msg']\n",
    "  }\n",
    "</script>"
   ]
  },
  {
   "cell_type": "code",
   "execution_count": null,
   "metadata": {},
   "outputs": [],
   "source": [
    "//test.js\n",
    "import Vue from 'vue'\n",
    "import MyComponent from './MyComponent.vue'\n",
    "\n",
    "// helper function that mounts and returns the rendered text\n",
    "function getRenderedText (Component, propsData) {\n",
    "  const Constructor = Vue.extend(Component)\n",
    "  const vm = new Constructor({ propsData: propsData }).$mount()\n",
    "  return vm.$el.textContent\n",
    "}\n",
    "\n",
    "describe('MyComponent', () => {\n",
    "  it('renders correctly with different props', () => {\n",
    "    expect(getRenderedText(MyComponent, {\n",
    "      msg: 'Hello'\n",
    "    })).toBe('Hello')\n",
    "\n",
    "    expect(getRenderedText(MyComponent, {\n",
    "      msg: 'Bye'\n",
    "    })).toBe('Bye')\n",
    "  })\n",
    "})"
   ]
  },
  {
   "cell_type": "markdown",
   "metadata": {},
   "source": [
    "TODO\n",
    "\n",
    "* [emit](https://www.telerik.com/blogs/how-to-emit-data-in-vue-beyond-the-vuejs-documentation)\n",
    "* [client-side storage](https://vuejs.org/v2/cookbook/client-side-storage.html)\n",
    "* [storage with indexdDb](https://developer.mozilla.org/en-US/docs/Web/API/IndexedDB_API)\n",
    "* [debugging in vscode](https://vuejs.org/v2/cookbook/debugging-in-vscode.html)"
   ]
  }
 ],
 "metadata": {
  "kernelspec": {
   "display_name": "Python 3",
   "language": "python",
   "name": "python3"
  },
  "language_info": {
   "codemirror_mode": {
    "name": "ipython",
    "version": 3
   },
   "file_extension": ".py",
   "mimetype": "text/x-python",
   "name": "python",
   "nbconvert_exporter": "python",
   "pygments_lexer": "ipython3",
   "version": "3.7.3"
  }
 },
 "nbformat": 4,
 "nbformat_minor": 2
}
