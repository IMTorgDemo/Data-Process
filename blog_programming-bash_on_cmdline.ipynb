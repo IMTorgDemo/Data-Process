{
 "cells": [
  {
   "cell_type": "markdown",
   "metadata": {},
   "source": [
    "# Bash on the Commandline\n",
    "Date: 2020-01-14\n",
    "Author: Jason Beach\n",
    "Categories: DevOps, SystemAdmin\n",
    "Tags: linux, bash, tag3\n",
    "<!--eofm-->"
   ]
  },
  {
   "cell_type": "markdown",
   "metadata": {},
   "source": [
    "Even the most stripped-down of linux machines will come with bash.  This comes in handy when working with minimal Docker containers, Vagrant VMs, or even really cheap customers who can't shell out money for a shell.  The following are a few fundamentals to jog your memory when you get stuck programming without the typical goodie-bags of an IDE or scipting language."
   ]
  },
  {
   "cell_type": "markdown",
   "metadata": {},
   "source": [
    "## Environment\n",
    "\n",
    "### System\n",
    "\n",
    "* `/etc` - Stores config files for the system.\n",
    "* `/var/log` - Stores log files for various system programs. (You may not have permission to look at everything in this directory. Don't let that stop you exploring though. A few error messages never hurt anyone.)\n",
    "* `/bin` - The location of several commonly used programs (some of which we will learn about in the rest of this tutorial.\n",
    "* `/usr/bin` - Another location for programs on the system."
   ]
  },
  {
   "cell_type": "markdown",
   "metadata": {},
   "source": [
    "Use `file <path_to_file>` to determine what type of file it is (directory, file, empty)\n",
    "`ls --all` long hand command line options begin with two dashes\n",
    "`ls -a` short hand options begin with a single dash\n",
    "`ls -alh` when we use a single dash we may invoke several options by placing all the letters representing those options together after the dash\n",
    "`man -k <search term>` do a keyword search for all manual pages containing the given search term."
   ]
  },
  {
   "cell_type": "markdown",
   "metadata": {},
   "source": [
    "### Wildcards\n",
    "\n",
    "* `*` - represents zero or more characters\n",
    "* `?` - represents a single character\n",
    "* `[]` - represents a range of characters"
   ]
  },
  {
   "cell_type": "markdown",
   "metadata": {},
   "source": [
    "### Permissions\n",
    "\n",
    "```\n",
    "drwx-w-r-x\n",
    " UsrGrpOthr\n",
    " 111010101\n",
    " 7  2  5\n",
    " ```\n",
    " \n",
    "* `chmod g+x frog.png` - group grant execute\n",
    "* `chmod 755 frog.png` - using octal values, change to: `-rwxr-xr-x`, a common permission status"
   ]
  },
  {
   "cell_type": "markdown",
   "metadata": {},
   "source": [
    "## Syntax\n",
    "\n",
    "### Basic commands\n",
    "\n",
    "```\n",
    "let <arithmetic expression>\n",
    "  let a=5+4\n",
    "  let \"a = 5 + 4\"\n",
    "  a=$( expr 5 + 4 )\n",
    "  a=$(( 4 + 5 ))\n",
    "${#variable}          #length of a variable\n",
    "type -a <function>    #show us all Path possibilities - DON'T USE which, IT IS A RELIC\n",
    "time <cmd>            #time the command \n",
    "```"
   ]
  },
  {
   "cell_type": "markdown",
   "metadata": {},
   "source": [
    "### Filters (functions)\n",
    "\n",
    "* `sort` - order rows\n",
    "* `nl` - number lines\n",
    "* `cut` - get columns from tabular-formatted file\n",
    "* `sed` - search and replace, (stream editor)\n",
    "* `uniq(ue)` - deduplicate adjacent lines\n",
    "* `diff` - get differing lines of files\n",
    "* `comm` - get common lines of files\n",
    "* `cat` `(tac)` - print data (reverse order)"
   ]
  },
  {
   "cell_type": "markdown",
   "metadata": {},
   "source": [
    "### Sequence of events\n",
    "\n",
    "1. execute program - kernel loads its pre-written instructions (its code) \n",
    "2. begin process\n",
    "3. setup \"inherit\" bash's file descriptors\n",
    "  - FD2 error output\n",
    "  - FD1 output\n",
    "4. look for redirection\n",
    "\n",
    "The beginning of the script should contain `#!/usr/bin/env bash`\n",
    "\n",
    "* `#!` - hashbang tells the kernel what interpreter it needs\n",
    "* `/usr/bin/env` - absolute pathname to any program that understands the language in your file and can take a single argument.  `/usr/bin/env` is a program that can find and start other programs.  \n",
    "* `bash` - the one argument tells the program to find the bash program\n",
    "* the script is run with a path: `./script`, so that bash is not looking for a command.  this is a security precaution, too, in-case virus was placed in file called `ls`. "
   ]
  },
  {
   "cell_type": "markdown",
   "metadata": {},
   "source": [
    "## Script\n",
    "\n",
    "### Variables\n",
    "\n",
    "* `x=10` - for a value\n",
    "* lines=`cat $1 | wc -l` - for an output value\n",
    "* `export Var` - every time a new process is created (to run another script or such) then make a copy of the variable and hand it over to the new process.\n",
    "\n",
    "### Arguments within script\n",
    "\n",
    "* `$0` - The name of the script.\n",
    "* `$1 - $9` - Any command line arguments given to the script. $1 is the first argument, $2 the second and so on.\n",
    "* `$#` - How many command line arguments were given to the script.\n",
    "* `$*` - All of the command line arguments.\n",
    "\n",
    "### Special variables within script\n",
    "\n",
    "* `env` - all variables\n",
    "* `$?` - exit status of the most recently run process.\n",
    "* `$$` - process ID of the current script.\n",
    "* `$USER` - username of the user running the script.\n",
    "* `$HOSTNAME` - hostname of the machine the script is running on.\n",
    "* `$SECONDS` - number of seconds since the script was started.\n",
    "* `$RANDOM` - different random number each time is it called.\n",
    "* `$LINENO` - current line number in the Bash script.\n",
    "\n",
    "### Conditionals\n",
    "\n",
    "IfThenElse\n",
    "\n",
    "Compact method\n",
    "\n",
    "```\n",
    "true; echo $?; #or `echo $status` within fish\n",
    "\n",
    "```\n",
    "\n",
    "Block method\n",
    "\n",
    "```\n",
    "if [<test>]\n",
    "then \n",
    "\t<stmt>\n",
    "\tif [<test>]\n",
    "\tthen exit\n",
    "\tfi\n",
    "else \n",
    "\t<stmt>\n",
    "fi\n",
    "```\n"
   ]
  },
  {
   "cell_type": "markdown",
   "metadata": {},
   "source": [
    "## Bash commands\n",
    "\n",
    "### Simple command \n",
    "\n",
    "syntax: `[ var=value ... ] cmd_name [ arg ... ] [ redirection ... ]`\n",
    "    \n",
    "* `[]` optional\n",
    "* `...` repeated\n",
    "* `[ var=value ... ]` variable assignments apply to the environment of this one command only\n",
    "* `cmd_name` found in order of function, builtin, external program\n",
    "* `arg` arguments\n",
    "* `redirect` of input / output\n",
    "\n",
    "### Syntax sugar\n",
    "\n",
    "* pipe `|`  with `[time [-p]] [ ! ] command [ [|||&] command2 ... ]` - connect file descriptors to streams; standard output (FD 1) => standard input (FD 0).  standard error (FD 2) not included unless `|&` \n",
    "* list `command control-operator [ command2 control-operator ... ]` - separates commands, typically, just the newline\n",
    "   - `;` start a new line, run commands in sequence\n",
    "   - `||` run next command only if the command before it failed\n",
    "* compound command `{...}` in `if list [ ;|<newline> ] then list [ ;|<newline> ] fi { list ; }`\n",
    "* parallelize (coprocess) `coproc [ name ] command [ redirection ... ]` run in background\n",
    "* function `name () compound-command [ redirection ]` no arguments in `()`"
   ]
  },
  {
   "cell_type": "markdown",
   "metadata": {},
   "source": [
    "## Simple commands\n",
    "\n",
    "### Literal\n",
    "\n",
    "literal syntax: `'File 01'` (quotes), `File\\ 01`(backslash), syntactic word-splitting `File 01`\n",
    "    \n",
    "```\n",
    "echo \"Good morning, $USER\"    #variable expansion\n",
    " #Good morning, jason.beach\n",
    "echo 'Good morning, $USER'    #prevent expansion\n",
    " #Good morning, $USER\n",
    " \n",
    "rm -vr \"/home/$username\"    #correct\n",
    "rm -vr /home/$username     #incorrect - interpreted as space, so all of home deleted\n",
    "```\n",
    "\n",
    "The golden rule on quoting is very simple:\n",
    "\n",
    "* \"If there is whitespace or a symbol in your argument, you must quote it.\n",
    "* If there isn't, quotes are usually optional, but you can still quote it to be safe.\"\n",
    "\n",
    "It is extremely rare for arguments to require no quoting, primarily inside [[ tests and around ${..+..} expansions. \n",
    "\n",
    "\n",
    "### Redirect\n",
    "                                                                             \n",
    "```\n",
    "ls -l a b >myfiles.ls 2>/dev/null     #redirect FD1 to the file \"myfiles.ls\" and FD2 to the file \"/dev/null\"\n",
    "ls -l a b >myfiles.ls 2>&1            #correct - send output and error bytes on the same stream\n",
    "ls -l a b >myfiles.ls 2>myfiles.ls    #incorrect - never send two FDs to the same output\n",
    "ls -l a b 2>&1 >myfiles.ls            #incorrect - sends FD2's output to the stream FD1 is connected to, which at the time is probably the terminal and not the file, because FD1 hasn't been redirected yet\n",
    "ls -l a b &>myfiles.ls                #correct - convenience operator for writing FD1 and FD2            \n",
    "```\n",
    "                                                                             \n",
    "The `/dev` directory is for device.  The `null` device is a special device that is always empty. Anything you write to it will be lost and nothing can be read from it. \n",
    "\n",
    "Use the `>&` operator to 'copy' file descriptors.  Syntax `2>&1` as \"Make FD 2 write(>) to where FD(&) 1 is currently writing.\"\n"
   ]
  }
 ],
 "metadata": {
  "kernelspec": {
   "display_name": "Python 3",
   "language": "python",
   "name": "python3"
  },
  "language_info": {
   "codemirror_mode": {
    "name": "ipython",
    "version": 3
   },
   "file_extension": ".py",
   "mimetype": "text/x-python",
   "name": "python",
   "nbconvert_exporter": "python",
   "pygments_lexer": "ipython3",
   "version": "3.7.3"
  }
 },
 "nbformat": 4,
 "nbformat_minor": 2
}
