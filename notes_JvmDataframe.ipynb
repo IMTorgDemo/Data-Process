{
 "cells": [
  {
   "cell_type": "markdown",
   "metadata": {},
   "source": [
    "# Implementation"
   ]
  },
  {
   "cell_type": "markdown",
   "metadata": {},
   "source": [
    "A recommendation can be viewed as a data filtering task, or _conjunctive query_, on a database with a set of selection criteria.  `σ[mpix≥10,price<300](P)` is such a conjunctive query on the database table P (which represents Vprod as columns / attributes and Cprod as records / entries), where σ represents the selection operator and `[mpix ≥ 10, price < 300]` the corresponding selection criteria.\n",
    "\n",
    "Steps to implement conjuctive query\n",
    "\n",
    "* determine user\n",
    "  + domain of needs (Vc)\n",
    "  + constraints (Cr)\n",
    "  + priority of product attributes\n",
    "* create table of products P (Cprod x Vprod)\n",
    "* naive solution\n",
    "  + remove product records that do not meet Vc, Cr: `σ[mpix≥10,price<300](P) = {p1,p2,p3,p4,p5,p6,p7}`\n",
    "  + sort based on prioritized attributes: `σ[mpix≥10,price<300](P) = {p4,p7}`\n",
    "  + solution is top table record: `σ[mpix≥10,price<300](P) = {p4}`\n",
    "* complex solution (no solution exists for naive method: `σ[mpix≥10,price<300](P) = {}`)\n",
    "  + perform naive method to step possible\n",
    "  + use case-based and utility-based methods for similarity measures and weighting\n",
    "  + ..."
   ]
  },
  {
   "cell_type": "markdown",
   "metadata": {},
   "source": [
    "_Note:_ section 'Reference: Tablesaw Dataframe' must be run before the below code"
   ]
  },
  {
   "cell_type": "code",
   "execution_count": 43,
   "metadata": {},
   "outputs": [
    {
     "data": {
      "application/vnd.jupyter.widget-view+json": {
       "model_id": "77865474-8bb2-4197-9086-7b063d6141f3",
       "version_major": 2,
       "version_minor": 0
      },
      "method": "display_data"
     },
     "metadata": {},
     "output_type": "display_data"
    }
   ],
   "source": [
    "//products.selectWhere(column(\"Header-Industry\").isEqualTo(\"Healthcare\"))\n",
    "val res_1 = products.selectWhere(column(\"Category\").isEqualTo(\"Antimalware\"))\n",
    "val res_2 = res_1.sortOn(\"-SellingPrice\")\n",
    "res_2.first(1)"
   ]
  },
  {
   "cell_type": "code",
   "execution_count": null,
   "metadata": {},
   "outputs": [],
   "source": []
  },
  {
   "cell_type": "code",
   "execution_count": null,
   "metadata": {},
   "outputs": [],
   "source": []
  },
  {
   "cell_type": "code",
   "execution_count": null,
   "metadata": {},
   "outputs": [],
   "source": []
  },
  {
   "cell_type": "markdown",
   "metadata": {},
   "source": [
    "# Reference: Tablesaw DataFrame \n",
    "\n",
    "[example notebook](http://127.0.0.1:7777/notebooks/doc/groovy/Tablesaw.ipynb)"
   ]
  },
  {
   "cell_type": "code",
   "execution_count": 1,
   "metadata": {},
   "outputs": [
    {
     "data": {
      "application/vnd.jupyter.widget-view+json": {
       "model_id": "72b8c28d-eb17-4393-a55f-441d93f93ff9",
       "version_major": 2,
       "version_minor": 0
      },
      "method": "display_data"
     },
     "metadata": {},
     "output_type": "display_data"
    },
    {
     "name": "stdout",
     "output_type": "stream",
     "text": [
      "Added jars: [commons-collections-3.2.2.jar, fastutil-8.1.1.jar, jsr305-1.3.9.jar, xchart-3.5.0.jar, opencsv-4.1.jar, filters-2.0.235.jar, commons-text-1.1.jar, gson-2.8.2.jar, smile-core-1.4.0.jar, tablesaw-plot-0.11.4.jar, guava-23.0.jar, commons-math3-3.6.1.jar, error_prone_annotations-2.0.18.jar, animal-sniffer-annotations-1.14.jar, tablesaw-beakerx-0.11.4.jar, VectorGraphics2D-0.11.jar, swing-worker-1.1.jar, smile-math-1.4.0.jar, tablesaw-core-0.11.4.jar, snappy-0.4.jar, tablesaw-smile-0.11.4.jar, commons-beanutils-1.9.3.jar, swingx-1.6.1.jar, commons-logging-1.2.jar, smile-graph-1.4.0.jar, jsoup-1.11.2.jar, RoaringBitmap-0.6.51.jar, smile-plot-1.4.0.jar, slf4j-api-1.7.21.jar, commons-lang3-3.6.jar, smile-data-1.4.0.jar, j2objc-annotations-1.1.jar]\n"
     ]
    }
   ],
   "source": [
    "%%classpath add mvn\n",
    "tech.tablesaw tablesaw-plot 0.11.4\n",
    "tech.tablesaw tablesaw-smile 0.11.4\n",
    "tech.tablesaw tablesaw-beakerx 0.11.4"
   ]
  },
  {
   "cell_type": "code",
   "execution_count": 2,
   "metadata": {},
   "outputs": [
    {
     "data": {
      "text/plain": [
       "null"
      ]
     },
     "execution_count": 2,
     "metadata": {},
     "output_type": "execute_result"
    }
   ],
   "source": [
    "%import tech.tablesaw.aggregate.*\n",
    "%import tech.tablesaw.api.*\n",
    "%import tech.tablesaw.api.ml.clustering.*\n",
    "%import tech.tablesaw.api.ml.regression.*\n",
    "%import tech.tablesaw.columns.*\n",
    "\n",
    "// display Tablesaw tables with BeakerX table display widget\n",
    "tech.tablesaw.beakerx.TablesawDisplayer.register()"
   ]
  },
  {
   "cell_type": "code",
   "execution_count": 8,
   "metadata": {},
   "outputs": [
    {
     "data": {
      "application/vnd.jupyter.widget-view+json": {
       "model_id": "a940c5e1-4e37-4f29-a323-25bd1cb4b78e",
       "version_major": 2,
       "version_minor": 0
      },
      "method": "display_data"
     },
     "metadata": {},
     "output_type": "display_data"
    }
   ],
   "source": [
    "val products = Table.read().csv(\"./dataCombine.csv\")\n",
    "products.first(5)"
   ]
  },
  {
   "cell_type": "code",
   "execution_count": 7,
   "metadata": {},
   "outputs": [
    {
     "data": {
      "text/plain": [
       "6597 rows X 23 cols"
      ]
     },
     "execution_count": 7,
     "metadata": {},
     "output_type": "execute_result"
    }
   ],
   "source": [
    "products.structure()\n",
    "products.columnNames()\n",
    "products.shape()"
   ]
  },
  {
   "cell_type": "code",
   "execution_count": 11,
   "metadata": {},
   "outputs": [
    {
     "data": {
      "application/vnd.jupyter.widget-view+json": {
       "model_id": "f074dfb5-72c5-488c-8113-822641d5596c",
       "version_major": 2,
       "version_minor": 0
      },
      "method": "display_data"
     },
     "metadata": {},
     "output_type": "display_data"
    }
   ],
   "source": [
    "import tech.tablesaw.api.QueryHelper.column\n",
    "products.structure().selectWhere(column(\"Column Type\").isEqualTo(\"FLOAT\"))"
   ]
  },
  {
   "cell_type": "code",
   "execution_count": null,
   "metadata": {},
   "outputs": [],
   "source": [
    "/*Mapping operations\n",
    "def month = tornadoes.dateColumn(\"Type\").month()\n",
    "tornadoes.addColumn(month);\n",
    "tornadoes.columnNames()\n",
    "*/"
   ]
  },
  {
   "cell_type": "code",
   "execution_count": 16,
   "metadata": {},
   "outputs": [
    {
     "data": {
      "application/vnd.jupyter.widget-view+json": {
       "model_id": "c49d84b4-669a-4771-9e86-a9e109bf7f98",
       "version_major": 2,
       "version_minor": 0
      },
      "method": "display_data"
     },
     "metadata": {},
     "output_type": "display_data"
    }
   ],
   "source": [
    "//Sorting by column\n",
    "products.sortOn(\"-SellingPrice\").first(5)\n",
    "products.column(\"SellingPrice\").summary()"
   ]
  },
  {
   "cell_type": "code",
   "execution_count": 18,
   "metadata": {},
   "outputs": [
    {
     "data": {
      "application/vnd.jupyter.widget-view+json": {
       "model_id": "1dad7c19-1e23-4517-9488-eaf73eaa0214",
       "version_major": 2,
       "version_minor": 0
      },
      "method": "display_data"
     },
     "metadata": {},
     "output_type": "display_data"
    }
   ],
   "source": [
    "//Performing totals and sub-totals\n",
    "def priceByScale = products.median(\"SellingPrice\").by(\"Type\")\n",
    "priceByScale.setName(\"Median price by Type\")\n",
    "priceByScale"
   ]
  },
  {
   "cell_type": "code",
   "execution_count": 27,
   "metadata": {},
   "outputs": [
    {
     "data": {
      "application/vnd.jupyter.widget-view+json": {
       "model_id": "9e70aa4f-d756-4d18-9e27-e87536dd6e77",
       "version_major": 2,
       "version_minor": 0
      },
      "method": "display_data"
     },
     "metadata": {},
     "output_type": "display_data"
    }
   ],
   "source": [
    "//Cross Tabs\n",
    "CrossTab.xCount(products, products.column(\"Category\"), products.column(\"Type\"))"
   ]
  },
  {
   "cell_type": "code",
   "execution_count": null,
   "metadata": {},
   "outputs": [],
   "source": []
  },
  {
   "cell_type": "code",
   "execution_count": null,
   "metadata": {},
   "outputs": [],
   "source": []
  },
  {
   "cell_type": "markdown",
   "metadata": {},
   "source": [
    "# Reference: Literature\n",
    "\n",
    "### Alternative JVM Dataframes\n",
    "\n",
    "* [tablesaw](https://github.com/jtablesaw/tablesaw)\n",
    "* [guava-table](http://www.baeldung.com/guava-table)\n",
    "* [morpheus core](https://github.com/zavtech/morpheus-core)\n",
    "* [paleo](https://github.com/netzwerg/paleo)\n",
    "* [joinery](https://github.com/cardillo/joinery)"
   ]
  },
  {
   "cell_type": "code",
   "execution_count": null,
   "metadata": {},
   "outputs": [],
   "source": []
  }
 ],
 "metadata": {
  "kernelspec": {
   "display_name": "Scala",
   "language": "scala",
   "name": "scala"
  },
  "language_info": {
   "codemirror_mode": "text/x-scala",
   "file_extension": ".scala",
   "mimetype": "",
   "name": "Scala",
   "nbconverter_exporter": "",
   "version": "2.11.12"
  }
 },
 "nbformat": 4,
 "nbformat_minor": 2
}
