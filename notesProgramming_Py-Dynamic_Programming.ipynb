{
 "cells": [
  {
   "cell_type": "markdown",
   "metadata": {},
   "source": [
    "Applied from [Dynamic Programming post](http://blog.refdash.com/dynamic-programming-tutorial-example/)"
   ]
  },
  {
   "cell_type": "code",
   "execution_count": 20,
   "metadata": {},
   "outputs": [
    {
     "name": "stdout",
     "output_type": "stream",
     "text": [
      "5\n"
     ]
    }
   ],
   "source": [
    "import random\n",
    "\n",
    "print(random.randint(0, 5))"
   ]
  },
  {
   "cell_type": "code",
   "execution_count": 6,
   "metadata": {},
   "outputs": [],
   "source": [
    "def canStopRecursive(runway, initSpeed, startIndex = 0):\n",
    "  # negative base cases need to go first\n",
    "  if (startIndex >= len(runway) or startIndex < 0 or\n",
    "      initSpeed < 0 or not runway[startIndex]):\n",
    "    return False\n",
    "  # base case for a stopping condition\n",
    "  if initSpeed == 0:\n",
    "    return True\n",
    "  # Try all possible paths\n",
    "  for adjustedSpeed in [initSpeed, initSpeed - 1, initSpeed + 1]:\n",
    "    # Recurrence relation: If you can stop from any of the subproblems,\n",
    "    # you can also stop from the main problem\n",
    "    if canStopRecursive(\n",
    "        runway, adjustedSpeed, startIndex + adjustedSpeed):\n",
    "      return True\n",
    "  return False"
   ]
  },
  {
   "cell_type": "code",
   "execution_count": 7,
   "metadata": {},
   "outputs": [],
   "source": [
    "def canStopIterative(runway, initSpeed, startIndex = 0):\n",
    "  # maximum speed cannot be larger than length of the runway.\n",
    "  maxSpeed = len(runway)\n",
    "  if (startIndex >= len(runway) or startIndex < 0 or initSpeed < 0 or initSpeed > maxSpeed or not runway[startIndex]):\n",
    "    return False\n",
    "  # {position i : set of speeds for which we can stop from position i}\n",
    "  memo = {}\n",
    "  # Base cases, we can stop when a position is not a spike and speed is zero.\n",
    "  for position in range(len(runway)):\n",
    "    if runway[position]:\n",
    "      memo[position] = set([0])\n",
    "  # Outer loop to go over positions from the last one to the first one\n",
    "  for position in reversed(range(len(runway))):\n",
    "    # Skip positions which contain spikes\n",
    "    if not runway[position]:\n",
    "      continue\n",
    "    # For each position, go over all possible speeds\n",
    "    for speed in range(1, maxSpeed + 1):\n",
    "      # Recurrence relation is the same as in the recursive version.\n",
    "      for adjustedSpeed in [speed, speed - 1, speed + 1]:\n",
    "        if (position + adjustedSpeed in memo and\n",
    "            adjustedSpeed in memo[position + adjustedSpeed]):\n",
    "          memo[position].add(speed)\n",
    "          break\n",
    "  return initSpeed in memo[startIndex]"
   ]
  },
  {
   "cell_type": "code",
   "execution_count": 8,
   "metadata": {},
   "outputs": [],
   "source": [
    "def canStopRecursiveWithMemo(runway, initSpeed, startIndex = 0, memo = None):\n",
    "  # Only done the first time to initialize the memo.\n",
    "  if memo == None:\n",
    "    memo = {}\n",
    "  # First check if the result exists in memo\n",
    "  if startIndex in memo and initSpeed in memo[startIndex]:\n",
    "    return memo[startIndex][initSpeed]\n",
    "  # negative base cases need to go first\n",
    "  if (startIndex >= len(runway) or startIndex < 0 or\n",
    "      initSpeed < 0 or not runway[startIndex]):\n",
    "    insertIntoMemo(memo, startIndex, initSpeed, False)\n",
    "    return False\n",
    "  # base case for a stopping condition\n",
    "  if initSpeed == 0:\n",
    "    insertIntoMemo(memo, startIndex, initSpeed, True)\n",
    "    return True\n",
    "  # Try all possible paths\n",
    "  for adjustedSpeed in [initSpeed, initSpeed - 1, initSpeed + 1]:\n",
    "    # Recurrence relation: If you can stop from any of the subproblems,\n",
    "    # you can also stop from the main problem\n",
    "    if canStopRecursiveWithMemo(\n",
    "        runway, adjustedSpeed, startIndex + adjustedSpeed, memo):\n",
    "      insertIntoMemo(memo, startIndex, initSpeed, True)\n",
    "      return True\n",
    "  insertIntoMemo(memo, startIndex, initSpeed, False)\n",
    "  return False"
   ]
  },
  {
   "cell_type": "markdown",
   "metadata": {},
   "source": [
    "Peter Norvig comment\n",
    "```\n",
    "@lru_cache(None)\n",
    "def canstop(runway, speed, pos=0):\n",
    "    \"Can stop if on the runway and on a non-spike, and either are stopped \n",
    "     or can stop after a move.\"\n",
    "    return (0 <= pos < len(runway) and runway[pos] and\n",
    "            (speed == 0 or any(canstop(runway, s, pos + s) \n",
    "                               for s in (speed - 1, speed, speed + 1))))\n",
    "```"
   ]
  },
  {
   "cell_type": "code",
   "execution_count": 59,
   "metadata": {},
   "outputs": [],
   "source": [
    "i_length = 1000\n",
    "pct_spike = .35\n",
    "spike_cnt = int(pct_spike * i_length)\n",
    "indx_spike = [random.randint(1,i_length) for i in range(1,spike_cnt)]\n",
    "\n",
    "runway = [True] * i_length\n",
    "for (index, replacement) in zip(indx_spike, [False]*spike_cnt):\n",
    "    runway[index] = replacement\n",
    "\n",
    "initSpeed = 30"
   ]
  },
  {
   "cell_type": "code",
   "execution_count": 66,
   "metadata": {},
   "outputs": [],
   "source": [
    "f1 = canStopIterative(runway, initSpeed, startIndex = 0)\n",
    "f2 = canStopRecursive(runway, initSpeed, startIndex = 0)\n",
    "#f3 = canStopRecursiveWithMemo(runway, initSpeed, startIndex = 0, memo = None)"
   ]
  },
  {
   "cell_type": "code",
   "execution_count": 69,
   "metadata": {},
   "outputs": [],
   "source": [
    "# is this the correct way???\n",
    "\n",
    "result = []\n",
    "for i in range(0,len(runway)):\n",
    "    tmp = canStopIterative(runway, initSpeed, startIndex = i)\n",
    "    result.append(tmp)"
   ]
  },
  {
   "cell_type": "code",
   "execution_count": null,
   "metadata": {},
   "outputs": [],
   "source": []
  },
  {
   "cell_type": "code",
   "execution_count": null,
   "metadata": {},
   "outputs": [],
   "source": []
  }
 ],
 "metadata": {
  "kernelspec": {
   "display_name": "Python 3",
   "language": "python",
   "name": "python3"
  },
  "language_info": {
   "codemirror_mode": {
    "name": "ipython",
    "version": 3
   },
   "file_extension": ".py",
   "mimetype": "text/x-python",
   "name": "python",
   "nbconvert_exporter": "python",
   "pygments_lexer": "ipython3",
   "version": "3.6.4"
  }
 },
 "nbformat": 4,
 "nbformat_minor": 2
}
