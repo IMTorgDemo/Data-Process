{
 "cells": [
  {
   "cell_type": "markdown",
   "metadata": {},
   "source": [
    "Applied from [Dynamic Programming post](http://blog.refdash.com/dynamic-programming-tutorial-example/)"
   ]
  },
  {
   "cell_type": "code",
   "execution_count": 1,
   "metadata": {},
   "outputs": [],
   "source": [
    "def canStopRecursive(runway, initSpeed, startIndex = 0):\n",
    "  # negative base cases need to go first\n",
    "  if (startIndex >= len(runway) or startIndex < 0 or initSpeed < 0 or not runway[startIndex]):\n",
    "    return False\n",
    "  # base case for a stopping condition\n",
    "  if initSpeed == 0:\n",
    "    return True\n",
    "  # Try all possible paths\n",
    "  for adjustedSpeed in [initSpeed, initSpeed - 1, initSpeed + 1]:\n",
    "    # Recurrence relation: If you can stop from any of the subproblems,\n",
    "    # you can also stop from the main problem\n",
    "    if canStopRecursive(runway, adjustedSpeed, startIndex + adjustedSpeed):\n",
    "      return True\n",
    "  return False"
   ]
  },
  {
   "cell_type": "code",
   "execution_count": 2,
   "metadata": {},
   "outputs": [],
   "source": [
    "def canStopIterative(runway, initSpeed, startIndex = 0):\n",
    "  # maximum speed cannot be larger than length of the runway.\n",
    "  maxSpeed = len(runway)\n",
    "  if (startIndex >= len(runway) or startIndex < 0 or initSpeed < 0 or initSpeed > maxSpeed or not runway[startIndex]):\n",
    "    return False\n",
    "  # {position i : set of speeds for which we can stop from position i}\n",
    "  memo = {}\n",
    "  # Base cases, we can stop when a position is not a spike and speed is zero.\n",
    "  for position in range(len(runway)):\n",
    "    if runway[position]:\n",
    "      memo[position] = set([0])\n",
    "  # Outer loop to go over positions from the last one to the first one\n",
    "  for position in reversed(range(len(runway))):\n",
    "    # Skip positions which contain spikes\n",
    "    if not runway[position]:\n",
    "      continue\n",
    "    # For each position, go over all possible speeds\n",
    "    for speed in range(1, maxSpeed + 1):\n",
    "      # Recurrence relation is the same as in the recursive version.\n",
    "      for adjustedSpeed in [speed, speed - 1, speed + 1]:\n",
    "        if (position + adjustedSpeed in memo and\n",
    "            adjustedSpeed in memo[position + adjustedSpeed]):\n",
    "          memo[position].add(speed)\n",
    "          break\n",
    "  return initSpeed in memo[startIndex]"
   ]
  },
  {
   "cell_type": "code",
   "execution_count": 3,
   "metadata": {},
   "outputs": [],
   "source": [
    "def insertIntoMemo(memo, startIndex, initSpeed, value):\n",
    "    if startIndex not in memo:\n",
    "        memo[startIndex] = {}\n",
    "    memo[startIndex][initSpeed] = value\n",
    "    \n",
    "\n",
    "def canStopRecursiveWithMemo(runway, initSpeed, startIndex = 0, memo = None):\n",
    "  # Only done the first time to initialize the memo.\n",
    "  if memo == None:\n",
    "    memo = {}\n",
    "  # First check if the result exists in memo\n",
    "  if startIndex in memo and initSpeed in memo[startIndex]:\n",
    "    return memo[startIndex][initSpeed]\n",
    "  # negative base cases need to go first\n",
    "  if (startIndex >= len(runway) or startIndex < 0 or initSpeed < 0 or not runway[startIndex]):\n",
    "    insertIntoMemo(memo, startIndex, initSpeed, False)\n",
    "    return False\n",
    "  # base case for a stopping condition\n",
    "  if initSpeed == 0:\n",
    "    insertIntoMemo(memo, startIndex, initSpeed, True)\n",
    "    return True\n",
    "  # Try all possible paths\n",
    "  for adjustedSpeed in [initSpeed, initSpeed - 1, initSpeed + 1]:\n",
    "    # Recurrence relation: If you can stop from any of the subproblems,\n",
    "    # you can also stop from the main problem\n",
    "    if canStopRecursiveWithMemo(runway, adjustedSpeed, startIndex + adjustedSpeed, memo):\n",
    "      insertIntoMemo(memo, startIndex, initSpeed, True)\n",
    "      return True\n",
    "  insertIntoMemo(memo, startIndex, initSpeed, False)\n",
    "  return False"
   ]
  },
  {
   "cell_type": "markdown",
   "metadata": {},
   "source": [
    "Peter Norvig comment\n",
    "```\n",
    "@lru_cache(None)\n",
    "def canstop(runway, speed, pos=0):\n",
    "    \"Can stop if on the runway and on a non-spike, and either are stopped \n",
    "     or can stop after a move.\"\n",
    "    return (0 <= pos < len(runway) and runway[pos] and\n",
    "            (speed == 0 or any(canstop(runway, s, pos + s) \n",
    "                               for s in (speed - 1, speed, speed + 1))))\n",
    "```"
   ]
  },
  {
   "cell_type": "markdown",
   "metadata": {},
   "source": [
    "__Test__"
   ]
  },
  {
   "cell_type": "code",
   "execution_count": 7,
   "metadata": {},
   "outputs": [
    {
     "name": "stdout",
     "output_type": "stream",
     "text": [
      "5\n"
     ]
    }
   ],
   "source": [
    "import random\n",
    "\n",
    "print(random.randint(0, 5))"
   ]
  },
  {
   "cell_type": "code",
   "execution_count": 8,
   "metadata": {},
   "outputs": [],
   "source": [
    "def fSetupRunway(i_length, pct_spike):\n",
    "    spike_cnt = int(pct_spike * i_length)\n",
    "    indx_spike = [random.randint(1,i_length) for i in range(1,spike_cnt)]\n",
    "    runway = [True] * i_length\n",
    "    for (index, replacement) in zip(indx_spike, [False]*spike_cnt):\n",
    "        runway[index] = replacement\n",
    "    return runway"
   ]
  },
  {
   "cell_type": "code",
   "execution_count": 9,
   "metadata": {},
   "outputs": [],
   "source": [
    "i_length = 10\n",
    "pct_spike = .2\n",
    "initSpeed = 4\n",
    "runway = fSetupRunway(i_length, pct_spike)"
   ]
  },
  {
   "cell_type": "code",
   "execution_count": 10,
   "metadata": {},
   "outputs": [],
   "source": [
    "resultRecursive = []\n",
    "for i in range(0,len(runway)):\n",
    "    tmp = canStopRecursive(runway, initSpeed, startIndex = i)\n",
    "    resultRecursive.append(tmp)"
   ]
  },
  {
   "cell_type": "code",
   "execution_count": 11,
   "metadata": {},
   "outputs": [],
   "source": [
    "resultIterative = []\n",
    "for i in range(0,len(runway)):\n",
    "    tmp = canStopIterative(runway, initSpeed, startIndex = i)\n",
    "    resultIterative.append(tmp)"
   ]
  },
  {
   "cell_type": "code",
   "execution_count": 12,
   "metadata": {},
   "outputs": [],
   "source": [
    "resultIterativeWithMemo = []\n",
    "for i in range(0,len(runway)):\n",
    "    tmp = canStopRecursiveWithMemo(runway, initSpeed, startIndex = i, memo = None)\n",
    "    resultIterativeWithMemo.append(tmp)"
   ]
  },
  {
   "cell_type": "code",
   "execution_count": 13,
   "metadata": {},
   "outputs": [
    {
     "data": {
      "text/plain": [
       "True"
      ]
     },
     "execution_count": 13,
     "metadata": {},
     "output_type": "execute_result"
    }
   ],
   "source": [
    "resultIterative == resultIterativeWithMemo"
   ]
  },
  {
   "cell_type": "code",
   "execution_count": 14,
   "metadata": {},
   "outputs": [
    {
     "data": {
      "text/plain": [
       "True"
      ]
     },
     "execution_count": 14,
     "metadata": {},
     "output_type": "execute_result"
    }
   ],
   "source": [
    "resultRecursive == resultIterative"
   ]
  },
  {
   "cell_type": "code",
   "execution_count": 15,
   "metadata": {},
   "outputs": [
    {
     "data": {
      "text/plain": [
       "True"
      ]
     },
     "execution_count": 15,
     "metadata": {},
     "output_type": "execute_result"
    }
   ],
   "source": [
    "resultIterativeWithMemo == resultIterative"
   ]
  },
  {
   "cell_type": "code",
   "execution_count": null,
   "metadata": {},
   "outputs": [],
   "source": []
  },
  {
   "cell_type": "code",
   "execution_count": 16,
   "metadata": {},
   "outputs": [],
   "source": [
    "i_length = 100\n",
    "pct_spike = .2\n",
    "initSpeed = 4\n",
    "runway = fSetupRunway(i_length, pct_spike)"
   ]
  },
  {
   "cell_type": "code",
   "execution_count": 17,
   "metadata": {},
   "outputs": [
    {
     "name": "stdout",
     "output_type": "stream",
     "text": [
      "511 µs ± 27.8 µs per loop (mean ± std. dev. of 7 runs, 1000 loops each)\n"
     ]
    }
   ],
   "source": [
    "resultRecursive = []\n",
    "%timeit for i in range(0,len(runway)): tmp = canStopRecursive(runway, initSpeed, startIndex = i); resultRecursive.append(tmp);"
   ]
  },
  {
   "cell_type": "code",
   "execution_count": 18,
   "metadata": {},
   "outputs": [
    {
     "name": "stdout",
     "output_type": "stream",
     "text": [
      "199 ms ± 25.1 ms per loop (mean ± std. dev. of 7 runs, 1 loop each)\n"
     ]
    }
   ],
   "source": [
    "resultIterative = []\n",
    "%timeit for i in range(0,len(runway)): tmp = canStopIterative(runway, initSpeed, startIndex = i); resultIterative.append(tmp)"
   ]
  },
  {
   "cell_type": "code",
   "execution_count": 19,
   "metadata": {},
   "outputs": [
    {
     "name": "stdout",
     "output_type": "stream",
     "text": [
      "970 µs ± 18.5 µs per loop (mean ± std. dev. of 7 runs, 1000 loops each)\n"
     ]
    }
   ],
   "source": [
    "resultIterativeWithMemo = []\n",
    "%timeit for i in range(0,len(runway)): tmp = canStopRecursiveWithMemo(runway, initSpeed, startIndex = i, memo = None); resultIterativeWithMemo.append(tmp)"
   ]
  },
  {
   "cell_type": "code",
   "execution_count": null,
   "metadata": {},
   "outputs": [],
   "source": []
  },
  {
   "cell_type": "code",
   "execution_count": null,
   "metadata": {},
   "outputs": [],
   "source": []
  },
  {
   "cell_type": "code",
   "execution_count": 20,
   "metadata": {},
   "outputs": [],
   "source": [
    "i_length = 500\n",
    "pct_spike = .2\n",
    "initSpeed = 25\n",
    "runway = fSetupRunway(i_length, pct_spike)"
   ]
  },
  {
   "cell_type": "code",
   "execution_count": 21,
   "metadata": {},
   "outputs": [
    {
     "name": "stdout",
     "output_type": "stream",
     "text": [
      "36.2 s ± 2.87 s per loop (mean ± std. dev. of 7 runs, 1 loop each)\n"
     ]
    }
   ],
   "source": [
    "resultRecursive = []\n",
    "%timeit for i in range(0,len(runway)): tmp = canStopRecursive(runway, initSpeed, startIndex = i); resultRecursive.append(tmp);"
   ]
  },
  {
   "cell_type": "code",
   "execution_count": 22,
   "metadata": {},
   "outputs": [
    {
     "name": "stdout",
     "output_type": "stream",
     "text": [
      "33.8 s ± 2.98 s per loop (mean ± std. dev. of 7 runs, 1 loop each)\n"
     ]
    }
   ],
   "source": [
    "resultIterative = []\n",
    "%timeit for i in range(0,len(runway)): tmp = canStopIterative(runway, initSpeed, startIndex = i); resultIterative.append(tmp)"
   ]
  },
  {
   "cell_type": "code",
   "execution_count": 23,
   "metadata": {},
   "outputs": [
    {
     "name": "stdout",
     "output_type": "stream",
     "text": [
      "565 ms ± 24.3 ms per loop (mean ± std. dev. of 7 runs, 1 loop each)\n"
     ]
    }
   ],
   "source": [
    "resultIterativeWithMemo = []\n",
    "%timeit for i in range(0,len(runway)): tmp = canStopRecursiveWithMemo(runway, initSpeed, startIndex = i, memo = None); resultIterativeWithMemo.append(tmp)"
   ]
  },
  {
   "cell_type": "code",
   "execution_count": null,
   "metadata": {},
   "outputs": [],
   "source": []
  }
 ],
 "metadata": {
  "kernelspec": {
   "display_name": "Python 3",
   "language": "python",
   "name": "python3"
  },
  "language_info": {
   "codemirror_mode": {
    "name": "ipython",
    "version": 3
   },
   "file_extension": ".py",
   "mimetype": "text/x-python",
   "name": "python",
   "nbconvert_exporter": "python",
   "pygments_lexer": "ipython3",
   "version": "3.6.4"
  }
 },
 "nbformat": 4,
 "nbformat_minor": 2
}
