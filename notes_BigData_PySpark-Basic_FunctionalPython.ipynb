{
 "cells": [
  {
   "cell_type": "markdown",
   "metadata": {
    "deletable": true,
    "editable": true
   },
   "source": [
    "# Python Functional Programming"
   ]
  },
  {
   "cell_type": "markdown",
   "metadata": {
    "deletable": true,
    "editable": true
   },
   "source": [
    "### Set-Up"
   ]
  },
  {
   "cell_type": "code",
   "execution_count": 1,
   "metadata": {},
   "outputs": [],
   "source": [
    "from pyspark import SparkConf, SparkContext\n",
    "conf = (SparkConf()\n",
    "            .setMaster(\"local[*]\")\n",
    "            .setAppName(\"My app\")\n",
    "            .set(\"spark.executor.memory\",\"1g\"))\n",
    "sc = SparkContext(conf = conf)"
   ]
  },
  {
   "cell_type": "code",
   "execution_count": 2,
   "metadata": {
    "collapsed": true,
    "deletable": true,
    "editable": true
   },
   "outputs": [],
   "source": [
    "# New RDD, not so common\n",
    "pairs = sc.wholeTextFiles(\"file:///usr/local/spark/licenses/\")"
   ]
  },
  {
   "cell_type": "code",
   "execution_count": 3,
   "metadata": {
    "collapsed": false,
    "deletable": true,
    "editable": true
   },
   "outputs": [],
   "source": [
    "x = pairs.take(1)"
   ]
  },
  {
   "cell_type": "code",
   "execution_count": null,
   "metadata": {},
   "outputs": [],
   "source": []
  },
  {
   "cell_type": "markdown",
   "metadata": {
    "deletable": true,
    "editable": true
   },
   "source": [
    "### Data Structures"
   ]
  },
  {
   "cell_type": "markdown",
   "metadata": {
    "deletable": true,
    "editable": true
   },
   "source": [
    "__Strings__"
   ]
  },
  {
   "cell_type": "code",
   "execution_count": 95,
   "metadata": {
    "collapsed": true,
    "deletable": true,
    "editable": true
   },
   "outputs": [],
   "source": [
    "a = 'as you like it'"
   ]
  },
  {
   "cell_type": "code",
   "execution_count": 96,
   "metadata": {
    "collapsed": false,
    "deletable": true,
    "editable": true
   },
   "outputs": [
    {
     "data": {
      "text/plain": [
       "'As You Like It'"
      ]
     },
     "execution_count": 96,
     "metadata": {},
     "output_type": "execute_result"
    }
   ],
   "source": [
    "a.capitalize()\n",
    "a.title()"
   ]
  },
  {
   "cell_type": "code",
   "execution_count": 97,
   "metadata": {
    "collapsed": false,
    "deletable": true,
    "editable": true
   },
   "outputs": [
    {
     "name": "stdout",
     "output_type": "stream",
     "text": [
      "P\ti\n",
      "ca\\Osso\n",
      "C:\\myscript.py\n"
     ]
    }
   ],
   "source": [
    "print(\"P\\ti\\nca\\Osso\")\n",
    "print(r\"C:\\myscript.py\")"
   ]
  },
  {
   "cell_type": "code",
   "execution_count": 98,
   "metadata": {
    "collapsed": false,
    "deletable": true,
    "editable": true
   },
   "outputs": [
    {
     "name": "stdout",
     "output_type": "stream",
     "text": [
      "as you l\n",
      "ay ki\n"
     ]
    }
   ],
   "source": [
    "print(a[:8])\n",
    "print(a[0::3])"
   ]
  },
  {
   "cell_type": "markdown",
   "metadata": {
    "deletable": true,
    "editable": true
   },
   "source": [
    "<br>\n",
    "\n",
    "__Lists__\n",
    "\n",
    "[ref](http://www.bogotobogo.com/python/python_lists.php)"
   ]
  },
  {
   "cell_type": "code",
   "execution_count": 99,
   "metadata": {
    "collapsed": false,
    "deletable": true,
    "editable": true
   },
   "outputs": [
    {
     "data": {
      "text/plain": [
       "['a', 's', ' ', 'y', 'o', 'u', ' ', 'l', 'i', 'k', 'e', ' ', 'i', 't']"
      ]
     },
     "execution_count": 99,
     "metadata": {},
     "output_type": "execute_result"
    }
   ],
   "source": [
    "b = list(a)\n",
    "b"
   ]
  },
  {
   "cell_type": "code",
   "execution_count": 100,
   "metadata": {
    "collapsed": false,
    "deletable": true,
    "editable": true
   },
   "outputs": [
    {
     "name": "stdout",
     "output_type": "stream",
     "text": [
      "t\n",
      "['a', 's', ' ', 'y', 'o', 'u', ' ', 'l', 'i', 'k', 'e', ' ', 'i', 's']\n"
     ]
    }
   ],
   "source": [
    "print(b.pop())\n",
    "b.extend('s')\n",
    "print(b)"
   ]
  },
  {
   "cell_type": "code",
   "execution_count": 101,
   "metadata": {
    "collapsed": false,
    "deletable": true,
    "editable": true
   },
   "outputs": [
    {
     "name": "stdout",
     "output_type": "stream",
     "text": [
      "['a', 's', ' ', 'y', 'o', 'u', ' ', 'l', 'i', 'k', 'e', ' ', 'i', 's', 'es']\n"
     ]
    }
   ],
   "source": [
    "b.append('es')\n",
    "print(b)"
   ]
  },
  {
   "cell_type": "code",
   "execution_count": 102,
   "metadata": {
    "collapsed": false,
    "deletable": true,
    "editable": true
   },
   "outputs": [
    {
     "name": "stdout",
     "output_type": "stream",
     "text": [
      "['SK', 'a', 's', ' ', 'y', 'o', 'u', ' ', 'l', 'i', 'k', 'e', ' ', 'i', 's', 'es']\n"
     ]
    }
   ],
   "source": [
    "b.insert(0,'SK')\n",
    "print(b)"
   ]
  },
  {
   "cell_type": "code",
   "execution_count": 103,
   "metadata": {
    "collapsed": false,
    "deletable": true,
    "editable": true
   },
   "outputs": [
    {
     "name": "stdout",
     "output_type": "stream",
     "text": [
      "['SK', 'a', 's', ' ', 'y', 'o', 'u', ' ', 'l', 'i', 'k', 'e', ' ', 'i', 's']\n"
     ]
    }
   ],
   "source": [
    "b[(len(b)-1)]\n",
    "b.remove('es')\n",
    "print(b)"
   ]
  },
  {
   "cell_type": "code",
   "execution_count": 104,
   "metadata": {
    "collapsed": false,
    "deletable": true,
    "editable": true
   },
   "outputs": [
    {
     "name": "stdout",
     "output_type": "stream",
     "text": [
      "[' ', ' ', ' ', 'SK', 'a', 'e', 'i', 'i', 'k', 'l', 'o', 's', 's', 'u', 'y']\n",
      "None\n",
      "['y', 'u', 's', 's', 'o', 'l', 'k', 'i', 'i', 'e', 'a', 'SK', ' ', ' ', ' ']\n"
     ]
    }
   ],
   "source": [
    "b.sort()\n",
    "print(b)\n",
    "print( b.reverse() )\n",
    "print(b)"
   ]
  },
  {
   "cell_type": "markdown",
   "metadata": {},
   "source": [
    "__List comprehension__\n",
    "\n",
    "`[expression(i) for i in old_list if filter(i)]`"
   ]
  },
  {
   "cell_type": "code",
   "execution_count": 116,
   "metadata": {},
   "outputs": [
    {
     "data": {
      "text/plain": [
       "['S', 'S', 'E', 'A']"
      ]
     },
     "execution_count": 116,
     "metadata": {},
     "output_type": "execute_result"
    }
   ],
   "source": [
    "[i.upper() for i in b if i in ['s','a','e']]"
   ]
  },
  {
   "cell_type": "code",
   "execution_count": 133,
   "metadata": {},
   "outputs": [
    {
     "name": "stdout",
     "output_type": "stream",
     "text": [
      "[0, 1, 2, 3, 4, 5, 6, 7, 8, 9]\n",
      "[0, 1, 4, 9, 16, 25, 36, 49, 64, 81]\n"
     ]
    }
   ],
   "source": [
    "c = list(range(0,10))\n",
    "print(c)\n",
    "print( [i**2 for i in c] )"
   ]
  },
  {
   "cell_type": "markdown",
   "metadata": {},
   "source": [
    "__Lambda expressions__\n",
    "\n",
    "[ref](https://www.bogotobogo.com/python/python_functions_lambda.php)"
   ]
  },
  {
   "cell_type": "code",
   "execution_count": 251,
   "metadata": {
    "collapsed": false,
    "editable": true
   },
   "outputs": [
    {
     "data": {
      "text/plain": [
       "[('James', 'Dean', 24), ('Jimi', 'Hendrix', 27), ('George', 'Gershwin', 38)]"
      ]
     },
     "execution_count": 251,
     "metadata": {},
     "output_type": "execute_result"
    }
   ],
   "source": [
    "death = [\n",
    "    ('James', 'Dean', 24),\n",
    "    ('Jimi', 'Hendrix', 27),\n",
    "    ('George', 'Gershwin', 38),\n",
    "]\n",
    "\n",
    "sorted(death, key=lambda age: age[2])"
   ]
  },
  {
   "cell_type": "code",
   "execution_count": null,
   "metadata": {},
   "outputs": [],
   "source": []
  },
  {
   "cell_type": "code",
   "execution_count": null,
   "metadata": {},
   "outputs": [],
   "source": []
  },
  {
   "cell_type": "markdown",
   "metadata": {
    "deletable": true,
    "editable": true
   },
   "source": [
    "__Dictionaries, Tuples, Sets__"
   ]
  },
  {
   "cell_type": "code",
   "execution_count": 103,
   "metadata": {
    "collapsed": true,
    "deletable": true,
    "editable": true
   },
   "outputs": [],
   "source": [
    " M = [ [1, 2, 3],\n",
    "          [4, 5, 6],\n",
    "          [7, 8, 9] ]"
   ]
  },
  {
   "cell_type": "code",
   "execution_count": 104,
   "metadata": {
    "collapsed": false,
    "deletable": true,
    "editable": true
   },
   "outputs": [
    {
     "data": {
      "text/plain": [
       "{0: 6, 1: 15, 2: 24}"
      ]
     },
     "execution_count": 104,
     "metadata": {},
     "output_type": "execute_result"
    }
   ],
   "source": [
    "# Create a set of row sums\n",
    "{sum(A) for A in M}\n",
    "{24, 6, 15}\n",
    "# Creates key/value table of row sums\n",
    "{i : sum(M[i]) for i in range(3)}"
   ]
  },
  {
   "cell_type": "markdown",
   "metadata": {
    "deletable": true,
    "editable": true
   },
   "source": [
    "__Numpy Arrays__\n",
    "\n",
    "[ref](http://www.bogotobogo.com/python/python_numpy_array_tutorial_basic_A.php)"
   ]
  },
  {
   "cell_type": "code",
   "execution_count": 130,
   "metadata": {
    "collapsed": true,
    "deletable": true,
    "editable": true
   },
   "outputs": [
    {
     "name": "stdout",
     "output_type": "stream",
     "text": [
      "[[ 1.  2.]\n",
      " [ 3.  4.]]\n"
     ]
    }
   ],
   "source": [
    "import numpy as np\n",
    "a = np.array([[1, 2], [3, 4]], dtype=np.float64) \n",
    "print(a)"
   ]
  },
  {
   "cell_type": "code",
   "execution_count": 125,
   "metadata": {
    "collapsed": true,
    "deletable": true,
    "editable": true
   },
   "outputs": [
    {
     "data": {
      "text/plain": [
       "array([[ 2.,  4.],\n",
       "       [ 6.,  8.]])"
      ]
     },
     "execution_count": 125,
     "metadata": {},
     "output_type": "execute_result"
    }
   ],
   "source": [
    "a*2"
   ]
  },
  {
   "cell_type": "code",
   "execution_count": 126,
   "metadata": {},
   "outputs": [
    {
     "data": {
      "text/plain": [
       "array([[ 2.,  4.],\n",
       "       [ 6.,  8.]])"
      ]
     },
     "execution_count": 126,
     "metadata": {},
     "output_type": "execute_result"
    }
   ],
   "source": [
    "a+a"
   ]
  },
  {
   "cell_type": "code",
   "execution_count": 127,
   "metadata": {},
   "outputs": [
    {
     "data": {
      "text/plain": [
       "array([[  1.,   4.],\n",
       "       [  9.,  16.]])"
      ]
     },
     "execution_count": 127,
     "metadata": {},
     "output_type": "execute_result"
    }
   ],
   "source": [
    "a*a"
   ]
  },
  {
   "cell_type": "code",
   "execution_count": 132,
   "metadata": {},
   "outputs": [
    {
     "data": {
      "text/plain": [
       "array([[ 0.2492472 ,  0.31904546,  0.18686166,  0.77883412,  0.72418304],\n",
       "       [ 0.15619785,  0.64542489,  0.491113  ,  0.45878505,  0.57735399]])"
      ]
     },
     "execution_count": 132,
     "metadata": {},
     "output_type": "execute_result"
    }
   ],
   "source": [
    "np.random.random((2,5))"
   ]
  },
  {
   "cell_type": "markdown",
   "metadata": {
    "deletable": true,
    "editable": true
   },
   "source": [
    "__Numpy Matrices__\n",
    "\n",
    "[ref](http://www.bogotobogo.com/python/python_numpy_matrix_tutorial.php)"
   ]
  },
  {
   "cell_type": "code",
   "execution_count": null,
   "metadata": {
    "collapsed": true,
    "deletable": true,
    "editable": true
   },
   "outputs": [],
   "source": []
  },
  {
   "cell_type": "code",
   "execution_count": null,
   "metadata": {
    "collapsed": true,
    "deletable": true,
    "editable": true
   },
   "outputs": [],
   "source": []
  },
  {
   "cell_type": "markdown",
   "metadata": {
    "deletable": true,
    "editable": true
   },
   "source": [
    "__Numpy with Pandas__\n",
    "\n",
    "[ref](http://www.bogotobogo.com/python/python_Pandas_NumPy_Matplotlib.php)"
   ]
  },
  {
   "cell_type": "code",
   "execution_count": null,
   "metadata": {
    "collapsed": true,
    "deletable": true,
    "editable": true
   },
   "outputs": [],
   "source": []
  },
  {
   "cell_type": "code",
   "execution_count": null,
   "metadata": {
    "collapsed": true,
    "deletable": true,
    "editable": true
   },
   "outputs": [],
   "source": []
  },
  {
   "cell_type": "markdown",
   "metadata": {},
   "source": [
    "__Iterators, iterables, generators__\n",
    "* [ref-1](https://stackoverflow.com/questions/2776829/difference-between-pythons-generators-and-iterators)\n",
    "* [ref-2](https://stackoverflow.com/questions/231767/what-does-the-yield-keyword-do?rq=1)\n",
    "\n",
    "```text\n",
    "Iterators: __next__, __iter__\n",
    "iterables\n",
    "generators: __yield__\n",
    "\n",
    "```\n",
    "\n",
    "\n",
    "Iterator is a more general concept than iterable: any object whose class has a next method (`__next__` in Python 3) and an `__iter__` method that does return self.\n",
    "\n",
    "Iterables use iterators.  Everything you can use \"for... in...\" on is an iterable; lists, strings, files... .  But iterables are stored in memory.\n",
    "\n",
    "A generator is built by calling a function that has one or more yield expressions.  Generators are iterators, a kind of iterable you can only iterate over once. Generators do not store all the values in memory, they generate the values on the fly.  Syntax is just the same except you used `()` instead of `[]`"
   ]
  },
  {
   "cell_type": "markdown",
   "metadata": {
    "editable": true
   },
   "source": [
    "__Generators__"
   ]
  },
  {
   "cell_type": "code",
   "execution_count": 137,
   "metadata": {},
   "outputs": [
    {
     "name": "stdout",
     "output_type": "stream",
     "text": [
      "0\n",
      "1\n",
      "4\n"
     ]
    },
    {
     "data": {
      "text/plain": [
       "[]"
      ]
     },
     "execution_count": 137,
     "metadata": {},
     "output_type": "execute_result"
    }
   ],
   "source": [
    "gen = (x**2 for x in range(0,3))\n",
    "[print(x) for x in gen]\n",
    "[print(x) for x in gen]"
   ]
  },
  {
   "cell_type": "code",
   "execution_count": 246,
   "metadata": {
    "collapsed": false,
    "editable": true
   },
   "outputs": [
    {
     "data": {
      "text/plain": [
       "(list, generator)"
      ]
     },
     "execution_count": 246,
     "metadata": {},
     "output_type": "execute_result"
    }
   ],
   "source": [
    "#list comprehension\n",
    "the_list = [2**x for x in range(5)]\n",
    "#generator expression\n",
    "the_generator = (2**x for x in range(5))\n",
    "type(the_list), type(the_generator)"
   ]
  },
  {
   "cell_type": "code",
   "execution_count": 247,
   "metadata": {
    "collapsed": false,
    "editable": true
   },
   "outputs": [
    {
     "name": "stdout",
     "output_type": "stream",
     "text": [
      "1\n",
      "2\n"
     ]
    }
   ],
   "source": [
    "iterable = the_generator.__iter__()\n",
    "print( next(iterable) )\n",
    "print( next(iterable) )"
   ]
  },
  {
   "cell_type": "code",
   "execution_count": 249,
   "metadata": {
    "collapsed": false,
    "editable": true
   },
   "outputs": [
    {
     "data": {
      "text/plain": [
       "4"
      ]
     },
     "execution_count": 249,
     "metadata": {},
     "output_type": "execute_result"
    }
   ],
   "source": [
    "iterable.__next__()"
   ]
  },
  {
   "cell_type": "code",
   "execution_count": 228,
   "metadata": {
    "collapsed": false,
    "editable": true
   },
   "outputs": [
    {
     "data": {
      "text/plain": [
       "[2, 4, 8, 16]"
      ]
     },
     "execution_count": 228,
     "metadata": {},
     "output_type": "execute_result"
    }
   ],
   "source": [
    "#generator object that supports the iteration protocol\n",
    "list(the_generator)"
   ]
  },
  {
   "cell_type": "code",
   "execution_count": 220,
   "metadata": {
    "collapsed": true,
    "editable": true
   },
   "outputs": [],
   "source": [
    "def counter(n):\n",
    "    print('generator created')\n",
    "    i = 0\n",
    "    while n > i:\n",
    "        yield i\n",
    "        print(i)\n",
    "        i += 1"
   ]
  },
  {
   "cell_type": "code",
   "execution_count": 221,
   "metadata": {
    "collapsed": false,
    "editable": true
   },
   "outputs": [
    {
     "name": "stdout",
     "output_type": "stream",
     "text": [
      "generator created\n"
     ]
    },
    {
     "data": {
      "text/plain": [
       "0"
      ]
     },
     "execution_count": 221,
     "metadata": {},
     "output_type": "execute_result"
    }
   ],
   "source": [
    "c = counter(5)\n",
    "next(c)"
   ]
  },
  {
   "cell_type": "code",
   "execution_count": 229,
   "metadata": {
    "collapsed": false,
    "editable": true
   },
   "outputs": [
    {
     "name": "stdout",
     "output_type": "stream",
     "text": [
      "0\n",
      "1\n",
      "2\n",
      "3\n",
      "4\n"
     ]
    },
    {
     "data": {
      "text/plain": [
       "[1, 2, 3, 4]"
      ]
     },
     "execution_count": 229,
     "metadata": {},
     "output_type": "execute_result"
    }
   ],
   "source": [
    "list(c)"
   ]
  },
  {
   "cell_type": "code",
   "execution_count": 223,
   "metadata": {
    "collapsed": false,
    "editable": true
   },
   "outputs": [
    {
     "data": {
      "text/plain": [
       "[0, 1, 2, 3, 4]"
      ]
     },
     "execution_count": 223,
     "metadata": {},
     "output_type": "execute_result"
    }
   ],
   "source": [
    "list(range(5))"
   ]
  },
  {
   "cell_type": "code",
   "execution_count": 225,
   "metadata": {
    "collapsed": false,
    "editable": true
   },
   "outputs": [
    {
     "name": "stdout",
     "output_type": "stream",
     "text": [
      "0\n",
      "1\n",
      "2\n",
      "3\n",
      "4\n"
     ]
    }
   ],
   "source": [
    "for i in range(5):\n",
    "    print(i)"
   ]
  },
  {
   "cell_type": "code",
   "execution_count": 236,
   "metadata": {
    "collapsed": false,
    "editable": true
   },
   "outputs": [
    {
     "name": "stdout",
     "output_type": "stream",
     "text": [
      "0\n",
      "1\n"
     ]
    }
   ],
   "source": [
    "#create an iterable from a collection\n",
    "x = iter( [0,1,2,3,4,5] )\n",
    "print(next(x))\n",
    "print(next(x))"
   ]
  },
  {
   "cell_type": "markdown",
   "metadata": {
    "deletable": true,
    "editable": true
   },
   "source": [
    "### Regular Expressions\n",
    "\n",
    "[python regex](https://regexone.com/references/python)"
   ]
  },
  {
   "cell_type": "code",
   "execution_count": 28,
   "metadata": {
    "collapsed": true,
    "deletable": true,
    "editable": true
   },
   "outputs": [],
   "source": [
    "import re"
   ]
  },
  {
   "cell_type": "code",
   "execution_count": 32,
   "metadata": {
    "collapsed": false,
    "deletable": true,
    "editable": true
   },
   "outputs": [],
   "source": [
    "y = x[0][1]"
   ]
  },
  {
   "cell_type": "code",
   "execution_count": 59,
   "metadata": {
    "collapsed": false,
    "deletable": true,
    "editable": true
   },
   "outputs": [
    {
     "data": {
      "text/plain": [
       "'the mit license (mit)\\n\\ncopyright (c) <year> <copyright holders>\\n\\npermission is hereby granted, free of charge, to any person obtaining a copy of this software and associated documentation files (the \"software\"), to deal in the software without restriction, including without limitation the rights to use, copy, modify, merge, publish, distribute, sublicense, and/or sell copies of the software, and to permit persons to whom the software is furnished to do so, subject to the following conditions:\\n\\nthe above copyright notice and this permission notice shall be included in all copies or substantial portions of the software.\\n\\nthe software is provided \"as is\", without warranty of any kind, express or implied, including but not limited to the warranties of merchantability, fitness for a particular purpose and noninfringement. in no event shall the authors or copyright holders be liable for any claim, damages or other liability, whether in an action of contract, tort or otherwise, arising from, out of or in connection with the software or the use or other dealings in the software.'"
      ]
     },
     "execution_count": 59,
     "metadata": {},
     "output_type": "execute_result"
    }
   ],
   "source": [
    "y = y.lower()\n",
    "y"
   ]
  },
  {
   "cell_type": "code",
   "execution_count": 129,
   "metadata": {
    "collapsed": false,
    "deletable": true,
    "editable": true
   },
   "outputs": [
    {
     "data": {
      "text/plain": [
       "' mit license (mit)\\n\\ncopyright (c) <year> <copyright holders>\\n\\npermission is hereby granted, free of charge, to any person obtaining  copy of  software and associated documentation files ( \"software\"), to deal in  software without restriction, including without limitation  rights to use, copy, modify, merge, publish, distribute, sublicense, and/or sell copies of  software, and to permit persons to whom  software is furnished to do so, subject to  following conditions:\\n\\n above copyright notice and  permission notice shall be included in all copies or substantial portions of  software.\\n\\n software is provided \"as is\", without warranty of any kind, express or implied, including but not limited to  warranties of merchantability, fitness for  particular purpose and noninfringement. in no event shall  authors or copyright holders be liable for any claim, damages or other liability, whether in  action of contract, tort or otherwise, arising from, out of or in connection with  software or  use or other dealings in  software.'"
      ]
     },
     "execution_count": 129,
     "metadata": {},
     "output_type": "execute_result"
    }
   ],
   "source": [
    "regex = re.compile(r\"\\b(a|an|the|this)\\b\")\n",
    "y_noart = regex.sub(r\"\", y)\n",
    "y_noart"
   ]
  },
  {
   "cell_type": "code",
   "execution_count": 159,
   "metadata": {
    "collapsed": true,
    "deletable": true,
    "editable": true
   },
   "outputs": [],
   "source": [
    "regex2 = re.compile(r\"\\b(in|of|whom|with|to)\\b\")\n",
    "y_noprep = regex2.sub(r\"\", y_noart)"
   ]
  },
  {
   "cell_type": "code",
   "execution_count": 160,
   "metadata": {
    "collapsed": false,
    "deletable": true,
    "editable": true
   },
   "outputs": [],
   "source": [
    "match = re.findall('(\\w+)\\s+software', y_noprep)\n",
    "#match = re.finditer('software', y)\n",
    "#l = list(match)"
   ]
  },
  {
   "cell_type": "code",
   "execution_count": 162,
   "metadata": {
    "collapsed": false,
    "deletable": true,
    "editable": true
   },
   "outputs": [
    {
     "data": {
      "text/plain": [
       "['copy', 'deal', 'copies', 'persons', 'portions', 'connection', 'dealings']"
      ]
     },
     "execution_count": 162,
     "metadata": {},
     "output_type": "execute_result"
    }
   ],
   "source": [
    "match"
   ]
  },
  {
   "cell_type": "code",
   "execution_count": 63,
   "metadata": {
    "collapsed": false,
    "deletable": true,
    "editable": true
   },
   "outputs": [
    {
     "name": "stdout",
     "output_type": "stream",
     "text": [
      "4 7\n"
     ]
    }
   ],
   "source": [
    "match = re.search('mit', y)\n",
    "print( '%s %s' % (match.start(), match.end()) )"
   ]
  },
  {
   "cell_type": "code",
   "execution_count": 54,
   "metadata": {
    "collapsed": false,
    "deletable": true,
    "editable": true
   },
   "outputs": [
    {
     "data": {
      "text/plain": [
       "'Software'"
      ]
     },
     "execution_count": 54,
     "metadata": {},
     "output_type": "execute_result"
    }
   ],
   "source": [
    "match = re.search('(Software)', y)\n",
    "match.group(0)"
   ]
  },
  {
   "cell_type": "code",
   "execution_count": 167,
   "metadata": {
    "collapsed": false,
    "deletable": true,
    "editable": true
   },
   "outputs": [
    {
     "data": {
      "text/plain": [
       "['the', 'mit', 'license', '(mit)', '']"
      ]
     },
     "execution_count": 167,
     "metadata": {},
     "output_type": "execute_result"
    }
   ],
   "source": [
    "y1 = re.split( '\\s',y)\n",
    "y1[0:5]"
   ]
  },
  {
   "cell_type": "code",
   "execution_count": 171,
   "metadata": {
    "collapsed": false,
    "deletable": true,
    "editable": true
   },
   "outputs": [
    {
     "data": {
      "text/plain": [
       "['the', 'mit', 'license', '(mit)\\n\\ncopyright', '(c)']"
      ]
     },
     "execution_count": 171,
     "metadata": {},
     "output_type": "execute_result"
    }
   ],
   "source": [
    "z = y.split(' ')\n",
    "z[0:5]"
   ]
  },
  {
   "cell_type": "code",
   "execution_count": null,
   "metadata": {},
   "outputs": [],
   "source": []
  },
  {
   "cell_type": "code",
   "execution_count": null,
   "metadata": {},
   "outputs": [],
   "source": []
  },
  {
   "cell_type": "code",
   "execution_count": null,
   "metadata": {},
   "outputs": [],
   "source": []
  },
  {
   "cell_type": "code",
   "execution_count": null,
   "metadata": {
    "collapsed": true,
    "deletable": true,
    "editable": true
   },
   "outputs": [],
   "source": []
  },
  {
   "cell_type": "markdown",
   "metadata": {
    "deletable": true,
    "editable": true
   },
   "source": [
    "### Context Managers\n",
    "\n",
    "[ref](https://jeffknupp.com/blog/2016/03/07/python-with-context-managers/)"
   ]
  },
  {
   "cell_type": "markdown",
   "metadata": {
    "deletable": true,
    "editable": true
   },
   "source": [
    "__WRONG__: this will _leak the file descriptor_\n",
    "```\n",
    "files = []\n",
    "for x in range(100000):\n",
    "    files.append(open('foo.txt', 'w'))\n",
    "```\n",
    "Failure to close file descriptors will lead you to discover that there is (usually) a limit to the number of file descriptors a process can be assigned. \n",
    "\n",
    "The following command provides the upper limit of the number of handles that can a process can be assigned."
   ]
  },
  {
   "cell_type": "code",
   "execution_count": 21,
   "metadata": {
    "collapsed": false,
    "deletable": true,
    "editable": true
   },
   "outputs": [
    {
     "name": "stdout",
     "output_type": "stream",
     "text": [
      "524288\n"
     ]
    }
   ],
   "source": [
    "! ulimit -n"
   ]
  },
  {
   "cell_type": "code",
   "execution_count": 20,
   "metadata": {
    "collapsed": false,
    "deletable": true,
    "editable": true
   },
   "outputs": [
    {
     "name": "stdout",
     "output_type": "stream",
     "text": [
      "# Apache Spark\n",
      "\n",
      "\n",
      "\n",
      "Spark is a fast and general cluster computing system for Big Data. It provides\n",
      "\n",
      "high-level APIs in Scala, Java, Python, and R, and an optimized engine that\n",
      "\n",
      "supports general computation graphs for data analysis. It also supports a\n",
      "\n",
      "rich set of higher-level tools including Spark SQL for SQL and DataFrames,\n",
      "\n",
      "MLlib for machine learning, GraphX for graph processing,\n",
      "\n",
      "and Spark Streaming for stream processing.\n",
      "\n",
      "\n",
      "\n",
      "<http://spark.apache.org/>\n",
      "\n",
      "\n",
      "\n",
      "\n",
      "\n",
      "## Online Documentation\n",
      "\n",
      "\n",
      "\n",
      "You can find the latest Spark documentation, including a programming\n",
      "\n",
      "guide, on the [project web page](http://spark.apache.org/documentation.html).\n",
      "\n",
      "This README file only contains basic setup instructions.\n",
      "\n",
      "\n",
      "\n",
      "## Building Spark\n",
      "\n",
      "\n",
      "\n",
      "Spark is built using [Apache Maven](http://maven.apache.org/).\n",
      "\n",
      "To build Spark and its example programs, run:\n",
      "\n",
      "\n",
      "\n",
      "    build/mvn -DskipTests clean package\n",
      "\n",
      "\n",
      "\n",
      "(You do not need to do this if you downloaded a pre-built package.)\n",
      "\n",
      "\n",
      "\n",
      "You can build Spark using more than one thread by using the -T option with Maven, see [\"Parallel builds in Maven 3\"](https://cwiki.apache.org/confluence/display/MAVEN/Parallel+builds+in+Maven+3).\n",
      "\n",
      "More detailed documentation is available from the project site, at\n",
      "\n",
      "[\"Building Spark\"](http://spark.apache.org/docs/latest/building-spark.html).\n",
      "\n",
      "\n",
      "\n",
      "For general development tips, including info on developing Spark using an IDE, see \n",
      "\n",
      "[http://spark.apache.org/developer-tools.html](the Useful Developer Tools page).\n",
      "\n",
      "\n",
      "\n",
      "## Interactive Scala Shell\n",
      "\n",
      "\n",
      "\n",
      "The easiest way to start using Spark is through the Scala shell:\n",
      "\n",
      "\n",
      "\n",
      "    ./bin/spark-shell\n",
      "\n",
      "\n",
      "\n",
      "Try the following command, which should return 1000:\n",
      "\n",
      "\n",
      "\n",
      "    scala> sc.parallelize(1 to 1000).count()\n",
      "\n",
      "\n",
      "\n",
      "## Interactive Python Shell\n",
      "\n",
      "\n",
      "\n",
      "Alternatively, if you prefer Python, you can use the Python shell:\n",
      "\n",
      "\n",
      "\n",
      "    ./bin/pyspark\n",
      "\n",
      "\n",
      "\n",
      "And run the following command, which should also return 1000:\n",
      "\n",
      "\n",
      "\n",
      "    >>> sc.parallelize(range(1000)).count()\n",
      "\n",
      "\n",
      "\n",
      "## Example Programs\n",
      "\n",
      "\n",
      "\n",
      "Spark also comes with several sample programs in the `examples` directory.\n",
      "\n",
      "To run one of them, use `./bin/run-example <class> [params]`. For example:\n",
      "\n",
      "\n",
      "\n",
      "    ./bin/run-example SparkPi\n",
      "\n",
      "\n",
      "\n",
      "will run the Pi example locally.\n",
      "\n",
      "\n",
      "\n",
      "You can set the MASTER environment variable when running examples to submit\n",
      "\n",
      "examples to a cluster. This can be a mesos:// or spark:// URL,\n",
      "\n",
      "\"yarn\" to run on YARN, and \"local\" to run\n",
      "\n",
      "locally with one thread, or \"local[N]\" to run locally with N threads. You\n",
      "\n",
      "can also use an abbreviated class name if the class is in the `examples`\n",
      "\n",
      "package. For instance:\n",
      "\n",
      "\n",
      "\n",
      "    MASTER=spark://host:7077 ./bin/run-example SparkPi\n",
      "\n",
      "\n",
      "\n",
      "Many of the example programs print usage help if no params are given.\n",
      "\n",
      "\n",
      "\n",
      "## Running Tests\n",
      "\n",
      "\n",
      "\n",
      "Testing first requires [building Spark](#building-spark). Once Spark is built, tests\n",
      "\n",
      "can be run using:\n",
      "\n",
      "\n",
      "\n",
      "    ./dev/run-tests\n",
      "\n",
      "\n",
      "\n",
      "Please see the guidance on how to\n",
      "\n",
      "[run tests for a module, or individual tests](http://spark.apache.org/developer-tools.html#individual-tests).\n",
      "\n",
      "\n",
      "\n",
      "## A Note About Hadoop Versions\n",
      "\n",
      "\n",
      "\n",
      "Spark uses the Hadoop core library to talk to HDFS and other Hadoop-supported\n",
      "\n",
      "storage systems. Because the protocols have changed in different versions of\n",
      "\n",
      "Hadoop, you must build Spark against the same version that your cluster runs.\n",
      "\n",
      "\n",
      "\n",
      "Please refer to the build documentation at\n",
      "\n",
      "[\"Specifying the Hadoop Version\"](http://spark.apache.org/docs/latest/building-spark.html#specifying-the-hadoop-version)\n",
      "\n",
      "for detailed guidance on building for a particular distribution of Hadoop, including\n",
      "\n",
      "building for particular Hive and Hive Thriftserver distributions.\n",
      "\n",
      "\n",
      "\n",
      "## Configuration\n",
      "\n",
      "\n",
      "\n",
      "Please refer to the [Configuration Guide](http://spark.apache.org/docs/latest/configuration.html)\n",
      "\n",
      "in the online documentation for an overview on how to configure Spark.\n",
      "\n",
      "\n",
      "\n",
      "## Contributing\n",
      "\n",
      "\n",
      "\n",
      "Please review the [Contribution to Spark guide](http://spark.apache.org/contributing.html)\n",
      "\n",
      "for information on how to get started contributing to the project.\n",
      "\n"
     ]
    }
   ],
   "source": [
    "with open('README.md', 'r') as infile:\n",
    "    for line in infile:\n",
    "        print(line)"
   ]
  },
  {
   "cell_type": "code",
   "execution_count": null,
   "metadata": {
    "collapsed": true,
    "deletable": true,
    "editable": true
   },
   "outputs": [],
   "source": [
    "# Create a context manager by using __enter__() and __exit__() methods\n",
    "\n",
    "class File():\n",
    "\n",
    "    def __init__(self, filename, mode):\n",
    "        self.filename = filename\n",
    "        self.mode = mode\n",
    "\n",
    "    def __enter__(self):\n",
    "        self.open_file = open(self.filename, self.mode)\n",
    "        return self.open_file\n",
    "\n",
    "    def __exit__(self, *args):\n",
    "        self.open_file.close()\n",
    "\n",
    "files = []\n",
    "for _ in range(10000):\n",
    "    with File('foo.txt', 'w') as infile:\n",
    "        infile.write('foo')\n",
    "        files.append(infile)"
   ]
  },
  {
   "cell_type": "code",
   "execution_count": null,
   "metadata": {
    "collapsed": true,
    "deletable": true,
    "editable": true
   },
   "outputs": [],
   "source": [
    "#Everything before the call to yield is considered the code for __enter__(), after is __exit__()\n",
    "from contextlib import contextmanager\n",
    "\n",
    "@contextmanager\n",
    "def open_file(path, mode):\n",
    "    the_file = open(path, mode)\n",
    "    yield the_file\n",
    "    the_file.close()\n",
    "\n",
    "files = []\n",
    "\n",
    "for x in range(100000):\n",
    "    with open_file('foo.txt', 'w') as infile:\n",
    "        files.append(infile)\n",
    "\n",
    "for f in files:\n",
    "    if not f.closed:\n",
    "        print('not closed')"
   ]
  },
  {
   "cell_type": "markdown",
   "metadata": {
    "deletable": true,
    "editable": true
   },
   "source": [
    "### Decorators"
   ]
  },
  {
   "cell_type": "markdown",
   "metadata": {
    "deletable": true,
    "editable": true
   },
   "source": [
    "### Closures\n",
    "\n",
    "[ref](http://www.bogotobogo.com/python/python_closure.php)"
   ]
  },
  {
   "cell_type": "code",
   "execution_count": 32,
   "metadata": {
    "collapsed": false,
    "deletable": true,
    "editable": true
   },
   "outputs": [
    {
     "name": "stdout",
     "output_type": "stream",
     "text": [
      "type(f)=<class 'function'>\n",
      "f.__closure__=<cell at 0x7f244beccd08: int object at 0x7f2487567b40>\n",
      "type(f.__closure__[0])=<class 'cell'>\n",
      "f.__closure__[0].cell_contents=10\n",
      "type(g)=<class 'function'>\n",
      "g.__closure__=<cell at 0x7f247e4ac648: int object at 0x7f2487568680>\n",
      "type(g.__closure__[0])=<class 'cell'>\n",
      "g.__closure__[0].cell_contents=100\n"
     ]
    }
   ],
   "source": [
    "def startAt(start):\n",
    "\tdef incrementBy(inc):\n",
    "\t\treturn start + inc   #or, return lambda inc: start+inc\n",
    "\treturn incrementBy\n",
    "\n",
    "f = startAt(10)\n",
    "g = startAt(100)\n",
    "\n",
    "print ('type(f)=%s' %(type(f)))\n",
    "print ('f.__closure__=%s' %(f.__closure__))\n",
    "print ('type(f.__closure__[0])=%s' %(type(f.__closure__[0])))\n",
    "print ('f.__closure__[0].cell_contents=%s' %(f.__closure__[0].cell_contents))\n",
    "\n",
    "print ('type(g)=%s' %(type(g)))\n",
    "print ('g.__closure__=%s' %(g.__closure__))\n",
    "print ('type(g.__closure__[0])=%s' %(type(g.__closure__[0])))\n",
    "print ('g.__closure__[0].cell_contents=%s' %(g.__closure__[0].cell_contents))"
   ]
  },
  {
   "cell_type": "markdown",
   "metadata": {
    "deletable": true,
    "editable": true
   },
   "source": [
    "### Exceptions\n",
    "\n",
    "[ref](http://www.bogotobogo.com/python/python_try_except_finally_raise_syntax_error.php)"
   ]
  },
  {
   "cell_type": "code",
   "execution_count": null,
   "metadata": {
    "collapsed": true,
    "deletable": true,
    "editable": true
   },
   "outputs": [],
   "source": [
    "#ValuError supports input type mismatch\n",
    "while True:\n",
    "   try:\n",
    "      age = int(input(\"Type in your guess : Age of the Universe : \" ))\n",
    "      print(age)\n",
    "      break\n",
    "   except ValueError:\n",
    "      print(\"Please make sure you type in an integer\")\n",
    "   except:\n",
    "      break\n",
    "   finally:\n",
    "      print(\"age loop\" )"
   ]
  },
  {
   "cell_type": "code",
   "execution_count": null,
   "metadata": {
    "collapsed": true,
    "deletable": true,
    "editable": true
   },
   "outputs": [],
   "source": [
    "#Create your own Exception classes\n",
    "class Negative(Exception):\n",
    "   pass\n",
    "def oops():\n",
    "   raise Negative()\n",
    "\n",
    "try:\n",
    "   age = int(input(\"Type in your guess : Age of the Universe : \" ))\n",
    "   print(age)\n",
    "   if age <= 0:\n",
    "      print('calling ooops')\n",
    "      oops()\n",
    "except ValueError:\n",
    "   print(\"Please make sure you type in an integer\")\n",
    "except Negative:\n",
    "   print(\"Please make sure you type in a positive integer\")\n",
    "except:\n",
    "   print(\"Somethings wrong!\")\n",
    "finally:\n",
    "   print(\"finally!\" )"
   ]
  },
  {
   "cell_type": "markdown",
   "metadata": {
    "deletable": true,
    "editable": true
   },
   "source": [
    "### Map / Reduce / Filter"
   ]
  },
  {
   "cell_type": "markdown",
   "metadata": {
    "deletable": true,
    "editable": true
   },
   "source": [
    "### Style of Functional Programming\n",
    "\n",
    "* [ref](http://www.bogotobogo.com/python/python_functional_programming.php)\n",
    "* [docs](https://docs.python.org/2/howto/functional.html)\n",
    "* [ibm, part1](https://www.ibm.com/developerworks/library/l-prog/index.html)\n",
    "* [ibm, part2](https://www.ibm.com/developerworks/library/l-prog2/index.html)"
   ]
  },
  {
   "cell_type": "code",
   "execution_count": null,
   "metadata": {
    "collapsed": true,
    "deletable": true,
    "editable": true
   },
   "outputs": [],
   "source": []
  },
  {
   "cell_type": "code",
   "execution_count": null,
   "metadata": {
    "collapsed": true,
    "deletable": true,
    "editable": true
   },
   "outputs": [],
   "source": []
  },
  {
   "cell_type": "code",
   "execution_count": null,
   "metadata": {
    "collapsed": true,
    "deletable": true,
    "editable": true
   },
   "outputs": [],
   "source": []
  },
  {
   "cell_type": "code",
   "execution_count": null,
   "metadata": {
    "collapsed": true,
    "deletable": true,
    "editable": true
   },
   "outputs": [],
   "source": []
  }
 ],
 "metadata": {
  "kernelspec": {
   "display_name": "Python 3",
   "language": "python",
   "name": "python3"
  },
  "language_info": {
   "codemirror_mode": {
    "name": "ipython",
    "version": 3
   },
   "file_extension": ".py",
   "mimetype": "text/x-python",
   "name": "python",
   "nbconvert_exporter": "python",
   "pygments_lexer": "ipython3",
   "version": "3.6.3"
  }
 },
 "nbformat": 4,
 "nbformat_minor": 2
}
