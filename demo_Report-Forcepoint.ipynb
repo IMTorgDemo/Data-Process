{
 "cells": [
  {
   "cell_type": "markdown",
   "metadata": {},
   "source": [
    "Forcepoint Data Science Technical Exam\n",
    "=======================================================\n",
    "\n",
    "Compose a System Chat Prediction Script\n",
    "-------------------------------------\n",
    "\n",
    "Your scripts should have the following usage in the [Unix] command line:\n",
    "\n",
    "```\n",
    "> python predict_system.py training_set.jsonl testing_noclass.jsonl\n",
    "> python visualize_data.py training_set.jsonl\n",
    "```"
   ]
  },
  {
   "cell_type": "markdown",
   "metadata": {},
   "source": [
    "Your scripts should perform the following on the training and test sets:\n",
    "\n",
    "1. Train a machine learning model to predict *System* class messages using the provided training set (training_set.jsonl). We are only interested in predicting whether a chatline is a *System* chat or not.\n",
    "\n",
    "2. Use your trained model to predict whether the chat messages in testing_noclass.jsonl are *System* chats or not. Enrich the json records found in testing_noclass.jsonl in the following way:\n",
    "\n",
    "   * Add an additional key called \"class\" to each record based on your prediction:\n",
    "\n",
    "Predicted System Chat\n",
    "```\n",
    "      {\n",
    "         \"body\": \"hello world\",\n",
    "         ...\n",
    "         \"class\": \"System\"\n",
    "      }\n",
    "```\n",
    "Predicted Not System Chat\n",
    "```\n",
    "      {\n",
    "         \"body\": \"This is not a system chat\",\n",
    "         ...\n",
    "         \"class\": \"Not System\"\n",
    "      }\n",
    "\n",
    "```\n",
    "3. This role involves communicating technical details to business and project stakeholders regarding your model performance and efficacy. Create a script (visualize_data.py) that generates 2 PNG figures from the dataset.\n",
    "\n",
    "   * A figure that informs us of how you performed feature selection / creation.\n",
    "\n",
    "   * A figure that shows how you validated the performance of your model\n",
    "\n",
    "   These plots should be geared towards a non-technical audience. You may also include a short write-up (a couple of paragraphs)further explaining your results.\n",
    "\n",
    "Assessment\n",
    "----------\n",
    "\n",
    "Your solution will be assessed based on:\n",
    "\n",
    "* how your plots convey your thought process while building and validating the model\n",
    "* attention to detail\n",
    "* completion of the tasks\n",
    "* algorithm efficiency\n",
    "* code readability\n",
    "* adherence to common coding practices that best enable sharing, re-using, and\n",
    "  extending the code."
   ]
  },
  {
   "cell_type": "markdown",
   "metadata": {},
   "source": [
    "<br>\n",
    "<br>\n",
    "\n",
    "\n",
    "# Data"
   ]
  },
  {
   "cell_type": "markdown",
   "metadata": {},
   "source": [
    "A parsed version of the [NPS chat data](http://faculty.nps.edu/cmartell/npschat.htm) is included (.jsonl, adapted from the widely-used publicly available data set). The dataset has been divided into a training and test set.\n",
    "\n",
    "Each json line in the jsonl file represents one chat message with the follwing keys:\n",
    "\n",
    "* **body** - the text of chat message\n",
    "* **chat_action** - a boolean whether an action was performed in the chat\n",
    "* **class** - the type of chat message sent\n",
    "* **participant_count** - the total number of participants in the chat room\n",
    "* **participants** - a list of participants in the chat room\n",
    "* **sender** - the sender of the chat message\n",
    "* **tags** - a dictionary with keys being Part of Speech tags (POS) and the values as their respective words | [POS Tags](https://www.ling.upenn.edu/courses/Fall_2003/ling001/penn_treebank_pos.html)\n",
    "* **total_num_chats** - the total number of chat messages in the chat room where the chat message was sent to\n",
    "* **users_tagged** - a list of users tagged by the sender of the chat message. If there are no tagged users, the record does not have this key\n",
    "* **word_freq** - a dictionary of word counts from the chat message\n",
    "* **age** - the age group of the sender\n",
    "* **key** - a unique identifier"
   ]
  },
  {
   "cell_type": "code",
   "execution_count": null,
   "metadata": {},
   "outputs": [],
   "source": []
  },
  {
   "cell_type": "code",
   "execution_count": 4,
   "metadata": {},
   "outputs": [
    {
     "name": "stdout",
     "output_type": "stream",
     "text": [
      "testing_noclass.jsonl  training_set.jsonl\n"
     ]
    }
   ],
   "source": [
    "! ls Data/chat/Data"
   ]
  },
  {
   "cell_type": "code",
   "execution_count": 81,
   "metadata": {},
   "outputs": [
    {
     "name": "stdout",
     "output_type": "stream",
     "text": [
      "{\"body\":\"10-19-40sUser27 has a nice pic...but it won't be current if she keeps getting booted\",\"chat_action\":false,\"class\":\"Statement\",\"participant_count\":55,\"participants\":[\"10-19-40sUser9\",\"10-19-40sUser49\",\"10-19-40sUser39\",\"10-19-40sUser3\",\"10-19-40sUser11\",\"10-19-40sUser44\",\"10-19-40sUser47\",\"10-19-40sUser54\",\"10-19-40sUser30\",\"10-19-40sUser33\",\"10-19-40sUser35\",\"10-19-40sUser14\",\"10-19-40sUser34\",\"10-19-40sUser21\",\"10-19-40sUser37\",\"10-19-40sUser51\",\"10-19-40sUser46\",\"10-19-40sUser19\",\"10-19-40sUser55\",\"10-19-40sUser20\",\"10-19-40sUser31\",\"10-19-40sUser38\",\"10-19-40sUser1\",\"10-19-40sUser40\",\"10-19-40sUser27\",\"10-19-40sUser53\",\"10-19-40sUser24\",\"10-19-40sUser13\",\"10-19-40sUser6\",\"10-19-40sUser41\",\"10-19-40sUser7\",\"10-19-40sUser42\",\"10-19-40sUser4\",\"10-19-40sUser58\",\"10-19-40sUser2\",\"10-19-40sUser45\",\"10-19-40sUser25\",\"10-19-40sUser16\",\"10-19-40sUser50\",\"10-19-40sUser23\",\"10-19-40sUser8\",\"10-19-40sUser56\",\"10-19-40sUser48\",\"10-19-40sUser29\",\"10-19-40sUser57\",\"10-19-40sUser43\",\"10-19-40sUser22\",\"10-19-40sUser26\",\"10-19-40sUser12\",\"10-19-40sUser36\",\"10-19-40sUser32\",\"10-19-40sUser28\",\"10-19-40sUser0\",\"10-19-40sUser18\",\"10-19-40sUser52\"],\"sender\":\"10-19-40sUser3\",\"tags\":{\"NNP\":\"10-19-40sUser27\",\"VBZ\":\"keeps\",\"DT\":\"a\",\"JJ\":\"current\",\"NN\":\"pic\",\":\":\"...\",\"CC\":\"but\",\"PRP\":\"she\",\"MD\":\"wo\",\"RB\":\"n't\",\"VB\":\"be\",\"IN\":\"if\",\"VBG\":\"getting\",\"VBD\":\"booted\"},\"total_num_chats\":686,\"users_tagged\":[\"10-19-40sUser27\"],\"word_freq\":{\"10-19-40sUser27\":1,\"has\":1,\"a\":1,\"nice\":1,\"pic\":1,\"...\":1,\"but\":1,\"it\":1,\"wo\":1,\"n't\":1,\"be\":1,\"current\":1,\"if\":1,\"she\":1,\"keeps\":1,\"getting\":1,\"booted\":1},\"age\":\"40\",\"key\":\"a713ffe9869bd2a285c469ac03953b08\"}\n",
      "{\"body\":\"haha\",\"chat_action\":false,\"class\":\"Emotion\",\"participant_count\":50,\"participants\":[\"10-24-40sUser0\",\"10-24-40sUser40\",\"10-24-40sUser17\",\"10-24-40sUser12\",\"10-24-40sUser32\",\"10-24-40sUser23\",\"10-24-40sUser50\",\"10-24-40sUser20\",\"10-24-40sUser5\",\"10-24-40sUser3\",\"10-24-40sUser30\",\"10-24-40sUser38\",\"10-24-40sUser49\",\"10-24-40sUser57\",\"10-24-40sUser31\",\"10-24-40sUser1\",\"10-24-40sUser34\",\"10-24-40sUser9\",\"10-24-40sUser33\",\"10-24-40sUser26\",\"10-24-40sUser44\",\"10-24-40sUser27\",\"10-24-40sUser24\",\"10-24-40sUser51\",\"10-24-40sUser45\",\"10-24-40sUser13\",\"10-24-40sUser41\",\"10-24-40sUser18\",\"10-24-40sUser47\",\"10-24-40sUser42\",\"10-24-40sUser21\",\"10-24-40sUser37\",\"10-24-40sUser55\",\"10-24-40sUser11\",\"10-24-40sUser39\",\"10-24-40sUser56\",\"10-24-40sUser14\",\"10-24-40sUser46\",\"10-24-40sUser6\",\"10-24-40sUser52\",\"10-24-40sUser19\",\"10-24-40sUser35\",\"10-24-40sUser48\",\"10-24-40sUser54\",\"10-24-40sUser36\",\"10-24-40sUser10\",\"10-24-40sUser43\",\"10-24-40sUser16\",\"10-24-40sUser28\",\"10-24-40sUser53\"],\"sender\":\"10-24-40sUser35\",\"tags\":{\"UH\":\"haha\"},\"total_num_chats\":706,\"users_tagged\":null,\"word_freq\":{\"haha\":1},\"age\":\"40\",\"key\":\"733611da75934e8d3aa0c8cd4792c102\"}\n"
     ]
    }
   ],
   "source": [
    "! head Data/chat/Data/training_set.jsonl -n 2"
   ]
  },
  {
   "cell_type": "code",
   "execution_count": 8,
   "metadata": {},
   "outputs": [],
   "source": [
    "import pandas as pd\n",
    "import os\n",
    "import json"
   ]
  },
  {
   "cell_type": "code",
   "execution_count": 4,
   "metadata": {},
   "outputs": [],
   "source": [
    "filename = os.getcwd()+\"/Data/chat/Scripts/Data/training_set.jsonl\""
   ]
  },
  {
   "cell_type": "code",
   "execution_count": 5,
   "metadata": {},
   "outputs": [],
   "source": [
    "with open(filename) as file:\n",
    "    data = file.read() "
   ]
  },
  {
   "cell_type": "code",
   "execution_count": 6,
   "metadata": {},
   "outputs": [],
   "source": [
    "tmp = data.replace('\\n  ','').replace('}\\n{','},{').replace('\\n','')\n",
    "tmp1 = '['+tmp+']'"
   ]
  },
  {
   "cell_type": "code",
   "execution_count": 9,
   "metadata": {},
   "outputs": [],
   "source": [
    "df = pd.DataFrame( json.loads(tmp1) )"
   ]
  },
  {
   "cell_type": "code",
   "execution_count": 10,
   "metadata": {},
   "outputs": [
    {
     "data": {
      "text/html": [
       "<div>\n",
       "<style scoped>\n",
       "    .dataframe tbody tr th:only-of-type {\n",
       "        vertical-align: middle;\n",
       "    }\n",
       "\n",
       "    .dataframe tbody tr th {\n",
       "        vertical-align: top;\n",
       "    }\n",
       "\n",
       "    .dataframe thead th {\n",
       "        text-align: right;\n",
       "    }\n",
       "</style>\n",
       "<table border=\"1\" class=\"dataframe\">\n",
       "  <thead>\n",
       "    <tr style=\"text-align: right;\">\n",
       "      <th></th>\n",
       "      <th>age</th>\n",
       "      <th>body</th>\n",
       "      <th>chat_action</th>\n",
       "      <th>class</th>\n",
       "      <th>key</th>\n",
       "      <th>participant_count</th>\n",
       "      <th>participants</th>\n",
       "      <th>sender</th>\n",
       "      <th>tags</th>\n",
       "      <th>total_num_chats</th>\n",
       "      <th>users_tagged</th>\n",
       "      <th>word_freq</th>\n",
       "    </tr>\n",
       "  </thead>\n",
       "  <tbody>\n",
       "    <tr>\n",
       "      <th>0</th>\n",
       "      <td>40</td>\n",
       "      <td>10-19-40sUser27 has a nice pic...but it won't ...</td>\n",
       "      <td>False</td>\n",
       "      <td>Statement</td>\n",
       "      <td>a713ffe9869bd2a285c469ac03953b08</td>\n",
       "      <td>55</td>\n",
       "      <td>[10-19-40sUser9, 10-19-40sUser49, 10-19-40sUse...</td>\n",
       "      <td>10-19-40sUser3</td>\n",
       "      <td>{'NNP': '10-19-40sUser27', 'VBZ': 'keeps', 'DT...</td>\n",
       "      <td>686</td>\n",
       "      <td>[10-19-40sUser27]</td>\n",
       "      <td>{'10-19-40sUser27': 1, 'has': 1, 'a': 1, 'nice...</td>\n",
       "    </tr>\n",
       "    <tr>\n",
       "      <th>1</th>\n",
       "      <td>40</td>\n",
       "      <td>haha</td>\n",
       "      <td>False</td>\n",
       "      <td>Emotion</td>\n",
       "      <td>733611da75934e8d3aa0c8cd4792c102</td>\n",
       "      <td>50</td>\n",
       "      <td>[10-24-40sUser0, 10-24-40sUser40, 10-24-40sUse...</td>\n",
       "      <td>10-24-40sUser35</td>\n",
       "      <td>{'UH': 'haha'}</td>\n",
       "      <td>706</td>\n",
       "      <td>None</td>\n",
       "      <td>{'haha': 1}</td>\n",
       "    </tr>\n",
       "    <tr>\n",
       "      <th>2</th>\n",
       "      <td>teen</td>\n",
       "      <td>lol, the place where I used to work had everyt...</td>\n",
       "      <td>False</td>\n",
       "      <td>Statement</td>\n",
       "      <td>b3b69d62ccf0af257652727dcce5416f</td>\n",
       "      <td>136</td>\n",
       "      <td>[10-26-teensUser110, 10-26-teensUser143, 10-26...</td>\n",
       "      <td>10-26-teensUser66</td>\n",
       "      <td>{'UH': 'lol', ',': ',', 'DT': 'the', 'NN': 'ev...</td>\n",
       "      <td>706</td>\n",
       "      <td>None</td>\n",
       "      <td>{'lol': 1, ',': 1, 'the': 1, 'place': 1, 'wher...</td>\n",
       "    </tr>\n",
       "  </tbody>\n",
       "</table>\n",
       "</div>"
      ],
      "text/plain": [
       "    age                                               body  chat_action  \\\n",
       "0    40  10-19-40sUser27 has a nice pic...but it won't ...        False   \n",
       "1    40                                               haha        False   \n",
       "2  teen  lol, the place where I used to work had everyt...        False   \n",
       "\n",
       "       class                               key  participant_count  \\\n",
       "0  Statement  a713ffe9869bd2a285c469ac03953b08                 55   \n",
       "1    Emotion  733611da75934e8d3aa0c8cd4792c102                 50   \n",
       "2  Statement  b3b69d62ccf0af257652727dcce5416f                136   \n",
       "\n",
       "                                        participants             sender  \\\n",
       "0  [10-19-40sUser9, 10-19-40sUser49, 10-19-40sUse...     10-19-40sUser3   \n",
       "1  [10-24-40sUser0, 10-24-40sUser40, 10-24-40sUse...    10-24-40sUser35   \n",
       "2  [10-26-teensUser110, 10-26-teensUser143, 10-26...  10-26-teensUser66   \n",
       "\n",
       "                                                tags  total_num_chats  \\\n",
       "0  {'NNP': '10-19-40sUser27', 'VBZ': 'keeps', 'DT...              686   \n",
       "1                                     {'UH': 'haha'}              706   \n",
       "2  {'UH': 'lol', ',': ',', 'DT': 'the', 'NN': 'ev...              706   \n",
       "\n",
       "        users_tagged                                          word_freq  \n",
       "0  [10-19-40sUser27]  {'10-19-40sUser27': 1, 'has': 1, 'a': 1, 'nice...  \n",
       "1               None                                        {'haha': 1}  \n",
       "2               None  {'lol': 1, ',': 1, 'the': 1, 'place': 1, 'wher...  "
      ]
     },
     "execution_count": 10,
     "metadata": {},
     "output_type": "execute_result"
    }
   ],
   "source": [
    "df.head(3)"
   ]
  },
  {
   "cell_type": "code",
   "execution_count": 11,
   "metadata": {},
   "outputs": [],
   "source": [
    "df = df.rename(columns={'class': 'Target'})"
   ]
  },
  {
   "cell_type": "code",
   "execution_count": 12,
   "metadata": {},
   "outputs": [
    {
     "data": {
      "text/plain": [
       "Statement     2551\n",
       "Greet         1079\n",
       "Emotion        889\n",
       "System         483\n",
       "ynQuestion     435\n",
       "Name: Target, dtype: int64"
      ]
     },
     "execution_count": 12,
     "metadata": {},
     "output_type": "execute_result"
    }
   ],
   "source": [
    "df['Target'].value_counts()[0:5]"
   ]
  },
  {
   "cell_type": "code",
   "execution_count": 13,
   "metadata": {},
   "outputs": [],
   "source": [
    "df['Target_bin'] = 0\n",
    "df.loc[df.Target == 'System','Target_bin'] = 1"
   ]
  },
  {
   "cell_type": "code",
   "execution_count": 16,
   "metadata": {},
   "outputs": [
    {
     "data": {
      "text/plain": [
       "(6823, 13)"
      ]
     },
     "execution_count": 16,
     "metadata": {},
     "output_type": "execute_result"
    }
   ],
   "source": [
    "df.shape"
   ]
  },
  {
   "cell_type": "code",
   "execution_count": 20,
   "metadata": {},
   "outputs": [
    {
     "data": {
      "text/html": [
       "<div>\n",
       "<style scoped>\n",
       "    .dataframe tbody tr th:only-of-type {\n",
       "        vertical-align: middle;\n",
       "    }\n",
       "\n",
       "    .dataframe tbody tr th {\n",
       "        vertical-align: top;\n",
       "    }\n",
       "\n",
       "    .dataframe thead th {\n",
       "        text-align: right;\n",
       "    }\n",
       "</style>\n",
       "<table border=\"1\" class=\"dataframe\">\n",
       "  <thead>\n",
       "    <tr style=\"text-align: right;\">\n",
       "      <th></th>\n",
       "      <th>age</th>\n",
       "      <th>body</th>\n",
       "      <th>chat_action</th>\n",
       "      <th>participant_count</th>\n",
       "      <th>total_num_chats</th>\n",
       "      <th>participants</th>\n",
       "      <th>tags</th>\n",
       "      <th>users_tagged</th>\n",
       "      <th>word_freq</th>\n",
       "      <th>Target_bin</th>\n",
       "    </tr>\n",
       "  </thead>\n",
       "  <tbody>\n",
       "    <tr>\n",
       "      <th>5</th>\n",
       "      <td>20</td>\n",
       "      <td>That's the way 11-09-20sUser163..</td>\n",
       "      <td>False</td>\n",
       "      <td>126</td>\n",
       "      <td>706</td>\n",
       "      <td>[11-09-20sUser101, 11-09-20sUser163, 11-09-20s...</td>\n",
       "      <td>{'DT': 'the', 'BES': ''s', 'NN': 'way', 'NNP':...</td>\n",
       "      <td>[11-09-20sUser163]</td>\n",
       "      <td>{'That': 1, ''s': 1, 'the': 1, 'way': 1, '11-0...</td>\n",
       "      <td>1</td>\n",
       "    </tr>\n",
       "    <tr>\n",
       "      <th>17</th>\n",
       "      <td>40</td>\n",
       "      <td>.ACTION checks sumpin.</td>\n",
       "      <td>True</td>\n",
       "      <td>50</td>\n",
       "      <td>706</td>\n",
       "      <td>[10-24-40sUser0, 10-24-40sUser40, 10-24-40sUse...</td>\n",
       "      <td>{'SYM': '.', 'NN': 'sumpin', 'VBZ': 'checks', ...</td>\n",
       "      <td>None</td>\n",
       "      <td>{'.': 2, 'ACTION': 1, 'checks': 1, 'sumpin': 1}</td>\n",
       "      <td>1</td>\n",
       "    </tr>\n",
       "    <tr>\n",
       "      <th>20</th>\n",
       "      <td>40</td>\n",
       "      <td>.ACTION never judges a book by it's cover....l...</td>\n",
       "      <td>True</td>\n",
       "      <td>55</td>\n",
       "      <td>686</td>\n",
       "      <td>[10-19-40sUser9, 10-19-40sUser49, 10-19-40sUse...</td>\n",
       "      <td>{'SYM': '.', 'NN': 'inside', 'RB': 'too', 'VBZ...</td>\n",
       "      <td>None</td>\n",
       "      <td>{'.': 2, 'ACTION': 1, 'never': 1, 'judges': 1,...</td>\n",
       "      <td>1</td>\n",
       "    </tr>\n",
       "  </tbody>\n",
       "</table>\n",
       "</div>"
      ],
      "text/plain": [
       "   age                                               body  chat_action  \\\n",
       "5   20                  That's the way 11-09-20sUser163..        False   \n",
       "17  40                             .ACTION checks sumpin.         True   \n",
       "20  40  .ACTION never judges a book by it's cover....l...         True   \n",
       "\n",
       "    participant_count  total_num_chats  \\\n",
       "5                 126              706   \n",
       "17                 50              706   \n",
       "20                 55              686   \n",
       "\n",
       "                                         participants  \\\n",
       "5   [11-09-20sUser101, 11-09-20sUser163, 11-09-20s...   \n",
       "17  [10-24-40sUser0, 10-24-40sUser40, 10-24-40sUse...   \n",
       "20  [10-19-40sUser9, 10-19-40sUser49, 10-19-40sUse...   \n",
       "\n",
       "                                                 tags        users_tagged  \\\n",
       "5   {'DT': 'the', 'BES': ''s', 'NN': 'way', 'NNP':...  [11-09-20sUser163]   \n",
       "17  {'SYM': '.', 'NN': 'sumpin', 'VBZ': 'checks', ...                None   \n",
       "20  {'SYM': '.', 'NN': 'inside', 'RB': 'too', 'VBZ...                None   \n",
       "\n",
       "                                            word_freq  Target_bin  \n",
       "5   {'That': 1, ''s': 1, 'the': 1, 'way': 1, '11-0...           1  \n",
       "17    {'.': 2, 'ACTION': 1, 'checks': 1, 'sumpin': 1}           1  \n",
       "20  {'.': 2, 'ACTION': 1, 'never': 1, 'judges': 1,...           1  "
      ]
     },
     "execution_count": 20,
     "metadata": {},
     "output_type": "execute_result"
    }
   ],
   "source": [
    "tmp = df.iloc[:,[0,1,2,5,9,6,8,10,11,12]]\n",
    "tmp.loc[tmp.Target_bin == 1,].head(3)\n",
    "#tmp.loc[(tmp.chat_action == True) & (tmp.Target_bin == 0),]   #RULE\n",
    "#tmp.body[28]"
   ]
  },
  {
   "cell_type": "code",
   "execution_count": 21,
   "metadata": {},
   "outputs": [],
   "source": [
    "res1 = tmp.loc[tmp.chat_action == True,]"
   ]
  },
  {
   "cell_type": "code",
   "execution_count": 66,
   "metadata": {},
   "outputs": [],
   "source": [
    "tmp2 = tmp#.loc[tmp.chat_action == False,]\n",
    "tmp3 = tmp2['word_freq'].apply(pd.Series)\n",
    "tmp3['Target_bin'] = tmp2['Target_bin']\n",
    "tmp3.groupby('Target_bin').agg({'has':sum})\n",
    "cols = tmp3.columns[:-1]\n",
    "tmp4 = tmp3.groupby('Target_bin')[cols].sum()\n",
    "tmp5 = tmp4.transpose()\n",
    "tmp5['diff'] = tmp5[1] - tmp5[0]\n",
    "res2 = tmp5.sort_values(by=['diff'], ascending=False)"
   ]
  },
  {
   "cell_type": "code",
   "execution_count": 67,
   "metadata": {},
   "outputs": [
    {
     "data": {
      "text/html": [
       "<div>\n",
       "<style scoped>\n",
       "    .dataframe tbody tr th:only-of-type {\n",
       "        vertical-align: middle;\n",
       "    }\n",
       "\n",
       "    .dataframe tbody tr th {\n",
       "        vertical-align: top;\n",
       "    }\n",
       "\n",
       "    .dataframe thead th {\n",
       "        text-align: right;\n",
       "    }\n",
       "</style>\n",
       "<table border=\"1\" class=\"dataframe\">\n",
       "  <thead>\n",
       "    <tr style=\"text-align: right;\">\n",
       "      <th>Target_bin</th>\n",
       "      <th>0</th>\n",
       "      <th>1</th>\n",
       "      <th>diff</th>\n",
       "    </tr>\n",
       "  </thead>\n",
       "  <tbody>\n",
       "    <tr>\n",
       "      <th>.</th>\n",
       "      <td>314.0</td>\n",
       "      <td>717.0</td>\n",
       "      <td>403.0</td>\n",
       "    </tr>\n",
       "    <tr>\n",
       "      <th>ACTION</th>\n",
       "      <td>0.0</td>\n",
       "      <td>280.0</td>\n",
       "      <td>280.0</td>\n",
       "    </tr>\n",
       "    <tr>\n",
       "      <th>:</th>\n",
       "      <td>9.0</td>\n",
       "      <td>67.0</td>\n",
       "      <td>58.0</td>\n",
       "    </tr>\n",
       "    <tr>\n",
       "      <th>10-26-teensUser54</th>\n",
       "      <td>0.0</td>\n",
       "      <td>42.0</td>\n",
       "      <td>42.0</td>\n",
       "    </tr>\n",
       "    <tr>\n",
       "      <th>MODE</th>\n",
       "      <td>0.0</td>\n",
       "      <td>33.0</td>\n",
       "      <td>33.0</td>\n",
       "    </tr>\n",
       "    <tr>\n",
       "      <th>@</th>\n",
       "      <td>17.0</td>\n",
       "      <td>42.0</td>\n",
       "      <td>25.0</td>\n",
       "    </tr>\n",
       "    <tr>\n",
       "      <th>#14-19teens</th>\n",
       "      <td>0.0</td>\n",
       "      <td>25.0</td>\n",
       "      <td>25.0</td>\n",
       "    </tr>\n",
       "    <tr>\n",
       "      <th>10-26-teensUser122</th>\n",
       "      <td>2.0</td>\n",
       "      <td>25.0</td>\n",
       "      <td>23.0</td>\n",
       "    </tr>\n",
       "    <tr>\n",
       "      <th>+</th>\n",
       "      <td>1.0</td>\n",
       "      <td>24.0</td>\n",
       "      <td>23.0</td>\n",
       "    </tr>\n",
       "    <tr>\n",
       "      <th>o</th>\n",
       "      <td>12.0</td>\n",
       "      <td>33.0</td>\n",
       "      <td>21.0</td>\n",
       "    </tr>\n",
       "  </tbody>\n",
       "</table>\n",
       "</div>"
      ],
      "text/plain": [
       "Target_bin              0      1   diff\n",
       ".                   314.0  717.0  403.0\n",
       "ACTION                0.0  280.0  280.0\n",
       ":                     9.0   67.0   58.0\n",
       "10-26-teensUser54     0.0   42.0   42.0\n",
       "MODE                  0.0   33.0   33.0\n",
       "@                    17.0   42.0   25.0\n",
       "#14-19teens           0.0   25.0   25.0\n",
       "10-26-teensUser122    2.0   25.0   23.0\n",
       "+                     1.0   24.0   23.0\n",
       "o                    12.0   33.0   21.0"
      ]
     },
     "execution_count": 67,
     "metadata": {},
     "output_type": "execute_result"
    }
   ],
   "source": [
    "res2.iloc[:10,]"
   ]
  },
  {
   "cell_type": "code",
   "execution_count": 68,
   "metadata": {},
   "outputs": [],
   "source": [
    "res2['tokens'] = res2.index\n",
    "res3 = res2.iloc[:10,]\n",
    "res3.drop(['diff'], inplace=True, axis=1)"
   ]
  },
  {
   "cell_type": "code",
   "execution_count": 69,
   "metadata": {},
   "outputs": [
    {
     "data": {
      "text/html": [
       "<div>\n",
       "<style scoped>\n",
       "    .dataframe tbody tr th:only-of-type {\n",
       "        vertical-align: middle;\n",
       "    }\n",
       "\n",
       "    .dataframe tbody tr th {\n",
       "        vertical-align: top;\n",
       "    }\n",
       "\n",
       "    .dataframe thead th {\n",
       "        text-align: right;\n",
       "    }\n",
       "</style>\n",
       "<table border=\"1\" class=\"dataframe\">\n",
       "  <thead>\n",
       "    <tr style=\"text-align: right;\">\n",
       "      <th></th>\n",
       "      <th>tokens</th>\n",
       "      <th>Class</th>\n",
       "      <th>Value</th>\n",
       "    </tr>\n",
       "  </thead>\n",
       "  <tbody>\n",
       "    <tr>\n",
       "      <th>0</th>\n",
       "      <td>.</td>\n",
       "      <td>0</td>\n",
       "      <td>314.0</td>\n",
       "    </tr>\n",
       "    <tr>\n",
       "      <th>1</th>\n",
       "      <td>ACTION</td>\n",
       "      <td>0</td>\n",
       "      <td>0.0</td>\n",
       "    </tr>\n",
       "    <tr>\n",
       "      <th>2</th>\n",
       "      <td>:</td>\n",
       "      <td>0</td>\n",
       "      <td>9.0</td>\n",
       "    </tr>\n",
       "  </tbody>\n",
       "</table>\n",
       "</div>"
      ],
      "text/plain": [
       "   tokens Class  Value\n",
       "0       .     0  314.0\n",
       "1  ACTION     0    0.0\n",
       "2       :     0    9.0"
      ]
     },
     "execution_count": 69,
     "metadata": {},
     "output_type": "execute_result"
    }
   ],
   "source": [
    "df2 = pd.melt(res3, id_vars=[\"tokens\"], \n",
    "                  var_name=\"Class\", value_name=\"Value\")\n",
    "df2.head(3)"
   ]
  },
  {
   "cell_type": "code",
   "execution_count": 70,
   "metadata": {},
   "outputs": [
    {
     "data": {
      "text/plain": [
       "<seaborn.axisgrid.FacetGrid at 0x7fd340247358>"
      ]
     },
     "execution_count": 70,
     "metadata": {},
     "output_type": "execute_result"
    },
    {
     "data": {
      "image/png": "[encoded data removed]",
      "text/plain": [
       "<Figure size 478.6x432 with 1 Axes>"
      ]
     },
     "metadata": {},
     "output_type": "display_data"
    }
   ],
   "source": [
    "import seaborn as sns\n",
    "sns.set(style=\"whitegrid\")\n",
    "g = sns.catplot(x=\"tokens\", y=\"Value\", hue=\"Class\", data=df2, height=6, kind=\"bar\", palette=\"muted\")\n",
    "g.despine(left=True)\n",
    "g.set_ylabels(\"token count\")\n",
    "g.set_xticklabels(rotation=65)"
   ]
  },
  {
   "cell_type": "code",
   "execution_count": 71,
   "metadata": {},
   "outputs": [],
   "source": [
    "g.savefig('features_selection.png') "
   ]
  },
  {
   "cell_type": "code",
   "execution_count": null,
   "metadata": {},
   "outputs": [],
   "source": []
  },
  {
   "cell_type": "code",
   "execution_count": null,
   "metadata": {},
   "outputs": [],
   "source": []
  },
  {
   "cell_type": "markdown",
   "metadata": {},
   "source": [
    "# Model"
   ]
  },
  {
   "cell_type": "code",
   "execution_count": 297,
   "metadata": {},
   "outputs": [],
   "source": [
    "tmp2 = tmp #.loc[tmp.chat_action == False,]     <= use all records for training, but remove after prediction\n",
    "tmp3 = tmp2['word_freq'].apply(pd.Series)\n",
    "#tmp3['Target_bin'] = tmp2['Target_bin']\n",
    "tmp3.fillna(0, inplace=True)"
   ]
  },
  {
   "cell_type": "code",
   "execution_count": 282,
   "metadata": {},
   "outputs": [
    {
     "name": "stdout",
     "output_type": "stream",
     "text": [
      "(6823, 5654)\n",
      "(483, 5654)\n",
      "(6340, 5654)\n"
     ]
    }
   ],
   "source": [
    "print(  tmp3.shape  )\n",
    "print(  (tmp3.loc[tmp3.Target_bin==1,]).shape )\n",
    "print(  (tmp3.loc[tmp3.Target_bin==0,]).shape )"
   ]
  },
  {
   "cell_type": "code",
   "execution_count": 283,
   "metadata": {},
   "outputs": [],
   "source": [
    "System = tmp3.loc[tmp3.Target_bin==1,]\n",
    "recs = System.shape[0]\n",
    "NotSystem = tmp3.loc[tmp3.Target_bin==0,].sample(n=recs, replace=True, random_state=1)\n",
    "tmp4 = pd.concat([System, NotSystem]).reset_index(drop=True)"
   ]
  },
  {
   "cell_type": "code",
   "execution_count": 284,
   "metadata": {},
   "outputs": [
    {
     "name": "stdout",
     "output_type": "stream",
     "text": [
      "(966, 5654)\n",
      "1    483\n",
      "0    483\n",
      "Name: Target_bin, dtype: int64\n"
     ]
    }
   ],
   "source": [
    "print( tmp4.shape )\n",
    "print( tmp4.Target_bin.value_counts() )"
   ]
  },
  {
   "cell_type": "code",
   "execution_count": 285,
   "metadata": {},
   "outputs": [],
   "source": [
    "from sklearn.model_selection import train_test_split\n",
    "X = tmp4.loc[:, tmp4.columns != 'Target_bin']\n",
    "y = tmp4['Target_bin']\n",
    "\n",
    "X_train, X_test, y_train, y_test = train_test_split(X, y, test_size=0.2)"
   ]
  },
  {
   "cell_type": "code",
   "execution_count": 286,
   "metadata": {},
   "outputs": [],
   "source": [
    "from sklearn.feature_extraction.text import TfidfTransformer\n",
    "from sklearn.naive_bayes import MultinomialNB\n",
    "from sklearn.pipeline import Pipeline\n",
    "text_clf = Pipeline([('tfidf', TfidfTransformer()),\n",
    "                     ('clf', MultinomialNB())\n",
    "                    ])\n",
    "#text_clf = text_clf.fit(X_train, y_train)"
   ]
  },
  {
   "cell_type": "markdown",
   "metadata": {},
   "source": [
    "import numpy as np\n",
    "predicted = text_clf.predict(X_test)\n",
    "np.mean(predicted == y_test)"
   ]
  },
  {
   "cell_type": "code",
   "execution_count": 287,
   "metadata": {},
   "outputs": [],
   "source": [
    "from sklearn.model_selection import GridSearchCV\n",
    "parameters = {'tfidf__use_idf': (True, False),\n",
    "              'clf__alpha': (1e-2, 1e-3)\n",
    "             }"
   ]
  },
  {
   "cell_type": "code",
   "execution_count": 288,
   "metadata": {},
   "outputs": [],
   "source": [
    "gs_clf = GridSearchCV(text_clf, parameters, n_jobs=-1, cv=5)\n",
    "gs_clf = gs_clf.fit(X_train, y_train)"
   ]
  },
  {
   "cell_type": "code",
   "execution_count": 289,
   "metadata": {},
   "outputs": [
    {
     "name": "stdout",
     "output_type": "stream",
     "text": [
      "0.9123711340206185\n",
      "0.2827543948845872\n"
     ]
    }
   ],
   "source": [
    "predicted = gs_clf.predict(X_test)\n",
    "print( np.mean(predicted == y_test) )\n",
    "print( np.std(predicted == y_test) )"
   ]
  },
  {
   "cell_type": "code",
   "execution_count": 290,
   "metadata": {},
   "outputs": [
    {
     "name": "stdout",
     "output_type": "stream",
     "text": [
      "0.9339378238341969\n",
      "{'clf__alpha': 0.01, 'tfidf__use_idf': False}\n"
     ]
    }
   ],
   "source": [
    "print( gs_clf.best_score_ )\n",
    "print( gs_clf.best_params_ )"
   ]
  },
  {
   "cell_type": "markdown",
   "metadata": {},
   "source": [
    "<br>\n",
    "\n",
    "__See of rule-base classifier helps__"
   ]
  },
  {
   "cell_type": "code",
   "execution_count": 336,
   "metadata": {},
   "outputs": [],
   "source": [
    "tmp5 = tmp\n",
    "y_pred_clf = gs_clf.predict(tmp3)\n",
    "tmp5 = tmp5.assign(e=pd.Series(y_pred_clf).values)\n",
    "tmp5['y_pred_rule'] = 0\n",
    "tmp5.loc[tmp5.chat_action == True, ['y_pred_rule'] ] = 1\n",
    "\n",
    "tmp5['y_pred'] = tmp5['y_pred_clf']\n",
    "tmp5.loc[tmp5.chat_action == True, ['y_pred'] ] = 1"
   ]
  },
  {
   "cell_type": "code",
   "execution_count": 344,
   "metadata": {},
   "outputs": [
    {
     "name": "stdout",
     "output_type": "stream",
     "text": [
      "0.8881723582002052\n",
      "0.3151542802014461\n",
      "no - it doesn't improve\n",
      "0.8881723582002052\n",
      "0.3151542802014461\n"
     ]
    }
   ],
   "source": [
    "print( np.mean(tmp5.y_pred_clf == tmp5.Target_bin) )\n",
    "print( np.std(tmp5.y_pred_clf == tmp5.Target_bin) )\n",
    "\n",
    "print(\"no - it doesn't improve\")\n",
    "print( np.mean(tmp5.y_pred == tmp5.Target_bin) )\n",
    "print( np.std(tmp5.y_pred == tmp5.Target_bin) )"
   ]
  },
  {
   "cell_type": "code",
   "execution_count": 339,
   "metadata": {},
   "outputs": [
    {
     "data": {
      "text/html": [
       "<div>\n",
       "<style scoped>\n",
       "    .dataframe tbody tr th:only-of-type {\n",
       "        vertical-align: middle;\n",
       "    }\n",
       "\n",
       "    .dataframe tbody tr th {\n",
       "        vertical-align: top;\n",
       "    }\n",
       "\n",
       "    .dataframe thead th {\n",
       "        text-align: right;\n",
       "    }\n",
       "</style>\n",
       "<table border=\"1\" class=\"dataframe\">\n",
       "  <thead>\n",
       "    <tr style=\"text-align: right;\">\n",
       "      <th></th>\n",
       "      <th>y_pred_rule</th>\n",
       "      <th>y_pred_clf</th>\n",
       "      <th>Target_bin</th>\n",
       "      <th>y_pred</th>\n",
       "    </tr>\n",
       "  </thead>\n",
       "  <tbody>\n",
       "    <tr>\n",
       "      <th>0</th>\n",
       "      <td>0</td>\n",
       "      <td>1</td>\n",
       "      <td>0</td>\n",
       "      <td>1</td>\n",
       "    </tr>\n",
       "    <tr>\n",
       "      <th>1</th>\n",
       "      <td>0</td>\n",
       "      <td>0</td>\n",
       "      <td>0</td>\n",
       "      <td>0</td>\n",
       "    </tr>\n",
       "    <tr>\n",
       "      <th>2</th>\n",
       "      <td>0</td>\n",
       "      <td>0</td>\n",
       "      <td>0</td>\n",
       "      <td>0</td>\n",
       "    </tr>\n",
       "    <tr>\n",
       "      <th>3</th>\n",
       "      <td>0</td>\n",
       "      <td>1</td>\n",
       "      <td>0</td>\n",
       "      <td>1</td>\n",
       "    </tr>\n",
       "    <tr>\n",
       "      <th>4</th>\n",
       "      <td>0</td>\n",
       "      <td>0</td>\n",
       "      <td>0</td>\n",
       "      <td>0</td>\n",
       "    </tr>\n",
       "  </tbody>\n",
       "</table>\n",
       "</div>"
      ],
      "text/plain": [
       "   y_pred_rule  y_pred_clf  Target_bin  y_pred\n",
       "0            0           1           0       1\n",
       "1            0           0           0       0\n",
       "2            0           0           0       0\n",
       "3            0           1           0       1\n",
       "4            0           0           0       0"
      ]
     },
     "execution_count": 339,
     "metadata": {},
     "output_type": "execute_result"
    }
   ],
   "source": [
    "tmp5[['y_pred_rule','y_pred_clf','Target_bin','y_pred']].head(5)"
   ]
  },
  {
   "cell_type": "code",
   "execution_count": null,
   "metadata": {},
   "outputs": [],
   "source": []
  },
  {
   "cell_type": "markdown",
   "metadata": {},
   "source": [
    "# Predict"
   ]
  },
  {
   "cell_type": "code",
   "execution_count": null,
   "metadata": {},
   "outputs": [],
   "source": [
    "gs_clf.predict(X_test)"
   ]
  },
  {
   "cell_type": "code",
   "execution_count": 352,
   "metadata": {},
   "outputs": [
    {
     "data": {
      "text/plain": [
       "Index(['10-19-40sUser27', 'has', 'a', 'nice', 'pic', '...', 'but', 'it', 'wo',\n",
       "       'n't',\n",
       "       ...\n",
       "       'DOES', 'middle', '******', 'filthy', 'jucilicious', 'vodka', 'coast',\n",
       "       'j/p', 'mac', 'davis'],\n",
       "      dtype='object', length=5653)"
      ]
     },
     "execution_count": 352,
     "metadata": {},
     "output_type": "execute_result"
    }
   ],
   "source": [
    "tmp3.columns"
   ]
  },
  {
   "cell_type": "code",
   "execution_count": 354,
   "metadata": {},
   "outputs": [
    {
     "name": "stdout",
     "output_type": "stream",
     "text": [
      "{'a', 'd', 'b'}\n"
     ]
    }
   ],
   "source": [
    "A = set( ['a', 'b', 'c', 'd'] )\n",
    "B = set( ['c', 'f', 'g'] )\n",
    "\n",
    "# Equivalent to A-B\n",
    "print(A.difference(B))"
   ]
  },
  {
   "cell_type": "code",
   "execution_count": null,
   "metadata": {},
   "outputs": [],
   "source": []
  }
 ],
 "metadata": {
  "kernelspec": {
   "display_name": "Python 3",
   "language": "python",
   "name": "python3"
  },
  "language_info": {
   "codemirror_mode": {
    "name": "ipython",
    "version": 3
   },
   "file_extension": ".py",
   "mimetype": "text/x-python",
   "name": "python",
   "nbconvert_exporter": "python",
   "pygments_lexer": "ipython3",
   "version": "3.6.7"
  }
 },
 "nbformat": 4,
 "nbformat_minor": 2
}
