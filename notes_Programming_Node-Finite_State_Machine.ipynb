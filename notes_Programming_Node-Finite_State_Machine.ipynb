{
 "cells": [
  {
   "cell_type": "markdown",
   "metadata": {},
   "source": [
    "# Using Finite State Machines"
   ]
  },
  {
   "cell_type": "markdown",
   "metadata": {},
   "source": [
    "While Object-Oriented Programming provides a strong perspective of most situations, classes can be a poor tool for modelling the real-world if one object may act differently under specific scenarios.  In such cases, programmers tend to overly use conditionals to force the models' correct behaviour.\n",
    "\n",
    "An alternative is finite state machines.  This notebook investigates finite state machines, when they are useful, and how to implement them."
   ]
  },
  {
   "cell_type": "code",
   "execution_count": 1,
   "metadata": {},
   "outputs": [],
   "source": [
    "let account = {\n",
    "  state: 'open',\n",
    "  balance: 0,\n",
    "\n",
    "  deposit (amount) {\n",
    "    if (this.state === 'open') {\n",
    "      this.balance = this.balance + amount;\n",
    "    } else {\n",
    "      throw 'invalid event';\n",
    "    }\n",
    "  },\n",
    "\n",
    "  withdraw (amount) {\n",
    "    if (this.state === 'open') {\n",
    "      this.balance = this.balance - amount;\n",
    "    } else {\n",
    "      throw 'invalid event';\n",
    "    }\n",
    "  },\n",
    "\n",
    "  close () {\n",
    "    if (this.state === 'open') {\n",
    "      if (this.balance > 0) {\n",
    "        // ...transfer balance to suspension account\n",
    "      }\n",
    "      this.state = 'closed';\n",
    "    } else {\n",
    "      throw 'invalid event';\n",
    "    }\n",
    "  },\n",
    "\n",
    "  reopen () {\n",
    "    if (this.state === 'closed') {\n",
    "      // ...restore balance if applicable\n",
    "      this.state = 'open';\n",
    "    } else {\n",
    "      throw 'invalid event';\n",
    "    }\n",
    "  }\n",
    "}\n"
   ]
  },
  {
   "cell_type": "code",
   "execution_count": 2,
   "metadata": {},
   "outputs": [
    {
     "data": {
      "text/plain": [
       "'open'"
      ]
     },
     "execution_count": 2,
     "metadata": {},
     "output_type": "execute_result"
    }
   ],
   "source": [
    "account.state  //=> open"
   ]
  },
  {
   "cell_type": "code",
   "execution_count": 3,
   "metadata": {},
   "outputs": [
    {
     "data": {
      "text/plain": [
       "'closed'"
      ]
     },
     "execution_count": 3,
     "metadata": {},
     "output_type": "execute_result"
    }
   ],
   "source": [
    "account.close();\n",
    "account.state"
   ]
  },
  {
   "cell_type": "code",
   "execution_count": null,
   "metadata": {},
   "outputs": [],
   "source": []
  },
  {
   "cell_type": "code",
   "execution_count": 1,
   "metadata": {},
   "outputs": [],
   "source": [
    "let account = {\n",
    "  state: 'open',\n",
    "  balance: 0,\n",
    "\n",
    "  deposit (amount) {\n",
    "    if (this.state === 'open' || this.state === 'held') {\n",
    "      this.balance = this.balance + amount;\n",
    "    } else {\n",
    "      throw 'invalid event';\n",
    "    }\n",
    "  },\n",
    "\n",
    "  withdraw (amount) {\n",
    "    if (this.state === 'open') {\n",
    "      this.balance = this.balance - amount;\n",
    "    } else {\n",
    "      throw 'invalid event';\n",
    "    }\n",
    "  },\n",
    "\n",
    "  placeHold () {\n",
    "    if (this.state === 'open') {\n",
    "      this.state = 'held';\n",
    "    } else {\n",
    "      throw 'invalid event';\n",
    "    }\n",
    "  },\n",
    "\n",
    "  removeHold () {\n",
    "    if (this.state === 'held') {\n",
    "      this.state = 'open';\n",
    "    } else {\n",
    "      throw 'invalid event';\n",
    "    }\n",
    "  },\n",
    "\n",
    "  close () {\n",
    "    if (this.state === 'open' || this.state === 'held') {\n",
    "      if (this.balance > 0) {\n",
    "        // ...transfer balance to suspension account\n",
    "      }\n",
    "      this.state = 'closed';\n",
    "    } else {\n",
    "      throw 'invalid event';\n",
    "    }\n",
    "  },\n",
    "\n",
    "  reopen () {\n",
    "    if (this.state === 'closed') {\n",
    "      // ...restore balance if applicable\n",
    "      this.state = 'open';\n",
    "    } else {\n",
    "      throw 'invalid event';\n",
    "    }\n",
    "  }\n",
    "}\n"
   ]
  },
  {
   "cell_type": "code",
   "execution_count": 2,
   "metadata": {},
   "outputs": [
    {
     "data": {
      "text/plain": [
       "'open'"
      ]
     },
     "execution_count": 2,
     "metadata": {},
     "output_type": "execute_result"
    }
   ],
   "source": [
    "account.state  //=> open"
   ]
  },
  {
   "cell_type": "code",
   "execution_count": 3,
   "metadata": {},
   "outputs": [
    {
     "data": {
      "text/plain": [
       "'closed'"
      ]
     },
     "execution_count": 3,
     "metadata": {},
     "output_type": "execute_result"
    }
   ],
   "source": [
    "account.close();\n",
    "account.state"
   ]
  },
  {
   "cell_type": "code",
   "execution_count": null,
   "metadata": {},
   "outputs": [],
   "source": []
  },
  {
   "cell_type": "markdown",
   "metadata": {},
   "source": [
    "The principle is that instead of using strings for state, we’ll use objects that contain the methods we’re interested in. "
   ]
  },
  {
   "cell_type": "code",
   "execution_count": null,
   "metadata": {},
   "outputs": [],
   "source": [
    "const STATE = Symbol(\"state\");\n",
    "const STATES = Symbol(\"states\");\n",
    "\n",
    "const open = {\n",
    "  deposit (amount) { this.balance = this.balance + amount; },\n",
    "  withdraw (amount) { this.balance = this.balance - amount; },\n",
    "  placeHold () {\n",
    "    this[STATE] = this[STATES].held;\n",
    "  },\n",
    "  close () {\n",
    "    if (this.balance > 0) {\n",
    "      // ...transfer balance to suspension account\n",
    "    }\n",
    "    this[STATE] = this[STATES].closed;\n",
    "  }\n",
    "};\n",
    "\n",
    "const held = {\n",
    "  removeHold () {\n",
    "    this[STATE] = this[STATES].open;\n",
    "  },\n",
    "  deposit (amount) { this.balance = this.balance + amount; },\n",
    "  close () {\n",
    "    if (this.balance > 0) {\n",
    "      // ...transfer balance to suspension account\n",
    "    }\n",
    "    this[STATE] = this[STATES].closed;\n",
    "  }\n",
    "};\n",
    "\n",
    "const closed = {\n",
    "  reopen () {\n",
    "    // ...restore balance if applicable\n",
    "    this[STATE] = this[STATES].open;\n",
    "  }\n",
    "};\n"
   ]
  },
  {
   "cell_type": "markdown",
   "metadata": {},
   "source": [
    "Now our actual account object stores a state object rather than a state string, and delegates all methods to it. When an event is invalid, we’ll get an exception. That can be “fixed,” but let’s not worry about it now:"
   ]
  },
  {
   "cell_type": "code",
   "execution_count": null,
   "metadata": {},
   "outputs": [],
   "source": [
    "const account = {\n",
    "  balance: 0,\n",
    "\n",
    "  [STATE]: open,\n",
    "  [STATES]: { open, held, closed },\n",
    "\n",
    "  deposit (...args) { return this[STATE].deposit.apply(this, args); },\n",
    "  withdraw (...args) { return this[STATE].withdraw.apply(this, args); },\n",
    "  close (...args) { return this[STATE].close.apply(this, args); },\n",
    "  placeHold (...args) { return this[STATE].placeHold.apply(this, args); },\n",
    "  removeHold (...args) { return this[STATE].removeHold.apply(this, args); },\n",
    "  reopen (...args) { return this[STATE].reopen.apply(this, args); }\n",
    "};\n"
   ]
  },
  {
   "cell_type": "code",
   "execution_count": null,
   "metadata": {},
   "outputs": [],
   "source": []
  },
  {
   "cell_type": "code",
   "execution_count": 8,
   "metadata": {},
   "outputs": [
    {
     "data": {
      "text/plain": [
       "{ balance: 0,\n",
       "  deposit: [Function: deposit],\n",
       "  withdraw: [Function: withdraw],\n",
       "  close: [Function: close],\n",
       "  placeHold: [Function: placeHold],\n",
       "  removeHold: [Function: removeHold],\n",
       "  reopen: [Function: reopen],\n",
       "  [Symbol(state)]: \n",
       "   { deposit: [Function: deposit],\n",
       "     withdraw: [Function: withdraw],\n",
       "     placeHold: [Function],\n",
       "     close: [Function] },\n",
       "  [Symbol(states)]: \n",
       "   { open: \n",
       "      { deposit: [Function: deposit],\n",
       "        withdraw: [Function: withdraw],\n",
       "        placeHold: [Function],\n",
       "        close: [Function] },\n",
       "     held: \n",
       "      { removeHold: [Function],\n",
       "        deposit: [Function: deposit],\n",
       "        close: [Function] },\n",
       "     closed: { reopen: [Function] } } }"
      ]
     },
     "execution_count": 8,
     "metadata": {},
     "output_type": "execute_result"
    }
   ],
   "source": [
    "STATE = Symbol(\"state\");\n",
    "STATES = Symbol(\"states\");\n",
    "\n",
    "function transitionsTo (stateName, fn) {\n",
    "  return function (...args) {\n",
    "    const returnValue = fn.apply(this, args);\n",
    "    this[STATE] = this[STATES][stateName];\n",
    "    return returnValue;\n",
    "  };\n",
    "}\n",
    "\n",
    "open = {\n",
    "  deposit (amount) { this.balance = this.balance + amount; },\n",
    "  withdraw (amount) { this.balance = this.balance - amount; },\n",
    "  placeHold: transitionsTo('held', () => undefined),\n",
    "  close: transitionsTo('closed', function () {\n",
    "    if (this.balance > 0) {\n",
    "      // ...transfer balance to suspension account\n",
    "    }\n",
    "  })\n",
    "};\n",
    "\n",
    "held = {\n",
    "  removeHold: transitionsTo('open', () => undefined),\n",
    "  deposit (amount) { this.balance = this.balance + amount; },\n",
    "  close: transitionsTo('closed', function () {\n",
    "    if (this.balance > 0) {\n",
    "      // ...transfer balance to suspension account\n",
    "    }\n",
    "  })\n",
    "};\n",
    "\n",
    "closed = {\n",
    "  reopen: transitionsTo('open', function () {\n",
    "    // ...restore balance if applicable\n",
    "  })\n",
    "};\n",
    "\n",
    "account = {\n",
    "  balance: 0,\n",
    "\n",
    "  [STATE]: open,\n",
    "  [STATES]: { open, held, closed },\n",
    "\n",
    "  deposit (...args) { return this[STATE].deposit.apply(this, args); },\n",
    "  withdraw (...args) { return this[STATE].withdraw.apply(this, args); },\n",
    "  close (...args) { return this[STATE].close.apply(this, args); },\n",
    "  placeHold (...args) { return this[STATE].placeHold.apply(this, args); },\n",
    "  removeHold (...args) { return this[STATE].removeHold.apply(this, args); },\n",
    "  reopen (...args) { return this[STATE].reopen.apply(this, args); }\n",
    "};\n"
   ]
  },
  {
   "cell_type": "code",
   "execution_count": 6,
   "metadata": {},
   "outputs": [],
   "source": [
    "account.state  //=> open"
   ]
  },
  {
   "cell_type": "code",
   "execution_count": null,
   "metadata": {},
   "outputs": [],
   "source": []
  },
  {
   "cell_type": "code",
   "execution_count": null,
   "metadata": {},
   "outputs": [],
   "source": []
  },
  {
   "cell_type": "code",
   "execution_count": 10,
   "metadata": {},
   "outputs": [],
   "source": [
    "const RESERVED = [STARTING_STATE, STATES];\n",
    "\n",
    "function StateMachine (description) {\n",
    "  const machine = {};\n",
    "\n",
    "  // Handle all the initial states and/or methods\n",
    "  const propertiesAndMethods = Object.keys(description).filter(property => !RESERVED.includes(property));\n",
    "  for (const property of propertiesAndMethods) {\n",
    "    machine[property] = description[property];\n",
    "  }\n",
    "\n",
    "  // now its states\n",
    "  machine[STATES] = description[STATES];\n",
    "\n",
    "  // what event handlers does it have?\n",
    "  const eventNames = Object.entries(description[STATES]).reduce(\n",
    "    (eventNames, [state, stateDescription]) => {\n",
    "      const eventNamesForThisState = Object.keys(stateDescription);\n",
    "\n",
    "      for (const eventName of eventNamesForThisState) {\n",
    "        eventNames.add(eventName);\n",
    "      }\n",
    "      return eventNames;\n",
    "      },\n",
    "    new Set()\n",
    "  );\n",
    "\n",
    "  // define the delegating methods\n",
    "  for (const eventName of eventNames) {\n",
    "    machine[eventName] = function (...args) {\n",
    "      const handler = this[STATE][eventName];\n",
    "      if (typeof handler === 'function') {\n",
    "        return this[STATE][eventName].apply(this, args);\n",
    "      } else {\n",
    "        throw `invalid event ${eventName}`;\n",
    "      }\n",
    "    }\n",
    "  }\n",
    "\n",
    "  // set the starting state\n",
    "  machine[STATE] = description[STATES][description[STARTING_STATE]];\n",
    "\n",
    "  // we're done\n",
    "  return machine;\n",
    "}\n"
   ]
  },
  {
   "cell_type": "code",
   "execution_count": 11,
   "metadata": {},
   "outputs": [
    {
     "data": {
      "text/plain": [
       "{ balance: 0,\n",
       "  deposit: [Function],\n",
       "  withdraw: [Function],\n",
       "  placeHold: [Function],\n",
       "  close: [Function],\n",
       "  removeHold: [Function],\n",
       "  reopen: [Function],\n",
       "  [Symbol(states)]: \n",
       "   { open: \n",
       "      { deposit: [Function: deposit],\n",
       "        withdraw: [Function: withdraw],\n",
       "        placeHold: [Function],\n",
       "        close: [Function] },\n",
       "     held: \n",
       "      { removeHold: [Function],\n",
       "        deposit: [Function: deposit],\n",
       "        close: [Function] },\n",
       "     closed: { reopen: [Function] } },\n",
       "  [Symbol(state)]: \n",
       "   { deposit: [Function: deposit],\n",
       "     withdraw: [Function: withdraw],\n",
       "     placeHold: [Function],\n",
       "     close: [Function] } }"
      ]
     },
     "execution_count": 11,
     "metadata": {},
     "output_type": "execute_result"
    }
   ],
   "source": [
    "STATES = Symbol(\"states\");\n",
    "STARTING_STATE = Symbol(\"starting-state\");\n",
    "\n",
    "function transitionsTo (stateName, fn) {\n",
    "  return function (...args) {\n",
    "    returnValue = fn.apply(this, args);\n",
    "    this[STATE] = this[STATES][stateName];\n",
    "    return returnValue;\n",
    "  };\n",
    "}\n",
    "\n",
    "account = StateMachine({\n",
    "  balance: 0,\n",
    "\n",
    "  [STARTING_STATE]: 'open',\n",
    "  [STATES]: {\n",
    "    open: {\n",
    "      deposit (amount) { this.balance = this.balance + amount; },\n",
    "      withdraw (amount) { this.balance = this.balance - amount; },\n",
    "      placeHold: transitionsTo('held', () => undefined),\n",
    "      close: transitionsTo('closed', function () {\n",
    "        if (this.balance > 0) {\n",
    "          // ...transfer balance to suspension account\n",
    "        }\n",
    "      })\n",
    "    },\n",
    "    held: {\n",
    "      removeHold: transitionsTo('open', () => undefined),\n",
    "      deposit (amount) { this.balance = this.balance + amount; },\n",
    "      close: transitionsTo('closed', function () {\n",
    "        if (this.balance > 0) {\n",
    "          // ...transfer balance to suspension account\n",
    "        }\n",
    "      })\n",
    "    },\n",
    "    closed: {\n",
    "      reopen: transitionsTo('open', function () {\n",
    "        // ...restore balance if applicable\n",
    "      })\n",
    "    }\n",
    "  }\n",
    "});\n"
   ]
  },
  {
   "cell_type": "code",
   "execution_count": 12,
   "metadata": {},
   "outputs": [
    {
     "data": {
      "text/plain": [
       "0"
      ]
     },
     "execution_count": 12,
     "metadata": {},
     "output_type": "execute_result"
    }
   ],
   "source": [
    "account.balance"
   ]
  },
  {
   "cell_type": "code",
   "execution_count": 13,
   "metadata": {},
   "outputs": [],
   "source": [
    "account.close()"
   ]
  },
  {
   "cell_type": "code",
   "execution_count": 17,
   "metadata": {},
   "outputs": [],
   "source": [
    "account.state"
   ]
  },
  {
   "cell_type": "code",
   "execution_count": 15,
   "metadata": {},
   "outputs": [],
   "source": [
    "account.reopen()"
   ]
  },
  {
   "cell_type": "code",
   "execution_count": 16,
   "metadata": {},
   "outputs": [
    {
     "data": {
      "text/plain": [
       "0"
      ]
     },
     "execution_count": 16,
     "metadata": {},
     "output_type": "execute_result"
    }
   ],
   "source": [
    "account.balance"
   ]
  },
  {
   "cell_type": "code",
   "execution_count": null,
   "metadata": {},
   "outputs": [],
   "source": []
  }
 ],
 "metadata": {
  "kernelspec": {
   "display_name": "Javascript (Node.js)",
   "language": "javascript",
   "name": "javascript"
  },
  "language_info": {
   "file_extension": ".js",
   "mimetype": "application/javascript",
   "name": "javascript",
   "version": "8.9.4"
  }
 },
 "nbformat": 4,
 "nbformat_minor": 2
}
