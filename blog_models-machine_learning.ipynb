{
 "cells": [
  {
   "cell_type": "markdown",
   "metadata": {},
   "source": [
    "# Generalizing the Machine Learning Process\n",
    "Date: 2019-05-09  \n",
    "Author: Jason Beach  \n",
    "Categories: Process, DataScience  \n",
    "Tags: machine-learning, best-practice   \n",
    "<!--eofm-->"
   ]
  },
  {
   "cell_type": "markdown",
   "metadata": {},
   "source": [
    "This work describes a general approach to follow when performing machine learning (ML) manually, and when automating in a deployment setting.  Unlike a classical statistical analysis, standard machine learning projects typically follow a general and repeatable process.  While the practictioner should be aware of details for each of the steps and the reasons for choosing them, there is much less design-thinking and checking of assumptions that are necessary components of more mathematical modeling fields.  This makes the machine learning process amenable to deployment as a service because automating the re-training and prediction of a model with consistent data is straight-forward programming."
   ]
  },
  {
   "cell_type": "markdown",
   "metadata": {},
   "source": [
    "## Model Theory\n",
    "\n",
    "Most of the design-thinking in the ML process is in choosing a variety of models for comparing performance against.  The following three characteristics succinctly describe a ML model.  See [here]( {{< ref \"/posts/blog_page-todo.md\" >}}) for more explanation.\n",
    "\n",
    "1. Representation: structural model characteristics\n",
    "    - name\n",
    "    - family\n",
    "    - interpretability\n",
    "    - type \n",
    "        + generative / discriminative \n",
    "        + bias / var\n",
    "        + fixed- / variable- learner\n",
    "2. Evaluation: functions applied to the structure\n",
    "    - objective\n",
    "    - cost\n",
    "    - loss\n",
    "3. Optimization: algorithms necessary to solve for parameters\n",
    "\n",
    "It is also important to understand how the chosen model effects the modeling process\n",
    "\n",
    "- assumptions inherent in representation\n",
    "- alignment of loss function with project goals\n",
    "- sources of bias / variance\n",
    "- determination of resource constraints\n",
    "- enumeration of how over-tuning can occur (regularization)\n",
    "- understanding when manual methods are ineffective 'fiddling' of model implementation parameters\n",
    "- statement of strong false assumptions can be better than weak true ones, because they need more data\n",
    "\n",
    "_Note:_ This should be considered carefully with feature engineering and feature selection to ensure the input transformations align with the model."
   ]
  },
  {
   "cell_type": "markdown",
   "metadata": {},
   "source": [
    "## The Machine Learning Process\n",
    "\n",
    "The following are the general steps taken in the ML Process.  They are similar to many other problem-solving processes, but tailored to ML specifics.  There are a few steps where care should be taken to ensure the process is reasonable.  These are more design-oriented and some research may be necessary depending on the scenario.  \n",
    "\n",
    "The practicioner must ensure he is maintaining honesty with the investigation.  One important check is laying-out proper evaluation methods, before implementing them.  This is similar to classical statistics in choosing an accepatable p-value before running the model.  They include selecting evaluation scores and how they should be evaluated.  Another check is on model resource and time requirements.  More sophisticated models need more memory to implement and take a longer time to run.  These are highly dependent on the environment they are deployed to.  These should be determined with the customer, at the beginning.  To learn more read, [here]( {{< ref \"/posts/blog_page-todo.md\" >}}) for more. \n",
    "\n",
    "The categories to be predicted on, and the percent of records used for each in training, is a very important subject.  If your target data is of a much lower percentage amount than the rest (needle-in-haystack / imbalanced data problem), then it should be addressed before separating training and testing data.  The most orthodox and direct way to deal with this problem is to simply resample from the target records, with replacement, for enough times to reach 50% of your data.  However, this is an important area of research and some time should be taken before moving forward in the process.  For more information on imbalanced data, check [here]( {{< ref \"/posts/blog_page-todo.md\" >}}).\n",
    "\n",
    "While classical statistics places a strong emphasis on model exploration and ensuring assumptions are met, this is less important in ML.  Instead, much more time should be focused on the features used in the model.  This is mainly in the form of Feature Engineering, which can include several different methodologies, such as Feature Extraction, Feature Selection / Dimensionality Reduction, and Feature Engineering.  Read more about this, [here]( {{< ref \"/posts/blog_page-todo.md\" >}}).  \n",
    "\n",
    "_Discover_\n",
    "\n",
    "* determine problem and constraints\n",
    "* determine characteristics the problem / scenario dictates on the solution\n",
    "    - model family\n",
    "    - acceptable methods of dimensionality reduction and regularization\n",
    "    - deployment environment\n",
    "* decide evaluation\n",
    "    - primary / secondary evaluation score (ie. accuracy)\n",
    "    - methods of evaluation (ie. confusion matrix, roc)\n",
    "\n",
    "\n",
    "_Collect and Transform_\n",
    "\n",
    "* obtain raw data \n",
    "    - internal data warehouses\n",
    "    - external APIs and services\n",
    "* integration and cleaning\t\n",
    "* filter, aggregate, and query\n",
    "\n",
    "\n",
    "_Summary and Process_\n",
    "\n",
    "* exploration\n",
    "* preparation\n",
    "     - address balance (classification, anova, etc.)\n",
    "     - create Train, Validate, Test with split (above)\n",
    "* configure Feature Extraction with feature_union\n",
    "* configure Preprocess and choose model-families with pipeline\n",
    "\n",
    "\n",
    "_Build_\n",
    "\n",
    "* train the models\n",
    "    - apply k-folds CV and grid search with Training set\n",
    "    - perform on multiple model-families and hyper-parameters\n",
    "* evaluate models\n",
    "    - review afore-mentioned confusion matrix, scoring, classifier-threshold, and tests\n",
    "    - select the best model-family / hyper-parameters\n",
    "    - apply to Validation set or all of Training set to model-family to parameterize it and set as the final model\n",
    "* refine performance\n",
    "    - debug performance with learning curve, lift chart\n",
    "    - use Testing set to evaluate final model characteristics\n",
    "    - export to binary file\n",
    "\n",
    "\n",
    "_Deliver_\n",
    "\n",
    "* select solution\n",
    "    - design interface most appropriate for using the model\n",
    "    - automate data integration and pipelines\n",
    "    - implement model in deployable environment\n",
    "* deploy solution within system environments\n",
    "\n",
    "\n",
    "_Note:_ Train, Validate, and Test should be from different (independent) data sets, if possible."
   ]
  },
  {
   "cell_type": "markdown",
   "metadata": {},
   "source": [
    "## Stakeholder Interaction and Timeline\n",
    "\n",
    "It is useful to display these in relation to interactions that must take place with stakeholders.  These may be business users who need a problem solved, or technology departments that will have to support applications that implement the solution.  The y-axis show stage proximity to these stakeholders.\n",
    "\n",
    "While every project is different, most stages use a similar proportion of time.  The horizontal axis lays-out the timeline."
   ]
  },
  {
   "cell_type": "markdown",
   "metadata": {},
   "source": [
    "![machine learning process](images/ml_process.png)"
   ]
  },
  {
   "cell_type": "markdown",
   "metadata": {},
   "source": [
    "## Demonstation\n",
    "\n",
    "The following code demonstrates the programming portions of these stages and steps using a toy example on a simulated diverse dataset of both numeric and categorical data.  It separates the columns and uses transform pipelines to perform different dimensionality reduction techniques.[^1] This does display the important steps that must be taken with stakeholders. "
   ]
  },
  {
   "cell_type": "markdown",
   "metadata": {},
   "source": [
    "### Configuration"
   ]
  },
  {
   "cell_type": "markdown",
   "metadata": {},
   "source": [
    "Notebook configurations for the kernel and display output."
   ]
  },
  {
   "cell_type": "code",
   "execution_count": 193,
   "metadata": {},
   "outputs": [],
   "source": [
    "import warnings\n",
    "warnings.filterwarnings('ignore')\n",
    "\n",
    "pd.set_option('display.max_rows', 10)\n",
    "\n",
    "%matplotlib inline"
   ]
  },
  {
   "cell_type": "markdown",
   "metadata": {},
   "source": [
    "Provide for utility functions."
   ]
  },
  {
   "cell_type": "code",
   "execution_count": 194,
   "metadata": {},
   "outputs": [],
   "source": [
    "import random\n",
    "import string\n",
    "\n",
    "def randomString(stringLength=10):\n",
    "    \"\"\"Generate a random string of fixed length \"\"\"\n",
    "    letters = string.ascii_lowercase\n",
    "    return ''.join(random.choice(letters) for i in range(stringLength))"
   ]
  },
  {
   "cell_type": "markdown",
   "metadata": {},
   "source": [
    "While importing modules, try to organize them in the order they are used, and by their parent library."
   ]
  },
  {
   "cell_type": "code",
   "execution_count": 195,
   "metadata": {},
   "outputs": [],
   "source": [
    "#modules\n",
    "import pandas as pd\n",
    "import numpy as np\n",
    "\n",
    "from sklearn.preprocessing import LabelEncoder\n",
    "from sklearn.preprocessing import OneHotEncoder\n",
    "\n",
    "from sklearn.impute import SimpleImputer\n",
    "from sklearn.preprocessing import StandardScaler\n",
    "\n",
    "from sklearn.compose import ColumnTransformer\n",
    "from sklearn.pipeline import Pipeline\n",
    "from sklearn.pipeline import FeatureUnion\n",
    "\n",
    "from sklearn.feature_selection import SelectKBest\n",
    "from sklearn.decomposition import PCA\n",
    "\n",
    "from sklearn.linear_model import LogisticRegression\n",
    "\n",
    "from sklearn.model_selection import train_test_split\n",
    "from sklearn.model_selection import KFold\n",
    "from sklearn.model_selection import cross_val_score\n",
    "from sklearn.model_selection import GridSearchCV\n",
    "from sklearn.model_selection import learning_curve"
   ]
  },
  {
   "cell_type": "markdown",
   "metadata": {},
   "source": [
    "### Collect and transform"
   ]
  },
  {
   "cell_type": "markdown",
   "metadata": {},
   "source": [
    "Bring internal and external data, together, for a combined and succinct dataset.  Here, we are simulating both categorical and numeric data for the same dataset."
   ]
  },
  {
   "cell_type": "code",
   "execution_count": 195,
   "metadata": {},
   "outputs": [],
   "source": [
    "#make data (both numeric and categorical)\n",
    "iCOLUMNS = 50\n",
    "iROWS = 1000\n",
    "#generate classification dataset\n",
    "from sklearn.datasets.samples_generator import make_blobs\n",
    "X_cat, Y_cat = make_blobs(n_samples=iROWS, centers=2, n_features=iCOLUMNS, random_state=1)\n",
    "categories = [randomString(5) for x in range(5)]\n",
    "cols = [random.choices(categories, k=iCOLUMNS) for _ in range(iROWS)]\n",
    "X_cat = np.array(cols)\n",
    "\n",
    "\n",
    "#generate regression dataset\n",
    "from sklearn.datasets.samples_generator import make_regression\n",
    "X_num, not_used = make_regression(n_samples=iROWS, n_features=iCOLUMNS, noise=0.1, random_state=1)"
   ]
  },
  {
   "cell_type": "markdown",
   "metadata": {},
   "source": [
    "Your processing is simplified when most of your work is within a dataframe."
   ]
  },
  {
   "cell_type": "code",
   "execution_count": 196,
   "metadata": {},
   "outputs": [],
   "source": [
    "#set in dataframe\n",
    "dfX_cat = pd.DataFrame(X_cat, columns=['IndepCat-'+str(x) for x in range(iCOLUMNS)] )\n",
    "dfX_num = pd.DataFrame(X_num, columns=['IndepNum-'+str(x) for x in range(iCOLUMNS)])\n",
    "dfY_cat = pd.DataFrame(Y_cat, columns=[\"Dep\"])\n",
    "dfData = pd.concat([dfY_cat, dfX_cat, dfX_num], axis=1)"
   ]
  },
  {
   "cell_type": "markdown",
   "metadata": {},
   "source": [
    "### Summary and process"
   ]
  },
  {
   "cell_type": "markdown",
   "metadata": {},
   "source": [
    "Encode your data with transformations in an appropriate order.  Remember that some transformations, such as scaling, should be performed after separation of testing and training datasets because you will be dividing all records by the maximum value, within the dataset.  In model implementation, you would not see the maximum value of your original testing dataset; rather, you would use the current dataset."
   ]
  },
  {
   "cell_type": "code",
   "execution_count": 198,
   "metadata": {},
   "outputs": [
    {
     "name": "stdout",
     "output_type": "stream",
     "text": [
      "Training records: 800\n",
      "Testing records: 200\n"
     ]
    }
   ],
   "source": [
    "#separate\n",
    "X = dfData.drop('Dep', axis=1)\n",
    "y = dfData['Dep']\n",
    "\n",
    "#encode y and create datasets\n",
    "enc = LabelEncoder()\n",
    "y_set = enc.fit_transform(y)\n",
    "X_train, X_test, y_train, y_test = train_test_split(X, y_set, test_size=0.2)\n",
    "\n",
    "print( \"Training records: %s\"%(X_train.shape[0]) )\n",
    "print( \"Testing records: %s\"%(X_test.shape[0]) )"
   ]
  },
  {
   "cell_type": "markdown",
   "metadata": {},
   "source": [
    "Here, you perform scaling, imputation, Principal Component Analysis (PCA), and other transformations whose arguments are dependent upon the same dataset.\n",
    "\n",
    "Also, the transformation pipelines should be divided into numeric and categoric because some transformations, such as PCA, are inappropriate for categoric data.  Instead use methods, such as _Select K Best_, for dimensionality reduction.\n",
    "\n",
    "Working with pipelines can be unwieldly at some times.  For a reference of pipelines, see [sklearn docs](https://scikit-learn.org/stable/modules/compose.html#pipelines-and-composite-estimators)."
   ]
  },
  {
   "cell_type": "code",
   "execution_count": 199,
   "metadata": {},
   "outputs": [],
   "source": [
    "#create feature union of numeric data\n",
    "features = []\n",
    "features.append(('pca', PCA()))                    #<<<GRID\n",
    "features.append(('select_best', SelectKBest()))    #<<<GRID\n",
    "num_feature_eng = FeatureUnion(features)\n",
    "\n",
    "#create the preprocessing pipelines for both numeric and categorical data\n",
    "numeric_features = [x for x in X_train.columns if x.split('-')[0]=='IndepNum' ]\n",
    "numeric_transformer = Pipeline(steps=[\n",
    "    ('imputer', SimpleImputer(strategy='median')),\n",
    "    ('scaler', StandardScaler()),\n",
    "    ('num_feature_eng', num_feature_eng)\n",
    "])\n",
    "\n",
    "categorical_features =  [x for x in X_train.columns if x.split('-')[0]=='IndepCat' ]\n",
    "categorical_transformer = Pipeline(steps=[\n",
    "    ('imputer', SimpleImputer(strategy='constant', fill_value='missing')),\n",
    "    ('onehot', OneHotEncoder(handle_unknown='ignore')),\n",
    "    ('select_best', SelectKBest(k=6))\n",
    "])\n",
    "\n",
    "preprocessor = ColumnTransformer(\n",
    "    transformers=[\n",
    "        ('num', numeric_transformer, numeric_features),\n",
    "        ('cat', categorical_transformer, categorical_features)])\n",
    "\n",
    "#append classifier to preprocessing pipeline\n",
    "#full prediction pipeline\n",
    "clf = Pipeline(steps=[('preprocessor', preprocessor),\n",
    "                      ('classifier', LogisticRegression(solver='lbfgs'))])"
   ]
  },
  {
   "cell_type": "markdown",
   "metadata": {},
   "source": [
    "Optimize your hyper-parameters in a grid search.  You may have to get output for all the pipeline keys to find their names because the notation can become quite lenthy based on the amount of nesting, such as this pipeline displays."
   ]
  },
  {
   "cell_type": "code",
   "execution_count": 200,
   "metadata": {},
   "outputs": [],
   "source": [
    "param_grid = {\n",
    "    'preprocessor__num__imputer__strategy': ['mean', 'median'],\n",
    "    'classifier__C': [0.1, 1.0, 10, 100],\n",
    "    'preprocessor__num__num_feature_eng__pca__n_components': [.75, .80, .85, .90, .95],\n",
    "    'preprocessor__num__num_feature_eng__select_best__k': [5, 7, 9, 11]\n",
    "}\n",
    "gridClf = GridSearchCV(clf, param_grid, cv=5)"
   ]
  },
  {
   "cell_type": "markdown",
   "metadata": {},
   "source": [
    "### Build"
   ]
  },
  {
   "cell_type": "markdown",
   "metadata": {},
   "source": [
    "Build your model through optimizing values over the grid.  This is usually based on stochastic gradient descent, or some other iterative routine.  Convergence may be time-consuming depending on the model you've chosen and the number of parameters and hyper-parameters that must be selected.  NaiveBayes methods can be some of the most costly.  Run more balanced models, first, to get an idea of the parameter space, before trying more costly approaches.  "
   ]
  },
  {
   "cell_type": "code",
   "execution_count": 201,
   "metadata": {},
   "outputs": [
    {
     "data": {
      "text/plain": [
       "GridSearchCV(cv=5, error_score='raise-deprecating',\n",
       "       estimator=Pipeline(memory=None,\n",
       "     steps=[('preprocessor', ColumnTransformer(n_jobs=None, remainder='drop', sparse_threshold=0.3,\n",
       "         transformer_weights=None,\n",
       "         transformers=[('num', Pipeline(memory=None,\n",
       "     steps=[('imputer', SimpleImputer(copy=True, fill_value=None, missing_values=nan,\n",
       "       strategy='median', verbo...enalty='l2', random_state=None, solver='lbfgs',\n",
       "          tol=0.0001, verbose=0, warm_start=False))]),\n",
       "       fit_params=None, iid='warn', n_jobs=None,\n",
       "       param_grid={'preprocessor__num__imputer__strategy': ['mean', 'median'], 'classifier__C': [0.1, 1.0, 10, 100], 'preprocessor__num__num_feature_eng__pca__n_components': [0.75, 0.8, 0.85, 0.9, 0.95], 'preprocessor__num__num_feature_eng__select_best__k': [5, 7, 9, 11]},\n",
       "       pre_dispatch='2*n_jobs', refit=True, return_train_score='warn',\n",
       "       scoring=None, verbose=0)"
      ]
     },
     "execution_count": 201,
     "metadata": {},
     "output_type": "execute_result"
    }
   ],
   "source": [
    "gridClf.fit(X_train, y_train)"
   ]
  },
  {
   "cell_type": "markdown",
   "metadata": {},
   "source": [
    "Take the _best_ model with parameters / hyper-parameters from highest grid-search, cross-validation, and apply it to the test data.  This data is simulated and you should be able to perform better than a coin-flip (50%)."
   ]
  },
  {
   "cell_type": "code",
   "execution_count": 202,
   "metadata": {},
   "outputs": [
    {
     "name": "stdout",
     "output_type": "stream",
     "text": [
      "best logistic regression from grid search: 0.515\n"
     ]
    }
   ],
   "source": [
    "print((\"best logistic regression from grid search: %.3f\"\n",
    "       % gridClf.score(X_test, y_test)))"
   ]
  },
  {
   "cell_type": "markdown",
   "metadata": {},
   "source": [
    "Get an idea of the results and parameter space.  Extreme values may indicate over-fitting or some other anomaly is occuring."
   ]
  },
  {
   "cell_type": "code",
   "execution_count": 219,
   "metadata": {},
   "outputs": [
    {
     "name": "stdout",
     "output_type": "stream",
     "text": [
      "Best Score: (CV score=0.484)\n",
      "\n",
      "\n",
      "Best Parameters\n",
      " {'classifier__C': 10, 'preprocessor__num__imputer__strategy': 'mean', 'preprocessor__num__num_feature_eng__pca__n_components': 0.9, 'preprocessor__num__num_feature_eng__select_best__k': 5}\n",
      "\n",
      "\n",
      "Best Estimator\n",
      " Pipeline(memory=None,\n",
      "     steps=[('preprocessor', ColumnTransformer(n_jobs=None, remainder='drop', sparse_threshold=0.3,\n",
      "         transformer_weights=None,\n",
      "         transformers=[('num', Pipeline(memory=None,\n",
      "     steps=[('imputer', SimpleImputer(copy=True, fill_value=None, missing_values=nan, strategy='mean',\n",
      "       verbose...enalty='l2', random_state=None, solver='lbfgs',\n",
      "          tol=0.0001, verbose=0, warm_start=False))])\n"
     ]
    }
   ],
   "source": [
    "# Cross Validation\n",
    "#GridSearchCV: Mean cross-validated score of the best_estimator\n",
    "#SGDClassifier: Returns the mean accuracy on the given test data and labels\n",
    "print(\"Best Score: (CV score=%0.3f)\" % gridClf.best_score_)\n",
    "print(\"\\n\")\n",
    "print(\"Best Parameters\\n %s\" % gridClf.best_params_ )\n",
    "print(\"\\n\")\n",
    "print(\"Best Estimator\\n %s\" %  gridClf.best_estimator_ )"
   ]
  },
  {
   "cell_type": "markdown",
   "metadata": {},
   "source": [
    "A confusion matrix is your basic display of results.  This is for your training data."
   ]
  },
  {
   "cell_type": "code",
   "execution_count": 221,
   "metadata": {},
   "outputs": [
    {
     "name": "stdout",
     "output_type": "stream",
     "text": [
      "Confusion matrix: Training\n"
     ]
    },
    {
     "data": {
      "text/plain": [
       "array([[255, 149],\n",
       "       [146, 250]])"
      ]
     },
     "execution_count": 221,
     "metadata": {},
     "output_type": "execute_result"
    }
   ],
   "source": [
    "# Confusion Matrix\n",
    "from sklearn.metrics import confusion_matrix\n",
    "y_train_pred = gridClf.predict(X_train)\n",
    "print( \"Confusion matrix: Training\")\n",
    "confusion_matrix(y_train, y_train_pred)"
   ]
  },
  {
   "cell_type": "markdown",
   "metadata": {},
   "source": [
    "This confusion matrix is for your test data."
   ]
  },
  {
   "cell_type": "code",
   "execution_count": 222,
   "metadata": {},
   "outputs": [
    {
     "name": "stdout",
     "output_type": "stream",
     "text": [
      "Confusion matrix: Testing\n"
     ]
    },
    {
     "data": {
      "text/plain": [
       "array([[51, 45],\n",
       "       [52, 52]])"
      ]
     },
     "execution_count": 222,
     "metadata": {},
     "output_type": "execute_result"
    }
   ],
   "source": [
    "y_pred = gridClf.predict(X_test)\n",
    "print( \"Confusion matrix: Testing\")\n",
    "confusion_matrix(y_test, y_pred)"
   ]
  },
  {
   "cell_type": "markdown",
   "metadata": {},
   "source": [
    "After getting a general feel for the situation, look at the specific performance metrics you set, at the beginning of your problem statement.  Ensure you hold yourself to this standard and do not change the solutions' needs based on current results.  For a complete listing of performance metrics, view the [sklearn docs](https://scikit-learn.org/stable/modules/model_evaluation.html#model-evaluation-quantifying-the-quality-of-predictions)."
   ]
  },
  {
   "cell_type": "code",
   "execution_count": 223,
   "metadata": {},
   "outputs": [
    {
     "name": "stdout",
     "output_type": "stream",
     "text": [
      "Average training probability: 0.484\n",
      "Area Under ROC Curve: 0.492\n"
     ]
    }
   ],
   "source": [
    "# Testing\n",
    "\n",
    "#predictions for outcome labels\n",
    "#Predict class probabilities for X.  The predicted class probabilities of an input sample are computed as the mean predicted\n",
    "#class probabilities of the trees in the forest. The class probability of a single tree is the fraction of samples of the same\n",
    "#class in a leaf.\n",
    "y_class_prob = gridClf.predict_proba(X_test)                # called   predict_proba(), for some classifiers\n",
    "y_prob = np.asarray( [x[1] for x in y_class_prob], dtype=np.float32)\n",
    "threshold = 0                                               # set threshold\n",
    "y_some_digit_pred = (y_prob > threshold)\n",
    "print( \"Average training probability: %0.3f\" % np.mean(y_prob) )\n",
    "\n",
    "#roc auc\n",
    "from sklearn.metrics import roc_auc_score\n",
    "print( \"Area Under ROC Curve: %0.3f\" % roc_auc_score(y_test, y_prob) )"
   ]
  },
  {
   "cell_type": "markdown",
   "metadata": {},
   "source": [
    "A variety of different plots can be used to explore model and result performance.  The ROC Curve is one of the most fundamental, but several others are of importance.  Performance graphs are explained in the [sklearn docs](https://scikit-learn.org/stable/modules/learning_curve.html#validation-curves-plotting-scores-to-evaluate-models). "
   ]
  },
  {
   "cell_type": "code",
   "execution_count": 234,
   "metadata": {},
   "outputs": [
    {
     "data": {
      "image/png": "[encoded data removed]",
      "text/plain": [
       "<Figure size 432x288 with 1 Axes>"
      ]
     },
     "metadata": {
      "needs_background": "light"
     },
     "output_type": "display_data"
    }
   ],
   "source": [
    "log_y_prob = gridClf.decision_function(X_test) \n",
    "\n",
    "from sklearn import metrics\n",
    "import numpy as np\n",
    "import matplotlib.pyplot as plt\n",
    "\n",
    "#plt.figure(0).clf()\n",
    "\n",
    "#LogisticRegression  \n",
    "y_prob = log_y_prob\n",
    "fpr, tpr, thresh = metrics.roc_curve(y_test, y_prob)\n",
    "auc = metrics.roc_auc_score(y_test, y_prob)\n",
    "plt.plot(fpr,tpr,label=\"logistic reg, auc=\"+str(auc))\n",
    "\n",
    "\n",
    "plt.xlabel('False Positive Rate')\n",
    "plt.ylabel('True Positive Rate')\n",
    "plt.title('Receiver operating characteristic')\n",
    "plt.legend(loc=0)\n",
    "plt.show()"
   ]
  },
  {
   "cell_type": "markdown",
   "metadata": {},
   "source": [
    "### Deliver"
   ]
  },
  {
   "cell_type": "markdown",
   "metadata": {},
   "source": [
    "Save the model for future use, especially if you just spent a large amount of time getting the algorithm to converge."
   ]
  },
  {
   "cell_type": "code",
   "execution_count": null,
   "metadata": {},
   "outputs": [],
   "source": [
    "from sklearn.externals import joblib\n",
    "import os\n",
    "\n",
    "cwd = os.getcwd()\n",
    "file_path = cwd+'/Data/project/Models/'\n",
    "\n",
    "#save the model to disk\n",
    "filename = file_path+'finalized_model.sav'\n",
    "joblib.dump(gridClf, filename)"
   ]
  },
  {
   "cell_type": "markdown",
   "metadata": {},
   "source": [
    "Implement the model within the necessary solution system."
   ]
  },
  {
   "cell_type": "code",
   "execution_count": null,
   "metadata": {},
   "outputs": [],
   "source": [
    "#in deployment application...\n",
    "#load the model from disk\n",
    "loaded_model = joblib.load(filename)\n",
    "result = loaded_model.score(X_test, Y_test)\n",
    "print(result)"
   ]
  },
  {
   "cell_type": "markdown",
   "metadata": {},
   "source": [
    "## Conclusion\n",
    "\n",
    "In this work, we provide an orthodox approach to the ML Process.  We list the stages involved and the steps for each, and align these with more traditional modeling and analysis processes.  Demo code runs through the basic ideas.  This code can be modified in order to automate processing in a separate environment, such as a deployed service.  The complete process can be generalized to many situations."
   ]
  },
  {
   "cell_type": "markdown",
   "metadata": {},
   "source": [
    "[^1]: [Column Transformer with Mixed Types](https://scikit-learn.org/stable/auto_examples/compose/plot_column_transformer_mixed_types.html#sphx-glr-auto-examples-compose-plot-column-transformer-mixed-types-py)"
   ]
  }
 ],
 "metadata": {
  "kernelspec": {
   "display_name": "Python 3",
   "language": "python",
   "name": "python3"
  },
  "language_info": {
   "codemirror_mode": {
    "name": "ipython",
    "version": 3
   },
   "file_extension": ".py",
   "mimetype": "text/x-python",
   "name": "python",
   "nbconvert_exporter": "python",
   "pygments_lexer": "ipython3",
   "version": "3.7.3"
  },
  "toc": {
   "base_numbering": 1,
   "nav_menu": {},
   "number_sections": false,
   "sideBar": false,
   "skip_h1_title": false,
   "title_cell": "Table of Contents",
   "title_sidebar": "Contents",
   "toc_cell": false,
   "toc_position": {},
   "toc_section_display": false,
   "toc_window_display": false
  }
 },
 "nbformat": 4,
 "nbformat_minor": 2
}
