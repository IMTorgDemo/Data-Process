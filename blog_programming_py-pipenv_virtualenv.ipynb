{
 "cells": [
  {
   "cell_type": "markdown",
   "metadata": {},
   "source": [
    "# A Cheatsheet for Python's Pipenv\n",
    "Date: 2020-03-29  \n",
    "Author: Jason Beach  \n",
    "Categories: Cheatsheet, Computer_Science_and_Programming  \n",
    "Tags: python, pipenv, virtual_environment  \n",
    "<!--eofm-->"
   ]
  },
  {
   "cell_type": "markdown",
   "metadata": {},
   "source": [
    "Python's Pipenv and Pyenv make a strong team for creating a consistent development environment for exact specifications.  Pyenv allows you to choose from any Python version for your project.  Pipenv attempts to improve upon the original virtual environment (venv) and requirements.txt file.  It does some things well, including integration of virtual environment with dependecy management, and is straight-forward to use.  Unfortunately, it doesn't always live up to the originally-planned, ambitious, goals.  This cheatsheet provides commands for functionality that works, and some work-arounds when it doesn't."
   ]
  },
  {
   "cell_type": "markdown",
   "metadata": {},
   "source": [
    "## Getting Started\n",
    "\n",
    "__Pyenv__ takes care of the python binary and all related tools. It stores everything under `$PYENV_ROOT`.\n",
    "\n",
    "__Pipenv__ takes care of:\n",
    "\n",
    "* calculating the complete set of dependencies;\n",
    "* (in installation mode) telling virtualenv and pip where to install the dependencies;\n",
    "* (in runtime mode) making available an environment with the right version of the Python interpreter (via pyenv) and the right set of packages (via virtualenv).\n",
    "\n",
    "_Note: Pipenv can interact with `setup.py`, but it is easy to confuse Pipenv functionality with that for package distribution and installation.  The two are separate, and packaging is out of scope for Pipenv._"
   ]
  },
  {
   "cell_type": "markdown",
   "metadata": {},
   "source": [
    "Pipenv creates a directory that maintains your dependencies.  From the repo listed functionality, it has interesting interaction with existing technology:\n",
    "\n",
    "* Enables truly deterministic builds, while easily specifying only what you want.\n",
    "* Generates and checks file hashes for locked dependencies.\n",
    "* Automatically install required Pythons, if pyenv is available.\n",
    "* Automatically finds your project home, recursively, by looking for a Pipfile.\n",
    "* Automatically generates a Pipfile, if one doesn't exist.\n",
    "* Automatically creates a virtualenv in a standard location.\n",
    "* Automatically adds/removes packages to a Pipfile when they are un/installed.\n",
    "* Automatically loads `.env` files, if they exist.\n",
    "\n",
    "You may hear some harping over non-deterministic builds.  This is because Python's requirement.txt file does not dependency resolution of required modules, sub-dependency resolution (at least not well).  This can cause big problems during automated deployments.\n",
    "\n",
    "Pipenv solves these problems with Pipfile (which is meant to replace requirements.txt) and the Pipfile.lock (which enables deterministic builds).  Pipenv uses pip and virtualenv under the hood but simplifies their usage with a single command line interface."
   ]
  },
  {
   "cell_type": "markdown",
   "metadata": {},
   "source": [
    "## Prepare Python\n",
    "\n",
    "Pyenv is about ensuring your have the correct python interpreter.  This is similar to Node Version Manager (NVM) for Javascript."
   ]
  },
  {
   "cell_type": "markdown",
   "metadata": {},
   "source": [
    "### Install pyenv"
   ]
  },
  {
   "cell_type": "code",
   "execution_count": null,
   "metadata": {},
   "outputs": [],
   "source": [
    "brew uninstall pyenv"
   ]
  },
  {
   "cell_type": "markdown",
   "metadata": {},
   "source": [
    "### Install Python version"
   ]
  },
  {
   "cell_type": "code",
   "execution_count": null,
   "metadata": {},
   "outputs": [],
   "source": [
    "pyenv install <version>    #such as, 3.7.2"
   ]
  },
  {
   "cell_type": "markdown",
   "metadata": {},
   "source": [
    "### Available versions"
   ]
  },
  {
   "cell_type": "code",
   "execution_count": null,
   "metadata": {},
   "outputs": [],
   "source": [
    "pyenv install --list"
   ]
  },
  {
   "cell_type": "markdown",
   "metadata": {},
   "source": [
    "### Change global / local (dir) versions"
   ]
  },
  {
   "cell_type": "code",
   "execution_count": null,
   "metadata": {},
   "outputs": [],
   "source": [
    "pyenv global <version>   #such as, 3.6.6"
   ]
  },
  {
   "cell_type": "code",
   "execution_count": null,
   "metadata": {},
   "outputs": [],
   "source": [
    "pyenv local <version>   #such as, 3.6.6"
   ]
  },
  {
   "cell_type": "markdown",
   "metadata": {},
   "source": [
    "## Prepare Development Environment\n",
    "\n",
    "Pipenv creates all your virtual environments in a default location. If you want to change Pipenv’s default behavior, there are some [environmental variables for configuration](https://docs.pipenv.org/advanced/#configuration-with-environment-variables)."
   ]
  },
  {
   "cell_type": "markdown",
   "metadata": {},
   "source": [
    "### Install pipenv"
   ]
  },
  {
   "cell_type": "code",
   "execution_count": null,
   "metadata": {},
   "outputs": [],
   "source": [
    "pip3 install pipenv"
   ]
  },
  {
   "cell_type": "markdown",
   "metadata": {},
   "source": [
    "### Initiate directory"
   ]
  },
  {
   "cell_type": "code",
   "execution_count": null,
   "metadata": {},
   "outputs": [],
   "source": [
    "mkdir project; cd project;\n",
    "pipenv --three   #or --two"
   ]
  },
  {
   "cell_type": "markdown",
   "metadata": {},
   "source": [
    "### Develop from existing repo\n",
    "\n",
    "When an exact version isn’t specified in the Pipfile, the install command gives the opportunity for dependencies (and sub-dependencies) to update their versions."
   ]
  },
  {
   "cell_type": "code",
   "execution_count": null,
   "metadata": {},
   "outputs": [],
   "source": [
    "pipenv install --dev"
   ]
  },
  {
   "cell_type": "markdown",
   "metadata": {},
   "source": [
    "### Activate"
   ]
  },
  {
   "cell_type": "code",
   "execution_count": null,
   "metadata": {},
   "outputs": [],
   "source": [
    "pipenv shell"
   ]
  },
  {
   "cell_type": "markdown",
   "metadata": {},
   "source": [
    "### Locate Virtualenv"
   ]
  },
  {
   "cell_type": "code",
   "execution_count": null,
   "metadata": {},
   "outputs": [],
   "source": [
    "pipenv --where          #output project home information."
   ]
  },
  {
   "cell_type": "code",
   "execution_count": null,
   "metadata": {},
   "outputs": [],
   "source": [
    "pipenv --venv           #output virtualenv information."
   ]
  },
  {
   "cell_type": "code",
   "execution_count": null,
   "metadata": {},
   "outputs": [],
   "source": [
    "whereis python"
   ]
  },
  {
   "cell_type": "markdown",
   "metadata": {},
   "source": [
    "### Check python version"
   ]
  },
  {
   "cell_type": "code",
   "execution_count": null,
   "metadata": {},
   "outputs": [],
   "source": [
    "python --version"
   ]
  },
  {
   "cell_type": "markdown",
   "metadata": {},
   "source": [
    "### Check path"
   ]
  },
  {
   "cell_type": "code",
   "execution_count": null,
   "metadata": {},
   "outputs": [],
   "source": [
    "python\n",
    ">>> import sys\n",
    ">>> sys.executable\n",
    "quit()"
   ]
  },
  {
   "cell_type": "markdown",
   "metadata": {},
   "source": [
    "### Run with pipenv"
   ]
  },
  {
   "cell_type": "code",
   "execution_count": null,
   "metadata": {},
   "outputs": [],
   "source": [
    "pipenv run <command>    #such as, `python manage.py runserver`"
   ]
  },
  {
   "cell_type": "markdown",
   "metadata": {},
   "source": [
    "### Add scripts to Pipfile\n",
    "\n",
    "```\n",
    "#Pipfile\n",
    "[scripts]\n",
    "server = \"python manage.py runserver\"\n",
    "```\n",
    "\n",
    "And run with the following"
   ]
  },
  {
   "cell_type": "code",
   "execution_count": null,
   "metadata": {},
   "outputs": [],
   "source": [
    "pipenv run server"
   ]
  },
  {
   "cell_type": "markdown",
   "metadata": {},
   "source": [
    "## Managing Dependencies\n",
    "\n",
    "Pipenv generates the file Pipfile.lock, which is used to produce deterministic builds.  Issues can occur with Pipfile.lock, so it is sometimes prudent to create a requirements.txt file from your Pipenv, as a backup.\n",
    "\n",
    "You specify the locations similarly to how you’d do so with pip. For example, to install the requests library from version control, do the following.  Note the -e argument above to make the installation editable, this is required for Pipenv to do sub-dependency resolution.\n",
    "\n",
    "### Install from VCS"
   ]
  },
  {
   "cell_type": "code",
   "execution_count": null,
   "metadata": {},
   "outputs": [],
   "source": [
    "pipenv install -e git+https://github.com/requests/requests.git#egg=requests"
   ]
  },
  {
   "cell_type": "markdown",
   "metadata": {},
   "source": [
    "### Install from requirements.txt"
   ]
  },
  {
   "cell_type": "code",
   "execution_count": null,
   "metadata": {},
   "outputs": [],
   "source": [
    "pipenv install -r ./requirements.txt"
   ]
  },
  {
   "cell_type": "markdown",
   "metadata": {},
   "source": [
    "### Check local packages"
   ]
  },
  {
   "cell_type": "code",
   "execution_count": null,
   "metadata": {},
   "outputs": [],
   "source": [
    "pipenv lock -r"
   ]
  },
  {
   "cell_type": "markdown",
   "metadata": {},
   "source": [
    "### Create requirements.txt\n",
    "\n",
    "You may want to generate requirements.txt file from existing Pipfile.lock without locking.  When you run `pipenv lock -r` it ignores existing Pipfile.lock and does locking process again.   There are issues around running this that are documented in this github [issue](https://github.com/pypa/pipenv/issues/3493)."
   ]
  },
  {
   "cell_type": "code",
   "execution_count": null,
   "metadata": {},
   "outputs": [],
   "source": [
    "pipenv run pip freeze > requirements.txt"
   ]
  },
  {
   "cell_type": "markdown",
   "metadata": {},
   "source": [
    "Another approach is to use:"
   ]
  },
  {
   "cell_type": "code",
   "execution_count": null,
   "metadata": {},
   "outputs": [],
   "source": [
    "pipenv lock --keep-outdated -d -r > requirements.txt"
   ]
  },
  {
   "cell_type": "markdown",
   "metadata": {},
   "source": [
    "### Install and uninstall a package"
   ]
  },
  {
   "cell_type": "code",
   "execution_count": null,
   "metadata": {},
   "outputs": [],
   "source": [
    "pipenv install <module>    #such as, camelcase"
   ]
  },
  {
   "cell_type": "code",
   "execution_count": null,
   "metadata": {},
   "outputs": [],
   "source": [
    "pipenv uninstall <module>    #such as, camelcase"
   ]
  },
  {
   "cell_type": "code",
   "execution_count": null,
   "metadata": {},
   "outputs": [],
   "source": [
    "pipenv uninstall <module>\n",
    "pipenv uninstall --all\n",
    "pipenv uninstall --all-dev"
   ]
  },
  {
   "cell_type": "code",
   "execution_count": null,
   "metadata": {},
   "outputs": [],
   "source": [
    "pipenv install <module> --dev    #only for development, such as, nose"
   ]
  },
  {
   "cell_type": "markdown",
   "metadata": {},
   "source": [
    "Pipenv provides three similar commands to achieve the same thing with minor differences:\n",
    "\n",
    "* `pipenv sync` never relock lock files and performs install only.\n",
    "* `pipenv update` always relock and install afterwards.\n",
    "* `pipenv install` relock only when Pipfile.lock mismatches the Pipfile.\n",
    "\n",
    "Pipenv is only relocking when the (hash of the) Pipfile changes.  This behavior is given to `pipenv install`, the most used command, so that Pipfile and Pipfile.lock will be kept consistent even if the user forgets to relock after he adds some packages (by manually editing the Pipfile). This is important because Pipenv is a tool to reproduce the environment on the production server.  If Pipfile.lock is outdated, the environment produced will probably be broken.\n",
    "\n",
    "* [issue: difference between `install` and `update`](https://github.com/pypa/pipenv/issues/3772)"
   ]
  },
  {
   "cell_type": "markdown",
   "metadata": {},
   "source": [
    "### Check dependency graph"
   ]
  },
  {
   "cell_type": "markdown",
   "metadata": {},
   "source": [
    "If there are conflicting dependencies (package_a needs package_c>=1.0, but package_b needs package_c<1.0), Pipenv will not be able to create a lock file and wil output an error like the following:\n",
    "\n",
    "```    \n",
    "Warning: Your dependencies could not be resolved. You likely have a mismatch in your sub-dependencies.\n",
    "  You can use $ pipenv install --skip-lock to bypass this mechanism, then run $ pipenv graph to inspect the situation.\n",
    "Could not find a version that matches package_c>=1.0,package_c<1.0\n",
    "```\n",
    "\n",
    "As the warning says, you can also show a dependency graph to understand your top-level dependencies and their sub-dependencies.  This command will print out a tree-like structure showing your dependencies. "
   ]
  },
  {
   "cell_type": "code",
   "execution_count": null,
   "metadata": {},
   "outputs": [],
   "source": [
    "pipenv graph\n",
    "pipenv graph --reverse"
   ]
  },
  {
   "cell_type": "markdown",
   "metadata": {},
   "source": [
    "You can reverse, `--reverse`, the tree to show the sub-dependencies with the parent that requires it."
   ]
  },
  {
   "cell_type": "markdown",
   "metadata": {},
   "source": [
    "### Ignore pipfile"
   ]
  },
  {
   "cell_type": "code",
   "execution_count": null,
   "metadata": {},
   "outputs": [],
   "source": [
    "pipenv install --ignore-pipfile"
   ]
  },
  {
   "cell_type": "markdown",
   "metadata": {},
   "source": [
    "## Prepare Deployment\n",
    "\n",
    "Let’s say you’ve got everything working in your local development environment and you’re ready to push it to production. To do that, you need to lock your environment so you can ensure you have the same one in production.  \n",
    "\n",
    "This will create/update your Pipfile.lock, which you’ll never need to (and are never meant to) edit manually. You should always use the generated file."
   ]
  },
  {
   "cell_type": "markdown",
   "metadata": {},
   "source": [
    "### Set lockfile - before deployment"
   ]
  },
  {
   "cell_type": "code",
   "execution_count": null,
   "metadata": {},
   "outputs": [],
   "source": [
    "pipenv lock"
   ]
  },
  {
   "cell_type": "markdown",
   "metadata": {},
   "source": [
    "### Production deployment\n",
    "\n",
    "Now, once you get your code and Pipfile.lock in your production environment, you should install the last successful environment recorded.  \n",
    "\n",
    "This tells Pipenv to ignore the Pipfile for installation and use what’s in the Pipfile.lock. Given this Pipfile.lock, Pipenv will create the exact same environment you had when you ran pipenv lock, sub-dependencies and all.\n",
    "\n",
    "The lock file enables deterministic builds by taking a snapshot of all the versions of packages in an environment (similar to the result of a pip freeze)."
   ]
  },
  {
   "cell_type": "code",
   "execution_count": null,
   "metadata": {},
   "outputs": [],
   "source": [
    "pipenv install --ignore-pipfile"
   ]
  },
  {
   "cell_type": "markdown",
   "metadata": {},
   "source": [
    "### Env variables\n",
    "\n",
    "Pipenv supports the automatic loading of environmental variables when a `.env` file exists in the top-level directory. That way, when you pipenv shell to open the virtual environment, it loads your environmental variables from the file. The `.env` file just contains key-value pairs:\n",
    "\n",
    "```\n",
    "#.env\n",
    "SOME_ENV_CONFIG=some_value\n",
    "SOME_OTHER_ENV_CONFIG=some_other_value\n",
    "```"
   ]
  },
  {
   "cell_type": "markdown",
   "metadata": {},
   "source": [
    "### Check security vulnerabilities\n",
    "\n",
    "Check for security vulnerabilities (and PEP 508 requirements) in your environment."
   ]
  },
  {
   "cell_type": "code",
   "execution_count": null,
   "metadata": {},
   "outputs": [],
   "source": [
    "pipenv check"
   ]
  },
  {
   "cell_type": "markdown",
   "metadata": {},
   "source": [
    "## Package Distribution and Installation\n",
    "\n",
    "How does Pipenv work with setup.py files?  There are a lot of nuances to that question. First, a setup.py file is necessary when you’re using setuptools as your build/distribution system. This has been the de facto standard for a while now, but recent changes have made the use of setuptools optional.\n",
    "\n",
    "Remember: Pipenv can help in distribution, but that is not within project scope."
   ]
  },
  {
   "cell_type": "markdown",
   "metadata": {},
   "source": [
    "### Install module's into virtual environment "
   ]
  },
  {
   "cell_type": "code",
   "execution_count": null,
   "metadata": {},
   "outputs": [],
   "source": [
    "pipenv install -e ."
   ]
  },
  {
   "cell_type": "markdown",
   "metadata": {},
   "source": [
    "### Install module onto machine"
   ]
  },
  {
   "cell_type": "code",
   "execution_count": null,
   "metadata": {},
   "outputs": [],
   "source": [
    "pip install ."
   ]
  },
  {
   "cell_type": "markdown",
   "metadata": {},
   "source": [
    "## Wrapping Up"
   ]
  },
  {
   "cell_type": "markdown",
   "metadata": {},
   "source": [
    "### Exiting the virtualenv"
   ]
  },
  {
   "cell_type": "code",
   "execution_count": null,
   "metadata": {},
   "outputs": [],
   "source": [
    "exit"
   ]
  },
  {
   "cell_type": "markdown",
   "metadata": {},
   "source": [
    "### Remove the virtualenv"
   ]
  },
  {
   "cell_type": "code",
   "execution_count": null,
   "metadata": {},
   "outputs": [],
   "source": [
    "pipenv --rm"
   ]
  }
 ],
 "metadata": {
  "kernelspec": {
   "display_name": "Python 3",
   "language": "python",
   "name": "python3"
  },
  "language_info": {
   "codemirror_mode": {
    "name": "ipython",
    "version": 3
   },
   "file_extension": ".py",
   "mimetype": "text/x-python",
   "name": "python",
   "nbconvert_exporter": "python",
   "pygments_lexer": "ipython3",
   "version": "3.7.3"
  }
 },
 "nbformat": 4,
 "nbformat_minor": 4
}
