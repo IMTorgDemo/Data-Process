{
 "cells": [
  {
   "cell_type": "markdown",
   "metadata": {},
   "source": [
    "# Functional / Reactive Programming in JavaScript"
   ]
  },
  {
   "cell_type": "markdown",
   "metadata": {},
   "source": [
    "Five simple functions (some native to JavaScript and some included in the RxJS library):\n",
    "\n",
    "* map\n",
    "* filter\n",
    "* concatAll\n",
    "* reduce\n",
    "* zip\n"
   ]
  },
  {
   "cell_type": "markdown",
   "metadata": {},
   "source": [
    "# References\n",
    "\n",
    "* [philosophical discussion](https://medium.com/javascript-scene/the-two-pillars-of-javascript-pt-2-functional-programming-a63aa53a41a4)\n",
    "* [exercises](http://reactivex.io/learnrx/)\n",
    "* [reactive programming](https://github.com/ReactiveX/rxjs)\n",
    "* [highland.js - high-level streams](http://highlandjs.org/)"
   ]
  },
  {
   "cell_type": "markdown",
   "metadata": {},
   "source": [
    "# Config"
   ]
  },
  {
   "cell_type": "code",
   "execution_count": 2,
   "metadata": {},
   "outputs": [],
   "source": [
    "var newReleases = [\n",
    "\t\t\t{\n",
    "\t\t\t\t\"id\": 70111470,\n",
    "\t\t\t\t\"title\": \"Die Hard\",\n",
    "\t\t\t\t\"boxart\": \"http://cdn-0.nflximg.com/images/2891/DieHard.jpg\",\n",
    "\t\t\t\t\"uri\": \"http://api.netflix.com/catalog/titles/movies/70111470\",\n",
    "\t\t\t\t\"rating\": [4.0],\n",
    "\t\t\t\t\"bookmark\": []\n",
    "\t\t\t},\n",
    "\t\t\t{\n",
    "\t\t\t\t\"id\": 654356453,\n",
    "\t\t\t\t\"title\": \"Bad Boys\",\n",
    "\t\t\t\t\"boxart\": \"http://cdn-0.nflximg.com/images/2891/BadBoys.jpg\",\n",
    "\t\t\t\t\"uri\": \"http://api.netflix.com/catalog/titles/movies/70111470\",\n",
    "\t\t\t\t\"rating\": [5.0],\n",
    "\t\t\t\t\"bookmark\": [{ id: 432534, time: 65876586 }]\n",
    "\t\t\t},\n",
    "\t\t\t{\n",
    "\t\t\t\t\"id\": 65432445,\n",
    "\t\t\t\t\"title\": \"The Chamber\",\n",
    "\t\t\t\t\"boxart\": \"http://cdn-0.nflximg.com/images/2891/TheChamber.jpg\",\n",
    "\t\t\t\t\"uri\": \"http://api.netflix.com/catalog/titles/movies/70111470\",\n",
    "\t\t\t\t\"rating\": [4.0],\n",
    "\t\t\t\t\"bookmark\": []\n",
    "\t\t\t},\n",
    "\t\t\t{\n",
    "\t\t\t\t\"id\": 675465,\n",
    "\t\t\t\t\"title\": \"Fracture\",\n",
    "\t\t\t\t\"boxart\": \"http://cdn-0.nflximg.com/images/2891/Fracture.jpg\",\n",
    "\t\t\t\t\"uri\": \"http://api.netflix.com/catalog/titles/movies/70111470\",\n",
    "\t\t\t\t\"rating\": [5.0],\n",
    "\t\t\t\t\"bookmark\": [{ id: 432534, time: 65876586 }]\n",
    "\t\t\t}\n",
    "\t\t]"
   ]
  },
  {
   "cell_type": "markdown",
   "metadata": {},
   "source": [
    "<br>\n",
    "# Topics"
   ]
  },
  {
   "cell_type": "markdown",
   "metadata": {},
   "source": [
    "<br>\n",
    "__Traversing Arrays__\n",
    "\n",
    "Unnecessarily verbose.  Don't need order."
   ]
  },
  {
   "cell_type": "code",
   "execution_count": 4,
   "metadata": {},
   "outputs": [
    {
     "name": "stdout",
     "output_type": "stream",
     "text": [
      "Ben\n",
      "Jafar\n",
      "Matt\n",
      "Priya\n",
      "Brian\n"
     ]
    }
   ],
   "source": [
    "var names = [\"Ben\", \"Jafar\", \"Matt\", \"Priya\", \"Brian\"]\n",
    "\n",
    "var counter\n",
    "for(counter = 0; counter < names.length; counter++) {\n",
    "    console.log(names[counter]);\n",
    "}"
   ]
  },
  {
   "cell_type": "markdown",
   "metadata": {},
   "source": [
    "<br>\n",
    "Describes what we want to happen to each item in the array, but hides how the array is traversed"
   ]
  },
  {
   "cell_type": "code",
   "execution_count": 5,
   "metadata": {},
   "outputs": [
    {
     "name": "stdout",
     "output_type": "stream",
     "text": [
      "Ben\n",
      "Jafar\n",
      "Matt\n",
      "Priya\n",
      "Brian\n"
     ]
    }
   ],
   "source": [
    "names.forEach( function(nm){console.log(nm)} )"
   ]
  },
  {
   "cell_type": "markdown",
   "metadata": {},
   "source": [
    "<br>\n",
    "__Projecting Arrays__\n",
    "\n",
    "All array projections share two operations in common:\n",
    "\n",
    "* Traverse the source array\n",
    "* Add each item's projected value to a new array"
   ]
  },
  {
   "cell_type": "code",
   "execution_count": 6,
   "metadata": {},
   "outputs": [
    {
     "data": {
      "text/plain": [
       "[ { id: 70111470, title: 'Die Hard' },\n",
       "  { id: 654356453, title: 'Bad Boys' },\n",
       "  { id: 65432445, title: 'The Chamber' },\n",
       "  { id: 675465, title: 'Fracture' } ]"
      ]
     },
     "execution_count": 6,
     "metadata": {},
     "output_type": "execute_result"
    }
   ],
   "source": [
    "result = []\n",
    "newReleases.forEach(function(nm){result.push({id:nm.id, title:nm.title})})\n",
    "result"
   ]
  },
  {
   "cell_type": "markdown",
   "metadata": {},
   "source": [
    "<br>\n",
    "Abstract away how these operations are carried out"
   ]
  },
  {
   "cell_type": "code",
   "execution_count": 8,
   "metadata": {},
   "outputs": [
    {
     "data": {
      "text/plain": [
       "[Function]"
      ]
     },
     "execution_count": 8,
     "metadata": {},
     "output_type": "execute_result"
    }
   ],
   "source": [
    "Array.prototype.map = function( projectionFun ){ \n",
    "    var result = []\n",
    "    this.forEach( function(item){\n",
    "        result.push( projectionFun(item) )\n",
    "    })\n",
    "    return result\n",
    "}"
   ]
  },
  {
   "cell_type": "code",
   "execution_count": 9,
   "metadata": {},
   "outputs": [
    {
     "data": {
      "text/plain": [
       "[ { id: 70111470, title: 'Die Hard' },\n",
       "  { id: 654356453, title: 'Bad Boys' },\n",
       "  { id: 65432445, title: 'The Chamber' },\n",
       "  { id: 675465, title: 'Fracture' } ]"
      ]
     },
     "execution_count": 9,
     "metadata": {},
     "output_type": "execute_result"
    }
   ],
   "source": [
    "newReleases.map( function(item){return{id:item.id, title:item.title}})"
   ]
  },
  {
   "cell_type": "markdown",
   "metadata": {},
   "source": [
    "<br>\n",
    "__Filter__"
   ]
  },
  {
   "cell_type": "code",
   "execution_count": 12,
   "metadata": {},
   "outputs": [
    {
     "data": {
      "text/plain": [
       "[ 'Bad Boys', 'Fracture' ]"
      ]
     },
     "execution_count": 12,
     "metadata": {},
     "output_type": "execute_result"
    }
   ],
   "source": [
    "videos = []\n",
    "newReleases.forEach( function(item){if(item.rating >= 5.0){videos.push(item.title)}} )\n",
    "videos"
   ]
  },
  {
   "cell_type": "markdown",
   "metadata": {},
   "source": [
    "The filter() function accepts a predicate. A predicate is a function that accepts an item in the array, and returns a boolean indicating whether the item should be retained in the new array."
   ]
  },
  {
   "cell_type": "code",
   "execution_count": 13,
   "metadata": {},
   "outputs": [
    {
     "data": {
      "text/plain": [
       "[Function]"
      ]
     },
     "execution_count": 13,
     "metadata": {},
     "output_type": "execute_result"
    }
   ],
   "source": [
    "Array.prototype.filter = function(predicateFunction) {\n",
    "\tvar results = [];\n",
    "\tthis.forEach(function(itemInArray) {\n",
    "\t  if (predicateFunction(itemInArray)) {\n",
    "\t\tresults.push(itemInArray);\n",
    "\t  }\n",
    "\t});\n",
    "\n",
    "\treturn results;\n",
    "};"
   ]
  },
  {
   "cell_type": "markdown",
   "metadata": {},
   "source": [
    "Chaining together map() and filter() gives us a lot of expressive power. These high level functions let us express what data we want, but leave the underlying libraries a great deal of flexibility in terms of how our queries are executed."
   ]
  },
  {
   "cell_type": "code",
   "execution_count": 23,
   "metadata": {},
   "outputs": [
    {
     "data": {
      "text/plain": [
       "[ { id: 654356453,\n",
       "    title: 'Bad Boys',\n",
       "    boxart: 'http://cdn-0.nflximg.com/images/2891/BadBoys.jpg',\n",
       "    uri: 'http://api.netflix.com/catalog/titles/movies/70111470',\n",
       "    rating: [ 5 ],\n",
       "    bookmark: [ [Object] ] },\n",
       "  { id: 675465,\n",
       "    title: 'Fracture',\n",
       "    boxart: 'http://cdn-0.nflximg.com/images/2891/Fracture.jpg',\n",
       "    uri: 'http://api.netflix.com/catalog/titles/movies/70111470',\n",
       "    rating: [ 5 ],\n",
       "    bookmark: [ [Object] ] } ]"
      ]
     },
     "execution_count": 23,
     "metadata": {},
     "output_type": "execute_result"
    }
   ],
   "source": [
    "newReleases.filter( \n",
    "    function(item){\n",
    "        return item.rating >= 5.0\n",
    "    } \n",
    ")"
   ]
  },
  {
   "cell_type": "code",
   "execution_count": 22,
   "metadata": {},
   "outputs": [
    {
     "data": {
      "text/plain": [
       "[ 'Bad Boys', 'Fracture' ]"
      ]
     },
     "execution_count": 22,
     "metadata": {},
     "output_type": "execute_result"
    }
   ],
   "source": [
    "newReleases.filter( \n",
    "    function(item){\n",
    "        return item.rating >= 5.0\n",
    "    } \n",
    ").map(\n",
    "    function(item){\n",
    "        return item.title\n",
    "    }\n",
    ")"
   ]
  },
  {
   "cell_type": "markdown",
   "metadata": {},
   "source": [
    "<br>\n",
    "# Querying Trees\n",
    "\n",
    "Trees pose a challenge because we need to flatten them into arrays in order to apply filter() and map() operations on them. In this section we'll define a concatAll() function that we can combine with map() and filter() to query trees."
   ]
  },
  {
   "cell_type": "code",
   "execution_count": 46,
   "metadata": {},
   "outputs": [],
   "source": [
    "var movieLists = [\n",
    "\t\t\t{\n",
    "\t\t\t\tname: \"New Releases\",\n",
    "\t\t\t\tvideos: [\n",
    "\t\t\t\t\t{\n",
    "\t\t\t\t\t\t\"id\": 70111470,\n",
    "\t\t\t\t\t\t\"title\": \"Die Hard\",\n",
    "\t\t\t\t\t\t\"boxart\": \"http://cdn-0.nflximg.com/images/2891/DieHard.jpg\",\n",
    "\t\t\t\t\t\t\"uri\": \"http://api.netflix.com/catalog/titles/movies/70111470\",\n",
    "\t\t\t\t\t\t\"rating\": 4.0,\n",
    "\t\t\t\t\t\t\"bookmark\": []\n",
    "\t\t\t\t\t},\n",
    "\t\t\t\t\t{\n",
    "\t\t\t\t\t\t\"id\": 654356453,\n",
    "\t\t\t\t\t\t\"title\": \"Bad Boys\",\n",
    "\t\t\t\t\t\t\"boxart\": \"http://cdn-0.nflximg.com/images/2891/BadBoys.jpg\",\n",
    "\t\t\t\t\t\t\"uri\": \"http://api.netflix.com/catalog/titles/movies/70111470\",\n",
    "\t\t\t\t\t\t\"rating\": 5.0,\n",
    "\t\t\t\t\t\t\"bookmark\": [{ id: 432534, time: 65876586 }]\n",
    "\t\t\t\t\t}\n",
    "\t\t\t\t]\n",
    "\t\t\t},\n",
    "\t\t\t{\n",
    "\t\t\t\tname: \"Dramas\",\n",
    "\t\t\t\tvideos: [\n",
    "\t\t\t\t\t{\n",
    "\t\t\t\t\t\t\"id\": 65432445,\n",
    "\t\t\t\t\t\t\"title\": \"The Chamber\",\n",
    "\t\t\t\t\t\t\"boxart\": \"http://cdn-0.nflximg.com/images/2891/TheChamber.jpg\",\n",
    "\t\t\t\t\t\t\"uri\": \"http://api.netflix.com/catalog/titles/movies/70111470\",\n",
    "\t\t\t\t\t\t\"rating\": 4.0,\n",
    "\t\t\t\t\t\t\"bookmark\": []\n",
    "\t\t\t\t\t},\n",
    "\t\t\t\t\t{\n",
    "\t\t\t\t\t\t\"id\": 675465,\n",
    "\t\t\t\t\t\t\"title\": \"Fracture\",\n",
    "\t\t\t\t\t\t\"boxart\": \"http://cdn-0.nflximg.com/images/2891/Fracture.jpg\",\n",
    "\t\t\t\t\t\t\"uri\": \"http://api.netflix.com/catalog/titles/movies/70111470\",\n",
    "\t\t\t\t\t\t\"rating\": 5.0,\n",
    "\t\t\t\t\t\t\"bookmark\": [{ id: 432534, time: 65876586 }]\n",
    "\t\t\t\t\t}\n",
    "\t\t\t\t]\n",
    "\t\t\t}\n",
    "\t\t]"
   ]
  },
  {
   "cell_type": "code",
   "execution_count": 42,
   "metadata": {},
   "outputs": [
    {
     "data": {
      "text/plain": [
       "[ 70111470, 654356453, 65432445, 675465 ]"
      ]
     },
     "execution_count": 42,
     "metadata": {},
     "output_type": "execute_result"
    }
   ],
   "source": [
    "var allVideoIdsInMovieLists = []\n",
    "\n",
    "movieLists.forEach(function(movieList){\n",
    "    movieList.videos.forEach(function(item){\n",
    "        allVideoIdsInMovieLists.push(item.id) \n",
    "    })\n",
    "})\n",
    "allVideoIdsInMovieLists"
   ]
  },
  {
   "cell_type": "markdown",
   "metadata": {},
   "source": [
    "Define a function that's abstract enough to express our intent to flatten a tree, without specifying too much information about how to carry out the operation."
   ]
  },
  {
   "cell_type": "code",
   "execution_count": 48,
   "metadata": {},
   "outputs": [
    {
     "data": {
      "text/plain": [
       "[Function]"
      ]
     },
     "execution_count": 48,
     "metadata": {},
     "output_type": "execute_result"
    }
   ],
   "source": [
    "Array.prototype.concatAll = function() {\n",
    "\tvar results = [];\n",
    "\tthis.forEach(function(subArray) {\n",
    "\t\tresults.push.apply(results, subArray);\n",
    "\t});\n",
    "\treturn results;\n",
    "};"
   ]
  },
  {
   "cell_type": "code",
   "execution_count": 49,
   "metadata": {},
   "outputs": [
    {
     "data": {
      "text/plain": [
       "true"
      ]
     },
     "execution_count": 49,
     "metadata": {},
     "output_type": "execute_result"
    }
   ],
   "source": [
    "JSON.stringify([ [1,2,3], [4,5,6], [7,8,9] ].concatAll()) === \"[1,2,3,4,5,6,7,8,9]\""
   ]
  },
  {
   "cell_type": "code",
   "execution_count": null,
   "metadata": {},
   "outputs": [],
   "source": [
    "[1,2,3].concatAll(); // throws an error because this is a one-dimensional array"
   ]
  },
  {
   "cell_type": "markdown",
   "metadata": {},
   "source": [
    "# STOPPED AT EXERCISE 11"
   ]
  },
  {
   "cell_type": "code",
   "execution_count": 54,
   "metadata": {},
   "outputs": [
    {
     "ename": "TypeError",
     "evalue": "CreateListFromArrayLike called on non-object",
     "execution_count": 54,
     "output_type": "error",
     "traceback": [
      "evalmachine.<anonymous>:4",
      "\t\tresults.push.apply(results, subArray);",
      "\t\t             ^",
      "",
      "TypeError: CreateListFromArrayLike called on non-object",
      "    at evalmachine.<anonymous>:4:16",
      "    at Array.forEach (<anonymous>)",
      "    at Array.concatAll (evalmachine.<anonymous>:3:7)",
      "    at evalmachine.<anonymous>:7:4",
      "    at ContextifyScript.Script.runInThisContext (vm.js:50:33)",
      "    at Object.runInThisContext (vm.js:139:38)",
      "    at run ([eval]:1002:15)",
      "    at onRunRequest ([eval]:829:18)",
      "    at onMessage ([eval]:789:13)",
      "    at emitTwo (events.js:126:13)"
     ]
    }
   ],
   "source": [
    "movieLists.\n",
    "\t  map(function(movieList) {\n",
    "\t\treturn movieList.videos.map(function(video) {\n",
    "\t\t\treturn video.id;\n",
    "\t\t  });\n",
    "\t  }).\n",
    "\t  concatAll();"
   ]
  },
  {
   "cell_type": "code",
   "execution_count": null,
   "metadata": {},
   "outputs": [],
   "source": []
  },
  {
   "cell_type": "code",
   "execution_count": null,
   "metadata": {},
   "outputs": [],
   "source": []
  }
 ],
 "metadata": {
  "kernelspec": {
   "display_name": "Javascript (Node.js)",
   "language": "javascript",
   "name": "javascript"
  },
  "language_info": {
   "file_extension": ".js",
   "mimetype": "application/javascript",
   "name": "javascript",
   "version": "8.9.4"
  }
 },
 "nbformat": 4,
 "nbformat_minor": 2
}
