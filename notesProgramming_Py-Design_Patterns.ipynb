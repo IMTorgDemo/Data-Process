{
 "cells": [
  {
   "cell_type": "markdown",
   "metadata": {},
   "source": [
    "References:\n",
    "\n",
    "* [discussion](https://www.toptal.com/python/python-design-patterns)\n",
    "* [code examples](https://github.com/faif/python-patterns)"
   ]
  },
  {
   "cell_type": "markdown",
   "metadata": {},
   "source": [
    "# Introduction to Design Patterns\n",
    "\n",
    "__Program to an interface not an implementation__\n",
    "\n",
    "\n",
    "\n",
    "__Favor object composition over inheritance__\n",
    "\n",
    "\n"
   ]
  },
  {
   "cell_type": "markdown",
   "metadata": {},
   "source": [
    "<br>\n",
    "<br>\n",
    "# Creational"
   ]
  },
  {
   "cell_type": "markdown",
   "metadata": {},
   "source": [
    "This is the basic idea"
   ]
  },
  {
   "cell_type": "code",
   "execution_count": 37,
   "metadata": {},
   "outputs": [],
   "source": [
    "class Creator(object):   \n",
    "    def create(cls):\n",
    "        inst = cls()\n",
    "        inst.call_func()\n",
    "        return inst\n",
    "    \n",
    "class Example(object):\n",
    "    def call_func(self):\n",
    "        print(\"I just got created!\")"
   ]
  },
  {
   "cell_type": "code",
   "execution_count": 38,
   "metadata": {},
   "outputs": [
    {
     "name": "stdout",
     "output_type": "stream",
     "text": [
      "I just got created!\n"
     ]
    }
   ],
   "source": [
    "newExample = Creator.create(Example)"
   ]
  },
  {
   "cell_type": "markdown",
   "metadata": {},
   "source": [
    "<br>\n",
    "__Factory Method__ - delegate a specialized function/method to create instances; function requires knowledge of class names to instantiate."
   ]
  },
  {
   "cell_type": "code",
   "execution_count": 43,
   "metadata": {},
   "outputs": [],
   "source": [
    "class FirstGetter(object):\n",
    "    def get(self):\n",
    "        print(\"You got First class!\")\n",
    "\n",
    "class SecondGetter(object):\n",
    "    def get(self):\n",
    "        print(\"You got Second class!\")\n",
    "        \n",
    "def get_localizer(cls=\"FirstGetter\"):\n",
    "    cls_types = {\"FirstGetter\": FirstGetter, \"SecondGetter\":SecondGetter}\n",
    "    return cls_types[cls]()"
   ]
  },
  {
   "cell_type": "code",
   "execution_count": 45,
   "metadata": {},
   "outputs": [
    {
     "name": "stdout",
     "output_type": "stream",
     "text": [
      "You got First class!\n",
      "You got Second class!\n"
     ]
    }
   ],
   "source": [
    "x = get_localizer()\n",
    "x.get()\n",
    "y = get_localizer(\"SecondGetter\")\n",
    "y.get()"
   ]
  },
  {
   "cell_type": "markdown",
   "metadata": {},
   "source": [
    "<br>\n",
    "__abstract_factory__ - an interface for creating related/dependent objects without need to specify their actual class; however, must maintain behavior of those classes"
   ]
  },
  {
   "cell_type": "code",
   "execution_count": 46,
   "metadata": {},
   "outputs": [],
   "source": [
    "class ObjectFactory(object):\n",
    "    def __init__(self, cls=None):\n",
    "        self.obj_factory = cls\n",
    "    def create_obj(self):\n",
    "        obj = self.obj_factory()\n",
    "        print(\"This object has attr: {}\".format( obj.get() ))\n",
    "\n",
    "class ClassOne(object):\n",
    "    attr = \"Class one's attr\"\n",
    "    def get(self):\n",
    "        return self.attr\n",
    "\n",
    "class ClassTwo(object):\n",
    "    attr = \"Class two's attr\"\n",
    "    def get(self):\n",
    "        return attr"
   ]
  },
  {
   "cell_type": "code",
   "execution_count": 47,
   "metadata": {},
   "outputs": [
    {
     "name": "stdout",
     "output_type": "stream",
     "text": [
      "This object has attr: Class one's attr\n"
     ]
    }
   ],
   "source": [
    "ObjectFactory(cls=ClassOne).create_obj()"
   ]
  },
  {
   "cell_type": "markdown",
   "metadata": {},
   "source": [
    "<br>\n",
    "__borg__ - a singleton (not really?) with shared-state, but among multiple instances"
   ]
  },
  {
   "cell_type": "code",
   "execution_count": 60,
   "metadata": {},
   "outputs": [],
   "source": [
    "class SharedClass(object):\n",
    "    __shared_attr = {}\n",
    "    def __init__(self):\n",
    "        self.__dict__ = self.__shared_attr\n",
    "        self.state = \"Init\"\n",
    "    def __str__(self):\n",
    "        return self.state\n",
    "    \n",
    "class ChildShared(SharedClass):\n",
    "    pass"
   ]
  },
  {
   "cell_type": "code",
   "execution_count": 61,
   "metadata": {},
   "outputs": [
    {
     "name": "stdout",
     "output_type": "stream",
     "text": [
      "Init\n"
     ]
    }
   ],
   "source": [
    "obj1 = SharedClass()\n",
    "obj2 = SharedClass()\n",
    "\n",
    "print(obj1)"
   ]
  },
  {
   "cell_type": "code",
   "execution_count": 62,
   "metadata": {},
   "outputs": [
    {
     "name": "stdout",
     "output_type": "stream",
     "text": [
      "Running\n"
     ]
    }
   ],
   "source": [
    "obj1.state = \"Running\"\n",
    "print(obj2)"
   ]
  },
  {
   "cell_type": "code",
   "execution_count": 63,
   "metadata": {},
   "outputs": [
    {
     "name": "stdout",
     "output_type": "stream",
     "text": [
      "Init\n"
     ]
    }
   ],
   "source": [
    "obj3 = ChildShared()\n",
    "print(obj3)"
   ]
  },
  {
   "cell_type": "code",
   "execution_count": 64,
   "metadata": {},
   "outputs": [
    {
     "name": "stdout",
     "output_type": "stream",
     "text": [
      "Terminated\n"
     ]
    }
   ],
   "source": [
    "obj2.state = \"Terminated\"\n",
    "print(obj3)"
   ]
  },
  {
   "cell_type": "markdown",
   "metadata": {},
   "source": [
    "<br>\n",
    "__builder__ - instead of using multiple constructors, builder object (abstract class) receives parameters and returns constructed objects"
   ]
  },
  {
   "cell_type": "code",
   "execution_count": 71,
   "metadata": {},
   "outputs": [],
   "source": [
    "class Builder(object):\n",
    "    def __init__(self):\n",
    "        self.build_floors()\n",
    "        self.build_height()\n",
    "    def build_floors(self):\n",
    "        raise NotImplementedError\n",
    "    def build_height(self):\n",
    "        raise NotImplementedError\n",
    "    def __repr__(self):\n",
    "        return \"This building has {0.floors} floors with height {0.height}\".format(self)\n",
    "        \n",
    "class House(Builder):\n",
    "    def build_floors(self):\n",
    "        self.floors = \"Two\"\n",
    "    def build_height(self):\n",
    "        self.height = \"Short\"\n",
    "    \n",
    "class Skyscraper(Builder):\n",
    "    def build_floors(self):\n",
    "        self.floors = \"Many\"\n",
    "    def build_height(self):\n",
    "        self.height = \"Tall\""
   ]
  },
  {
   "cell_type": "code",
   "execution_count": 72,
   "metadata": {},
   "outputs": [
    {
     "data": {
      "text/plain": [
       "This building has Many floors with height Tall"
      ]
     },
     "execution_count": 72,
     "metadata": {},
     "output_type": "execute_result"
    }
   ],
   "source": [
    "house = House()\n",
    "house\n",
    "skyscraper = Skyscraper()\n",
    "skyscraper\n"
   ]
  },
  {
   "cell_type": "markdown",
   "metadata": {},
   "source": [
    "<br>\n",
    "<br>\n",
    "# Structural"
   ]
  },
  {
   "cell_type": "markdown",
   "metadata": {},
   "source": []
  },
  {
   "cell_type": "markdown",
   "metadata": {},
   "source": [
    "__decorator__ - wrap functionality with other functionality in order to affect outputs"
   ]
  },
  {
   "cell_type": "code",
   "execution_count": 73,
   "metadata": {},
   "outputs": [],
   "source": [
    "class Text(object):\n",
    "    def __init__(self, txt):\n",
    "        self.txt = txt\n",
    "    def render(self):\n",
    "        return self.txt\n",
    "    \n",
    "class Italicize(object):\n",
    "    def __init__(self, txt):\n",
    "        self.txt = txt\n",
    "    def render(self):\n",
    "        return \"<i>{}</i>\".format(self.txt)"
   ]
  },
  {
   "cell_type": "code",
   "execution_count": 75,
   "metadata": {},
   "outputs": [
    {
     "data": {
      "text/plain": [
       "'<i>some text</i>'"
      ]
     },
     "execution_count": 75,
     "metadata": {},
     "output_type": "execute_result"
    }
   ],
   "source": [
    "txt = Text(\"some text\")\n",
    "Italicize(txt.render()).render()"
   ]
  },
  {
   "cell_type": "markdown",
   "metadata": {},
   "source": [
    "__composite__ - lets clients treat individual objects and compositions uniformly"
   ]
  },
  {
   "cell_type": "code",
   "execution_count": 87,
   "metadata": {},
   "outputs": [],
   "source": [
    "class Abstract(object):\n",
    "    def render(self):\n",
    "        return NotImplementedError\n",
    "\n",
    "class Simple(Abstract):\n",
    "    def __init__(self, name):\n",
    "        self.name = name\n",
    "    def render(self):\n",
    "        return \"SimpleObject: {}\".format(self.name) \n",
    "    \n",
    "class Composite(Abstract):\n",
    "    def __init__(self):\n",
    "        self.objs = []\n",
    "    def render(self):\n",
    "        for obj in self.objs:\n",
    "            print( obj.render() )\n",
    "    def add(self, obj):\n",
    "        self.objs.append(obj)\n",
    "    def remove(self, obj):\n",
    "        self.objs.remove(obj)\n",
    "        "
   ]
  },
  {
   "cell_type": "code",
   "execution_count": 88,
   "metadata": {},
   "outputs": [
    {
     "data": {
      "text/plain": [
       "'SimpleObject: obj3'"
      ]
     },
     "execution_count": 88,
     "metadata": {},
     "output_type": "execute_result"
    }
   ],
   "source": [
    "obj1 = Simple(\"obj1\")\n",
    "obj2 = Simple(\"obj2\")\n",
    "obj3 = Simple(\"obj3\")\n",
    "obj3.render()"
   ]
  },
  {
   "cell_type": "code",
   "execution_count": 89,
   "metadata": {},
   "outputs": [],
   "source": [
    "comp = Composite()\n",
    "comp.add(obj1)\n",
    "comp.add(obj2)\n",
    "comp.add(obj3)"
   ]
  },
  {
   "cell_type": "code",
   "execution_count": 90,
   "metadata": {},
   "outputs": [
    {
     "name": "stdout",
     "output_type": "stream",
     "text": [
      "SimpleObject: obj1\n",
      "SimpleObject: obj2\n",
      "SimpleObject: obj3\n"
     ]
    }
   ],
   "source": [
    "comp.render()"
   ]
  },
  {
   "cell_type": "markdown",
   "metadata": {},
   "source": [
    "__facade__ - use one class as an API to a number of others"
   ]
  },
  {
   "cell_type": "code",
   "execution_count": 97,
   "metadata": {},
   "outputs": [],
   "source": [
    "import time\n",
    "SLEEP = 0.1\n",
    "\n",
    "class Task1(object):\n",
    "    def run(self):\n",
    "        print(u\"Task-1 start\")\n",
    "        time.sleep(SLEEP)\n",
    "        print(u\"Task-1 end\")\n",
    "\n",
    "class Task2(object):\n",
    "    def run(self):\n",
    "        print(u\"Task-2 start\")\n",
    "        time.sleep(SLEEP)\n",
    "        print(u\"Task-2 end\")\n",
    "\n",
    "class Task3(object):\n",
    "    def run(self):\n",
    "        print(u\"Task-3 start\")\n",
    "        time.sleep(SLEEP)\n",
    "        print(u\"Task-3 end\")\n",
    "    \n",
    "class Facade(object):\n",
    "    def __init__(self):\n",
    "        self.task1 = Task1()\n",
    "        self.task2 = Task2()\n",
    "        self.task3 = Task3()\n",
    "        self.tasks = [self.task1, self.task2, self.task3]\n",
    "    def run_all(self):\n",
    "        for task in self.tasks:\n",
    "            task.run()"
   ]
  },
  {
   "cell_type": "code",
   "execution_count": 98,
   "metadata": {},
   "outputs": [
    {
     "name": "stdout",
     "output_type": "stream",
     "text": [
      "Task-1 start\n",
      "Task-1 end\n",
      "Task-2 start\n",
      "Task-2 end\n",
      "Task-3 start\n",
      "Task-3 end\n"
     ]
    }
   ],
   "source": [
    "Facade().run_all()"
   ]
  },
  {
   "cell_type": "markdown",
   "metadata": {},
   "source": [
    "__adapter__ - adapt one interface to others using a white-list (wrap their methods)"
   ]
  },
  {
   "cell_type": "code",
   "execution_count": 114,
   "metadata": {},
   "outputs": [],
   "source": [
    "class Item1(object):\n",
    "    def __init__(self, name):\n",
    "        self.name = name\n",
    "    def run_behav(self):\n",
    "        return \"Item-1 behavior\"\n",
    "\n",
    "class Item2(object):\n",
    "    def __init__(self, name):\n",
    "        self.name = name\n",
    "    def new_behav(self):\n",
    "        return \"Item-2 behavior\"\n",
    "\n",
    "class Item3(object):\n",
    "    def __init__(self, name):\n",
    "        self.name = name\n",
    "    def create_behav(self):\n",
    "        return \"Item-3 behavior\"\n",
    "    \n",
    "class Adapter(object):\n",
    "    def __init__(self, obj, **adapted_methods):\n",
    "        self.obj = obj\n",
    "        self.__dict__.update(adapted_methods)\n",
    "    def __get_attr__(self, attr):\n",
    "        return getattr(self.obj, attr)\n",
    "    def original_dict(self):\n",
    "        return self.obj.__dict__"
   ]
  },
  {
   "cell_type": "code",
   "execution_count": 115,
   "metadata": {},
   "outputs": [
    {
     "name": "stdout",
     "output_type": "stream",
     "text": [
      "{'name': 'item-1'}\n"
     ]
    }
   ],
   "source": [
    "item1 = Item1(\"item-1\")\n",
    "print( item1.__dict__)"
   ]
  },
  {
   "cell_type": "code",
   "execution_count": 116,
   "metadata": {},
   "outputs": [
    {
     "name": "stdout",
     "output_type": "stream",
     "text": [
      "{'obj': <__main__.Item1 object at 0x7f32dc57c0f0>, 'behavior': <bound method Item1.run_behav of <__main__.Item1 object at 0x7f32dc57c0f0>>}\n",
      "{'name': 'item-1'}\n"
     ]
    }
   ],
   "source": [
    "obj= []\n",
    "obj.append( Adapter(item1, behavior = item1.run_behav) )\n",
    "print(obj[0].__dict__)\n",
    "print(obj[0].original_dict())"
   ]
  },
  {
   "cell_type": "code",
   "execution_count": 117,
   "metadata": {},
   "outputs": [],
   "source": [
    "item2 = Item2(\"item-2\")\n",
    "item3 = Item3(\"item-3\")\n",
    "obj.append( Adapter(item2, behavior = item2.new_behav) )\n",
    "obj.append( Adapter(item3, behavior = item3.create_behav) )"
   ]
  },
  {
   "cell_type": "code",
   "execution_count": 123,
   "metadata": {},
   "outputs": [
    {
     "name": "stdout",
     "output_type": "stream",
     "text": [
      "Item type: item-1, has behavior: Item-1 behavior\n",
      "Item type: item-2, has behavior: Item-2 behavior\n",
      "Item type: item-3, has behavior: Item-3 behavior\n"
     ]
    }
   ],
   "source": [
    "for i in obj:\n",
    "    print(\"Item type: {0}, has behavior: {1}\".format(i.original_dict()[\"name\"], i.behavior() ) )"
   ]
  },
  {
   "cell_type": "markdown",
   "metadata": {},
   "source": [
    "__bridge__ - a client-provider middleman to soften interface changes"
   ]
  },
  {
   "cell_type": "code",
   "execution_count": 141,
   "metadata": {},
   "outputs": [],
   "source": [
    "class Item1(object):\n",
    "    def run_behavior(self, attr1, attr2):\n",
    "        print(\"Item-1 behavior with attr-1:{0} and attr-2:{1}\".format(attr1, attr2))\n",
    "        \n",
    "class Item2(object):\n",
    "    def run_behavior(self, attr1, attr2):\n",
    "        print(\"Item-2 behavior with attr-1:{0} and attr-2:{1}\".format(attr1, attr2))\n",
    "        \n",
    "class General(object):\n",
    "    def __init__(self, attr1, attr2, obj_type):\n",
    "        self.attr1 = attr1\n",
    "        self.attr2 = attr2\n",
    "        self.obj_type = obj_type\n",
    "    def run_behavior(self):\n",
    "        return self.obj_type().run_behavior(self.attr1, self.attr2)"
   ]
  },
  {
   "cell_type": "code",
   "execution_count": 142,
   "metadata": {},
   "outputs": [
    {
     "name": "stdout",
     "output_type": "stream",
     "text": [
      "Item-1 behavior with attr-1:1 and attr-2:2\n"
     ]
    }
   ],
   "source": [
    "Item1().run_behavior(\"1\", \"2\")"
   ]
  },
  {
   "cell_type": "code",
   "execution_count": 143,
   "metadata": {},
   "outputs": [
    {
     "name": "stdout",
     "output_type": "stream",
     "text": [
      "Item-1 behavior with attr-1:1 and attr-2:2\n",
      "Item-2 behavior with attr-1:3 and attr-2:4\n"
     ]
    }
   ],
   "source": [
    "lst = []\n",
    "lst.append( General(\"1\", \"2\", Item1 ))\n",
    "lst.append( General(\"3\", \"4\", Item2 ))\n",
    "\n",
    "for i in lst:\n",
    "    i.run_behavior()"
   ]
  },
  {
   "cell_type": "code",
   "execution_count": null,
   "metadata": {},
   "outputs": [],
   "source": []
  },
  {
   "cell_type": "markdown",
   "metadata": {},
   "source": [
    "__3-tier__ - data<->business logic<->presentation separation (strict relationships)"
   ]
  },
  {
   "cell_type": "code",
   "execution_count": null,
   "metadata": {},
   "outputs": [],
   "source": []
  },
  {
   "cell_type": "markdown",
   "metadata": {},
   "source": [
    "__mvc__ - model<->view<->controller (non-strict relationships)"
   ]
  },
  {
   "cell_type": "code",
   "execution_count": null,
   "metadata": {},
   "outputs": [],
   "source": []
  },
  {
   "cell_type": "markdown",
   "metadata": {},
   "source": [
    "<br>\n",
    "<br>\n",
    "# Behavioral"
   ]
  },
  {
   "cell_type": "markdown",
   "metadata": {},
   "source": []
  },
  {
   "cell_type": "code",
   "execution_count": null,
   "metadata": {},
   "outputs": [],
   "source": []
  },
  {
   "cell_type": "code",
   "execution_count": null,
   "metadata": {},
   "outputs": [],
   "source": []
  },
  {
   "cell_type": "code",
   "execution_count": null,
   "metadata": {},
   "outputs": [],
   "source": []
  }
 ],
 "metadata": {
  "kernelspec": {
   "display_name": "Python 3",
   "language": "python",
   "name": "python3"
  },
  "language_info": {
   "codemirror_mode": {
    "name": "ipython",
    "version": 3
   },
   "file_extension": ".py",
   "mimetype": "text/x-python",
   "name": "python",
   "nbconvert_exporter": "python",
   "pygments_lexer": "ipython3",
   "version": "3.6.3"
  }
 },
 "nbformat": 4,
 "nbformat_minor": 2
}
