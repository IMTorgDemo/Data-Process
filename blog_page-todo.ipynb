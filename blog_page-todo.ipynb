{
 "cells": [
  {
   "cell_type": "markdown",
   "metadata": {},
   "source": [
    "# List of ToDo Posts\n",
    "Date: 2019-05-01  \n",
    "Author: Jason Beach \n",
    "Categories: category1, category2  \n",
    "Tags: blog, tag2 \n",
    "<!--eofm-->"
   ]
  },
  {
   "cell_type": "markdown",
   "metadata": {},
   "source": [
    "This is a list of blog posts that are referenced, but not yet complete."
   ]
  },
  {
   "cell_type": "markdown",
   "metadata": {},
   "source": [
    "## List of Future Posts"
   ]
  },
  {
   "cell_type": "markdown",
   "metadata": {},
   "source": [
    "_General Machine Learning_\n",
    "\n",
    "* scoring metrics, model performance metrics, and graphs\n",
    "* imbalanced data\n",
    "* feature engineering\n",
    "* models in-depth"
   ]
  },
  {
   "cell_type": "markdown",
   "metadata": {},
   "source": [
    "_Natural Language Processing_\n",
    "\n",
    "* functional programming\n",
    "* numpy\n",
    "* nltk / spaCy\n",
    "* gensim\n",
    "* word2vec\n",
    "* fasttext\n",
    "* nlp overview"
   ]
  },
  {
   "cell_type": "markdown",
   "metadata": {},
   "source": [
    "_General Data Concepts_\n",
    "\n",
    "* datawarehousing\n",
    "* infrastructure architectures\n",
    "* serverless deployments"
   ]
  },
  {
   "cell_type": "markdown",
   "metadata": {},
   "source": [
    "_Business and Sales_\n",
    "\n",
    "* pricing pyramid\n",
    "* matching problems and solutions\n",
    "* marketing -> business development -> sales cycle and org structure"
   ]
  }
 ],
 "metadata": {
  "kernelspec": {
   "display_name": "Python 3",
   "language": "python",
   "name": "python3"
  },
  "language_info": {
   "codemirror_mode": {
    "name": "ipython",
    "version": 3
   },
   "file_extension": ".py",
   "mimetype": "text/x-python",
   "name": "python",
   "nbconvert_exporter": "python",
   "pygments_lexer": "ipython3",
   "version": "3.6.5"
  },
  "toc": {
   "base_numbering": 1,
   "nav_menu": {},
   "number_sections": false,
   "sideBar": false,
   "skip_h1_title": false,
   "title_cell": "Table of Contents",
   "title_sidebar": "Contents",
   "toc_cell": false,
   "toc_position": {},
   "toc_section_display": false,
   "toc_window_display": false
  }
 },
 "nbformat": 4,
 "nbformat_minor": 2
}
