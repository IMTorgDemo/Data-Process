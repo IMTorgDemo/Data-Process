{
 "cells": [
  {
   "cell_type": "markdown",
   "metadata": {},
   "source": [
    "# The Machine Learning Process with Natural Language Application\n",
    "Date: 2019-11-01  \n",
    "Author: Jason Beach  \n",
    "Categories: category1, category2  \n",
    "Tags: nlp, tag2, tag3  \n",
    "<!--eofm-->"
   ]
  },
  {
   "cell_type": "markdown",
   "metadata": {},
   "source": [
    "Differences from typical ML process\n",
    "\n",
    "* working with data\n",
    " - data anonymization\n",
    " - \n",
    "* compare text with text used for pre-training models\n",
    " - summary\n",
    " - model-based\n",
    "* test / train (few tagged data)\n",
    "* tagging process\n",
    "* modeling\n",
    "  - language meta (optional)\n",
    "  - rule-based\n",
    "  - model-based\n",
    "* advanced models\n",
    "  - logistic regression\n",
    "  - fasttext\n",
    "  - ???\n",
    "* testing methods\n",
    "* synthetic text generation\n",
    " - calibration\n",
    " - template\n",
    " - model-based"
   ]
  },
  {
   "cell_type": "markdown",
   "metadata": {},
   "source": [
    "Tools\n",
    "\n",
    "* commandline\n",
    "* shell scripts\n",
    "* tagging app"
   ]
  },
  {
   "cell_type": "markdown",
   "metadata": {},
   "source": [
    "* [ref: generating natural language text](https://blog.usejournal.com/generating-natural-language-text-with-neural-networks-e983bb48caad)\n",
    "* [ref: nlg tools](https://medium.com/sciforce/a-comprehensive-guide-to-natural-language-generation-dd63a4b6e548)\n",
    "* [opentool: SimplNLG](https://github.com/simplenlg/simplenlg)\n",
    "* [opentool: NaturalOwnl](https://sourceforge.net/projects/naturalowl/)"
   ]
  }
 ],
 "metadata": {
  "kernelspec": {
   "display_name": "Python 3",
   "language": "python",
   "name": "python3"
  },
  "language_info": {
   "codemirror_mode": {
    "name": "ipython",
    "version": 3
   },
   "file_extension": ".py",
   "mimetype": "text/x-python",
   "name": "python",
   "nbconvert_exporter": "python",
   "pygments_lexer": "ipython3",
   "version": "3.7.3"
  }
 },
 "nbformat": 4,
 "nbformat_minor": 2
}
