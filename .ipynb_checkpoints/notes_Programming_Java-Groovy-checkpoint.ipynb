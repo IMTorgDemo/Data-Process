{
 "cells": [
  {
   "cell_type": "markdown",
   "metadata": {},
   "source": [
    "# Introduction to Groovy with BeakerX Kernel\n",
    "\n",
    "This notebook takes code and examples from this github repo: [https://github.com/twosigma/beakerx](https://github.com/twosigma/beakerx)"
   ]
  },
  {
   "cell_type": "markdown",
   "metadata": {},
   "source": [
    "Groovy has the following features −\n",
    "\n",
    "    Support for both static and dynamic typing.\n",
    "    Support for operator overloading.\n",
    "    Native syntax for lists and associative arrays.\n",
    "    Native support for regular expressions.\n",
    "    Native support for various markup languages such as XML and HTML.\n",
    "    Groovy is simple for Java developers since the syntax for Java and Groovy are very similar.\n",
    "    You can use existing Java libraries.\n",
    "    Groovy extends the java.lang.Object.\n",
    "\n",
    "The official website for Groovy is http://www.groovy-lang.org/\n",
    "\n",
    "_References_\n",
    "* https://www.timroes.de/groovy-tutorial-for-java-developers\n",
    "* https://www.guru99.com/groovy-tutorial.html\n",
    "* https://www.logicbig.com/tutorials/misc/groovy.html\n",
    "* https://www.tutorialspoint.com/groovy/index.htm"
   ]
  },
  {
   "cell_type": "markdown",
   "metadata": {},
   "source": [
    "Groovy console (comes with Groovy distribution) is a Java Swing application where we can write and run code quickly.\n",
    "```\n",
    "D:\\groovy-hello-world>groovyconsole\n",
    "```"
   ]
  },
  {
   "cell_type": "code",
   "execution_count": 33,
   "metadata": {},
   "outputs": [
    {
     "name": "stdout",
     "output_type": "stream",
     "text": [
      "Hello World\n"
     ]
    },
    {
     "data": {
      "text/plain": [
       "null"
      ]
     },
     "execution_count": 33,
     "metadata": {},
     "output_type": "execute_result"
    }
   ],
   "source": [
    "class Example {\n",
    "   static void main(String[] args) {\n",
    "      // Using a simple println statement to print output to the console\n",
    "      println('Hello World');\n",
    "   }\n",
    "}\n",
    "Example.main()"
   ]
  },
  {
   "cell_type": "markdown",
   "metadata": {},
   "source": [
    "The following table lists the keywords which are defined in Groovy\n",
    "```\n",
    "as      assert      break        case\n",
    "catch \tclass       const \t     continue\n",
    "def \tdefault \tdo \t         else\n",
    "enum \textends \tfalse \t     Finally\n",
    "for \tgoto \t    if \t         implements\n",
    "import \tin \t        instanceof \t interface\n",
    "new \tpull \t    package \t return\n",
    "super \tswitch \t    this \t     throw\n",
    "throws \ttrait \t    true \t     try\n",
    "while \t\t\t\n",
    "```\n",
    "\n",
    "Groovy but not Java:\n",
    "```\n",
    "as    def    in    trait\n",
    "```"
   ]
  },
  {
   "cell_type": "markdown",
   "metadata": {},
   "source": [
    "Primitive data types\n",
    "```\n",
    "    byte − This is used to represent a byte value. An example is 2\n",
    "    short − This is used to represent a short number. An example is 10\n",
    "    int − This is used to represent whole numbers. An example is 1234\n",
    "    long − This is used to represent a long number. An example is 10000090\n",
    "    float − This is used to represent 32-bit floating point numbers. An example is 12.34\n",
    "    double − This is used to represent 64-bit floating point numbers which are longer decimal number representations which may be required at times. An example is 12.3456565\n",
    "    char − This defines a single character literal. An example is ‘a’\n",
    "    Boolean − This represents a Boolean value which can either be true or false\n",
    "    String − These are text literals which are represented in the form of chain of characters. For example “Hello World”.\n",
    "```\n",
    "\n",
    "In addition to the primitive types, the following object types (sometimes referred to as wrapper types) are allowed −\n",
    "```\n",
    "    java.lang.Byte\n",
    "    java.lang.Short\n",
    "    java.lang.Integer\n",
    "    java.lang.Long\n",
    "    java.lang.Float\n",
    "    java.lang.Double\n",
    "```\n",
    "For arbitrary precision artithemetic\n",
    "```\n",
    "java.math.BigInteger\n",
    "java.math.BigDecimal\n",
    "```"
   ]
  },
  {
   "cell_type": "code",
   "execution_count": 67,
   "metadata": {},
   "outputs": [
    {
     "name": "stdout",
     "output_type": "stream",
     "text": [
      "5\n",
      "100\n",
      "10.56\n",
      "1.05E41\n",
      "30\n",
      "3.5\n"
     ]
    },
    {
     "data": {
      "text/plain": [
       "null"
      ]
     },
     "execution_count": 67,
     "metadata": {},
     "output_type": "execute_result"
    }
   ],
   "source": [
    "class Example { \n",
    "   static void main(String[] args) { \n",
    "      //Example of a int datatype \n",
    "      int x = 5; \n",
    "\t\t\n",
    "      //Example of a long datatype \n",
    "      long y = 100L; \n",
    "\t\t\n",
    "      //Example of a floating point datatype \n",
    "      float a = 10.56f; \n",
    "\t\t\n",
    "      //Example of a double datatype \n",
    "      double b = 10.5e40; \n",
    "\t\t\n",
    "      //Example of a BigInteger datatype \n",
    "      BigInteger bi = 30g; \n",
    "\t\t\n",
    "      //Example of a BigDecimal datatype \n",
    "      BigDecimal bd = 3.5g; \n",
    "\t\t\n",
    "      println(x); \n",
    "      println(y); \n",
    "      println(a); \n",
    "      println(b); \n",
    "      println(bi); \n",
    "      println(bd); \n",
    "   } \n",
    "}\n",
    "Example.main()"
   ]
  },
  {
   "cell_type": "code",
   "execution_count": null,
   "metadata": {},
   "outputs": [],
   "source": []
  },
  {
   "cell_type": "markdown",
   "metadata": {},
   "source": [
    "# Basics"
   ]
  },
  {
   "cell_type": "markdown",
   "metadata": {},
   "source": [
    "__Syntax__"
   ]
  },
  {
   "cell_type": "markdown",
   "metadata": {},
   "source": [
    "Groovy supports all Java types (primitive and reference types).\n",
    "\n",
    "All primitives types are auto converted to their wrapper types. So `int a = 2` will become `Integer a = 2`\n",
    "\n",
    "When declaring variables we can do one of the followings:\n",
    "\n",
    "* Do not use any type (that will create a global variable): `a = 2`\n",
    "* Use keyword def (that will create a local variable): `def a = 2`\n",
    "* Use the actual type (that will create a local variable of strict type Integer): `int a = 3`"
   ]
  },
  {
   "cell_type": "code",
   "execution_count": 57,
   "metadata": {},
   "outputs": [
    {
     "name": "stdout",
     "output_type": "stream",
     "text": [
      "java.lang.Integer - 2\n",
      "java.lang.String - apple\n"
     ]
    },
    {
     "data": {
      "text/plain": [
       "null"
      ]
     },
     "execution_count": 57,
     "metadata": {},
     "output_type": "execute_result"
    }
   ],
   "source": [
    "//When no type is used, variables act like they are of type Object, so they can be reassigned to different types: src/NoTypeExample.groovy\n",
    "a = 2\n",
    "printf \"%s - %s%n\", a.getClass().getName(), a\n",
    "a = \"apple\"\n",
    "printf \"%s - %s%n\", a.getClass().getName(), a"
   ]
  },
  {
   "cell_type": "markdown",
   "metadata": {},
   "source": [
    "The code outside methods but still in the script is copied to run method (tutorial), so during runtime everything is inside methods. In that sense, this feature allows the variables declared in a method to be accessible to other methods.\n",
    "\n",
    "Groovy keeps these global variables in a map like object (groovy.lang.Binding)\n",
    "\n",
    "When def is used, variables act like they are of type Object, so they can be reassigned to different types (same as when no type is used): "
   ]
  },
  {
   "cell_type": "code",
   "execution_count": 8,
   "metadata": {},
   "outputs": [
    {
     "data": {
      "text/plain": [
       "2"
      ]
     },
     "execution_count": 8,
     "metadata": {},
     "output_type": "execute_result"
    }
   ],
   "source": [
    "//';' should be used after each statement, but is not necessary in beakerx cells\n",
    "//def is a keyword used in Groovy to define an identifier\n",
    "def a = 1;    //local variable\n",
    "b = 2;        //global variable - var with no type are global so they can be accessed across methods"
   ]
  },
  {
   "cell_type": "code",
   "execution_count": 9,
   "metadata": {},
   "outputs": [
    {
     "ename": "groovy.lang.MissingPropertyException",
     "evalue": " No such property",
     "output_type": "error",
     "traceback": [
      "\u001b[1;31mgroovy.lang.MissingPropertyException: No such property: a for class: script1556559303149\u001b[0;0m",
      "\u001b[1;31m\tat this cell line 1\u001b[0;0m",
      "\u001b[0;31m\tat com.twosigma.beakerx.groovy.evaluator.GroovyCodeRunner.runScript(GroovyCodeRunner.java:94)\u001b[0;0m",
      "\u001b[0;31m\tat com.twosigma.beakerx.groovy.evaluator.GroovyCodeRunner.call(GroovyCodeRunner.java:59)\u001b[0;0m",
      "\u001b[0;31m\tat com.twosigma.beakerx.groovy.evaluator.GroovyCodeRunner.call(GroovyCodeRunner.java:32)\u001b[0;0m"
     ]
    }
   ],
   "source": [
    "a //error - var declared with def are local, so they cannot be accessed across methods"
   ]
  },
  {
   "cell_type": "code",
   "execution_count": 10,
   "metadata": {},
   "outputs": [
    {
     "data": {
      "text/plain": [
       "2"
      ]
     },
     "execution_count": 10,
     "metadata": {},
     "output_type": "execute_result"
    }
   ],
   "source": [
    "b //this works"
   ]
  },
  {
   "cell_type": "markdown",
   "metadata": {},
   "source": [
    "Using actual types (same as Java types)\n",
    "\n",
    "They follow strict typing rules (just like Java). So they cannot be reassigned to different types:"
   ]
  },
  {
   "cell_type": "code",
   "execution_count": 58,
   "metadata": {},
   "outputs": [
    {
     "name": "stdout",
     "output_type": "stream",
     "text": [
      "2\n"
     ]
    },
    {
     "ename": "org.codehaus.groovy.runtime.typehandling.GroovyCastException",
     "evalue": " Cannot cast object 'apple' with class 'java.lang.String' to class 'int'",
     "output_type": "error",
     "traceback": [
      "\u001b[1;31morg.codehaus.groovy.runtime.typehandling.GroovyCastException: Cannot cast object 'apple' with class 'java.lang.String' to class 'int'\u001b[0;0m",
      "\u001b[1;31m\tat this cell line 3\u001b[0;0m",
      "\u001b[0;31m\tat com.twosigma.beakerx.groovy.evaluator.GroovyCodeRunner.runScript(GroovyCodeRunner.java:94)\u001b[0;0m",
      "\u001b[0;31m\tat com.twosigma.beakerx.groovy.evaluator.GroovyCodeRunner.call(GroovyCodeRunner.java:59)\u001b[0;0m",
      "\u001b[0;31m\tat com.twosigma.beakerx.groovy.evaluator.GroovyCodeRunner.call(GroovyCodeRunner.java:32)\u001b[0;0m"
     ]
    }
   ],
   "source": [
    "int a = 2\n",
    "println a\n",
    "a = \"apple\"\n",
    "println a"
   ]
  },
  {
   "cell_type": "markdown",
   "metadata": {},
   "source": [
    "Like def variables they are also local, so they cannot be accessed across methods.\n",
    "src/ActualTypeExample2.groovy"
   ]
  },
  {
   "cell_type": "code",
   "execution_count": 59,
   "metadata": {},
   "outputs": [
    {
     "name": "stdout",
     "output_type": "stream",
     "text": [
      "apple\n"
     ]
    },
    {
     "data": {
      "text/plain": [
       "null"
      ]
     },
     "execution_count": 59,
     "metadata": {},
     "output_type": "execute_result"
    }
   ],
   "source": [
    "int a = 2\n",
    "\n",
    "void printVars() {\n",
    "    println a;\n",
    "}\n",
    "\n",
    "printVars();"
   ]
  },
  {
   "cell_type": "code",
   "execution_count": 60,
   "metadata": {},
   "outputs": [
    {
     "name": "stdout",
     "output_type": "stream",
     "text": [
      "class java.lang.Integer - false\n",
      "class java.lang.Integer - false\n",
      "class java.lang.Integer - false\n",
      "class java.lang.Double - false\n",
      "class java.math.BigDecimal - false\n"
     ]
    },
    {
     "data": {
      "text/plain": [
       "null"
      ]
     },
     "execution_count": 60,
     "metadata": {},
     "output_type": "execute_result"
    }
   ],
   "source": [
    "//As seen above, Groovy uses Objects for everything (int is printed as java.lang.Integer). Primitives are auto converted to their wrapper type.\n",
    "\n",
    "int a = 2\n",
    "printf(\"%s - %s%n\", a.getClass(), a.getClass().isPrimitive())\n",
    "\n",
    "def b = 2\n",
    "printf \"%s - %s%n\", b.getClass(), b.getClass().isPrimitive()\n",
    "\n",
    "c = 2\n",
    "printf \"%s - %s%n\", c.getClass(), c.getClass().isPrimitive()\n",
    "\n",
    "double d = 2.2\n",
    "printf \"%s - %s%n\", d.getClass(), d.getClass().isPrimitive()\n",
    "\n",
    "e = 2.3//no type\n",
    "printf \"%s - %s%n\", e.getClass(), e.getClass().isPrimitive()"
   ]
  },
  {
   "cell_type": "code",
   "execution_count": 61,
   "metadata": {},
   "outputs": [
    {
     "name": "stdout",
     "output_type": "stream",
     "text": [
      "null\n",
      "null\n",
      "0\n",
      "3\n",
      "false\n"
     ]
    },
    {
     "data": {
      "text/plain": [
       "null"
      ]
     },
     "execution_count": 61,
     "metadata": {},
     "output_type": "execute_result"
    }
   ],
   "source": [
    "//all variables are initialized (even local) with their default values (just like instance variable)\n",
    "def a //initialized with null\n",
    "println a\n",
    "\n",
    "String s //initialized with null\n",
    "println s\n",
    "\n",
    "int b//initialized with 0\n",
    "println b\n",
    "println b + 3\n",
    "\n",
    "boolean bool//initialized with false\n",
    "println bool"
   ]
  },
  {
   "cell_type": "code",
   "execution_count": 62,
   "metadata": {},
   "outputs": [
    {
     "name": "stdout",
     "output_type": "stream",
     "text": [
      "4\n"
     ]
    },
    {
     "data": {
      "text/plain": [
       "null"
      ]
     },
     "execution_count": 62,
     "metadata": {},
     "output_type": "execute_result"
    }
   ],
   "source": [
    "//using actual types\n",
    "int sum(int x, int y) {\n",
    "    x + y;\n",
    "}\n",
    "println sum(1, 3)"
   ]
  },
  {
   "cell_type": "code",
   "execution_count": 63,
   "metadata": {},
   "outputs": [
    {
     "name": "stdout",
     "output_type": "stream",
     "text": [
      "4\n"
     ]
    },
    {
     "data": {
      "text/plain": [
       "null"
      ]
     },
     "execution_count": 63,
     "metadata": {},
     "output_type": "execute_result"
    }
   ],
   "source": [
    "//using def\n",
    "def sum(def x, def y) {\n",
    "    x + y;\n",
    "}\n",
    "println sum(1, 3)"
   ]
  },
  {
   "cell_type": "code",
   "execution_count": 64,
   "metadata": {},
   "outputs": [
    {
     "name": "stdout",
     "output_type": "stream",
     "text": [
      "4\n"
     ]
    },
    {
     "data": {
      "text/plain": [
       "null"
      ]
     },
     "execution_count": 64,
     "metadata": {},
     "output_type": "execute_result"
    }
   ],
   "source": [
    "//using no types with parameters\n",
    "def sum(x, y) {\n",
    "    x + y;\n",
    "}\n",
    "println sum(1, 3)"
   ]
  },
  {
   "cell_type": "code",
   "execution_count": 65,
   "metadata": {},
   "outputs": [
    {
     "ename": "groovy.lang.MissingPropertyException",
     "evalue": " No such property",
     "output_type": "error",
     "traceback": [
      "\u001b[1;31mgroovy.lang.MissingPropertyException: No such property: x for class: script1556568405239\u001b[0;0m",
      "\u001b[1;31m\tat this cell line 2\u001b[0;0m",
      "\u001b[0;31m\tat com.twosigma.beakerx.groovy.evaluator.GroovyCodeRunner.runScript(GroovyCodeRunner.java:94)\u001b[0;0m",
      "\u001b[0;31m\tat com.twosigma.beakerx.groovy.evaluator.GroovyCodeRunner.call(GroovyCodeRunner.java:59)\u001b[0;0m",
      "\u001b[0;31m\tat com.twosigma.beakerx.groovy.evaluator.GroovyCodeRunner.call(GroovyCodeRunner.java:32)\u001b[0;0m"
     ]
    }
   ],
   "source": [
    "//methods must return def or actual type\n",
    "sum(x, y) {\n",
    "    x + y;\n",
    "}\n",
    "println sum(1, 3)"
   ]
  },
  {
   "cell_type": "code",
   "execution_count": null,
   "metadata": {},
   "outputs": [],
   "source": []
  },
  {
   "cell_type": "code",
   "execution_count": null,
   "metadata": {},
   "outputs": [],
   "source": []
  },
  {
   "cell_type": "code",
   "execution_count": null,
   "metadata": {},
   "outputs": [],
   "source": []
  },
  {
   "cell_type": "code",
   "execution_count": null,
   "metadata": {},
   "outputs": [],
   "source": []
  },
  {
   "cell_type": "code",
   "execution_count": 11,
   "metadata": {},
   "outputs": [
    {
     "data": {
      "text/plain": [
       "script1556559307332$_run_closure1@cad3663"
      ]
     },
     "execution_count": 11,
     "metadata": {},
     "output_type": "execute_result"
    }
   ],
   "source": [
    "//closure example\n",
    "timesTwo = {x -> x*2}"
   ]
  },
  {
   "cell_type": "code",
   "execution_count": 12,
   "metadata": {},
   "outputs": [
    {
     "data": {
      "text/plain": [
       "8"
      ]
     },
     "execution_count": 12,
     "metadata": {},
     "output_type": "execute_result"
    }
   ],
   "source": [
    "timesTwo(4)"
   ]
  },
  {
   "cell_type": "code",
   "execution_count": 13,
   "metadata": {},
   "outputs": [
    {
     "data": {
      "text/plain": [
       "Multiplying Strings!Multiplying Strings!"
      ]
     },
     "execution_count": 13,
     "metadata": {},
     "output_type": "execute_result"
    }
   ],
   "source": [
    "timesTwo(\"Multiplying Strings!\")"
   ]
  },
  {
   "cell_type": "code",
   "execution_count": 14,
   "metadata": {},
   "outputs": [
    {
     "data": {
      "text/plain": [
       "9.265358966049026E-5"
      ]
     },
     "execution_count": 14,
     "metadata": {},
     "output_type": "execute_result"
    }
   ],
   "source": [
    "sin(3.1415)"
   ]
  },
  {
   "cell_type": "code",
   "execution_count": null,
   "metadata": {},
   "outputs": [],
   "source": [
    "//By default, Groovy includes the following libraries in your code, so you don’t need to explicitly import them.\n",
    "import java.lang.* \n",
    "import java.util.* \n",
    "import java.io.* \n",
    "import java.net.* \n",
    "\n",
    "import groovy.lang.* \n",
    "import groovy.util.* \n",
    "\n",
    "import java.math.BigInteger \n",
    "import java.math.BigDecimal"
   ]
  },
  {
   "cell_type": "code",
   "execution_count": null,
   "metadata": {},
   "outputs": [],
   "source": [
    "//one of the most used classes for creating HTML or XML markup.\n",
    "import groovy.xml.MarkupBuilder \n",
    "def xml = new MarkupBuilder() "
   ]
  },
  {
   "cell_type": "code",
   "execution_count": null,
   "metadata": {},
   "outputs": [],
   "source": []
  },
  {
   "cell_type": "code",
   "execution_count": null,
   "metadata": {},
   "outputs": [],
   "source": []
  },
  {
   "cell_type": "code",
   "execution_count": null,
   "metadata": {},
   "outputs": [],
   "source": []
  },
  {
   "cell_type": "code",
   "execution_count": null,
   "metadata": {},
   "outputs": [],
   "source": []
  },
  {
   "cell_type": "code",
   "execution_count": null,
   "metadata": {},
   "outputs": [],
   "source": []
  },
  {
   "cell_type": "markdown",
   "metadata": {},
   "source": [
    "# Tablesaw"
   ]
  },
  {
   "cell_type": "markdown",
   "metadata": {},
   "source": [
    "[Tablesaw](https://tablesaw.tech/) is easy to add to the BeakerX Groovy kernel.\n",
    "Tablesaw provides the ability to easily transform, summarize, and filter data, as well as computing descriptive statistics and fundamental machine learning algorithms.\n",
    "\n",
    "Two helpful demo notebooks (scala) include:\n",
    "* [Recommnder System](https://github.com/IMTorgDemo/IMTorgDemo-Notebooks/blob/master/demo_RS-WhitehawkRecommendSystem.ipynb)\n",
    "* [Evolution to a Data-Driven System](https://github.com/IMTorgDemo/IMTorgDemo-Notebooks/blob/master/demo_RS-WhitehawkEvolutionDataDriven.ipynb)"
   ]
  },
  {
   "cell_type": "code",
   "execution_count": 39,
   "metadata": {},
   "outputs": [
    {
     "data": {
      "application/vnd.jupyter.widget-view+json": {
       "model_id": "",
       "version_major": 2,
       "version_minor": 0
      },
      "method": "display_data"
     },
     "metadata": {},
     "output_type": "display_data"
    },
    {
     "data": {
      "application/vnd.jupyter.widget-view+json": {
       "model_id": "467cefcf-35d0-4f27-bede-5245487dfc7b",
       "version_major": 2,
       "version_minor": 0
      },
      "method": "display_data"
     },
     "metadata": {},
     "output_type": "display_data"
    }
   ],
   "source": [
    "//add using mvn\n",
    "%%classpath add mvn\n",
    "tech.tablesaw tablesaw-plot 0.11.4\n",
    "tech.tablesaw tablesaw-smile 0.11.4\n",
    "tech.tablesaw tablesaw-beakerx 0.11.4"
   ]
  },
  {
   "cell_type": "code",
   "execution_count": 40,
   "metadata": {},
   "outputs": [
    {
     "data": {
      "text/plain": [
       "null"
      ]
     },
     "execution_count": 40,
     "metadata": {},
     "output_type": "execute_result"
    }
   ],
   "source": [
    "%import tech.tablesaw.aggregate.*\n",
    "%import tech.tablesaw.api.*\n",
    "%import tech.tablesaw.api.ml.clustering.*\n",
    "%import tech.tablesaw.api.ml.regression.*\n",
    "%import tech.tablesaw.columns.*\n",
    "\n",
    "// display Tablesaw tables with BeakerX table display widget\n",
    "tech.tablesaw.beakerx.TablesawDisplayer.register()"
   ]
  },
  {
   "cell_type": "code",
   "execution_count": 41,
   "metadata": {},
   "outputs": [
    {
     "data": {
      "application/vnd.jupyter.widget-view+json": {
       "model_id": "8a88318e-66f7-48d5-ac2e-f0224ba9e79d",
       "version_major": 2,
       "version_minor": 0
      },
      "method": "display_data"
     },
     "metadata": {},
     "output_type": "display_data"
    }
   ],
   "source": [
    "//read data\n",
    "tornadoes = Table.read().csv(\"../doc/resources/data/tornadoes_2014.csv\")"
   ]
  },
  {
   "cell_type": "code",
   "execution_count": 42,
   "metadata": {},
   "outputs": [
    {
     "data": {
      "application/vnd.jupyter.widget-view+json": {
       "model_id": "a0a98199-0fea-49a0-b091-7ed902597908",
       "version_major": 2,
       "version_minor": 0
      },
      "method": "display_data"
     },
     "metadata": {},
     "output_type": "display_data"
    }
   ],
   "source": [
    "//print dataset structure\n",
    "tornadoes.structure()"
   ]
  },
  {
   "cell_type": "code",
   "execution_count": 43,
   "metadata": {},
   "outputs": [
    {
     "data": {
      "text/plain": [
       "[Date, Time, State, State No, Scale, Injuries, Fatalities, Start Lat, Start Lon, Length, Width]"
      ]
     },
     "execution_count": 43,
     "metadata": {},
     "output_type": "execute_result"
    }
   ],
   "source": [
    "//get header names\n",
    "tornadoes.columnNames()"
   ]
  },
  {
   "cell_type": "code",
   "execution_count": 44,
   "metadata": {},
   "outputs": [
    {
     "data": {
      "text/plain": [
       "908 rows X 11 cols"
      ]
     },
     "execution_count": 44,
     "metadata": {},
     "output_type": "execute_result"
    }
   ],
   "source": [
    "//displays the row and column counts\n",
    "tornadoes.shape()"
   ]
  },
  {
   "cell_type": "code",
   "execution_count": 46,
   "metadata": {},
   "outputs": [
    {
     "data": {
      "application/vnd.jupyter.widget-view+json": {
       "model_id": "2cfc6ae0-a65b-4674-bf46-b6b4cae79038",
       "version_major": 2,
       "version_minor": 0
      },
      "method": "display_data"
     },
     "metadata": {},
     "output_type": "display_data"
    }
   ],
   "source": [
    "//displays the first n rows\n",
    "tornadoes.first(3)"
   ]
  },
  {
   "cell_type": "code",
   "execution_count": 47,
   "metadata": {},
   "outputs": [
    {
     "data": {
      "application/vnd.jupyter.widget-view+json": {
       "model_id": "b8cd2453-b26c-48e5-ba25-281e11df1095",
       "version_major": 2,
       "version_minor": 0
      },
      "method": "display_data"
     },
     "metadata": {},
     "output_type": "display_data"
    }
   ],
   "source": [
    "import static tech.tablesaw.api.QueryHelper.column\n",
    "tornadoes.structure().selectWhere(column(\"Column Type\").isEqualTo(\"FLOAT\"))"
   ]
  },
  {
   "cell_type": "code",
   "execution_count": 48,
   "metadata": {},
   "outputs": [
    {
     "data": {
      "text/plain": [
       "\n",
       "Table summary for: tornadoes_2014.csv\n",
       "       Column: Date        \n",
       " Measure   |    Value     |\n",
       "---------------------------\n",
       "    Count  |         908  |\n",
       "  Missing  |           0  |\n",
       " Earliest  |  2014-01-11  |\n",
       "   Latest  |  2014-12-29  |\n",
       "     Column: Time     \n",
       " Measure   |  Value  |\n",
       "----------------------\n",
       "    Count  |    908  |\n",
       "  Missing  |      0  |\n",
       " Earliest  |  00:01  |\n",
       "   Latest  |  23:59  |\n",
       "    Column: State     \n",
       " Category  |  Count  |\n",
       "----------------------\n",
       "       GA  |     32  |\n",
       "       NM  |     15  |\n",
       "       MT  |      8  |\n",
       "       CO  |     49  |\n",
       "       WV  |      9  |\n",
       "       IN  |     28  |\n",
       "       MD  |      2  |\n",
       "       CA  |      9  |\n",
       "       AL  |     55  |\n",
       "       TN  |     18  |\n",
       "      ...  |    ...  |\n",
       "       MO  |     47  |\n",
       "       ME  |      4  |\n",
       "       LA  |     15  |\n",
       "       MI  |     13  |\n",
       "       SC  |      7  |\n",
       "       KY  |     28  |\n",
       "       MA  |      3  |\n",
       "       CT  |      1  |\n",
       "       NH  |      2  |\n",
       "   Column: State No   \n",
       " Measure   |  Value  |\n",
       "----------------------\n",
       "        n  |  908.0  |\n",
       "      sum  |    0.0  |\n",
       "     Mean  |    0.0  |\n",
       "      Min  |    0.0  |\n",
       "      Max  |    0.0  |\n",
       "    Range  |    0.0  |\n",
       " Variance  |    0.0  |\n",
       " Std. Dev  |    0.0  |\n",
       "       Column: Scale       \n",
       " Measure   |    Value     |\n",
       "---------------------------\n",
       "        n  |       908.0  |\n",
       "      sum  |       567.0  |\n",
       "     Mean  |   0.6244493  |\n",
       "      Min  |         0.0  |\n",
       "      Max  |         4.0  |\n",
       "    Range  |         4.0  |\n",
       " Variance  |   0.6272737  |\n",
       " Std. Dev  |  0.79200613  |\n",
       "     Column: Injuries      \n",
       " Measure   |    Value     |\n",
       "---------------------------\n",
       "        n  |       908.0  |\n",
       "      sum  |       684.0  |\n",
       "     Mean  |  0.75330395  |\n",
       "      Min  |         0.0  |\n",
       "      Max  |       193.0  |\n",
       "    Range  |       193.0  |\n",
       " Variance  |    57.68108  |\n",
       " Std. Dev  |    7.594806  |\n",
       "     Column: Fatalities     \n",
       " Measure   |     Value     |\n",
       "----------------------------\n",
       "        n  |        908.0  |\n",
       "      sum  |         48.0  |\n",
       "     Mean  |  0.052863438  |\n",
       "      Min  |          0.0  |\n",
       "      Max  |         16.0  |\n",
       "    Range  |         16.0  |\n",
       " Variance  |   0.44262686  |\n",
       " Std. Dev  |    0.6653021  |\n",
       "    Column: Start Lat     \n",
       " Measure   |    Value    |\n",
       "--------------------------\n",
       "        n  |      908.0  |\n",
       "      sum  |  34690.984  |\n",
       "     Mean  |   38.20593  |\n",
       "      Min  |        0.0  |\n",
       "      Max  |      48.86  |\n",
       "    Range  |      48.86  |\n",
       " Variance  |  22.448586  |\n",
       " Std. Dev  |  4.7379937  |\n",
       "    Column: Start Lon     \n",
       " Measure   |    Value    |\n",
       "--------------------------\n",
       "        n  |      908.0  |\n",
       "      sum  |  -83613.02  |\n",
       "     Mean  |  -92.08483  |\n",
       "      Min  |   -122.946  |\n",
       "      Max  |        0.0  |\n",
       "    Range  |    122.946  |\n",
       " Variance  |   91.84773  |\n",
       " Std. Dev  |   9.583722  |\n",
       "      Column: Length      \n",
       " Measure   |    Value    |\n",
       "--------------------------\n",
       "        n  |      908.0  |\n",
       "      sum  |    3014.49  |\n",
       "     Mean  |   3.319923  |\n",
       "      Min  |        0.0  |\n",
       "      Max  |      45.68  |\n",
       "    Range  |      45.68  |\n",
       " Variance  |  28.736567  |\n",
       " Std. Dev  |  5.3606496  |\n",
       "      Column: Width       \n",
       " Measure   |    Value    |\n",
       "--------------------------\n",
       "        n  |      908.0  |\n",
       "      sum  |   149778.0  |\n",
       "     Mean  |  164.95375  |\n",
       "      Min  |        0.0  |\n",
       "      Max  |     2640.0  |\n",
       "    Range  |     2640.0  |\n",
       " Variance  |  57764.465  |\n",
       " Std. Dev  |  240.34239  |\n",
       "\n"
      ]
     },
     "execution_count": 48,
     "metadata": {},
     "output_type": "execute_result"
    }
   ],
   "source": [
    "//summarize the data in each column\n",
    "tornadoes.summary()"
   ]
  },
  {
   "cell_type": "code",
   "execution_count": 49,
   "metadata": {},
   "outputs": [
    {
     "data": {
      "text/plain": [
       "[Date, Time, State, State No, Scale, Injuries, Fatalities, Start Lat, Start Lon, Length, Width, Date month]"
      ]
     },
     "execution_count": 49,
     "metadata": {},
     "output_type": "execute_result"
    }
   ],
   "source": [
    "//Mapping operations\n",
    "def month = tornadoes.dateColumn(\"Date\").month()\n",
    "tornadoes.addColumn(month);\n",
    "tornadoes.columnNames()"
   ]
  },
  {
   "cell_type": "code",
   "execution_count": 50,
   "metadata": {},
   "outputs": [
    {
     "data": {
      "application/vnd.jupyter.widget-view+json": {
       "model_id": "470d4581-9876-40be-b422-133e71714809",
       "version_major": 2,
       "version_minor": 0
      },
      "method": "display_data"
     },
     "metadata": {},
     "output_type": "display_data"
    }
   ],
   "source": [
    "//Sorting by column\n",
    "tornadoes.sortOn(\"-Fatalities\")"
   ]
  },
  {
   "cell_type": "code",
   "execution_count": 51,
   "metadata": {},
   "outputs": [
    {
     "data": {
      "application/vnd.jupyter.widget-view+json": {
       "model_id": "7f585353-c5ad-4f9f-bcc9-2f2a8ffe11f0",
       "version_major": 2,
       "version_minor": 0
      },
      "method": "display_data"
     },
     "metadata": {},
     "output_type": "display_data"
    }
   ],
   "source": [
    "//Descriptive statistics\n",
    "tornadoes.column(\"Fatalities\").summary()"
   ]
  },
  {
   "cell_type": "code",
   "execution_count": 52,
   "metadata": {},
   "outputs": [
    {
     "data": {
      "application/vnd.jupyter.widget-view+json": {
       "model_id": "f19031aa-23be-4d98-967e-a43b33f127a5",
       "version_major": 2,
       "version_minor": 0
      },
      "method": "display_data"
     },
     "metadata": {},
     "output_type": "display_data"
    }
   ],
   "source": [
    "//Performing totals and sub-totals\n",
    "def injuriesByScale = tornadoes.median(\"Injuries\").by(\"Scale\")\n",
    "injuriesByScale.setName(\"Median injuries by Tornado Scale\")\n",
    "injuriesByScale"
   ]
  },
  {
   "cell_type": "code",
   "execution_count": 53,
   "metadata": {},
   "outputs": [
    {
     "data": {
      "application/vnd.jupyter.widget-view+json": {
       "model_id": "7a7ad78c-9e5a-49db-a282-5ad66f4a5dab",
       "version_major": 2,
       "version_minor": 0
      },
      "method": "display_data"
     },
     "metadata": {},
     "output_type": "display_data"
    }
   ],
   "source": [
    "//Cross Tabs\n",
    "CrossTab.xCount(tornadoes, tornadoes.categoryColumn(\"State\"), tornadoes.shortColumn(\"Scale\"))"
   ]
  },
  {
   "cell_type": "markdown",
   "metadata": {},
   "source": [
    "You can fetch data from [Quandl](https://www.quandl.com/) and load it directly into Tablesaw"
   ]
  },
  {
   "cell_type": "code",
   "execution_count": 54,
   "metadata": {},
   "outputs": [
    {
     "data": {
      "application/vnd.jupyter.widget-view+json": {
       "model_id": "",
       "version_major": 2,
       "version_minor": 0
      },
      "method": "display_data"
     },
     "metadata": {},
     "output_type": "display_data"
    },
    {
     "data": {
      "application/vnd.jupyter.widget-view+json": {
       "model_id": "6af3c4f1-4b89-49d4-9c92-e71a8777153c",
       "version_major": 2,
       "version_minor": 0
      },
      "method": "display_data"
     },
     "metadata": {},
     "output_type": "display_data"
    }
   ],
   "source": [
    "%classpath add mvn com.jimmoores quandl-tablesaw 2.0.0\n",
    "%import com.jimmoores.quandl.*\n",
    "%import com.jimmoores.quandl.tablesaw.*"
   ]
  },
  {
   "cell_type": "code",
   "execution_count": 55,
   "metadata": {},
   "outputs": [
    {
     "data": {
      "application/vnd.jupyter.widget-view+json": {
       "model_id": "68a78e9c-6746-4940-bc93-588549b647c9",
       "version_major": 2,
       "version_minor": 0
      },
      "method": "display_data"
     },
     "metadata": {},
     "output_type": "display_data"
    }
   ],
   "source": [
    "TableSawQuandlSession session = TableSawQuandlSession.create();\n",
    "Table table = session.getDataSet(DataSetRequest.Builder.of(\"WIKI/AAPL\").build());\n",
    "// Create a new column containing the year\n",
    "ShortColumn yearColumn = table.dateColumn(\"Date\").year();\n",
    "yearColumn.setName(\"Year\");\n",
    "table.addColumn(yearColumn);\n",
    "// Create max, min and total volume tables aggregated by year\n",
    "Table summaryMax = table.groupBy(\"year\").max(\"Adj. Close\");\n",
    "Table summaryMin = table.groupBy(\"year\").min(\"Adj. Close\");\n",
    "Table summaryVolume = table.groupBy(\"year\")sum(\"Volume\");\n",
    "// Create a new table from each of these\n",
    "summary = Table.create(\"Summary\", summaryMax.column(0), summaryMax.column(1), \n",
    "                       summaryMin.column(1), summaryVolume.column(1));\n",
    "// Add back a DateColumn to the summary...will be used for plotting\n",
    "DateColumn yearDates = new DateColumn(\"YearDate\");\n",
    "for(year in summary.column('Year')){\n",
    "    yearDates.append(java.time.LocalDate.of(year,1,1));\n",
    "}\n",
    "summary.addColumn(yearDates)\n",
    "\n",
    "summary"
   ]
  },
  {
   "cell_type": "code",
   "execution_count": 56,
   "metadata": {},
   "outputs": [
    {
     "data": {
      "application/vnd.jupyter.widget-view+json": {
       "model_id": "efc4535f-0a3f-4597-9dc3-7236514f4edf",
       "version_major": 2,
       "version_minor": 0
      },
      "method": "display_data"
     },
     "metadata": {},
     "output_type": "display_data"
    }
   ],
   "source": [
    "years = summary.column('YearDate').collect()\n",
    "\n",
    "plot = new TimePlot(title: 'Price Chart for AAPL', xLabel: 'Time', yLabel: 'Max [Adj. Close]')\n",
    "plot << new YAxis(label: 'Volume')\n",
    "plot << new Points(x: years, y: summary.column('Max [Adj. Close]').collect())\n",
    "plot << new Line(x: years, y: summary.column('Max [Adj. Close]').collect(), color: Color.blue)\n",
    "plot << new Stems(x: years, y: summary.column('Sum [Volume]').collect(), yAxis: 'Volume')"
   ]
  },
  {
   "cell_type": "code",
   "execution_count": null,
   "metadata": {},
   "outputs": [],
   "source": []
  },
  {
   "cell_type": "code",
   "execution_count": null,
   "metadata": {},
   "outputs": [],
   "source": []
  },
  {
   "cell_type": "markdown",
   "metadata": {},
   "source": [
    "# BeakerX: Groovy AutoTranslation"
   ]
  },
  {
   "cell_type": "code",
   "execution_count": 34,
   "metadata": {},
   "outputs": [
    {
     "data": {
      "text/plain": [
       "a groovy value"
      ]
     },
     "execution_count": 34,
     "metadata": {},
     "output_type": "execute_result"
    }
   ],
   "source": [
    "//start with groovy\n",
    "beakerx.foo = \"a groovy value\""
   ]
  },
  {
   "cell_type": "code",
   "execution_count": 35,
   "metadata": {},
   "outputs": [
    {
     "data": {
      "application/javascript": [
       "alert(beakerx.foo);\n",
       "beakerx.bar = [23, 48, 7, \"from JS\"];"
      ]
     },
     "execution_count": 35,
     "metadata": {},
     "output_type": "execute_result"
    }
   ],
   "source": [
    "//to javascript\n",
    "%%javascript\n",
    "alert(beakerx.foo);\n",
    "beakerx.bar = [23, 48, 7, \"from JS\"];"
   ]
  },
  {
   "cell_type": "code",
   "execution_count": 36,
   "metadata": {},
   "outputs": [
    {
     "data": {
      "text/plain": [
       "[23, 48, 7, from JS]"
      ]
     },
     "execution_count": 36,
     "metadata": {},
     "output_type": "execute_result"
    }
   ],
   "source": [
    "//back to groovy\n",
    "beakerx.bar "
   ]
  },
  {
   "cell_type": "code",
   "execution_count": 37,
   "metadata": {},
   "outputs": [
    {
     "data": {
      "text/plain": [
       "[23, 48, 7, 'from JS']"
      ]
     },
     "execution_count": 2,
     "metadata": {},
     "output_type": "execute_result"
    }
   ],
   "source": [
    "//to python\n",
    "%%python\n",
    "from beakerx import beakerx\n",
    "beakerx.bar"
   ]
  },
  {
   "cell_type": "code",
   "execution_count": 38,
   "metadata": {},
   "outputs": [
    {
     "data": {
      "text/plain": [
       "[23, 48, 7, from JS]"
      ]
     },
     "execution_count": 1,
     "metadata": {},
     "output_type": "execute_result"
    }
   ],
   "source": [
    "//to scala\n",
    "%%scala\n",
    "beakerx.bar"
   ]
  },
  {
   "cell_type": "code",
   "execution_count": null,
   "metadata": {},
   "outputs": [],
   "source": []
  },
  {
   "cell_type": "markdown",
   "metadata": {},
   "source": [
    "# Basic Graphing "
   ]
  },
  {
   "cell_type": "code",
   "execution_count": 28,
   "metadata": {},
   "outputs": [],
   "source": [
    "rates = new CSV().read(\"../doc/resources/data/interest-rates.csv\")\n",
    "def f = new java.text.SimpleDateFormat(\"yyyy MM dd\")\n",
    "lehmanDate = f.parse(\"2008 09 15\")\n",
    "bubbleBottomDate = f.parse(\"2002 10 09\")\n",
    "inversion1 = [f.parse(\"2000 07 22\"), f.parse(\"2001 02 16\")]\n",
    "inversion2 = [f.parse(\"2006 08 01\"), f.parse(\"2007 06 07\")]\n",
    "def size = rates.size()\n",
    "(0 ..< size).each{row = rates[it]; row.spread = row.y10 - row.m3}\n",
    "\n",
    "OutputCell.HIDDEN"
   ]
  },
  {
   "cell_type": "code",
   "execution_count": 29,
   "metadata": {},
   "outputs": [
    {
     "data": {
      "application/vnd.jupyter.widget-view+json": {
       "model_id": "e53be33c-fcf1-48b4-847c-13507600beda",
       "version_major": 2,
       "version_minor": 0
      },
      "method": "display_data"
     },
     "metadata": {},
     "output_type": "display_data"
    }
   ],
   "source": [
    "// The simplest chart function with all defaults:\n",
    "new SimpleTimePlot(rates, [\"y1\", \"y10\"])"
   ]
  },
  {
   "cell_type": "code",
   "execution_count": 30,
   "metadata": {},
   "outputs": [
    {
     "data": {
      "application/vnd.jupyter.widget-view+json": {
       "model_id": "2f6876ee-7c7f-4cab-80b2-48932e3cc596",
       "version_major": 2,
       "version_minor": 0
      },
      "method": "display_data"
     },
     "metadata": {},
     "output_type": "display_data"
    }
   ],
   "source": [
    "//scatter plot\n",
    "def c = new Color(120, 120, 120, 100)\n",
    "new Plot() << new Points(x: rates.y1, y: rates.y30, displayName: \"y1 vs y30\") \\\n",
    "           << new Points(x: rates.m3, y: rates.y5, displayName: \"m3 vs y5\") \\\n",
    "           << new Line(x: rates.m3, y: rates.y5, color: c) \\\n",
    "           << new Line(x: rates.y1, y: rates.y30, color: c)"
   ]
  },
  {
   "cell_type": "code",
   "execution_count": 31,
   "metadata": {},
   "outputs": [],
   "source": [
    "def ch = new Crosshair(color: Color.gray, width: 2, style: StrokeType.DOT)\n",
    "\n",
    "// The top plot has 2 lines.\n",
    "p1 = new TimePlot(yLabel: \"Interest Rate\", crosshair: ch)\n",
    "p1 << new Line(x: rates.time, y: rates.m3, displayName: \"3 month\")\n",
    "p1 << new Line(x: rates.time, y: rates.y10, displayName: \"10 year\")\n",
    "\n",
    "// The bottom plot has an area filled in.\n",
    "p2 = new TimePlot(yLabel: \"Spread\", crosshair: ch)\n",
    "p2 << new Area(x: rates.time, y: rates.spread, color: new Color(120, 60, 0))\n",
    "\n",
    "// Highlight the inversion intervals\n",
    "def b1 = new ConstantBand(x: inversion1, color: new Color(240, 100, 100, 55))\n",
    "def b2 = new ConstantBand(x: inversion2, color: new Color(240, 100, 100, 55))\n",
    "\n",
    "// Add notation and line for Lehman Bankruptcy.\n",
    "p1 << new Text(x: lehmanDate, y: 7.5, text: \"Lehman Brothers Bankruptcy\")\n",
    "def l1 = new ConstantLine(x: lehmanDate, style: StrokeType.DOT, color: Color.gray)\n",
    "\n",
    "// Add notation and line for Stocks Nadir.\n",
    "p1 << new Text(x: bubbleBottomDate, y: 5.75, text: \"Stocks Hit Bottom\")\n",
    "def l2 = new ConstantLine(x: bubbleBottomDate, style: StrokeType.DOT, color: Color.gray)\n",
    "\n",
    "// add the notations and highlight bands to both plots\n",
    "p1 << l1 << l2 << b1 << b2\n",
    "p2 << l1 << l2 << b1 << b2\n",
    "\n",
    "OutputCell.HIDDEN"
   ]
  },
  {
   "cell_type": "code",
   "execution_count": 32,
   "metadata": {},
   "outputs": [
    {
     "data": {
      "application/vnd.jupyter.widget-view+json": {
       "model_id": "cbc6f2dd-3c15-4874-85c6-3a875b9bf659",
       "version_major": 2,
       "version_minor": 0
      },
      "method": "display_data"
     },
     "metadata": {},
     "output_type": "display_data"
    }
   ],
   "source": [
    "// Then use a CombinedPlot to get stacked plots with linked X axis.\n",
    "def c = new CombinedPlot(title: \"US Treasuries\", initWidth: 1000)\n",
    "\n",
    "// add both plots to the combined plot, and including their relative heights.\n",
    "c.add(p1, 3)\n",
    "c.add(p2, 1)"
   ]
  },
  {
   "cell_type": "code",
   "execution_count": null,
   "metadata": {},
   "outputs": [],
   "source": []
  },
  {
   "cell_type": "markdown",
   "metadata": {},
   "source": [
    "# Groovy to D3js"
   ]
  },
  {
   "cell_type": "code",
   "execution_count": 15,
   "metadata": {},
   "outputs": [],
   "source": [
    "def r = new Random()\n",
    "def nnodes = 100\n",
    "def nodes = []\n",
    "def links = []\n",
    "\n",
    "for (x in (0..nnodes)){\n",
    "  nodes.add(name:\"\" + x, group:((int) x*7/nnodes))\n",
    "}\n",
    "\n",
    "for (x in (0..(int) nnodes*1.15)) { \n",
    "  source = x % nnodes\n",
    "  target = ((int) log(1 + r.nextInt(nnodes))/log(1.3))\n",
    "  value = 10.0 / (1 + abs(source - target))\n",
    "  links.add(source: source, target: target, value: value*value)\n",
    "}\n",
    "\n",
    "beakerx.graph = [nodes: nodes, links: links]\n",
    "OutputCell.HIDDEN"
   ]
  },
  {
   "cell_type": "code",
   "execution_count": 16,
   "metadata": {},
   "outputs": [
    {
     "data": {
      "application/javascript": [
       "require.config({\n",
       "  paths: {\n",
       "      d3: '//cdnjs.cloudflare.com/ajax/libs/d3/4.9.1/d3.min'\n",
       "  }});"
      ]
     },
     "execution_count": 16,
     "metadata": {},
     "output_type": "execute_result"
    }
   ],
   "source": [
    "%%javascript\n",
    "require.config({\n",
    "  paths: {\n",
    "      d3: '//cdnjs.cloudflare.com/ajax/libs/d3/4.9.1/d3.min'\n",
    "  }});"
   ]
  },
  {
   "cell_type": "code",
   "execution_count": 17,
   "metadata": {},
   "outputs": [
    {
     "data": {
      "text/html": [
       "<html><style>\n",
       ".node {\n",
       "  stroke: #fff;\n",
       "  stroke-width: 1.5px;\n",
       "}\n",
       "\n",
       ".link {\n",
       "  stroke: #999;\n",
       "  stroke-opacity: .6;\n",
       "}\n",
       "</style></html>"
      ]
     },
     "execution_count": 17,
     "metadata": {},
     "output_type": "execute_result"
    }
   ],
   "source": [
    "%%html\n",
    "<style>\n",
    ".node {\n",
    "  stroke: #fff;\n",
    "  stroke-width: 1.5px;\n",
    "}\n",
    "\n",
    ".link {\n",
    "  stroke: #999;\n",
    "  stroke-opacity: .6;\n",
    "}\n",
    "</style>"
   ]
  },
  {
   "cell_type": "code",
   "execution_count": 18,
   "metadata": {},
   "outputs": [
    {
     "data": {
      "application/javascript": [
       "\n",
       "beakerx.displayHTML(this, '<div id=\"fdg\"></div>');\n",
       "\n",
       "var graph = beakerx.graph\n",
       "\n",
       "var d3 = require(['d3'], function (d3) {\n",
       "    \n",
       "    var width = 600,\n",
       "        height = 500;\n",
       "\n",
       "    var color = d3.scaleOrdinal(d3.schemeCategory20);\n",
       "\n",
       "    var simulation = d3.forceSimulation()\n",
       "        .force(\"link\", d3.forceLink().distance(30))\n",
       "        .force(\"charge\", d3.forceManyBody().strength(-200))\n",
       "        .force(\"center\", d3.forceCenter(width / 2, height / 2))\n",
       "        .force(\"y\", d3.forceY(width / 2).strength(0.3))\n",
       "        .force(\"x\", d3.forceX(height / 2).strength(0.3));\n",
       "\n",
       "    var svg = d3.select(\"#fdg\")\n",
       "                .append(\"svg\")\n",
       "                .attr(\"width\", width)\n",
       "                .attr(\"height\", height)\n",
       "                .attr(\"transform\", \"translate(\"+[100, 0]+\")\");\n",
       "\n",
       "    simulation\n",
       "          .nodes(graph.nodes)\n",
       "          .force(\"link\")\n",
       "          .links(graph.links);\n",
       "\n",
       "    var link = svg.selectAll(\".link\")\n",
       "          .data(graph.links)\n",
       "          .enter().append(\"line\")\n",
       "          .attr(\"class\", \"link\")\n",
       "          .style(\"stroke-width\", function(d) { return Math.sqrt(d.value); });\n",
       "\n",
       "    var node = svg.selectAll(\".node\")\n",
       "          .data(graph.nodes)\n",
       "          .enter().append(\"circle\")\n",
       "          .attr(\"class\", \"node\")\n",
       "          .attr(\"r\", 10)\n",
       "          .style(\"fill\", function(d) { return color(d.group); });\n",
       "\n",
       "    node.append(\"title\")\n",
       "          .text(function(d) { return d.name; });\n",
       "\n",
       "    simulation.on(\"tick\", function() {\n",
       "        link.attr(\"x1\", function(d) { return d.source.x; })\n",
       "            .attr(\"y1\", function(d) { return d.source.y; })\n",
       "            .attr(\"x2\", function(d) { return d.target.x; })\n",
       "            .attr(\"y2\", function(d) { return d.target.y; });\n",
       "\n",
       "        node.attr(\"cx\", function(d) { return d.x; })\n",
       "            .attr(\"cy\", function(d) { return d.y; });\n",
       "    });\n",
       "    \n",
       "    node.call(d3.drag()\n",
       "        .on(\"start\", dragstarted)\n",
       "        .on(\"drag\", dragged)\n",
       "        .on(\"end\", dragended)\n",
       "    );\n",
       "    \n",
       "    function dragstarted(d) {\n",
       "        if (!d3.event.active) simulation.alphaTarget(0.3).restart();\n",
       "        d.fx = d.x;\n",
       "        d.fy = d.y;\n",
       "    }\n",
       "\n",
       "    function dragged(d) {\n",
       "        d.fx = d3.event.x;\n",
       "        d.fy = d3.event.y;\n",
       "    }\n",
       "\n",
       "    function dragended(d) {\n",
       "        if (!d3.event.active) simulation.alphaTarget(0);\n",
       "        d.fx = null;\n",
       "        d.fy = null;\n",
       "    }\n",
       "});"
      ]
     },
     "execution_count": 18,
     "metadata": {},
     "output_type": "execute_result"
    }
   ],
   "source": [
    "%%javascript\n",
    "\n",
    "beakerx.displayHTML(this, '<div id=\"fdg\"></div>');\n",
    "\n",
    "var graph = beakerx.graph\n",
    "\n",
    "var d3 = require(['d3'], function (d3) {\n",
    "    \n",
    "    var width = 600,\n",
    "        height = 500;\n",
    "\n",
    "    var color = d3.scaleOrdinal(d3.schemeCategory20);\n",
    "\n",
    "    var simulation = d3.forceSimulation()\n",
    "        .force(\"link\", d3.forceLink().distance(30))\n",
    "        .force(\"charge\", d3.forceManyBody().strength(-200))\n",
    "        .force(\"center\", d3.forceCenter(width / 2, height / 2))\n",
    "        .force(\"y\", d3.forceY(width / 2).strength(0.3))\n",
    "        .force(\"x\", d3.forceX(height / 2).strength(0.3));\n",
    "\n",
    "    var svg = d3.select(\"#fdg\")\n",
    "                .append(\"svg\")\n",
    "                .attr(\"width\", width)\n",
    "                .attr(\"height\", height)\n",
    "                .attr(\"transform\", \"translate(\"+[100, 0]+\")\");\n",
    "\n",
    "    simulation\n",
    "          .nodes(graph.nodes)\n",
    "          .force(\"link\")\n",
    "          .links(graph.links);\n",
    "\n",
    "    var link = svg.selectAll(\".link\")\n",
    "          .data(graph.links)\n",
    "          .enter().append(\"line\")\n",
    "          .attr(\"class\", \"link\")\n",
    "          .style(\"stroke-width\", function(d) { return Math.sqrt(d.value); });\n",
    "\n",
    "    var node = svg.selectAll(\".node\")\n",
    "          .data(graph.nodes)\n",
    "          .enter().append(\"circle\")\n",
    "          .attr(\"class\", \"node\")\n",
    "          .attr(\"r\", 10)\n",
    "          .style(\"fill\", function(d) { return color(d.group); });\n",
    "\n",
    "    node.append(\"title\")\n",
    "          .text(function(d) { return d.name; });\n",
    "\n",
    "    simulation.on(\"tick\", function() {\n",
    "        link.attr(\"x1\", function(d) { return d.source.x; })\n",
    "            .attr(\"y1\", function(d) { return d.source.y; })\n",
    "            .attr(\"x2\", function(d) { return d.target.x; })\n",
    "            .attr(\"y2\", function(d) { return d.target.y; });\n",
    "\n",
    "        node.attr(\"cx\", function(d) { return d.x; })\n",
    "            .attr(\"cy\", function(d) { return d.y; });\n",
    "    });\n",
    "    \n",
    "    node.call(d3.drag()\n",
    "        .on(\"start\", dragstarted)\n",
    "        .on(\"drag\", dragged)\n",
    "        .on(\"end\", dragended)\n",
    "    );\n",
    "    \n",
    "    function dragstarted(d) {\n",
    "        if (!d3.event.active) simulation.alphaTarget(0.3).restart();\n",
    "        d.fx = d.x;\n",
    "        d.fy = d.y;\n",
    "    }\n",
    "\n",
    "    function dragged(d) {\n",
    "        d.fx = d3.event.x;\n",
    "        d.fy = d3.event.y;\n",
    "    }\n",
    "\n",
    "    function dragended(d) {\n",
    "        if (!d3.event.active) simulation.alphaTarget(0);\n",
    "        d.fx = null;\n",
    "        d.fy = null;\n",
    "    }\n",
    "});"
   ]
  },
  {
   "cell_type": "code",
   "execution_count": null,
   "metadata": {},
   "outputs": [],
   "source": []
  }
 ],
 "metadata": {
  "kernelspec": {
   "display_name": "Groovy",
   "language": "groovy",
   "name": "groovy"
  },
  "language_info": {
   "codemirror_mode": "groovy",
   "file_extension": ".groovy",
   "mimetype": "",
   "name": "Groovy",
   "nbconverter_exporter": "",
   "version": "2.4.3"
  },
  "toc": {
   "base_numbering": 1,
   "nav_menu": {},
   "number_sections": false,
   "sideBar": false,
   "skip_h1_title": false,
   "title_cell": "Table of Contents",
   "title_sidebar": "Contents",
   "toc_cell": false,
   "toc_position": {},
   "toc_section_display": false,
   "toc_window_display": false
  }
 },
 "nbformat": 4,
 "nbformat_minor": 2
}
