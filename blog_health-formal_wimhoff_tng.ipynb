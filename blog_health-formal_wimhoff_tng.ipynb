{
 "cells": [
  {
   "cell_type": "markdown",
   "metadata": {},
   "source": [
    "# An Introduction to the Wim Hoff Method with Formal Training\n",
    "Date: 2020-01-12  \n",
    "Author: Jason Beach  \n",
    "Categories: Health, Qi  \n",
    "Tags: meditation, cold_emersion   \n",
    "<!--eofm-->"
   ]
  },
  {
   "cell_type": "markdown",
   "metadata": {},
   "source": [
    "Anyone who has seen some of Wim Hoff's cold-exposure feats cannot help but be awe-struck.  He has over 26 Guiness World Records, including longest time in a cage surrounded by ice (over 1 hour), longest swim underneath the Arctic ice cap (he got lost under the ice when his eye lens froze), and completed a marathon at the North Pole (he wore only running shorts for modesty).  But those headliners were only for the sake of publicity.  His real work with professors at top universities leads to ground-breaking papers in the health sciences.  In one of the most compelling, he and 24 other people, in a medical research hospital, are injected with an endo-toxin that causes extreme flu-like symptoms.  He and his 12 students barely suffered a rise in body-temperature, the random control patients became violently ill (as do most people).\n",
    "\n",
    "Wim is very open about his technique, dubbed the Wim Hoff Method: i) perform deep-breathing inhaltion for 30-40 repititions, ii) attempt to hold the breath for a moderate amount of time.  This is the breathing portion, but he also does quite a bit of informal yoga and meditation.  The cold-water portion is simply exposing one's body to increaingly longer amounts of time.  People familiar with Tummo meditation of Tibetan Buddhism will find obvious similarities, and it may be the originating source of Wim's ideas.  Fairly simple and clear.\n",
    "\n",
    "Being an adventurous soul, I tried this on my own, at first.  Filling a bathtub with ice everyday is a bit resource-intensive.  I started with filling a large pot with water and refrigerator-made ice cubes, and waiting for the temperature to drop to 30-40 degrees celsius.  Grabbing ahold of some ice cubes and keeping grip was surprisingly difficult, my first time!  However, after doing this each day for a week, I grew my resistance from ~30 seconds, to well over ten minutes.  The challenge quickly faded.  I moved to cold-water showers, and find it can reach low enough temperatures during the winter to provide a decent response.\n",
    "\n",
    "The Wim Hoff training business, Innerfire BV, is growing quite large.  A recent training session in San Jose, California, had 1200 attendees!  I found a local trainer, through the website, for a 4-hour session.  The techniques were just as simple as the above description.  Of course, careful analysis while meditating leads to a much more dynamic experience.  The breathing exercises are much faster than is typically taught in eastern traditions.  Once the final exhalation is taken, in step two, people have a range of sensations.  The most common appears to be large vibrations, and an almost full-body throbbing.  Again, this is almost violent compared to the subtle pressures of eastern meditation.  \n",
    "\n",
    "The training ended with a 3 minute emersion in ice-filled 34 degree rubber tubs.  Similar to other western style teachings, 'intention' is an important aspect.  One most consciously 'set the intention' to do something uncomfortable (move into cold water), almost like setting a short-term goal.  This is in contrast to aspects of your body's reactions from self-calming, which are completely unconscious.  The bath felt just like entering a cold shower: reactionary strong breathing for the first few seconds, quickly followed by controlled breathing learned from the meditation exercises.  After about a minute, the water feels moderately cool, and you have a calm, focused intent toward breathing and relaxing your body.  It is imperative to continue breathing after getting out of the water; otherwise, the cold sets-in and induces uncontrollable shivers.  A friend and I got cocky and made that mistake, our second time, and the shivering seemd to last for hours.\n",
    "\n",
    "Thanks to Wim's commitment in supporting research, the literature on cold-emersion as a therapy is increasing steadily.  The details are many and nuanced, but the general understanding is that cold water is a stimulus to the body, similar to rag-weed, nuts, and other allergy-inducing factors.  The initial, uncontrolled breathing when entering the water is a type of fight-or-flight response.  By controlling your breath, the thalamus is moderated, and the adrenal response is attenuated.  Interestingly, this keeps the immune system humming, but not to a hyper-active state, such as in auto-immune diesease.  So, the cold-water shock is similar to a virus or other external entity invading the body's organs.  Through focus and psycho-somatic control, the immune system is kept in abatement.  So far, the Wim Hoff Method appears to work well with people who have allergies, multiple scerlorsis and other auto-immune dieases.  Wim is an ambitious guys, and exclaims that he is hoping to apply it to cancer therapy.  \n",
    "\n",
    "From a cultural introspection, this research is interesting and important.  In the 1970s, academics learned of Siberian families throwing young children into cold water, a practice called 'quenching' to make the body hard, just as a smith would do with steel.  Philosophical communities discussed what was to be done about it.  Obviously, what they were doing was scientifically unhealthy.  But, if scientists moved into the communities to stop the tradition, it would be imposing their western traditions on them.  It was a question of means versus ends.  However, we now have an instance of showing that western science and medicine is quite slow and may just be catching-up with ancient traditions.  \n",
    "\n",
    "I've had a great time tyring-out a western meditative style.  I think the cold provides a necessary feedback of progress in meditative training, something solely lacking from ordinary western-based, feel-good fads.  In order to improve a skill some change takes place.  Improved or decreased comfort in cold water is one of the most tangible ways to access training that I've seen in a meditation technique.  I will certainly continue my practice of this Tummo / Wim Hoff Method, and also apply its tools to my studies in other areas of meditation."
   ]
  },
  {
   "cell_type": "code",
   "execution_count": null,
   "metadata": {},
   "outputs": [],
   "source": []
  }
 ],
 "metadata": {
  "kernelspec": {
   "display_name": "Python 3",
   "language": "python",
   "name": "python3"
  },
  "language_info": {
   "codemirror_mode": {
    "name": "ipython",
    "version": 3
   },
   "file_extension": ".py",
   "mimetype": "text/x-python",
   "name": "python",
   "nbconvert_exporter": "python",
   "pygments_lexer": "ipython3",
   "version": "3.6.9"
  },
  "toc": {
   "base_numbering": 1,
   "nav_menu": {},
   "number_sections": false,
   "sideBar": false,
   "skip_h1_title": false,
   "title_cell": "Table of Contents",
   "title_sidebar": "Contents",
   "toc_cell": false,
   "toc_position": {},
   "toc_section_display": false,
   "toc_window_display": false
  }
 },
 "nbformat": 4,
 "nbformat_minor": 2
}
