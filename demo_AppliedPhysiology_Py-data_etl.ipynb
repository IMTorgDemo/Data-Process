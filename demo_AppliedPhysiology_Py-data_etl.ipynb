{
 "cells": [
  {
   "cell_type": "markdown",
   "metadata": {},
   "source": [
    "Performed with beakerx notebook kernel."
   ]
  },
  {
   "cell_type": "code",
   "execution_count": 1,
   "metadata": {},
   "outputs": [
    {
     "name": "stdout",
     "output_type": "stream",
     "text": [
      "Bar.json\t\t       StatisticsExercise.json\r\n",
      "daily_strength_2019_12_21.zip  tmp.json\r\n",
      "Exercise.json\t\t       UserPreferences.json\r\n",
      "ExerciseNotes.json\t       WorkoutExercise.json\r\n",
      "Measurement.json\t       WorkoutExerciseSet.json\r\n",
      "MeasurementLog.json\t       Workout.json\r\n",
      "Plate.json\t\t       WorkoutSessionExercise.json\r\n",
      "Reminder.json\t\t       WorkoutSession.json\r\n",
      "Schedule.json\t\t       WorkoutSessionSet.json\r\n"
     ]
    }
   ],
   "source": [
    "! ls ./Data/daily_strength_2019_12_21/"
   ]
  },
  {
   "cell_type": "code",
   "execution_count": 7,
   "metadata": {},
   "outputs": [],
   "source": [
    "import json\n",
    "\n",
    "path = './Data/daily_strength_2019_12_21/'\n",
    "file = 'WorkoutSession.json'\n",
    "with open(path+file, 'r') as handle:\n",
    "    parsed = json.load(handle)"
   ]
  },
  {
   "cell_type": "code",
   "execution_count": 8,
   "metadata": {},
   "outputs": [],
   "source": [
    "with open(path+'tmp.json', 'w') as outfile:\n",
    "    json.dump(parsed, outfile, indent=4, sort_keys=False)"
   ]
  },
  {
   "cell_type": "code",
   "execution_count": 9,
   "metadata": {},
   "outputs": [],
   "source": [
    "from pandas.io.json import json_normalize\n",
    "tmp = json_normalize(parsed, record_path=['workoutSessionExercises','workoutSessionSets'], \n",
    "                     meta=['startDate','endDate',['workoutSessionExercises','exercise','name']], \n",
    "                     errors='ignore')"
   ]
  },
  {
   "cell_type": "code",
   "execution_count": 10,
   "metadata": {},
   "outputs": [],
   "source": [
    "from beakerx import beakerx\n",
    "\n",
    "beakerx.Data = {\"startDate\": tmp.startDate.tolist() ,\"endDate\": tmp.endDate.tolist() }"
   ]
  },
  {
   "cell_type": "code",
   "execution_count": 11,
   "metadata": {},
   "outputs": [
    {
     "data": {
      "application/javascript": [
       "\n",
       "var start = [];\n",
       "var end = [];\n",
       "for (var i = 0; i < beakerx.Data.startDate.length; i++) {\n",
       "    var d1 = new Date( beakerx.Data.startDate[i] )\n",
       "    start[i] = d1.toLocaleString()\n",
       "    var d2 = new Date( beakerx.Data.endDate[i] )\n",
       "    end[i] = d2.toLocaleString()\n",
       "} \n",
       "beakerx.start = start\n",
       "beakerx.end = end"
      ],
      "text/plain": [
       "<IPython.core.display.Javascript object>"
      ]
     },
     "metadata": {},
     "output_type": "display_data"
    }
   ],
   "source": [
    "%%javascript\n",
    "\n",
    "var start = [];\n",
    "var end = [];\n",
    "for (var i = 0; i < beakerx.Data.startDate.length; i++) {\n",
    "    var d1 = new Date( beakerx.Data.startDate[i] )\n",
    "    start[i] = d1.toLocaleString()\n",
    "    var d2 = new Date( beakerx.Data.endDate[i] )\n",
    "    end[i] = d2.toLocaleString()\n",
    "} \n",
    "beakerx.start = start\n",
    "beakerx.end = end"
   ]
  },
  {
   "cell_type": "code",
   "execution_count": 15,
   "metadata": {},
   "outputs": [],
   "source": [
    "tmp['start'] = beakerx.start\n",
    "tmp['end'] = beakerx.end\n",
    "tmp.to_csv(path+'data.csv', index=False)"
   ]
  },
  {
   "cell_type": "code",
   "execution_count": 16,
   "metadata": {},
   "outputs": [
    {
     "data": {
      "application/vnd.jupyter.widget-view+json": {
       "model_id": "54817ff736d14693bbc06ba63befd1c9",
       "version_major": 2,
       "version_minor": 0
      }
     },
     "metadata": {},
     "output_type": "display_data"
    }
   ],
   "source": [
    "tmp.head()"
   ]
  },
  {
   "cell_type": "code",
   "execution_count": 22,
   "metadata": {},
   "outputs": [],
   "source": [
    "bench = tmp.loc[tmp['workoutSessionExercises.exercise.name'] == 'Barbell Bench Press']"
   ]
  },
  {
   "cell_type": "code",
   "execution_count": 23,
   "metadata": {},
   "outputs": [
    {
     "data": {
      "text/plain": [
       "(762, 16)"
      ]
     },
     "execution_count": 23,
     "metadata": {},
     "output_type": "execute_result"
    }
   ],
   "source": [
    "bench.shape"
   ]
  }
 ],
 "metadata": {
  "kernelspec": {
   "display_name": "Python 3",
   "language": "python",
   "name": "python3"
  },
  "language_info": {
   "codemirror_mode": {
    "name": "ipython",
    "version": 3
   },
   "file_extension": ".py",
   "mimetype": "text/x-python",
   "name": "python",
   "nbconvert_exporter": "python",
   "pygments_lexer": "ipython3",
   "version": "3.6.9"
  },
  "toc": {
   "base_numbering": 1,
   "nav_menu": {},
   "number_sections": false,
   "sideBar": false,
   "skip_h1_title": false,
   "title_cell": "Table of Contents",
   "title_sidebar": "Contents",
   "toc_cell": false,
   "toc_position": {},
   "toc_section_display": false,
   "toc_window_display": false
  }
 },
 "nbformat": 4,
 "nbformat_minor": 2
}
