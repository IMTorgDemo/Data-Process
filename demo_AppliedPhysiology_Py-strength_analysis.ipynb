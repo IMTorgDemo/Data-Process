{
 "cells": [
  {
   "cell_type": "markdown",
   "metadata": {},
   "source": [
    "# Analysis of Multi-Periodized Training Regimen\n",
    "Date: 2019-06-24  \n",
    "Author: Jason Beach \n",
    "Categories: DataScience, Fitness  \n",
    "Tags: R, tag2, tag3  \n",
    "<!--eofm-->"
   ]
  },
  {
   "cell_type": "markdown",
   "metadata": {},
   "source": [
    "Intro goes here.  Daily Strength app created by [Anthony Ng](https://github.com/nganthony)."
   ]
  },
  {
   "cell_type": "markdown",
   "metadata": {},
   "source": [
    "## Config"
   ]
  },
  {
   "cell_type": "markdown",
   "metadata": {},
   "source": [
    "We will be using python, with R for visualizations and other specific functions, as our main workflow.  We will also use the python-javascript autotranslation in order to convert JS integers into string-formatted dates."
   ]
  },
  {
   "cell_type": "code",
   "execution_count": 1,
   "metadata": {},
   "outputs": [
    {
     "data": {
      "text/plain": [
       "('1.15.4', '0.24.2')"
      ]
     },
     "execution_count": 1,
     "metadata": {},
     "output_type": "execute_result"
    }
   ],
   "source": [
    "# basics\n",
    "import numpy as np\n",
    "import pandas as pd\n",
    "from pandas import Timestamp\n",
    "#from sklearn import metrics\n",
    "#from sklearn import linear_model\n",
    "import pickle\n",
    "\n",
    "np.__version__, pd.__version__"
   ]
  },
  {
   "cell_type": "code",
   "execution_count": 2,
   "metadata": {},
   "outputs": [],
   "source": [
    "%load_ext rpy2.ipython\n",
    "\n",
    "df = pd.DataFrame({\n",
    "    'cups_of_coffee': [0, 1, 2, 3, 4, 5, 6, 7, 8, 9],\n",
    "    'productivity': [2, 5, 6, 8, 9, 8, 0, 1, 0, -1]\n",
    "})"
   ]
  },
  {
   "cell_type": "code",
   "execution_count": 3,
   "metadata": {},
   "outputs": [],
   "source": [
    "%%R\n",
    "options(warn=-1)   # do not show warnings: for presentation only"
   ]
  },
  {
   "cell_type": "code",
   "execution_count": 4,
   "metadata": {},
   "outputs": [
    {
     "data": {
      "image/png": "[encoded data removed]"
     },
     "metadata": {},
     "output_type": "display_data"
    }
   ],
   "source": [
    "%%R -i df -w 2 -h 1 --units in -r 100 \n",
    "library(ggplot2)\n",
    "ggplot(df, aes(x=cups_of_coffee, y=productivity)) + geom_line()"
   ]
  },
  {
   "cell_type": "code",
   "execution_count": 5,
   "metadata": {},
   "outputs": [],
   "source": [
    "import pandas as pd\n",
    "import matplotlib.pyplot as plt"
   ]
  },
  {
   "cell_type": "code",
   "execution_count": 6,
   "metadata": {},
   "outputs": [],
   "source": [
    "pd.options.display.float_format = '{:20,.2f}'.format    # format decimal output \n",
    "pd.options.display.max_columns = None                   # show all columns in table\n",
    "pd.options.mode.chained_assignment = None               # default='warn', turn-off this warning"
   ]
  },
  {
   "cell_type": "markdown",
   "metadata": {},
   "source": [
    "## Data Preparation"
   ]
  },
  {
   "cell_type": "code",
   "execution_count": 7,
   "metadata": {},
   "outputs": [
    {
     "name": "stdout",
     "output_type": "stream",
     "text": [
      "daily_strength_2019_06_23.zip  WorkoutExercise.json\n",
      "daily-strength.csv\t       WorkoutExerciseSet.json\n",
      "data.csv\t\t       Workout.json\n",
      "reference\t\t       WorkoutSessionExercise.json\n",
      "Schedule.json\t\t       WorkoutSession.json\n",
      "tmp.json\t\t       WorkoutSessionSet.json\n"
     ]
    }
   ],
   "source": [
    "! ls ./Data/DailyStrength"
   ]
  },
  {
   "cell_type": "code",
   "execution_count": 8,
   "metadata": {},
   "outputs": [],
   "source": [
    "import json\n",
    "\n",
    "path = './Data/DailyStrength/'\n",
    "file = 'WorkoutSession.json'\n",
    "with open(path+file, 'r') as handle:\n",
    "    parsed = json.load(handle)"
   ]
  },
  {
   "cell_type": "code",
   "execution_count": 9,
   "metadata": {},
   "outputs": [],
   "source": [
    "with open(path+'tmp.json', 'w') as outfile:\n",
    "    json.dump(parsed, outfile, indent=4, sort_keys=False)"
   ]
  },
  {
   "cell_type": "code",
   "execution_count": 10,
   "metadata": {},
   "outputs": [
    {
     "name": "stdout",
     "output_type": "stream",
     "text": [
      "[\n",
      "    {\n",
      "        \"workoutSessionExercises\": [\n",
      "            {\n",
      "                \"exercise\": {\n",
      "                    \"category\": \"weight_and_reps\",\n",
      "                    \"thumbnailUrl\": \"https://d3r2akiggou3b8.cloudfront.net/exercises/barbell_bench_press/180.gif\",\n",
      "                    \"standardResolutionUrl\": \"https://d3r2akiggou3b8.cloudfront.net/exercises/barbell_bench_press/720.gif\",\n",
      "                    \"equipment\": \"Barbell\",\n",
      "                    \"id\": \"81266ff2-8ccb-4ba6-a3b2-37529dc58de5\",\n"
     ]
    }
   ],
   "source": [
    "! head ./Data/DailyStrength/tmp.json --lines 10"
   ]
  },
  {
   "cell_type": "code",
   "execution_count": 15,
   "metadata": {},
   "outputs": [],
   "source": [
    "from pandas.io.json import json_normalize\n",
    "tmp = json_normalize(parsed, record_path=['workoutSessionExercises','workoutSessionSets'], \n",
    "                     meta=['startDate','endDate',['workoutSessionExercises','exercise','name']], \n",
    "                     errors='ignore')"
   ]
  },
  {
   "cell_type": "code",
   "execution_count": 19,
   "metadata": {},
   "outputs": [
    {
     "data": {
      "text/html": [
       "<div>\n",
       "<style scoped>\n",
       "    .dataframe tbody tr th:only-of-type {\n",
       "        vertical-align: middle;\n",
       "    }\n",
       "\n",
       "    .dataframe tbody tr th {\n",
       "        vertical-align: top;\n",
       "    }\n",
       "\n",
       "    .dataframe thead th {\n",
       "        text-align: right;\n",
       "    }\n",
       "</style>\n",
       "<table border=\"1\" class=\"dataframe\">\n",
       "  <thead>\n",
       "    <tr style=\"text-align: right;\">\n",
       "      <th></th>\n",
       "      <th>id</th>\n",
       "      <th>isComplete</th>\n",
       "      <th>measurementUnit</th>\n",
       "      <th>oneRepMax</th>\n",
       "      <th>reps</th>\n",
       "      <th>restTime</th>\n",
       "      <th>set</th>\n",
       "      <th>untilFailure</th>\n",
       "      <th>warmUp</th>\n",
       "      <th>weight</th>\n",
       "      <th>startDate</th>\n",
       "      <th>endDate</th>\n",
       "      <th>workoutSessionExercises.exercise.name</th>\n",
       "    </tr>\n",
       "  </thead>\n",
       "  <tbody>\n",
       "    <tr>\n",
       "      <th>0</th>\n",
       "      <td>93a2d1b0-5289-4622-b691-aac0ab4ae7c5</td>\n",
       "      <td>True</td>\n",
       "      <td>lbs</td>\n",
       "      <td>291.19</td>\n",
       "      <td>3</td>\n",
       "      <td>60.00</td>\n",
       "      <td>1</td>\n",
       "      <td>False</td>\n",
       "      <td>False</td>\n",
       "      <td>275.00</td>\n",
       "      <td>1543692427000</td>\n",
       "      <td>1544406674446</td>\n",
       "      <td>Barbell Bench Press</td>\n",
       "    </tr>\n",
       "    <tr>\n",
       "      <th>1</th>\n",
       "      <td>089db444-c875-4bd5-9535-08b1ce9dd5c9</td>\n",
       "      <td>True</td>\n",
       "      <td>lbs</td>\n",
       "      <td>291.19</td>\n",
       "      <td>3</td>\n",
       "      <td>60.00</td>\n",
       "      <td>2</td>\n",
       "      <td>False</td>\n",
       "      <td>False</td>\n",
       "      <td>275.00</td>\n",
       "      <td>1543692427000</td>\n",
       "      <td>1544406674446</td>\n",
       "      <td>Barbell Bench Press</td>\n",
       "    </tr>\n",
       "    <tr>\n",
       "      <th>2</th>\n",
       "      <td>bd6d0c5a-1d20-404b-8276-16446029c0b6</td>\n",
       "      <td>True</td>\n",
       "      <td>lbs</td>\n",
       "      <td>282.86</td>\n",
       "      <td>2</td>\n",
       "      <td>60.00</td>\n",
       "      <td>3</td>\n",
       "      <td>False</td>\n",
       "      <td>False</td>\n",
       "      <td>275.00</td>\n",
       "      <td>1543692427000</td>\n",
       "      <td>1544406674446</td>\n",
       "      <td>Barbell Bench Press</td>\n",
       "    </tr>\n",
       "  </tbody>\n",
       "</table>\n",
       "</div>"
      ],
      "text/plain": [
       "                                     id  isComplete measurementUnit  \\\n",
       "0  93a2d1b0-5289-4622-b691-aac0ab4ae7c5        True             lbs   \n",
       "1  089db444-c875-4bd5-9535-08b1ce9dd5c9        True             lbs   \n",
       "2  bd6d0c5a-1d20-404b-8276-16446029c0b6        True             lbs   \n",
       "\n",
       "             oneRepMax  reps             restTime  set  untilFailure  warmUp  \\\n",
       "0               291.19     3                60.00    1         False   False   \n",
       "1               291.19     3                60.00    2         False   False   \n",
       "2               282.86     2                60.00    3         False   False   \n",
       "\n",
       "                weight      startDate        endDate  \\\n",
       "0               275.00  1543692427000  1544406674446   \n",
       "1               275.00  1543692427000  1544406674446   \n",
       "2               275.00  1543692427000  1544406674446   \n",
       "\n",
       "  workoutSessionExercises.exercise.name  \n",
       "0                   Barbell Bench Press  \n",
       "1                   Barbell Bench Press  \n",
       "2                   Barbell Bench Press  "
      ]
     },
     "execution_count": 19,
     "metadata": {},
     "output_type": "execute_result"
    }
   ],
   "source": [
    "tmp.head(3)"
   ]
  },
  {
   "cell_type": "code",
   "execution_count": 23,
   "metadata": {},
   "outputs": [],
   "source": [
    "from beakerx import beakerx\n",
    "beakerx.Data = {\"startDate\": tmp.startDate.tolist() ,\"endDate\": tmp.endDate.tolist() }"
   ]
  },
  {
   "cell_type": "code",
   "execution_count": 42,
   "metadata": {},
   "outputs": [
    {
     "data": {
      "application/javascript": [
       "\n",
       "var start = [];\n",
       "var end = [];\n",
       "for (var i = 0; i < beakerx.Data.startDate.length; i++) {\n",
       "    var d1 = new Date( beakerx.Data.startDate[i] )\n",
       "    start[i] = d1.toLocaleString()\n",
       "    var d2 = new Date( beakerx.Data.endDate[i] )\n",
       "    end[i] = d2.toLocaleString()\n",
       "} \n",
       "beakerx.jsData = {start: start, end: end}"
      ],
      "text/plain": [
       "<IPython.core.display.Javascript object>"
      ]
     },
     "metadata": {},
     "output_type": "display_data"
    }
   ],
   "source": [
    "%%javascript\n",
    "\n",
    "var start = [];\n",
    "var end = [];\n",
    "for (var i = 0; i < beakerx.Data.startDate.length; i++) {\n",
    "    var d1 = new Date( beakerx.Data.startDate[i] )\n",
    "    start[i] = d1.toLocaleString()\n",
    "    var d2 = new Date( beakerx.Data.endDate[i] )\n",
    "    end[i] = d2.toLocaleString()\n",
    "} \n",
    "beakerx.jsData = {start: start, end: end}"
   ]
  },
  {
   "cell_type": "code",
   "execution_count": 43,
   "metadata": {},
   "outputs": [],
   "source": [
    "tmp['start'] = beakerx.jsData['start']\n",
    "tmp['end'] = beakerx.jsData['end']\n",
    "tmp1.to_csv(path+'data.csv', index=False)"
   ]
  },
  {
   "cell_type": "markdown",
   "metadata": {},
   "source": [
    "Just kidding - that was all for fun!  The 'export to .csv' started working on the mobile app, so I was able to use it."
   ]
  },
  {
   "cell_type": "markdown",
   "metadata": {},
   "source": [
    "## Exploratory Data Analysis"
   ]
  },
  {
   "cell_type": "code",
   "execution_count": 69,
   "metadata": {},
   "outputs": [],
   "source": [
    "path = './Data/DailyStrength/'\n",
    "file = 'daily-strength.csv'\n",
    "df = pd.read_csv(path+file)\n",
    "\n",
    "df.Date = pd.to_datetime(df.Date, infer_datetime_format=True)\n",
    "df['Day'] = df.Date.dt.date\n",
    "\n",
    "df['Exercise'] = df['Exercise'].replace({'Cable Underhand Pulldown':'Pull Ups'})\n",
    "df['Exercise'] = df['Exercise'].replace({'Barbell Squat To Bench':'Barbell Squat'})\n",
    "df['Exercise'] = df['Exercise'].replace({'T-Bar Rows':'Bent Over Barbell Row'})"
   ]
  },
  {
   "cell_type": "code",
   "execution_count": 70,
   "metadata": {},
   "outputs": [
    {
     "data": {
      "text/html": [
       "<div>\n",
       "<style scoped>\n",
       "    .dataframe tbody tr th:only-of-type {\n",
       "        vertical-align: middle;\n",
       "    }\n",
       "\n",
       "    .dataframe tbody tr th {\n",
       "        vertical-align: top;\n",
       "    }\n",
       "\n",
       "    .dataframe thead th {\n",
       "        text-align: right;\n",
       "    }\n",
       "</style>\n",
       "<table border=\"1\" class=\"dataframe\">\n",
       "  <thead>\n",
       "    <tr style=\"text-align: right;\">\n",
       "      <th></th>\n",
       "      <th>Date</th>\n",
       "      <th>Workout name</th>\n",
       "      <th>Exercise</th>\n",
       "      <th>Set</th>\n",
       "      <th>Weight</th>\n",
       "      <th>Reps</th>\n",
       "      <th>Distance</th>\n",
       "      <th>Duration</th>\n",
       "      <th>Measurement unit</th>\n",
       "      <th>Notes</th>\n",
       "      <th>Day</th>\n",
       "    </tr>\n",
       "  </thead>\n",
       "  <tbody>\n",
       "    <tr>\n",
       "      <th>0</th>\n",
       "      <td>2018-12-01 14:27:07</td>\n",
       "      <td>Workout on the fly</td>\n",
       "      <td>Barbell Bench Press</td>\n",
       "      <td>1</td>\n",
       "      <td>275</td>\n",
       "      <td>3</td>\n",
       "      <td>nan</td>\n",
       "      <td>nan</td>\n",
       "      <td>lbs</td>\n",
       "      <td>nan</td>\n",
       "      <td>2018-12-01</td>\n",
       "    </tr>\n",
       "    <tr>\n",
       "      <th>1</th>\n",
       "      <td>2018-12-01 14:27:07</td>\n",
       "      <td>Workout on the fly</td>\n",
       "      <td>Barbell Bench Press</td>\n",
       "      <td>2</td>\n",
       "      <td>275</td>\n",
       "      <td>3</td>\n",
       "      <td>nan</td>\n",
       "      <td>nan</td>\n",
       "      <td>lbs</td>\n",
       "      <td>nan</td>\n",
       "      <td>2018-12-01</td>\n",
       "    </tr>\n",
       "    <tr>\n",
       "      <th>2</th>\n",
       "      <td>2018-12-01 14:27:07</td>\n",
       "      <td>Workout on the fly</td>\n",
       "      <td>Barbell Bench Press</td>\n",
       "      <td>3</td>\n",
       "      <td>275</td>\n",
       "      <td>2</td>\n",
       "      <td>nan</td>\n",
       "      <td>nan</td>\n",
       "      <td>lbs</td>\n",
       "      <td>nan</td>\n",
       "      <td>2018-12-01</td>\n",
       "    </tr>\n",
       "    <tr>\n",
       "      <th>3</th>\n",
       "      <td>2018-12-01 14:27:07</td>\n",
       "      <td>Workout on the fly</td>\n",
       "      <td>Barbell Bench Press</td>\n",
       "      <td>4</td>\n",
       "      <td>275</td>\n",
       "      <td>2</td>\n",
       "      <td>nan</td>\n",
       "      <td>nan</td>\n",
       "      <td>lbs</td>\n",
       "      <td>nan</td>\n",
       "      <td>2018-12-01</td>\n",
       "    </tr>\n",
       "    <tr>\n",
       "      <th>4</th>\n",
       "      <td>2018-12-01 14:27:07</td>\n",
       "      <td>Workout on the fly</td>\n",
       "      <td>Barbell Bench Press</td>\n",
       "      <td>5</td>\n",
       "      <td>275</td>\n",
       "      <td>2</td>\n",
       "      <td>nan</td>\n",
       "      <td>nan</td>\n",
       "      <td>lbs</td>\n",
       "      <td>nan</td>\n",
       "      <td>2018-12-01</td>\n",
       "    </tr>\n",
       "  </tbody>\n",
       "</table>\n",
       "</div>"
      ],
      "text/plain": [
       "                 Date        Workout name             Exercise  Set  Weight  \\\n",
       "0 2018-12-01 14:27:07  Workout on the fly  Barbell Bench Press    1     275   \n",
       "1 2018-12-01 14:27:07  Workout on the fly  Barbell Bench Press    2     275   \n",
       "2 2018-12-01 14:27:07  Workout on the fly  Barbell Bench Press    3     275   \n",
       "3 2018-12-01 14:27:07  Workout on the fly  Barbell Bench Press    4     275   \n",
       "4 2018-12-01 14:27:07  Workout on the fly  Barbell Bench Press    5     275   \n",
       "\n",
       "   Reps             Distance             Duration Measurement unit  \\\n",
       "0     3                  nan                  nan              lbs   \n",
       "1     3                  nan                  nan              lbs   \n",
       "2     2                  nan                  nan              lbs   \n",
       "3     2                  nan                  nan              lbs   \n",
       "4     2                  nan                  nan              lbs   \n",
       "\n",
       "                 Notes         Day  \n",
       "0                  nan  2018-12-01  \n",
       "1                  nan  2018-12-01  \n",
       "2                  nan  2018-12-01  \n",
       "3                  nan  2018-12-01  \n",
       "4                  nan  2018-12-01  "
      ]
     },
     "execution_count": 70,
     "metadata": {},
     "output_type": "execute_result"
    }
   ],
   "source": [
    "df.head()"
   ]
  },
  {
   "cell_type": "code",
   "execution_count": 68,
   "metadata": {},
   "outputs": [
    {
     "data": {
      "text/plain": [
       "Exercise\n",
       "Barbell Bench Press                145\n",
       "Barbell Deadlifts                  163\n",
       "Barbell Squat                       71\n",
       "Bent Over Barbell Row               75\n",
       "Clean                               13\n",
       "Pull Ups                           148\n",
       "Standing Barbell Military Press     68\n",
       "Name: Date, dtype: int64"
      ]
     },
     "execution_count": 68,
     "metadata": {},
     "output_type": "execute_result"
    }
   ],
   "source": [
    "(df.groupby('Exercise').count())['Date']"
   ]
  },
  {
   "cell_type": "code",
   "execution_count": 71,
   "metadata": {},
   "outputs": [
    {
     "name": "stderr",
     "output_type": "stream",
     "text": [
      "/opt/conda/lib/python3.7/site-packages/rpy2/robjects/pandas2ri.py:61: UserWarning: Error while trying to convert the column \"Day\". Fall back to string conversion. The error is: Conversion 'py2ri' not defined for objects of type '<class 'datetime.date'>'\n",
      "  (name, str(e)))\n"
     ]
    },
    {
     "data": {
      "image/png": "[encoded data removed]"
     },
     "metadata": {},
     "output_type": "display_data"
    }
   ],
   "source": [
    "%%R -i df -w 3 -h 2 --units in -r 100 \n",
    "df$Date <- as.Date(df$Date)\n",
    "\n",
    "library(ggplot2)\n",
    "ggplot(df, aes(x=Date, y=Weight)) + geom_line(alpha=0.4)"
   ]
  },
  {
   "cell_type": "code",
   "execution_count": 79,
   "metadata": {},
   "outputs": [
    {
     "data": {
      "text/html": [
       "<div>\n",
       "<style scoped>\n",
       "    .dataframe tbody tr th:only-of-type {\n",
       "        vertical-align: middle;\n",
       "    }\n",
       "\n",
       "    .dataframe tbody tr th {\n",
       "        vertical-align: top;\n",
       "    }\n",
       "\n",
       "    .dataframe thead th {\n",
       "        text-align: right;\n",
       "    }\n",
       "</style>\n",
       "<table border=\"1\" class=\"dataframe\">\n",
       "  <thead>\n",
       "    <tr style=\"text-align: right;\">\n",
       "      <th></th>\n",
       "      <th>Day</th>\n",
       "      <th>Exercise</th>\n",
       "      <th>Weight</th>\n",
       "      <th>Set</th>\n",
       "    </tr>\n",
       "  </thead>\n",
       "  <tbody>\n",
       "    <tr>\n",
       "      <th>0</th>\n",
       "      <td>2018-12-01</td>\n",
       "      <td>Barbell Bench Press</td>\n",
       "      <td>275.00</td>\n",
       "      <td>5</td>\n",
       "    </tr>\n",
       "    <tr>\n",
       "      <th>1</th>\n",
       "      <td>2018-12-01</td>\n",
       "      <td>Pull Ups</td>\n",
       "      <td>90.00</td>\n",
       "      <td>5</td>\n",
       "    </tr>\n",
       "    <tr>\n",
       "      <th>2</th>\n",
       "      <td>2018-12-02</td>\n",
       "      <td>Barbell Deadlifts</td>\n",
       "      <td>385.00</td>\n",
       "      <td>5</td>\n",
       "    </tr>\n",
       "    <tr>\n",
       "      <th>3</th>\n",
       "      <td>2018-12-05</td>\n",
       "      <td>Standing Barbell Military Press</td>\n",
       "      <td>70.00</td>\n",
       "      <td>5</td>\n",
       "    </tr>\n",
       "    <tr>\n",
       "      <th>4</th>\n",
       "      <td>2018-12-09</td>\n",
       "      <td>Barbell Bench Press</td>\n",
       "      <td>275.00</td>\n",
       "      <td>5</td>\n",
       "    </tr>\n",
       "  </tbody>\n",
       "</table>\n",
       "</div>"
      ],
      "text/plain": [
       "          Day                         Exercise               Weight  Set\n",
       "0  2018-12-01              Barbell Bench Press               275.00    5\n",
       "1  2018-12-01                         Pull Ups                90.00    5\n",
       "2  2018-12-02                Barbell Deadlifts               385.00    5\n",
       "3  2018-12-05  Standing Barbell Military Press                70.00    5\n",
       "4  2018-12-09              Barbell Bench Press               275.00    5"
      ]
     },
     "execution_count": 79,
     "metadata": {},
     "output_type": "execute_result"
    }
   ],
   "source": [
    "dfDay = df.groupby(['Day','Exercise'])['Weight'].mean()\n",
    "dfDay = pd.DataFrame(dfDay)\n",
    "tmp = df.groupby(['Day','Exercise']).count()\n",
    "dfDay['Set'] = tmp.Set\n",
    "dfDay.reset_index(inplace=True)\n",
    "dfDay.head()"
   ]
  },
  {
   "cell_type": "code",
   "execution_count": 83,
   "metadata": {},
   "outputs": [
    {
     "data": {
      "image/png": "[encoded data removed]"
     },
     "metadata": {},
     "output_type": "display_data"
    }
   ],
   "source": [
    "%%R -i dfDay -w 5 -h 3 --units in -r 100 \n",
    "dfDay$Day <- as.Date(dfDay$Day, \"%Y-%m-%d\")\n",
    "\n",
    "library(ggplot2)\n",
    "ggplot(dfDay, aes(x=Day, y=Weight, group=Exercise)) + geom_line(aes(colour = Set))"
   ]
  },
  {
   "cell_type": "code",
   "execution_count": null,
   "metadata": {},
   "outputs": [],
   "source": []
  }
 ],
 "metadata": {
  "kernelspec": {
   "display_name": "Python 3",
   "language": "python",
   "name": "python3"
  },
  "language_info": {
   "codemirror_mode": {
    "name": "ipython",
    "version": 3
   },
   "file_extension": ".py",
   "mimetype": "text/x-python",
   "name": "python",
   "nbconvert_exporter": "python",
   "pygments_lexer": "ipython3",
   "version": "3.7.3"
  },
  "toc": {
   "base_numbering": 1,
   "nav_menu": {},
   "number_sections": false,
   "sideBar": false,
   "skip_h1_title": false,
   "title_cell": "Table of Contents",
   "title_sidebar": "Contents",
   "toc_cell": false,
   "toc_position": {},
   "toc_section_display": false,
   "toc_window_display": false
  }
 },
 "nbformat": 4,
 "nbformat_minor": 2
}
