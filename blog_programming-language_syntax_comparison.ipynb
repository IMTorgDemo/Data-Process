{
 "cells": [
  {
   "cell_type": "markdown",
   "metadata": {},
   "source": [
    "# Syntax Comparisons Across Languages\n",
    "Date: 2020-01-09  \n",
    "Author: Jason Beach  \n",
    "Categories: Process, DataScience  \n",
    "Tags: machine-learning, best-practice   \n",
    "<!--eofm-->"
   ]
  },
  {
   "cell_type": "markdown",
   "metadata": {},
   "source": [
    "Scripting languages are quite popular for effectively getting work done.  But, their similarities lead to mental difficulties when remembering syntax and common idioms.  This post is used as a cheatsheet describing fundamental differences in how the languages are used.   "
   ]
  },
  {
   "cell_type": "markdown",
   "metadata": {},
   "source": [
    "## Introduction\n",
    "\n",
    "In any one day, I may program in five or six different languages.  This is enjoyable when the syntax is different enough that there is no confusion.  Domain Specific Languages, including R, SQL, Bash, and HTML, are orthogonal in their approach to being productive.  But, the 'Big Three' language families of Python, Javascript, and JVM variety (Java, Groovy, Scala) are so similar that they are easily confused. "
   ]
  },
  {
   "cell_type": "markdown",
   "metadata": {},
   "source": [
    "## Common Themes\n",
    "\n",
    "Python is a dynamically-typed language, and this feature is an important reason why programmers can be more productive with Python; they don’t have to deal with the overhead of Java’s static typing. So the debates about Java/Python productivity inevitably turn into debates about the comparative advantages and drawbacks of static typing versus dynamic typing — or strong typing versus weak typing — in programming languages.  \n",
    "\n",
    "Dynamic typing is concise, which can lead to smaller source code and fewer errors.  But, this can also be exemplary of fewer features.  To compensate, python uses protocols and other means to provision classes; rather than solely through object-oriented class hierarchies.  It is VERY instructive to look at dynamic-typed language from the perspective of static-typed to understand what problems may occur from the differences.  \n",
    "\n",
    "Static typing can better ensure certainty of data in IO operations among applications and distributed environments.  Its greater standardization also lends to more automation of code and functionality in specific frameworks, such as Spring.  While less concise, this standardization and straight-forward approach lend Java to large code bases that require many contributors, such as Apache open-source projects.  \n",
    "\n",
    "We will provide examples of how that is demonstrated in practice."
   ]
  },
  {
   "cell_type": "markdown",
   "metadata": {},
   "source": [
    "### Closures (Groovy)\n",
    "\n",
    "Closures, operator overloading and meta programming are the key tools to adding Grooviness to existing libraries. Even many features that may look like being built into the core syntax are just clever library design. Appending to a list with << is an overloaded operator while looping over its entries with .each is an added method that takes a closure as its parameter."
   ]
  },
  {
   "cell_type": "code",
   "execution_count": null,
   "metadata": {},
   "outputs": [],
   "source": [
    "def myClosure = { x, y -> x + y }\t\t// scala uses =>\n",
    "[1, 2, 3, 4].each{ println it*2 } \t\t// it is assumed\n",
    "[<list>].<iterator>{<param> -> <statment>}\n",
    "for(<condition>){<logic>} \t\t\t\t// loops can be faster than `.each`"
   ]
  },
  {
   "cell_type": "markdown",
   "metadata": {},
   "source": [
    "### List, dict comprehensions (Py)\n",
    "\n",
    "Python list comprehensions provide a concise way to create lists.  If this syntax was implemented in Java, it would be unreadable from all of the associated data types.  Comprehensions use the following syntax:  "
   ]
  },
  {
   "cell_type": "markdown",
   "metadata": {},
   "source": [
    "%%python\n",
    " result   = [ expression for item in list if conditional ]\n",
    "*result*  = [*transform*    *iteration*         *filter*     ]\n",
    "\n",
    "#the * operator is used to repeat. The filter part answers the question if theitem should be transformed. "
   ]
  },
  {
   "cell_type": "markdown",
   "metadata": {},
   "source": [
    "Which corresponds to"
   ]
  },
  {
   "cell_type": "markdown",
   "metadata": {},
   "source": [
    "%%python\n",
    "for item in list:\n",
    "    if conditional:\n",
    "        expression"
   ]
  },
  {
   "cell_type": "code",
   "execution_count": 5,
   "metadata": {},
   "outputs": [
    {
     "data": {
      "text/plain": [
       "['1', '2', '3', '4', '5']"
      ]
     },
     "execution_count": 5,
     "metadata": {},
     "output_type": "execute_result"
    }
   ],
   "source": [
    "%%python\n",
    "string = \"Hello 12345 World\"\n",
    "numbers = [x for x in string if x.isdigit()]\n",
    "numbers"
   ]
  },
  {
   "cell_type": "code",
   "execution_count": 6,
   "metadata": {},
   "outputs": [
    {
     "data": {
      "text/plain": [
       "[0, 4, 8, 12, 16]"
      ]
     },
     "execution_count": 6,
     "metadata": {},
     "output_type": "execute_result"
    }
   ],
   "source": [
    "%%python\n",
    "def double(x):\n",
    "  return x*2\n",
    "[double(x) for x in range(10)]\n",
    "[double(x) for x in range(10) if x%2==0]"
   ]
  },
  {
   "cell_type": "code",
   "execution_count": 7,
   "metadata": {},
   "outputs": [
    {
     "data": {
      "text/plain": [
       "[30, 50, 70, 50, 70, 90, 70, 90, 110]"
      ]
     },
     "execution_count": 7,
     "metadata": {},
     "output_type": "execute_result"
    }
   ],
   "source": [
    "%%python\n",
    "[x+y for x in [10,30,50] for y in [20,40,60]]"
   ]
  },
  {
   "cell_type": "code",
   "execution_count": 8,
   "metadata": {},
   "outputs": [
    {
     "data": {
      "text/plain": [
       "{0: 'No', 1: 'one', 2: 'expects', 3: 'the', 4: 'Spanish', 5: 'Inquisition'}"
      ]
     },
     "execution_count": 8,
     "metadata": {},
     "output_type": "execute_result"
    }
   ],
   "source": [
    "%%python\n",
    "#dict comprehensions are just as good as list comprehensions\n",
    "my_phrase = [\"No\", \"one\", \"expects\", \"the\", \"Spanish\", \"Inquisition\"]\n",
    "my_dict = {key: value for value, key in enumerate(my_phrase)}\n",
    "reversed_dict = {value: key for key, value in my_dict.items()}\n",
    "reversed_dict"
   ]
  },
  {
   "cell_type": "markdown",
   "metadata": {},
   "source": [
    "### Callback (Js)\n",
    "\n",
    "* [js idioms for java devs](http://softwareloop.com/2015/02/09/javascript-idioms-for-java-developers/)"
   ]
  },
  {
   "cell_type": "markdown",
   "metadata": {},
   "source": [
    "## Data Structures and Collections\n",
    "\n",
    "These are some of the most commonly-used objects within a language.  The data structure describes the underlying principles of how the class works with hardware, and the various collection interfaces describe how to interact with the object."
   ]
  },
  {
   "cell_type": "markdown",
   "metadata": {},
   "source": [
    "### ArrayList / LinkedList (JVM), iterables / sequences (Py), array (Js)\n",
    "\n",
    "ArrayList ???\n",
    "\n",
    "LinkedHashMap is just like HashMap with an additional feature of maintaining an order of elements inserted into it, [ref](https://www.geeksforgeeks.org/linkedhashmap-class-java-examples/).  Like arrays, Linked List is a linear data structure. Unlike arrays, linked list elements are not stored at a contiguous location; the elements are linked using pointers, [ref: java linked lists](https://www.geeksforgeeks.org/linked-list-set-1-introduction/).\n",
    "\n",
    "There are two `remove` methods available: One that takes an integer and removes an element by its index, and another that will remove the first element that matches the passed value.  If we have a list of integers, use `removeAt` to remove an element by its index, and `removeElement` to remove the first element that matches a value."
   ]
  },
  {
   "cell_type": "code",
   "execution_count": 104,
   "metadata": {},
   "outputs": [
    {
     "data": {
      "text/plain": [
       "null"
      ]
     },
     "execution_count": 104,
     "metadata": {},
     "output_type": "execute_result"
    }
   ],
   "source": [
    "//ArrayList\n",
    "list = [5, 6, 7, 8]\n",
    "list.add(9)\n",
    "list << 10\n",
    "assert list  == [5, 6, 7, 8, 9, 10]\n",
    "assert list.get(2) == 7\n",
    "\n",
    "list.remove(5)    \n",
    "assert list.max() == 9\n",
    "assert ['a','b','c','b','b'] - 'c' == ['a','b','b','b']  //remove elements from list by value"
   ]
  },
  {
   "cell_type": "code",
   "execution_count": 106,
   "metadata": {},
   "outputs": [
    {
     "data": {
      "text/plain": [
       "null"
      ]
     },
     "execution_count": 106,
     "metadata": {},
     "output_type": "execute_result"
    }
   ],
   "source": [
    "assert [1, 2, 3, 4, 5][-1] == 5             //use negative indices to count from the end\n",
    "\n",
    "assert list.size() == 5\n",
    "assert list.getClass() == ArrayList     //the specific kind of list being used"
   ]
  },
  {
   "cell_type": "code",
   "execution_count": 107,
   "metadata": {},
   "outputs": [
    {
     "data": {
      "text/plain": [
       "null"
      ]
     },
     "execution_count": 107,
     "metadata": {},
     "output_type": "execute_result"
    }
   ],
   "source": [
    "assert [1, 2, 3] * 3 == [1, 2, 3, 1, 2, 3, 1, 2, 3]\n",
    "assert [1, 2, 3].multiply(2) == [1, 2, 3, 1, 2, 3]\n",
    "\n",
    "assert Collections.nCopies(3, 'b') == ['b', 'b', 'b']\n",
    "assert Collections.nCopies(2, [1, 2]) == [[1, 2], [1, 2]] //not [1,2,1,2]; nCopies from the JDK has different semantics than multiply for lists"
   ]
  },
  {
   "cell_type": "code",
   "execution_count": 109,
   "metadata": {},
   "outputs": [
    {
     "data": {
      "text/plain": [
       "null"
      ]
     },
     "execution_count": 109,
     "metadata": {},
     "output_type": "execute_result"
    }
   ],
   "source": [
    "def list2 = new ArrayList<String>(list)\n",
    "assert list2 == list   //== checks that each corresponding element is the same"
   ]
  },
  {
   "cell_type": "code",
   "execution_count": 110,
   "metadata": {},
   "outputs": [
    {
     "data": {
      "text/plain": [
       "null"
      ]
     },
     "execution_count": 110,
     "metadata": {},
     "output_type": "execute_result"
    }
   ],
   "source": [
    "def list3 = list.clone()\n",
    "assert list3 == list   //clone() can also be called"
   ]
  },
  {
   "cell_type": "markdown",
   "metadata": {},
   "source": [
    "Iterating on elements of a list is usually done calling the `each` and `eachWithIndex` methods, which execute code on each item of a list.  \n",
    "\n",
    "Mapping is creating a new list by transforming each of its elements into something else, using the `collect` method."
   ]
  },
  {
   "cell_type": "code",
   "execution_count": 111,
   "metadata": {},
   "outputs": [
    {
     "name": "stdout",
     "output_type": "stream",
     "text": [
      "0: a\n",
      "1: b\n",
      "2: c\n"
     ]
    },
    {
     "data": {
      "text/plain": [
       "null"
      ]
     },
     "execution_count": 111,
     "metadata": {},
     "output_type": "execute_result"
    }
   ],
   "source": [
    "['a', 'b', 'c'].eachWithIndex { it, i -> println \"$i: $it\"} //`it` is the current element, while `i` is the index\n",
    "    \n",
    "assert [1, 2, 3].collect { it * 2 } == [2, 4, 6]\n",
    "assert [1, 2, 3]*.multiply(2) == [1, 2, 3].collect { it.multiply(2) }  //shortcut syntax instead of collect"
   ]
  },
  {
   "cell_type": "code",
   "execution_count": 112,
   "metadata": {},
   "outputs": [
    {
     "data": {
      "text/plain": [
       "null"
      ]
     },
     "execution_count": 112,
     "metadata": {},
     "output_type": "execute_result"
    }
   ],
   "source": [
    "assert [1, 2, 3].find { it > 1 } == 2           //find 1st element matching criteria\n",
    "assert [1, 2, 3].findAll { it > 1 } == [2, 3]   //find all elements matching critieria\n",
    "\n",
    "assert ['a', 'b', 'c', 'd', 'e'].findIndexOf { it in ['c', 'e', 'g'] } == 2     //find index of 1st element matching criteria\n",
    "assert ['a', 'b', 'c', 'd', 'c'].indexOf('c') == 2                              //first index returned\n",
    "assert ['a', 'b', 'c', 'd', 'c'].findIndexValues{it=='c'} == [2,4]              //all indices returned"
   ]
  },
  {
   "cell_type": "code",
   "execution_count": 113,
   "metadata": {},
   "outputs": [
    {
     "data": {
      "text/plain": [
       "null"
      ]
     },
     "execution_count": 113,
     "metadata": {},
     "output_type": "execute_result"
    }
   ],
   "source": [
    "assert [1, 2, 3].every { it < 5 }               // returns true if all elements match the predicate\n",
    "assert ![1, 2, 3].every { it < 3 }              // negation\n",
    "assert [1, 2, 3].any { it > 2 }                 // returns true if any element matches the predicate"
   ]
  },
  {
   "cell_type": "code",
   "execution_count": 114,
   "metadata": {},
   "outputs": [
    {
     "data": {
      "text/plain": [
       "null"
      ]
     },
     "execution_count": 114,
     "metadata": {},
     "output_type": "execute_result"
    }
   ],
   "source": [
    "assert [1, 2, 3].join('-') == '1-2-3'           // String joining\n",
    "assert [1, 2, 3].inject('counting: ') { str, item -> str + item } == 'counting: 123'     // reduce operation"
   ]
  },
  {
   "cell_type": "code",
   "execution_count": 115,
   "metadata": {},
   "outputs": [
    {
     "data": {
      "text/plain": [
       "null"
      ]
     },
     "execution_count": 115,
     "metadata": {},
     "output_type": "execute_result"
    }
   ],
   "source": [
    "Comparator mc = { a, b -> a == b ? 0 : (a < b ? -1 : 1) }\n",
    "def list = [7, 4, 9, -6, -1, 11, 2, 3, -9, 5, -13]\n",
    "assert list.max(mc) == 11"
   ]
  },
  {
   "cell_type": "markdown",
   "metadata": {},
   "source": [
    "Sorting is a common list operation."
   ]
  },
  {
   "cell_type": "code",
   "execution_count": 116,
   "metadata": {},
   "outputs": [
    {
     "data": {
      "text/plain": [
       "null"
      ]
     },
     "execution_count": 116,
     "metadata": {},
     "output_type": "execute_result"
    }
   ],
   "source": [
    "assert [6, 3, 9, 2, 7, 1, 5].sort() == [1, 2, 3, 5, 6, 7, 9]\n",
    "\n",
    "def list = ['abc', 'z', 'xyzuvw', 'Hello', '321']\n",
    "assert list.sort { it.size() } == ['z', 'abc', '321', 'Hello', 'xyzuvw']\n",
    "\n",
    "def list2 = [7, 4, -6, -1, 11, 2, 3, -9, 5, -13]\n",
    "assert list2.sort { a, b -> a == b ? 0 : Math.abs(a) < Math.abs(b) ? -1 : 1 } == [-1, 2, 3, 4, 5, -6, 7, -9, 11, -13]"
   ]
  },
  {
   "cell_type": "code",
   "execution_count": null,
   "metadata": {},
   "outputs": [],
   "source": [
    "//Groovy Iterables???"
   ]
  },
  {
   "cell_type": "markdown",
   "metadata": {},
   "source": [
    "Python provides iterables (the iterator protocol) for the implementation of lists, generators, and other classes that require returning its members one by one.  An iterator is an object representing a stream of data. \n",
    "\n",
    "Sequences (list, tuple, string) are a type of iterable that support efficient element access using integer indices via the `__getitem()__` special method (indexing) and define a `__length()__` method that returns the length of the sequence.\n",
    "\n",
    "Many things in Python are iterables, but not all of them are sequences. "
   ]
  },
  {
   "cell_type": "code",
   "execution_count": 14,
   "metadata": {},
   "outputs": [
    {
     "name": "stdout",
     "output_type": "stream",
     "text": [
      "[['akash', 5], ['rishav', 10], ['gaurav', 15], ['ram', 20]]\n"
     ]
    }
   ],
   "source": [
    "%%python\n",
    "def Sort(sub_li): \n",
    "    # reverse = None (Sorts in Ascending order) \n",
    "    # key is set to sort using second element of  \n",
    "    # sublist lambda has been used \n",
    "    sub_li.sort(key = lambda x: x[1]) \n",
    "    return sub_li\n",
    " \n",
    "sub_li =[['rishav', 10], ['akash', 5], ['ram', 20], ['gaurav', 15]] \n",
    "print(Sort(sub_li)) "
   ]
  },
  {
   "cell_type": "code",
   "execution_count": 16,
   "metadata": {},
   "outputs": [
    {
     "name": "stdout",
     "output_type": "stream",
     "text": [
      "0 It's\n",
      "1 only\n",
      "2 a\n",
      "3 model\n"
     ]
    }
   ],
   "source": [
    "%%python\n",
    "#you can iterate over a list and get its index\n",
    "mylist = [\"It's\", 'only', 'a', 'model']\n",
    "for index, item in enumerate(mylist):\n",
    "    print(index, item)"
   ]
  },
  {
   "cell_type": "code",
   "execution_count": null,
   "metadata": {},
   "outputs": [],
   "source": [
    "%%javascript\n",
    "arr = []"
   ]
  },
  {
   "cell_type": "markdown",
   "metadata": {},
   "source": [
    "### Hash map (JVM), collection (py), ??? (Js)\n",
    "\n",
    "* [ref: groovy maps](https://www.baeldung.com/groovy-maps)\n",
    "* [ref: arraylist vs hashmap](https://www.geeksforgeeks.org/arraylist-vs-hashmap-in-java/)"
   ]
  },
  {
   "cell_type": "code",
   "execution_count": 145,
   "metadata": {},
   "outputs": [
    {
     "data": {
      "text/plain": [
       "null"
      ]
     },
     "execution_count": 145,
     "metadata": {},
     "output_type": "execute_result"
    }
   ],
   "source": [
    "map = [name: 'Gromit', likes: 'cheese', id: 1234, \"city\":\"New York\"]\n",
    "map.put('foo', 'bar')\n",
    "assert map.get('name') == 'Gromit'\n",
    "assert map.containsKey('city') == true"
   ]
  },
  {
   "cell_type": "code",
   "execution_count": 132,
   "metadata": {},
   "outputs": [
    {
     "data": {
      "text/plain": [
       "null"
      ]
     },
     "execution_count": 132,
     "metadata": {},
     "output_type": "execute_result"
    }
   ],
   "source": [
    "assert map.size() == 5\n",
    "assert map instanceof java.util.Map\n",
    "assert map.getClass() == LinkedHashMap     // this is probably what you want"
   ]
  },
  {
   "cell_type": "markdown",
   "metadata": {},
   "source": [
    "Map keys are strings by default.  You must 'escape' a key (parenthesis) if you want to use a variable's value as key."
   ]
  },
  {
   "cell_type": "code",
   "execution_count": 133,
   "metadata": {},
   "outputs": [
    {
     "data": {
      "text/plain": [
       "null"
      ]
     },
     "execution_count": 133,
     "metadata": {},
     "output_type": "execute_result"
    }
   ],
   "source": [
    "def a = 'Bob'\n",
    "def ages = [a: 43]\n",
    "assert ages['Bob'] == null //`Bob` is not found\n",
    "assert ages['a'] == 43     //because `a` is a literal!\n",
    "\n",
    "ages = [(a): 43]            //now we escape `a` by using parenthesis\n",
    "assert ages['Bob'] == 43   //and the value is found!"
   ]
  },
  {
   "cell_type": "markdown",
   "metadata": {},
   "source": [
    "Maps also act like beans so you can use the property notation to get/set items inside the Map."
   ]
  },
  {
   "cell_type": "code",
   "execution_count": 134,
   "metadata": {},
   "outputs": [
    {
     "data": {
      "text/plain": [
       "foo"
      ]
     },
     "execution_count": 134,
     "metadata": {},
     "output_type": "execute_result"
    }
   ],
   "source": [
    "assert map.name == 'Gromit'     //can be used instead of map.get('name')\n",
    "assert map.id == 1234\n",
    "map.bar = 'foo'"
   ]
  },
  {
   "cell_type": "markdown",
   "metadata": {},
   "source": [
    "Maps created using the map literal notation are ordered, that is to say that if you iterate on map entries, it is guaranteed that the entries will be returned in the same order they were added in the map."
   ]
  },
  {
   "cell_type": "code",
   "execution_count": 135,
   "metadata": {},
   "outputs": [
    {
     "name": "stdout",
     "output_type": "stream",
     "text": [
      "0 name: Gromit\n",
      "1 likes: cheese\n",
      "2 id: 1234\n",
      "3 city: New York\n",
      "4 foo: bar\n",
      "5 bar: foo\n"
     ]
    },
    {
     "data": {
      "application/vnd.jupyter.widget-view+json": {
       "model_id": "f9b4100d-b4f9-4792-8460-976e4e2bf929",
       "version_major": 2,
       "version_minor": 0
      },
      "method": "display_data"
     },
     "metadata": {},
     "output_type": "display_data"
    }
   ],
   "source": [
    "map.eachWithIndex{entry, i -> println \"$i $entry.key: $entry.value\"}"
   ]
  },
  {
   "cell_type": "code",
   "execution_count": 138,
   "metadata": {},
   "outputs": [
    {
     "data": {
      "application/vnd.jupyter.widget-view+json": {
       "model_id": "1d50e485-dcff-42bf-ae31-fd7c0248be1f",
       "version_major": 2,
       "version_minor": 0
      },
      "method": "display_data"
     },
     "metadata": {},
     "output_type": "display_data"
    }
   ],
   "source": [
    "map.sort()\t\t\t\t\t\t\t\t\t\t\t\t\t\t\t\t// sort on key"
   ]
  },
  {
   "cell_type": "code",
   "execution_count": 136,
   "metadata": {},
   "outputs": [
    {
     "data": {
      "text/plain": [
       "true"
      ]
     },
     "execution_count": 136,
     "metadata": {},
     "output_type": "execute_result"
    }
   ],
   "source": [
    "map.find{it.value == \"New York\"}.key == \"city\"\t\t\t\t\t\t\t// returns the first Entry that matches\n",
    "map.findAll{it.value == \"New York\"} == [city : \"New York\"]\t\t\t\t// returns all matches to a map"
   ]
  },
  {
   "cell_type": "code",
   "execution_count": 140,
   "metadata": {},
   "outputs": [
    {
     "ename": "groovy.lang.MissingMethodException",
     "evalue": " No signature of method",
     "output_type": "error",
     "traceback": [
      "\u001b[1;31mgroovy.lang.MissingMethodException: No signature of method: script1579053864497.assertTrue() is applicable for argument types: (java.lang.Boolean) values: [true]\u001b[0;0m",
      "\u001b[1;31m\tat script1579053864497$_run_closure2.doCall(script1579053864497:1)\u001b[0;0m",
      "\u001b[1;31m\tat this cell line 1\u001b[0;0m",
      "\u001b[0;31m\tat com.twosigma.beakerx.groovy.evaluator.GroovyCodeRunner.runScript(GroovyCodeRunner.java:94)\u001b[0;0m",
      "\u001b[0;31m\tat com.twosigma.beakerx.groovy.evaluator.GroovyCodeRunner.call(GroovyCodeRunner.java:59)\u001b[0;0m",
      "\u001b[0;31m\tat com.twosigma.beakerx.groovy.evaluator.GroovyCodeRunner.call(GroovyCodeRunner.java:32)\u001b[0;0m"
     ]
    }
   ],
   "source": [
    "map.grep{it.value == \"New York\"}.each{it -> assertTrue(it.key == \"city\" && it.value == \"New York\")}\t\t\t// returns a list instead of a map"
   ]
  },
  {
   "cell_type": "code",
   "execution_count": 141,
   "metadata": {},
   "outputs": [
    {
     "ename": "groovy.lang.MissingPropertyException",
     "evalue": " No such property",
     "output_type": "error",
     "traceback": [
      "\u001b[1;31mgroovy.lang.MissingPropertyException: No such property: name for class: java.lang.String\u001b[0;0m",
      "\u001b[1;31m\tat script1579053917761$_run_closure2.doCall(script1579053917761:2)\u001b[0;0m",
      "\u001b[1;31m\tat this cell line 2\u001b[0;0m",
      "\u001b[0;31m\tat com.twosigma.beakerx.groovy.evaluator.GroovyCodeRunner.runScript(GroovyCodeRunner.java:94)\u001b[0;0m",
      "\u001b[0;31m\tat com.twosigma.beakerx.groovy.evaluator.GroovyCodeRunner.call(GroovyCodeRunner.java:59)\u001b[0;0m",
      "\u001b[0;31m\tat com.twosigma.beakerx.groovy.evaluator.GroovyCodeRunner.call(GroovyCodeRunner.java:32)\u001b[0;0m"
     ]
    }
   ],
   "source": [
    "map.every{it -> it.value instanceof String} == false\t\t\t\t\t// returns a boolean\n",
    "map.collect{entry -> entry.value.name}\t\t\t\t\t\t\t\t\t// collect entries into a list\n",
    "map.findAll{it.value.age < 30}.collect{key, value -> value.name}\t\t// query and collect into new map\n",
    "map.groupBy{it.value % 2}\t\t\t\t\t\t\t\t\t\t\t\t// subgroup"
   ]
  },
  {
   "cell_type": "markdown",
   "metadata": {},
   "source": [
    "Python defines a collection (dictionary, set, frozenset) as not having a deterministic ordering."
   ]
  },
  {
   "cell_type": "code",
   "execution_count": null,
   "metadata": {},
   "outputs": [],
   "source": [
    "%%python\n",
    "#dict\n",
    "#open an append file when given a file with the following\n",
    "#a 5\n",
    "#b 6\n",
    "#d 7\n",
    "#a 2\n",
    "#c 1\n",
    "\n",
    "d = {}\n",
    "for line in file('data/keyvalue.txt'):\n",
    "    key, value = line.split()\n",
    "    l = d.get(key, [])\n",
    "    l.append(int(value))\n",
    "    d[key] = l\n",
    "    \n",
    "def sort_by_sum_value(a, b):\n",
    "...    sum_a = sum(a[1])\n",
    "...    sum_b = sum(b[1])\n",
    "...    return cmp(sum_a, sum_b)\n",
    "\n",
    "items = d.items()\n",
    "items    #[('a', [5, 2]), ('c', [1]), ('b', [6]), ('d', [7])]\n",
    "items.sort(sort_by_sum_value)\n",
    "\n",
    "\n",
    "#iterate over items\n",
    "my_dict = {'name': 'Lancelot', 'quest': 'Holy Grail', 'favourite_color': 'blue'}\n",
    "print(my_dict.get('airspeed velocity of an unladen swallow', 'African or European?\\n'))\n",
    "for key, value in my_dict.iteritems():\n",
    "    print(key, value, sep=\": \")"
   ]
  },
  {
   "cell_type": "markdown",
   "metadata": {},
   "source": [
    "### Set and operations\n",
    "\n",
    "Set operations can be performed on Groovy lists."
   ]
  },
  {
   "cell_type": "code",
   "execution_count": null,
   "metadata": {},
   "outputs": [],
   "source": [
    "assert 'a' in ['a','b','c']             // returns true if an element belongs to the list\n",
    "assert ['a','b','c'].contains('a')      // equivalent to the `contains` method in Java\n",
    "assert [1,3,4].containsAll([1,4])       // `containsAll` will check that all elements are found\n",
    "\n",
    "assert [1,2,3,3,3,3,4,5].count(3) == 4  // count the number of elements which have some value\n",
    "\n",
    "assert [1,2,4,6,8,10,12].intersect([1,3,6,9,12]) == [1,6,12]\n",
    "\n",
    "assert [1,2,3].disjoint( [4,6,9] )\n",
    "assert ![1,2,3].disjoint( [2,4,6] )"
   ]
  },
  {
   "cell_type": "markdown",
   "metadata": {},
   "source": [
    "Python has its own builtin `set` collection."
   ]
  },
  {
   "cell_type": "code",
   "execution_count": 21,
   "metadata": {},
   "outputs": [
    {
     "name": "stdout",
     "output_type": "stream",
     "text": [
      "{1, 2, 3, 4, 5, 6}\n",
      "{4, 5}\n",
      "True\n",
      "False\n"
     ]
    }
   ],
   "source": [
    "%%python\n",
    "s = set((1, 2, 3, 4, 5))\n",
    "t = set((4, 5, 6))\n",
    "print( s.union(t) )\n",
    "\n",
    "set([1, 2, 3, 4, 5, 6])\n",
    "print( s.intersection(t) )\n",
    "\n",
    "u = set((4, 5, 6, 7))\n",
    "print( t.issubset(u) )\n",
    "print( u.issubset(t) )\n",
    "\n",
    "sl = list(s)\n",
    "ss = set(sl)"
   ]
  },
  {
   "cell_type": "code",
   "execution_count": null,
   "metadata": {},
   "outputs": [],
   "source": [
    "%%javascript\n",
    "//just JSON???"
   ]
  },
  {
   "cell_type": "markdown",
   "metadata": {},
   "source": [
    "### Iterators"
   ]
  },
  {
   "cell_type": "markdown",
   "metadata": {},
   "source": [
    "Python doesn't have `for()` loops: `for(initializer; condition; iterator){`.  It has something more akin to a `foreach` loop: `for number in numbers:`.  Python’s for loop is using iterators."
   ]
  },
  {
   "cell_type": "markdown",
   "metadata": {},
   "source": [
    "An iterable is an object capable of returning its members one by one - you can apply a `for` loop to it.  Sequences are a common type of iterable.  They support efficient element access using integer indices via the `__getitem()__` special method (indexing), so slicing can be performed on them.\n",
    "\n",
    "Dictionaries, file objects, sets, and generators are all iterables, but none of them is a sequence.\n",
    "\n",
    "An iterator is an object representing a stream of data. You can create an iterator object by applying the `iter()` built-in function to an iterable.  You can use an iterator to manually loop over the iterable it came from. A repeated passing of iterator to the built-in function next()returns successive items in the stream. "
   ]
  },
  {
   "cell_type": "code",
   "execution_count": 73,
   "metadata": {},
   "outputs": [
    {
     "name": "stdout",
     "output_type": "stream",
     "text": [
      "<list_iterator object at 0x7f568f83b0f0>\n",
      "10\n"
     ]
    }
   ],
   "source": [
    "%%python\n",
    "numbers = [10, 12, 15, 18, 20]   #create iterable\n",
    "print(iter(numbers))\n",
    "\n",
    "iterator = iter(numbers)         #create iterator\n",
    "print(next(iterator))"
   ]
  },
  {
   "cell_type": "markdown",
   "metadata": {},
   "source": [
    "In Python, the iterators are also iterables which act as their own iterators.  However, the difference is that iterators don’t have some of the features that iterables have. They don’t have length `len()` and can’t be indexed `iterartor[0]`.\n",
    "\n",
    "Common iterators include: enumerate, reverse, zip, map, filter, and the File object."
   ]
  },
  {
   "cell_type": "code",
   "execution_count": 75,
   "metadata": {},
   "outputs": [
    {
     "name": "stdout",
     "output_type": "stream",
     "text": [
      "(0, 10)\n",
      "100\n"
     ]
    }
   ],
   "source": [
    "%%python\n",
    "numbers = [10, 12, 15, 18, 20]\n",
    "iterator = enumerate(numbers)\n",
    "print(next(iterator))             #index, value\n",
    "\n",
    "squared = map(lambda x: x**2, numbers)\n",
    "print(next(squared))              #applied function"
   ]
  },
  {
   "cell_type": "markdown",
   "metadata": {},
   "source": [
    "Because of their laziness, the iterators can help us to deal with infinitely long iterables. Iterators can save us a lot of memory and CPU time.  We can use `itertools.repeat` to create an iterable that provides 100 million 4’s to us.  This iterator takes up 56 bytes of memory on my machine versus the 800 megabytes of a list."
   ]
  },
  {
   "cell_type": "code",
   "execution_count": 86,
   "metadata": {},
   "outputs": [
    {
     "name": "stdout",
     "output_type": "stream",
     "text": [
      "56\n",
      "800000064\n"
     ]
    }
   ],
   "source": [
    "%%python\n",
    "from itertools import repeat\n",
    "lots_of_fours = repeat(4, times=100_000_000)\n",
    "\n",
    "import sys\n",
    "size_in_bytes = sys.getsizeof(lots_of_fours)\n",
    "print(size_in_bytes)\n",
    "\n",
    "lots_of_fours = [4] * 100_000_000\n",
    "size_in_bytes = sys.getsizeof(lots_of_fours)\n",
    "print(size_in_bytes)"
   ]
  },
  {
   "cell_type": "markdown",
   "metadata": {},
   "source": [
    "Python iterators are more general versions of the sequence protocol.  Here, `__iter__` just returns `self`, an object that has the function `next()`, which (when called) either returns a value or raises a `StopIteration` exception.  "
   ]
  },
  {
   "cell_type": "code",
   "execution_count": 76,
   "metadata": {},
   "outputs": [
    {
     "name": "stdout",
     "output_type": "stream",
     "text": [
      "1\n",
      "2\n",
      "3\n",
      "4\n",
      "5\n"
     ]
    }
   ],
   "source": [
    "%%python\n",
    "class SillyIter:\n",
    "    i = 0\n",
    "    n = 5\n",
    "    def __iter__(self):\n",
    "        return self\n",
    "    def __next__(self):\n",
    "        self.i += 1\n",
    "        if self.i > self.n:\n",
    "            raise StopIteration\n",
    "        return self.i\n",
    "\n",
    "si = SillyIter()\n",
    "for i in si:\n",
    "    print(i)"
   ]
  },
  {
   "cell_type": "markdown",
   "metadata": {},
   "source": [
    "It is much easier to use a generator function or generator expression to create a custom iterator.  A generator function from the Python docs.  A function which returns a generator iterator. It looks like a normal function except that it contains `yield` expressions for producing a series of values one at a time with the `next()`.  `yield` temporarily suspends processing, remembering the location execution state (including local variables and pending try-statements). When the generator iterator resumes, it picks up where it left off (in contrast to functions which start fresh on every invocation)."
   ]
  },
  {
   "cell_type": "code",
   "execution_count": 81,
   "metadata": {},
   "outputs": [
    {
     "name": "stdout",
     "output_type": "stream",
     "text": [
      "1\n",
      "2\n",
      "3\n",
      "4\n",
      "5\n"
     ]
    }
   ],
   "source": [
    "%%python\n",
    "def SillyIter():\n",
    "    i = 0\n",
    "    n = 5\n",
    "    while i < n:\n",
    "        i+=1\n",
    "        yield i\n",
    "\n",
    "si = SillyIter()\n",
    "for i in si:\n",
    "    print(i)"
   ]
  },
  {
   "cell_type": "markdown",
   "metadata": {},
   "source": [
    "A generator expression is similar to a list comprehension."
   ]
  },
  {
   "cell_type": "code",
   "execution_count": 84,
   "metadata": {},
   "outputs": [
    {
     "name": "stdout",
     "output_type": "stream",
     "text": [
      "100\n"
     ]
    }
   ],
   "source": [
    "%%python\n",
    "squares = (number**2 for number in numbers if number % 2 == 0)\n",
    "print(next(squares))"
   ]
  },
  {
   "cell_type": "markdown",
   "metadata": {},
   "source": [
    "We’ve actually already met several iterators in disguise; in particular, `enumerate` is an iterator. To drive home the point, here’s a simple reimplementation of enumerate:"
   ]
  },
  {
   "cell_type": "code",
   "execution_count": 88,
   "metadata": {},
   "outputs": [
    {
     "name": "stdout",
     "output_type": "stream",
     "text": [
      "0 a\n",
      "1 b\n",
      "2 c\n"
     ]
    }
   ],
   "source": [
    "%%python\n",
    "class my_enumerate:\n",
    "    def __init__(self, some_iter):\n",
    "        self.some_iter = iter(some_iter)\n",
    "        self.count = -1\n",
    "    def __iter__(self):\n",
    "        return self\n",
    "    def __next__(self):\n",
    "        val = self.some_iter.__next__()\n",
    "        self.count += 1\n",
    "        return self.count, val\n",
    "    \n",
    "for n, val in my_enumerate(['a', 'b', 'c']):\n",
    "    print(n, val)"
   ]
  },
  {
   "cell_type": "markdown",
   "metadata": {},
   "source": [
    "Generators are a Python implementation of coroutines. Essentially, they’re functions that let you suspend execution and return a result:"
   ]
  },
  {
   "cell_type": "code",
   "execution_count": 27,
   "metadata": {},
   "outputs": [
    {
     "name": "stdout",
     "output_type": "stream",
     "text": [
      "0\n",
      "1\n",
      "4\n",
      "9\n",
      "16\n"
     ]
    }
   ],
   "source": [
    "%%python\n",
    "def g():\n",
    "    for i in range(0, 5):\n",
    "        yield i**2\n",
    "for i in g():\n",
    "    print(i)"
   ]
  },
  {
   "cell_type": "markdown",
   "metadata": {},
   "source": [
    "### Tuple (JVM, Groovy, Py)\n",
    "\n",
    "* [groovy tuples](https://mrhaki.blogspot.com/2016/03/groovy-goodness-using-tuples.html)\n",
    "* [tuples in js](https://oli.me.uk/tuples-in-javascript/)"
   ]
  },
  {
   "cell_type": "code",
   "execution_count": 28,
   "metadata": {},
   "outputs": [
    {
     "name": "stdout",
     "output_type": "stream",
     "text": [
      "Spam Eggs\n",
      "Eggs Spam\n"
     ]
    }
   ],
   "source": [
    "%%python\n",
    "#tuple unpacking\n",
    "a = 'Spam'\n",
    "b = 'Eggs'\n",
    "print(a, b)\n",
    "a, b = b, a\n",
    "print(a, b)"
   ]
  },
  {
   "cell_type": "markdown",
   "metadata": {},
   "source": []
  },
  {
   "cell_type": "markdown",
   "metadata": {},
   "source": [
    "### Other collections"
   ]
  },
  {
   "cell_type": "markdown",
   "metadata": {},
   "source": [
    "The Python collections library is great."
   ]
  },
  {
   "cell_type": "code",
   "execution_count": 29,
   "metadata": {},
   "outputs": [
    {
     "name": "stdout",
     "output_type": "stream",
     "text": [
      "0 12\n",
      "1 10\n",
      "2 13\n",
      "3 8\n",
      "4 12\n",
      "5 7\n",
      "6 7\n",
      "7 14\n",
      "8 8\n",
      "9 9\n"
     ]
    }
   ],
   "source": [
    "%%python\n",
    "from collections import Counter\n",
    "from random import randrange\n",
    "import pprint\n",
    "mycounter = Counter()\n",
    "for i in range(100):\n",
    "    random_number = randrange(10)\n",
    "    mycounter[random_number] += 1\n",
    "for i in range(10):\n",
    "    print(i, mycounter[i])"
   ]
  },
  {
   "cell_type": "markdown",
   "metadata": {},
   "source": [
    "## Data Types with Classes"
   ]
  },
  {
   "cell_type": "markdown",
   "metadata": {},
   "source": [
    "With a protocol, Python agrees to respect anything that supports a particular set of methods as if it were a builtin type. (These protocols appear everywhere in Python; we are taking advantage of the mapping and sequence protocols below, to define `__getitem__` and `__len__`, respectively.)"
   ]
  },
  {
   "cell_type": "code",
   "execution_count": 33,
   "metadata": {},
   "outputs": [
    {
     "ename": "TypeError",
     "evalue": "list indices must be integers or slices, not float",
     "output_type": "error",
     "traceback": [
      "\u001b[0;31m---------------------------------------------------------------------------\u001b[0m",
      "\u001b[0;31mTypeError\u001b[0m                                 Traceback (most recent call last)",
      "\u001b[0;32m<ipython-input-32-c3e2c25ca8fa>\u001b[0m in \u001b[0;36m<module>\u001b[0;34m()\u001b[0m\n\u001b[1;32m     14\u001b[0m \u001b[0mbinner\u001b[0m \u001b[0;34m=\u001b[0m \u001b[0mBinner\u001b[0m\u001b[0;34m(\u001b[0m\u001b[0;36m5\u001b[0m\u001b[0;34m,\u001b[0m \u001b[0;36m20\u001b[0m\u001b[0;34m)\u001b[0m\u001b[0;34m\u001b[0m\u001b[0;34m\u001b[0m\u001b[0m\n\u001b[1;32m     15\u001b[0m \u001b[0;32mfor\u001b[0m \u001b[0mi\u001b[0m \u001b[0;32min\u001b[0m \u001b[0mrange\u001b[0m\u001b[0;34m(\u001b[0m\u001b[0;36m0\u001b[0m\u001b[0;34m,\u001b[0m \u001b[0;36m20\u001b[0m\u001b[0;34m)\u001b[0m\u001b[0;34m:\u001b[0m\u001b[0;34m\u001b[0m\u001b[0;34m\u001b[0m\u001b[0m\n\u001b[0;32m---> 16\u001b[0;31m     \u001b[0mbinner\u001b[0m\u001b[0;34m.\u001b[0m\u001b[0madd\u001b[0m\u001b[0;34m(\u001b[0m\u001b[0mi\u001b[0m\u001b[0;34m)\u001b[0m\u001b[0;34m\u001b[0m\u001b[0;34m\u001b[0m\u001b[0m\n\u001b[0m\u001b[1;32m     17\u001b[0m \u001b[0;32mfor\u001b[0m \u001b[0mi\u001b[0m \u001b[0;32min\u001b[0m \u001b[0mrange\u001b[0m\u001b[0;34m(\u001b[0m\u001b[0;36m0\u001b[0m\u001b[0;34m,\u001b[0m \u001b[0mlen\u001b[0m\u001b[0;34m(\u001b[0m\u001b[0mbinner\u001b[0m\u001b[0;34m)\u001b[0m\u001b[0;34m)\u001b[0m\u001b[0;34m:\u001b[0m\u001b[0;34m\u001b[0m\u001b[0;34m\u001b[0m\u001b[0m\n\u001b[1;32m     18\u001b[0m     \u001b[0mprint\u001b[0m\u001b[0;34m(\u001b[0m \u001b[0mi\u001b[0m\u001b[0;34m,\u001b[0m \u001b[0mbinner\u001b[0m\u001b[0;34m[\u001b[0m\u001b[0mi\u001b[0m\u001b[0;34m]\u001b[0m \u001b[0;34m)\u001b[0m\u001b[0;34m\u001b[0m\u001b[0;34m\u001b[0m\u001b[0m\n",
      "\u001b[0;32m<ipython-input-32-c3e2c25ca8fa>\u001b[0m in \u001b[0;36madd\u001b[0;34m(self, value)\u001b[0m\n\u001b[1;32m      6\u001b[0m     \u001b[0;32mdef\u001b[0m \u001b[0madd\u001b[0m\u001b[0;34m(\u001b[0m\u001b[0mself\u001b[0m\u001b[0;34m,\u001b[0m \u001b[0mvalue\u001b[0m\u001b[0;34m)\u001b[0m\u001b[0;34m:\u001b[0m\u001b[0;34m\u001b[0m\u001b[0;34m\u001b[0m\u001b[0m\n\u001b[1;32m      7\u001b[0m         \u001b[0mbin\u001b[0m \u001b[0;34m=\u001b[0m \u001b[0mvalue\u001b[0m \u001b[0;34m/\u001b[0m \u001b[0mself\u001b[0m\u001b[0;34m.\u001b[0m\u001b[0mbinwidth\u001b[0m\u001b[0;34m\u001b[0m\u001b[0;34m\u001b[0m\u001b[0m\n\u001b[0;32m----> 8\u001b[0;31m         \u001b[0mself\u001b[0m\u001b[0;34m.\u001b[0m\u001b[0mbins\u001b[0m\u001b[0;34m[\u001b[0m\u001b[0mbin\u001b[0m\u001b[0;34m]\u001b[0m \u001b[0;34m+=\u001b[0m \u001b[0;36m1\u001b[0m\u001b[0;34m\u001b[0m\u001b[0;34m\u001b[0m\u001b[0m\n\u001b[0m\u001b[1;32m      9\u001b[0m     \u001b[0;32mdef\u001b[0m \u001b[0m__getitem__\u001b[0m\u001b[0;34m(\u001b[0m\u001b[0mself\u001b[0m\u001b[0;34m,\u001b[0m \u001b[0mindex\u001b[0m\u001b[0;34m)\u001b[0m\u001b[0;34m:\u001b[0m\u001b[0;34m\u001b[0m\u001b[0;34m\u001b[0m\u001b[0m\n\u001b[1;32m     10\u001b[0m         \u001b[0;32mreturn\u001b[0m \u001b[0mself\u001b[0m\u001b[0;34m.\u001b[0m\u001b[0mbins\u001b[0m\u001b[0;34m[\u001b[0m\u001b[0mindex\u001b[0m\u001b[0;34m]\u001b[0m\u001b[0;34m\u001b[0m\u001b[0;34m\u001b[0m\u001b[0m\n",
      "\u001b[0;31mTypeError\u001b[0m: list indices must be integers or slices, not float"
     ]
    }
   ],
   "source": [
    "%%python\n",
    "class Binner:\n",
    "    def __init__(self, binwidth, binmax):\n",
    "        self.binwidth, self.binmax = binwidth, binmax\n",
    "        nbins = int(binmax / float(binwidth) + 1)\n",
    "        self.bins = [0] * nbins\n",
    "    def add(self, value):\n",
    "        bin = value / self.binwidth\n",
    "        self.bins[bin] += 1\n",
    "    def __getitem__(self, index):\n",
    "        return self.bins[index]\n",
    "    def __len__(self):\n",
    "        return len(self.bins)\n",
    "\n",
    "binner = Binner(5, 20)\n",
    "for i in range(0, 20):\n",
    "    binner.add(i)\n",
    "for i in range(0, len(binner)):\n",
    "    print( i, binner[i] )"
   ]
  },
  {
   "cell_type": "code",
   "execution_count": 34,
   "metadata": {},
   "outputs": [
    {
     "name": "stdout",
     "output_type": "stream",
     "text": [
      "My toy has no color!!!\n",
      "myToy.color is Blue\n",
      "myToy.color is <class '__main__.Blue'>\n",
      "my toy is red\n"
     ]
    }
   ],
   "source": [
    "%%python\n",
    "#enums in python\n",
    "class           Color : pass\n",
    "class Red      (Color): pass\n",
    "class Yellow   (Color): pass\n",
    "class Blue     (Color): pass\n",
    "\n",
    "class Toy: pass\n",
    "myToy = Toy()\n",
    "myToy.color = \"blue\"  # note we assign a string, not an enum\n",
    "if myToy.color is Color:\n",
    "    pass\n",
    "else:\n",
    "    print(\"My toy has no color!!!\")    # produces:  My toy has no color!!!\n",
    " \n",
    "myToy.color = Blue   # note we use an enum\n",
    "print(\"myToy.color is\", myToy.color.__name__)  # produces: myToy.color is Blue\n",
    "print(\"myToy.color is\", myToy.color)           # produces: myToy.color is <class '__main__.Blue'>\n",
    "if myToy.color is Blue:\n",
    "    myToy.color = Red\n",
    "if myToy.color is Red:\n",
    "    print(\"my toy is red\")   # produces: my toy is red\n",
    "else:\n",
    "    print(\"I don't know what color my toy is.\")"
   ]
  },
  {
   "cell_type": "markdown",
   "metadata": {},
   "source": [
    "## IO Operations"
   ]
  },
  {
   "cell_type": "markdown",
   "metadata": {},
   "source": [
    "* [groovy with java streams](http://eddelbuettel.net/groovy/groovy-io.html)"
   ]
  },
  {
   "cell_type": "code",
   "execution_count": null,
   "metadata": {},
   "outputs": [],
   "source": [
    "//`with` closes the file automatically\n",
    "new File(baseDir,'haiku.txt').withWriter('utf-8') { writer ->\n",
    "    writer.writeLine 'Hello World'\n",
    "}"
   ]
  },
  {
   "cell_type": "code",
   "execution_count": null,
   "metadata": {},
   "outputs": [],
   "source": [
    "//But for such a simple example, using the << operator would have been enough:\n",
    "new File(baseDir,'haiku.txt') << '''Hello World'''"
   ]
  },
  {
   "cell_type": "code",
   "execution_count": null,
   "metadata": {},
   "outputs": [],
   "source": [
    "new File(baseDir, 'haiku.txt').eachLine { line ->\n",
    "    println line\n",
    "}\n",
    "\n",
    "//collect the lines of a text file into a list, you can do:\n",
    "def list = new File(baseDir, 'haiku.txt').collect {it}"
   ]
  },
  {
   "cell_type": "code",
   "execution_count": null,
   "metadata": {},
   "outputs": [],
   "source": [
    "//output stream\n",
    "new File(baseDir,'data.bin').withOutputStream { stream ->\n",
    "    // do something ...\n",
    "}\n",
    "\n",
    "//withInputStream idiom that will take care of closing file connection:\n",
    "new File(baseDir,'haiku.txt').withInputStream { stream ->\n",
    "    // do something ...\n",
    "}"
   ]
  },
  {
   "cell_type": "code",
   "execution_count": null,
   "metadata": {},
   "outputs": [],
   "source": [
    "boolean b = true\n",
    "String message = 'Hello from Groovy'\n",
    "// Serialize data into a file\n",
    "file.withDataOutputStream { out ->\n",
    "    out.writeBoolean(b)\n",
    "    out.writeUTF(message)\n",
    "}\n",
    "// ...\n",
    "// Then read it back\n",
    "file.withDataInputStream { input ->\n",
    "    assert input.readBoolean() == b\n",
    "    assert input.readUTF() == message\n",
    "}"
   ]
  },
  {
   "cell_type": "code",
   "execution_count": null,
   "metadata": {},
   "outputs": [],
   "source": [
    "//find files that match the regex, or just use `.eachFile` for each file, or `eachFileRecurse` to search deeper into subdirectories\n",
    "dir.eachFileMatch(~/.*\\.txt/) { file ->     \n",
    "    println file.name\n",
    "}"
   ]
  },
  {
   "cell_type": "code",
   "execution_count": null,
   "metadata": {},
   "outputs": [],
   "source": [
    "//execute external process\n",
    "def process = \"ls -l\".execute()             \n",
    "println \"Found text ${process.text}\"   "
   ]
  },
  {
   "cell_type": "markdown",
   "metadata": {},
   "source": [
    "Python display directory tree, open files, and execute sub processes."
   ]
  },
  {
   "cell_type": "code",
   "execution_count": null,
   "metadata": {},
   "outputs": [],
   "source": [
    "%%python\n",
    "import os\n",
    "os.listdir(path)"
   ]
  },
  {
   "cell_type": "code",
   "execution_count": 42,
   "metadata": {},
   "outputs": [
    {
     "name": "stdout",
     "output_type": "stream",
     "text": [
      "['Hello', 'World']\n"
     ]
    }
   ],
   "source": [
    "%%python\n",
    "file = open(\"testfile.txt\",\"w\") \n",
    "file.write(\"Hello World\") \n",
    "file.close() \n",
    "\n",
    "with open(\"testfile.txt\", \"r\") as f:\n",
    "    data = f.readlines()\n",
    "    \n",
    "for line in data:\n",
    "    words = line.split()\n",
    "    print( words )"
   ]
  },
  {
   "cell_type": "code",
   "execution_count": 38,
   "metadata": {},
   "outputs": [
    {
     "name": "stdout",
     "output_type": "stream",
     "text": [
      "b''\n"
     ]
    }
   ],
   "source": [
    "%%python\n",
    "import subprocess\n",
    "output = subprocess.check_output('head', shell=True)\n",
    "print(output)"
   ]
  },
  {
   "cell_type": "markdown",
   "metadata": {},
   "source": [
    "## Random useful bits"
   ]
  },
  {
   "cell_type": "code",
   "execution_count": 45,
   "metadata": {},
   "outputs": [
    {
     "ename": "AssertionError",
     "evalue": "you can't do that here!",
     "output_type": "error",
     "traceback": [
      "\u001b[0;31m---------------------------------------------------------------------------\u001b[0m",
      "\u001b[0;31mAssertionError\u001b[0m                            Traceback (most recent call last)",
      "\u001b[0;32m<ipython-input-44-1335db417df4>\u001b[0m in \u001b[0;36m<module>\u001b[0;34m()\u001b[0m\n\u001b[0;32m----> 1\u001b[0;31m \u001b[0;32massert\u001b[0m \u001b[0;32mFalse\u001b[0m\u001b[0;34m,\u001b[0m \u001b[0;34m\"you can't do that here!\"\u001b[0m\u001b[0;34m\u001b[0m\u001b[0;34m\u001b[0m\u001b[0m\n\u001b[0m",
      "\u001b[0;31mAssertionError\u001b[0m: you can't do that here!"
     ]
    }
   ],
   "source": [
    "%%python\n",
    "assert False, \"you can't do that here!\""
   ]
  },
  {
   "cell_type": "code",
   "execution_count": 44,
   "metadata": {},
   "outputs": [
    {
     "ename": "AssertionError",
     "evalue": "",
     "output_type": "error",
     "traceback": [
      "\u001b[0;31m---------------------------------------------------------------------------\u001b[0m",
      "\u001b[0;31mAssertionError\u001b[0m                            Traceback (most recent call last)",
      "\u001b[0;32m<ipython-input-43-6aa249c95d4b>\u001b[0m in \u001b[0;36m<module>\u001b[0;34m()\u001b[0m\n\u001b[1;32m      1\u001b[0m \u001b[0;31m#Worried that you’re getting an empty list?\u001b[0m\u001b[0;34m\u001b[0m\u001b[0;34m\u001b[0m\u001b[0;34m\u001b[0m\u001b[0m\n\u001b[1;32m      2\u001b[0m \u001b[0mx\u001b[0m \u001b[0;34m=\u001b[0m \u001b[0;34m[\u001b[0m\u001b[0;34m]\u001b[0m\u001b[0;34m\u001b[0m\u001b[0;34m\u001b[0m\u001b[0m\n\u001b[0;32m----> 3\u001b[0;31m \u001b[0;32massert\u001b[0m \u001b[0mlen\u001b[0m\u001b[0;34m(\u001b[0m\u001b[0mx\u001b[0m\u001b[0;34m)\u001b[0m\u001b[0;34m\u001b[0m\u001b[0;34m\u001b[0m\u001b[0m\n\u001b[0m",
      "\u001b[0;31mAssertionError\u001b[0m: "
     ]
    }
   ],
   "source": [
    "%%python\n",
    "#Worried that you’re getting an empty list? \n",
    "x = []\n",
    "assert len(x)"
   ]
  },
  {
   "cell_type": "code",
   "execution_count": 46,
   "metadata": {},
   "outputs": [
    {
     "name": "stdout",
     "output_type": "stream",
     "text": [
      "True\n",
      "False\n"
     ]
    }
   ],
   "source": [
    "%%python\n",
    "#any and all\n",
    "x = [ True, False ]\n",
    "print( any(x))\n",
    "print( all(x))"
   ]
  },
  {
   "cell_type": "code",
   "execution_count": 50,
   "metadata": {},
   "outputs": [
    {
     "name": "stdout",
     "output_type": "stream",
     "text": [
      "5 6 7 1 2 3\n"
     ]
    }
   ],
   "source": [
    "%%python\n",
    "#Here, *args assigns all of the positional arguments to a tuple ‘args’, and ‘**kwargs’ assigns all of the keyword arguments to a dictionary ‘kwargs’:\n",
    "def print_me(*args, **kwargs):\n",
    "    print_me(5, 6, 7, test='me', arg2=None)\n",
    "#When a function is called with this notation, the args and kwargs are unpacked appropriately and passed into the function. For example, the function test_call\n",
    "#can be called with a tuple of three args (matching ‘a’, ‘b’, ‘c’):\n",
    "def test_call(a, b, c, x=1, y=2, z=3): print( a, b, c, x, y, z)\n",
    "tuple_in = (5, 6, 7)\n",
    "test_call(*tuple_in)"
   ]
  },
  {
   "cell_type": "code",
   "execution_count": 59,
   "metadata": {},
   "outputs": [],
   "source": [
    "%%python\n",
    "#catch exceptions\n",
    "x=[0,2,4,6]\n",
    "try:\n",
    "    y = x[10]\n",
    "except IndexError:\n",
    "    y = None\n",
    "y"
   ]
  },
  {
   "cell_type": "code",
   "execution_count": 61,
   "metadata": {},
   "outputs": [
    {
     "name": "stdout",
     "output_type": "stream",
     "text": [
      "[0, 1, 2, 'something']\n"
     ]
    },
    {
     "ename": "IndexError",
     "evalue": "list index out of range",
     "output_type": "error",
     "traceback": [
      "\u001b[0;31m---------------------------------------------------------------------------\u001b[0m",
      "\u001b[0;31mIndexError\u001b[0m                                Traceback (most recent call last)",
      "\u001b[0;32m<ipython-input-54-07bd9b959038>\u001b[0m in \u001b[0;36m<module>\u001b[0;34m()\u001b[0m\n\u001b[1;32m      2\u001b[0m \u001b[0mx\u001b[0m \u001b[0;34m=\u001b[0m \u001b[0;34m[\u001b[0m\u001b[0;36m0\u001b[0m\u001b[0;34m,\u001b[0m \u001b[0;36m1\u001b[0m\u001b[0;34m,\u001b[0m \u001b[0;36m2\u001b[0m\u001b[0;34m]\u001b[0m\u001b[0;34m\u001b[0m\u001b[0;34m\u001b[0m\u001b[0m\n\u001b[1;32m      3\u001b[0m \u001b[0;32mtry\u001b[0m\u001b[0;34m:\u001b[0m\u001b[0;34m\u001b[0m\u001b[0;34m\u001b[0m\u001b[0m\n\u001b[0;32m----> 4\u001b[0;31m     \u001b[0my\u001b[0m \u001b[0;34m=\u001b[0m \u001b[0mx\u001b[0m\u001b[0;34m[\u001b[0m\u001b[0;36m5\u001b[0m\u001b[0;34m]\u001b[0m\u001b[0;34m\u001b[0m\u001b[0;34m\u001b[0m\u001b[0m\n\u001b[0m\u001b[1;32m      5\u001b[0m \u001b[0;32mfinally\u001b[0m\u001b[0;34m:\u001b[0m\u001b[0;34m\u001b[0m\u001b[0;34m\u001b[0m\u001b[0m\n\u001b[1;32m      6\u001b[0m     \u001b[0mx\u001b[0m\u001b[0;34m.\u001b[0m\u001b[0mappend\u001b[0m\u001b[0;34m(\u001b[0m\u001b[0;34m'something'\u001b[0m\u001b[0;34m)\u001b[0m\u001b[0;34m\u001b[0m\u001b[0;34m\u001b[0m\u001b[0m\n",
      "\u001b[0;31mIndexError\u001b[0m: list index out of range"
     ]
    }
   ],
   "source": [
    "%%python\n",
    "#The purpose of try/finally is to ensure that something is done, whether or not an exception is raised:\n",
    "x = [0, 1, 2]\n",
    "try:\n",
    "    y = x[5]\n",
    "finally:\n",
    "    x.append('something')\n",
    "    print( x)"
   ]
  },
  {
   "cell_type": "code",
   "execution_count": 62,
   "metadata": {},
   "outputs": [
    {
     "ename": "IndexError",
     "evalue": "list index out of range",
     "output_type": "error",
     "traceback": [
      "\u001b[0;31m---------------------------------------------------------------------------\u001b[0m",
      "\u001b[0;31mIndexError\u001b[0m                                Traceback (most recent call last)",
      "\u001b[0;32m<ipython-input-55-c1a571ecce91>\u001b[0m in \u001b[0;36m<module>\u001b[0;34m()\u001b[0m\n\u001b[1;32m      2\u001b[0m \u001b[0;31m#but it’s a bit cleaner, because the exception doesn’t have to be re-raised and you don’t have to catch a specific exception type\u001b[0m\u001b[0;34m\u001b[0m\u001b[0;34m\u001b[0m\u001b[0;34m\u001b[0m\u001b[0m\n\u001b[1;32m      3\u001b[0m \u001b[0;32mtry\u001b[0m\u001b[0;34m:\u001b[0m\u001b[0;34m\u001b[0m\u001b[0;34m\u001b[0m\u001b[0m\n\u001b[0;32m----> 4\u001b[0;31m     \u001b[0my\u001b[0m \u001b[0;34m=\u001b[0m \u001b[0mx\u001b[0m\u001b[0;34m[\u001b[0m\u001b[0;36m5\u001b[0m\u001b[0;34m]\u001b[0m\u001b[0;34m\u001b[0m\u001b[0;34m\u001b[0m\u001b[0m\n\u001b[0m\u001b[1;32m      5\u001b[0m \u001b[0;32mexcept\u001b[0m \u001b[0mIndexError\u001b[0m\u001b[0;34m:\u001b[0m\u001b[0;34m\u001b[0m\u001b[0;34m\u001b[0m\u001b[0m\n\u001b[1;32m      6\u001b[0m     \u001b[0mx\u001b[0m\u001b[0;34m.\u001b[0m\u001b[0mappend\u001b[0m\u001b[0;34m(\u001b[0m\u001b[0;34m'something'\u001b[0m\u001b[0;34m)\u001b[0m\u001b[0;34m\u001b[0m\u001b[0;34m\u001b[0m\u001b[0m\n",
      "\u001b[0;31mIndexError\u001b[0m: list index out of range"
     ]
    }
   ],
   "source": [
    "%%python\n",
    "#semantically equivalent to this\n",
    "#but it’s a bit cleaner, because the exception doesn’t have to be re-raised and you don’t have to catch a specific exception type\n",
    "try:\n",
    "    y = x[5]\n",
    "except IndexError:\n",
    "    x.append('something')\n",
    "    raise"
   ]
  },
  {
   "cell_type": "code",
   "execution_count": 63,
   "metadata": {},
   "outputs": [
    {
     "data": {
      "text/plain": [
       "[0, 1, 2, 'something', 'something']"
      ]
     },
     "execution_count": 56,
     "metadata": {},
     "output_type": "execute_result"
    }
   ],
   "source": [
    "%%python\n",
    "x"
   ]
  },
  {
   "cell_type": "code",
   "execution_count": null,
   "metadata": {},
   "outputs": [],
   "source": [
    "%%python\n",
    "#Exceptions are just classes that derive from Exception, and you can catch exceptions based on their base classes. So, for example, you can catch most standard errors by catching the StandardError exception, from which e.g. IndexError inherits:\n",
    "print issubclass(IndexError, StandardError)\n",
    "try:\n",
    "    y = x[10]\n",
    "except StandardError:\n",
    "    print( 'CAUGHT EXCEPTION!', str(e))\n",
    "    y = None"
   ]
  },
  {
   "cell_type": "code",
   "execution_count": 64,
   "metadata": {},
   "outputs": [
    {
     "ename": "SyntaxError",
     "evalue": "invalid syntax (<ipython-input-57-4b118fdb119a>, line 2)",
     "output_type": "error",
     "traceback": [
      "\u001b[0;36m  File \u001b[0;32m\"<ipython-input-57-4b118fdb119a>\"\u001b[0;36m, line \u001b[0;32m2\u001b[0m\n\u001b[0;31m    print issubclass(IndexError, StandardError)\u001b[0m\n\u001b[0m                   ^\u001b[0m\n\u001b[0;31mSyntaxError\u001b[0m\u001b[0;31m:\u001b[0m invalid syntax\n"
     ]
    }
   ],
   "source": [
    "%%python\n",
    "#define your own exceptions and exception hierarchies:\n",
    "class MyFavoriteException(Exception):\n",
    "    pass\n",
    "raise MyFavoriteException"
   ]
  },
  {
   "cell_type": "code",
   "execution_count": 66,
   "metadata": {},
   "outputs": [
    {
     "name": "stdout",
     "output_type": "stream",
     "text": [
      "REMOVING MADE IT\n",
      "5 6 None 7\n"
     ]
    }
   ],
   "source": [
    "%%python\n",
    "#function decorators are functions that take functions as arguments, and return other functions. \n",
    "def my_decorator(fn):\n",
    "    def new_fn(*args, **kwargs):\n",
    "        if 'something' in kwargs:\n",
    "            print( 'REMOVING', kwargs['something'])\n",
    "            del kwargs['something']\n",
    "        return fn(*args, **kwargs)\n",
    "    return new_fn\n",
    "#To apply this decorator, use this funny @ syntax:\n",
    "@my_decorator\n",
    "def some_function(a=5, b=6, something=None, c=7):\n",
    "    print( a, b, something, c)\n",
    "#OK, now some_function has been invisibly replaced with the result of my_decorator, which is going to be new_fn. Let’s see the result:\n",
    "some_function(something='MADE IT')"
   ]
  },
  {
   "cell_type": "code",
   "execution_count": 71,
   "metadata": {},
   "outputs": [
    {
     "name": "stdout",
     "output_type": "stream",
     "text": [
      "2.2\n",
      "Guido van Rossum\n"
     ]
    }
   ],
   "source": [
    "%%python\n",
    "#add attributes to functions. (This is why I use them in my testing code sometimes.)\n",
    "def attrs(**kwds):\n",
    "    def decorate(f):\n",
    "        for k in kwds:\n",
    "            setattr(f, k, kwds[k])\n",
    "        return f\n",
    "    return decorate\n",
    "\n",
    "@attrs(versionadded=\"2.2\", author=\"Guido van Rossum\")\n",
    "def mymethod(f):\n",
    "    pass\n",
    "print( mymethod.versionadded)\n",
    "print( mymethod.author)"
   ]
  },
  {
   "cell_type": "code",
   "execution_count": 69,
   "metadata": {},
   "outputs": [
    {
     "name": "stdout",
     "output_type": "stream",
     "text": [
      "IN THE EXPENSIVE FN: 55\n",
      "FOUND IN CACHE; RETURNING\n"
     ]
    },
    {
     "data": {
      "text/plain": [
       "3025"
      ]
     },
     "execution_count": 62,
     "metadata": {},
     "output_type": "execute_result"
    }
   ],
   "source": [
    "%%python\n",
    "#memoize/caching of results\n",
    "def simple_cache(fn):\n",
    "    cache = {}\n",
    "    def new_fn(n):\n",
    "        if n in cache:\n",
    "            print( 'FOUND IN CACHE; RETURNING')\n",
    "            return cache[n]\n",
    "        #otherwise, call function & record value\n",
    "        val = fn(n)\n",
    "        cache[n] = val\n",
    "        return val\n",
    "    return new_fn\n",
    "\n",
    "#Then use this as a decorator to wrap the expensive function:\n",
    "@simple_cache\n",
    "def expensive(n):\n",
    "    print( 'IN THE EXPENSIVE FN:', n)\n",
    "    return n**2\n",
    "#Now, when you call this function twice with the same argument, if will only do the calculation once; the second time, the function call will be intercepted and the cached value will be returned.\n",
    "expensive(55)\n",
    "expensive(55)"
   ]
  },
  {
   "cell_type": "markdown",
   "metadata": {},
   "source": [
    "## References\n",
    "\n",
    "* [docs: groovy](https://groovy-lang.org/groovy-dev-kit.html#Collections-Maps)\n",
    "* [python idioms](https://intermediate-and-advanced-software-carpentry.readthedocs.io/en/latest/index.html)"
   ]
  }
 ],
 "metadata": {
  "kernelspec": {
   "display_name": "Groovy",
   "language": "groovy",
   "name": "groovy"
  },
  "language_info": {
   "codemirror_mode": "groovy",
   "file_extension": ".groovy",
   "mimetype": "",
   "name": "Groovy",
   "nbconverter_exporter": "",
   "version": "2.5.6"
  },
  "toc": {
   "base_numbering": 1,
   "nav_menu": {},
   "number_sections": false,
   "sideBar": false,
   "skip_h1_title": false,
   "title_cell": "Table of Contents",
   "title_sidebar": "Contents",
   "toc_cell": false,
   "toc_position": {},
   "toc_section_display": false,
   "toc_window_display": false
  }
 },
 "nbformat": 4,
 "nbformat_minor": 4
}
