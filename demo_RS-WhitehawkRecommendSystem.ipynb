{
 "cells": [
  {
   "cell_type": "markdown",
   "metadata": {},
   "source": [
    "# Implementing the Whitehawk Recommendation System"
   ]
  },
  {
   "cell_type": "markdown",
   "metadata": {},
   "source": [
    "The Whitehawk Recommendation System is a Knowledge-based hybrid system.  Its development begins with a naive, constraint approach.  As more external data is integrated, the system evolves to include additional approaches, including utility- and case-based.  See the notebook [Recommender Systems and Knowledge-based Selections](https://github.com/WhitehawkCEC/cyber/blob/feature/DSR-77-calculate-questionnaire-indicators/core/decision-engine/src/main/scala/com/whitehawk/decisionengine/notes_RecommenderSystems.ipynb) for a short introduction to these systems and why the Knowledge- / constraint-based approach is the appropriate beginning state for Whitehawk.\n",
    "\n",
    "In this notebook discussion, we will apply theory from the Recommendation System body of literature, as well as add two concepts to extend the theory to meet Whitehawk Exchange needs:\n",
    "\n",
    "First, we will use the term __matching concepts__ to indicate the variables and constraints calculated from raw data (questionnaire or otherwise) that are used to match users to items.  These are _concepts_ because they are defined abstractions that are subject to change.  _Matching concepts_ are different from variables used in recommendation systems which are typically tangible item characteristics, such as price.\n",
    "\n",
    "Second, the term __security score__ is the coverage an organization is provided by implementing Whitehawk Recommendation System package selections.  It is the probability of successfully defending against any security incident, within a particular context (industry, firm size, etc).  The _security score_ is defined on the set [0,1] and is evaluated as 1 minus the probabilty of incurring a successful security incident (internal personnell, internal IT infrastructure, or external attack).  This should be a data-driven statistic that accounts for products, services, policies / guidelines and any other recommendations that Whitehawk identifies as necessary for providing protection.  Importantly, it should be a proxy to external scores, such as BitSight Score, that may be used for assessing an organizations' security."
   ]
  },
  {
   "cell_type": "markdown",
   "metadata": {},
   "source": [
    "# Requirements"
   ]
  },
  {
   "cell_type": "markdown",
   "metadata": {},
   "source": [
    "### Questionnaire requirements\n",
    "\n",
    "There are two requirements for the questionnaire to be flexible: matching concepts must be used for selection, and it must allow for multiple types of users.  The first requirement naturally enables the second.   \n",
    "\n",
    "In the first year of Whitehawk, it was determined that rather than using raw metrics to match customers to products; instead, calculated metrics (matching concepts) should be used to infer abstract variables and constraints.  For instance, instead of using the number of employees as an alias for the general concept of Size, a calculated metric (polynomial) is used consisting of four different quenstionnaire variables:\n",
    "\n",
    "* C (Int)- number of computers the customer owns.\n",
    "* E (Int)- number of employees the customer has.\n",
    "* L (Int)- number of locations the customer has.\n",
    "* U (Int)- number of users the customer has.\n",
    "\n",
    "_The specifics are outlined in [documentation](https://whitehawkcec.atlassian.net/wiki/spaces/WDP/pages/360316939/Customer+Metrics+Indicators)_\n",
    "\n",
    "The matching concepts can evolve, but not be noticable to the user.  Matching concepts are also useful for allowing an _adaptable_ questionnaire for multiple types of users, the second requirement.  Here, it enables a more fluid environment where the qustionnaire is de-coupled from the general concepts and may be changed in response to different user type needs.  An adaptable questionnaire may be more difficult to implement because it requires different questions for each type of user.  However, a separate matching concept can be made for each user type.  In the example of size, above, a separate calculation may be used for the finance industry, instead of healthcare.  Also, as new data sources are integrated, matching concepts can include data from these new sources. "
   ]
  },
  {
   "cell_type": "markdown",
   "metadata": {},
   "source": [
    "### Product selection requirements\n",
    "\n",
    "Product selection is currently performed using a static template.  Multiple tests are performed on this static template to ensure the results of the questionnaire meet the acceptable criteria described by Subject Matter Experts in Advisory Services.  These requirements will evolve as more users interact with them.  Current requirements include the following taken from [solution bundle output tests](https://github.com/WhitehawkCEC/service-bundle-template/blob/master/tests/test_output.py):\n",
    "\n",
    "_within Template_ \n",
    "\n",
    "* [X] the number of rows should equal the number of combination of headers => check_template_rec()\n",
    "* [X] all products should be used => check_template_product_use()\n",
    "\n",
    "_within Bundle (template row)_\n",
    "\n",
    "* [X] number of products should increase (strictly monotonic): Basic, Balanced, Advanced => check_bundle_product_count()\n",
    "* should they be the same?\n",
    "\n",
    "_within Package_\n",
    "\n",
    "* there must be one, and only one, product for each product-category\n",
    "* products cannot be duplicated across product-categories?\n",
    "* ~~product name must be related to scale~~\n",
    "\n",
    "_across Prices_\n",
    "\n",
    "* [X] within bundle, prices should increase: Basic, Balanced, Advanced => check_price_incr()\n",
    "* [X] globally, prices should be reasonable (limited by upper,lower bound) => check_price_limits()"
   ]
  },
  {
   "cell_type": "markdown",
   "metadata": {},
   "source": [
    "# Product Selection\n",
    "\n",
    "The basic implementation steps are addressed in the notebook [Recommender Systems and Knowledge-based Selections](https://github.com/WhitehawkCEC/cyber/blob/feature/DSR-77-calculate-questionnaire-indicators/core/decision-engine/src/main/scala/com/whitehawk/decisionengine/notes_RecommenderSystems.ipynb#Implementation).\n",
    "\n",
    "### Input\n",
    "\n",
    "The input will consist of:\n",
    "\n",
    "* questionnaire results that map to arbitrary matching concepts\n",
    "* product table with rows (products), columns (features / attributes, and matching concepts calculated from these)\n",
    "* scenario of user needs that are chosen by an advisor (basic, balanced, advanced)"
   ]
  },
  {
   "cell_type": "markdown",
   "metadata": {},
   "source": [
    "### Matching concepts and security score\n",
    "\n",
    "The matching concepts include all the variables and constraints necessary to create a consistent recommendation to the Constraint Satistfaction Problem (CSP) (V = Vc ∪ Vprod, D, C = Cr ∪ Cf ∪ Cprod ∪ REQ).  Matching concepts must be categorized by being either:\n",
    "\n",
    "* variable - domain of possibility; all package recommended items' security score within Vc (industry, size) sum to one\n",
    "* constraint - based upon context, used as `if <context>, then <result>`; context information includes: package(basic, balanced, advanced), maturity, ...\n",
    "\n",
    "The security score for all items in recommended-packages, within Vc, must sum to one because by taking Whitehawk Recommendation Systems' recommended steps the user has reduced their probabilty of incurring a successful security incident to a trivial amount."
   ]
  },
  {
   "cell_type": "markdown",
   "metadata": {},
   "source": [
    "### Selection Process\n",
    "\n",
    "These are the steps in the recommendation process:\n",
    "\n",
    "_(before selection)_\n",
    "\n",
    "* define matching concept rules for product table\n",
    "* implement matching concepts in product table\n",
    "\n",
    "_(selection)_\n",
    "\n",
    "* import matching concepts from quetionnaire indicators\n",
    "* transform raw quetionnaire to input data\n",
    "* remove products that are not within variable domains\n",
    "* remove products that do not meet contextual constraints\n",
    "* sort and filter products based on scenario needs"
   ]
  },
  {
   "cell_type": "code",
   "execution_count": null,
   "metadata": {},
   "outputs": [],
   "source": [
    "/*\n",
    "(before selection)\n",
    "define matching concept rules for product table\n",
    "implement matching concepts in product table\n",
    "\n",
    "(selection code)\n",
    "import matching concepts from quetionnaire indicators\n",
    "transform raw quetionnaire to input data\n",
    "perform selection for: basic, balanced, advanced\n",
    "\n",
    "*/"
   ]
  },
  {
   "cell_type": "code",
   "execution_count": null,
   "metadata": {},
   "outputs": [],
   "source": []
  },
  {
   "cell_type": "code",
   "execution_count": null,
   "metadata": {},
   "outputs": [],
   "source": []
  },
  {
   "cell_type": "code",
   "execution_count": null,
   "metadata": {},
   "outputs": [],
   "source": []
  },
  {
   "cell_type": "markdown",
   "metadata": {},
   "source": [
    "_Note:_ section 'Reference: Tablesaw Dataframe' must be run before the below code"
   ]
  },
  {
   "cell_type": "code",
   "execution_count": 43,
   "metadata": {},
   "outputs": [
    {
     "data": {
      "application/vnd.jupyter.widget-view+json": {
       "model_id": "77865474-8bb2-4197-9086-7b063d6141f3",
       "version_major": 2,
       "version_minor": 0
      },
      "method": "display_data"
     },
     "metadata": {},
     "output_type": "display_data"
    }
   ],
   "source": [
    "//products.selectWhere(column(\"Header-Industry\").isEqualTo(\"Healthcare\"))\n",
    "val res_1 = products.selectWhere(column(\"Category\").isEqualTo(\"Antimalware\"))\n",
    "val res_2 = res_1.sortOn(\"-SellingPrice\")\n",
    "res_2.first(1)"
   ]
  },
  {
   "cell_type": "code",
   "execution_count": null,
   "metadata": {},
   "outputs": [],
   "source": []
  },
  {
   "cell_type": "code",
   "execution_count": null,
   "metadata": {},
   "outputs": [],
   "source": []
  },
  {
   "cell_type": "code",
   "execution_count": null,
   "metadata": {},
   "outputs": [],
   "source": []
  },
  {
   "cell_type": "markdown",
   "metadata": {},
   "source": [
    "# Reference: Tablesaw DataFrame \n",
    "\n",
    "[example notebook](http://127.0.0.1:7777/notebooks/doc/groovy/Tablesaw.ipynb)"
   ]
  },
  {
   "cell_type": "code",
   "execution_count": 1,
   "metadata": {},
   "outputs": [
    {
     "data": {
      "application/vnd.jupyter.widget-view+json": {
       "model_id": "72b8c28d-eb17-4393-a55f-441d93f93ff9",
       "version_major": 2,
       "version_minor": 0
      },
      "method": "display_data"
     },
     "metadata": {},
     "output_type": "display_data"
    },
    {
     "name": "stdout",
     "output_type": "stream",
     "text": [
      "Added jars: [commons-collections-3.2.2.jar, fastutil-8.1.1.jar, jsr305-1.3.9.jar, xchart-3.5.0.jar, opencsv-4.1.jar, filters-2.0.235.jar, commons-text-1.1.jar, gson-2.8.2.jar, smile-core-1.4.0.jar, tablesaw-plot-0.11.4.jar, guava-23.0.jar, commons-math3-3.6.1.jar, error_prone_annotations-2.0.18.jar, animal-sniffer-annotations-1.14.jar, tablesaw-beakerx-0.11.4.jar, VectorGraphics2D-0.11.jar, swing-worker-1.1.jar, smile-math-1.4.0.jar, tablesaw-core-0.11.4.jar, snappy-0.4.jar, tablesaw-smile-0.11.4.jar, commons-beanutils-1.9.3.jar, swingx-1.6.1.jar, commons-logging-1.2.jar, smile-graph-1.4.0.jar, jsoup-1.11.2.jar, RoaringBitmap-0.6.51.jar, smile-plot-1.4.0.jar, slf4j-api-1.7.21.jar, commons-lang3-3.6.jar, smile-data-1.4.0.jar, j2objc-annotations-1.1.jar]\n"
     ]
    }
   ],
   "source": [
    "%%classpath add mvn\n",
    "tech.tablesaw tablesaw-plot 0.11.4\n",
    "tech.tablesaw tablesaw-smile 0.11.4\n",
    "tech.tablesaw tablesaw-beakerx 0.11.4"
   ]
  },
  {
   "cell_type": "code",
   "execution_count": 2,
   "metadata": {},
   "outputs": [
    {
     "data": {
      "text/plain": [
       "null"
      ]
     },
     "execution_count": 2,
     "metadata": {},
     "output_type": "execute_result"
    }
   ],
   "source": [
    "%import tech.tablesaw.aggregate.*\n",
    "%import tech.tablesaw.api.*\n",
    "%import tech.tablesaw.api.ml.clustering.*\n",
    "%import tech.tablesaw.api.ml.regression.*\n",
    "%import tech.tablesaw.columns.*\n",
    "\n",
    "// display Tablesaw tables with BeakerX table display widget\n",
    "tech.tablesaw.beakerx.TablesawDisplayer.register()"
   ]
  },
  {
   "cell_type": "code",
   "execution_count": 8,
   "metadata": {},
   "outputs": [
    {
     "data": {
      "application/vnd.jupyter.widget-view+json": {
       "model_id": "a940c5e1-4e37-4f29-a323-25bd1cb4b78e",
       "version_major": 2,
       "version_minor": 0
      },
      "method": "display_data"
     },
     "metadata": {},
     "output_type": "display_data"
    }
   ],
   "source": [
    "val products = Table.read().csv(\"./dataCombine.csv\")\n",
    "products.first(5)"
   ]
  },
  {
   "cell_type": "code",
   "execution_count": 7,
   "metadata": {},
   "outputs": [
    {
     "data": {
      "text/plain": [
       "6597 rows X 23 cols"
      ]
     },
     "execution_count": 7,
     "metadata": {},
     "output_type": "execute_result"
    }
   ],
   "source": [
    "products.structure()\n",
    "products.columnNames()\n",
    "products.shape()"
   ]
  },
  {
   "cell_type": "code",
   "execution_count": 11,
   "metadata": {},
   "outputs": [
    {
     "data": {
      "application/vnd.jupyter.widget-view+json": {
       "model_id": "f074dfb5-72c5-488c-8113-822641d5596c",
       "version_major": 2,
       "version_minor": 0
      },
      "method": "display_data"
     },
     "metadata": {},
     "output_type": "display_data"
    }
   ],
   "source": [
    "import tech.tablesaw.api.QueryHelper.column\n",
    "products.structure().selectWhere(column(\"Column Type\").isEqualTo(\"FLOAT\"))"
   ]
  },
  {
   "cell_type": "code",
   "execution_count": null,
   "metadata": {},
   "outputs": [],
   "source": [
    "/*Mapping operations\n",
    "def month = tornadoes.dateColumn(\"Type\").month()\n",
    "tornadoes.addColumn(month);\n",
    "tornadoes.columnNames()\n",
    "*/"
   ]
  },
  {
   "cell_type": "code",
   "execution_count": 16,
   "metadata": {},
   "outputs": [
    {
     "data": {
      "application/vnd.jupyter.widget-view+json": {
       "model_id": "c49d84b4-669a-4771-9e86-a9e109bf7f98",
       "version_major": 2,
       "version_minor": 0
      },
      "method": "display_data"
     },
     "metadata": {},
     "output_type": "display_data"
    }
   ],
   "source": [
    "//Sorting by column\n",
    "products.sortOn(\"-SellingPrice\").first(5)\n",
    "products.column(\"SellingPrice\").summary()"
   ]
  },
  {
   "cell_type": "code",
   "execution_count": 18,
   "metadata": {},
   "outputs": [
    {
     "data": {
      "application/vnd.jupyter.widget-view+json": {
       "model_id": "1dad7c19-1e23-4517-9488-eaf73eaa0214",
       "version_major": 2,
       "version_minor": 0
      },
      "method": "display_data"
     },
     "metadata": {},
     "output_type": "display_data"
    }
   ],
   "source": [
    "//Performing totals and sub-totals\n",
    "def priceByScale = products.median(\"SellingPrice\").by(\"Type\")\n",
    "priceByScale.setName(\"Median price by Type\")\n",
    "priceByScale"
   ]
  },
  {
   "cell_type": "code",
   "execution_count": 27,
   "metadata": {},
   "outputs": [
    {
     "data": {
      "application/vnd.jupyter.widget-view+json": {
       "model_id": "9e70aa4f-d756-4d18-9e27-e87536dd6e77",
       "version_major": 2,
       "version_minor": 0
      },
      "method": "display_data"
     },
     "metadata": {},
     "output_type": "display_data"
    }
   ],
   "source": [
    "//Cross Tabs\n",
    "CrossTab.xCount(products, products.column(\"Category\"), products.column(\"Type\"))"
   ]
  },
  {
   "cell_type": "code",
   "execution_count": null,
   "metadata": {},
   "outputs": [],
   "source": []
  },
  {
   "cell_type": "code",
   "execution_count": null,
   "metadata": {},
   "outputs": [],
   "source": []
  },
  {
   "cell_type": "code",
   "execution_count": null,
   "metadata": {},
   "outputs": [],
   "source": []
  }
 ],
 "metadata": {
  "kernelspec": {
   "display_name": "Scala",
   "language": "scala",
   "name": "scala"
  },
  "language_info": {
   "codemirror_mode": "text/x-scala",
   "file_extension": ".scala",
   "mimetype": "",
   "name": "Scala",
   "nbconverter_exporter": "",
   "version": "2.11.12"
  }
 },
 "nbformat": 4,
 "nbformat_minor": 2
}
